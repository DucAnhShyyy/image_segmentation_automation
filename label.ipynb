{
 "cells": [
  {
   "cell_type": "code",
   "execution_count": 1,
   "id": "ef80a6d3",
   "metadata": {},
   "outputs": [
    {
     "name": "stderr",
     "output_type": "stream",
     "text": [
      "c:\\Users\\admin\\OneDrive - National Economics University\\Desktop\\Các Folder\\Label\\auto_label_env\\lib\\site-packages\\tqdm\\auto.py:21: TqdmWarning: IProgress not found. Please update jupyter and ipywidgets. See https://ipywidgets.readthedocs.io/en/stable/user_install.html\n",
      "  from .autonotebook import tqdm as notebook_tqdm\n"
     ]
    },
    {
     "name": "stdout",
     "output_type": "stream",
     "text": [
      "Creating new Ultralytics Settings v0.0.6 file  \n",
      "View Ultralytics Settings with 'yolo settings' or at 'C:\\Users\\admin\\AppData\\Roaming\\Ultralytics\\settings.json'\n",
      "Update Settings with 'yolo settings key=value', i.e. 'yolo settings runs_dir=path/to/dir'. For help see https://docs.ultralytics.com/quickstart/#ultralytics-settings.\n"
     ]
    }
   ],
   "source": [
    "import os\n",
    "import json\n",
    "import numpy as np\n",
    "import cv2\n",
    "from tqdm import tqdm\n",
    "import kagglehub\n",
    "from ultralytics import FastSAM\n",
    "from PIL import Image"
   ]
  },
  {
   "cell_type": "code",
   "execution_count": 2,
   "id": "c4bae4cd",
   "metadata": {},
   "outputs": [
    {
     "name": "stdout",
     "output_type": "stream",
     "text": [
      "Downloading from https://www.kaggle.com/api/v1/datasets/download/pavansanagapati/images-dataset?dataset_version_number=1...\n"
     ]
    },
    {
     "name": "stderr",
     "output_type": "stream",
     "text": [
      "100%|██████████| 1.01G/1.01G [14:41<00:00, 1.24MB/s]"
     ]
    },
    {
     "name": "stdout",
     "output_type": "stream",
     "text": [
      "Extracting files...\n"
     ]
    },
    {
     "name": "stderr",
     "output_type": "stream",
     "text": [
      "\n"
     ]
    },
    {
     "name": "stdout",
     "output_type": "stream",
     "text": [
      "Dataset path: C:\\Users\\admin\\.cache\\kagglehub\\datasets\\pavansanagapati\\images-dataset\\versions\\1\n"
     ]
    }
   ],
   "source": [
    "# 1️.Tải dataset từ Kaggle\n",
    "path = kagglehub.dataset_download(\"pavansanagapati/images-dataset\")\n",
    "print(\"Dataset path:\", path)"
   ]
  },
  {
   "cell_type": "code",
   "execution_count": 3,
   "id": "8b86a800",
   "metadata": {},
   "outputs": [
    {
     "name": "stdout",
     "output_type": "stream",
     "text": [
      "\u001b[KDownloading https://github.com/ultralytics/assets/releases/download/v8.3.0/FastSAM-x.pt to 'FastSAM-x.pt': 100% ━━━━━━━━━━━━ 138.3MB 2.8MB/s 48.9s 48.8s<0.1s48s\n"
     ]
    }
   ],
   "source": [
    "# 2️.Load model segmentation tự động\n",
    "model = FastSAM('FastSAM-x.pt')  \n",
    "# model nhẹ, chạy CPU được"
   ]
  },
  {
   "cell_type": "code",
   "execution_count": 4,
   "id": "9eca4d83",
   "metadata": {},
   "outputs": [],
   "source": [
    "# 3️.Định nghĩa thư mục chứa ảnh\n",
    "root_dir = os.path.join(path, \"data\")  \n",
    "# Dataset có cấu trúc /data/<class>/\n",
    "output_dir = os.path.join(path, \"labels_auto\")\n",
    "os.makedirs(output_dir, exist_ok=True)"
   ]
  },
  {
   "cell_type": "code",
   "execution_count": 5,
   "id": "18b8225f",
   "metadata": {},
   "outputs": [],
   "source": [
    "# 4️.Hàm convert mask -> polygon (Labelme format)\n",
    "def mask_to_polygon(mask):\n",
    "    contours, _ = cv2.findContours(mask.astype(np.uint8), cv2.RETR_EXTERNAL, cv2.CHAIN_APPROX_SIMPLE)\n",
    "    polygons = []\n",
    "    for contour in contours:\n",
    "        contour = contour.squeeze()\n",
    "        if len(contour.shape) == 2:\n",
    "            polygons.append(contour.flatten().tolist())\n",
    "    return polygons"
   ]
  },
  {
   "cell_type": "code",
   "execution_count": 6,
   "id": "c11fab68",
   "metadata": {},
   "outputs": [
    {
     "name": "stdout",
     "output_type": "stream",
     "text": [
      "\n",
      " Processing class: bike\n"
     ]
    },
    {
     "name": "stderr",
     "output_type": "stream",
     "text": [
      "  0%|          | 0/365 [00:00<?, ?it/s]"
     ]
    },
    {
     "name": "stdout",
     "output_type": "stream",
     "text": [
      "\n",
      "image 1/1 C:\\Users\\admin\\.cache\\kagglehub\\datasets\\pavansanagapati\\images-dataset\\versions\\1\\data\\bike\\bike_001.bmp: 384x512 31 objects, 1698.9ms\n",
      "Speed: 97.3ms preprocess, 1698.9ms inference, 124.5ms postprocess per image at shape (1, 3, 384, 512)\n"
     ]
    },
    {
     "name": "stderr",
     "output_type": "stream",
     "text": [
      "  0%|          | 1/365 [00:07<43:07,  7.11s/it]"
     ]
    },
    {
     "name": "stdout",
     "output_type": "stream",
     "text": [
      "\n",
      "image 1/1 C:\\Users\\admin\\.cache\\kagglehub\\datasets\\pavansanagapati\\images-dataset\\versions\\1\\data\\bike\\bike_002.bmp: 384x512 14 objects, 1466.9ms\n",
      "Speed: 57.4ms preprocess, 1466.9ms inference, 35.0ms postprocess per image at shape (1, 3, 384, 512)\n"
     ]
    },
    {
     "name": "stderr",
     "output_type": "stream",
     "text": [
      "  1%|          | 2/365 [00:08<23:36,  3.90s/it]"
     ]
    },
    {
     "name": "stdout",
     "output_type": "stream",
     "text": [
      "\n",
      "image 1/1 C:\\Users\\admin\\.cache\\kagglehub\\datasets\\pavansanagapati\\images-dataset\\versions\\1\\data\\bike\\bike_003.bmp: 384x512 12 objects, 1385.6ms\n",
      "Speed: 2.6ms preprocess, 1385.6ms inference, 34.7ms postprocess per image at shape (1, 3, 384, 512)\n"
     ]
    },
    {
     "name": "stderr",
     "output_type": "stream",
     "text": [
      "  1%|          | 3/365 [00:10<16:49,  2.79s/it]"
     ]
    },
    {
     "name": "stdout",
     "output_type": "stream",
     "text": [
      "\n",
      "image 1/1 C:\\Users\\admin\\.cache\\kagglehub\\datasets\\pavansanagapati\\images-dataset\\versions\\1\\data\\bike\\bike_004.bmp: 384x512 29 objects, 1406.2ms\n",
      "Speed: 2.0ms preprocess, 1406.2ms inference, 98.2ms postprocess per image at shape (1, 3, 384, 512)\n"
     ]
    },
    {
     "name": "stderr",
     "output_type": "stream",
     "text": [
      "  1%|          | 4/365 [00:11<13:55,  2.31s/it]"
     ]
    },
    {
     "name": "stdout",
     "output_type": "stream",
     "text": [
      "\n",
      "image 1/1 C:\\Users\\admin\\.cache\\kagglehub\\datasets\\pavansanagapati\\images-dataset\\versions\\1\\data\\bike\\bike_005.bmp: 384x512 23 objects, 1309.6ms\n",
      "Speed: 2.6ms preprocess, 1309.6ms inference, 54.6ms postprocess per image at shape (1, 3, 384, 512)\n"
     ]
    },
    {
     "name": "stderr",
     "output_type": "stream",
     "text": [
      "  1%|▏         | 5/365 [00:13<11:56,  1.99s/it]"
     ]
    },
    {
     "name": "stdout",
     "output_type": "stream",
     "text": [
      "\n",
      "image 1/1 C:\\Users\\admin\\.cache\\kagglehub\\datasets\\pavansanagapati\\images-dataset\\versions\\1\\data\\bike\\bike_006.bmp: 384x512 24 objects, 1796.3ms\n",
      "Speed: 1.7ms preprocess, 1796.3ms inference, 81.0ms postprocess per image at shape (1, 3, 384, 512)\n"
     ]
    },
    {
     "name": "stderr",
     "output_type": "stream",
     "text": [
      "  2%|▏         | 6/365 [00:15<11:51,  1.98s/it]"
     ]
    },
    {
     "name": "stdout",
     "output_type": "stream",
     "text": [
      "\n",
      "image 1/1 C:\\Users\\admin\\.cache\\kagglehub\\datasets\\pavansanagapati\\images-dataset\\versions\\1\\data\\bike\\bike_007.bmp: 384x512 28 objects, 2239.6ms\n",
      "Speed: 63.2ms preprocess, 2239.6ms inference, 99.9ms postprocess per image at shape (1, 3, 384, 512)\n"
     ]
    },
    {
     "name": "stderr",
     "output_type": "stream",
     "text": [
      "  2%|▏         | 7/365 [00:17<12:50,  2.15s/it]"
     ]
    },
    {
     "name": "stdout",
     "output_type": "stream",
     "text": [
      "\n",
      "image 1/1 C:\\Users\\admin\\.cache\\kagglehub\\datasets\\pavansanagapati\\images-dataset\\versions\\1\\data\\bike\\bike_008.bmp: 384x512 58 objects, 2258.5ms\n",
      "Speed: 2.6ms preprocess, 2258.5ms inference, 303.1ms postprocess per image at shape (1, 3, 384, 512)\n"
     ]
    },
    {
     "name": "stderr",
     "output_type": "stream",
     "text": [
      "  2%|▏         | 8/365 [00:20<13:46,  2.32s/it]"
     ]
    },
    {
     "name": "stdout",
     "output_type": "stream",
     "text": [
      "\n",
      "image 1/1 C:\\Users\\admin\\.cache\\kagglehub\\datasets\\pavansanagapati\\images-dataset\\versions\\1\\data\\bike\\bike_009.bmp: 384x512 15 objects, 1652.6ms\n",
      "Speed: 5.9ms preprocess, 1652.6ms inference, 47.2ms postprocess per image at shape (1, 3, 384, 512)\n"
     ]
    },
    {
     "name": "stderr",
     "output_type": "stream",
     "text": [
      "  2%|▏         | 9/365 [00:22<12:43,  2.14s/it]"
     ]
    },
    {
     "name": "stdout",
     "output_type": "stream",
     "text": [
      "\n",
      "image 1/1 C:\\Users\\admin\\.cache\\kagglehub\\datasets\\pavansanagapati\\images-dataset\\versions\\1\\data\\bike\\bike_010.bmp: 384x512 19 objects, 1530.8ms\n",
      "Speed: 17.6ms preprocess, 1530.8ms inference, 49.9ms postprocess per image at shape (1, 3, 384, 512)\n"
     ]
    },
    {
     "name": "stderr",
     "output_type": "stream",
     "text": [
      "  3%|▎         | 10/365 [00:23<11:48,  2.00s/it]"
     ]
    },
    {
     "name": "stdout",
     "output_type": "stream",
     "text": [
      "\n",
      "image 1/1 C:\\Users\\admin\\.cache\\kagglehub\\datasets\\pavansanagapati\\images-dataset\\versions\\1\\data\\bike\\bike_011.bmp: 384x512 39 objects, 1343.5ms\n",
      "Speed: 2.7ms preprocess, 1343.5ms inference, 94.7ms postprocess per image at shape (1, 3, 384, 512)\n"
     ]
    },
    {
     "name": "stderr",
     "output_type": "stream",
     "text": [
      "  3%|▎         | 11/365 [00:25<10:54,  1.85s/it]"
     ]
    },
    {
     "name": "stdout",
     "output_type": "stream",
     "text": [
      "\n",
      "image 1/1 C:\\Users\\admin\\.cache\\kagglehub\\datasets\\pavansanagapati\\images-dataset\\versions\\1\\data\\bike\\bike_012.bmp: 384x512 25 objects, 1563.7ms\n",
      "Speed: 41.9ms preprocess, 1563.7ms inference, 61.3ms postprocess per image at shape (1, 3, 384, 512)\n"
     ]
    },
    {
     "name": "stderr",
     "output_type": "stream",
     "text": [
      "  3%|▎         | 12/365 [00:27<10:39,  1.81s/it]"
     ]
    },
    {
     "name": "stdout",
     "output_type": "stream",
     "text": [
      "\n",
      "image 1/1 C:\\Users\\admin\\.cache\\kagglehub\\datasets\\pavansanagapati\\images-dataset\\versions\\1\\data\\bike\\bike_013.bmp: 384x512 23 objects, 1468.1ms\n",
      "Speed: 3.8ms preprocess, 1468.1ms inference, 59.6ms postprocess per image at shape (1, 3, 384, 512)\n"
     ]
    },
    {
     "name": "stderr",
     "output_type": "stream",
     "text": [
      "  4%|▎         | 13/365 [00:28<10:16,  1.75s/it]"
     ]
    },
    {
     "name": "stdout",
     "output_type": "stream",
     "text": [
      "\n",
      "image 1/1 C:\\Users\\admin\\.cache\\kagglehub\\datasets\\pavansanagapati\\images-dataset\\versions\\1\\data\\bike\\bike_014.bmp: 384x512 24 objects, 1501.2ms\n",
      "Speed: 7.6ms preprocess, 1501.2ms inference, 65.9ms postprocess per image at shape (1, 3, 384, 512)\n"
     ]
    },
    {
     "name": "stderr",
     "output_type": "stream",
     "text": [
      "  4%|▍         | 14/365 [00:30<10:02,  1.72s/it]"
     ]
    },
    {
     "name": "stdout",
     "output_type": "stream",
     "text": [
      "\n",
      "image 1/1 C:\\Users\\admin\\.cache\\kagglehub\\datasets\\pavansanagapati\\images-dataset\\versions\\1\\data\\bike\\bike_015.bmp: 384x512 38 objects, 1593.1ms\n",
      "Speed: 2.5ms preprocess, 1593.1ms inference, 87.6ms postprocess per image at shape (1, 3, 384, 512)\n"
     ]
    },
    {
     "name": "stderr",
     "output_type": "stream",
     "text": [
      "  4%|▍         | 15/365 [00:32<10:04,  1.73s/it]"
     ]
    },
    {
     "name": "stdout",
     "output_type": "stream",
     "text": [
      "\n",
      "image 1/1 C:\\Users\\admin\\.cache\\kagglehub\\datasets\\pavansanagapati\\images-dataset\\versions\\1\\data\\bike\\bike_016.bmp: 384x512 23 objects, 1479.5ms\n",
      "Speed: 3.5ms preprocess, 1479.5ms inference, 67.2ms postprocess per image at shape (1, 3, 384, 512)\n"
     ]
    },
    {
     "name": "stderr",
     "output_type": "stream",
     "text": [
      "  4%|▍         | 16/365 [00:33<09:49,  1.69s/it]"
     ]
    },
    {
     "name": "stdout",
     "output_type": "stream",
     "text": [
      "\n",
      "image 1/1 C:\\Users\\admin\\.cache\\kagglehub\\datasets\\pavansanagapati\\images-dataset\\versions\\1\\data\\bike\\bike_017.bmp: 384x512 21 objects, 1490.0ms\n",
      "Speed: 3.0ms preprocess, 1490.0ms inference, 53.4ms postprocess per image at shape (1, 3, 384, 512)\n"
     ]
    },
    {
     "name": "stderr",
     "output_type": "stream",
     "text": [
      "  5%|▍         | 17/365 [00:35<09:43,  1.68s/it]"
     ]
    },
    {
     "name": "stdout",
     "output_type": "stream",
     "text": [
      "\n",
      "image 1/1 C:\\Users\\admin\\.cache\\kagglehub\\datasets\\pavansanagapati\\images-dataset\\versions\\1\\data\\bike\\bike_018.bmp: 384x512 24 objects, 1760.7ms\n",
      "Speed: 4.6ms preprocess, 1760.7ms inference, 54.0ms postprocess per image at shape (1, 3, 384, 512)\n"
     ]
    },
    {
     "name": "stderr",
     "output_type": "stream",
     "text": [
      "  5%|▍         | 18/365 [00:38<12:12,  2.11s/it]"
     ]
    },
    {
     "name": "stdout",
     "output_type": "stream",
     "text": [
      "\n",
      "image 1/1 C:\\Users\\admin\\.cache\\kagglehub\\datasets\\pavansanagapati\\images-dataset\\versions\\1\\data\\bike\\bike_019.bmp: 384x512 26 objects, 1649.7ms\n",
      "Speed: 8.9ms preprocess, 1649.7ms inference, 75.2ms postprocess per image at shape (1, 3, 384, 512)\n"
     ]
    },
    {
     "name": "stderr",
     "output_type": "stream",
     "text": [
      "  5%|▌         | 19/365 [00:40<12:11,  2.12s/it]"
     ]
    },
    {
     "name": "stdout",
     "output_type": "stream",
     "text": [
      "\n",
      "image 1/1 C:\\Users\\admin\\.cache\\kagglehub\\datasets\\pavansanagapati\\images-dataset\\versions\\1\\data\\bike\\bike_020.bmp: 384x512 36 objects, 1960.5ms\n",
      "Speed: 2.8ms preprocess, 1960.5ms inference, 133.7ms postprocess per image at shape (1, 3, 384, 512)\n"
     ]
    },
    {
     "name": "stderr",
     "output_type": "stream",
     "text": [
      "  5%|▌         | 20/365 [00:42<12:17,  2.14s/it]"
     ]
    },
    {
     "name": "stdout",
     "output_type": "stream",
     "text": [
      "\n",
      "image 1/1 C:\\Users\\admin\\.cache\\kagglehub\\datasets\\pavansanagapati\\images-dataset\\versions\\1\\data\\bike\\bike_021.bmp: 384x512 30 objects, 1550.9ms\n",
      "Speed: 2.9ms preprocess, 1550.9ms inference, 82.6ms postprocess per image at shape (1, 3, 384, 512)\n"
     ]
    },
    {
     "name": "stderr",
     "output_type": "stream",
     "text": [
      "  6%|▌         | 21/365 [00:45<12:42,  2.22s/it]"
     ]
    },
    {
     "name": "stdout",
     "output_type": "stream",
     "text": [
      "\n",
      "image 1/1 C:\\Users\\admin\\.cache\\kagglehub\\datasets\\pavansanagapati\\images-dataset\\versions\\1\\data\\bike\\bike_022.bmp: 384x512 20 objects, 1624.8ms\n",
      "Speed: 3.7ms preprocess, 1624.8ms inference, 63.5ms postprocess per image at shape (1, 3, 384, 512)\n"
     ]
    },
    {
     "name": "stderr",
     "output_type": "stream",
     "text": [
      "  6%|▌         | 22/365 [00:46<11:53,  2.08s/it]"
     ]
    },
    {
     "name": "stdout",
     "output_type": "stream",
     "text": [
      "\n",
      "image 1/1 C:\\Users\\admin\\.cache\\kagglehub\\datasets\\pavansanagapati\\images-dataset\\versions\\1\\data\\bike\\bike_023.bmp: 384x512 18 objects, 1900.7ms\n",
      "Speed: 2.9ms preprocess, 1900.7ms inference, 44.3ms postprocess per image at shape (1, 3, 384, 512)\n"
     ]
    },
    {
     "name": "stderr",
     "output_type": "stream",
     "text": [
      "  6%|▋         | 23/365 [00:48<11:47,  2.07s/it]"
     ]
    },
    {
     "name": "stdout",
     "output_type": "stream",
     "text": [
      "\n",
      "image 1/1 C:\\Users\\admin\\.cache\\kagglehub\\datasets\\pavansanagapati\\images-dataset\\versions\\1\\data\\bike\\bike_024.bmp: 384x512 23 objects, 1347.1ms\n",
      "Speed: 7.9ms preprocess, 1347.1ms inference, 61.6ms postprocess per image at shape (1, 3, 384, 512)\n"
     ]
    },
    {
     "name": "stderr",
     "output_type": "stream",
     "text": [
      "  7%|▋         | 24/365 [00:50<10:45,  1.89s/it]"
     ]
    },
    {
     "name": "stdout",
     "output_type": "stream",
     "text": [
      "\n",
      "image 1/1 C:\\Users\\admin\\.cache\\kagglehub\\datasets\\pavansanagapati\\images-dataset\\versions\\1\\data\\bike\\bike_025.bmp: 384x512 26 objects, 1338.6ms\n",
      "Speed: 1.9ms preprocess, 1338.6ms inference, 62.6ms postprocess per image at shape (1, 3, 384, 512)\n"
     ]
    },
    {
     "name": "stderr",
     "output_type": "stream",
     "text": [
      "  7%|▋         | 25/365 [00:51<09:59,  1.76s/it]"
     ]
    },
    {
     "name": "stdout",
     "output_type": "stream",
     "text": [
      "\n",
      "image 1/1 C:\\Users\\admin\\.cache\\kagglehub\\datasets\\pavansanagapati\\images-dataset\\versions\\1\\data\\bike\\bike_026.bmp: 384x512 10 objects, 1332.3ms\n",
      "Speed: 2.5ms preprocess, 1332.3ms inference, 25.5ms postprocess per image at shape (1, 3, 384, 512)\n"
     ]
    },
    {
     "name": "stderr",
     "output_type": "stream",
     "text": [
      "  7%|▋         | 26/365 [00:53<09:21,  1.66s/it]"
     ]
    },
    {
     "name": "stdout",
     "output_type": "stream",
     "text": [
      "\n",
      "image 1/1 C:\\Users\\admin\\.cache\\kagglehub\\datasets\\pavansanagapati\\images-dataset\\versions\\1\\data\\bike\\bike_027.bmp: 384x512 23 objects, 1307.0ms\n",
      "Speed: 3.9ms preprocess, 1307.0ms inference, 65.4ms postprocess per image at shape (1, 3, 384, 512)\n"
     ]
    },
    {
     "name": "stderr",
     "output_type": "stream",
     "text": [
      "  7%|▋         | 27/365 [00:54<08:55,  1.59s/it]"
     ]
    },
    {
     "name": "stdout",
     "output_type": "stream",
     "text": [
      "\n",
      "image 1/1 C:\\Users\\admin\\.cache\\kagglehub\\datasets\\pavansanagapati\\images-dataset\\versions\\1\\data\\bike\\bike_028.bmp: 384x512 21 objects, 1326.3ms\n",
      "Speed: 2.0ms preprocess, 1326.3ms inference, 50.6ms postprocess per image at shape (1, 3, 384, 512)\n"
     ]
    },
    {
     "name": "stderr",
     "output_type": "stream",
     "text": [
      "  8%|▊         | 28/365 [00:56<08:43,  1.55s/it]"
     ]
    },
    {
     "name": "stdout",
     "output_type": "stream",
     "text": [
      "\n",
      "image 1/1 C:\\Users\\admin\\.cache\\kagglehub\\datasets\\pavansanagapati\\images-dataset\\versions\\1\\data\\bike\\bike_029.bmp: 384x512 36 objects, 1422.8ms\n",
      "Speed: 3.2ms preprocess, 1422.8ms inference, 88.6ms postprocess per image at shape (1, 3, 384, 512)\n"
     ]
    },
    {
     "name": "stderr",
     "output_type": "stream",
     "text": [
      "  8%|▊         | 29/365 [00:57<08:45,  1.56s/it]"
     ]
    },
    {
     "name": "stdout",
     "output_type": "stream",
     "text": [
      "\n",
      "image 1/1 C:\\Users\\admin\\.cache\\kagglehub\\datasets\\pavansanagapati\\images-dataset\\versions\\1\\data\\bike\\bike_030.bmp: 384x512 33 objects, 1358.3ms\n",
      "Speed: 4.0ms preprocess, 1358.3ms inference, 79.9ms postprocess per image at shape (1, 3, 384, 512)\n"
     ]
    },
    {
     "name": "stderr",
     "output_type": "stream",
     "text": [
      "  8%|▊         | 30/365 [00:59<08:37,  1.54s/it]"
     ]
    },
    {
     "name": "stdout",
     "output_type": "stream",
     "text": [
      "\n",
      "image 1/1 C:\\Users\\admin\\.cache\\kagglehub\\datasets\\pavansanagapati\\images-dataset\\versions\\1\\data\\bike\\bike_031.bmp: 384x512 17 objects, 1436.7ms\n",
      "Speed: 8.7ms preprocess, 1436.7ms inference, 43.8ms postprocess per image at shape (1, 3, 384, 512)\n"
     ]
    },
    {
     "name": "stderr",
     "output_type": "stream",
     "text": [
      "  8%|▊         | 31/365 [01:00<08:34,  1.54s/it]"
     ]
    },
    {
     "name": "stdout",
     "output_type": "stream",
     "text": [
      "\n",
      "image 1/1 C:\\Users\\admin\\.cache\\kagglehub\\datasets\\pavansanagapati\\images-dataset\\versions\\1\\data\\bike\\bike_032.bmp: 384x512 18 objects, 1302.4ms\n",
      "Speed: 4.2ms preprocess, 1302.4ms inference, 39.2ms postprocess per image at shape (1, 3, 384, 512)\n"
     ]
    },
    {
     "name": "stderr",
     "output_type": "stream",
     "text": [
      "  9%|▉         | 32/365 [01:02<08:20,  1.50s/it]"
     ]
    },
    {
     "name": "stdout",
     "output_type": "stream",
     "text": [
      "\n",
      "image 1/1 C:\\Users\\admin\\.cache\\kagglehub\\datasets\\pavansanagapati\\images-dataset\\versions\\1\\data\\bike\\bike_033.bmp: 384x512 28 objects, 1347.9ms\n",
      "Speed: 2.7ms preprocess, 1347.9ms inference, 71.0ms postprocess per image at shape (1, 3, 384, 512)\n"
     ]
    },
    {
     "name": "stderr",
     "output_type": "stream",
     "text": [
      "  9%|▉         | 33/365 [01:03<08:16,  1.50s/it]"
     ]
    },
    {
     "name": "stdout",
     "output_type": "stream",
     "text": [
      "\n",
      "image 1/1 C:\\Users\\admin\\.cache\\kagglehub\\datasets\\pavansanagapati\\images-dataset\\versions\\1\\data\\bike\\bike_034.bmp: 384x512 6 objects, 1307.7ms\n",
      "Speed: 2.5ms preprocess, 1307.7ms inference, 18.7ms postprocess per image at shape (1, 3, 384, 512)\n"
     ]
    },
    {
     "name": "stderr",
     "output_type": "stream",
     "text": [
      "  9%|▉         | 34/365 [01:05<08:02,  1.46s/it]"
     ]
    },
    {
     "name": "stdout",
     "output_type": "stream",
     "text": [
      "\n",
      "image 1/1 C:\\Users\\admin\\.cache\\kagglehub\\datasets\\pavansanagapati\\images-dataset\\versions\\1\\data\\bike\\bike_035.bmp: 384x512 19 objects, 1304.8ms\n",
      "Speed: 2.1ms preprocess, 1304.8ms inference, 42.4ms postprocess per image at shape (1, 3, 384, 512)\n"
     ]
    },
    {
     "name": "stderr",
     "output_type": "stream",
     "text": [
      " 10%|▉         | 35/365 [01:06<07:54,  1.44s/it]"
     ]
    },
    {
     "name": "stdout",
     "output_type": "stream",
     "text": [
      "\n",
      "image 1/1 C:\\Users\\admin\\.cache\\kagglehub\\datasets\\pavansanagapati\\images-dataset\\versions\\1\\data\\bike\\bike_036.bmp: 384x512 31 objects, 1356.5ms\n",
      "Speed: 2.1ms preprocess, 1356.5ms inference, 71.9ms postprocess per image at shape (1, 3, 384, 512)\n"
     ]
    },
    {
     "name": "stderr",
     "output_type": "stream",
     "text": [
      " 10%|▉         | 36/365 [01:07<08:00,  1.46s/it]"
     ]
    },
    {
     "name": "stdout",
     "output_type": "stream",
     "text": [
      "\n",
      "image 1/1 C:\\Users\\admin\\.cache\\kagglehub\\datasets\\pavansanagapati\\images-dataset\\versions\\1\\data\\bike\\bike_037.bmp: 384x512 39 objects, 1337.4ms\n",
      "Speed: 3.4ms preprocess, 1337.4ms inference, 89.7ms postprocess per image at shape (1, 3, 384, 512)\n"
     ]
    },
    {
     "name": "stderr",
     "output_type": "stream",
     "text": [
      " 10%|█         | 37/365 [01:09<08:03,  1.47s/it]"
     ]
    },
    {
     "name": "stdout",
     "output_type": "stream",
     "text": [
      "\n",
      "image 1/1 C:\\Users\\admin\\.cache\\kagglehub\\datasets\\pavansanagapati\\images-dataset\\versions\\1\\data\\bike\\bike_038.bmp: 384x512 32 objects, 1313.3ms\n",
      "Speed: 2.5ms preprocess, 1313.3ms inference, 71.1ms postprocess per image at shape (1, 3, 384, 512)\n"
     ]
    },
    {
     "name": "stderr",
     "output_type": "stream",
     "text": [
      " 10%|█         | 38/365 [01:10<07:59,  1.47s/it]"
     ]
    },
    {
     "name": "stdout",
     "output_type": "stream",
     "text": [
      "\n",
      "image 1/1 C:\\Users\\admin\\.cache\\kagglehub\\datasets\\pavansanagapati\\images-dataset\\versions\\1\\data\\bike\\bike_039.bmp: 384x512 24 objects, 1262.8ms\n",
      "Speed: 9.3ms preprocess, 1262.8ms inference, 55.5ms postprocess per image at shape (1, 3, 384, 512)\n"
     ]
    },
    {
     "name": "stderr",
     "output_type": "stream",
     "text": [
      " 11%|█         | 39/365 [01:12<07:49,  1.44s/it]"
     ]
    },
    {
     "name": "stdout",
     "output_type": "stream",
     "text": [
      "\n",
      "image 1/1 C:\\Users\\admin\\.cache\\kagglehub\\datasets\\pavansanagapati\\images-dataset\\versions\\1\\data\\bike\\bike_040.bmp: 384x512 68 objects, 1309.4ms\n",
      "Speed: 17.6ms preprocess, 1309.4ms inference, 216.9ms postprocess per image at shape (1, 3, 384, 512)\n"
     ]
    },
    {
     "name": "stderr",
     "output_type": "stream",
     "text": [
      " 11%|█         | 40/365 [01:13<08:06,  1.50s/it]"
     ]
    },
    {
     "name": "stdout",
     "output_type": "stream",
     "text": [
      "\n",
      "image 1/1 C:\\Users\\admin\\.cache\\kagglehub\\datasets\\pavansanagapati\\images-dataset\\versions\\1\\data\\bike\\bike_041.bmp: 384x512 22 objects, 1358.8ms\n",
      "Speed: 3.5ms preprocess, 1358.8ms inference, 56.6ms postprocess per image at shape (1, 3, 384, 512)\n"
     ]
    },
    {
     "name": "stderr",
     "output_type": "stream",
     "text": [
      " 11%|█         | 41/365 [01:15<08:01,  1.49s/it]"
     ]
    },
    {
     "name": "stdout",
     "output_type": "stream",
     "text": [
      "\n",
      "image 1/1 C:\\Users\\admin\\.cache\\kagglehub\\datasets\\pavansanagapati\\images-dataset\\versions\\1\\data\\bike\\bike_042.bmp: 384x512 37 objects, 1367.7ms\n",
      "Speed: 2.2ms preprocess, 1367.7ms inference, 82.5ms postprocess per image at shape (1, 3, 384, 512)\n"
     ]
    },
    {
     "name": "stderr",
     "output_type": "stream",
     "text": [
      " 12%|█▏        | 42/365 [01:16<08:04,  1.50s/it]"
     ]
    },
    {
     "name": "stdout",
     "output_type": "stream",
     "text": [
      "\n",
      "image 1/1 C:\\Users\\admin\\.cache\\kagglehub\\datasets\\pavansanagapati\\images-dataset\\versions\\1\\data\\bike\\bike_043.bmp: 384x512 35 objects, 1293.0ms\n",
      "Speed: 2.8ms preprocess, 1293.0ms inference, 80.4ms postprocess per image at shape (1, 3, 384, 512)\n"
     ]
    },
    {
     "name": "stderr",
     "output_type": "stream",
     "text": [
      " 12%|█▏        | 43/365 [01:18<07:56,  1.48s/it]"
     ]
    },
    {
     "name": "stdout",
     "output_type": "stream",
     "text": [
      "\n",
      "image 1/1 C:\\Users\\admin\\.cache\\kagglehub\\datasets\\pavansanagapati\\images-dataset\\versions\\1\\data\\bike\\bike_044.bmp: 384x512 43 objects, 1285.8ms\n",
      "Speed: 6.5ms preprocess, 1285.8ms inference, 99.1ms postprocess per image at shape (1, 3, 384, 512)\n"
     ]
    },
    {
     "name": "stderr",
     "output_type": "stream",
     "text": [
      " 12%|█▏        | 44/365 [01:19<07:53,  1.48s/it]"
     ]
    },
    {
     "name": "stdout",
     "output_type": "stream",
     "text": [
      "\n",
      "image 1/1 C:\\Users\\admin\\.cache\\kagglehub\\datasets\\pavansanagapati\\images-dataset\\versions\\1\\data\\bike\\bike_045.bmp: 384x512 38 objects, 1272.2ms\n",
      "Speed: 2.1ms preprocess, 1272.2ms inference, 93.7ms postprocess per image at shape (1, 3, 384, 512)\n"
     ]
    },
    {
     "name": "stderr",
     "output_type": "stream",
     "text": [
      " 12%|█▏        | 45/365 [01:21<07:46,  1.46s/it]"
     ]
    },
    {
     "name": "stdout",
     "output_type": "stream",
     "text": [
      "\n",
      "image 1/1 C:\\Users\\admin\\.cache\\kagglehub\\datasets\\pavansanagapati\\images-dataset\\versions\\1\\data\\bike\\bike_046.bmp: 384x512 16 objects, 1333.4ms\n",
      "Speed: 3.9ms preprocess, 1333.4ms inference, 38.0ms postprocess per image at shape (1, 3, 384, 512)\n"
     ]
    },
    {
     "name": "stderr",
     "output_type": "stream",
     "text": [
      " 13%|█▎        | 46/365 [01:22<07:41,  1.45s/it]"
     ]
    },
    {
     "name": "stdout",
     "output_type": "stream",
     "text": [
      "\n",
      "image 1/1 C:\\Users\\admin\\.cache\\kagglehub\\datasets\\pavansanagapati\\images-dataset\\versions\\1\\data\\bike\\bike_047.bmp: 384x512 28 objects, 1299.4ms\n",
      "Speed: 2.7ms preprocess, 1299.4ms inference, 71.9ms postprocess per image at shape (1, 3, 384, 512)\n"
     ]
    },
    {
     "name": "stderr",
     "output_type": "stream",
     "text": [
      " 13%|█▎        | 47/365 [01:24<07:40,  1.45s/it]"
     ]
    },
    {
     "name": "stdout",
     "output_type": "stream",
     "text": [
      "\n",
      "image 1/1 C:\\Users\\admin\\.cache\\kagglehub\\datasets\\pavansanagapati\\images-dataset\\versions\\1\\data\\bike\\bike_048.bmp: 384x512 17 objects, 1641.9ms\n",
      "Speed: 8.2ms preprocess, 1641.9ms inference, 41.8ms postprocess per image at shape (1, 3, 384, 512)\n"
     ]
    },
    {
     "name": "stderr",
     "output_type": "stream",
     "text": [
      " 13%|█▎        | 48/365 [01:25<08:06,  1.53s/it]"
     ]
    },
    {
     "name": "stdout",
     "output_type": "stream",
     "text": [
      "\n",
      "image 1/1 C:\\Users\\admin\\.cache\\kagglehub\\datasets\\pavansanagapati\\images-dataset\\versions\\1\\data\\bike\\bike_049.bmp: 384x512 7 objects, 1561.9ms\n",
      "Speed: 5.3ms preprocess, 1561.9ms inference, 20.6ms postprocess per image at shape (1, 3, 384, 512)\n"
     ]
    },
    {
     "name": "stderr",
     "output_type": "stream",
     "text": [
      " 13%|█▎        | 49/365 [01:27<08:13,  1.56s/it]"
     ]
    },
    {
     "name": "stdout",
     "output_type": "stream",
     "text": [
      "\n",
      "image 1/1 C:\\Users\\admin\\.cache\\kagglehub\\datasets\\pavansanagapati\\images-dataset\\versions\\1\\data\\bike\\bike_050.bmp: 384x512 26 objects, 1385.3ms\n",
      "Speed: 4.5ms preprocess, 1385.3ms inference, 58.4ms postprocess per image at shape (1, 3, 384, 512)\n"
     ]
    },
    {
     "name": "stderr",
     "output_type": "stream",
     "text": [
      " 14%|█▎        | 50/365 [01:28<08:05,  1.54s/it]"
     ]
    },
    {
     "name": "stdout",
     "output_type": "stream",
     "text": [
      "\n",
      "image 1/1 C:\\Users\\admin\\.cache\\kagglehub\\datasets\\pavansanagapati\\images-dataset\\versions\\1\\data\\bike\\bike_051.bmp: 384x512 22 objects, 1429.1ms\n",
      "Speed: 3.0ms preprocess, 1429.1ms inference, 49.9ms postprocess per image at shape (1, 3, 384, 512)\n"
     ]
    },
    {
     "name": "stderr",
     "output_type": "stream",
     "text": [
      " 14%|█▍        | 51/365 [01:30<08:02,  1.54s/it]"
     ]
    },
    {
     "name": "stdout",
     "output_type": "stream",
     "text": [
      "\n",
      "image 1/1 C:\\Users\\admin\\.cache\\kagglehub\\datasets\\pavansanagapati\\images-dataset\\versions\\1\\data\\bike\\bike_052.bmp: 384x512 24 objects, 1308.3ms\n",
      "Speed: 4.1ms preprocess, 1308.3ms inference, 52.5ms postprocess per image at shape (1, 3, 384, 512)\n"
     ]
    },
    {
     "name": "stderr",
     "output_type": "stream",
     "text": [
      " 14%|█▍        | 52/365 [01:31<07:49,  1.50s/it]"
     ]
    },
    {
     "name": "stdout",
     "output_type": "stream",
     "text": [
      "\n",
      "image 1/1 C:\\Users\\admin\\.cache\\kagglehub\\datasets\\pavansanagapati\\images-dataset\\versions\\1\\data\\bike\\bike_053.bmp: 384x512 59 objects, 1290.4ms\n",
      "Speed: 3.6ms preprocess, 1290.4ms inference, 199.7ms postprocess per image at shape (1, 3, 384, 512)\n"
     ]
    },
    {
     "name": "stderr",
     "output_type": "stream",
     "text": [
      " 15%|█▍        | 53/365 [01:33<07:53,  1.52s/it]"
     ]
    },
    {
     "name": "stdout",
     "output_type": "stream",
     "text": [
      "\n",
      "image 1/1 C:\\Users\\admin\\.cache\\kagglehub\\datasets\\pavansanagapati\\images-dataset\\versions\\1\\data\\bike\\bike_054.bmp: 384x512 25 objects, 1335.0ms\n",
      "Speed: 7.7ms preprocess, 1335.0ms inference, 54.2ms postprocess per image at shape (1, 3, 384, 512)\n"
     ]
    },
    {
     "name": "stderr",
     "output_type": "stream",
     "text": [
      " 15%|█▍        | 54/365 [01:34<07:45,  1.50s/it]"
     ]
    },
    {
     "name": "stdout",
     "output_type": "stream",
     "text": [
      "\n",
      "image 1/1 C:\\Users\\admin\\.cache\\kagglehub\\datasets\\pavansanagapati\\images-dataset\\versions\\1\\data\\bike\\bike_055.bmp: 384x512 72 objects, 1316.3ms\n",
      "Speed: 3.3ms preprocess, 1316.3ms inference, 230.6ms postprocess per image at shape (1, 3, 384, 512)\n"
     ]
    },
    {
     "name": "stderr",
     "output_type": "stream",
     "text": [
      " 15%|█▌        | 55/365 [01:36<07:57,  1.54s/it]"
     ]
    },
    {
     "name": "stdout",
     "output_type": "stream",
     "text": [
      "\n",
      "image 1/1 C:\\Users\\admin\\.cache\\kagglehub\\datasets\\pavansanagapati\\images-dataset\\versions\\1\\data\\bike\\bike_056.bmp: 384x512 56 objects, 1447.8ms\n",
      "Speed: 2.9ms preprocess, 1447.8ms inference, 171.7ms postprocess per image at shape (1, 3, 384, 512)\n"
     ]
    },
    {
     "name": "stderr",
     "output_type": "stream",
     "text": [
      " 15%|█▌        | 56/365 [01:38<08:13,  1.60s/it]"
     ]
    },
    {
     "name": "stdout",
     "output_type": "stream",
     "text": [
      "\n",
      "image 1/1 C:\\Users\\admin\\.cache\\kagglehub\\datasets\\pavansanagapati\\images-dataset\\versions\\1\\data\\bike\\bike_057.bmp: 384x512 39 objects, 1737.4ms\n",
      "Speed: 4.7ms preprocess, 1737.4ms inference, 98.7ms postprocess per image at shape (1, 3, 384, 512)\n"
     ]
    },
    {
     "name": "stderr",
     "output_type": "stream",
     "text": [
      " 16%|█▌        | 57/365 [01:40<08:40,  1.69s/it]"
     ]
    },
    {
     "name": "stdout",
     "output_type": "stream",
     "text": [
      "\n",
      "image 1/1 C:\\Users\\admin\\.cache\\kagglehub\\datasets\\pavansanagapati\\images-dataset\\versions\\1\\data\\bike\\bike_058.bmp: 384x512 30 objects, 1382.4ms\n",
      "Speed: 3.8ms preprocess, 1382.4ms inference, 72.3ms postprocess per image at shape (1, 3, 384, 512)\n"
     ]
    },
    {
     "name": "stderr",
     "output_type": "stream",
     "text": [
      " 16%|█▌        | 58/365 [01:41<08:23,  1.64s/it]"
     ]
    },
    {
     "name": "stdout",
     "output_type": "stream",
     "text": [
      "\n",
      "image 1/1 C:\\Users\\admin\\.cache\\kagglehub\\datasets\\pavansanagapati\\images-dataset\\versions\\1\\data\\bike\\bike_059.bmp: 384x512 52 objects, 1381.3ms\n",
      "Speed: 5.5ms preprocess, 1381.3ms inference, 154.4ms postprocess per image at shape (1, 3, 384, 512)\n"
     ]
    },
    {
     "name": "stderr",
     "output_type": "stream",
     "text": [
      " 16%|█▌        | 59/365 [01:43<08:19,  1.63s/it]"
     ]
    },
    {
     "name": "stdout",
     "output_type": "stream",
     "text": [
      "\n",
      "image 1/1 C:\\Users\\admin\\.cache\\kagglehub\\datasets\\pavansanagapati\\images-dataset\\versions\\1\\data\\bike\\bike_060.bmp: 384x512 37 objects, 1335.3ms\n",
      "Speed: 3.1ms preprocess, 1335.3ms inference, 371.3ms postprocess per image at shape (1, 3, 384, 512)\n"
     ]
    },
    {
     "name": "stderr",
     "output_type": "stream",
     "text": [
      " 16%|█▋        | 60/365 [01:45<08:33,  1.68s/it]"
     ]
    },
    {
     "name": "stdout",
     "output_type": "stream",
     "text": [
      "\n",
      "image 1/1 C:\\Users\\admin\\.cache\\kagglehub\\datasets\\pavansanagapati\\images-dataset\\versions\\1\\data\\bike\\bike_061.bmp: 384x512 51 objects, 1398.3ms\n",
      "Speed: 4.6ms preprocess, 1398.3ms inference, 211.9ms postprocess per image at shape (1, 3, 384, 512)\n"
     ]
    },
    {
     "name": "stderr",
     "output_type": "stream",
     "text": [
      " 17%|█▋        | 61/365 [01:46<08:32,  1.69s/it]"
     ]
    },
    {
     "name": "stdout",
     "output_type": "stream",
     "text": [
      "\n",
      "image 1/1 C:\\Users\\admin\\.cache\\kagglehub\\datasets\\pavansanagapati\\images-dataset\\versions\\1\\data\\bike\\bike_062.bmp: 384x512 23 objects, 1806.0ms\n",
      "Speed: 12.1ms preprocess, 1806.0ms inference, 59.1ms postprocess per image at shape (1, 3, 384, 512)\n"
     ]
    },
    {
     "name": "stderr",
     "output_type": "stream",
     "text": [
      " 17%|█▋        | 62/365 [01:48<08:53,  1.76s/it]"
     ]
    },
    {
     "name": "stdout",
     "output_type": "stream",
     "text": [
      "\n",
      "image 1/1 C:\\Users\\admin\\.cache\\kagglehub\\datasets\\pavansanagapati\\images-dataset\\versions\\1\\data\\bike\\bike_063.bmp: 384x512 26 objects, 1978.9ms\n",
      "Speed: 2.7ms preprocess, 1978.9ms inference, 77.9ms postprocess per image at shape (1, 3, 384, 512)\n"
     ]
    },
    {
     "name": "stderr",
     "output_type": "stream",
     "text": [
      " 17%|█▋        | 63/365 [01:50<09:24,  1.87s/it]"
     ]
    },
    {
     "name": "stdout",
     "output_type": "stream",
     "text": [
      "\n",
      "image 1/1 C:\\Users\\admin\\.cache\\kagglehub\\datasets\\pavansanagapati\\images-dataset\\versions\\1\\data\\bike\\bike_064.bmp: 384x512 48 objects, 1492.4ms\n",
      "Speed: 7.4ms preprocess, 1492.4ms inference, 145.8ms postprocess per image at shape (1, 3, 384, 512)\n"
     ]
    },
    {
     "name": "stderr",
     "output_type": "stream",
     "text": [
      " 18%|█▊        | 64/365 [01:52<09:15,  1.85s/it]"
     ]
    },
    {
     "name": "stdout",
     "output_type": "stream",
     "text": [
      "\n",
      "image 1/1 C:\\Users\\admin\\.cache\\kagglehub\\datasets\\pavansanagapati\\images-dataset\\versions\\1\\data\\bike\\bike_065.bmp: 384x512 21 objects, 1505.2ms\n",
      "Speed: 3.7ms preprocess, 1505.2ms inference, 55.1ms postprocess per image at shape (1, 3, 384, 512)\n"
     ]
    },
    {
     "name": "stderr",
     "output_type": "stream",
     "text": [
      " 18%|█▊        | 65/365 [01:54<08:53,  1.78s/it]"
     ]
    },
    {
     "name": "stdout",
     "output_type": "stream",
     "text": [
      "\n",
      "image 1/1 C:\\Users\\admin\\.cache\\kagglehub\\datasets\\pavansanagapati\\images-dataset\\versions\\1\\data\\bike\\bike_066.bmp: 384x512 42 objects, 1454.3ms\n",
      "Speed: 2.7ms preprocess, 1454.3ms inference, 118.1ms postprocess per image at shape (1, 3, 384, 512)\n"
     ]
    },
    {
     "name": "stderr",
     "output_type": "stream",
     "text": [
      " 18%|█▊        | 66/365 [01:55<08:41,  1.74s/it]"
     ]
    },
    {
     "name": "stdout",
     "output_type": "stream",
     "text": [
      "\n",
      "image 1/1 C:\\Users\\admin\\.cache\\kagglehub\\datasets\\pavansanagapati\\images-dataset\\versions\\1\\data\\bike\\bike_067.bmp: 384x512 28 objects, 1679.8ms\n",
      "Speed: 5.6ms preprocess, 1679.8ms inference, 71.6ms postprocess per image at shape (1, 3, 384, 512)\n"
     ]
    },
    {
     "name": "stderr",
     "output_type": "stream",
     "text": [
      " 18%|█▊        | 67/365 [01:57<08:47,  1.77s/it]"
     ]
    },
    {
     "name": "stdout",
     "output_type": "stream",
     "text": [
      "\n",
      "image 1/1 C:\\Users\\admin\\.cache\\kagglehub\\datasets\\pavansanagapati\\images-dataset\\versions\\1\\data\\bike\\bike_068.bmp: 384x512 34 objects, 1506.3ms\n",
      "Speed: 4.5ms preprocess, 1506.3ms inference, 87.4ms postprocess per image at shape (1, 3, 384, 512)\n"
     ]
    },
    {
     "name": "stderr",
     "output_type": "stream",
     "text": [
      " 19%|█▊        | 68/365 [01:59<08:36,  1.74s/it]"
     ]
    },
    {
     "name": "stdout",
     "output_type": "stream",
     "text": [
      "\n",
      "image 1/1 C:\\Users\\admin\\.cache\\kagglehub\\datasets\\pavansanagapati\\images-dataset\\versions\\1\\data\\bike\\bike_069.bmp: 384x512 25 objects, 1433.5ms\n",
      "Speed: 5.7ms preprocess, 1433.5ms inference, 65.8ms postprocess per image at shape (1, 3, 384, 512)\n"
     ]
    },
    {
     "name": "stderr",
     "output_type": "stream",
     "text": [
      " 19%|█▉        | 69/365 [02:01<08:20,  1.69s/it]"
     ]
    },
    {
     "name": "stdout",
     "output_type": "stream",
     "text": [
      "\n",
      "image 1/1 C:\\Users\\admin\\.cache\\kagglehub\\datasets\\pavansanagapati\\images-dataset\\versions\\1\\data\\bike\\bike_070.bmp: 384x512 21 objects, 1420.8ms\n",
      "Speed: 7.1ms preprocess, 1420.8ms inference, 53.8ms postprocess per image at shape (1, 3, 384, 512)\n"
     ]
    },
    {
     "name": "stderr",
     "output_type": "stream",
     "text": [
      " 19%|█▉        | 70/365 [02:02<08:08,  1.66s/it]"
     ]
    },
    {
     "name": "stdout",
     "output_type": "stream",
     "text": [
      "\n",
      "image 1/1 C:\\Users\\admin\\.cache\\kagglehub\\datasets\\pavansanagapati\\images-dataset\\versions\\1\\data\\bike\\bike_071.bmp: 384x512 21 objects, 1658.7ms\n",
      "Speed: 5.1ms preprocess, 1658.7ms inference, 48.5ms postprocess per image at shape (1, 3, 384, 512)\n"
     ]
    },
    {
     "name": "stderr",
     "output_type": "stream",
     "text": [
      " 19%|█▉        | 71/365 [02:04<08:16,  1.69s/it]"
     ]
    },
    {
     "name": "stdout",
     "output_type": "stream",
     "text": [
      "\n",
      "image 1/1 C:\\Users\\admin\\.cache\\kagglehub\\datasets\\pavansanagapati\\images-dataset\\versions\\1\\data\\bike\\bike_072.bmp: 384x512 29 objects, 1748.9ms\n",
      "Speed: 3.4ms preprocess, 1748.9ms inference, 97.5ms postprocess per image at shape (1, 3, 384, 512)\n"
     ]
    },
    {
     "name": "stderr",
     "output_type": "stream",
     "text": [
      " 20%|█▉        | 72/365 [02:06<08:33,  1.75s/it]"
     ]
    },
    {
     "name": "stdout",
     "output_type": "stream",
     "text": [
      "\n",
      "image 1/1 C:\\Users\\admin\\.cache\\kagglehub\\datasets\\pavansanagapati\\images-dataset\\versions\\1\\data\\bike\\bike_073.bmp: 384x512 26 objects, 1673.4ms\n",
      "Speed: 3.1ms preprocess, 1673.4ms inference, 77.0ms postprocess per image at shape (1, 3, 384, 512)\n"
     ]
    },
    {
     "name": "stderr",
     "output_type": "stream",
     "text": [
      " 20%|██        | 73/365 [02:08<08:38,  1.78s/it]"
     ]
    },
    {
     "name": "stdout",
     "output_type": "stream",
     "text": [
      "\n",
      "image 1/1 C:\\Users\\admin\\.cache\\kagglehub\\datasets\\pavansanagapati\\images-dataset\\versions\\1\\data\\bike\\bike_074.bmp: 384x512 18 objects, 2036.2ms\n",
      "Speed: 8.7ms preprocess, 2036.2ms inference, 57.0ms postprocess per image at shape (1, 3, 384, 512)\n"
     ]
    },
    {
     "name": "stderr",
     "output_type": "stream",
     "text": [
      " 20%|██        | 74/365 [02:10<09:12,  1.90s/it]"
     ]
    },
    {
     "name": "stdout",
     "output_type": "stream",
     "text": [
      "\n",
      "image 1/1 C:\\Users\\admin\\.cache\\kagglehub\\datasets\\pavansanagapati\\images-dataset\\versions\\1\\data\\bike\\bike_075.bmp: 384x512 12 objects, 1529.2ms\n",
      "Speed: 12.3ms preprocess, 1529.2ms inference, 35.9ms postprocess per image at shape (1, 3, 384, 512)\n"
     ]
    },
    {
     "name": "stderr",
     "output_type": "stream",
     "text": [
      " 21%|██        | 75/365 [02:11<08:46,  1.82s/it]"
     ]
    },
    {
     "name": "stdout",
     "output_type": "stream",
     "text": [
      "\n",
      "image 1/1 C:\\Users\\admin\\.cache\\kagglehub\\datasets\\pavansanagapati\\images-dataset\\versions\\1\\data\\bike\\bike_076.bmp: 384x512 39 objects, 1718.5ms\n",
      "Speed: 82.1ms preprocess, 1718.5ms inference, 122.6ms postprocess per image at shape (1, 3, 384, 512)\n"
     ]
    },
    {
     "name": "stderr",
     "output_type": "stream",
     "text": [
      " 21%|██        | 76/365 [02:13<09:04,  1.88s/it]"
     ]
    },
    {
     "name": "stdout",
     "output_type": "stream",
     "text": [
      "\n",
      "image 1/1 C:\\Users\\admin\\.cache\\kagglehub\\datasets\\pavansanagapati\\images-dataset\\versions\\1\\data\\bike\\bike_077.bmp: 384x512 80 objects, 1682.6ms\n",
      "Speed: 1.9ms preprocess, 1682.6ms inference, 251.4ms postprocess per image at shape (1, 3, 384, 512)\n"
     ]
    },
    {
     "name": "stderr",
     "output_type": "stream",
     "text": [
      " 21%|██        | 77/365 [02:16<09:16,  1.93s/it]"
     ]
    },
    {
     "name": "stdout",
     "output_type": "stream",
     "text": [
      "\n",
      "image 1/1 C:\\Users\\admin\\.cache\\kagglehub\\datasets\\pavansanagapati\\images-dataset\\versions\\1\\data\\bike\\bike_078.bmp: 384x512 32 objects, 1585.5ms\n",
      "Speed: 26.2ms preprocess, 1585.5ms inference, 101.4ms postprocess per image at shape (1, 3, 384, 512)\n"
     ]
    },
    {
     "name": "stderr",
     "output_type": "stream",
     "text": [
      " 21%|██▏       | 78/365 [02:17<09:01,  1.89s/it]"
     ]
    },
    {
     "name": "stdout",
     "output_type": "stream",
     "text": [
      "\n",
      "image 1/1 C:\\Users\\admin\\.cache\\kagglehub\\datasets\\pavansanagapati\\images-dataset\\versions\\1\\data\\bike\\bike_079.bmp: 384x512 31 objects, 1788.8ms\n",
      "Speed: 5.3ms preprocess, 1788.8ms inference, 83.8ms postprocess per image at shape (1, 3, 384, 512)\n"
     ]
    },
    {
     "name": "stderr",
     "output_type": "stream",
     "text": [
      " 22%|██▏       | 79/365 [02:19<09:03,  1.90s/it]"
     ]
    },
    {
     "name": "stdout",
     "output_type": "stream",
     "text": [
      "\n",
      "image 1/1 C:\\Users\\admin\\.cache\\kagglehub\\datasets\\pavansanagapati\\images-dataset\\versions\\1\\data\\bike\\bike_080.bmp: 384x512 16 objects, 1700.3ms\n",
      "Speed: 7.7ms preprocess, 1700.3ms inference, 39.0ms postprocess per image at shape (1, 3, 384, 512)\n"
     ]
    },
    {
     "name": "stderr",
     "output_type": "stream",
     "text": [
      " 22%|██▏       | 80/365 [02:21<08:52,  1.87s/it]"
     ]
    },
    {
     "name": "stdout",
     "output_type": "stream",
     "text": [
      "\n",
      "image 1/1 C:\\Users\\admin\\.cache\\kagglehub\\datasets\\pavansanagapati\\images-dataset\\versions\\1\\data\\bike\\bike_081.bmp: 384x512 28 objects, 1660.2ms\n",
      "Speed: 2.0ms preprocess, 1660.2ms inference, 91.7ms postprocess per image at shape (1, 3, 384, 512)\n"
     ]
    },
    {
     "name": "stderr",
     "output_type": "stream",
     "text": [
      " 22%|██▏       | 81/365 [02:23<08:46,  1.85s/it]"
     ]
    },
    {
     "name": "stdout",
     "output_type": "stream",
     "text": [
      "\n",
      "image 1/1 C:\\Users\\admin\\.cache\\kagglehub\\datasets\\pavansanagapati\\images-dataset\\versions\\1\\data\\bike\\bike_082.bmp: 384x512 68 objects, 1738.7ms\n",
      "Speed: 2.7ms preprocess, 1738.7ms inference, 194.1ms postprocess per image at shape (1, 3, 384, 512)\n"
     ]
    },
    {
     "name": "stderr",
     "output_type": "stream",
     "text": [
      " 22%|██▏       | 82/365 [02:25<08:58,  1.90s/it]"
     ]
    },
    {
     "name": "stdout",
     "output_type": "stream",
     "text": [
      "\n",
      "image 1/1 C:\\Users\\admin\\.cache\\kagglehub\\datasets\\pavansanagapati\\images-dataset\\versions\\1\\data\\bike\\bike_083.bmp: 384x512 33 objects, 1530.5ms\n",
      "Speed: 4.8ms preprocess, 1530.5ms inference, 95.7ms postprocess per image at shape (1, 3, 384, 512)\n"
     ]
    },
    {
     "name": "stderr",
     "output_type": "stream",
     "text": [
      " 23%|██▎       | 83/365 [02:27<08:38,  1.84s/it]"
     ]
    },
    {
     "name": "stdout",
     "output_type": "stream",
     "text": [
      "\n",
      "image 1/1 C:\\Users\\admin\\.cache\\kagglehub\\datasets\\pavansanagapati\\images-dataset\\versions\\1\\data\\bike\\bike_084.bmp: 384x512 39 objects, 1934.4ms\n",
      "Speed: 6.6ms preprocess, 1934.4ms inference, 115.0ms postprocess per image at shape (1, 3, 384, 512)\n"
     ]
    },
    {
     "name": "stderr",
     "output_type": "stream",
     "text": [
      " 23%|██▎       | 84/365 [02:29<09:01,  1.93s/it]"
     ]
    },
    {
     "name": "stdout",
     "output_type": "stream",
     "text": [
      "\n",
      "image 1/1 C:\\Users\\admin\\.cache\\kagglehub\\datasets\\pavansanagapati\\images-dataset\\versions\\1\\data\\bike\\bike_085.bmp: 384x512 25 objects, 1691.8ms\n",
      "Speed: 10.0ms preprocess, 1691.8ms inference, 90.9ms postprocess per image at shape (1, 3, 384, 512)\n"
     ]
    },
    {
     "name": "stderr",
     "output_type": "stream",
     "text": [
      " 23%|██▎       | 85/365 [02:31<08:52,  1.90s/it]"
     ]
    },
    {
     "name": "stdout",
     "output_type": "stream",
     "text": [
      "\n",
      "image 1/1 C:\\Users\\admin\\.cache\\kagglehub\\datasets\\pavansanagapati\\images-dataset\\versions\\1\\data\\bike\\bike_086.bmp: 384x512 17 objects, 1758.7ms\n",
      "Speed: 5.2ms preprocess, 1758.7ms inference, 65.9ms postprocess per image at shape (1, 3, 384, 512)\n"
     ]
    },
    {
     "name": "stderr",
     "output_type": "stream",
     "text": [
      " 24%|██▎       | 86/365 [02:32<08:51,  1.91s/it]"
     ]
    },
    {
     "name": "stdout",
     "output_type": "stream",
     "text": [
      "\n",
      "image 1/1 C:\\Users\\admin\\.cache\\kagglehub\\datasets\\pavansanagapati\\images-dataset\\versions\\1\\data\\bike\\bike_087.bmp: 384x512 17 objects, 1983.0ms\n",
      "Speed: 5.3ms preprocess, 1983.0ms inference, 41.8ms postprocess per image at shape (1, 3, 384, 512)\n"
     ]
    },
    {
     "name": "stderr",
     "output_type": "stream",
     "text": [
      " 24%|██▍       | 87/365 [02:35<09:05,  1.96s/it]"
     ]
    },
    {
     "name": "stdout",
     "output_type": "stream",
     "text": [
      "\n",
      "image 1/1 C:\\Users\\admin\\.cache\\kagglehub\\datasets\\pavansanagapati\\images-dataset\\versions\\1\\data\\bike\\bike_088.bmp: 384x512 61 objects, 1337.8ms\n",
      "Speed: 2.5ms preprocess, 1337.8ms inference, 181.0ms postprocess per image at shape (1, 3, 384, 512)\n"
     ]
    },
    {
     "name": "stderr",
     "output_type": "stream",
     "text": [
      " 24%|██▍       | 88/365 [02:36<08:32,  1.85s/it]"
     ]
    },
    {
     "name": "stdout",
     "output_type": "stream",
     "text": [
      "\n",
      "image 1/1 C:\\Users\\admin\\.cache\\kagglehub\\datasets\\pavansanagapati\\images-dataset\\versions\\1\\data\\bike\\bike_089.bmp: 384x512 17 objects, 1481.5ms\n",
      "Speed: 2.9ms preprocess, 1481.5ms inference, 47.9ms postprocess per image at shape (1, 3, 384, 512)\n"
     ]
    },
    {
     "name": "stderr",
     "output_type": "stream",
     "text": [
      " 24%|██▍       | 89/365 [02:38<08:07,  1.77s/it]"
     ]
    },
    {
     "name": "stdout",
     "output_type": "stream",
     "text": [
      "\n",
      "image 1/1 C:\\Users\\admin\\.cache\\kagglehub\\datasets\\pavansanagapati\\images-dataset\\versions\\1\\data\\bike\\bike_090.bmp: 384x512 22 objects, 1525.7ms\n",
      "Speed: 30.2ms preprocess, 1525.7ms inference, 60.4ms postprocess per image at shape (1, 3, 384, 512)\n"
     ]
    },
    {
     "name": "stderr",
     "output_type": "stream",
     "text": [
      " 25%|██▍       | 90/365 [02:39<07:58,  1.74s/it]"
     ]
    },
    {
     "name": "stdout",
     "output_type": "stream",
     "text": [
      "\n",
      "image 1/1 C:\\Users\\admin\\.cache\\kagglehub\\datasets\\pavansanagapati\\images-dataset\\versions\\1\\data\\bike\\bike_091.bmp: 384x512 26 objects, 1503.2ms\n",
      "Speed: 7.4ms preprocess, 1503.2ms inference, 82.4ms postprocess per image at shape (1, 3, 384, 512)\n"
     ]
    },
    {
     "name": "stderr",
     "output_type": "stream",
     "text": [
      " 25%|██▍       | 91/365 [02:41<07:49,  1.71s/it]"
     ]
    },
    {
     "name": "stdout",
     "output_type": "stream",
     "text": [
      "\n",
      "image 1/1 C:\\Users\\admin\\.cache\\kagglehub\\datasets\\pavansanagapati\\images-dataset\\versions\\1\\data\\bike\\bike_092.bmp: 384x512 49 objects, 1607.7ms\n",
      "Speed: 19.2ms preprocess, 1607.7ms inference, 126.2ms postprocess per image at shape (1, 3, 384, 512)\n"
     ]
    },
    {
     "name": "stderr",
     "output_type": "stream",
     "text": [
      " 25%|██▌       | 92/365 [02:43<07:59,  1.76s/it]"
     ]
    },
    {
     "name": "stdout",
     "output_type": "stream",
     "text": [
      "\n",
      "image 1/1 C:\\Users\\admin\\.cache\\kagglehub\\datasets\\pavansanagapati\\images-dataset\\versions\\1\\data\\bike\\bike_093.bmp: 384x512 17 objects, 1436.3ms\n",
      "Speed: 7.7ms preprocess, 1436.3ms inference, 46.3ms postprocess per image at shape (1, 3, 384, 512)\n"
     ]
    },
    {
     "name": "stderr",
     "output_type": "stream",
     "text": [
      " 25%|██▌       | 93/365 [02:44<07:40,  1.69s/it]"
     ]
    },
    {
     "name": "stdout",
     "output_type": "stream",
     "text": [
      "\n",
      "image 1/1 C:\\Users\\admin\\.cache\\kagglehub\\datasets\\pavansanagapati\\images-dataset\\versions\\1\\data\\bike\\bike_094.bmp: 384x512 36 objects, 1563.2ms\n",
      "Speed: 5.2ms preprocess, 1563.2ms inference, 85.6ms postprocess per image at shape (1, 3, 384, 512)\n"
     ]
    },
    {
     "name": "stderr",
     "output_type": "stream",
     "text": [
      " 26%|██▌       | 94/365 [02:46<07:40,  1.70s/it]"
     ]
    },
    {
     "name": "stdout",
     "output_type": "stream",
     "text": [
      "\n",
      "image 1/1 C:\\Users\\admin\\.cache\\kagglehub\\datasets\\pavansanagapati\\images-dataset\\versions\\1\\data\\bike\\bike_095.bmp: 384x512 22 objects, 1402.5ms\n",
      "Speed: 5.2ms preprocess, 1402.5ms inference, 54.8ms postprocess per image at shape (1, 3, 384, 512)\n"
     ]
    },
    {
     "name": "stderr",
     "output_type": "stream",
     "text": [
      " 26%|██▌       | 95/365 [02:48<07:23,  1.64s/it]"
     ]
    },
    {
     "name": "stdout",
     "output_type": "stream",
     "text": [
      "\n",
      "image 1/1 C:\\Users\\admin\\.cache\\kagglehub\\datasets\\pavansanagapati\\images-dataset\\versions\\1\\data\\bike\\bike_096.bmp: 384x512 37 objects, 1466.4ms\n",
      "Speed: 3.8ms preprocess, 1466.4ms inference, 86.8ms postprocess per image at shape (1, 3, 384, 512)\n"
     ]
    },
    {
     "name": "stderr",
     "output_type": "stream",
     "text": [
      " 26%|██▋       | 96/365 [02:49<07:20,  1.64s/it]"
     ]
    },
    {
     "name": "stdout",
     "output_type": "stream",
     "text": [
      "\n",
      "image 1/1 C:\\Users\\admin\\.cache\\kagglehub\\datasets\\pavansanagapati\\images-dataset\\versions\\1\\data\\bike\\bike_097.bmp: 384x512 38 objects, 1457.8ms\n",
      "Speed: 4.6ms preprocess, 1457.8ms inference, 85.9ms postprocess per image at shape (1, 3, 384, 512)\n"
     ]
    },
    {
     "name": "stderr",
     "output_type": "stream",
     "text": [
      " 27%|██▋       | 97/365 [02:51<07:16,  1.63s/it]"
     ]
    },
    {
     "name": "stdout",
     "output_type": "stream",
     "text": [
      "\n",
      "image 1/1 C:\\Users\\admin\\.cache\\kagglehub\\datasets\\pavansanagapati\\images-dataset\\versions\\1\\data\\bike\\bike_098.bmp: 384x512 24 objects, 1385.5ms\n",
      "Speed: 5.7ms preprocess, 1385.5ms inference, 60.5ms postprocess per image at shape (1, 3, 384, 512)\n"
     ]
    },
    {
     "name": "stderr",
     "output_type": "stream",
     "text": [
      " 27%|██▋       | 98/365 [02:52<07:05,  1.59s/it]"
     ]
    },
    {
     "name": "stdout",
     "output_type": "stream",
     "text": [
      "\n",
      "image 1/1 C:\\Users\\admin\\.cache\\kagglehub\\datasets\\pavansanagapati\\images-dataset\\versions\\1\\data\\bike\\bike_099.bmp: 384x512 26 objects, 1370.0ms\n",
      "Speed: 3.9ms preprocess, 1370.0ms inference, 63.9ms postprocess per image at shape (1, 3, 384, 512)\n"
     ]
    },
    {
     "name": "stderr",
     "output_type": "stream",
     "text": [
      " 27%|██▋       | 99/365 [02:54<06:56,  1.57s/it]"
     ]
    },
    {
     "name": "stdout",
     "output_type": "stream",
     "text": [
      "\n",
      "image 1/1 C:\\Users\\admin\\.cache\\kagglehub\\datasets\\pavansanagapati\\images-dataset\\versions\\1\\data\\bike\\bike_100.bmp: 384x512 22 objects, 1369.8ms\n",
      "Speed: 2.7ms preprocess, 1369.8ms inference, 55.0ms postprocess per image at shape (1, 3, 384, 512)\n"
     ]
    },
    {
     "name": "stderr",
     "output_type": "stream",
     "text": [
      " 27%|██▋       | 100/365 [02:55<06:49,  1.54s/it]"
     ]
    },
    {
     "name": "stdout",
     "output_type": "stream",
     "text": [
      "\n",
      "image 1/1 C:\\Users\\admin\\.cache\\kagglehub\\datasets\\pavansanagapati\\images-dataset\\versions\\1\\data\\bike\\bike_101.bmp: 384x512 25 objects, 1366.7ms\n",
      "Speed: 3.0ms preprocess, 1366.7ms inference, 70.5ms postprocess per image at shape (1, 3, 384, 512)\n"
     ]
    },
    {
     "name": "stderr",
     "output_type": "stream",
     "text": [
      " 28%|██▊       | 101/365 [02:57<06:46,  1.54s/it]"
     ]
    },
    {
     "name": "stdout",
     "output_type": "stream",
     "text": [
      "\n",
      "image 1/1 C:\\Users\\admin\\.cache\\kagglehub\\datasets\\pavansanagapati\\images-dataset\\versions\\1\\data\\bike\\bike_102.bmp: 384x512 27 objects, 1455.5ms\n",
      "Speed: 13.2ms preprocess, 1455.5ms inference, 71.4ms postprocess per image at shape (1, 3, 384, 512)\n"
     ]
    },
    {
     "name": "stderr",
     "output_type": "stream",
     "text": [
      " 28%|██▊       | 102/365 [02:59<06:57,  1.59s/it]"
     ]
    },
    {
     "name": "stdout",
     "output_type": "stream",
     "text": [
      "\n",
      "image 1/1 C:\\Users\\admin\\.cache\\kagglehub\\datasets\\pavansanagapati\\images-dataset\\versions\\1\\data\\bike\\bike_103.bmp: 384x512 22 objects, 1357.7ms\n",
      "Speed: 7.8ms preprocess, 1357.7ms inference, 54.5ms postprocess per image at shape (1, 3, 384, 512)\n"
     ]
    },
    {
     "name": "stderr",
     "output_type": "stream",
     "text": [
      " 28%|██▊       | 103/365 [03:00<06:48,  1.56s/it]"
     ]
    },
    {
     "name": "stdout",
     "output_type": "stream",
     "text": [
      "\n",
      "image 1/1 C:\\Users\\admin\\.cache\\kagglehub\\datasets\\pavansanagapati\\images-dataset\\versions\\1\\data\\bike\\bike_104.bmp: 384x512 28 objects, 1464.1ms\n",
      "Speed: 7.2ms preprocess, 1464.1ms inference, 73.5ms postprocess per image at shape (1, 3, 384, 512)\n"
     ]
    },
    {
     "name": "stderr",
     "output_type": "stream",
     "text": [
      " 28%|██▊       | 104/365 [03:02<06:50,  1.57s/it]"
     ]
    },
    {
     "name": "stdout",
     "output_type": "stream",
     "text": [
      "\n",
      "image 1/1 C:\\Users\\admin\\.cache\\kagglehub\\datasets\\pavansanagapati\\images-dataset\\versions\\1\\data\\bike\\bike_105.bmp: 384x512 31 objects, 1368.6ms\n",
      "Speed: 7.8ms preprocess, 1368.6ms inference, 75.9ms postprocess per image at shape (1, 3, 384, 512)\n"
     ]
    },
    {
     "name": "stderr",
     "output_type": "stream",
     "text": [
      " 29%|██▉       | 105/365 [03:03<06:44,  1.55s/it]"
     ]
    },
    {
     "name": "stdout",
     "output_type": "stream",
     "text": [
      "\n",
      "image 1/1 C:\\Users\\admin\\.cache\\kagglehub\\datasets\\pavansanagapati\\images-dataset\\versions\\1\\data\\bike\\bike_106.bmp: 384x512 25 objects, 1457.1ms\n",
      "Speed: 47.1ms preprocess, 1457.1ms inference, 58.1ms postprocess per image at shape (1, 3, 384, 512)\n"
     ]
    },
    {
     "name": "stderr",
     "output_type": "stream",
     "text": [
      " 29%|██▉       | 106/365 [03:05<06:47,  1.57s/it]"
     ]
    },
    {
     "name": "stdout",
     "output_type": "stream",
     "text": [
      "\n",
      "image 1/1 C:\\Users\\admin\\.cache\\kagglehub\\datasets\\pavansanagapati\\images-dataset\\versions\\1\\data\\bike\\bike_107.bmp: 384x512 30 objects, 1665.3ms\n",
      "Speed: 8.9ms preprocess, 1665.3ms inference, 81.7ms postprocess per image at shape (1, 3, 384, 512)\n"
     ]
    },
    {
     "name": "stderr",
     "output_type": "stream",
     "text": [
      " 29%|██▉       | 107/365 [03:07<07:04,  1.64s/it]"
     ]
    },
    {
     "name": "stdout",
     "output_type": "stream",
     "text": [
      "\n",
      "image 1/1 C:\\Users\\admin\\.cache\\kagglehub\\datasets\\pavansanagapati\\images-dataset\\versions\\1\\data\\bike\\bike_108.bmp: 384x512 13 objects, 1529.0ms\n",
      "Speed: 9.8ms preprocess, 1529.0ms inference, 39.7ms postprocess per image at shape (1, 3, 384, 512)\n"
     ]
    },
    {
     "name": "stderr",
     "output_type": "stream",
     "text": [
      " 30%|██▉       | 108/365 [03:08<07:01,  1.64s/it]"
     ]
    },
    {
     "name": "stdout",
     "output_type": "stream",
     "text": [
      "\n",
      "image 1/1 C:\\Users\\admin\\.cache\\kagglehub\\datasets\\pavansanagapati\\images-dataset\\versions\\1\\data\\bike\\bike_109.bmp: 384x512 67 objects, 1361.5ms\n",
      "Speed: 5.7ms preprocess, 1361.5ms inference, 270.3ms postprocess per image at shape (1, 3, 384, 512)\n"
     ]
    },
    {
     "name": "stderr",
     "output_type": "stream",
     "text": [
      " 30%|██▉       | 109/365 [03:10<07:08,  1.68s/it]"
     ]
    },
    {
     "name": "stdout",
     "output_type": "stream",
     "text": [
      "\n",
      "image 1/1 C:\\Users\\admin\\.cache\\kagglehub\\datasets\\pavansanagapati\\images-dataset\\versions\\1\\data\\bike\\bike_110.bmp: 384x512 23 objects, 1370.9ms\n",
      "Speed: 12.4ms preprocess, 1370.9ms inference, 56.8ms postprocess per image at shape (1, 3, 384, 512)\n"
     ]
    },
    {
     "name": "stderr",
     "output_type": "stream",
     "text": [
      " 30%|███       | 110/365 [03:12<06:54,  1.62s/it]"
     ]
    },
    {
     "name": "stdout",
     "output_type": "stream",
     "text": [
      "\n",
      "image 1/1 C:\\Users\\admin\\.cache\\kagglehub\\datasets\\pavansanagapati\\images-dataset\\versions\\1\\data\\bike\\bike_111.bmp: 384x512 14 objects, 1589.6ms\n",
      "Speed: 3.9ms preprocess, 1589.6ms inference, 38.2ms postprocess per image at shape (1, 3, 384, 512)\n"
     ]
    },
    {
     "name": "stderr",
     "output_type": "stream",
     "text": [
      " 30%|███       | 111/365 [03:13<06:57,  1.64s/it]"
     ]
    },
    {
     "name": "stdout",
     "output_type": "stream",
     "text": [
      "\n",
      "image 1/1 C:\\Users\\admin\\.cache\\kagglehub\\datasets\\pavansanagapati\\images-dataset\\versions\\1\\data\\bike\\bike_112.bmp: 384x512 27 objects, 1512.1ms\n",
      "Speed: 5.5ms preprocess, 1512.1ms inference, 70.8ms postprocess per image at shape (1, 3, 384, 512)\n"
     ]
    },
    {
     "name": "stderr",
     "output_type": "stream",
     "text": [
      " 31%|███       | 112/365 [03:15<06:56,  1.65s/it]"
     ]
    },
    {
     "name": "stdout",
     "output_type": "stream",
     "text": [
      "\n",
      "image 1/1 C:\\Users\\admin\\.cache\\kagglehub\\datasets\\pavansanagapati\\images-dataset\\versions\\1\\data\\bike\\bike_113.bmp: 384x512 24 objects, 1534.2ms\n",
      "Speed: 7.3ms preprocess, 1534.2ms inference, 79.7ms postprocess per image at shape (1, 3, 384, 512)\n"
     ]
    },
    {
     "name": "stderr",
     "output_type": "stream",
     "text": [
      " 31%|███       | 113/365 [03:17<06:58,  1.66s/it]"
     ]
    },
    {
     "name": "stdout",
     "output_type": "stream",
     "text": [
      "\n",
      "image 1/1 C:\\Users\\admin\\.cache\\kagglehub\\datasets\\pavansanagapati\\images-dataset\\versions\\1\\data\\bike\\bike_114.bmp: 384x512 30 objects, 1502.1ms\n",
      "Speed: 5.5ms preprocess, 1502.1ms inference, 73.7ms postprocess per image at shape (1, 3, 384, 512)\n"
     ]
    },
    {
     "name": "stderr",
     "output_type": "stream",
     "text": [
      " 31%|███       | 114/365 [03:18<06:54,  1.65s/it]"
     ]
    },
    {
     "name": "stdout",
     "output_type": "stream",
     "text": [
      "\n",
      "image 1/1 C:\\Users\\admin\\.cache\\kagglehub\\datasets\\pavansanagapati\\images-dataset\\versions\\1\\data\\bike\\bike_115.bmp: 384x512 26 objects, 1391.0ms\n",
      "Speed: 3.0ms preprocess, 1391.0ms inference, 65.6ms postprocess per image at shape (1, 3, 384, 512)\n"
     ]
    },
    {
     "name": "stderr",
     "output_type": "stream",
     "text": [
      " 32%|███▏      | 115/365 [03:20<06:42,  1.61s/it]"
     ]
    },
    {
     "name": "stdout",
     "output_type": "stream",
     "text": [
      "\n",
      "image 1/1 C:\\Users\\admin\\.cache\\kagglehub\\datasets\\pavansanagapati\\images-dataset\\versions\\1\\data\\bike\\bike_116.bmp: 384x512 16 objects, 1395.6ms\n",
      "Speed: 3.9ms preprocess, 1395.6ms inference, 39.9ms postprocess per image at shape (1, 3, 384, 512)\n"
     ]
    },
    {
     "name": "stderr",
     "output_type": "stream",
     "text": [
      " 32%|███▏      | 116/365 [03:21<06:32,  1.57s/it]"
     ]
    },
    {
     "name": "stdout",
     "output_type": "stream",
     "text": [
      "\n",
      "image 1/1 C:\\Users\\admin\\.cache\\kagglehub\\datasets\\pavansanagapati\\images-dataset\\versions\\1\\data\\bike\\bike_117.bmp: 384x512 8 objects, 1362.7ms\n",
      "Speed: 2.3ms preprocess, 1362.7ms inference, 22.6ms postprocess per image at shape (1, 3, 384, 512)\n"
     ]
    },
    {
     "name": "stderr",
     "output_type": "stream",
     "text": [
      " 32%|███▏      | 117/365 [03:23<06:19,  1.53s/it]"
     ]
    },
    {
     "name": "stdout",
     "output_type": "stream",
     "text": [
      "\n",
      "image 1/1 C:\\Users\\admin\\.cache\\kagglehub\\datasets\\pavansanagapati\\images-dataset\\versions\\1\\data\\bike\\bike_118.bmp: 384x512 12 objects, 1399.5ms\n",
      "Speed: 2.7ms preprocess, 1399.5ms inference, 31.0ms postprocess per image at shape (1, 3, 384, 512)\n"
     ]
    },
    {
     "name": "stderr",
     "output_type": "stream",
     "text": [
      " 32%|███▏      | 118/365 [03:24<06:14,  1.51s/it]"
     ]
    },
    {
     "name": "stdout",
     "output_type": "stream",
     "text": [
      "\n",
      "image 1/1 C:\\Users\\admin\\.cache\\kagglehub\\datasets\\pavansanagapati\\images-dataset\\versions\\1\\data\\bike\\bike_119.bmp: 384x512 17 objects, 1375.1ms\n",
      "Speed: 3.4ms preprocess, 1375.1ms inference, 46.8ms postprocess per image at shape (1, 3, 384, 512)\n"
     ]
    },
    {
     "name": "stderr",
     "output_type": "stream",
     "text": [
      " 33%|███▎      | 119/365 [03:26<06:09,  1.50s/it]"
     ]
    },
    {
     "name": "stdout",
     "output_type": "stream",
     "text": [
      "\n",
      "image 1/1 C:\\Users\\admin\\.cache\\kagglehub\\datasets\\pavansanagapati\\images-dataset\\versions\\1\\data\\bike\\bike_120.bmp: 384x512 24 objects, 1376.0ms\n",
      "Speed: 9.5ms preprocess, 1376.0ms inference, 59.0ms postprocess per image at shape (1, 3, 384, 512)\n"
     ]
    },
    {
     "name": "stderr",
     "output_type": "stream",
     "text": [
      " 33%|███▎      | 120/365 [03:27<06:07,  1.50s/it]"
     ]
    },
    {
     "name": "stdout",
     "output_type": "stream",
     "text": [
      "\n",
      "image 1/1 C:\\Users\\admin\\.cache\\kagglehub\\datasets\\pavansanagapati\\images-dataset\\versions\\1\\data\\bike\\bike_121.bmp: 384x512 18 objects, 1399.6ms\n",
      "Speed: 3.8ms preprocess, 1399.6ms inference, 48.6ms postprocess per image at shape (1, 3, 384, 512)\n"
     ]
    },
    {
     "name": "stderr",
     "output_type": "stream",
     "text": [
      " 33%|███▎      | 121/365 [03:29<06:06,  1.50s/it]"
     ]
    },
    {
     "name": "stdout",
     "output_type": "stream",
     "text": [
      "\n",
      "image 1/1 C:\\Users\\admin\\.cache\\kagglehub\\datasets\\pavansanagapati\\images-dataset\\versions\\1\\data\\bike\\bike_122.bmp: 384x512 27 objects, 1436.1ms\n",
      "Speed: 4.9ms preprocess, 1436.1ms inference, 66.1ms postprocess per image at shape (1, 3, 384, 512)\n"
     ]
    },
    {
     "name": "stderr",
     "output_type": "stream",
     "text": [
      " 33%|███▎      | 122/365 [03:30<06:09,  1.52s/it]"
     ]
    },
    {
     "name": "stdout",
     "output_type": "stream",
     "text": [
      "\n",
      "image 1/1 C:\\Users\\admin\\.cache\\kagglehub\\datasets\\pavansanagapati\\images-dataset\\versions\\1\\data\\bike\\bike_123.bmp: 384x512 32 objects, 1810.9ms\n",
      "Speed: 2.2ms preprocess, 1810.9ms inference, 85.9ms postprocess per image at shape (1, 3, 384, 512)\n"
     ]
    },
    {
     "name": "stderr",
     "output_type": "stream",
     "text": [
      " 34%|███▎      | 123/365 [03:32<06:39,  1.65s/it]"
     ]
    },
    {
     "name": "stdout",
     "output_type": "stream",
     "text": [
      "\n",
      "image 1/1 C:\\Users\\admin\\.cache\\kagglehub\\datasets\\pavansanagapati\\images-dataset\\versions\\1\\data\\bike\\bike_124.bmp: 384x512 14 objects, 1390.8ms\n",
      "Speed: 4.8ms preprocess, 1390.8ms inference, 35.3ms postprocess per image at shape (1, 3, 384, 512)\n"
     ]
    },
    {
     "name": "stderr",
     "output_type": "stream",
     "text": [
      " 34%|███▍      | 124/365 [03:34<06:25,  1.60s/it]"
     ]
    },
    {
     "name": "stdout",
     "output_type": "stream",
     "text": [
      "\n",
      "image 1/1 C:\\Users\\admin\\.cache\\kagglehub\\datasets\\pavansanagapati\\images-dataset\\versions\\1\\data\\bike\\bike_125.bmp: 384x512 30 objects, 1426.6ms\n",
      "Speed: 5.8ms preprocess, 1426.6ms inference, 76.9ms postprocess per image at shape (1, 3, 384, 512)\n"
     ]
    },
    {
     "name": "stderr",
     "output_type": "stream",
     "text": [
      " 34%|███▍      | 125/365 [03:35<06:21,  1.59s/it]"
     ]
    },
    {
     "name": "stdout",
     "output_type": "stream",
     "text": [
      "\n",
      "image 1/1 C:\\Users\\admin\\.cache\\kagglehub\\datasets\\pavansanagapati\\images-dataset\\versions\\1\\data\\bike\\bike_126.bmp: 384x512 16 objects, 1430.8ms\n",
      "Speed: 2.6ms preprocess, 1430.8ms inference, 41.9ms postprocess per image at shape (1, 3, 384, 512)\n"
     ]
    },
    {
     "name": "stderr",
     "output_type": "stream",
     "text": [
      " 35%|███▍      | 126/365 [03:37<06:14,  1.57s/it]"
     ]
    },
    {
     "name": "stdout",
     "output_type": "stream",
     "text": [
      "\n",
      "image 1/1 C:\\Users\\admin\\.cache\\kagglehub\\datasets\\pavansanagapati\\images-dataset\\versions\\1\\data\\bike\\bike_127.bmp: 384x512 41 objects, 1402.4ms\n",
      "Speed: 3.1ms preprocess, 1402.4ms inference, 99.3ms postprocess per image at shape (1, 3, 384, 512)\n"
     ]
    },
    {
     "name": "stderr",
     "output_type": "stream",
     "text": [
      " 35%|███▍      | 127/365 [03:38<06:12,  1.57s/it]"
     ]
    },
    {
     "name": "stdout",
     "output_type": "stream",
     "text": [
      "\n",
      "image 1/1 C:\\Users\\admin\\.cache\\kagglehub\\datasets\\pavansanagapati\\images-dataset\\versions\\1\\data\\bike\\bike_128.bmp: 384x512 39 objects, 1363.2ms\n",
      "Speed: 2.4ms preprocess, 1363.2ms inference, 99.6ms postprocess per image at shape (1, 3, 384, 512)\n"
     ]
    },
    {
     "name": "stderr",
     "output_type": "stream",
     "text": [
      " 35%|███▌      | 128/365 [03:40<06:08,  1.56s/it]"
     ]
    },
    {
     "name": "stdout",
     "output_type": "stream",
     "text": [
      "\n",
      "image 1/1 C:\\Users\\admin\\.cache\\kagglehub\\datasets\\pavansanagapati\\images-dataset\\versions\\1\\data\\bike\\bike_129.bmp: 384x512 25 objects, 1384.4ms\n",
      "Speed: 9.1ms preprocess, 1384.4ms inference, 66.2ms postprocess per image at shape (1, 3, 384, 512)\n"
     ]
    },
    {
     "name": "stderr",
     "output_type": "stream",
     "text": [
      " 35%|███▌      | 129/365 [03:41<06:04,  1.55s/it]"
     ]
    },
    {
     "name": "stdout",
     "output_type": "stream",
     "text": [
      "\n",
      "image 1/1 C:\\Users\\admin\\.cache\\kagglehub\\datasets\\pavansanagapati\\images-dataset\\versions\\1\\data\\bike\\bike_130.bmp: 384x512 17 objects, 1428.6ms\n",
      "Speed: 4.9ms preprocess, 1428.6ms inference, 46.3ms postprocess per image at shape (1, 3, 384, 512)\n"
     ]
    },
    {
     "name": "stderr",
     "output_type": "stream",
     "text": [
      " 36%|███▌      | 130/365 [03:43<06:02,  1.54s/it]"
     ]
    },
    {
     "name": "stdout",
     "output_type": "stream",
     "text": [
      "\n",
      "image 1/1 C:\\Users\\admin\\.cache\\kagglehub\\datasets\\pavansanagapati\\images-dataset\\versions\\1\\data\\bike\\bike_131.bmp: 384x512 20 objects, 1555.2ms\n",
      "Speed: 2.9ms preprocess, 1555.2ms inference, 53.3ms postprocess per image at shape (1, 3, 384, 512)\n"
     ]
    },
    {
     "name": "stderr",
     "output_type": "stream",
     "text": [
      " 36%|███▌      | 131/365 [03:44<06:10,  1.58s/it]"
     ]
    },
    {
     "name": "stdout",
     "output_type": "stream",
     "text": [
      "\n",
      "image 1/1 C:\\Users\\admin\\.cache\\kagglehub\\datasets\\pavansanagapati\\images-dataset\\versions\\1\\data\\bike\\bike_132.bmp: 384x512 28 objects, 1432.1ms\n",
      "Speed: 5.1ms preprocess, 1432.1ms inference, 72.0ms postprocess per image at shape (1, 3, 384, 512)\n"
     ]
    },
    {
     "name": "stderr",
     "output_type": "stream",
     "text": [
      " 36%|███▌      | 132/365 [03:46<06:07,  1.58s/it]"
     ]
    },
    {
     "name": "stdout",
     "output_type": "stream",
     "text": [
      "\n",
      "image 1/1 C:\\Users\\admin\\.cache\\kagglehub\\datasets\\pavansanagapati\\images-dataset\\versions\\1\\data\\bike\\bike_133.bmp: 384x512 13 objects, 1402.0ms\n",
      "Speed: 3.7ms preprocess, 1402.0ms inference, 33.3ms postprocess per image at shape (1, 3, 384, 512)\n"
     ]
    },
    {
     "name": "stderr",
     "output_type": "stream",
     "text": [
      " 36%|███▋      | 133/365 [03:48<05:58,  1.55s/it]"
     ]
    },
    {
     "name": "stdout",
     "output_type": "stream",
     "text": [
      "\n",
      "image 1/1 C:\\Users\\admin\\.cache\\kagglehub\\datasets\\pavansanagapati\\images-dataset\\versions\\1\\data\\bike\\bike_134.bmp: 384x512 18 objects, 1520.4ms\n",
      "Speed: 23.8ms preprocess, 1520.4ms inference, 45.1ms postprocess per image at shape (1, 3, 384, 512)\n"
     ]
    },
    {
     "name": "stderr",
     "output_type": "stream",
     "text": [
      " 37%|███▋      | 134/365 [03:49<06:03,  1.58s/it]"
     ]
    },
    {
     "name": "stdout",
     "output_type": "stream",
     "text": [
      "\n",
      "image 1/1 C:\\Users\\admin\\.cache\\kagglehub\\datasets\\pavansanagapati\\images-dataset\\versions\\1\\data\\bike\\bike_135.bmp: 384x512 31 objects, 1357.7ms\n",
      "Speed: 4.6ms preprocess, 1357.7ms inference, 78.3ms postprocess per image at shape (1, 3, 384, 512)\n"
     ]
    },
    {
     "name": "stderr",
     "output_type": "stream",
     "text": [
      " 37%|███▋      | 135/365 [03:51<05:57,  1.55s/it]"
     ]
    },
    {
     "name": "stdout",
     "output_type": "stream",
     "text": [
      "\n",
      "image 1/1 C:\\Users\\admin\\.cache\\kagglehub\\datasets\\pavansanagapati\\images-dataset\\versions\\1\\data\\bike\\bike_136.bmp: 384x512 30 objects, 1356.5ms\n",
      "Speed: 1.9ms preprocess, 1356.5ms inference, 79.0ms postprocess per image at shape (1, 3, 384, 512)\n"
     ]
    },
    {
     "name": "stderr",
     "output_type": "stream",
     "text": [
      " 37%|███▋      | 136/365 [03:52<05:52,  1.54s/it]"
     ]
    },
    {
     "name": "stdout",
     "output_type": "stream",
     "text": [
      "\n",
      "image 1/1 C:\\Users\\admin\\.cache\\kagglehub\\datasets\\pavansanagapati\\images-dataset\\versions\\1\\data\\bike\\bike_137.bmp: 384x512 23 objects, 1467.8ms\n",
      "Speed: 18.5ms preprocess, 1467.8ms inference, 61.8ms postprocess per image at shape (1, 3, 384, 512)\n"
     ]
    },
    {
     "name": "stderr",
     "output_type": "stream",
     "text": [
      " 38%|███▊      | 137/365 [03:54<05:55,  1.56s/it]"
     ]
    },
    {
     "name": "stdout",
     "output_type": "stream",
     "text": [
      "\n",
      "image 1/1 C:\\Users\\admin\\.cache\\kagglehub\\datasets\\pavansanagapati\\images-dataset\\versions\\1\\data\\bike\\bike_138.bmp: 384x512 32 objects, 1368.5ms\n",
      "Speed: 6.5ms preprocess, 1368.5ms inference, 80.0ms postprocess per image at shape (1, 3, 384, 512)\n"
     ]
    },
    {
     "name": "stderr",
     "output_type": "stream",
     "text": [
      " 38%|███▊      | 138/365 [03:55<05:52,  1.55s/it]"
     ]
    },
    {
     "name": "stdout",
     "output_type": "stream",
     "text": [
      "\n",
      "image 1/1 C:\\Users\\admin\\.cache\\kagglehub\\datasets\\pavansanagapati\\images-dataset\\versions\\1\\data\\bike\\bike_139.bmp: 384x512 22 objects, 1436.6ms\n",
      "Speed: 3.1ms preprocess, 1436.6ms inference, 49.8ms postprocess per image at shape (1, 3, 384, 512)\n"
     ]
    },
    {
     "name": "stderr",
     "output_type": "stream",
     "text": [
      " 38%|███▊      | 139/365 [03:57<05:50,  1.55s/it]"
     ]
    },
    {
     "name": "stdout",
     "output_type": "stream",
     "text": [
      "\n",
      "image 1/1 C:\\Users\\admin\\.cache\\kagglehub\\datasets\\pavansanagapati\\images-dataset\\versions\\1\\data\\bike\\bike_140.bmp: 512x384 24 objects, 1420.6ms\n",
      "Speed: 4.9ms preprocess, 1420.6ms inference, 62.2ms postprocess per image at shape (1, 3, 512, 384)\n"
     ]
    },
    {
     "name": "stderr",
     "output_type": "stream",
     "text": [
      " 38%|███▊      | 140/365 [03:58<05:48,  1.55s/it]"
     ]
    },
    {
     "name": "stdout",
     "output_type": "stream",
     "text": [
      "\n",
      "image 1/1 C:\\Users\\admin\\.cache\\kagglehub\\datasets\\pavansanagapati\\images-dataset\\versions\\1\\data\\bike\\bike_141.bmp: 512x384 33 objects, 1359.4ms\n",
      "Speed: 2.1ms preprocess, 1359.4ms inference, 85.0ms postprocess per image at shape (1, 3, 512, 384)\n"
     ]
    },
    {
     "name": "stderr",
     "output_type": "stream",
     "text": [
      " 39%|███▊      | 141/365 [04:00<05:45,  1.54s/it]"
     ]
    },
    {
     "name": "stdout",
     "output_type": "stream",
     "text": [
      "\n",
      "image 1/1 C:\\Users\\admin\\.cache\\kagglehub\\datasets\\pavansanagapati\\images-dataset\\versions\\1\\data\\bike\\bike_142.bmp: 512x384 24 objects, 1321.2ms\n",
      "Speed: 3.2ms preprocess, 1321.2ms inference, 60.8ms postprocess per image at shape (1, 3, 512, 384)\n"
     ]
    },
    {
     "name": "stderr",
     "output_type": "stream",
     "text": [
      " 39%|███▉      | 142/365 [04:01<05:37,  1.51s/it]"
     ]
    },
    {
     "name": "stdout",
     "output_type": "stream",
     "text": [
      "\n",
      "image 1/1 C:\\Users\\admin\\.cache\\kagglehub\\datasets\\pavansanagapati\\images-dataset\\versions\\1\\data\\bike\\bike_143.bmp: 512x384 23 objects, 1357.6ms\n",
      "Speed: 5.5ms preprocess, 1357.6ms inference, 54.4ms postprocess per image at shape (1, 3, 512, 384)\n"
     ]
    },
    {
     "name": "stderr",
     "output_type": "stream",
     "text": [
      " 39%|███▉      | 143/365 [04:03<05:33,  1.50s/it]"
     ]
    },
    {
     "name": "stdout",
     "output_type": "stream",
     "text": [
      "\n",
      "image 1/1 C:\\Users\\admin\\.cache\\kagglehub\\datasets\\pavansanagapati\\images-dataset\\versions\\1\\data\\bike\\bike_144.bmp: 512x384 15 objects, 1339.5ms\n",
      "Speed: 4.2ms preprocess, 1339.5ms inference, 37.5ms postprocess per image at shape (1, 3, 512, 384)\n"
     ]
    },
    {
     "name": "stderr",
     "output_type": "stream",
     "text": [
      " 39%|███▉      | 144/365 [04:04<05:27,  1.48s/it]"
     ]
    },
    {
     "name": "stdout",
     "output_type": "stream",
     "text": [
      "\n",
      "image 1/1 C:\\Users\\admin\\.cache\\kagglehub\\datasets\\pavansanagapati\\images-dataset\\versions\\1\\data\\bike\\bike_145.bmp: 512x384 26 objects, 1343.7ms\n",
      "Speed: 2.4ms preprocess, 1343.7ms inference, 61.9ms postprocess per image at shape (1, 3, 512, 384)\n"
     ]
    },
    {
     "name": "stderr",
     "output_type": "stream",
     "text": [
      " 40%|███▉      | 145/365 [04:06<05:24,  1.48s/it]"
     ]
    },
    {
     "name": "stdout",
     "output_type": "stream",
     "text": [
      "\n",
      "image 1/1 C:\\Users\\admin\\.cache\\kagglehub\\datasets\\pavansanagapati\\images-dataset\\versions\\1\\data\\bike\\bike_146.bmp: 512x384 27 objects, 1403.3ms\n",
      "Speed: 5.7ms preprocess, 1403.3ms inference, 72.7ms postprocess per image at shape (1, 3, 512, 384)\n"
     ]
    },
    {
     "name": "stderr",
     "output_type": "stream",
     "text": [
      " 40%|████      | 146/365 [04:07<05:28,  1.50s/it]"
     ]
    },
    {
     "name": "stdout",
     "output_type": "stream",
     "text": [
      "\n",
      "image 1/1 C:\\Users\\admin\\.cache\\kagglehub\\datasets\\pavansanagapati\\images-dataset\\versions\\1\\data\\bike\\bike_147.bmp: 512x384 39 objects, 1480.1ms\n",
      "Speed: 4.6ms preprocess, 1480.1ms inference, 95.2ms postprocess per image at shape (1, 3, 512, 384)\n"
     ]
    },
    {
     "name": "stderr",
     "output_type": "stream",
     "text": [
      " 40%|████      | 147/365 [04:09<05:36,  1.54s/it]"
     ]
    },
    {
     "name": "stdout",
     "output_type": "stream",
     "text": [
      "\n",
      "image 1/1 C:\\Users\\admin\\.cache\\kagglehub\\datasets\\pavansanagapati\\images-dataset\\versions\\1\\data\\bike\\bike_148.bmp: 384x512 41 objects, 1370.8ms\n",
      "Speed: 2.0ms preprocess, 1370.8ms inference, 104.5ms postprocess per image at shape (1, 3, 384, 512)\n"
     ]
    },
    {
     "name": "stderr",
     "output_type": "stream",
     "text": [
      " 41%|████      | 148/365 [04:11<05:35,  1.55s/it]"
     ]
    },
    {
     "name": "stdout",
     "output_type": "stream",
     "text": [
      "\n",
      "image 1/1 C:\\Users\\admin\\.cache\\kagglehub\\datasets\\pavansanagapati\\images-dataset\\versions\\1\\data\\bike\\bike_149.bmp: 384x512 22 objects, 1385.8ms\n",
      "Speed: 5.2ms preprocess, 1385.8ms inference, 56.2ms postprocess per image at shape (1, 3, 384, 512)\n"
     ]
    },
    {
     "name": "stderr",
     "output_type": "stream",
     "text": [
      " 41%|████      | 149/365 [04:12<05:33,  1.54s/it]"
     ]
    },
    {
     "name": "stdout",
     "output_type": "stream",
     "text": [
      "\n",
      "image 1/1 C:\\Users\\admin\\.cache\\kagglehub\\datasets\\pavansanagapati\\images-dataset\\versions\\1\\data\\bike\\bike_150.bmp: 384x512 20 objects, 1446.6ms\n",
      "Speed: 3.0ms preprocess, 1446.6ms inference, 50.6ms postprocess per image at shape (1, 3, 384, 512)\n"
     ]
    },
    {
     "name": "stderr",
     "output_type": "stream",
     "text": [
      " 41%|████      | 150/365 [04:14<05:33,  1.55s/it]"
     ]
    },
    {
     "name": "stdout",
     "output_type": "stream",
     "text": [
      "\n",
      "image 1/1 C:\\Users\\admin\\.cache\\kagglehub\\datasets\\pavansanagapati\\images-dataset\\versions\\1\\data\\bike\\bike_151.bmp: 384x512 32 objects, 1371.1ms\n",
      "Speed: 4.5ms preprocess, 1371.1ms inference, 88.6ms postprocess per image at shape (1, 3, 384, 512)\n"
     ]
    },
    {
     "name": "stderr",
     "output_type": "stream",
     "text": [
      " 41%|████▏     | 151/365 [04:15<05:32,  1.55s/it]"
     ]
    },
    {
     "name": "stdout",
     "output_type": "stream",
     "text": [
      "\n",
      "image 1/1 C:\\Users\\admin\\.cache\\kagglehub\\datasets\\pavansanagapati\\images-dataset\\versions\\1\\data\\bike\\bike_152.bmp: 384x512 15 objects, 1420.2ms\n",
      "Speed: 1.9ms preprocess, 1420.2ms inference, 40.1ms postprocess per image at shape (1, 3, 384, 512)\n"
     ]
    },
    {
     "name": "stderr",
     "output_type": "stream",
     "text": [
      " 42%|████▏     | 152/365 [04:17<05:33,  1.56s/it]"
     ]
    },
    {
     "name": "stdout",
     "output_type": "stream",
     "text": [
      "\n",
      "image 1/1 C:\\Users\\admin\\.cache\\kagglehub\\datasets\\pavansanagapati\\images-dataset\\versions\\1\\data\\bike\\bike_153.bmp: 384x512 43 objects, 1415.2ms\n",
      "Speed: 4.1ms preprocess, 1415.2ms inference, 105.5ms postprocess per image at shape (1, 3, 384, 512)\n"
     ]
    },
    {
     "name": "stderr",
     "output_type": "stream",
     "text": [
      " 42%|████▏     | 153/365 [04:18<05:32,  1.57s/it]"
     ]
    },
    {
     "name": "stdout",
     "output_type": "stream",
     "text": [
      "\n",
      "image 1/1 C:\\Users\\admin\\.cache\\kagglehub\\datasets\\pavansanagapati\\images-dataset\\versions\\1\\data\\bike\\bike_154.bmp: 384x512 27 objects, 1438.9ms\n",
      "Speed: 2.1ms preprocess, 1438.9ms inference, 71.1ms postprocess per image at shape (1, 3, 384, 512)\n"
     ]
    },
    {
     "name": "stderr",
     "output_type": "stream",
     "text": [
      " 42%|████▏     | 154/365 [04:20<05:34,  1.59s/it]"
     ]
    },
    {
     "name": "stdout",
     "output_type": "stream",
     "text": [
      "\n",
      "image 1/1 C:\\Users\\admin\\.cache\\kagglehub\\datasets\\pavansanagapati\\images-dataset\\versions\\1\\data\\bike\\bike_155.bmp: 384x512 31 objects, 1300.8ms\n",
      "Speed: 8.5ms preprocess, 1300.8ms inference, 79.5ms postprocess per image at shape (1, 3, 384, 512)\n"
     ]
    },
    {
     "name": "stderr",
     "output_type": "stream",
     "text": [
      " 42%|████▏     | 155/365 [04:21<05:26,  1.56s/it]"
     ]
    },
    {
     "name": "stdout",
     "output_type": "stream",
     "text": [
      "\n",
      "image 1/1 C:\\Users\\admin\\.cache\\kagglehub\\datasets\\pavansanagapati\\images-dataset\\versions\\1\\data\\bike\\bike_156.bmp: 384x512 25 objects, 1500.1ms\n",
      "Speed: 3.5ms preprocess, 1500.1ms inference, 65.5ms postprocess per image at shape (1, 3, 384, 512)\n"
     ]
    },
    {
     "name": "stderr",
     "output_type": "stream",
     "text": [
      " 43%|████▎     | 156/365 [04:23<05:31,  1.58s/it]"
     ]
    },
    {
     "name": "stdout",
     "output_type": "stream",
     "text": [
      "\n",
      "image 1/1 C:\\Users\\admin\\.cache\\kagglehub\\datasets\\pavansanagapati\\images-dataset\\versions\\1\\data\\bike\\bike_157.bmp: 384x512 22 objects, 1372.1ms\n",
      "Speed: 4.8ms preprocess, 1372.1ms inference, 56.8ms postprocess per image at shape (1, 3, 384, 512)\n"
     ]
    },
    {
     "name": "stderr",
     "output_type": "stream",
     "text": [
      " 43%|████▎     | 157/365 [04:25<05:24,  1.56s/it]"
     ]
    },
    {
     "name": "stdout",
     "output_type": "stream",
     "text": [
      "\n",
      "image 1/1 C:\\Users\\admin\\.cache\\kagglehub\\datasets\\pavansanagapati\\images-dataset\\versions\\1\\data\\bike\\bike_158.bmp: 384x512 27 objects, 1353.5ms\n",
      "Speed: 4.0ms preprocess, 1353.5ms inference, 67.8ms postprocess per image at shape (1, 3, 384, 512)\n"
     ]
    },
    {
     "name": "stderr",
     "output_type": "stream",
     "text": [
      " 43%|████▎     | 158/365 [04:26<05:18,  1.54s/it]"
     ]
    },
    {
     "name": "stdout",
     "output_type": "stream",
     "text": [
      "\n",
      "image 1/1 C:\\Users\\admin\\.cache\\kagglehub\\datasets\\pavansanagapati\\images-dataset\\versions\\1\\data\\bike\\bike_159.bmp: 384x512 22 objects, 1342.1ms\n",
      "Speed: 2.1ms preprocess, 1342.1ms inference, 57.5ms postprocess per image at shape (1, 3, 384, 512)\n"
     ]
    },
    {
     "name": "stderr",
     "output_type": "stream",
     "text": [
      " 44%|████▎     | 159/365 [04:28<05:12,  1.52s/it]"
     ]
    },
    {
     "name": "stdout",
     "output_type": "stream",
     "text": [
      "\n",
      "image 1/1 C:\\Users\\admin\\.cache\\kagglehub\\datasets\\pavansanagapati\\images-dataset\\versions\\1\\data\\bike\\bike_160.bmp: 384x512 21 objects, 1396.9ms\n",
      "Speed: 2.0ms preprocess, 1396.9ms inference, 51.9ms postprocess per image at shape (1, 3, 384, 512)\n"
     ]
    },
    {
     "name": "stderr",
     "output_type": "stream",
     "text": [
      " 44%|████▍     | 160/365 [04:29<05:10,  1.52s/it]"
     ]
    },
    {
     "name": "stdout",
     "output_type": "stream",
     "text": [
      "\n",
      "image 1/1 C:\\Users\\admin\\.cache\\kagglehub\\datasets\\pavansanagapati\\images-dataset\\versions\\1\\data\\bike\\bike_161.bmp: 384x512 23 objects, 1375.5ms\n",
      "Speed: 4.0ms preprocess, 1375.5ms inference, 56.9ms postprocess per image at shape (1, 3, 384, 512)\n"
     ]
    },
    {
     "name": "stderr",
     "output_type": "stream",
     "text": [
      " 44%|████▍     | 161/365 [04:31<05:09,  1.52s/it]"
     ]
    },
    {
     "name": "stdout",
     "output_type": "stream",
     "text": [
      "\n",
      "image 1/1 C:\\Users\\admin\\.cache\\kagglehub\\datasets\\pavansanagapati\\images-dataset\\versions\\1\\data\\bike\\bike_162.bmp: 384x512 21 objects, 1379.8ms\n",
      "Speed: 2.1ms preprocess, 1379.8ms inference, 53.0ms postprocess per image at shape (1, 3, 384, 512)\n"
     ]
    },
    {
     "name": "stderr",
     "output_type": "stream",
     "text": [
      " 44%|████▍     | 162/365 [04:32<05:06,  1.51s/it]"
     ]
    },
    {
     "name": "stdout",
     "output_type": "stream",
     "text": [
      "\n",
      "image 1/1 C:\\Users\\admin\\.cache\\kagglehub\\datasets\\pavansanagapati\\images-dataset\\versions\\1\\data\\bike\\bike_163.bmp: 384x512 26 objects, 1422.5ms\n",
      "Speed: 2.1ms preprocess, 1422.5ms inference, 68.7ms postprocess per image at shape (1, 3, 384, 512)\n"
     ]
    },
    {
     "name": "stderr",
     "output_type": "stream",
     "text": [
      " 45%|████▍     | 163/365 [04:34<05:08,  1.53s/it]"
     ]
    },
    {
     "name": "stdout",
     "output_type": "stream",
     "text": [
      "\n",
      "image 1/1 C:\\Users\\admin\\.cache\\kagglehub\\datasets\\pavansanagapati\\images-dataset\\versions\\1\\data\\bike\\bike_164.bmp: 384x512 27 objects, 1348.2ms\n",
      "Speed: 3.8ms preprocess, 1348.2ms inference, 70.5ms postprocess per image at shape (1, 3, 384, 512)\n"
     ]
    },
    {
     "name": "stderr",
     "output_type": "stream",
     "text": [
      " 45%|████▍     | 164/365 [04:35<05:04,  1.52s/it]"
     ]
    },
    {
     "name": "stdout",
     "output_type": "stream",
     "text": [
      "\n",
      "image 1/1 C:\\Users\\admin\\.cache\\kagglehub\\datasets\\pavansanagapati\\images-dataset\\versions\\1\\data\\bike\\bike_165.bmp: 384x512 14 objects, 1473.4ms\n",
      "Speed: 3.4ms preprocess, 1473.4ms inference, 36.6ms postprocess per image at shape (1, 3, 384, 512)\n"
     ]
    },
    {
     "name": "stderr",
     "output_type": "stream",
     "text": [
      " 45%|████▌     | 165/365 [04:37<05:05,  1.53s/it]"
     ]
    },
    {
     "name": "stdout",
     "output_type": "stream",
     "text": [
      "\n",
      "image 1/1 C:\\Users\\admin\\.cache\\kagglehub\\datasets\\pavansanagapati\\images-dataset\\versions\\1\\data\\bike\\bike_166.bmp: 384x512 44 objects, 1349.1ms\n",
      "Speed: 3.1ms preprocess, 1349.1ms inference, 106.3ms postprocess per image at shape (1, 3, 384, 512)\n"
     ]
    },
    {
     "name": "stderr",
     "output_type": "stream",
     "text": [
      " 45%|████▌     | 166/365 [04:38<05:04,  1.53s/it]"
     ]
    },
    {
     "name": "stdout",
     "output_type": "stream",
     "text": [
      "\n",
      "image 1/1 C:\\Users\\admin\\.cache\\kagglehub\\datasets\\pavansanagapati\\images-dataset\\versions\\1\\data\\bike\\bike_167.bmp: 384x512 64 objects, 1330.5ms\n",
      "Speed: 1.9ms preprocess, 1330.5ms inference, 177.7ms postprocess per image at shape (1, 3, 384, 512)\n"
     ]
    },
    {
     "name": "stderr",
     "output_type": "stream",
     "text": [
      " 46%|████▌     | 167/365 [04:40<05:08,  1.56s/it]"
     ]
    },
    {
     "name": "stdout",
     "output_type": "stream",
     "text": [
      "\n",
      "image 1/1 C:\\Users\\admin\\.cache\\kagglehub\\datasets\\pavansanagapati\\images-dataset\\versions\\1\\data\\bike\\bike_168.bmp: 384x512 32 objects, 1392.3ms\n",
      "Speed: 2.8ms preprocess, 1392.3ms inference, 71.0ms postprocess per image at shape (1, 3, 384, 512)\n"
     ]
    },
    {
     "name": "stderr",
     "output_type": "stream",
     "text": [
      " 46%|████▌     | 168/365 [04:41<05:05,  1.55s/it]"
     ]
    },
    {
     "name": "stdout",
     "output_type": "stream",
     "text": [
      "\n",
      "image 1/1 C:\\Users\\admin\\.cache\\kagglehub\\datasets\\pavansanagapati\\images-dataset\\versions\\1\\data\\bike\\bike_169.bmp: 384x512 33 objects, 1393.0ms\n",
      "Speed: 2.7ms preprocess, 1393.0ms inference, 80.2ms postprocess per image at shape (1, 3, 384, 512)\n"
     ]
    },
    {
     "name": "stderr",
     "output_type": "stream",
     "text": [
      " 46%|████▋     | 169/365 [04:43<05:05,  1.56s/it]"
     ]
    },
    {
     "name": "stdout",
     "output_type": "stream",
     "text": [
      "\n",
      "image 1/1 C:\\Users\\admin\\.cache\\kagglehub\\datasets\\pavansanagapati\\images-dataset\\versions\\1\\data\\bike\\bike_170.bmp: 384x512 17 objects, 1372.8ms\n",
      "Speed: 6.0ms preprocess, 1372.8ms inference, 42.1ms postprocess per image at shape (1, 3, 384, 512)\n"
     ]
    },
    {
     "name": "stderr",
     "output_type": "stream",
     "text": [
      " 47%|████▋     | 170/365 [04:44<04:57,  1.53s/it]"
     ]
    },
    {
     "name": "stdout",
     "output_type": "stream",
     "text": [
      "\n",
      "image 1/1 C:\\Users\\admin\\.cache\\kagglehub\\datasets\\pavansanagapati\\images-dataset\\versions\\1\\data\\bike\\bike_171.bmp: 384x512 24 objects, 1413.3ms\n",
      "Speed: 7.5ms preprocess, 1413.3ms inference, 65.8ms postprocess per image at shape (1, 3, 384, 512)\n"
     ]
    },
    {
     "name": "stderr",
     "output_type": "stream",
     "text": [
      " 47%|████▋     | 171/365 [04:46<04:58,  1.54s/it]"
     ]
    },
    {
     "name": "stdout",
     "output_type": "stream",
     "text": [
      "\n",
      "image 1/1 C:\\Users\\admin\\.cache\\kagglehub\\datasets\\pavansanagapati\\images-dataset\\versions\\1\\data\\bike\\bike_172.bmp: 384x512 13 objects, 1493.2ms\n",
      "Speed: 1.8ms preprocess, 1493.2ms inference, 36.7ms postprocess per image at shape (1, 3, 384, 512)\n"
     ]
    },
    {
     "name": "stderr",
     "output_type": "stream",
     "text": [
      " 47%|████▋     | 172/365 [04:48<04:59,  1.55s/it]"
     ]
    },
    {
     "name": "stdout",
     "output_type": "stream",
     "text": [
      "\n",
      "image 1/1 C:\\Users\\admin\\.cache\\kagglehub\\datasets\\pavansanagapati\\images-dataset\\versions\\1\\data\\bike\\bike_173.bmp: 384x512 21 objects, 1356.7ms\n",
      "Speed: 7.7ms preprocess, 1356.7ms inference, 53.2ms postprocess per image at shape (1, 3, 384, 512)\n"
     ]
    },
    {
     "name": "stderr",
     "output_type": "stream",
     "text": [
      " 47%|████▋     | 173/365 [04:49<04:53,  1.53s/it]"
     ]
    },
    {
     "name": "stdout",
     "output_type": "stream",
     "text": [
      "\n",
      "image 1/1 C:\\Users\\admin\\.cache\\kagglehub\\datasets\\pavansanagapati\\images-dataset\\versions\\1\\data\\bike\\bike_174.bmp: 384x512 29 objects, 1411.9ms\n",
      "Speed: 4.8ms preprocess, 1411.9ms inference, 68.5ms postprocess per image at shape (1, 3, 384, 512)\n"
     ]
    },
    {
     "name": "stderr",
     "output_type": "stream",
     "text": [
      " 48%|████▊     | 174/365 [04:51<04:53,  1.54s/it]"
     ]
    },
    {
     "name": "stdout",
     "output_type": "stream",
     "text": [
      "\n",
      "image 1/1 C:\\Users\\admin\\.cache\\kagglehub\\datasets\\pavansanagapati\\images-dataset\\versions\\1\\data\\bike\\bike_175.bmp: 384x512 23 objects, 1343.4ms\n",
      "Speed: 6.4ms preprocess, 1343.4ms inference, 54.5ms postprocess per image at shape (1, 3, 384, 512)\n"
     ]
    },
    {
     "name": "stderr",
     "output_type": "stream",
     "text": [
      " 48%|████▊     | 175/365 [04:52<04:48,  1.52s/it]"
     ]
    },
    {
     "name": "stdout",
     "output_type": "stream",
     "text": [
      "\n",
      "image 1/1 C:\\Users\\admin\\.cache\\kagglehub\\datasets\\pavansanagapati\\images-dataset\\versions\\1\\data\\bike\\bike_176.bmp: 384x512 24 objects, 1640.7ms\n",
      "Speed: 2.1ms preprocess, 1640.7ms inference, 68.2ms postprocess per image at shape (1, 3, 384, 512)\n"
     ]
    },
    {
     "name": "stderr",
     "output_type": "stream",
     "text": [
      " 48%|████▊     | 176/365 [04:54<05:01,  1.60s/it]"
     ]
    },
    {
     "name": "stdout",
     "output_type": "stream",
     "text": [
      "\n",
      "image 1/1 C:\\Users\\admin\\.cache\\kagglehub\\datasets\\pavansanagapati\\images-dataset\\versions\\1\\data\\bike\\bike_177.bmp: 384x512 25 objects, 1357.9ms\n",
      "Speed: 2.6ms preprocess, 1357.9ms inference, 57.0ms postprocess per image at shape (1, 3, 384, 512)\n"
     ]
    },
    {
     "name": "stderr",
     "output_type": "stream",
     "text": [
      " 48%|████▊     | 177/365 [04:55<04:53,  1.56s/it]"
     ]
    },
    {
     "name": "stdout",
     "output_type": "stream",
     "text": [
      "\n",
      "image 1/1 C:\\Users\\admin\\.cache\\kagglehub\\datasets\\pavansanagapati\\images-dataset\\versions\\1\\data\\bike\\bike_178.bmp: 384x512 18 objects, 1379.9ms\n",
      "Speed: 6.5ms preprocess, 1379.9ms inference, 46.4ms postprocess per image at shape (1, 3, 384, 512)\n"
     ]
    },
    {
     "name": "stderr",
     "output_type": "stream",
     "text": [
      " 49%|████▉     | 178/365 [04:57<04:49,  1.55s/it]"
     ]
    },
    {
     "name": "stdout",
     "output_type": "stream",
     "text": [
      "\n",
      "image 1/1 C:\\Users\\admin\\.cache\\kagglehub\\datasets\\pavansanagapati\\images-dataset\\versions\\1\\data\\bike\\bike_179.bmp: 384x512 20 objects, 1467.4ms\n",
      "Speed: 2.0ms preprocess, 1467.4ms inference, 53.5ms postprocess per image at shape (1, 3, 384, 512)\n"
     ]
    },
    {
     "name": "stderr",
     "output_type": "stream",
     "text": [
      " 49%|████▉     | 179/365 [04:58<04:49,  1.56s/it]"
     ]
    },
    {
     "name": "stdout",
     "output_type": "stream",
     "text": [
      "\n",
      "image 1/1 C:\\Users\\admin\\.cache\\kagglehub\\datasets\\pavansanagapati\\images-dataset\\versions\\1\\data\\bike\\bike_180.bmp: 384x512 23 objects, 1337.5ms\n",
      "Speed: 2.6ms preprocess, 1337.5ms inference, 57.2ms postprocess per image at shape (1, 3, 384, 512)\n"
     ]
    },
    {
     "name": "stderr",
     "output_type": "stream",
     "text": [
      " 49%|████▉     | 180/365 [05:00<04:46,  1.55s/it]"
     ]
    },
    {
     "name": "stdout",
     "output_type": "stream",
     "text": [
      "\n",
      "image 1/1 C:\\Users\\admin\\.cache\\kagglehub\\datasets\\pavansanagapati\\images-dataset\\versions\\1\\data\\bike\\bike_181.bmp: 384x512 20 objects, 1404.1ms\n",
      "Speed: 2.0ms preprocess, 1404.1ms inference, 51.9ms postprocess per image at shape (1, 3, 384, 512)\n"
     ]
    },
    {
     "name": "stderr",
     "output_type": "stream",
     "text": [
      " 50%|████▉     | 181/365 [05:01<04:43,  1.54s/it]"
     ]
    },
    {
     "name": "stdout",
     "output_type": "stream",
     "text": [
      "\n",
      "image 1/1 C:\\Users\\admin\\.cache\\kagglehub\\datasets\\pavansanagapati\\images-dataset\\versions\\1\\data\\bike\\bike_182.bmp: 384x512 31 objects, 1348.2ms\n",
      "Speed: 7.5ms preprocess, 1348.2ms inference, 70.0ms postprocess per image at shape (1, 3, 384, 512)\n"
     ]
    },
    {
     "name": "stderr",
     "output_type": "stream",
     "text": [
      " 50%|████▉     | 182/365 [05:03<04:39,  1.53s/it]"
     ]
    },
    {
     "name": "stdout",
     "output_type": "stream",
     "text": [
      "\n",
      "image 1/1 C:\\Users\\admin\\.cache\\kagglehub\\datasets\\pavansanagapati\\images-dataset\\versions\\1\\data\\bike\\bike_183.bmp: 384x512 25 objects, 1369.9ms\n",
      "Speed: 2.1ms preprocess, 1369.9ms inference, 64.4ms postprocess per image at shape (1, 3, 384, 512)\n"
     ]
    },
    {
     "name": "stderr",
     "output_type": "stream",
     "text": [
      " 50%|█████     | 183/365 [05:04<04:36,  1.52s/it]"
     ]
    },
    {
     "name": "stdout",
     "output_type": "stream",
     "text": [
      "\n",
      "image 1/1 C:\\Users\\admin\\.cache\\kagglehub\\datasets\\pavansanagapati\\images-dataset\\versions\\1\\data\\bike\\bike_184.bmp: 384x512 29 objects, 1383.7ms\n",
      "Speed: 5.4ms preprocess, 1383.7ms inference, 70.6ms postprocess per image at shape (1, 3, 384, 512)\n"
     ]
    },
    {
     "name": "stderr",
     "output_type": "stream",
     "text": [
      " 50%|█████     | 184/365 [05:06<04:35,  1.52s/it]"
     ]
    },
    {
     "name": "stdout",
     "output_type": "stream",
     "text": [
      "\n",
      "image 1/1 C:\\Users\\admin\\.cache\\kagglehub\\datasets\\pavansanagapati\\images-dataset\\versions\\1\\data\\bike\\bike_185.bmp: 384x512 20 objects, 1339.5ms\n",
      "Speed: 5.9ms preprocess, 1339.5ms inference, 51.8ms postprocess per image at shape (1, 3, 384, 512)\n"
     ]
    },
    {
     "name": "stderr",
     "output_type": "stream",
     "text": [
      " 51%|█████     | 185/365 [05:07<04:30,  1.50s/it]"
     ]
    },
    {
     "name": "stdout",
     "output_type": "stream",
     "text": [
      "\n",
      "image 1/1 C:\\Users\\admin\\.cache\\kagglehub\\datasets\\pavansanagapati\\images-dataset\\versions\\1\\data\\bike\\bike_186.bmp: 384x512 17 objects, 1459.5ms\n",
      "Speed: 11.1ms preprocess, 1459.5ms inference, 35.8ms postprocess per image at shape (1, 3, 384, 512)\n"
     ]
    },
    {
     "name": "stderr",
     "output_type": "stream",
     "text": [
      " 51%|█████     | 186/365 [05:09<04:33,  1.53s/it]"
     ]
    },
    {
     "name": "stdout",
     "output_type": "stream",
     "text": [
      "\n",
      "image 1/1 C:\\Users\\admin\\.cache\\kagglehub\\datasets\\pavansanagapati\\images-dataset\\versions\\1\\data\\bike\\bike_187.bmp: 384x512 15 objects, 1385.3ms\n",
      "Speed: 2.2ms preprocess, 1385.3ms inference, 35.1ms postprocess per image at shape (1, 3, 384, 512)\n"
     ]
    },
    {
     "name": "stderr",
     "output_type": "stream",
     "text": [
      " 51%|█████     | 187/365 [05:11<04:28,  1.51s/it]"
     ]
    },
    {
     "name": "stdout",
     "output_type": "stream",
     "text": [
      "\n",
      "image 1/1 C:\\Users\\admin\\.cache\\kagglehub\\datasets\\pavansanagapati\\images-dataset\\versions\\1\\data\\bike\\bike_188.bmp: 384x512 24 objects, 1337.9ms\n",
      "Speed: 5.7ms preprocess, 1337.9ms inference, 55.9ms postprocess per image at shape (1, 3, 384, 512)\n"
     ]
    },
    {
     "name": "stderr",
     "output_type": "stream",
     "text": [
      " 52%|█████▏    | 188/365 [05:12<04:24,  1.50s/it]"
     ]
    },
    {
     "name": "stdout",
     "output_type": "stream",
     "text": [
      "\n",
      "image 1/1 C:\\Users\\admin\\.cache\\kagglehub\\datasets\\pavansanagapati\\images-dataset\\versions\\1\\data\\bike\\bike_189.bmp: 384x512 29 objects, 1307.9ms\n",
      "Speed: 2.6ms preprocess, 1307.9ms inference, 68.7ms postprocess per image at shape (1, 3, 384, 512)\n"
     ]
    },
    {
     "name": "stderr",
     "output_type": "stream",
     "text": [
      " 52%|█████▏    | 189/365 [05:13<04:23,  1.50s/it]"
     ]
    },
    {
     "name": "stdout",
     "output_type": "stream",
     "text": [
      "\n",
      "image 1/1 C:\\Users\\admin\\.cache\\kagglehub\\datasets\\pavansanagapati\\images-dataset\\versions\\1\\data\\bike\\bike_190.bmp: 384x512 29 objects, 1372.0ms\n",
      "Speed: 6.3ms preprocess, 1372.0ms inference, 66.5ms postprocess per image at shape (1, 3, 384, 512)\n"
     ]
    },
    {
     "name": "stderr",
     "output_type": "stream",
     "text": [
      " 52%|█████▏    | 190/365 [05:15<04:22,  1.50s/it]"
     ]
    },
    {
     "name": "stdout",
     "output_type": "stream",
     "text": [
      "\n",
      "image 1/1 C:\\Users\\admin\\.cache\\kagglehub\\datasets\\pavansanagapati\\images-dataset\\versions\\1\\data\\bike\\bike_191.bmp: 384x512 20 objects, 1337.1ms\n",
      "Speed: 2.4ms preprocess, 1337.1ms inference, 48.6ms postprocess per image at shape (1, 3, 384, 512)\n"
     ]
    },
    {
     "name": "stderr",
     "output_type": "stream",
     "text": [
      " 52%|█████▏    | 191/365 [05:16<04:19,  1.49s/it]"
     ]
    },
    {
     "name": "stdout",
     "output_type": "stream",
     "text": [
      "\n",
      "image 1/1 C:\\Users\\admin\\.cache\\kagglehub\\datasets\\pavansanagapati\\images-dataset\\versions\\1\\data\\bike\\bike_192.bmp: 384x512 29 objects, 1331.5ms\n",
      "Speed: 3.8ms preprocess, 1331.5ms inference, 69.8ms postprocess per image at shape (1, 3, 384, 512)\n"
     ]
    },
    {
     "name": "stderr",
     "output_type": "stream",
     "text": [
      " 53%|█████▎    | 192/365 [05:18<04:16,  1.48s/it]"
     ]
    },
    {
     "name": "stdout",
     "output_type": "stream",
     "text": [
      "\n",
      "image 1/1 C:\\Users\\admin\\.cache\\kagglehub\\datasets\\pavansanagapati\\images-dataset\\versions\\1\\data\\bike\\bike_193.bmp: 384x512 23 objects, 1347.0ms\n",
      "Speed: 4.6ms preprocess, 1347.0ms inference, 54.0ms postprocess per image at shape (1, 3, 384, 512)\n"
     ]
    },
    {
     "name": "stderr",
     "output_type": "stream",
     "text": [
      " 53%|█████▎    | 193/365 [05:19<04:14,  1.48s/it]"
     ]
    },
    {
     "name": "stdout",
     "output_type": "stream",
     "text": [
      "\n",
      "image 1/1 C:\\Users\\admin\\.cache\\kagglehub\\datasets\\pavansanagapati\\images-dataset\\versions\\1\\data\\bike\\bike_194.bmp: 384x512 20 objects, 1436.9ms\n",
      "Speed: 4.5ms preprocess, 1436.9ms inference, 51.4ms postprocess per image at shape (1, 3, 384, 512)\n"
     ]
    },
    {
     "name": "stderr",
     "output_type": "stream",
     "text": [
      " 53%|█████▎    | 194/365 [05:21<04:16,  1.50s/it]"
     ]
    },
    {
     "name": "stdout",
     "output_type": "stream",
     "text": [
      "\n",
      "image 1/1 C:\\Users\\admin\\.cache\\kagglehub\\datasets\\pavansanagapati\\images-dataset\\versions\\1\\data\\bike\\bike_195.bmp: 384x512 17 objects, 1355.2ms\n",
      "Speed: 10.4ms preprocess, 1355.2ms inference, 39.0ms postprocess per image at shape (1, 3, 384, 512)\n"
     ]
    },
    {
     "name": "stderr",
     "output_type": "stream",
     "text": [
      " 53%|█████▎    | 195/365 [05:22<04:13,  1.49s/it]"
     ]
    },
    {
     "name": "stdout",
     "output_type": "stream",
     "text": [
      "\n",
      "image 1/1 C:\\Users\\admin\\.cache\\kagglehub\\datasets\\pavansanagapati\\images-dataset\\versions\\1\\data\\bike\\bike_196.bmp: 384x512 22 objects, 1348.9ms\n",
      "Speed: 4.9ms preprocess, 1348.9ms inference, 48.6ms postprocess per image at shape (1, 3, 384, 512)\n"
     ]
    },
    {
     "name": "stderr",
     "output_type": "stream",
     "text": [
      " 54%|█████▎    | 196/365 [05:24<04:09,  1.48s/it]"
     ]
    },
    {
     "name": "stdout",
     "output_type": "stream",
     "text": [
      "\n",
      "image 1/1 C:\\Users\\admin\\.cache\\kagglehub\\datasets\\pavansanagapati\\images-dataset\\versions\\1\\data\\bike\\bike_197.bmp: 384x512 21 objects, 1335.4ms\n",
      "Speed: 2.4ms preprocess, 1335.4ms inference, 70.6ms postprocess per image at shape (1, 3, 384, 512)\n"
     ]
    },
    {
     "name": "stderr",
     "output_type": "stream",
     "text": [
      " 54%|█████▍    | 197/365 [05:25<04:08,  1.48s/it]"
     ]
    },
    {
     "name": "stdout",
     "output_type": "stream",
     "text": [
      "\n",
      "image 1/1 C:\\Users\\admin\\.cache\\kagglehub\\datasets\\pavansanagapati\\images-dataset\\versions\\1\\data\\bike\\bike_198.bmp: 384x512 21 objects, 1364.1ms\n",
      "Speed: 2.1ms preprocess, 1364.1ms inference, 48.0ms postprocess per image at shape (1, 3, 384, 512)\n"
     ]
    },
    {
     "name": "stderr",
     "output_type": "stream",
     "text": [
      " 54%|█████▍    | 198/365 [05:27<04:06,  1.48s/it]"
     ]
    },
    {
     "name": "stdout",
     "output_type": "stream",
     "text": [
      "\n",
      "image 1/1 C:\\Users\\admin\\.cache\\kagglehub\\datasets\\pavansanagapati\\images-dataset\\versions\\1\\data\\bike\\bike_199.bmp: 384x512 26 objects, 1378.0ms\n",
      "Speed: 2.1ms preprocess, 1378.0ms inference, 61.4ms postprocess per image at shape (1, 3, 384, 512)\n"
     ]
    },
    {
     "name": "stderr",
     "output_type": "stream",
     "text": [
      " 55%|█████▍    | 199/365 [05:28<04:06,  1.49s/it]"
     ]
    },
    {
     "name": "stdout",
     "output_type": "stream",
     "text": [
      "\n",
      "image 1/1 C:\\Users\\admin\\.cache\\kagglehub\\datasets\\pavansanagapati\\images-dataset\\versions\\1\\data\\bike\\bike_200.bmp: 384x512 27 objects, 1341.4ms\n",
      "Speed: 2.9ms preprocess, 1341.4ms inference, 77.8ms postprocess per image at shape (1, 3, 384, 512)\n"
     ]
    },
    {
     "name": "stderr",
     "output_type": "stream",
     "text": [
      " 55%|█████▍    | 200/365 [05:30<04:06,  1.49s/it]"
     ]
    },
    {
     "name": "stdout",
     "output_type": "stream",
     "text": [
      "\n",
      "image 1/1 C:\\Users\\admin\\.cache\\kagglehub\\datasets\\pavansanagapati\\images-dataset\\versions\\1\\data\\bike\\bike_201.bmp: 384x512 28 objects, 1348.1ms\n",
      "Speed: 3.9ms preprocess, 1348.1ms inference, 67.9ms postprocess per image at shape (1, 3, 384, 512)\n"
     ]
    },
    {
     "name": "stderr",
     "output_type": "stream",
     "text": [
      " 55%|█████▌    | 201/365 [05:31<04:04,  1.49s/it]"
     ]
    },
    {
     "name": "stdout",
     "output_type": "stream",
     "text": [
      "\n",
      "image 1/1 C:\\Users\\admin\\.cache\\kagglehub\\datasets\\pavansanagapati\\images-dataset\\versions\\1\\data\\bike\\bike_202.bmp: 384x512 14 objects, 1450.1ms\n",
      "Speed: 2.5ms preprocess, 1450.1ms inference, 34.0ms postprocess per image at shape (1, 3, 384, 512)\n"
     ]
    },
    {
     "name": "stderr",
     "output_type": "stream",
     "text": [
      " 55%|█████▌    | 202/365 [05:33<04:04,  1.50s/it]"
     ]
    },
    {
     "name": "stdout",
     "output_type": "stream",
     "text": [
      "\n",
      "image 1/1 C:\\Users\\admin\\.cache\\kagglehub\\datasets\\pavansanagapati\\images-dataset\\versions\\1\\data\\bike\\bike_203.bmp: 384x512 25 objects, 1359.6ms\n",
      "Speed: 2.7ms preprocess, 1359.6ms inference, 69.8ms postprocess per image at shape (1, 3, 384, 512)\n"
     ]
    },
    {
     "name": "stderr",
     "output_type": "stream",
     "text": [
      " 56%|█████▌    | 203/365 [05:34<04:03,  1.50s/it]"
     ]
    },
    {
     "name": "stdout",
     "output_type": "stream",
     "text": [
      "\n",
      "image 1/1 C:\\Users\\admin\\.cache\\kagglehub\\datasets\\pavansanagapati\\images-dataset\\versions\\1\\data\\bike\\bike_204.bmp: 384x512 16 objects, 1353.1ms\n",
      "Speed: 4.4ms preprocess, 1353.1ms inference, 42.0ms postprocess per image at shape (1, 3, 384, 512)\n"
     ]
    },
    {
     "name": "stderr",
     "output_type": "stream",
     "text": [
      " 56%|█████▌    | 204/365 [05:36<04:00,  1.50s/it]"
     ]
    },
    {
     "name": "stdout",
     "output_type": "stream",
     "text": [
      "\n",
      "image 1/1 C:\\Users\\admin\\.cache\\kagglehub\\datasets\\pavansanagapati\\images-dataset\\versions\\1\\data\\bike\\bike_205.bmp: 384x512 24 objects, 1386.5ms\n",
      "Speed: 3.7ms preprocess, 1386.5ms inference, 60.3ms postprocess per image at shape (1, 3, 384, 512)\n"
     ]
    },
    {
     "name": "stderr",
     "output_type": "stream",
     "text": [
      " 56%|█████▌    | 205/365 [05:37<04:00,  1.50s/it]"
     ]
    },
    {
     "name": "stdout",
     "output_type": "stream",
     "text": [
      "\n",
      "image 1/1 C:\\Users\\admin\\.cache\\kagglehub\\datasets\\pavansanagapati\\images-dataset\\versions\\1\\data\\bike\\bike_206.bmp: 384x512 19 objects, 1378.9ms\n",
      "Speed: 3.7ms preprocess, 1378.9ms inference, 48.5ms postprocess per image at shape (1, 3, 384, 512)\n"
     ]
    },
    {
     "name": "stderr",
     "output_type": "stream",
     "text": [
      " 56%|█████▋    | 206/365 [05:39<03:58,  1.50s/it]"
     ]
    },
    {
     "name": "stdout",
     "output_type": "stream",
     "text": [
      "\n",
      "image 1/1 C:\\Users\\admin\\.cache\\kagglehub\\datasets\\pavansanagapati\\images-dataset\\versions\\1\\data\\bike\\bike_207.bmp: 384x512 26 objects, 1340.7ms\n",
      "Speed: 4.7ms preprocess, 1340.7ms inference, 66.4ms postprocess per image at shape (1, 3, 384, 512)\n"
     ]
    },
    {
     "name": "stderr",
     "output_type": "stream",
     "text": [
      " 57%|█████▋    | 207/365 [05:40<03:55,  1.49s/it]"
     ]
    },
    {
     "name": "stdout",
     "output_type": "stream",
     "text": [
      "\n",
      "image 1/1 C:\\Users\\admin\\.cache\\kagglehub\\datasets\\pavansanagapati\\images-dataset\\versions\\1\\data\\bike\\bike_208.bmp: 384x512 26 objects, 1351.2ms\n",
      "Speed: 6.4ms preprocess, 1351.2ms inference, 69.7ms postprocess per image at shape (1, 3, 384, 512)\n"
     ]
    },
    {
     "name": "stderr",
     "output_type": "stream",
     "text": [
      " 57%|█████▋    | 208/365 [05:42<03:54,  1.49s/it]"
     ]
    },
    {
     "name": "stdout",
     "output_type": "stream",
     "text": [
      "\n",
      "image 1/1 C:\\Users\\admin\\.cache\\kagglehub\\datasets\\pavansanagapati\\images-dataset\\versions\\1\\data\\bike\\bike_209.bmp: 384x512 26 objects, 1341.2ms\n",
      "Speed: 4.5ms preprocess, 1341.2ms inference, 75.6ms postprocess per image at shape (1, 3, 384, 512)\n"
     ]
    },
    {
     "name": "stderr",
     "output_type": "stream",
     "text": [
      " 57%|█████▋    | 209/365 [05:43<03:53,  1.50s/it]"
     ]
    },
    {
     "name": "stdout",
     "output_type": "stream",
     "text": [
      "\n",
      "image 1/1 C:\\Users\\admin\\.cache\\kagglehub\\datasets\\pavansanagapati\\images-dataset\\versions\\1\\data\\bike\\bike_210.bmp: 384x512 21 objects, 1395.2ms\n",
      "Speed: 36.3ms preprocess, 1395.2ms inference, 50.9ms postprocess per image at shape (1, 3, 384, 512)\n"
     ]
    },
    {
     "name": "stderr",
     "output_type": "stream",
     "text": [
      " 58%|█████▊    | 210/365 [05:45<03:56,  1.53s/it]"
     ]
    },
    {
     "name": "stdout",
     "output_type": "stream",
     "text": [
      "\n",
      "image 1/1 C:\\Users\\admin\\.cache\\kagglehub\\datasets\\pavansanagapati\\images-dataset\\versions\\1\\data\\bike\\bike_211.bmp: 384x512 22 objects, 1388.7ms\n",
      "Speed: 2.5ms preprocess, 1388.7ms inference, 55.2ms postprocess per image at shape (1, 3, 384, 512)\n"
     ]
    },
    {
     "name": "stderr",
     "output_type": "stream",
     "text": [
      " 58%|█████▊    | 211/365 [05:46<03:57,  1.54s/it]"
     ]
    },
    {
     "name": "stdout",
     "output_type": "stream",
     "text": [
      "\n",
      "image 1/1 C:\\Users\\admin\\.cache\\kagglehub\\datasets\\pavansanagapati\\images-dataset\\versions\\1\\data\\bike\\bike_212.bmp: 384x512 21 objects, 1317.2ms\n",
      "Speed: 7.0ms preprocess, 1317.2ms inference, 52.8ms postprocess per image at shape (1, 3, 384, 512)\n"
     ]
    },
    {
     "name": "stderr",
     "output_type": "stream",
     "text": [
      " 58%|█████▊    | 212/365 [05:48<03:51,  1.51s/it]"
     ]
    },
    {
     "name": "stdout",
     "output_type": "stream",
     "text": [
      "\n",
      "image 1/1 C:\\Users\\admin\\.cache\\kagglehub\\datasets\\pavansanagapati\\images-dataset\\versions\\1\\data\\bike\\bike_213.bmp: 384x512 24 objects, 1373.1ms\n",
      "Speed: 15.8ms preprocess, 1373.1ms inference, 58.5ms postprocess per image at shape (1, 3, 384, 512)\n"
     ]
    },
    {
     "name": "stderr",
     "output_type": "stream",
     "text": [
      " 58%|█████▊    | 213/365 [05:49<03:49,  1.51s/it]"
     ]
    },
    {
     "name": "stdout",
     "output_type": "stream",
     "text": [
      "\n",
      "image 1/1 C:\\Users\\admin\\.cache\\kagglehub\\datasets\\pavansanagapati\\images-dataset\\versions\\1\\data\\bike\\bike_214.bmp: 384x512 15 objects, 1327.8ms\n",
      "Speed: 5.6ms preprocess, 1327.8ms inference, 36.0ms postprocess per image at shape (1, 3, 384, 512)\n"
     ]
    },
    {
     "name": "stderr",
     "output_type": "stream",
     "text": [
      " 59%|█████▊    | 214/365 [05:51<03:45,  1.49s/it]"
     ]
    },
    {
     "name": "stdout",
     "output_type": "stream",
     "text": [
      "\n",
      "image 1/1 C:\\Users\\admin\\.cache\\kagglehub\\datasets\\pavansanagapati\\images-dataset\\versions\\1\\data\\bike\\bike_215.bmp: 384x512 25 objects, 1300.3ms\n",
      "Speed: 2.5ms preprocess, 1300.3ms inference, 59.6ms postprocess per image at shape (1, 3, 384, 512)\n"
     ]
    },
    {
     "name": "stderr",
     "output_type": "stream",
     "text": [
      " 59%|█████▉    | 215/365 [05:52<03:41,  1.48s/it]"
     ]
    },
    {
     "name": "stdout",
     "output_type": "stream",
     "text": [
      "\n",
      "image 1/1 C:\\Users\\admin\\.cache\\kagglehub\\datasets\\pavansanagapati\\images-dataset\\versions\\1\\data\\bike\\bike_216.bmp: 384x512 18 objects, 1533.5ms\n",
      "Speed: 7.3ms preprocess, 1533.5ms inference, 44.1ms postprocess per image at shape (1, 3, 384, 512)\n"
     ]
    },
    {
     "name": "stderr",
     "output_type": "stream",
     "text": [
      " 59%|█████▉    | 216/365 [05:54<03:48,  1.53s/it]"
     ]
    },
    {
     "name": "stdout",
     "output_type": "stream",
     "text": [
      "\n",
      "image 1/1 C:\\Users\\admin\\.cache\\kagglehub\\datasets\\pavansanagapati\\images-dataset\\versions\\1\\data\\bike\\bike_217.bmp: 384x512 23 objects, 1614.1ms\n",
      "Speed: 1.7ms preprocess, 1614.1ms inference, 59.8ms postprocess per image at shape (1, 3, 384, 512)\n"
     ]
    },
    {
     "name": "stderr",
     "output_type": "stream",
     "text": [
      " 59%|█████▉    | 217/365 [05:56<03:55,  1.59s/it]"
     ]
    },
    {
     "name": "stdout",
     "output_type": "stream",
     "text": [
      "\n",
      "image 1/1 C:\\Users\\admin\\.cache\\kagglehub\\datasets\\pavansanagapati\\images-dataset\\versions\\1\\data\\bike\\bike_218.bmp: 384x512 42 objects, 1371.6ms\n",
      "Speed: 2.4ms preprocess, 1371.6ms inference, 99.2ms postprocess per image at shape (1, 3, 384, 512)\n"
     ]
    },
    {
     "name": "stderr",
     "output_type": "stream",
     "text": [
      " 60%|█████▉    | 218/365 [05:57<03:52,  1.58s/it]"
     ]
    },
    {
     "name": "stdout",
     "output_type": "stream",
     "text": [
      "\n",
      "image 1/1 C:\\Users\\admin\\.cache\\kagglehub\\datasets\\pavansanagapati\\images-dataset\\versions\\1\\data\\bike\\bike_219.bmp: 384x512 49 objects, 1314.9ms\n",
      "Speed: 10.9ms preprocess, 1314.9ms inference, 114.8ms postprocess per image at shape (1, 3, 384, 512)\n"
     ]
    },
    {
     "name": "stderr",
     "output_type": "stream",
     "text": [
      " 60%|██████    | 219/365 [05:59<03:48,  1.57s/it]"
     ]
    },
    {
     "name": "stdout",
     "output_type": "stream",
     "text": [
      "\n",
      "image 1/1 C:\\Users\\admin\\.cache\\kagglehub\\datasets\\pavansanagapati\\images-dataset\\versions\\1\\data\\bike\\bike_220.bmp: 384x512 22 objects, 1365.3ms\n",
      "Speed: 3.2ms preprocess, 1365.3ms inference, 54.3ms postprocess per image at shape (1, 3, 384, 512)\n"
     ]
    },
    {
     "name": "stderr",
     "output_type": "stream",
     "text": [
      " 60%|██████    | 220/365 [06:00<03:43,  1.54s/it]"
     ]
    },
    {
     "name": "stdout",
     "output_type": "stream",
     "text": [
      "\n",
      "image 1/1 C:\\Users\\admin\\.cache\\kagglehub\\datasets\\pavansanagapati\\images-dataset\\versions\\1\\data\\bike\\bike_221.bmp: 384x512 25 objects, 1391.8ms\n",
      "Speed: 2.2ms preprocess, 1391.8ms inference, 65.8ms postprocess per image at shape (1, 3, 384, 512)\n"
     ]
    },
    {
     "name": "stderr",
     "output_type": "stream",
     "text": [
      " 61%|██████    | 221/365 [06:02<03:41,  1.54s/it]"
     ]
    },
    {
     "name": "stdout",
     "output_type": "stream",
     "text": [
      "\n",
      "image 1/1 C:\\Users\\admin\\.cache\\kagglehub\\datasets\\pavansanagapati\\images-dataset\\versions\\1\\data\\bike\\bike_222.bmp: 384x512 35 objects, 1361.5ms\n",
      "Speed: 4.2ms preprocess, 1361.5ms inference, 78.1ms postprocess per image at shape (1, 3, 384, 512)\n"
     ]
    },
    {
     "name": "stderr",
     "output_type": "stream",
     "text": [
      " 61%|██████    | 222/365 [06:03<03:38,  1.53s/it]"
     ]
    },
    {
     "name": "stdout",
     "output_type": "stream",
     "text": [
      "\n",
      "image 1/1 C:\\Users\\admin\\.cache\\kagglehub\\datasets\\pavansanagapati\\images-dataset\\versions\\1\\data\\bike\\bike_223.bmp: 384x512 40 objects, 1360.0ms\n",
      "Speed: 1.9ms preprocess, 1360.0ms inference, 99.5ms postprocess per image at shape (1, 3, 384, 512)\n"
     ]
    },
    {
     "name": "stderr",
     "output_type": "stream",
     "text": [
      " 61%|██████    | 223/365 [06:05<03:37,  1.53s/it]"
     ]
    },
    {
     "name": "stdout",
     "output_type": "stream",
     "text": [
      "\n",
      "image 1/1 C:\\Users\\admin\\.cache\\kagglehub\\datasets\\pavansanagapati\\images-dataset\\versions\\1\\data\\bike\\bike_224.bmp: 384x512 25 objects, 1502.1ms\n",
      "Speed: 3.0ms preprocess, 1502.1ms inference, 69.5ms postprocess per image at shape (1, 3, 384, 512)\n"
     ]
    },
    {
     "name": "stderr",
     "output_type": "stream",
     "text": [
      " 61%|██████▏   | 224/365 [06:07<03:40,  1.56s/it]"
     ]
    },
    {
     "name": "stdout",
     "output_type": "stream",
     "text": [
      "\n",
      "image 1/1 C:\\Users\\admin\\.cache\\kagglehub\\datasets\\pavansanagapati\\images-dataset\\versions\\1\\data\\bike\\bike_225.bmp: 384x512 17 objects, 1359.1ms\n",
      "Speed: 2.2ms preprocess, 1359.1ms inference, 44.4ms postprocess per image at shape (1, 3, 384, 512)\n"
     ]
    },
    {
     "name": "stderr",
     "output_type": "stream",
     "text": [
      " 62%|██████▏   | 225/365 [06:08<03:34,  1.53s/it]"
     ]
    },
    {
     "name": "stdout",
     "output_type": "stream",
     "text": [
      "\n",
      "image 1/1 C:\\Users\\admin\\.cache\\kagglehub\\datasets\\pavansanagapati\\images-dataset\\versions\\1\\data\\bike\\bike_226.bmp: 384x512 28 objects, 1428.0ms\n",
      "Speed: 11.9ms preprocess, 1428.0ms inference, 68.6ms postprocess per image at shape (1, 3, 384, 512)\n"
     ]
    },
    {
     "name": "stderr",
     "output_type": "stream",
     "text": [
      " 62%|██████▏   | 226/365 [06:10<03:34,  1.54s/it]"
     ]
    },
    {
     "name": "stdout",
     "output_type": "stream",
     "text": [
      "\n",
      "image 1/1 C:\\Users\\admin\\.cache\\kagglehub\\datasets\\pavansanagapati\\images-dataset\\versions\\1\\data\\bike\\bike_227.bmp: 384x512 21 objects, 1376.2ms\n",
      "Speed: 10.0ms preprocess, 1376.2ms inference, 54.5ms postprocess per image at shape (1, 3, 384, 512)\n"
     ]
    },
    {
     "name": "stderr",
     "output_type": "stream",
     "text": [
      " 62%|██████▏   | 227/365 [06:11<03:31,  1.53s/it]"
     ]
    },
    {
     "name": "stdout",
     "output_type": "stream",
     "text": [
      "\n",
      "image 1/1 C:\\Users\\admin\\.cache\\kagglehub\\datasets\\pavansanagapati\\images-dataset\\versions\\1\\data\\bike\\bike_228.bmp: 384x512 28 objects, 1384.1ms\n",
      "Speed: 2.5ms preprocess, 1384.1ms inference, 70.8ms postprocess per image at shape (1, 3, 384, 512)\n"
     ]
    },
    {
     "name": "stderr",
     "output_type": "stream",
     "text": [
      " 62%|██████▏   | 228/365 [06:13<03:28,  1.52s/it]"
     ]
    },
    {
     "name": "stdout",
     "output_type": "stream",
     "text": [
      "\n",
      "image 1/1 C:\\Users\\admin\\.cache\\kagglehub\\datasets\\pavansanagapati\\images-dataset\\versions\\1\\data\\bike\\bike_229.bmp: 384x512 35 objects, 1400.6ms\n",
      "Speed: 2.6ms preprocess, 1400.6ms inference, 81.9ms postprocess per image at shape (1, 3, 384, 512)\n"
     ]
    },
    {
     "name": "stderr",
     "output_type": "stream",
     "text": [
      " 63%|██████▎   | 229/365 [06:14<03:28,  1.53s/it]"
     ]
    },
    {
     "name": "stdout",
     "output_type": "stream",
     "text": [
      "\n",
      "image 1/1 C:\\Users\\admin\\.cache\\kagglehub\\datasets\\pavansanagapati\\images-dataset\\versions\\1\\data\\bike\\bike_230.bmp: 384x512 24 objects, 1419.8ms\n",
      "Speed: 6.4ms preprocess, 1419.8ms inference, 57.2ms postprocess per image at shape (1, 3, 384, 512)\n"
     ]
    },
    {
     "name": "stderr",
     "output_type": "stream",
     "text": [
      " 63%|██████▎   | 230/365 [06:16<03:28,  1.54s/it]"
     ]
    },
    {
     "name": "stdout",
     "output_type": "stream",
     "text": [
      "\n",
      "image 1/1 C:\\Users\\admin\\.cache\\kagglehub\\datasets\\pavansanagapati\\images-dataset\\versions\\1\\data\\bike\\bike_231.bmp: 384x512 13 objects, 1349.0ms\n",
      "Speed: 2.7ms preprocess, 1349.0ms inference, 36.7ms postprocess per image at shape (1, 3, 384, 512)\n"
     ]
    },
    {
     "name": "stderr",
     "output_type": "stream",
     "text": [
      " 63%|██████▎   | 231/365 [06:17<03:24,  1.53s/it]"
     ]
    },
    {
     "name": "stdout",
     "output_type": "stream",
     "text": [
      "\n",
      "image 1/1 C:\\Users\\admin\\.cache\\kagglehub\\datasets\\pavansanagapati\\images-dataset\\versions\\1\\data\\bike\\bike_232.bmp: 384x512 37 objects, 1385.1ms\n",
      "Speed: 10.0ms preprocess, 1385.1ms inference, 86.6ms postprocess per image at shape (1, 3, 384, 512)\n"
     ]
    },
    {
     "name": "stderr",
     "output_type": "stream",
     "text": [
      " 64%|██████▎   | 232/365 [06:19<03:23,  1.53s/it]"
     ]
    },
    {
     "name": "stdout",
     "output_type": "stream",
     "text": [
      "\n",
      "image 1/1 C:\\Users\\admin\\.cache\\kagglehub\\datasets\\pavansanagapati\\images-dataset\\versions\\1\\data\\bike\\bike_233.bmp: 512x384 33 objects, 1386.2ms\n",
      "Speed: 1.7ms preprocess, 1386.2ms inference, 75.0ms postprocess per image at shape (1, 3, 512, 384)\n"
     ]
    },
    {
     "name": "stderr",
     "output_type": "stream",
     "text": [
      " 64%|██████▍   | 233/365 [06:20<03:22,  1.53s/it]"
     ]
    },
    {
     "name": "stdout",
     "output_type": "stream",
     "text": [
      "\n",
      "image 1/1 C:\\Users\\admin\\.cache\\kagglehub\\datasets\\pavansanagapati\\images-dataset\\versions\\1\\data\\bike\\bike_234.bmp: 512x384 20 objects, 1411.6ms\n",
      "Speed: 3.8ms preprocess, 1411.6ms inference, 52.1ms postprocess per image at shape (1, 3, 512, 384)\n"
     ]
    },
    {
     "name": "stderr",
     "output_type": "stream",
     "text": [
      " 64%|██████▍   | 234/365 [06:22<03:20,  1.53s/it]"
     ]
    },
    {
     "name": "stdout",
     "output_type": "stream",
     "text": [
      "\n",
      "image 1/1 C:\\Users\\admin\\.cache\\kagglehub\\datasets\\pavansanagapati\\images-dataset\\versions\\1\\data\\bike\\bike_235.bmp: 512x384 21 objects, 1398.4ms\n",
      "Speed: 4.1ms preprocess, 1398.4ms inference, 53.3ms postprocess per image at shape (1, 3, 512, 384)\n"
     ]
    },
    {
     "name": "stderr",
     "output_type": "stream",
     "text": [
      " 64%|██████▍   | 235/365 [06:23<03:17,  1.52s/it]"
     ]
    },
    {
     "name": "stdout",
     "output_type": "stream",
     "text": [
      "\n",
      "image 1/1 C:\\Users\\admin\\.cache\\kagglehub\\datasets\\pavansanagapati\\images-dataset\\versions\\1\\data\\bike\\bike_236.bmp: 512x384 24 objects, 1420.0ms\n",
      "Speed: 3.5ms preprocess, 1420.0ms inference, 61.9ms postprocess per image at shape (1, 3, 512, 384)\n"
     ]
    },
    {
     "name": "stderr",
     "output_type": "stream",
     "text": [
      " 65%|██████▍   | 236/365 [06:25<03:17,  1.53s/it]"
     ]
    },
    {
     "name": "stdout",
     "output_type": "stream",
     "text": [
      "\n",
      "image 1/1 C:\\Users\\admin\\.cache\\kagglehub\\datasets\\pavansanagapati\\images-dataset\\versions\\1\\data\\bike\\bike_237.bmp: 512x384 33 objects, 1474.8ms\n",
      "Speed: 2.9ms preprocess, 1474.8ms inference, 90.9ms postprocess per image at shape (1, 3, 512, 384)\n"
     ]
    },
    {
     "name": "stderr",
     "output_type": "stream",
     "text": [
      " 65%|██████▍   | 237/365 [06:26<03:20,  1.57s/it]"
     ]
    },
    {
     "name": "stdout",
     "output_type": "stream",
     "text": [
      "\n",
      "image 1/1 C:\\Users\\admin\\.cache\\kagglehub\\datasets\\pavansanagapati\\images-dataset\\versions\\1\\data\\bike\\bike_238.bmp: 512x384 69 objects, 1407.8ms\n",
      "Speed: 2.6ms preprocess, 1407.8ms inference, 207.6ms postprocess per image at shape (1, 3, 512, 384)\n"
     ]
    },
    {
     "name": "stderr",
     "output_type": "stream",
     "text": [
      " 65%|██████▌   | 238/365 [06:28<03:23,  1.60s/it]"
     ]
    },
    {
     "name": "stdout",
     "output_type": "stream",
     "text": [
      "\n",
      "image 1/1 C:\\Users\\admin\\.cache\\kagglehub\\datasets\\pavansanagapati\\images-dataset\\versions\\1\\data\\bike\\bike_239.bmp: 512x384 37 objects, 1431.7ms\n",
      "Speed: 3.3ms preprocess, 1431.7ms inference, 88.2ms postprocess per image at shape (1, 3, 512, 384)\n"
     ]
    },
    {
     "name": "stderr",
     "output_type": "stream",
     "text": [
      " 65%|██████▌   | 239/365 [06:30<03:21,  1.60s/it]"
     ]
    },
    {
     "name": "stdout",
     "output_type": "stream",
     "text": [
      "\n",
      "image 1/1 C:\\Users\\admin\\.cache\\kagglehub\\datasets\\pavansanagapati\\images-dataset\\versions\\1\\data\\bike\\bike_240.bmp: 512x384 29 objects, 1381.1ms\n",
      "Speed: 3.2ms preprocess, 1381.1ms inference, 81.3ms postprocess per image at shape (1, 3, 512, 384)\n"
     ]
    },
    {
     "name": "stderr",
     "output_type": "stream",
     "text": [
      " 66%|██████▌   | 240/365 [06:31<03:17,  1.58s/it]"
     ]
    },
    {
     "name": "stdout",
     "output_type": "stream",
     "text": [
      "\n",
      "image 1/1 C:\\Users\\admin\\.cache\\kagglehub\\datasets\\pavansanagapati\\images-dataset\\versions\\1\\data\\bike\\bike_241.bmp: 512x384 22 objects, 1361.4ms\n",
      "Speed: 14.9ms preprocess, 1361.4ms inference, 54.2ms postprocess per image at shape (1, 3, 512, 384)\n"
     ]
    },
    {
     "name": "stderr",
     "output_type": "stream",
     "text": [
      " 66%|██████▌   | 241/365 [06:33<03:12,  1.55s/it]"
     ]
    },
    {
     "name": "stdout",
     "output_type": "stream",
     "text": [
      "\n",
      "image 1/1 C:\\Users\\admin\\.cache\\kagglehub\\datasets\\pavansanagapati\\images-dataset\\versions\\1\\data\\bike\\bike_242.bmp: 512x384 42 objects, 1381.1ms\n",
      "Speed: 4.6ms preprocess, 1381.1ms inference, 101.3ms postprocess per image at shape (1, 3, 512, 384)\n"
     ]
    },
    {
     "name": "stderr",
     "output_type": "stream",
     "text": [
      " 66%|██████▋   | 242/365 [06:34<03:14,  1.58s/it]"
     ]
    },
    {
     "name": "stdout",
     "output_type": "stream",
     "text": [
      "\n",
      "image 1/1 C:\\Users\\admin\\.cache\\kagglehub\\datasets\\pavansanagapati\\images-dataset\\versions\\1\\data\\bike\\bike_243.bmp: 512x384 42 objects, 1397.1ms\n",
      "Speed: 3.2ms preprocess, 1397.1ms inference, 105.4ms postprocess per image at shape (1, 3, 512, 384)\n"
     ]
    },
    {
     "name": "stderr",
     "output_type": "stream",
     "text": [
      " 67%|██████▋   | 243/365 [06:36<03:12,  1.58s/it]"
     ]
    },
    {
     "name": "stdout",
     "output_type": "stream",
     "text": [
      "\n",
      "image 1/1 C:\\Users\\admin\\.cache\\kagglehub\\datasets\\pavansanagapati\\images-dataset\\versions\\1\\data\\bike\\bike_244.bmp: 384x512 30 objects, 1474.2ms\n",
      "Speed: 13.0ms preprocess, 1474.2ms inference, 77.2ms postprocess per image at shape (1, 3, 384, 512)\n"
     ]
    },
    {
     "name": "stderr",
     "output_type": "stream",
     "text": [
      " 67%|██████▋   | 244/365 [06:38<03:13,  1.60s/it]"
     ]
    },
    {
     "name": "stdout",
     "output_type": "stream",
     "text": [
      "\n",
      "image 1/1 C:\\Users\\admin\\.cache\\kagglehub\\datasets\\pavansanagapati\\images-dataset\\versions\\1\\data\\bike\\bike_245.bmp: 384x512 26 objects, 1409.7ms\n",
      "Speed: 3.7ms preprocess, 1409.7ms inference, 228.4ms postprocess per image at shape (1, 3, 384, 512)\n"
     ]
    },
    {
     "name": "stderr",
     "output_type": "stream",
     "text": [
      " 67%|██████▋   | 245/365 [06:39<03:14,  1.62s/it]"
     ]
    },
    {
     "name": "stdout",
     "output_type": "stream",
     "text": [
      "\n",
      "image 1/1 C:\\Users\\admin\\.cache\\kagglehub\\datasets\\pavansanagapati\\images-dataset\\versions\\1\\data\\bike\\bike_246.bmp: 384x512 22 objects, 1415.9ms\n",
      "Speed: 31.6ms preprocess, 1415.9ms inference, 57.3ms postprocess per image at shape (1, 3, 384, 512)\n"
     ]
    },
    {
     "name": "stderr",
     "output_type": "stream",
     "text": [
      " 67%|██████▋   | 246/365 [06:41<03:10,  1.60s/it]"
     ]
    },
    {
     "name": "stdout",
     "output_type": "stream",
     "text": [
      "\n",
      "image 1/1 C:\\Users\\admin\\.cache\\kagglehub\\datasets\\pavansanagapati\\images-dataset\\versions\\1\\data\\bike\\bike_247.bmp: 384x512 17 objects, 1387.4ms\n",
      "Speed: 3.4ms preprocess, 1387.4ms inference, 42.4ms postprocess per image at shape (1, 3, 384, 512)\n"
     ]
    },
    {
     "name": "stderr",
     "output_type": "stream",
     "text": [
      " 68%|██████▊   | 247/365 [06:42<03:05,  1.57s/it]"
     ]
    },
    {
     "name": "stdout",
     "output_type": "stream",
     "text": [
      "\n",
      "image 1/1 C:\\Users\\admin\\.cache\\kagglehub\\datasets\\pavansanagapati\\images-dataset\\versions\\1\\data\\bike\\bike_248.bmp: 384x512 39 objects, 1314.6ms\n",
      "Speed: 3.7ms preprocess, 1314.6ms inference, 93.4ms postprocess per image at shape (1, 3, 384, 512)\n"
     ]
    },
    {
     "name": "stderr",
     "output_type": "stream",
     "text": [
      " 68%|██████▊   | 248/365 [06:44<03:02,  1.56s/it]"
     ]
    },
    {
     "name": "stdout",
     "output_type": "stream",
     "text": [
      "\n",
      "image 1/1 C:\\Users\\admin\\.cache\\kagglehub\\datasets\\pavansanagapati\\images-dataset\\versions\\1\\data\\bike\\bike_249.bmp: 384x512 29 objects, 1339.5ms\n",
      "Speed: 3.5ms preprocess, 1339.5ms inference, 66.4ms postprocess per image at shape (1, 3, 384, 512)\n"
     ]
    },
    {
     "name": "stderr",
     "output_type": "stream",
     "text": [
      " 68%|██████▊   | 249/365 [06:45<02:58,  1.54s/it]"
     ]
    },
    {
     "name": "stdout",
     "output_type": "stream",
     "text": [
      "\n",
      "image 1/1 C:\\Users\\admin\\.cache\\kagglehub\\datasets\\pavansanagapati\\images-dataset\\versions\\1\\data\\bike\\bike_250.bmp: 384x512 37 objects, 1299.8ms\n",
      "Speed: 6.6ms preprocess, 1299.8ms inference, 86.9ms postprocess per image at shape (1, 3, 384, 512)\n"
     ]
    },
    {
     "name": "stderr",
     "output_type": "stream",
     "text": [
      " 68%|██████▊   | 250/365 [06:47<02:55,  1.52s/it]"
     ]
    },
    {
     "name": "stdout",
     "output_type": "stream",
     "text": [
      "\n",
      "image 1/1 C:\\Users\\admin\\.cache\\kagglehub\\datasets\\pavansanagapati\\images-dataset\\versions\\1\\data\\bike\\bike_251.bmp: 384x512 36 objects, 1341.8ms\n",
      "Speed: 50.0ms preprocess, 1341.8ms inference, 85.4ms postprocess per image at shape (1, 3, 384, 512)\n"
     ]
    },
    {
     "name": "stderr",
     "output_type": "stream",
     "text": [
      " 69%|██████▉   | 251/365 [06:48<02:54,  1.53s/it]"
     ]
    },
    {
     "name": "stdout",
     "output_type": "stream",
     "text": [
      "\n",
      "image 1/1 C:\\Users\\admin\\.cache\\kagglehub\\datasets\\pavansanagapati\\images-dataset\\versions\\1\\data\\bike\\bike_252.bmp: 384x512 41 objects, 1328.8ms\n",
      "Speed: 2.6ms preprocess, 1328.8ms inference, 101.6ms postprocess per image at shape (1, 3, 384, 512)\n"
     ]
    },
    {
     "name": "stderr",
     "output_type": "stream",
     "text": [
      " 69%|██████▉   | 252/365 [06:50<02:52,  1.52s/it]"
     ]
    },
    {
     "name": "stdout",
     "output_type": "stream",
     "text": [
      "\n",
      "image 1/1 C:\\Users\\admin\\.cache\\kagglehub\\datasets\\pavansanagapati\\images-dataset\\versions\\1\\data\\bike\\bike_253.bmp: 384x512 29 objects, 1439.4ms\n",
      "Speed: 2.7ms preprocess, 1439.4ms inference, 73.7ms postprocess per image at shape (1, 3, 384, 512)\n"
     ]
    },
    {
     "name": "stderr",
     "output_type": "stream",
     "text": [
      " 69%|██████▉   | 253/365 [06:51<02:52,  1.54s/it]"
     ]
    },
    {
     "name": "stdout",
     "output_type": "stream",
     "text": [
      "\n",
      "image 1/1 C:\\Users\\admin\\.cache\\kagglehub\\datasets\\pavansanagapati\\images-dataset\\versions\\1\\data\\bike\\bike_254.bmp: 384x512 30 objects, 1372.2ms\n",
      "Speed: 7.3ms preprocess, 1372.2ms inference, 71.5ms postprocess per image at shape (1, 3, 384, 512)\n"
     ]
    },
    {
     "name": "stderr",
     "output_type": "stream",
     "text": [
      " 70%|██████▉   | 254/365 [06:53<02:50,  1.53s/it]"
     ]
    },
    {
     "name": "stdout",
     "output_type": "stream",
     "text": [
      "\n",
      "image 1/1 C:\\Users\\admin\\.cache\\kagglehub\\datasets\\pavansanagapati\\images-dataset\\versions\\1\\data\\bike\\bike_255.bmp: 384x512 35 objects, 1368.9ms\n",
      "Speed: 2.2ms preprocess, 1368.9ms inference, 80.6ms postprocess per image at shape (1, 3, 384, 512)\n"
     ]
    },
    {
     "name": "stderr",
     "output_type": "stream",
     "text": [
      " 70%|██████▉   | 255/365 [06:55<02:52,  1.56s/it]"
     ]
    },
    {
     "name": "stdout",
     "output_type": "stream",
     "text": [
      "\n",
      "image 1/1 C:\\Users\\admin\\.cache\\kagglehub\\datasets\\pavansanagapati\\images-dataset\\versions\\1\\data\\bike\\bike_256.bmp: 384x512 50 objects, 1610.3ms\n",
      "Speed: 1.9ms preprocess, 1610.3ms inference, 167.7ms postprocess per image at shape (1, 3, 384, 512)\n"
     ]
    },
    {
     "name": "stderr",
     "output_type": "stream",
     "text": [
      " 70%|███████   | 256/365 [06:56<02:59,  1.65s/it]"
     ]
    },
    {
     "name": "stdout",
     "output_type": "stream",
     "text": [
      "\n",
      "image 1/1 C:\\Users\\admin\\.cache\\kagglehub\\datasets\\pavansanagapati\\images-dataset\\versions\\1\\data\\bike\\bike_257.bmp: 384x512 41 objects, 1295.0ms\n",
      "Speed: 2.3ms preprocess, 1295.0ms inference, 93.9ms postprocess per image at shape (1, 3, 384, 512)\n"
     ]
    },
    {
     "name": "stderr",
     "output_type": "stream",
     "text": [
      " 70%|███████   | 257/365 [06:58<02:51,  1.59s/it]"
     ]
    },
    {
     "name": "stdout",
     "output_type": "stream",
     "text": [
      "\n",
      "image 1/1 C:\\Users\\admin\\.cache\\kagglehub\\datasets\\pavansanagapati\\images-dataset\\versions\\1\\data\\bike\\bike_258.bmp: 384x512 33 objects, 1346.6ms\n",
      "Speed: 5.8ms preprocess, 1346.6ms inference, 82.0ms postprocess per image at shape (1, 3, 384, 512)\n"
     ]
    },
    {
     "name": "stderr",
     "output_type": "stream",
     "text": [
      " 71%|███████   | 258/365 [06:59<02:47,  1.56s/it]"
     ]
    },
    {
     "name": "stdout",
     "output_type": "stream",
     "text": [
      "\n",
      "image 1/1 C:\\Users\\admin\\.cache\\kagglehub\\datasets\\pavansanagapati\\images-dataset\\versions\\1\\data\\bike\\bike_259.bmp: 384x512 32 objects, 1445.8ms\n",
      "Speed: 2.6ms preprocess, 1445.8ms inference, 77.9ms postprocess per image at shape (1, 3, 384, 512)\n"
     ]
    },
    {
     "name": "stderr",
     "output_type": "stream",
     "text": [
      " 71%|███████   | 259/365 [07:01<02:46,  1.57s/it]"
     ]
    },
    {
     "name": "stdout",
     "output_type": "stream",
     "text": [
      "\n",
      "image 1/1 C:\\Users\\admin\\.cache\\kagglehub\\datasets\\pavansanagapati\\images-dataset\\versions\\1\\data\\bike\\bike_260.bmp: 384x512 50 objects, 1436.3ms\n",
      "Speed: 3.5ms preprocess, 1436.3ms inference, 163.9ms postprocess per image at shape (1, 3, 384, 512)\n"
     ]
    },
    {
     "name": "stderr",
     "output_type": "stream",
     "text": [
      " 71%|███████   | 260/365 [07:03<02:48,  1.60s/it]"
     ]
    },
    {
     "name": "stdout",
     "output_type": "stream",
     "text": [
      "\n",
      "image 1/1 C:\\Users\\admin\\.cache\\kagglehub\\datasets\\pavansanagapati\\images-dataset\\versions\\1\\data\\bike\\bike_261.bmp: 384x512 44 objects, 1308.9ms\n",
      "Speed: 3.1ms preprocess, 1308.9ms inference, 99.8ms postprocess per image at shape (1, 3, 384, 512)\n"
     ]
    },
    {
     "name": "stderr",
     "output_type": "stream",
     "text": [
      " 72%|███████▏  | 261/365 [07:04<02:42,  1.56s/it]"
     ]
    },
    {
     "name": "stdout",
     "output_type": "stream",
     "text": [
      "\n",
      "image 1/1 C:\\Users\\admin\\.cache\\kagglehub\\datasets\\pavansanagapati\\images-dataset\\versions\\1\\data\\bike\\bike_262.bmp: 384x512 25 objects, 1327.3ms\n",
      "Speed: 7.4ms preprocess, 1327.3ms inference, 62.9ms postprocess per image at shape (1, 3, 384, 512)\n"
     ]
    },
    {
     "name": "stderr",
     "output_type": "stream",
     "text": [
      " 72%|███████▏  | 262/365 [07:06<02:37,  1.53s/it]"
     ]
    },
    {
     "name": "stdout",
     "output_type": "stream",
     "text": [
      "\n",
      "image 1/1 C:\\Users\\admin\\.cache\\kagglehub\\datasets\\pavansanagapati\\images-dataset\\versions\\1\\data\\bike\\bike_263.bmp: 384x512 26 objects, 1298.5ms\n",
      "Speed: 3.5ms preprocess, 1298.5ms inference, 61.1ms postprocess per image at shape (1, 3, 384, 512)\n"
     ]
    },
    {
     "name": "stderr",
     "output_type": "stream",
     "text": [
      " 72%|███████▏  | 263/365 [07:07<02:32,  1.50s/it]"
     ]
    },
    {
     "name": "stdout",
     "output_type": "stream",
     "text": [
      "\n",
      "image 1/1 C:\\Users\\admin\\.cache\\kagglehub\\datasets\\pavansanagapati\\images-dataset\\versions\\1\\data\\bike\\bike_264.bmp: 384x512 31 objects, 1369.9ms\n",
      "Speed: 3.1ms preprocess, 1369.9ms inference, 72.5ms postprocess per image at shape (1, 3, 384, 512)\n"
     ]
    },
    {
     "name": "stderr",
     "output_type": "stream",
     "text": [
      " 72%|███████▏  | 264/365 [07:09<02:31,  1.50s/it]"
     ]
    },
    {
     "name": "stdout",
     "output_type": "stream",
     "text": [
      "\n",
      "image 1/1 C:\\Users\\admin\\.cache\\kagglehub\\datasets\\pavansanagapati\\images-dataset\\versions\\1\\data\\bike\\bike_265.bmp: 384x512 25 objects, 1325.0ms\n",
      "Speed: 2.3ms preprocess, 1325.0ms inference, 62.5ms postprocess per image at shape (1, 3, 384, 512)\n"
     ]
    },
    {
     "name": "stderr",
     "output_type": "stream",
     "text": [
      " 73%|███████▎  | 265/365 [07:10<02:28,  1.49s/it]"
     ]
    },
    {
     "name": "stdout",
     "output_type": "stream",
     "text": [
      "\n",
      "image 1/1 C:\\Users\\admin\\.cache\\kagglehub\\datasets\\pavansanagapati\\images-dataset\\versions\\1\\data\\bike\\bike_266.bmp: 384x512 29 objects, 1363.5ms\n",
      "Speed: 2.1ms preprocess, 1363.5ms inference, 72.0ms postprocess per image at shape (1, 3, 384, 512)\n"
     ]
    },
    {
     "name": "stderr",
     "output_type": "stream",
     "text": [
      " 73%|███████▎  | 266/365 [07:12<02:27,  1.49s/it]"
     ]
    },
    {
     "name": "stdout",
     "output_type": "stream",
     "text": [
      "\n",
      "image 1/1 C:\\Users\\admin\\.cache\\kagglehub\\datasets\\pavansanagapati\\images-dataset\\versions\\1\\data\\bike\\bike_267.bmp: 384x512 30 objects, 1505.8ms\n",
      "Speed: 5.6ms preprocess, 1505.8ms inference, 88.7ms postprocess per image at shape (1, 3, 384, 512)\n"
     ]
    },
    {
     "name": "stderr",
     "output_type": "stream",
     "text": [
      " 73%|███████▎  | 267/365 [07:13<02:31,  1.55s/it]"
     ]
    },
    {
     "name": "stdout",
     "output_type": "stream",
     "text": [
      "\n",
      "image 1/1 C:\\Users\\admin\\.cache\\kagglehub\\datasets\\pavansanagapati\\images-dataset\\versions\\1\\data\\bike\\bike_268.bmp: 384x512 45 objects, 1586.5ms\n",
      "Speed: 6.2ms preprocess, 1586.5ms inference, 113.4ms postprocess per image at shape (1, 3, 384, 512)\n"
     ]
    },
    {
     "name": "stderr",
     "output_type": "stream",
     "text": [
      " 73%|███████▎  | 268/365 [07:15<02:37,  1.63s/it]"
     ]
    },
    {
     "name": "stdout",
     "output_type": "stream",
     "text": [
      "\n",
      "image 1/1 C:\\Users\\admin\\.cache\\kagglehub\\datasets\\pavansanagapati\\images-dataset\\versions\\1\\data\\bike\\bike_269.bmp: 384x512 24 objects, 1329.5ms\n",
      "Speed: 4.4ms preprocess, 1329.5ms inference, 60.1ms postprocess per image at shape (1, 3, 384, 512)\n"
     ]
    },
    {
     "name": "stderr",
     "output_type": "stream",
     "text": [
      " 74%|███████▎  | 269/365 [07:16<02:31,  1.58s/it]"
     ]
    },
    {
     "name": "stdout",
     "output_type": "stream",
     "text": [
      "\n",
      "image 1/1 C:\\Users\\admin\\.cache\\kagglehub\\datasets\\pavansanagapati\\images-dataset\\versions\\1\\data\\bike\\bike_270.bmp: 384x512 13 objects, 1314.2ms\n",
      "Speed: 2.7ms preprocess, 1314.2ms inference, 33.4ms postprocess per image at shape (1, 3, 384, 512)\n"
     ]
    },
    {
     "name": "stderr",
     "output_type": "stream",
     "text": [
      " 74%|███████▍  | 270/365 [07:18<02:25,  1.53s/it]"
     ]
    },
    {
     "name": "stdout",
     "output_type": "stream",
     "text": [
      "\n",
      "image 1/1 C:\\Users\\admin\\.cache\\kagglehub\\datasets\\pavansanagapati\\images-dataset\\versions\\1\\data\\bike\\bike_271.bmp: 384x512 48 objects, 1318.5ms\n",
      "Speed: 1.9ms preprocess, 1318.5ms inference, 111.3ms postprocess per image at shape (1, 3, 384, 512)\n"
     ]
    },
    {
     "name": "stderr",
     "output_type": "stream",
     "text": [
      " 74%|███████▍  | 271/365 [07:19<02:22,  1.52s/it]"
     ]
    },
    {
     "name": "stdout",
     "output_type": "stream",
     "text": [
      "\n",
      "image 1/1 C:\\Users\\admin\\.cache\\kagglehub\\datasets\\pavansanagapati\\images-dataset\\versions\\1\\data\\bike\\bike_272.bmp: 384x512 50 objects, 1297.7ms\n",
      "Speed: 1.7ms preprocess, 1297.7ms inference, 152.3ms postprocess per image at shape (1, 3, 384, 512)\n"
     ]
    },
    {
     "name": "stderr",
     "output_type": "stream",
     "text": [
      " 75%|███████▍  | 272/365 [07:21<02:21,  1.52s/it]"
     ]
    },
    {
     "name": "stdout",
     "output_type": "stream",
     "text": [
      "\n",
      "image 1/1 C:\\Users\\admin\\.cache\\kagglehub\\datasets\\pavansanagapati\\images-dataset\\versions\\1\\data\\bike\\bike_273.bmp: 384x512 33 objects, 1332.4ms\n",
      "Speed: 1.8ms preprocess, 1332.4ms inference, 82.7ms postprocess per image at shape (1, 3, 384, 512)\n"
     ]
    },
    {
     "name": "stderr",
     "output_type": "stream",
     "text": [
      " 75%|███████▍  | 273/365 [07:22<02:18,  1.51s/it]"
     ]
    },
    {
     "name": "stdout",
     "output_type": "stream",
     "text": [
      "\n",
      "image 1/1 C:\\Users\\admin\\.cache\\kagglehub\\datasets\\pavansanagapati\\images-dataset\\versions\\1\\data\\bike\\bike_274.bmp: 384x512 59 objects, 1323.5ms\n",
      "Speed: 2.6ms preprocess, 1323.5ms inference, 171.5ms postprocess per image at shape (1, 3, 384, 512)\n"
     ]
    },
    {
     "name": "stderr",
     "output_type": "stream",
     "text": [
      " 75%|███████▌  | 274/365 [07:24<02:18,  1.52s/it]"
     ]
    },
    {
     "name": "stdout",
     "output_type": "stream",
     "text": [
      "\n",
      "image 1/1 C:\\Users\\admin\\.cache\\kagglehub\\datasets\\pavansanagapati\\images-dataset\\versions\\1\\data\\bike\\bike_275.bmp: 384x512 64 objects, 1406.1ms\n",
      "Speed: 2.4ms preprocess, 1406.1ms inference, 200.0ms postprocess per image at shape (1, 3, 384, 512)\n"
     ]
    },
    {
     "name": "stderr",
     "output_type": "stream",
     "text": [
      " 75%|███████▌  | 275/365 [07:26<02:23,  1.59s/it]"
     ]
    },
    {
     "name": "stdout",
     "output_type": "stream",
     "text": [
      "\n",
      "image 1/1 C:\\Users\\admin\\.cache\\kagglehub\\datasets\\pavansanagapati\\images-dataset\\versions\\1\\data\\bike\\bike_276.bmp: 384x512 46 objects, 1601.3ms\n",
      "Speed: 4.1ms preprocess, 1601.3ms inference, 113.6ms postprocess per image at shape (1, 3, 384, 512)\n"
     ]
    },
    {
     "name": "stderr",
     "output_type": "stream",
     "text": [
      " 76%|███████▌  | 276/365 [07:27<02:26,  1.65s/it]"
     ]
    },
    {
     "name": "stdout",
     "output_type": "stream",
     "text": [
      "\n",
      "image 1/1 C:\\Users\\admin\\.cache\\kagglehub\\datasets\\pavansanagapati\\images-dataset\\versions\\1\\data\\bike\\bike_277.bmp: 384x512 31 objects, 1486.7ms\n",
      "Speed: 3.0ms preprocess, 1486.7ms inference, 80.0ms postprocess per image at shape (1, 3, 384, 512)\n"
     ]
    },
    {
     "name": "stderr",
     "output_type": "stream",
     "text": [
      " 76%|███████▌  | 277/365 [07:29<02:24,  1.64s/it]"
     ]
    },
    {
     "name": "stdout",
     "output_type": "stream",
     "text": [
      "\n",
      "image 1/1 C:\\Users\\admin\\.cache\\kagglehub\\datasets\\pavansanagapati\\images-dataset\\versions\\1\\data\\bike\\bike_278.bmp: 384x512 49 objects, 1397.5ms\n",
      "Speed: 2.7ms preprocess, 1397.5ms inference, 120.4ms postprocess per image at shape (1, 3, 384, 512)\n"
     ]
    },
    {
     "name": "stderr",
     "output_type": "stream",
     "text": [
      " 76%|███████▌  | 278/365 [07:31<02:21,  1.62s/it]"
     ]
    },
    {
     "name": "stdout",
     "output_type": "stream",
     "text": [
      "\n",
      "image 1/1 C:\\Users\\admin\\.cache\\kagglehub\\datasets\\pavansanagapati\\images-dataset\\versions\\1\\data\\bike\\bike_279.bmp: 384x512 33 objects, 1329.3ms\n",
      "Speed: 2.1ms preprocess, 1329.3ms inference, 81.8ms postprocess per image at shape (1, 3, 384, 512)\n"
     ]
    },
    {
     "name": "stderr",
     "output_type": "stream",
     "text": [
      " 76%|███████▋  | 279/365 [07:32<02:15,  1.57s/it]"
     ]
    },
    {
     "name": "stdout",
     "output_type": "stream",
     "text": [
      "\n",
      "image 1/1 C:\\Users\\admin\\.cache\\kagglehub\\datasets\\pavansanagapati\\images-dataset\\versions\\1\\data\\bike\\bike_280.bmp: 384x512 30 objects, 1345.3ms\n",
      "Speed: 2.4ms preprocess, 1345.3ms inference, 70.6ms postprocess per image at shape (1, 3, 384, 512)\n"
     ]
    },
    {
     "name": "stderr",
     "output_type": "stream",
     "text": [
      " 77%|███████▋  | 280/365 [07:34<02:11,  1.55s/it]"
     ]
    },
    {
     "name": "stdout",
     "output_type": "stream",
     "text": [
      "\n",
      "image 1/1 C:\\Users\\admin\\.cache\\kagglehub\\datasets\\pavansanagapati\\images-dataset\\versions\\1\\data\\bike\\bike_281.bmp: 384x512 18 objects, 1304.0ms\n",
      "Speed: 2.2ms preprocess, 1304.0ms inference, 43.1ms postprocess per image at shape (1, 3, 384, 512)\n"
     ]
    },
    {
     "name": "stderr",
     "output_type": "stream",
     "text": [
      " 77%|███████▋  | 281/365 [07:35<02:06,  1.51s/it]"
     ]
    },
    {
     "name": "stdout",
     "output_type": "stream",
     "text": [
      "\n",
      "image 1/1 C:\\Users\\admin\\.cache\\kagglehub\\datasets\\pavansanagapati\\images-dataset\\versions\\1\\data\\bike\\bike_282.bmp: 384x512 32 objects, 1290.5ms\n",
      "Speed: 2.4ms preprocess, 1290.5ms inference, 72.0ms postprocess per image at shape (1, 3, 384, 512)\n"
     ]
    },
    {
     "name": "stderr",
     "output_type": "stream",
     "text": [
      " 77%|███████▋  | 282/365 [07:36<02:02,  1.48s/it]"
     ]
    },
    {
     "name": "stdout",
     "output_type": "stream",
     "text": [
      "\n",
      "image 1/1 C:\\Users\\admin\\.cache\\kagglehub\\datasets\\pavansanagapati\\images-dataset\\versions\\1\\data\\bike\\bike_283.bmp: 384x512 19 objects, 1352.2ms\n",
      "Speed: 1.9ms preprocess, 1352.2ms inference, 44.0ms postprocess per image at shape (1, 3, 384, 512)\n"
     ]
    },
    {
     "name": "stderr",
     "output_type": "stream",
     "text": [
      " 78%|███████▊  | 283/365 [07:38<02:01,  1.48s/it]"
     ]
    },
    {
     "name": "stdout",
     "output_type": "stream",
     "text": [
      "\n",
      "image 1/1 C:\\Users\\admin\\.cache\\kagglehub\\datasets\\pavansanagapati\\images-dataset\\versions\\1\\data\\bike\\bike_284.bmp: 384x512 62 objects, 1294.8ms\n",
      "Speed: 1.8ms preprocess, 1294.8ms inference, 185.4ms postprocess per image at shape (1, 3, 384, 512)\n"
     ]
    },
    {
     "name": "stderr",
     "output_type": "stream",
     "text": [
      " 78%|███████▊  | 284/365 [07:39<02:01,  1.50s/it]"
     ]
    },
    {
     "name": "stdout",
     "output_type": "stream",
     "text": [
      "\n",
      "image 1/1 C:\\Users\\admin\\.cache\\kagglehub\\datasets\\pavansanagapati\\images-dataset\\versions\\1\\data\\bike\\bike_285.bmp: 384x512 35 objects, 1304.7ms\n",
      "Speed: 2.2ms preprocess, 1304.7ms inference, 87.9ms postprocess per image at shape (1, 3, 384, 512)\n"
     ]
    },
    {
     "name": "stderr",
     "output_type": "stream",
     "text": [
      " 78%|███████▊  | 285/365 [07:41<01:58,  1.49s/it]"
     ]
    },
    {
     "name": "stdout",
     "output_type": "stream",
     "text": [
      "\n",
      "image 1/1 C:\\Users\\admin\\.cache\\kagglehub\\datasets\\pavansanagapati\\images-dataset\\versions\\1\\data\\bike\\bike_286.bmp: 384x512 29 objects, 1449.5ms\n",
      "Speed: 3.0ms preprocess, 1449.5ms inference, 71.1ms postprocess per image at shape (1, 3, 384, 512)\n"
     ]
    },
    {
     "name": "stderr",
     "output_type": "stream",
     "text": [
      " 78%|███████▊  | 286/365 [07:43<01:59,  1.52s/it]"
     ]
    },
    {
     "name": "stdout",
     "output_type": "stream",
     "text": [
      "\n",
      "image 1/1 C:\\Users\\admin\\.cache\\kagglehub\\datasets\\pavansanagapati\\images-dataset\\versions\\1\\data\\bike\\bike_287.bmp: 384x512 20 objects, 1323.8ms\n",
      "Speed: 2.0ms preprocess, 1323.8ms inference, 46.9ms postprocess per image at shape (1, 3, 384, 512)\n"
     ]
    },
    {
     "name": "stderr",
     "output_type": "stream",
     "text": [
      " 79%|███████▊  | 287/365 [07:44<01:56,  1.49s/it]"
     ]
    },
    {
     "name": "stdout",
     "output_type": "stream",
     "text": [
      "\n",
      "image 1/1 C:\\Users\\admin\\.cache\\kagglehub\\datasets\\pavansanagapati\\images-dataset\\versions\\1\\data\\bike\\bike_288.bmp: 384x512 21 objects, 1289.6ms\n",
      "Speed: 2.9ms preprocess, 1289.6ms inference, 52.0ms postprocess per image at shape (1, 3, 384, 512)\n"
     ]
    },
    {
     "name": "stderr",
     "output_type": "stream",
     "text": [
      " 79%|███████▉  | 288/365 [07:45<01:52,  1.46s/it]"
     ]
    },
    {
     "name": "stdout",
     "output_type": "stream",
     "text": [
      "\n",
      "image 1/1 C:\\Users\\admin\\.cache\\kagglehub\\datasets\\pavansanagapati\\images-dataset\\versions\\1\\data\\bike\\bike_289.bmp: 384x512 31 objects, 1311.2ms\n",
      "Speed: 3.3ms preprocess, 1311.2ms inference, 72.7ms postprocess per image at shape (1, 3, 384, 512)\n"
     ]
    },
    {
     "name": "stderr",
     "output_type": "stream",
     "text": [
      " 79%|███████▉  | 289/365 [07:47<01:50,  1.46s/it]"
     ]
    },
    {
     "name": "stdout",
     "output_type": "stream",
     "text": [
      "\n",
      "image 1/1 C:\\Users\\admin\\.cache\\kagglehub\\datasets\\pavansanagapati\\images-dataset\\versions\\1\\data\\bike\\bike_290.bmp: 384x512 21 objects, 1290.7ms\n",
      "Speed: 1.9ms preprocess, 1290.7ms inference, 57.7ms postprocess per image at shape (1, 3, 384, 512)\n"
     ]
    },
    {
     "name": "stderr",
     "output_type": "stream",
     "text": [
      " 79%|███████▉  | 290/365 [07:48<01:49,  1.45s/it]"
     ]
    },
    {
     "name": "stdout",
     "output_type": "stream",
     "text": [
      "\n",
      "image 1/1 C:\\Users\\admin\\.cache\\kagglehub\\datasets\\pavansanagapati\\images-dataset\\versions\\1\\data\\bike\\bike_291.bmp: 384x512 24 objects, 1285.6ms\n",
      "Speed: 7.1ms preprocess, 1285.6ms inference, 56.0ms postprocess per image at shape (1, 3, 384, 512)\n"
     ]
    },
    {
     "name": "stderr",
     "output_type": "stream",
     "text": [
      " 80%|███████▉  | 291/365 [07:50<01:46,  1.44s/it]"
     ]
    },
    {
     "name": "stdout",
     "output_type": "stream",
     "text": [
      "\n",
      "image 1/1 C:\\Users\\admin\\.cache\\kagglehub\\datasets\\pavansanagapati\\images-dataset\\versions\\1\\data\\bike\\bike_292.bmp: 384x512 76 objects, 1309.4ms\n",
      "Speed: 2.0ms preprocess, 1309.4ms inference, 222.1ms postprocess per image at shape (1, 3, 384, 512)\n"
     ]
    },
    {
     "name": "stderr",
     "output_type": "stream",
     "text": [
      " 80%|████████  | 292/365 [07:51<01:48,  1.49s/it]"
     ]
    },
    {
     "name": "stdout",
     "output_type": "stream",
     "text": [
      "\n",
      "image 1/1 C:\\Users\\admin\\.cache\\kagglehub\\datasets\\pavansanagapati\\images-dataset\\versions\\1\\data\\bike\\bike_293.bmp: 384x512 23 objects, 1284.2ms\n",
      "Speed: 2.5ms preprocess, 1284.2ms inference, 69.4ms postprocess per image at shape (1, 3, 384, 512)\n"
     ]
    },
    {
     "name": "stderr",
     "output_type": "stream",
     "text": [
      " 80%|████████  | 293/365 [07:53<01:45,  1.47s/it]"
     ]
    },
    {
     "name": "stdout",
     "output_type": "stream",
     "text": [
      "\n",
      "image 1/1 C:\\Users\\admin\\.cache\\kagglehub\\datasets\\pavansanagapati\\images-dataset\\versions\\1\\data\\bike\\bike_294.bmp: 384x512 31 objects, 1390.9ms\n",
      "Speed: 1.9ms preprocess, 1390.9ms inference, 74.9ms postprocess per image at shape (1, 3, 384, 512)\n"
     ]
    },
    {
     "name": "stderr",
     "output_type": "stream",
     "text": [
      " 81%|████████  | 294/365 [07:54<01:45,  1.49s/it]"
     ]
    },
    {
     "name": "stdout",
     "output_type": "stream",
     "text": [
      "\n",
      "image 1/1 C:\\Users\\admin\\.cache\\kagglehub\\datasets\\pavansanagapati\\images-dataset\\versions\\1\\data\\bike\\bike_295.bmp: 384x512 42 objects, 1289.6ms\n",
      "Speed: 2.2ms preprocess, 1289.6ms inference, 95.0ms postprocess per image at shape (1, 3, 384, 512)\n"
     ]
    },
    {
     "name": "stderr",
     "output_type": "stream",
     "text": [
      " 81%|████████  | 295/365 [07:56<01:43,  1.48s/it]"
     ]
    },
    {
     "name": "stdout",
     "output_type": "stream",
     "text": [
      "\n",
      "image 1/1 C:\\Users\\admin\\.cache\\kagglehub\\datasets\\pavansanagapati\\images-dataset\\versions\\1\\data\\bike\\bike_296.bmp: 384x512 36 objects, 1294.4ms\n",
      "Speed: 2.5ms preprocess, 1294.4ms inference, 96.6ms postprocess per image at shape (1, 3, 384, 512)\n"
     ]
    },
    {
     "name": "stderr",
     "output_type": "stream",
     "text": [
      " 81%|████████  | 296/365 [07:57<01:41,  1.47s/it]"
     ]
    },
    {
     "name": "stdout",
     "output_type": "stream",
     "text": [
      "\n",
      "image 1/1 C:\\Users\\admin\\.cache\\kagglehub\\datasets\\pavansanagapati\\images-dataset\\versions\\1\\data\\bike\\bike_297.bmp: 384x512 35 objects, 1354.5ms\n",
      "Speed: 2.8ms preprocess, 1354.5ms inference, 87.2ms postprocess per image at shape (1, 3, 384, 512)\n"
     ]
    },
    {
     "name": "stderr",
     "output_type": "stream",
     "text": [
      " 81%|████████▏ | 297/365 [07:59<01:40,  1.48s/it]"
     ]
    },
    {
     "name": "stdout",
     "output_type": "stream",
     "text": [
      "\n",
      "image 1/1 C:\\Users\\admin\\.cache\\kagglehub\\datasets\\pavansanagapati\\images-dataset\\versions\\1\\data\\bike\\bike_298.bmp: 384x512 27 objects, 1290.9ms\n",
      "Speed: 2.9ms preprocess, 1290.9ms inference, 64.2ms postprocess per image at shape (1, 3, 384, 512)\n"
     ]
    },
    {
     "name": "stderr",
     "output_type": "stream",
     "text": [
      " 82%|████████▏ | 298/365 [08:00<01:37,  1.46s/it]"
     ]
    },
    {
     "name": "stdout",
     "output_type": "stream",
     "text": [
      "\n",
      "image 1/1 C:\\Users\\admin\\.cache\\kagglehub\\datasets\\pavansanagapati\\images-dataset\\versions\\1\\data\\bike\\bike_299.bmp: 384x512 35 objects, 1264.4ms\n",
      "Speed: 1.9ms preprocess, 1264.4ms inference, 85.3ms postprocess per image at shape (1, 3, 384, 512)\n"
     ]
    },
    {
     "name": "stderr",
     "output_type": "stream",
     "text": [
      " 82%|████████▏ | 299/365 [08:01<01:35,  1.45s/it]"
     ]
    },
    {
     "name": "stdout",
     "output_type": "stream",
     "text": [
      "\n",
      "image 1/1 C:\\Users\\admin\\.cache\\kagglehub\\datasets\\pavansanagapati\\images-dataset\\versions\\1\\data\\bike\\bike_300.bmp: 384x512 16 objects, 1356.6ms\n",
      "Speed: 2.6ms preprocess, 1356.6ms inference, 40.1ms postprocess per image at shape (1, 3, 384, 512)\n"
     ]
    },
    {
     "name": "stderr",
     "output_type": "stream",
     "text": [
      " 82%|████████▏ | 300/365 [08:03<01:34,  1.45s/it]"
     ]
    },
    {
     "name": "stdout",
     "output_type": "stream",
     "text": [
      "\n",
      "image 1/1 C:\\Users\\admin\\.cache\\kagglehub\\datasets\\pavansanagapati\\images-dataset\\versions\\1\\data\\bike\\bike_301.bmp: 384x512 13 objects, 1311.2ms\n",
      "Speed: 2.5ms preprocess, 1311.2ms inference, 37.9ms postprocess per image at shape (1, 3, 384, 512)\n"
     ]
    },
    {
     "name": "stderr",
     "output_type": "stream",
     "text": [
      " 82%|████████▏ | 301/365 [08:04<01:31,  1.44s/it]"
     ]
    },
    {
     "name": "stdout",
     "output_type": "stream",
     "text": [
      "\n",
      "image 1/1 C:\\Users\\admin\\.cache\\kagglehub\\datasets\\pavansanagapati\\images-dataset\\versions\\1\\data\\bike\\bike_302.bmp: 384x512 24 objects, 1289.7ms\n",
      "Speed: 4.1ms preprocess, 1289.7ms inference, 52.8ms postprocess per image at shape (1, 3, 384, 512)\n"
     ]
    },
    {
     "name": "stderr",
     "output_type": "stream",
     "text": [
      " 83%|████████▎ | 302/365 [08:06<01:29,  1.43s/it]"
     ]
    },
    {
     "name": "stdout",
     "output_type": "stream",
     "text": [
      "\n",
      "image 1/1 C:\\Users\\admin\\.cache\\kagglehub\\datasets\\pavansanagapati\\images-dataset\\versions\\1\\data\\bike\\bike_303.bmp: 384x512 21 objects, 1393.0ms\n",
      "Speed: 2.6ms preprocess, 1393.0ms inference, 51.1ms postprocess per image at shape (1, 3, 384, 512)\n"
     ]
    },
    {
     "name": "stderr",
     "output_type": "stream",
     "text": [
      " 83%|████████▎ | 303/365 [08:07<01:29,  1.45s/it]"
     ]
    },
    {
     "name": "stdout",
     "output_type": "stream",
     "text": [
      "\n",
      "image 1/1 C:\\Users\\admin\\.cache\\kagglehub\\datasets\\pavansanagapati\\images-dataset\\versions\\1\\data\\bike\\bike_304.bmp: 384x512 25 objects, 1326.9ms\n",
      "Speed: 2.7ms preprocess, 1326.9ms inference, 61.3ms postprocess per image at shape (1, 3, 384, 512)\n"
     ]
    },
    {
     "name": "stderr",
     "output_type": "stream",
     "text": [
      " 83%|████████▎ | 304/365 [08:09<01:28,  1.46s/it]"
     ]
    },
    {
     "name": "stdout",
     "output_type": "stream",
     "text": [
      "\n",
      "image 1/1 C:\\Users\\admin\\.cache\\kagglehub\\datasets\\pavansanagapati\\images-dataset\\versions\\1\\data\\bike\\bike_305.bmp: 384x512 24 objects, 1284.7ms\n",
      "Speed: 3.1ms preprocess, 1284.7ms inference, 56.0ms postprocess per image at shape (1, 3, 384, 512)\n"
     ]
    },
    {
     "name": "stderr",
     "output_type": "stream",
     "text": [
      " 84%|████████▎ | 305/365 [08:10<01:27,  1.47s/it]"
     ]
    },
    {
     "name": "stdout",
     "output_type": "stream",
     "text": [
      "\n",
      "image 1/1 C:\\Users\\admin\\.cache\\kagglehub\\datasets\\pavansanagapati\\images-dataset\\versions\\1\\data\\bike\\bike_306.bmp: 384x512 33 objects, 1315.5ms\n",
      "Speed: 1.9ms preprocess, 1315.5ms inference, 81.2ms postprocess per image at shape (1, 3, 384, 512)\n"
     ]
    },
    {
     "name": "stderr",
     "output_type": "stream",
     "text": [
      " 84%|████████▍ | 306/365 [08:12<01:26,  1.47s/it]"
     ]
    },
    {
     "name": "stdout",
     "output_type": "stream",
     "text": [
      "\n",
      "image 1/1 C:\\Users\\admin\\.cache\\kagglehub\\datasets\\pavansanagapati\\images-dataset\\versions\\1\\data\\bike\\bike_307.bmp: 384x512 24 objects, 1291.8ms\n",
      "Speed: 2.1ms preprocess, 1291.8ms inference, 57.0ms postprocess per image at shape (1, 3, 384, 512)\n"
     ]
    },
    {
     "name": "stderr",
     "output_type": "stream",
     "text": [
      " 84%|████████▍ | 307/365 [08:13<01:24,  1.45s/it]"
     ]
    },
    {
     "name": "stdout",
     "output_type": "stream",
     "text": [
      "\n",
      "image 1/1 C:\\Users\\admin\\.cache\\kagglehub\\datasets\\pavansanagapati\\images-dataset\\versions\\1\\data\\bike\\bike_308.bmp: 384x512 29 objects, 1293.3ms\n",
      "Speed: 3.2ms preprocess, 1293.3ms inference, 63.9ms postprocess per image at shape (1, 3, 384, 512)\n"
     ]
    },
    {
     "name": "stderr",
     "output_type": "stream",
     "text": [
      " 84%|████████▍ | 308/365 [08:14<01:22,  1.44s/it]"
     ]
    },
    {
     "name": "stdout",
     "output_type": "stream",
     "text": [
      "\n",
      "image 1/1 C:\\Users\\admin\\.cache\\kagglehub\\datasets\\pavansanagapati\\images-dataset\\versions\\1\\data\\bike\\bike_309.bmp: 384x512 33 objects, 1298.5ms\n",
      "Speed: 2.8ms preprocess, 1298.5ms inference, 75.8ms postprocess per image at shape (1, 3, 384, 512)\n"
     ]
    },
    {
     "name": "stderr",
     "output_type": "stream",
     "text": [
      " 85%|████████▍ | 309/365 [08:16<01:20,  1.44s/it]"
     ]
    },
    {
     "name": "stdout",
     "output_type": "stream",
     "text": [
      "\n",
      "image 1/1 C:\\Users\\admin\\.cache\\kagglehub\\datasets\\pavansanagapati\\images-dataset\\versions\\1\\data\\bike\\bike_310.bmp: 384x512 44 objects, 1292.7ms\n",
      "Speed: 1.6ms preprocess, 1292.7ms inference, 126.2ms postprocess per image at shape (1, 3, 384, 512)\n"
     ]
    },
    {
     "name": "stderr",
     "output_type": "stream",
     "text": [
      " 85%|████████▍ | 310/365 [08:17<01:19,  1.45s/it]"
     ]
    },
    {
     "name": "stdout",
     "output_type": "stream",
     "text": [
      "\n",
      "image 1/1 C:\\Users\\admin\\.cache\\kagglehub\\datasets\\pavansanagapati\\images-dataset\\versions\\1\\data\\bike\\bike_311.bmp: 384x512 37 objects, 1371.5ms\n",
      "Speed: 3.4ms preprocess, 1371.5ms inference, 84.2ms postprocess per image at shape (1, 3, 384, 512)\n"
     ]
    },
    {
     "name": "stderr",
     "output_type": "stream",
     "text": [
      " 85%|████████▌ | 311/365 [08:19<01:19,  1.48s/it]"
     ]
    },
    {
     "name": "stdout",
     "output_type": "stream",
     "text": [
      "\n",
      "image 1/1 C:\\Users\\admin\\.cache\\kagglehub\\datasets\\pavansanagapati\\images-dataset\\versions\\1\\data\\bike\\bike_312.bmp: 384x512 16 objects, 1306.7ms\n",
      "Speed: 1.9ms preprocess, 1306.7ms inference, 36.2ms postprocess per image at shape (1, 3, 384, 512)\n"
     ]
    },
    {
     "name": "stderr",
     "output_type": "stream",
     "text": [
      " 85%|████████▌ | 312/365 [08:20<01:16,  1.45s/it]"
     ]
    },
    {
     "name": "stdout",
     "output_type": "stream",
     "text": [
      "\n",
      "image 1/1 C:\\Users\\admin\\.cache\\kagglehub\\datasets\\pavansanagapati\\images-dataset\\versions\\1\\data\\bike\\bike_313.bmp: 384x512 21 objects, 1297.9ms\n",
      "Speed: 3.7ms preprocess, 1297.9ms inference, 47.1ms postprocess per image at shape (1, 3, 384, 512)\n"
     ]
    },
    {
     "name": "stderr",
     "output_type": "stream",
     "text": [
      " 86%|████████▌ | 313/365 [08:22<01:14,  1.44s/it]"
     ]
    },
    {
     "name": "stdout",
     "output_type": "stream",
     "text": [
      "\n",
      "image 1/1 C:\\Users\\admin\\.cache\\kagglehub\\datasets\\pavansanagapati\\images-dataset\\versions\\1\\data\\bike\\bike_314.bmp: 384x512 25 objects, 1310.6ms\n",
      "Speed: 2.4ms preprocess, 1310.6ms inference, 59.3ms postprocess per image at shape (1, 3, 384, 512)\n"
     ]
    },
    {
     "name": "stderr",
     "output_type": "stream",
     "text": [
      " 86%|████████▌ | 314/365 [08:23<01:13,  1.44s/it]"
     ]
    },
    {
     "name": "stdout",
     "output_type": "stream",
     "text": [
      "\n",
      "image 1/1 C:\\Users\\admin\\.cache\\kagglehub\\datasets\\pavansanagapati\\images-dataset\\versions\\1\\data\\bike\\bike_315.bmp: 384x512 22 objects, 1289.0ms\n",
      "Speed: 2.3ms preprocess, 1289.0ms inference, 50.7ms postprocess per image at shape (1, 3, 384, 512)\n"
     ]
    },
    {
     "name": "stderr",
     "output_type": "stream",
     "text": [
      " 86%|████████▋ | 315/365 [08:25<01:11,  1.42s/it]"
     ]
    },
    {
     "name": "stdout",
     "output_type": "stream",
     "text": [
      "\n",
      "image 1/1 C:\\Users\\admin\\.cache\\kagglehub\\datasets\\pavansanagapati\\images-dataset\\versions\\1\\data\\bike\\bike_316.bmp: 384x512 23 objects, 1308.3ms\n",
      "Speed: 3.1ms preprocess, 1308.3ms inference, 56.4ms postprocess per image at shape (1, 3, 384, 512)\n"
     ]
    },
    {
     "name": "stderr",
     "output_type": "stream",
     "text": [
      " 87%|████████▋ | 316/365 [08:26<01:09,  1.42s/it]"
     ]
    },
    {
     "name": "stdout",
     "output_type": "stream",
     "text": [
      "\n",
      "image 1/1 C:\\Users\\admin\\.cache\\kagglehub\\datasets\\pavansanagapati\\images-dataset\\versions\\1\\data\\bike\\bike_317.bmp: 384x512 61 objects, 1282.0ms\n",
      "Speed: 2.0ms preprocess, 1282.0ms inference, 175.7ms postprocess per image at shape (1, 3, 384, 512)\n"
     ]
    },
    {
     "name": "stderr",
     "output_type": "stream",
     "text": [
      " 87%|████████▋ | 317/365 [08:28<01:09,  1.46s/it]"
     ]
    },
    {
     "name": "stdout",
     "output_type": "stream",
     "text": [
      "\n",
      "image 1/1 C:\\Users\\admin\\.cache\\kagglehub\\datasets\\pavansanagapati\\images-dataset\\versions\\1\\data\\bike\\bike_318.bmp: 384x512 28 objects, 1308.2ms\n",
      "Speed: 3.9ms preprocess, 1308.2ms inference, 63.8ms postprocess per image at shape (1, 3, 384, 512)\n"
     ]
    },
    {
     "name": "stderr",
     "output_type": "stream",
     "text": [
      " 87%|████████▋ | 318/365 [08:29<01:07,  1.45s/it]"
     ]
    },
    {
     "name": "stdout",
     "output_type": "stream",
     "text": [
      "\n",
      "image 1/1 C:\\Users\\admin\\.cache\\kagglehub\\datasets\\pavansanagapati\\images-dataset\\versions\\1\\data\\bike\\bike_319.bmp: 384x512 51 objects, 1286.1ms\n",
      "Speed: 2.7ms preprocess, 1286.1ms inference, 164.4ms postprocess per image at shape (1, 3, 384, 512)\n"
     ]
    },
    {
     "name": "stderr",
     "output_type": "stream",
     "text": [
      " 87%|████████▋ | 319/365 [08:30<01:07,  1.47s/it]"
     ]
    },
    {
     "name": "stdout",
     "output_type": "stream",
     "text": [
      "\n",
      "image 1/1 C:\\Users\\admin\\.cache\\kagglehub\\datasets\\pavansanagapati\\images-dataset\\versions\\1\\data\\bike\\bike_320.bmp: 384x512 55 objects, 1436.9ms\n",
      "Speed: 1.9ms preprocess, 1436.9ms inference, 154.3ms postprocess per image at shape (1, 3, 384, 512)\n"
     ]
    },
    {
     "name": "stderr",
     "output_type": "stream",
     "text": [
      " 88%|████████▊ | 320/365 [08:32<01:08,  1.53s/it]"
     ]
    },
    {
     "name": "stdout",
     "output_type": "stream",
     "text": [
      "\n",
      "image 1/1 C:\\Users\\admin\\.cache\\kagglehub\\datasets\\pavansanagapati\\images-dataset\\versions\\1\\data\\bike\\bike_321.bmp: 384x512 67 objects, 1314.1ms\n",
      "Speed: 2.2ms preprocess, 1314.1ms inference, 185.7ms postprocess per image at shape (1, 3, 384, 512)\n"
     ]
    },
    {
     "name": "stderr",
     "output_type": "stream",
     "text": [
      " 88%|████████▊ | 321/365 [08:34<01:07,  1.54s/it]"
     ]
    },
    {
     "name": "stdout",
     "output_type": "stream",
     "text": [
      "\n",
      "image 1/1 C:\\Users\\admin\\.cache\\kagglehub\\datasets\\pavansanagapati\\images-dataset\\versions\\1\\data\\bike\\bike_322.bmp: 384x512 34 objects, 1304.6ms\n",
      "Speed: 2.4ms preprocess, 1304.6ms inference, 75.1ms postprocess per image at shape (1, 3, 384, 512)\n"
     ]
    },
    {
     "name": "stderr",
     "output_type": "stream",
     "text": [
      " 88%|████████▊ | 322/365 [08:35<01:04,  1.51s/it]"
     ]
    },
    {
     "name": "stdout",
     "output_type": "stream",
     "text": [
      "\n",
      "image 1/1 C:\\Users\\admin\\.cache\\kagglehub\\datasets\\pavansanagapati\\images-dataset\\versions\\1\\data\\bike\\bike_323.bmp: 384x512 46 objects, 1326.4ms\n",
      "Speed: 1.9ms preprocess, 1326.4ms inference, 102.1ms postprocess per image at shape (1, 3, 384, 512)\n"
     ]
    },
    {
     "name": "stderr",
     "output_type": "stream",
     "text": [
      " 88%|████████▊ | 323/365 [08:37<01:03,  1.51s/it]"
     ]
    },
    {
     "name": "stdout",
     "output_type": "stream",
     "text": [
      "\n",
      "image 1/1 C:\\Users\\admin\\.cache\\kagglehub\\datasets\\pavansanagapati\\images-dataset\\versions\\1\\data\\bike\\bike_324.bmp: 384x512 42 objects, 1333.6ms\n",
      "Speed: 2.5ms preprocess, 1333.6ms inference, 106.1ms postprocess per image at shape (1, 3, 384, 512)\n"
     ]
    },
    {
     "name": "stderr",
     "output_type": "stream",
     "text": [
      " 89%|████████▉ | 324/365 [08:38<01:02,  1.51s/it]"
     ]
    },
    {
     "name": "stdout",
     "output_type": "stream",
     "text": [
      "\n",
      "image 1/1 C:\\Users\\admin\\.cache\\kagglehub\\datasets\\pavansanagapati\\images-dataset\\versions\\1\\data\\bike\\bike_325.bmp: 384x512 51 objects, 1274.5ms\n",
      "Speed: 3.2ms preprocess, 1274.5ms inference, 145.0ms postprocess per image at shape (1, 3, 384, 512)\n"
     ]
    },
    {
     "name": "stderr",
     "output_type": "stream",
     "text": [
      " 89%|████████▉ | 325/365 [08:40<01:00,  1.51s/it]"
     ]
    },
    {
     "name": "stdout",
     "output_type": "stream",
     "text": [
      "\n",
      "image 1/1 C:\\Users\\admin\\.cache\\kagglehub\\datasets\\pavansanagapati\\images-dataset\\versions\\1\\data\\bike\\bike_326.bmp: 384x512 48 objects, 1314.5ms\n",
      "Speed: 2.7ms preprocess, 1314.5ms inference, 107.9ms postprocess per image at shape (1, 3, 384, 512)\n"
     ]
    },
    {
     "name": "stderr",
     "output_type": "stream",
     "text": [
      " 89%|████████▉ | 326/365 [08:41<00:58,  1.50s/it]"
     ]
    },
    {
     "name": "stdout",
     "output_type": "stream",
     "text": [
      "\n",
      "image 1/1 C:\\Users\\admin\\.cache\\kagglehub\\datasets\\pavansanagapati\\images-dataset\\versions\\1\\data\\bike\\bike_327.bmp: 384x512 52 objects, 1522.2ms\n",
      "Speed: 2.4ms preprocess, 1522.2ms inference, 153.8ms postprocess per image at shape (1, 3, 384, 512)\n"
     ]
    },
    {
     "name": "stderr",
     "output_type": "stream",
     "text": [
      " 90%|████████▉ | 327/365 [08:43<01:00,  1.58s/it]"
     ]
    },
    {
     "name": "stdout",
     "output_type": "stream",
     "text": [
      "\n",
      "image 1/1 C:\\Users\\admin\\.cache\\kagglehub\\datasets\\pavansanagapati\\images-dataset\\versions\\1\\data\\bike\\bike_328.bmp: 384x512 55 objects, 1364.1ms\n",
      "Speed: 2.0ms preprocess, 1364.1ms inference, 164.1ms postprocess per image at shape (1, 3, 384, 512)\n"
     ]
    },
    {
     "name": "stderr",
     "output_type": "stream",
     "text": [
      " 90%|████████▉ | 328/365 [08:45<00:58,  1.59s/it]"
     ]
    },
    {
     "name": "stdout",
     "output_type": "stream",
     "text": [
      "\n",
      "image 1/1 C:\\Users\\admin\\.cache\\kagglehub\\datasets\\pavansanagapati\\images-dataset\\versions\\1\\data\\bike\\bike_329.bmp: 384x512 62 objects, 1264.5ms\n",
      "Speed: 3.1ms preprocess, 1264.5ms inference, 177.7ms postprocess per image at shape (1, 3, 384, 512)\n"
     ]
    },
    {
     "name": "stderr",
     "output_type": "stream",
     "text": [
      " 90%|█████████ | 329/365 [08:46<00:56,  1.57s/it]"
     ]
    },
    {
     "name": "stdout",
     "output_type": "stream",
     "text": [
      "\n",
      "image 1/1 C:\\Users\\admin\\.cache\\kagglehub\\datasets\\pavansanagapati\\images-dataset\\versions\\1\\data\\bike\\bike_330.bmp: 384x512 31 objects, 1283.0ms\n",
      "Speed: 3.8ms preprocess, 1283.0ms inference, 71.0ms postprocess per image at shape (1, 3, 384, 512)\n"
     ]
    },
    {
     "name": "stderr",
     "output_type": "stream",
     "text": [
      " 90%|█████████ | 330/365 [08:47<00:53,  1.52s/it]"
     ]
    },
    {
     "name": "stdout",
     "output_type": "stream",
     "text": [
      "\n",
      "image 1/1 C:\\Users\\admin\\.cache\\kagglehub\\datasets\\pavansanagapati\\images-dataset\\versions\\1\\data\\bike\\bike_331.bmp: 384x512 55 objects, 1314.8ms\n",
      "Speed: 2.5ms preprocess, 1314.8ms inference, 164.2ms postprocess per image at shape (1, 3, 384, 512)\n"
     ]
    },
    {
     "name": "stderr",
     "output_type": "stream",
     "text": [
      " 91%|█████████ | 331/365 [08:49<00:52,  1.54s/it]"
     ]
    },
    {
     "name": "stdout",
     "output_type": "stream",
     "text": [
      "\n",
      "image 1/1 C:\\Users\\admin\\.cache\\kagglehub\\datasets\\pavansanagapati\\images-dataset\\versions\\1\\data\\bike\\bike_332.bmp: 384x512 47 objects, 1258.3ms\n",
      "Speed: 2.4ms preprocess, 1258.3ms inference, 105.6ms postprocess per image at shape (1, 3, 384, 512)\n"
     ]
    },
    {
     "name": "stderr",
     "output_type": "stream",
     "text": [
      " 91%|█████████ | 332/365 [08:50<00:49,  1.51s/it]"
     ]
    },
    {
     "name": "stdout",
     "output_type": "stream",
     "text": [
      "\n",
      "image 1/1 C:\\Users\\admin\\.cache\\kagglehub\\datasets\\pavansanagapati\\images-dataset\\versions\\1\\data\\bike\\bike_333.bmp: 384x512 33 objects, 1283.1ms\n",
      "Speed: 2.2ms preprocess, 1283.1ms inference, 75.8ms postprocess per image at shape (1, 3, 384, 512)\n"
     ]
    },
    {
     "name": "stderr",
     "output_type": "stream",
     "text": [
      " 91%|█████████ | 333/365 [08:52<00:48,  1.50s/it]"
     ]
    },
    {
     "name": "stdout",
     "output_type": "stream",
     "text": [
      "\n",
      "image 1/1 C:\\Users\\admin\\.cache\\kagglehub\\datasets\\pavansanagapati\\images-dataset\\versions\\1\\data\\bike\\bike_334.bmp: 384x512 34 objects, 1277.8ms\n",
      "Speed: 2.2ms preprocess, 1277.8ms inference, 84.1ms postprocess per image at shape (1, 3, 384, 512)\n"
     ]
    },
    {
     "name": "stderr",
     "output_type": "stream",
     "text": [
      " 92%|█████████▏| 334/365 [08:53<00:45,  1.48s/it]"
     ]
    },
    {
     "name": "stdout",
     "output_type": "stream",
     "text": [
      "\n",
      "image 1/1 C:\\Users\\admin\\.cache\\kagglehub\\datasets\\pavansanagapati\\images-dataset\\versions\\1\\data\\bike\\bike_335.bmp: 384x512 32 objects, 1350.0ms\n",
      "Speed: 3.8ms preprocess, 1350.0ms inference, 73.0ms postprocess per image at shape (1, 3, 384, 512)\n"
     ]
    },
    {
     "name": "stderr",
     "output_type": "stream",
     "text": [
      " 92%|█████████▏| 335/365 [08:55<00:44,  1.48s/it]"
     ]
    },
    {
     "name": "stdout",
     "output_type": "stream",
     "text": [
      "\n",
      "image 1/1 C:\\Users\\admin\\.cache\\kagglehub\\datasets\\pavansanagapati\\images-dataset\\versions\\1\\data\\bike\\bike_336.bmp: 384x512 24 objects, 1282.2ms\n",
      "Speed: 1.8ms preprocess, 1282.2ms inference, 54.3ms postprocess per image at shape (1, 3, 384, 512)\n"
     ]
    },
    {
     "name": "stderr",
     "output_type": "stream",
     "text": [
      " 92%|█████████▏| 336/365 [08:56<00:42,  1.46s/it]"
     ]
    },
    {
     "name": "stdout",
     "output_type": "stream",
     "text": [
      "\n",
      "image 1/1 C:\\Users\\admin\\.cache\\kagglehub\\datasets\\pavansanagapati\\images-dataset\\versions\\1\\data\\bike\\bike_337.bmp: 384x512 33 objects, 1342.0ms\n",
      "Speed: 3.0ms preprocess, 1342.0ms inference, 76.4ms postprocess per image at shape (1, 3, 384, 512)\n"
     ]
    },
    {
     "name": "stderr",
     "output_type": "stream",
     "text": [
      " 92%|█████████▏| 337/365 [08:58<00:40,  1.46s/it]"
     ]
    },
    {
     "name": "stdout",
     "output_type": "stream",
     "text": [
      "\n",
      "image 1/1 C:\\Users\\admin\\.cache\\kagglehub\\datasets\\pavansanagapati\\images-dataset\\versions\\1\\data\\bike\\bike_338.bmp: 384x512 22 objects, 1617.8ms\n",
      "Speed: 2.7ms preprocess, 1617.8ms inference, 49.5ms postprocess per image at shape (1, 3, 384, 512)\n"
     ]
    },
    {
     "name": "stderr",
     "output_type": "stream",
     "text": [
      " 93%|█████████▎| 338/365 [08:59<00:41,  1.54s/it]"
     ]
    },
    {
     "name": "stdout",
     "output_type": "stream",
     "text": [
      "\n",
      "image 1/1 C:\\Users\\admin\\.cache\\kagglehub\\datasets\\pavansanagapati\\images-dataset\\versions\\1\\data\\bike\\bike_339.bmp: 384x512 30 objects, 1304.0ms\n",
      "Speed: 2.3ms preprocess, 1304.0ms inference, 71.9ms postprocess per image at shape (1, 3, 384, 512)\n"
     ]
    },
    {
     "name": "stderr",
     "output_type": "stream",
     "text": [
      " 93%|█████████▎| 339/365 [09:01<00:39,  1.50s/it]"
     ]
    },
    {
     "name": "stdout",
     "output_type": "stream",
     "text": [
      "\n",
      "image 1/1 C:\\Users\\admin\\.cache\\kagglehub\\datasets\\pavansanagapati\\images-dataset\\versions\\1\\data\\bike\\bike_340.bmp: 384x512 17 objects, 1326.5ms\n",
      "Speed: 3.4ms preprocess, 1326.5ms inference, 42.0ms postprocess per image at shape (1, 3, 384, 512)\n"
     ]
    },
    {
     "name": "stderr",
     "output_type": "stream",
     "text": [
      " 93%|█████████▎| 340/365 [09:02<00:36,  1.48s/it]"
     ]
    },
    {
     "name": "stdout",
     "output_type": "stream",
     "text": [
      "\n",
      "image 1/1 C:\\Users\\admin\\.cache\\kagglehub\\datasets\\pavansanagapati\\images-dataset\\versions\\1\\data\\bike\\bike_341.bmp: 384x512 19 objects, 1304.4ms\n",
      "Speed: 2.9ms preprocess, 1304.4ms inference, 49.9ms postprocess per image at shape (1, 3, 384, 512)\n"
     ]
    },
    {
     "name": "stderr",
     "output_type": "stream",
     "text": [
      " 93%|█████████▎| 341/365 [09:04<00:34,  1.46s/it]"
     ]
    },
    {
     "name": "stdout",
     "output_type": "stream",
     "text": [
      "\n",
      "image 1/1 C:\\Users\\admin\\.cache\\kagglehub\\datasets\\pavansanagapati\\images-dataset\\versions\\1\\data\\bike\\bike_342.bmp: 384x512 26 objects, 1385.0ms\n",
      "Speed: 1.9ms preprocess, 1385.0ms inference, 60.3ms postprocess per image at shape (1, 3, 384, 512)\n"
     ]
    },
    {
     "name": "stderr",
     "output_type": "stream",
     "text": [
      " 94%|█████████▎| 342/365 [09:05<00:33,  1.47s/it]"
     ]
    },
    {
     "name": "stdout",
     "output_type": "stream",
     "text": [
      "\n",
      "image 1/1 C:\\Users\\admin\\.cache\\kagglehub\\datasets\\pavansanagapati\\images-dataset\\versions\\1\\data\\bike\\bike_343.bmp: 384x512 31 objects, 1350.7ms\n",
      "Speed: 2.6ms preprocess, 1350.7ms inference, 79.2ms postprocess per image at shape (1, 3, 384, 512)\n"
     ]
    },
    {
     "name": "stderr",
     "output_type": "stream",
     "text": [
      " 94%|█████████▍| 343/365 [09:07<00:32,  1.48s/it]"
     ]
    },
    {
     "name": "stdout",
     "output_type": "stream",
     "text": [
      "\n",
      "image 1/1 C:\\Users\\admin\\.cache\\kagglehub\\datasets\\pavansanagapati\\images-dataset\\versions\\1\\data\\bike\\bike_344.bmp: 384x512 28 objects, 1293.3ms\n",
      "Speed: 2.1ms preprocess, 1293.3ms inference, 86.4ms postprocess per image at shape (1, 3, 384, 512)\n"
     ]
    },
    {
     "name": "stderr",
     "output_type": "stream",
     "text": [
      " 94%|█████████▍| 344/365 [09:08<00:30,  1.47s/it]"
     ]
    },
    {
     "name": "stdout",
     "output_type": "stream",
     "text": [
      "\n",
      "image 1/1 C:\\Users\\admin\\.cache\\kagglehub\\datasets\\pavansanagapati\\images-dataset\\versions\\1\\data\\bike\\bike_345.bmp: 384x512 20 objects, 1444.3ms\n",
      "Speed: 2.1ms preprocess, 1444.3ms inference, 52.0ms postprocess per image at shape (1, 3, 384, 512)\n"
     ]
    },
    {
     "name": "stderr",
     "output_type": "stream",
     "text": [
      " 95%|█████████▍| 345/365 [09:10<00:29,  1.49s/it]"
     ]
    },
    {
     "name": "stdout",
     "output_type": "stream",
     "text": [
      "\n",
      "image 1/1 C:\\Users\\admin\\.cache\\kagglehub\\datasets\\pavansanagapati\\images-dataset\\versions\\1\\data\\bike\\bike_346.bmp: 384x512 31 objects, 1282.7ms\n",
      "Speed: 1.8ms preprocess, 1282.7ms inference, 78.3ms postprocess per image at shape (1, 3, 384, 512)\n"
     ]
    },
    {
     "name": "stderr",
     "output_type": "stream",
     "text": [
      " 95%|█████████▍| 346/365 [09:11<00:27,  1.47s/it]"
     ]
    },
    {
     "name": "stdout",
     "output_type": "stream",
     "text": [
      "\n",
      "image 1/1 C:\\Users\\admin\\.cache\\kagglehub\\datasets\\pavansanagapati\\images-dataset\\versions\\1\\data\\bike\\bike_347.bmp: 384x512 20 objects, 1299.9ms\n",
      "Speed: 2.5ms preprocess, 1299.9ms inference, 44.8ms postprocess per image at shape (1, 3, 384, 512)\n"
     ]
    },
    {
     "name": "stderr",
     "output_type": "stream",
     "text": [
      " 95%|█████████▌| 347/365 [09:12<00:26,  1.45s/it]"
     ]
    },
    {
     "name": "stdout",
     "output_type": "stream",
     "text": [
      "\n",
      "image 1/1 C:\\Users\\admin\\.cache\\kagglehub\\datasets\\pavansanagapati\\images-dataset\\versions\\1\\data\\bike\\bike_348.bmp: 384x512 16 objects, 1318.2ms\n",
      "Speed: 3.1ms preprocess, 1318.2ms inference, 41.7ms postprocess per image at shape (1, 3, 384, 512)\n"
     ]
    },
    {
     "name": "stderr",
     "output_type": "stream",
     "text": [
      " 95%|█████████▌| 348/365 [09:14<00:24,  1.44s/it]"
     ]
    },
    {
     "name": "stdout",
     "output_type": "stream",
     "text": [
      "\n",
      "image 1/1 C:\\Users\\admin\\.cache\\kagglehub\\datasets\\pavansanagapati\\images-dataset\\versions\\1\\data\\bike\\bike_349.bmp: 384x512 20 objects, 1276.1ms\n",
      "Speed: 2.1ms preprocess, 1276.1ms inference, 46.8ms postprocess per image at shape (1, 3, 384, 512)\n"
     ]
    },
    {
     "name": "stderr",
     "output_type": "stream",
     "text": [
      " 96%|█████████▌| 349/365 [09:15<00:22,  1.42s/it]"
     ]
    },
    {
     "name": "stdout",
     "output_type": "stream",
     "text": [
      "\n",
      "image 1/1 C:\\Users\\admin\\.cache\\kagglehub\\datasets\\pavansanagapati\\images-dataset\\versions\\1\\data\\bike\\bike_350.bmp: 384x512 77 objects, 1668.5ms\n",
      "Speed: 2.0ms preprocess, 1668.5ms inference, 222.1ms postprocess per image at shape (1, 3, 384, 512)\n"
     ]
    },
    {
     "name": "stderr",
     "output_type": "stream",
     "text": [
      " 96%|█████████▌| 350/365 [09:17<00:23,  1.59s/it]"
     ]
    },
    {
     "name": "stdout",
     "output_type": "stream",
     "text": [
      "\n",
      "image 1/1 C:\\Users\\admin\\.cache\\kagglehub\\datasets\\pavansanagapati\\images-dataset\\versions\\1\\data\\bike\\bike_351.bmp: 384x512 40 objects, 1313.4ms\n",
      "Speed: 1.8ms preprocess, 1313.4ms inference, 95.0ms postprocess per image at shape (1, 3, 384, 512)\n"
     ]
    },
    {
     "name": "stderr",
     "output_type": "stream",
     "text": [
      " 96%|█████████▌| 351/365 [09:19<00:21,  1.55s/it]"
     ]
    },
    {
     "name": "stdout",
     "output_type": "stream",
     "text": [
      "\n",
      "image 1/1 C:\\Users\\admin\\.cache\\kagglehub\\datasets\\pavansanagapati\\images-dataset\\versions\\1\\data\\bike\\bike_352.bmp: 384x512 43 objects, 1415.0ms\n",
      "Speed: 1.5ms preprocess, 1415.0ms inference, 105.1ms postprocess per image at shape (1, 3, 384, 512)\n"
     ]
    },
    {
     "name": "stderr",
     "output_type": "stream",
     "text": [
      " 96%|█████████▋| 352/365 [09:20<00:20,  1.56s/it]"
     ]
    },
    {
     "name": "stdout",
     "output_type": "stream",
     "text": [
      "\n",
      "image 1/1 C:\\Users\\admin\\.cache\\kagglehub\\datasets\\pavansanagapati\\images-dataset\\versions\\1\\data\\bike\\bike_353.bmp: 384x512 53 objects, 1315.8ms\n",
      "Speed: 2.6ms preprocess, 1315.8ms inference, 151.7ms postprocess per image at shape (1, 3, 384, 512)\n"
     ]
    },
    {
     "name": "stderr",
     "output_type": "stream",
     "text": [
      " 97%|█████████▋| 353/365 [09:22<00:18,  1.56s/it]"
     ]
    },
    {
     "name": "stdout",
     "output_type": "stream",
     "text": [
      "\n",
      "image 1/1 C:\\Users\\admin\\.cache\\kagglehub\\datasets\\pavansanagapati\\images-dataset\\versions\\1\\data\\bike\\bike_354.bmp: 384x512 38 objects, 1322.5ms\n",
      "Speed: 2.3ms preprocess, 1322.5ms inference, 92.7ms postprocess per image at shape (1, 3, 384, 512)\n"
     ]
    },
    {
     "name": "stderr",
     "output_type": "stream",
     "text": [
      " 97%|█████████▋| 354/365 [09:23<00:16,  1.53s/it]"
     ]
    },
    {
     "name": "stdout",
     "output_type": "stream",
     "text": [
      "\n",
      "image 1/1 C:\\Users\\admin\\.cache\\kagglehub\\datasets\\pavansanagapati\\images-dataset\\versions\\1\\data\\bike\\bike_355.bmp: 384x512 29 objects, 1369.3ms\n",
      "Speed: 4.5ms preprocess, 1369.3ms inference, 72.6ms postprocess per image at shape (1, 3, 384, 512)\n"
     ]
    },
    {
     "name": "stderr",
     "output_type": "stream",
     "text": [
      " 97%|█████████▋| 355/365 [09:25<00:15,  1.53s/it]"
     ]
    },
    {
     "name": "stdout",
     "output_type": "stream",
     "text": [
      "\n",
      "image 1/1 C:\\Users\\admin\\.cache\\kagglehub\\datasets\\pavansanagapati\\images-dataset\\versions\\1\\data\\bike\\bike_356.bmp: 384x512 22 objects, 1330.1ms\n",
      "Speed: 2.1ms preprocess, 1330.1ms inference, 52.5ms postprocess per image at shape (1, 3, 384, 512)\n"
     ]
    },
    {
     "name": "stderr",
     "output_type": "stream",
     "text": [
      " 98%|█████████▊| 356/365 [09:26<00:13,  1.51s/it]"
     ]
    },
    {
     "name": "stdout",
     "output_type": "stream",
     "text": [
      "\n",
      "image 1/1 C:\\Users\\admin\\.cache\\kagglehub\\datasets\\pavansanagapati\\images-dataset\\versions\\1\\data\\bike\\bike_357.bmp: 384x512 22 objects, 1352.4ms\n",
      "Speed: 2.1ms preprocess, 1352.4ms inference, 59.7ms postprocess per image at shape (1, 3, 384, 512)\n"
     ]
    },
    {
     "name": "stderr",
     "output_type": "stream",
     "text": [
      " 98%|█████████▊| 357/365 [09:28<00:11,  1.50s/it]"
     ]
    },
    {
     "name": "stdout",
     "output_type": "stream",
     "text": [
      "\n",
      "image 1/1 C:\\Users\\admin\\.cache\\kagglehub\\datasets\\pavansanagapati\\images-dataset\\versions\\1\\data\\bike\\bike_358.bmp: 384x512 20 objects, 1368.1ms\n",
      "Speed: 6.1ms preprocess, 1368.1ms inference, 50.1ms postprocess per image at shape (1, 3, 384, 512)\n"
     ]
    },
    {
     "name": "stderr",
     "output_type": "stream",
     "text": [
      " 98%|█████████▊| 358/365 [09:29<00:10,  1.49s/it]"
     ]
    },
    {
     "name": "stdout",
     "output_type": "stream",
     "text": [
      "\n",
      "image 1/1 C:\\Users\\admin\\.cache\\kagglehub\\datasets\\pavansanagapati\\images-dataset\\versions\\1\\data\\bike\\bike_359.bmp: 384x512 24 objects, 1346.8ms\n",
      "Speed: 2.9ms preprocess, 1346.8ms inference, 54.3ms postprocess per image at shape (1, 3, 384, 512)\n"
     ]
    },
    {
     "name": "stderr",
     "output_type": "stream",
     "text": [
      " 98%|█████████▊| 359/365 [09:31<00:08,  1.49s/it]"
     ]
    },
    {
     "name": "stdout",
     "output_type": "stream",
     "text": [
      "\n",
      "image 1/1 C:\\Users\\admin\\.cache\\kagglehub\\datasets\\pavansanagapati\\images-dataset\\versions\\1\\data\\bike\\bike_360.bmp: 384x512 26 objects, 1391.0ms\n",
      "Speed: 39.0ms preprocess, 1391.0ms inference, 67.6ms postprocess per image at shape (1, 3, 384, 512)\n"
     ]
    },
    {
     "name": "stderr",
     "output_type": "stream",
     "text": [
      " 99%|█████████▊| 360/365 [09:32<00:07,  1.51s/it]"
     ]
    },
    {
     "name": "stdout",
     "output_type": "stream",
     "text": [
      "\n",
      "image 1/1 C:\\Users\\admin\\.cache\\kagglehub\\datasets\\pavansanagapati\\images-dataset\\versions\\1\\data\\bike\\bike_361.bmp: 384x512 15 objects, 1369.9ms\n",
      "Speed: 2.7ms preprocess, 1369.9ms inference, 38.4ms postprocess per image at shape (1, 3, 384, 512)\n"
     ]
    },
    {
     "name": "stderr",
     "output_type": "stream",
     "text": [
      " 99%|█████████▉| 361/365 [09:34<00:05,  1.50s/it]"
     ]
    },
    {
     "name": "stdout",
     "output_type": "stream",
     "text": [
      "\n",
      "image 1/1 C:\\Users\\admin\\.cache\\kagglehub\\datasets\\pavansanagapati\\images-dataset\\versions\\1\\data\\bike\\bike_362.bmp: 384x512 25 objects, 1321.6ms\n",
      "Speed: 4.0ms preprocess, 1321.6ms inference, 58.5ms postprocess per image at shape (1, 3, 384, 512)\n"
     ]
    },
    {
     "name": "stderr",
     "output_type": "stream",
     "text": [
      " 99%|█████████▉| 362/365 [09:35<00:04,  1.48s/it]"
     ]
    },
    {
     "name": "stdout",
     "output_type": "stream",
     "text": [
      "\n",
      "image 1/1 C:\\Users\\admin\\.cache\\kagglehub\\datasets\\pavansanagapati\\images-dataset\\versions\\1\\data\\bike\\bike_363.bmp: 384x512 29 objects, 1325.9ms\n",
      "Speed: 2.0ms preprocess, 1325.9ms inference, 72.1ms postprocess per image at shape (1, 3, 384, 512)\n"
     ]
    },
    {
     "name": "stderr",
     "output_type": "stream",
     "text": [
      " 99%|█████████▉| 363/365 [09:37<00:02,  1.48s/it]"
     ]
    },
    {
     "name": "stdout",
     "output_type": "stream",
     "text": [
      "\n",
      "image 1/1 C:\\Users\\admin\\.cache\\kagglehub\\datasets\\pavansanagapati\\images-dataset\\versions\\1\\data\\bike\\bike_364.bmp: 384x512 18 objects, 1303.0ms\n",
      "Speed: 2.5ms preprocess, 1303.0ms inference, 44.3ms postprocess per image at shape (1, 3, 384, 512)\n"
     ]
    },
    {
     "name": "stderr",
     "output_type": "stream",
     "text": [
      "100%|█████████▉| 364/365 [09:38<00:01,  1.46s/it]"
     ]
    },
    {
     "name": "stdout",
     "output_type": "stream",
     "text": [
      "\n",
      "image 1/1 C:\\Users\\admin\\.cache\\kagglehub\\datasets\\pavansanagapati\\images-dataset\\versions\\1\\data\\bike\\bike_365.bmp: 384x512 20 objects, 1324.0ms\n",
      "Speed: 1.9ms preprocess, 1324.0ms inference, 45.6ms postprocess per image at shape (1, 3, 384, 512)\n"
     ]
    },
    {
     "name": "stderr",
     "output_type": "stream",
     "text": [
      "100%|██████████| 365/365 [09:40<00:00,  1.59s/it]\n"
     ]
    },
    {
     "name": "stdout",
     "output_type": "stream",
     "text": [
      "\n",
      " Processing class: cars\n"
     ]
    },
    {
     "name": "stderr",
     "output_type": "stream",
     "text": [
      "  0%|          | 0/420 [00:00<?, ?it/s]"
     ]
    },
    {
     "name": "stdout",
     "output_type": "stream",
     "text": [
      "\n",
      "image 1/1 C:\\Users\\admin\\.cache\\kagglehub\\datasets\\pavansanagapati\\images-dataset\\versions\\1\\data\\cars\\carsgraz_001.bmp: 384x512 45 objects, 1292.9ms\n",
      "Speed: 1.9ms preprocess, 1292.9ms inference, 114.0ms postprocess per image at shape (1, 3, 384, 512)\n"
     ]
    },
    {
     "name": "stderr",
     "output_type": "stream",
     "text": [
      "  0%|          | 1/420 [00:01<10:12,  1.46s/it]"
     ]
    },
    {
     "name": "stdout",
     "output_type": "stream",
     "text": [
      "\n",
      "image 1/1 C:\\Users\\admin\\.cache\\kagglehub\\datasets\\pavansanagapati\\images-dataset\\versions\\1\\data\\cars\\carsgraz_002.bmp: 384x512 49 objects, 1382.9ms\n",
      "Speed: 2.3ms preprocess, 1382.9ms inference, 113.3ms postprocess per image at shape (1, 3, 384, 512)\n"
     ]
    },
    {
     "name": "stderr",
     "output_type": "stream",
     "text": [
      "  0%|          | 2/420 [00:03<10:33,  1.52s/it]"
     ]
    },
    {
     "name": "stdout",
     "output_type": "stream",
     "text": [
      "\n",
      "image 1/1 C:\\Users\\admin\\.cache\\kagglehub\\datasets\\pavansanagapati\\images-dataset\\versions\\1\\data\\cars\\carsgraz_003.bmp: 384x512 31 objects, 1382.2ms\n",
      "Speed: 2.9ms preprocess, 1382.2ms inference, 76.9ms postprocess per image at shape (1, 3, 384, 512)\n"
     ]
    },
    {
     "name": "stderr",
     "output_type": "stream",
     "text": [
      "  1%|          | 3/420 [00:04<10:35,  1.52s/it]"
     ]
    },
    {
     "name": "stdout",
     "output_type": "stream",
     "text": [
      "\n",
      "image 1/1 C:\\Users\\admin\\.cache\\kagglehub\\datasets\\pavansanagapati\\images-dataset\\versions\\1\\data\\cars\\carsgraz_004.bmp: 384x512 28 objects, 1351.5ms\n",
      "Speed: 2.2ms preprocess, 1351.5ms inference, 68.8ms postprocess per image at shape (1, 3, 384, 512)\n"
     ]
    },
    {
     "name": "stderr",
     "output_type": "stream",
     "text": [
      "  1%|          | 4/420 [00:06<10:24,  1.50s/it]"
     ]
    },
    {
     "name": "stdout",
     "output_type": "stream",
     "text": [
      "\n",
      "image 1/1 C:\\Users\\admin\\.cache\\kagglehub\\datasets\\pavansanagapati\\images-dataset\\versions\\1\\data\\cars\\carsgraz_005.bmp: 384x512 44 objects, 1361.8ms\n",
      "Speed: 2.1ms preprocess, 1361.8ms inference, 106.2ms postprocess per image at shape (1, 3, 384, 512)\n"
     ]
    },
    {
     "name": "stderr",
     "output_type": "stream",
     "text": [
      "  1%|          | 5/420 [00:07<10:25,  1.51s/it]"
     ]
    },
    {
     "name": "stdout",
     "output_type": "stream",
     "text": [
      "\n",
      "image 1/1 C:\\Users\\admin\\.cache\\kagglehub\\datasets\\pavansanagapati\\images-dataset\\versions\\1\\data\\cars\\carsgraz_006.bmp: 384x512 52 objects, 1325.8ms\n",
      "Speed: 2.3ms preprocess, 1325.8ms inference, 147.8ms postprocess per image at shape (1, 3, 384, 512)\n"
     ]
    },
    {
     "name": "stderr",
     "output_type": "stream",
     "text": [
      "  1%|▏         | 6/420 [00:09<10:31,  1.52s/it]"
     ]
    },
    {
     "name": "stdout",
     "output_type": "stream",
     "text": [
      "\n",
      "image 1/1 C:\\Users\\admin\\.cache\\kagglehub\\datasets\\pavansanagapati\\images-dataset\\versions\\1\\data\\cars\\carsgraz_007.bmp: 384x512 53 objects, 1693.8ms\n",
      "Speed: 2.1ms preprocess, 1693.8ms inference, 196.3ms postprocess per image at shape (1, 3, 384, 512)\n"
     ]
    },
    {
     "name": "stderr",
     "output_type": "stream",
     "text": [
      "  2%|▏         | 7/420 [00:11<11:48,  1.72s/it]"
     ]
    },
    {
     "name": "stdout",
     "output_type": "stream",
     "text": [
      "\n",
      "image 1/1 C:\\Users\\admin\\.cache\\kagglehub\\datasets\\pavansanagapati\\images-dataset\\versions\\1\\data\\cars\\carsgraz_008.bmp: 384x512 48 objects, 4446.7ms\n",
      "Speed: 39.0ms preprocess, 4446.7ms inference, 207.8ms postprocess per image at shape (1, 3, 384, 512)\n"
     ]
    },
    {
     "name": "stderr",
     "output_type": "stream",
     "text": [
      "  2%|▏         | 8/420 [00:16<18:31,  2.70s/it]"
     ]
    },
    {
     "name": "stdout",
     "output_type": "stream",
     "text": [
      "\n",
      "image 1/1 C:\\Users\\admin\\.cache\\kagglehub\\datasets\\pavansanagapati\\images-dataset\\versions\\1\\data\\cars\\carsgraz_009.bmp: 384x512 41 objects, 3363.4ms\n",
      "Speed: 2.8ms preprocess, 3363.4ms inference, 193.9ms postprocess per image at shape (1, 3, 384, 512)\n"
     ]
    },
    {
     "name": "stderr",
     "output_type": "stream",
     "text": [
      "  2%|▏         | 9/420 [00:19<20:30,  2.99s/it]"
     ]
    },
    {
     "name": "stdout",
     "output_type": "stream",
     "text": [
      "\n",
      "image 1/1 C:\\Users\\admin\\.cache\\kagglehub\\datasets\\pavansanagapati\\images-dataset\\versions\\1\\data\\cars\\carsgraz_010.bmp: 384x512 44 objects, 1741.5ms\n",
      "Speed: 5.9ms preprocess, 1741.5ms inference, 121.5ms postprocess per image at shape (1, 3, 384, 512)\n"
     ]
    },
    {
     "name": "stderr",
     "output_type": "stream",
     "text": [
      "  2%|▏         | 10/420 [00:21<18:15,  2.67s/it]"
     ]
    },
    {
     "name": "stdout",
     "output_type": "stream",
     "text": [
      "\n",
      "image 1/1 C:\\Users\\admin\\.cache\\kagglehub\\datasets\\pavansanagapati\\images-dataset\\versions\\1\\data\\cars\\carsgraz_011.bmp: 384x512 34 objects, 1640.2ms\n",
      "Speed: 6.4ms preprocess, 1640.2ms inference, 180.1ms postprocess per image at shape (1, 3, 384, 512)\n"
     ]
    },
    {
     "name": "stderr",
     "output_type": "stream",
     "text": [
      "  3%|▎         | 11/420 [00:23<16:36,  2.44s/it]"
     ]
    },
    {
     "name": "stdout",
     "output_type": "stream",
     "text": [
      "\n",
      "image 1/1 C:\\Users\\admin\\.cache\\kagglehub\\datasets\\pavansanagapati\\images-dataset\\versions\\1\\data\\cars\\carsgraz_012.bmp: 384x512 63 objects, 1239.8ms\n",
      "Speed: 2.1ms preprocess, 1239.8ms inference, 208.3ms postprocess per image at shape (1, 3, 384, 512)\n"
     ]
    },
    {
     "name": "stderr",
     "output_type": "stream",
     "text": [
      "  3%|▎         | 12/420 [00:25<15:42,  2.31s/it]"
     ]
    },
    {
     "name": "stdout",
     "output_type": "stream",
     "text": [
      "\n",
      "image 1/1 C:\\Users\\admin\\.cache\\kagglehub\\datasets\\pavansanagapati\\images-dataset\\versions\\1\\data\\cars\\carsgraz_013.bmp: 384x512 51 objects, 1339.8ms\n",
      "Speed: 7.3ms preprocess, 1339.8ms inference, 156.7ms postprocess per image at shape (1, 3, 384, 512)\n"
     ]
    },
    {
     "name": "stderr",
     "output_type": "stream",
     "text": [
      "  3%|▎         | 13/420 [00:27<14:09,  2.09s/it]"
     ]
    },
    {
     "name": "stdout",
     "output_type": "stream",
     "text": [
      "\n",
      "image 1/1 C:\\Users\\admin\\.cache\\kagglehub\\datasets\\pavansanagapati\\images-dataset\\versions\\1\\data\\cars\\carsgraz_014.bmp: 384x512 17 objects, 1888.6ms\n",
      "Speed: 8.7ms preprocess, 1888.6ms inference, 49.4ms postprocess per image at shape (1, 3, 384, 512)\n"
     ]
    },
    {
     "name": "stderr",
     "output_type": "stream",
     "text": [
      "  3%|▎         | 14/420 [00:29<14:40,  2.17s/it]"
     ]
    },
    {
     "name": "stdout",
     "output_type": "stream",
     "text": [
      "\n",
      "image 1/1 C:\\Users\\admin\\.cache\\kagglehub\\datasets\\pavansanagapati\\images-dataset\\versions\\1\\data\\cars\\carsgraz_015.bmp: 384x512 47 objects, 2331.4ms\n",
      "Speed: 6.0ms preprocess, 2331.4ms inference, 135.2ms postprocess per image at shape (1, 3, 384, 512)\n"
     ]
    },
    {
     "name": "stderr",
     "output_type": "stream",
     "text": [
      "  4%|▎         | 15/420 [00:32<15:24,  2.28s/it]"
     ]
    },
    {
     "name": "stdout",
     "output_type": "stream",
     "text": [
      "\n",
      "image 1/1 C:\\Users\\admin\\.cache\\kagglehub\\datasets\\pavansanagapati\\images-dataset\\versions\\1\\data\\cars\\carsgraz_016.bmp: 384x512 42 objects, 2825.1ms\n",
      "Speed: 7.4ms preprocess, 2825.1ms inference, 246.7ms postprocess per image at shape (1, 3, 384, 512)\n"
     ]
    },
    {
     "name": "stderr",
     "output_type": "stream",
     "text": [
      "  4%|▍         | 16/420 [00:35<17:06,  2.54s/it]"
     ]
    },
    {
     "name": "stdout",
     "output_type": "stream",
     "text": [
      "\n",
      "image 1/1 C:\\Users\\admin\\.cache\\kagglehub\\datasets\\pavansanagapati\\images-dataset\\versions\\1\\data\\cars\\carsgraz_017.bmp: 384x512 37 objects, 4724.5ms\n",
      "Speed: 22.1ms preprocess, 4724.5ms inference, 594.2ms postprocess per image at shape (1, 3, 384, 512)\n"
     ]
    },
    {
     "name": "stderr",
     "output_type": "stream",
     "text": [
      "  4%|▍         | 17/420 [00:40<22:52,  3.41s/it]"
     ]
    },
    {
     "name": "stdout",
     "output_type": "stream",
     "text": [
      "\n",
      "image 1/1 C:\\Users\\admin\\.cache\\kagglehub\\datasets\\pavansanagapati\\images-dataset\\versions\\1\\data\\cars\\carsgraz_018.bmp: 384x512 31 objects, 2603.7ms\n",
      "Speed: 27.2ms preprocess, 2603.7ms inference, 82.5ms postprocess per image at shape (1, 3, 384, 512)\n"
     ]
    },
    {
     "name": "stderr",
     "output_type": "stream",
     "text": [
      "  4%|▍         | 18/420 [00:43<21:38,  3.23s/it]"
     ]
    },
    {
     "name": "stdout",
     "output_type": "stream",
     "text": [
      "\n",
      "image 1/1 C:\\Users\\admin\\.cache\\kagglehub\\datasets\\pavansanagapati\\images-dataset\\versions\\1\\data\\cars\\carsgraz_019.bmp: 384x512 36 objects, 1576.4ms\n",
      "Speed: 2.7ms preprocess, 1576.4ms inference, 100.6ms postprocess per image at shape (1, 3, 384, 512)\n"
     ]
    },
    {
     "name": "stderr",
     "output_type": "stream",
     "text": [
      "  5%|▍         | 19/420 [00:45<18:37,  2.79s/it]"
     ]
    },
    {
     "name": "stdout",
     "output_type": "stream",
     "text": [
      "\n",
      "image 1/1 C:\\Users\\admin\\.cache\\kagglehub\\datasets\\pavansanagapati\\images-dataset\\versions\\1\\data\\cars\\carsgraz_020.bmp: 384x512 42 objects, 1441.6ms\n",
      "Speed: 3.4ms preprocess, 1441.6ms inference, 112.8ms postprocess per image at shape (1, 3, 384, 512)\n"
     ]
    },
    {
     "name": "stderr",
     "output_type": "stream",
     "text": [
      "  5%|▍         | 20/420 [00:46<16:13,  2.43s/it]"
     ]
    },
    {
     "name": "stdout",
     "output_type": "stream",
     "text": [
      "\n",
      "image 1/1 C:\\Users\\admin\\.cache\\kagglehub\\datasets\\pavansanagapati\\images-dataset\\versions\\1\\data\\cars\\carsgraz_021.bmp: 384x512 24 objects, 1394.0ms\n",
      "Speed: 2.6ms preprocess, 1394.0ms inference, 64.5ms postprocess per image at shape (1, 3, 384, 512)\n"
     ]
    },
    {
     "name": "stderr",
     "output_type": "stream",
     "text": [
      "  5%|▌         | 21/420 [00:48<14:19,  2.15s/it]"
     ]
    },
    {
     "name": "stdout",
     "output_type": "stream",
     "text": [
      "\n",
      "image 1/1 C:\\Users\\admin\\.cache\\kagglehub\\datasets\\pavansanagapati\\images-dataset\\versions\\1\\data\\cars\\carsgraz_022.bmp: 384x512 43 objects, 1633.9ms\n",
      "Speed: 2.6ms preprocess, 1633.9ms inference, 127.6ms postprocess per image at shape (1, 3, 384, 512)\n"
     ]
    },
    {
     "name": "stderr",
     "output_type": "stream",
     "text": [
      "  5%|▌         | 22/420 [00:50<13:40,  2.06s/it]"
     ]
    },
    {
     "name": "stdout",
     "output_type": "stream",
     "text": [
      "\n",
      "image 1/1 C:\\Users\\admin\\.cache\\kagglehub\\datasets\\pavansanagapati\\images-dataset\\versions\\1\\data\\cars\\carsgraz_023.bmp: 384x512 60 objects, 1391.5ms\n",
      "Speed: 5.2ms preprocess, 1391.5ms inference, 194.8ms postprocess per image at shape (1, 3, 384, 512)\n"
     ]
    },
    {
     "name": "stderr",
     "output_type": "stream",
     "text": [
      "  5%|▌         | 23/420 [00:51<12:50,  1.94s/it]"
     ]
    },
    {
     "name": "stdout",
     "output_type": "stream",
     "text": [
      "\n",
      "image 1/1 C:\\Users\\admin\\.cache\\kagglehub\\datasets\\pavansanagapati\\images-dataset\\versions\\1\\data\\cars\\carsgraz_024.bmp: 384x512 31 objects, 1366.9ms\n",
      "Speed: 3.1ms preprocess, 1366.9ms inference, 82.0ms postprocess per image at shape (1, 3, 384, 512)\n"
     ]
    },
    {
     "name": "stderr",
     "output_type": "stream",
     "text": [
      "  6%|▌         | 24/420 [00:53<11:57,  1.81s/it]"
     ]
    },
    {
     "name": "stdout",
     "output_type": "stream",
     "text": [
      "\n",
      "image 1/1 C:\\Users\\admin\\.cache\\kagglehub\\datasets\\pavansanagapati\\images-dataset\\versions\\1\\data\\cars\\carsgraz_025.bmp: 384x512 59 objects, 1544.2ms\n",
      "Speed: 2.4ms preprocess, 1544.2ms inference, 202.3ms postprocess per image at shape (1, 3, 384, 512)\n"
     ]
    },
    {
     "name": "stderr",
     "output_type": "stream",
     "text": [
      "  6%|▌         | 25/420 [00:55<11:57,  1.82s/it]"
     ]
    },
    {
     "name": "stdout",
     "output_type": "stream",
     "text": [
      "\n",
      "image 1/1 C:\\Users\\admin\\.cache\\kagglehub\\datasets\\pavansanagapati\\images-dataset\\versions\\1\\data\\cars\\carsgraz_026.bmp: 384x512 37 objects, 1410.1ms\n",
      "Speed: 2.5ms preprocess, 1410.1ms inference, 92.5ms postprocess per image at shape (1, 3, 384, 512)\n"
     ]
    },
    {
     "name": "stderr",
     "output_type": "stream",
     "text": [
      "  6%|▌         | 26/420 [00:56<11:27,  1.74s/it]"
     ]
    },
    {
     "name": "stdout",
     "output_type": "stream",
     "text": [
      "\n",
      "image 1/1 C:\\Users\\admin\\.cache\\kagglehub\\datasets\\pavansanagapati\\images-dataset\\versions\\1\\data\\cars\\carsgraz_027.bmp: 384x512 21 objects, 1529.8ms\n",
      "Speed: 2.2ms preprocess, 1529.8ms inference, 61.9ms postprocess per image at shape (1, 3, 384, 512)\n"
     ]
    },
    {
     "name": "stderr",
     "output_type": "stream",
     "text": [
      "  6%|▋         | 27/420 [00:58<11:13,  1.71s/it]"
     ]
    },
    {
     "name": "stdout",
     "output_type": "stream",
     "text": [
      "\n",
      "image 1/1 C:\\Users\\admin\\.cache\\kagglehub\\datasets\\pavansanagapati\\images-dataset\\versions\\1\\data\\cars\\carsgraz_028.bmp: 384x512 27 objects, 1733.0ms\n",
      "Speed: 2.8ms preprocess, 1733.0ms inference, 84.8ms postprocess per image at shape (1, 3, 384, 512)\n"
     ]
    },
    {
     "name": "stderr",
     "output_type": "stream",
     "text": [
      "  7%|▋         | 28/420 [01:00<11:31,  1.76s/it]"
     ]
    },
    {
     "name": "stdout",
     "output_type": "stream",
     "text": [
      "\n",
      "image 1/1 C:\\Users\\admin\\.cache\\kagglehub\\datasets\\pavansanagapati\\images-dataset\\versions\\1\\data\\cars\\carsgraz_029.bmp: 384x512 25 objects, 1764.1ms\n",
      "Speed: 3.2ms preprocess, 1764.1ms inference, 180.9ms postprocess per image at shape (1, 3, 384, 512)\n"
     ]
    },
    {
     "name": "stderr",
     "output_type": "stream",
     "text": [
      "  7%|▋         | 29/420 [01:02<12:04,  1.85s/it]"
     ]
    },
    {
     "name": "stdout",
     "output_type": "stream",
     "text": [
      "\n",
      "image 1/1 C:\\Users\\admin\\.cache\\kagglehub\\datasets\\pavansanagapati\\images-dataset\\versions\\1\\data\\cars\\carsgraz_030.bmp: 384x512 33 objects, 1943.2ms\n",
      "Speed: 17.9ms preprocess, 1943.2ms inference, 114.5ms postprocess per image at shape (1, 3, 384, 512)\n"
     ]
    },
    {
     "name": "stderr",
     "output_type": "stream",
     "text": [
      "  7%|▋         | 30/420 [01:04<12:38,  1.94s/it]"
     ]
    },
    {
     "name": "stdout",
     "output_type": "stream",
     "text": [
      "\n",
      "image 1/1 C:\\Users\\admin\\.cache\\kagglehub\\datasets\\pavansanagapati\\images-dataset\\versions\\1\\data\\cars\\carsgraz_031.bmp: 384x512 23 objects, 2217.6ms\n",
      "Speed: 5.0ms preprocess, 2217.6ms inference, 65.9ms postprocess per image at shape (1, 3, 384, 512)\n"
     ]
    },
    {
     "name": "stderr",
     "output_type": "stream",
     "text": [
      "  7%|▋         | 31/420 [01:06<13:23,  2.06s/it]"
     ]
    },
    {
     "name": "stdout",
     "output_type": "stream",
     "text": [
      "\n",
      "image 1/1 C:\\Users\\admin\\.cache\\kagglehub\\datasets\\pavansanagapati\\images-dataset\\versions\\1\\data\\cars\\carsgraz_032.bmp: 384x512 18 objects, 2290.2ms\n",
      "Speed: 2.2ms preprocess, 2290.2ms inference, 62.8ms postprocess per image at shape (1, 3, 384, 512)\n"
     ]
    },
    {
     "name": "stderr",
     "output_type": "stream",
     "text": [
      "  8%|▊         | 32/420 [01:09<14:01,  2.17s/it]"
     ]
    },
    {
     "name": "stdout",
     "output_type": "stream",
     "text": [
      "\n",
      "image 1/1 C:\\Users\\admin\\.cache\\kagglehub\\datasets\\pavansanagapati\\images-dataset\\versions\\1\\data\\cars\\carsgraz_033.bmp: 384x512 25 objects, 1730.6ms\n",
      "Speed: 8.9ms preprocess, 1730.6ms inference, 68.5ms postprocess per image at shape (1, 3, 384, 512)\n"
     ]
    },
    {
     "name": "stderr",
     "output_type": "stream",
     "text": [
      "  8%|▊         | 33/420 [01:11<13:23,  2.08s/it]"
     ]
    },
    {
     "name": "stdout",
     "output_type": "stream",
     "text": [
      "\n",
      "image 1/1 C:\\Users\\admin\\.cache\\kagglehub\\datasets\\pavansanagapati\\images-dataset\\versions\\1\\data\\cars\\carsgraz_034.bmp: 384x512 33 objects, 1818.8ms\n",
      "Speed: 4.1ms preprocess, 1818.8ms inference, 96.8ms postprocess per image at shape (1, 3, 384, 512)\n"
     ]
    },
    {
     "name": "stderr",
     "output_type": "stream",
     "text": [
      "  8%|▊         | 34/420 [01:13<13:11,  2.05s/it]"
     ]
    },
    {
     "name": "stdout",
     "output_type": "stream",
     "text": [
      "\n",
      "image 1/1 C:\\Users\\admin\\.cache\\kagglehub\\datasets\\pavansanagapati\\images-dataset\\versions\\1\\data\\cars\\carsgraz_035.bmp: 384x512 36 objects, 1802.5ms\n",
      "Speed: 26.7ms preprocess, 1802.5ms inference, 150.6ms postprocess per image at shape (1, 3, 384, 512)\n"
     ]
    },
    {
     "name": "stderr",
     "output_type": "stream",
     "text": [
      "  8%|▊         | 35/420 [01:15<13:07,  2.05s/it]"
     ]
    },
    {
     "name": "stdout",
     "output_type": "stream",
     "text": [
      "\n",
      "image 1/1 C:\\Users\\admin\\.cache\\kagglehub\\datasets\\pavansanagapati\\images-dataset\\versions\\1\\data\\cars\\carsgraz_036.bmp: 384x512 38 objects, 1697.4ms\n",
      "Speed: 2.4ms preprocess, 1697.4ms inference, 112.3ms postprocess per image at shape (1, 3, 384, 512)\n"
     ]
    },
    {
     "name": "stderr",
     "output_type": "stream",
     "text": [
      "  9%|▊         | 36/420 [01:16<12:46,  2.00s/it]"
     ]
    },
    {
     "name": "stdout",
     "output_type": "stream",
     "text": [
      "\n",
      "image 1/1 C:\\Users\\admin\\.cache\\kagglehub\\datasets\\pavansanagapati\\images-dataset\\versions\\1\\data\\cars\\carsgraz_037.bmp: 384x512 30 objects, 1391.3ms\n",
      "Speed: 2.8ms preprocess, 1391.3ms inference, 72.1ms postprocess per image at shape (1, 3, 384, 512)\n"
     ]
    },
    {
     "name": "stderr",
     "output_type": "stream",
     "text": [
      "  9%|▉         | 37/420 [01:18<11:49,  1.85s/it]"
     ]
    },
    {
     "name": "stdout",
     "output_type": "stream",
     "text": [
      "\n",
      "image 1/1 C:\\Users\\admin\\.cache\\kagglehub\\datasets\\pavansanagapati\\images-dataset\\versions\\1\\data\\cars\\carsgraz_038.bmp: 384x512 51 objects, 1572.2ms\n",
      "Speed: 2.0ms preprocess, 1572.2ms inference, 190.9ms postprocess per image at shape (1, 3, 384, 512)\n"
     ]
    },
    {
     "name": "stderr",
     "output_type": "stream",
     "text": [
      "  9%|▉         | 38/420 [01:20<11:45,  1.85s/it]"
     ]
    },
    {
     "name": "stdout",
     "output_type": "stream",
     "text": [
      "\n",
      "image 1/1 C:\\Users\\admin\\.cache\\kagglehub\\datasets\\pavansanagapati\\images-dataset\\versions\\1\\data\\cars\\carsgraz_039.bmp: 384x512 24 objects, 2178.5ms\n",
      "Speed: 5.2ms preprocess, 2178.5ms inference, 68.1ms postprocess per image at shape (1, 3, 384, 512)\n"
     ]
    },
    {
     "name": "stderr",
     "output_type": "stream",
     "text": [
      "  9%|▉         | 39/420 [01:22<12:36,  1.99s/it]"
     ]
    },
    {
     "name": "stdout",
     "output_type": "stream",
     "text": [
      "\n",
      "image 1/1 C:\\Users\\admin\\.cache\\kagglehub\\datasets\\pavansanagapati\\images-dataset\\versions\\1\\data\\cars\\carsgraz_040.bmp: 384x512 28 objects, 1539.9ms\n",
      "Speed: 3.6ms preprocess, 1539.9ms inference, 86.2ms postprocess per image at shape (1, 3, 384, 512)\n"
     ]
    },
    {
     "name": "stderr",
     "output_type": "stream",
     "text": [
      " 10%|▉         | 40/420 [01:24<12:00,  1.90s/it]"
     ]
    },
    {
     "name": "stdout",
     "output_type": "stream",
     "text": [
      "\n",
      "image 1/1 C:\\Users\\admin\\.cache\\kagglehub\\datasets\\pavansanagapati\\images-dataset\\versions\\1\\data\\cars\\carsgraz_041.bmp: 384x512 31 objects, 1929.1ms\n",
      "Speed: 2.0ms preprocess, 1929.1ms inference, 132.2ms postprocess per image at shape (1, 3, 384, 512)\n"
     ]
    },
    {
     "name": "stderr",
     "output_type": "stream",
     "text": [
      " 10%|▉         | 41/420 [01:26<12:24,  1.97s/it]"
     ]
    },
    {
     "name": "stdout",
     "output_type": "stream",
     "text": [
      "\n",
      "image 1/1 C:\\Users\\admin\\.cache\\kagglehub\\datasets\\pavansanagapati\\images-dataset\\versions\\1\\data\\cars\\carsgraz_042.bmp: 384x512 41 objects, 1910.9ms\n",
      "Speed: 4.0ms preprocess, 1910.9ms inference, 185.4ms postprocess per image at shape (1, 3, 384, 512)\n"
     ]
    },
    {
     "name": "stderr",
     "output_type": "stream",
     "text": [
      " 10%|█         | 42/420 [01:28<12:47,  2.03s/it]"
     ]
    },
    {
     "name": "stdout",
     "output_type": "stream",
     "text": [
      "\n",
      "image 1/1 C:\\Users\\admin\\.cache\\kagglehub\\datasets\\pavansanagapati\\images-dataset\\versions\\1\\data\\cars\\carsgraz_043.bmp: 384x512 31 objects, 1730.9ms\n",
      "Speed: 3.5ms preprocess, 1730.9ms inference, 119.0ms postprocess per image at shape (1, 3, 384, 512)\n"
     ]
    },
    {
     "name": "stderr",
     "output_type": "stream",
     "text": [
      " 10%|█         | 43/420 [01:30<12:35,  2.00s/it]"
     ]
    },
    {
     "name": "stdout",
     "output_type": "stream",
     "text": [
      "\n",
      "image 1/1 C:\\Users\\admin\\.cache\\kagglehub\\datasets\\pavansanagapati\\images-dataset\\versions\\1\\data\\cars\\carsgraz_044.bmp: 384x512 30 objects, 1577.1ms\n",
      "Speed: 6.2ms preprocess, 1577.1ms inference, 107.6ms postprocess per image at shape (1, 3, 384, 512)\n"
     ]
    },
    {
     "name": "stderr",
     "output_type": "stream",
     "text": [
      " 10%|█         | 44/420 [01:32<12:05,  1.93s/it]"
     ]
    },
    {
     "name": "stdout",
     "output_type": "stream",
     "text": [
      "\n",
      "image 1/1 C:\\Users\\admin\\.cache\\kagglehub\\datasets\\pavansanagapati\\images-dataset\\versions\\1\\data\\cars\\carsgraz_045.bmp: 384x512 29 objects, 1721.8ms\n",
      "Speed: 25.8ms preprocess, 1721.8ms inference, 79.7ms postprocess per image at shape (1, 3, 384, 512)\n"
     ]
    },
    {
     "name": "stderr",
     "output_type": "stream",
     "text": [
      " 11%|█         | 45/420 [01:34<12:00,  1.92s/it]"
     ]
    },
    {
     "name": "stdout",
     "output_type": "stream",
     "text": [
      "\n",
      "image 1/1 C:\\Users\\admin\\.cache\\kagglehub\\datasets\\pavansanagapati\\images-dataset\\versions\\1\\data\\cars\\carsgraz_046.bmp: 384x512 30 objects, 1643.1ms\n",
      "Speed: 1.9ms preprocess, 1643.1ms inference, 93.9ms postprocess per image at shape (1, 3, 384, 512)\n"
     ]
    },
    {
     "name": "stderr",
     "output_type": "stream",
     "text": [
      " 11%|█         | 46/420 [01:35<11:44,  1.88s/it]"
     ]
    },
    {
     "name": "stdout",
     "output_type": "stream",
     "text": [
      "\n",
      "image 1/1 C:\\Users\\admin\\.cache\\kagglehub\\datasets\\pavansanagapati\\images-dataset\\versions\\1\\data\\cars\\carsgraz_047.bmp: 384x512 46 objects, 1592.3ms\n",
      "Speed: 4.6ms preprocess, 1592.3ms inference, 106.4ms postprocess per image at shape (1, 3, 384, 512)\n"
     ]
    },
    {
     "name": "stderr",
     "output_type": "stream",
     "text": [
      " 11%|█         | 47/420 [01:37<11:28,  1.85s/it]"
     ]
    },
    {
     "name": "stdout",
     "output_type": "stream",
     "text": [
      "\n",
      "image 1/1 C:\\Users\\admin\\.cache\\kagglehub\\datasets\\pavansanagapati\\images-dataset\\versions\\1\\data\\cars\\carsgraz_048.bmp: 384x512 45 objects, 1545.1ms\n",
      "Speed: 2.7ms preprocess, 1545.1ms inference, 110.7ms postprocess per image at shape (1, 3, 384, 512)\n"
     ]
    },
    {
     "name": "stderr",
     "output_type": "stream",
     "text": [
      " 11%|█▏        | 48/420 [01:39<11:12,  1.81s/it]"
     ]
    },
    {
     "name": "stdout",
     "output_type": "stream",
     "text": [
      "\n",
      "image 1/1 C:\\Users\\admin\\.cache\\kagglehub\\datasets\\pavansanagapati\\images-dataset\\versions\\1\\data\\cars\\carsgraz_049.bmp: 384x512 83 objects, 1645.0ms\n",
      "Speed: 2.4ms preprocess, 1645.0ms inference, 322.0ms postprocess per image at shape (1, 3, 384, 512)\n"
     ]
    },
    {
     "name": "stderr",
     "output_type": "stream",
     "text": [
      " 12%|█▏        | 49/420 [01:41<11:36,  1.88s/it]"
     ]
    },
    {
     "name": "stdout",
     "output_type": "stream",
     "text": [
      "\n",
      "image 1/1 C:\\Users\\admin\\.cache\\kagglehub\\datasets\\pavansanagapati\\images-dataset\\versions\\1\\data\\cars\\carsgraz_050.bmp: 384x512 30 objects, 1583.6ms\n",
      "Speed: 6.3ms preprocess, 1583.6ms inference, 93.9ms postprocess per image at shape (1, 3, 384, 512)\n"
     ]
    },
    {
     "name": "stderr",
     "output_type": "stream",
     "text": [
      " 12%|█▏        | 50/420 [01:43<11:19,  1.84s/it]"
     ]
    },
    {
     "name": "stdout",
     "output_type": "stream",
     "text": [
      "\n",
      "image 1/1 C:\\Users\\admin\\.cache\\kagglehub\\datasets\\pavansanagapati\\images-dataset\\versions\\1\\data\\cars\\carsgraz_051.bmp: 384x512 46 objects, 1600.8ms\n",
      "Speed: 2.7ms preprocess, 1600.8ms inference, 112.5ms postprocess per image at shape (1, 3, 384, 512)\n"
     ]
    },
    {
     "name": "stderr",
     "output_type": "stream",
     "text": [
      " 12%|█▏        | 51/420 [01:45<11:12,  1.82s/it]"
     ]
    },
    {
     "name": "stdout",
     "output_type": "stream",
     "text": [
      "\n",
      "image 1/1 C:\\Users\\admin\\.cache\\kagglehub\\datasets\\pavansanagapati\\images-dataset\\versions\\1\\data\\cars\\carsgraz_052.bmp: 384x512 36 objects, 1634.0ms\n",
      "Speed: 2.9ms preprocess, 1634.0ms inference, 136.4ms postprocess per image at shape (1, 3, 384, 512)\n"
     ]
    },
    {
     "name": "stderr",
     "output_type": "stream",
     "text": [
      " 12%|█▏        | 52/420 [01:46<11:12,  1.83s/it]"
     ]
    },
    {
     "name": "stdout",
     "output_type": "stream",
     "text": [
      "\n",
      "image 1/1 C:\\Users\\admin\\.cache\\kagglehub\\datasets\\pavansanagapati\\images-dataset\\versions\\1\\data\\cars\\carsgraz_053.bmp: 384x512 49 objects, 1563.2ms\n",
      "Speed: 2.7ms preprocess, 1563.2ms inference, 119.1ms postprocess per image at shape (1, 3, 384, 512)\n"
     ]
    },
    {
     "name": "stderr",
     "output_type": "stream",
     "text": [
      " 13%|█▎        | 53/420 [01:48<11:03,  1.81s/it]"
     ]
    },
    {
     "name": "stdout",
     "output_type": "stream",
     "text": [
      "\n",
      "image 1/1 C:\\Users\\admin\\.cache\\kagglehub\\datasets\\pavansanagapati\\images-dataset\\versions\\1\\data\\cars\\carsgraz_054.bmp: 384x512 41 objects, 1490.6ms\n",
      "Speed: 2.5ms preprocess, 1490.6ms inference, 106.8ms postprocess per image at shape (1, 3, 384, 512)\n"
     ]
    },
    {
     "name": "stderr",
     "output_type": "stream",
     "text": [
      " 13%|█▎        | 54/420 [01:50<10:46,  1.77s/it]"
     ]
    },
    {
     "name": "stdout",
     "output_type": "stream",
     "text": [
      "\n",
      "image 1/1 C:\\Users\\admin\\.cache\\kagglehub\\datasets\\pavansanagapati\\images-dataset\\versions\\1\\data\\cars\\carsgraz_055.bmp: 384x512 43 objects, 1456.0ms\n",
      "Speed: 2.6ms preprocess, 1456.0ms inference, 120.5ms postprocess per image at shape (1, 3, 384, 512)\n"
     ]
    },
    {
     "name": "stderr",
     "output_type": "stream",
     "text": [
      " 13%|█▎        | 55/420 [01:51<10:30,  1.73s/it]"
     ]
    },
    {
     "name": "stdout",
     "output_type": "stream",
     "text": [
      "\n",
      "image 1/1 C:\\Users\\admin\\.cache\\kagglehub\\datasets\\pavansanagapati\\images-dataset\\versions\\1\\data\\cars\\carsgraz_056.bmp: 384x512 43 objects, 1911.3ms\n",
      "Speed: 3.7ms preprocess, 1911.3ms inference, 128.9ms postprocess per image at shape (1, 3, 384, 512)\n"
     ]
    },
    {
     "name": "stderr",
     "output_type": "stream",
     "text": [
      " 13%|█▎        | 56/420 [01:54<11:08,  1.84s/it]"
     ]
    },
    {
     "name": "stdout",
     "output_type": "stream",
     "text": [
      "\n",
      "image 1/1 C:\\Users\\admin\\.cache\\kagglehub\\datasets\\pavansanagapati\\images-dataset\\versions\\1\\data\\cars\\carsgraz_057.bmp: 384x512 40 objects, 1579.3ms\n",
      "Speed: 2.1ms preprocess, 1579.3ms inference, 128.8ms postprocess per image at shape (1, 3, 384, 512)\n"
     ]
    },
    {
     "name": "stderr",
     "output_type": "stream",
     "text": [
      " 14%|█▎        | 57/420 [01:55<10:59,  1.82s/it]"
     ]
    },
    {
     "name": "stdout",
     "output_type": "stream",
     "text": [
      "\n",
      "image 1/1 C:\\Users\\admin\\.cache\\kagglehub\\datasets\\pavansanagapati\\images-dataset\\versions\\1\\data\\cars\\carsgraz_058.bmp: 384x512 32 objects, 2297.9ms\n",
      "Speed: 2.1ms preprocess, 2297.9ms inference, 95.8ms postprocess per image at shape (1, 3, 384, 512)\n"
     ]
    },
    {
     "name": "stderr",
     "output_type": "stream",
     "text": [
      " 14%|█▍        | 58/420 [01:58<12:07,  2.01s/it]"
     ]
    },
    {
     "name": "stdout",
     "output_type": "stream",
     "text": [
      "\n",
      "image 1/1 C:\\Users\\admin\\.cache\\kagglehub\\datasets\\pavansanagapati\\images-dataset\\versions\\1\\data\\cars\\carsgraz_059.bmp: 384x512 50 objects, 1664.7ms\n",
      "Speed: 5.3ms preprocess, 1664.7ms inference, 163.3ms postprocess per image at shape (1, 3, 384, 512)\n"
     ]
    },
    {
     "name": "stderr",
     "output_type": "stream",
     "text": [
      " 14%|█▍        | 59/420 [02:00<11:59,  1.99s/it]"
     ]
    },
    {
     "name": "stdout",
     "output_type": "stream",
     "text": [
      "\n",
      "image 1/1 C:\\Users\\admin\\.cache\\kagglehub\\datasets\\pavansanagapati\\images-dataset\\versions\\1\\data\\cars\\carsgraz_060.bmp: 384x512 56 objects, 1750.9ms\n",
      "Speed: 2.1ms preprocess, 1750.9ms inference, 250.8ms postprocess per image at shape (1, 3, 384, 512)\n"
     ]
    },
    {
     "name": "stderr",
     "output_type": "stream",
     "text": [
      " 14%|█▍        | 60/420 [02:02<12:06,  2.02s/it]"
     ]
    },
    {
     "name": "stdout",
     "output_type": "stream",
     "text": [
      "\n",
      "image 1/1 C:\\Users\\admin\\.cache\\kagglehub\\datasets\\pavansanagapati\\images-dataset\\versions\\1\\data\\cars\\carsgraz_061.bmp: 384x512 50 objects, 1538.6ms\n",
      "Speed: 6.0ms preprocess, 1538.6ms inference, 173.2ms postprocess per image at shape (1, 3, 384, 512)\n"
     ]
    },
    {
     "name": "stderr",
     "output_type": "stream",
     "text": [
      " 15%|█▍        | 61/420 [02:04<11:37,  1.94s/it]"
     ]
    },
    {
     "name": "stdout",
     "output_type": "stream",
     "text": [
      "\n",
      "image 1/1 C:\\Users\\admin\\.cache\\kagglehub\\datasets\\pavansanagapati\\images-dataset\\versions\\1\\data\\cars\\carsgraz_062.bmp: 384x512 87 objects, 2055.3ms\n",
      "Speed: 3.5ms preprocess, 2055.3ms inference, 329.4ms postprocess per image at shape (1, 3, 384, 512)\n"
     ]
    },
    {
     "name": "stderr",
     "output_type": "stream",
     "text": [
      " 15%|█▍        | 62/420 [02:06<12:32,  2.10s/it]"
     ]
    },
    {
     "name": "stdout",
     "output_type": "stream",
     "text": [
      "\n",
      "image 1/1 C:\\Users\\admin\\.cache\\kagglehub\\datasets\\pavansanagapati\\images-dataset\\versions\\1\\data\\cars\\carsgraz_063.bmp: 384x512 86 objects, 2090.5ms\n",
      "Speed: 2.9ms preprocess, 2090.5ms inference, 324.9ms postprocess per image at shape (1, 3, 384, 512)\n"
     ]
    },
    {
     "name": "stderr",
     "output_type": "stream",
     "text": [
      " 15%|█▌        | 63/420 [02:09<13:10,  2.21s/it]"
     ]
    },
    {
     "name": "stdout",
     "output_type": "stream",
     "text": [
      "\n",
      "image 1/1 C:\\Users\\admin\\.cache\\kagglehub\\datasets\\pavansanagapati\\images-dataset\\versions\\1\\data\\cars\\carsgraz_064.bmp: 384x512 61 objects, 1585.4ms\n",
      "Speed: 5.6ms preprocess, 1585.4ms inference, 272.0ms postprocess per image at shape (1, 3, 384, 512)\n"
     ]
    },
    {
     "name": "stderr",
     "output_type": "stream",
     "text": [
      " 15%|█▌        | 64/420 [02:10<12:36,  2.13s/it]"
     ]
    },
    {
     "name": "stdout",
     "output_type": "stream",
     "text": [
      "\n",
      "image 1/1 C:\\Users\\admin\\.cache\\kagglehub\\datasets\\pavansanagapati\\images-dataset\\versions\\1\\data\\cars\\carsgraz_065.bmp: 384x512 62 objects, 1542.2ms\n",
      "Speed: 4.4ms preprocess, 1542.2ms inference, 233.2ms postprocess per image at shape (1, 3, 384, 512)\n"
     ]
    },
    {
     "name": "stderr",
     "output_type": "stream",
     "text": [
      " 15%|█▌        | 65/420 [02:12<12:04,  2.04s/it]"
     ]
    },
    {
     "name": "stdout",
     "output_type": "stream",
     "text": [
      "\n",
      "image 1/1 C:\\Users\\admin\\.cache\\kagglehub\\datasets\\pavansanagapati\\images-dataset\\versions\\1\\data\\cars\\carsgraz_066.bmp: 384x512 46 objects, 1717.7ms\n",
      "Speed: 6.8ms preprocess, 1717.7ms inference, 116.2ms postprocess per image at shape (1, 3, 384, 512)\n"
     ]
    },
    {
     "name": "stderr",
     "output_type": "stream",
     "text": [
      " 16%|█▌        | 66/420 [02:14<11:48,  2.00s/it]"
     ]
    },
    {
     "name": "stdout",
     "output_type": "stream",
     "text": [
      "\n",
      "image 1/1 C:\\Users\\admin\\.cache\\kagglehub\\datasets\\pavansanagapati\\images-dataset\\versions\\1\\data\\cars\\carsgraz_067.bmp: 384x512 39 objects, 1424.8ms\n",
      "Speed: 3.1ms preprocess, 1424.8ms inference, 113.5ms postprocess per image at shape (1, 3, 384, 512)\n"
     ]
    },
    {
     "name": "stderr",
     "output_type": "stream",
     "text": [
      " 16%|█▌        | 67/420 [02:16<11:04,  1.88s/it]"
     ]
    },
    {
     "name": "stdout",
     "output_type": "stream",
     "text": [
      "\n",
      "image 1/1 C:\\Users\\admin\\.cache\\kagglehub\\datasets\\pavansanagapati\\images-dataset\\versions\\1\\data\\cars\\carsgraz_068.bmp: 384x512 38 objects, 1389.3ms\n",
      "Speed: 3.6ms preprocess, 1389.3ms inference, 98.9ms postprocess per image at shape (1, 3, 384, 512)\n"
     ]
    },
    {
     "name": "stderr",
     "output_type": "stream",
     "text": [
      " 16%|█▌        | 68/420 [02:17<10:27,  1.78s/it]"
     ]
    },
    {
     "name": "stdout",
     "output_type": "stream",
     "text": [
      "\n",
      "image 1/1 C:\\Users\\admin\\.cache\\kagglehub\\datasets\\pavansanagapati\\images-dataset\\versions\\1\\data\\cars\\carsgraz_069.bmp: 384x512 31 objects, 1823.3ms\n",
      "Speed: 4.4ms preprocess, 1823.3ms inference, 105.1ms postprocess per image at shape (1, 3, 384, 512)\n"
     ]
    },
    {
     "name": "stderr",
     "output_type": "stream",
     "text": [
      " 16%|█▋        | 69/420 [02:19<10:50,  1.85s/it]"
     ]
    },
    {
     "name": "stdout",
     "output_type": "stream",
     "text": [
      "\n",
      "image 1/1 C:\\Users\\admin\\.cache\\kagglehub\\datasets\\pavansanagapati\\images-dataset\\versions\\1\\data\\cars\\carsgraz_070.bmp: 384x512 34 objects, 1451.6ms\n",
      "Speed: 3.1ms preprocess, 1451.6ms inference, 139.1ms postprocess per image at shape (1, 3, 384, 512)\n"
     ]
    },
    {
     "name": "stderr",
     "output_type": "stream",
     "text": [
      " 17%|█▋        | 70/420 [02:21<10:50,  1.86s/it]"
     ]
    },
    {
     "name": "stdout",
     "output_type": "stream",
     "text": [
      "\n",
      "image 1/1 C:\\Users\\admin\\.cache\\kagglehub\\datasets\\pavansanagapati\\images-dataset\\versions\\1\\data\\cars\\carsgraz_071.bmp: 384x512 26 objects, 1970.5ms\n",
      "Speed: 2.5ms preprocess, 1970.5ms inference, 68.0ms postprocess per image at shape (1, 3, 384, 512)\n"
     ]
    },
    {
     "name": "stderr",
     "output_type": "stream",
     "text": [
      " 17%|█▋        | 71/420 [02:23<11:13,  1.93s/it]"
     ]
    },
    {
     "name": "stdout",
     "output_type": "stream",
     "text": [
      "\n",
      "image 1/1 C:\\Users\\admin\\.cache\\kagglehub\\datasets\\pavansanagapati\\images-dataset\\versions\\1\\data\\cars\\carsgraz_072.bmp: 384x512 23 objects, 1550.2ms\n",
      "Speed: 2.5ms preprocess, 1550.2ms inference, 61.6ms postprocess per image at shape (1, 3, 384, 512)\n"
     ]
    },
    {
     "name": "stderr",
     "output_type": "stream",
     "text": [
      " 17%|█▋        | 72/420 [02:25<10:43,  1.85s/it]"
     ]
    },
    {
     "name": "stdout",
     "output_type": "stream",
     "text": [
      "\n",
      "image 1/1 C:\\Users\\admin\\.cache\\kagglehub\\datasets\\pavansanagapati\\images-dataset\\versions\\1\\data\\cars\\carsgraz_073.bmp: 384x512 14 objects, 1546.1ms\n",
      "Speed: 3.1ms preprocess, 1546.1ms inference, 38.7ms postprocess per image at shape (1, 3, 384, 512)\n"
     ]
    },
    {
     "name": "stderr",
     "output_type": "stream",
     "text": [
      " 17%|█▋        | 73/420 [02:27<10:18,  1.78s/it]"
     ]
    },
    {
     "name": "stdout",
     "output_type": "stream",
     "text": [
      "\n",
      "image 1/1 C:\\Users\\admin\\.cache\\kagglehub\\datasets\\pavansanagapati\\images-dataset\\versions\\1\\data\\cars\\carsgraz_074.bmp: 384x512 24 objects, 1618.7ms\n",
      "Speed: 2.8ms preprocess, 1618.7ms inference, 74.2ms postprocess per image at shape (1, 3, 384, 512)\n"
     ]
    },
    {
     "name": "stderr",
     "output_type": "stream",
     "text": [
      " 18%|█▊        | 74/420 [02:28<10:14,  1.78s/it]"
     ]
    },
    {
     "name": "stdout",
     "output_type": "stream",
     "text": [
      "\n",
      "image 1/1 C:\\Users\\admin\\.cache\\kagglehub\\datasets\\pavansanagapati\\images-dataset\\versions\\1\\data\\cars\\carsgraz_075.bmp: 384x512 33 objects, 1764.2ms\n",
      "Speed: 7.6ms preprocess, 1764.2ms inference, 122.4ms postprocess per image at shape (1, 3, 384, 512)\n"
     ]
    },
    {
     "name": "stderr",
     "output_type": "stream",
     "text": [
      " 18%|█▊        | 75/420 [02:30<10:34,  1.84s/it]"
     ]
    },
    {
     "name": "stdout",
     "output_type": "stream",
     "text": [
      "\n",
      "image 1/1 C:\\Users\\admin\\.cache\\kagglehub\\datasets\\pavansanagapati\\images-dataset\\versions\\1\\data\\cars\\carsgraz_076.bmp: 384x512 36 objects, 2029.2ms\n",
      "Speed: 6.9ms preprocess, 2029.2ms inference, 111.3ms postprocess per image at shape (1, 3, 384, 512)\n"
     ]
    },
    {
     "name": "stderr",
     "output_type": "stream",
     "text": [
      " 18%|█▊        | 76/420 [02:33<11:11,  1.95s/it]"
     ]
    },
    {
     "name": "stdout",
     "output_type": "stream",
     "text": [
      "\n",
      "image 1/1 C:\\Users\\admin\\.cache\\kagglehub\\datasets\\pavansanagapati\\images-dataset\\versions\\1\\data\\cars\\carsgraz_077.bmp: 384x512 44 objects, 1640.2ms\n",
      "Speed: 2.7ms preprocess, 1640.2ms inference, 113.2ms postprocess per image at shape (1, 3, 384, 512)\n"
     ]
    },
    {
     "name": "stderr",
     "output_type": "stream",
     "text": [
      " 18%|█▊        | 77/420 [02:34<10:57,  1.92s/it]"
     ]
    },
    {
     "name": "stdout",
     "output_type": "stream",
     "text": [
      "\n",
      "image 1/1 C:\\Users\\admin\\.cache\\kagglehub\\datasets\\pavansanagapati\\images-dataset\\versions\\1\\data\\cars\\carsgraz_078.bmp: 384x512 28 objects, 1570.6ms\n",
      "Speed: 3.2ms preprocess, 1570.6ms inference, 69.3ms postprocess per image at shape (1, 3, 384, 512)\n"
     ]
    },
    {
     "name": "stderr",
     "output_type": "stream",
     "text": [
      " 19%|█▊        | 78/420 [02:36<10:32,  1.85s/it]"
     ]
    },
    {
     "name": "stdout",
     "output_type": "stream",
     "text": [
      "\n",
      "image 1/1 C:\\Users\\admin\\.cache\\kagglehub\\datasets\\pavansanagapati\\images-dataset\\versions\\1\\data\\cars\\carsgraz_079.bmp: 384x512 81 objects, 1866.8ms\n",
      "Speed: 3.5ms preprocess, 1866.8ms inference, 254.4ms postprocess per image at shape (1, 3, 384, 512)\n"
     ]
    },
    {
     "name": "stderr",
     "output_type": "stream",
     "text": [
      " 19%|█▉        | 79/420 [02:38<11:07,  1.96s/it]"
     ]
    },
    {
     "name": "stdout",
     "output_type": "stream",
     "text": [
      "\n",
      "image 1/1 C:\\Users\\admin\\.cache\\kagglehub\\datasets\\pavansanagapati\\images-dataset\\versions\\1\\data\\cars\\carsgraz_080.bmp: 384x512 43 objects, 1390.5ms\n",
      "Speed: 2.6ms preprocess, 1390.5ms inference, 108.0ms postprocess per image at shape (1, 3, 384, 512)\n"
     ]
    },
    {
     "name": "stderr",
     "output_type": "stream",
     "text": [
      " 19%|█▉        | 80/420 [02:40<10:24,  1.84s/it]"
     ]
    },
    {
     "name": "stdout",
     "output_type": "stream",
     "text": [
      "\n",
      "image 1/1 C:\\Users\\admin\\.cache\\kagglehub\\datasets\\pavansanagapati\\images-dataset\\versions\\1\\data\\cars\\carsgraz_081.bmp: 384x512 72 objects, 1487.2ms\n",
      "Speed: 2.7ms preprocess, 1487.2ms inference, 279.2ms postprocess per image at shape (1, 3, 384, 512)\n"
     ]
    },
    {
     "name": "stderr",
     "output_type": "stream",
     "text": [
      " 19%|█▉        | 81/420 [02:42<10:23,  1.84s/it]"
     ]
    },
    {
     "name": "stdout",
     "output_type": "stream",
     "text": [
      "\n",
      "image 1/1 C:\\Users\\admin\\.cache\\kagglehub\\datasets\\pavansanagapati\\images-dataset\\versions\\1\\data\\cars\\carsgraz_082.bmp: 384x512 56 objects, 1556.7ms\n",
      "Speed: 5.8ms preprocess, 1556.7ms inference, 174.2ms postprocess per image at shape (1, 3, 384, 512)\n"
     ]
    },
    {
     "name": "stderr",
     "output_type": "stream",
     "text": [
      " 20%|█▉        | 82/420 [02:44<10:18,  1.83s/it]"
     ]
    },
    {
     "name": "stdout",
     "output_type": "stream",
     "text": [
      "\n",
      "image 1/1 C:\\Users\\admin\\.cache\\kagglehub\\datasets\\pavansanagapati\\images-dataset\\versions\\1\\data\\cars\\carsgraz_083.bmp: 384x512 23 objects, 1788.0ms\n",
      "Speed: 2.4ms preprocess, 1788.0ms inference, 83.7ms postprocess per image at shape (1, 3, 384, 512)\n"
     ]
    },
    {
     "name": "stderr",
     "output_type": "stream",
     "text": [
      " 20%|█▉        | 83/420 [02:45<10:25,  1.86s/it]"
     ]
    },
    {
     "name": "stdout",
     "output_type": "stream",
     "text": [
      "\n",
      "image 1/1 C:\\Users\\admin\\.cache\\kagglehub\\datasets\\pavansanagapati\\images-dataset\\versions\\1\\data\\cars\\carsgraz_084.bmp: 384x512 17 objects, 2056.2ms\n",
      "Speed: 5.2ms preprocess, 2056.2ms inference, 57.8ms postprocess per image at shape (1, 3, 384, 512)\n"
     ]
    },
    {
     "name": "stderr",
     "output_type": "stream",
     "text": [
      " 20%|██        | 84/420 [02:48<10:57,  1.96s/it]"
     ]
    },
    {
     "name": "stdout",
     "output_type": "stream",
     "text": [
      "\n",
      "image 1/1 C:\\Users\\admin\\.cache\\kagglehub\\datasets\\pavansanagapati\\images-dataset\\versions\\1\\data\\cars\\carsgraz_085.bmp: 384x512 24 objects, 1814.5ms\n",
      "Speed: 8.4ms preprocess, 1814.5ms inference, 72.7ms postprocess per image at shape (1, 3, 384, 512)\n"
     ]
    },
    {
     "name": "stderr",
     "output_type": "stream",
     "text": [
      " 20%|██        | 85/420 [02:50<10:58,  1.96s/it]"
     ]
    },
    {
     "name": "stdout",
     "output_type": "stream",
     "text": [
      "\n",
      "image 1/1 C:\\Users\\admin\\.cache\\kagglehub\\datasets\\pavansanagapati\\images-dataset\\versions\\1\\data\\cars\\carsgraz_086.bmp: 384x512 16 objects, 2141.9ms\n",
      "Speed: 6.0ms preprocess, 2141.9ms inference, 93.9ms postprocess per image at shape (1, 3, 384, 512)\n"
     ]
    },
    {
     "name": "stderr",
     "output_type": "stream",
     "text": [
      " 20%|██        | 86/420 [02:52<11:30,  2.07s/it]"
     ]
    },
    {
     "name": "stdout",
     "output_type": "stream",
     "text": [
      "\n",
      "image 1/1 C:\\Users\\admin\\.cache\\kagglehub\\datasets\\pavansanagapati\\images-dataset\\versions\\1\\data\\cars\\carsgraz_087.bmp: 384x512 41 objects, 1534.4ms\n",
      "Speed: 2.4ms preprocess, 1534.4ms inference, 111.6ms postprocess per image at shape (1, 3, 384, 512)\n"
     ]
    },
    {
     "name": "stderr",
     "output_type": "stream",
     "text": [
      " 21%|██        | 87/420 [02:54<10:53,  1.96s/it]"
     ]
    },
    {
     "name": "stdout",
     "output_type": "stream",
     "text": [
      "\n",
      "image 1/1 C:\\Users\\admin\\.cache\\kagglehub\\datasets\\pavansanagapati\\images-dataset\\versions\\1\\data\\cars\\carsgraz_088.bmp: 384x512 20 objects, 1752.3ms\n",
      "Speed: 3.5ms preprocess, 1752.3ms inference, 71.0ms postprocess per image at shape (1, 3, 384, 512)\n"
     ]
    },
    {
     "name": "stderr",
     "output_type": "stream",
     "text": [
      " 21%|██        | 88/420 [02:56<10:42,  1.94s/it]"
     ]
    },
    {
     "name": "stdout",
     "output_type": "stream",
     "text": [
      "\n",
      "image 1/1 C:\\Users\\admin\\.cache\\kagglehub\\datasets\\pavansanagapati\\images-dataset\\versions\\1\\data\\cars\\carsgraz_089.bmp: 384x512 26 objects, 1551.7ms\n",
      "Speed: 2.1ms preprocess, 1551.7ms inference, 75.7ms postprocess per image at shape (1, 3, 384, 512)\n"
     ]
    },
    {
     "name": "stderr",
     "output_type": "stream",
     "text": [
      " 21%|██        | 89/420 [02:57<10:16,  1.86s/it]"
     ]
    },
    {
     "name": "stdout",
     "output_type": "stream",
     "text": [
      "\n",
      "image 1/1 C:\\Users\\admin\\.cache\\kagglehub\\datasets\\pavansanagapati\\images-dataset\\versions\\1\\data\\cars\\carsgraz_090.bmp: 384x512 25 objects, 1534.3ms\n",
      "Speed: 9.3ms preprocess, 1534.3ms inference, 66.5ms postprocess per image at shape (1, 3, 384, 512)\n"
     ]
    },
    {
     "name": "stderr",
     "output_type": "stream",
     "text": [
      " 21%|██▏       | 90/420 [02:59<09:53,  1.80s/it]"
     ]
    },
    {
     "name": "stdout",
     "output_type": "stream",
     "text": [
      "\n",
      "image 1/1 C:\\Users\\admin\\.cache\\kagglehub\\datasets\\pavansanagapati\\images-dataset\\versions\\1\\data\\cars\\carsgraz_091.bmp: 384x512 25 objects, 1488.4ms\n",
      "Speed: 3.8ms preprocess, 1488.4ms inference, 70.3ms postprocess per image at shape (1, 3, 384, 512)\n"
     ]
    },
    {
     "name": "stderr",
     "output_type": "stream",
     "text": [
      " 22%|██▏       | 91/420 [03:00<09:33,  1.74s/it]"
     ]
    },
    {
     "name": "stdout",
     "output_type": "stream",
     "text": [
      "\n",
      "image 1/1 C:\\Users\\admin\\.cache\\kagglehub\\datasets\\pavansanagapati\\images-dataset\\versions\\1\\data\\cars\\carsgraz_092.bmp: 384x512 28 objects, 1814.0ms\n",
      "Speed: 8.3ms preprocess, 1814.0ms inference, 105.9ms postprocess per image at shape (1, 3, 384, 512)\n"
     ]
    },
    {
     "name": "stderr",
     "output_type": "stream",
     "text": [
      " 22%|██▏       | 92/420 [03:02<09:57,  1.82s/it]"
     ]
    },
    {
     "name": "stdout",
     "output_type": "stream",
     "text": [
      "\n",
      "image 1/1 C:\\Users\\admin\\.cache\\kagglehub\\datasets\\pavansanagapati\\images-dataset\\versions\\1\\data\\cars\\carsgraz_093.bmp: 384x512 17 objects, 1727.1ms\n",
      "Speed: 4.9ms preprocess, 1727.1ms inference, 50.4ms postprocess per image at shape (1, 3, 384, 512)\n"
     ]
    },
    {
     "name": "stderr",
     "output_type": "stream",
     "text": [
      " 22%|██▏       | 93/420 [03:04<09:56,  1.82s/it]"
     ]
    },
    {
     "name": "stdout",
     "output_type": "stream",
     "text": [
      "\n",
      "image 1/1 C:\\Users\\admin\\.cache\\kagglehub\\datasets\\pavansanagapati\\images-dataset\\versions\\1\\data\\cars\\carsgraz_094.bmp: 384x512 56 objects, 1788.9ms\n",
      "Speed: 2.3ms preprocess, 1788.9ms inference, 189.1ms postprocess per image at shape (1, 3, 384, 512)\n"
     ]
    },
    {
     "name": "stderr",
     "output_type": "stream",
     "text": [
      " 22%|██▏       | 94/420 [03:06<10:18,  1.90s/it]"
     ]
    },
    {
     "name": "stdout",
     "output_type": "stream",
     "text": [
      "\n",
      "image 1/1 C:\\Users\\admin\\.cache\\kagglehub\\datasets\\pavansanagapati\\images-dataset\\versions\\1\\data\\cars\\carsgraz_095.bmp: 384x512 43 objects, 1681.4ms\n",
      "Speed: 16.8ms preprocess, 1681.4ms inference, 110.3ms postprocess per image at shape (1, 3, 384, 512)\n"
     ]
    },
    {
     "name": "stderr",
     "output_type": "stream",
     "text": [
      " 23%|██▎       | 95/420 [03:08<10:15,  1.90s/it]"
     ]
    },
    {
     "name": "stdout",
     "output_type": "stream",
     "text": [
      "\n",
      "image 1/1 C:\\Users\\admin\\.cache\\kagglehub\\datasets\\pavansanagapati\\images-dataset\\versions\\1\\data\\cars\\carsgraz_096.bmp: 384x512 50 objects, 1337.4ms\n",
      "Speed: 1.8ms preprocess, 1337.4ms inference, 176.3ms postprocess per image at shape (1, 3, 384, 512)\n"
     ]
    },
    {
     "name": "stderr",
     "output_type": "stream",
     "text": [
      " 23%|██▎       | 96/420 [03:10<09:43,  1.80s/it]"
     ]
    },
    {
     "name": "stdout",
     "output_type": "stream",
     "text": [
      "\n",
      "image 1/1 C:\\Users\\admin\\.cache\\kagglehub\\datasets\\pavansanagapati\\images-dataset\\versions\\1\\data\\cars\\carsgraz_097.bmp: 384x512 62 objects, 1465.6ms\n",
      "Speed: 2.4ms preprocess, 1465.6ms inference, 253.3ms postprocess per image at shape (1, 3, 384, 512)\n"
     ]
    },
    {
     "name": "stderr",
     "output_type": "stream",
     "text": [
      " 23%|██▎       | 97/420 [03:12<09:41,  1.80s/it]"
     ]
    },
    {
     "name": "stdout",
     "output_type": "stream",
     "text": [
      "\n",
      "image 1/1 C:\\Users\\admin\\.cache\\kagglehub\\datasets\\pavansanagapati\\images-dataset\\versions\\1\\data\\cars\\carsgraz_098.bmp: 384x512 86 objects, 1503.2ms\n",
      "Speed: 2.5ms preprocess, 1503.2ms inference, 289.5ms postprocess per image at shape (1, 3, 384, 512)\n"
     ]
    },
    {
     "name": "stderr",
     "output_type": "stream",
     "text": [
      " 23%|██▎       | 98/420 [03:14<09:46,  1.82s/it]"
     ]
    },
    {
     "name": "stdout",
     "output_type": "stream",
     "text": [
      "\n",
      "image 1/1 C:\\Users\\admin\\.cache\\kagglehub\\datasets\\pavansanagapati\\images-dataset\\versions\\1\\data\\cars\\carsgraz_099.bmp: 384x512 66 objects, 1545.4ms\n",
      "Speed: 2.9ms preprocess, 1545.4ms inference, 513.1ms postprocess per image at shape (1, 3, 384, 512)\n"
     ]
    },
    {
     "name": "stderr",
     "output_type": "stream",
     "text": [
      " 24%|██▎       | 99/420 [03:16<10:14,  1.91s/it]"
     ]
    },
    {
     "name": "stdout",
     "output_type": "stream",
     "text": [
      "\n",
      "image 1/1 C:\\Users\\admin\\.cache\\kagglehub\\datasets\\pavansanagapati\\images-dataset\\versions\\1\\data\\cars\\carsgraz_100.bmp: 384x512 47 objects, 1657.5ms\n",
      "Speed: 2.2ms preprocess, 1657.5ms inference, 145.2ms postprocess per image at shape (1, 3, 384, 512)\n"
     ]
    },
    {
     "name": "stderr",
     "output_type": "stream",
     "text": [
      " 24%|██▍       | 100/420 [03:18<10:07,  1.90s/it]"
     ]
    },
    {
     "name": "stdout",
     "output_type": "stream",
     "text": [
      "\n",
      "image 1/1 C:\\Users\\admin\\.cache\\kagglehub\\datasets\\pavansanagapati\\images-dataset\\versions\\1\\data\\cars\\carsgraz_101.bmp: 384x512 47 objects, 1417.6ms\n",
      "Speed: 2.7ms preprocess, 1417.6ms inference, 115.8ms postprocess per image at shape (1, 3, 384, 512)\n"
     ]
    },
    {
     "name": "stderr",
     "output_type": "stream",
     "text": [
      " 24%|██▍       | 101/420 [03:19<09:37,  1.81s/it]"
     ]
    },
    {
     "name": "stdout",
     "output_type": "stream",
     "text": [
      "\n",
      "image 1/1 C:\\Users\\admin\\.cache\\kagglehub\\datasets\\pavansanagapati\\images-dataset\\versions\\1\\data\\cars\\carsgraz_102.bmp: 384x512 30 objects, 1559.5ms\n",
      "Speed: 2.2ms preprocess, 1559.5ms inference, 76.8ms postprocess per image at shape (1, 3, 384, 512)\n"
     ]
    },
    {
     "name": "stderr",
     "output_type": "stream",
     "text": [
      " 24%|██▍       | 102/420 [03:21<09:25,  1.78s/it]"
     ]
    },
    {
     "name": "stdout",
     "output_type": "stream",
     "text": [
      "\n",
      "image 1/1 C:\\Users\\admin\\.cache\\kagglehub\\datasets\\pavansanagapati\\images-dataset\\versions\\1\\data\\cars\\carsgraz_103.bmp: 384x512 36 objects, 1483.7ms\n",
      "Speed: 1.7ms preprocess, 1483.7ms inference, 151.1ms postprocess per image at shape (1, 3, 384, 512)\n"
     ]
    },
    {
     "name": "stderr",
     "output_type": "stream",
     "text": [
      " 25%|██▍       | 103/420 [03:23<09:19,  1.76s/it]"
     ]
    },
    {
     "name": "stdout",
     "output_type": "stream",
     "text": [
      "\n",
      "image 1/1 C:\\Users\\admin\\.cache\\kagglehub\\datasets\\pavansanagapati\\images-dataset\\versions\\1\\data\\cars\\carsgraz_104.bmp: 384x512 45 objects, 1956.0ms\n",
      "Speed: 6.7ms preprocess, 1956.0ms inference, 186.1ms postprocess per image at shape (1, 3, 384, 512)\n"
     ]
    },
    {
     "name": "stderr",
     "output_type": "stream",
     "text": [
      " 25%|██▍       | 104/420 [03:25<10:01,  1.90s/it]"
     ]
    },
    {
     "name": "stdout",
     "output_type": "stream",
     "text": [
      "\n",
      "image 1/1 C:\\Users\\admin\\.cache\\kagglehub\\datasets\\pavansanagapati\\images-dataset\\versions\\1\\data\\cars\\carsgraz_105.bmp: 384x512 58 objects, 1678.3ms\n",
      "Speed: 2.7ms preprocess, 1678.3ms inference, 274.9ms postprocess per image at shape (1, 3, 384, 512)\n"
     ]
    },
    {
     "name": "stderr",
     "output_type": "stream",
     "text": [
      " 25%|██▌       | 105/420 [03:27<10:15,  1.95s/it]"
     ]
    },
    {
     "name": "stdout",
     "output_type": "stream",
     "text": [
      "\n",
      "image 1/1 C:\\Users\\admin\\.cache\\kagglehub\\datasets\\pavansanagapati\\images-dataset\\versions\\1\\data\\cars\\carsgraz_106.bmp: 384x512 61 objects, 1693.5ms\n",
      "Speed: 18.9ms preprocess, 1693.5ms inference, 251.5ms postprocess per image at shape (1, 3, 384, 512)\n"
     ]
    },
    {
     "name": "stderr",
     "output_type": "stream",
     "text": [
      " 25%|██▌       | 106/420 [03:29<10:25,  1.99s/it]"
     ]
    },
    {
     "name": "stdout",
     "output_type": "stream",
     "text": [
      "\n",
      "image 1/1 C:\\Users\\admin\\.cache\\kagglehub\\datasets\\pavansanagapati\\images-dataset\\versions\\1\\data\\cars\\carsgraz_107.bmp: 384x512 52 objects, 1516.0ms\n",
      "Speed: 3.3ms preprocess, 1516.0ms inference, 226.1ms postprocess per image at shape (1, 3, 384, 512)\n"
     ]
    },
    {
     "name": "stderr",
     "output_type": "stream",
     "text": [
      " 25%|██▌       | 107/420 [03:31<10:09,  1.95s/it]"
     ]
    },
    {
     "name": "stdout",
     "output_type": "stream",
     "text": [
      "\n",
      "image 1/1 C:\\Users\\admin\\.cache\\kagglehub\\datasets\\pavansanagapati\\images-dataset\\versions\\1\\data\\cars\\carsgraz_108.bmp: 384x512 55 objects, 2044.1ms\n",
      "Speed: 9.0ms preprocess, 2044.1ms inference, 208.5ms postprocess per image at shape (1, 3, 384, 512)\n"
     ]
    },
    {
     "name": "stderr",
     "output_type": "stream",
     "text": [
      " 26%|██▌       | 108/420 [03:33<10:43,  2.06s/it]"
     ]
    },
    {
     "name": "stdout",
     "output_type": "stream",
     "text": [
      "\n",
      "image 1/1 C:\\Users\\admin\\.cache\\kagglehub\\datasets\\pavansanagapati\\images-dataset\\versions\\1\\data\\cars\\carsgraz_109.bmp: 384x512 48 objects, 1678.8ms\n",
      "Speed: 2.3ms preprocess, 1678.8ms inference, 157.8ms postprocess per image at shape (1, 3, 384, 512)\n"
     ]
    },
    {
     "name": "stderr",
     "output_type": "stream",
     "text": [
      " 26%|██▌       | 109/420 [03:35<10:38,  2.05s/it]"
     ]
    },
    {
     "name": "stdout",
     "output_type": "stream",
     "text": [
      "\n",
      "image 1/1 C:\\Users\\admin\\.cache\\kagglehub\\datasets\\pavansanagapati\\images-dataset\\versions\\1\\data\\cars\\carsgraz_110.bmp: 384x512 68 objects, 1594.6ms\n",
      "Speed: 3.8ms preprocess, 1594.6ms inference, 269.6ms postprocess per image at shape (1, 3, 384, 512)\n"
     ]
    },
    {
     "name": "stderr",
     "output_type": "stream",
     "text": [
      " 26%|██▌       | 110/420 [03:37<10:26,  2.02s/it]"
     ]
    },
    {
     "name": "stdout",
     "output_type": "stream",
     "text": [
      "\n",
      "image 1/1 C:\\Users\\admin\\.cache\\kagglehub\\datasets\\pavansanagapati\\images-dataset\\versions\\1\\data\\cars\\carsgraz_111.bmp: 384x512 31 objects, 1542.3ms\n",
      "Speed: 3.0ms preprocess, 1542.3ms inference, 89.8ms postprocess per image at shape (1, 3, 384, 512)\n"
     ]
    },
    {
     "name": "stderr",
     "output_type": "stream",
     "text": [
      " 26%|██▋       | 111/420 [03:39<09:54,  1.92s/it]"
     ]
    },
    {
     "name": "stdout",
     "output_type": "stream",
     "text": [
      "\n",
      "image 1/1 C:\\Users\\admin\\.cache\\kagglehub\\datasets\\pavansanagapati\\images-dataset\\versions\\1\\data\\cars\\carsgraz_112.bmp: 384x512 19 objects, 1987.3ms\n",
      "Speed: 2.5ms preprocess, 1987.3ms inference, 121.0ms postprocess per image at shape (1, 3, 384, 512)\n"
     ]
    },
    {
     "name": "stderr",
     "output_type": "stream",
     "text": [
      " 27%|██▋       | 112/420 [03:41<10:15,  2.00s/it]"
     ]
    },
    {
     "name": "stdout",
     "output_type": "stream",
     "text": [
      "\n",
      "image 1/1 C:\\Users\\admin\\.cache\\kagglehub\\datasets\\pavansanagapati\\images-dataset\\versions\\1\\data\\cars\\carsgraz_113.bmp: 384x512 28 objects, 1578.9ms\n",
      "Speed: 2.3ms preprocess, 1578.9ms inference, 84.6ms postprocess per image at shape (1, 3, 384, 512)\n"
     ]
    },
    {
     "name": "stderr",
     "output_type": "stream",
     "text": [
      " 27%|██▋       | 113/420 [03:43<09:47,  1.91s/it]"
     ]
    },
    {
     "name": "stdout",
     "output_type": "stream",
     "text": [
      "\n",
      "image 1/1 C:\\Users\\admin\\.cache\\kagglehub\\datasets\\pavansanagapati\\images-dataset\\versions\\1\\data\\cars\\carsgraz_114.bmp: 384x512 36 objects, 1449.8ms\n",
      "Speed: 2.7ms preprocess, 1449.8ms inference, 99.0ms postprocess per image at shape (1, 3, 384, 512)\n"
     ]
    },
    {
     "name": "stderr",
     "output_type": "stream",
     "text": [
      " 27%|██▋       | 114/420 [03:44<09:17,  1.82s/it]"
     ]
    },
    {
     "name": "stdout",
     "output_type": "stream",
     "text": [
      "\n",
      "image 1/1 C:\\Users\\admin\\.cache\\kagglehub\\datasets\\pavansanagapati\\images-dataset\\versions\\1\\data\\cars\\carsgraz_115.bmp: 384x512 12 objects, 1447.2ms\n",
      "Speed: 2.5ms preprocess, 1447.2ms inference, 38.0ms postprocess per image at shape (1, 3, 384, 512)\n"
     ]
    },
    {
     "name": "stderr",
     "output_type": "stream",
     "text": [
      " 27%|██▋       | 115/420 [03:46<08:50,  1.74s/it]"
     ]
    },
    {
     "name": "stdout",
     "output_type": "stream",
     "text": [
      "\n",
      "image 1/1 C:\\Users\\admin\\.cache\\kagglehub\\datasets\\pavansanagapati\\images-dataset\\versions\\1\\data\\cars\\carsgraz_116.bmp: 384x512 12 objects, 1782.6ms\n",
      "Speed: 2.7ms preprocess, 1782.6ms inference, 41.5ms postprocess per image at shape (1, 3, 384, 512)\n"
     ]
    },
    {
     "name": "stderr",
     "output_type": "stream",
     "text": [
      " 28%|██▊       | 116/420 [03:48<08:59,  1.77s/it]"
     ]
    },
    {
     "name": "stdout",
     "output_type": "stream",
     "text": [
      "\n",
      "image 1/1 C:\\Users\\admin\\.cache\\kagglehub\\datasets\\pavansanagapati\\images-dataset\\versions\\1\\data\\cars\\carsgraz_117.bmp: 384x512 33 objects, 2286.3ms\n",
      "Speed: 8.8ms preprocess, 2286.3ms inference, 93.7ms postprocess per image at shape (1, 3, 384, 512)\n"
     ]
    },
    {
     "name": "stderr",
     "output_type": "stream",
     "text": [
      " 28%|██▊       | 117/420 [03:50<09:59,  1.98s/it]"
     ]
    },
    {
     "name": "stdout",
     "output_type": "stream",
     "text": [
      "\n",
      "image 1/1 C:\\Users\\admin\\.cache\\kagglehub\\datasets\\pavansanagapati\\images-dataset\\versions\\1\\data\\cars\\carsgraz_118.bmp: 384x512 25 objects, 2021.7ms\n",
      "Speed: 4.7ms preprocess, 2021.7ms inference, 75.9ms postprocess per image at shape (1, 3, 384, 512)\n"
     ]
    },
    {
     "name": "stderr",
     "output_type": "stream",
     "text": [
      " 28%|██▊       | 118/420 [03:52<10:15,  2.04s/it]"
     ]
    },
    {
     "name": "stdout",
     "output_type": "stream",
     "text": [
      "\n",
      "image 1/1 C:\\Users\\admin\\.cache\\kagglehub\\datasets\\pavansanagapati\\images-dataset\\versions\\1\\data\\cars\\carsgraz_119.bmp: 384x512 54 objects, 1665.0ms\n",
      "Speed: 2.0ms preprocess, 1665.0ms inference, 236.0ms postprocess per image at shape (1, 3, 384, 512)\n"
     ]
    },
    {
     "name": "stderr",
     "output_type": "stream",
     "text": [
      " 28%|██▊       | 119/420 [03:54<10:08,  2.02s/it]"
     ]
    },
    {
     "name": "stdout",
     "output_type": "stream",
     "text": [
      "\n",
      "image 1/1 C:\\Users\\admin\\.cache\\kagglehub\\datasets\\pavansanagapati\\images-dataset\\versions\\1\\data\\cars\\carsgraz_120.bmp: 384x512 58 objects, 1598.7ms\n",
      "Speed: 8.2ms preprocess, 1598.7ms inference, 230.1ms postprocess per image at shape (1, 3, 384, 512)\n"
     ]
    },
    {
     "name": "stderr",
     "output_type": "stream",
     "text": [
      " 29%|██▊       | 120/420 [03:56<09:58,  1.99s/it]"
     ]
    },
    {
     "name": "stdout",
     "output_type": "stream",
     "text": [
      "\n",
      "image 1/1 C:\\Users\\admin\\.cache\\kagglehub\\datasets\\pavansanagapati\\images-dataset\\versions\\1\\data\\cars\\carsgraz_121.bmp: 384x512 45 objects, 2232.2ms\n",
      "Speed: 4.6ms preprocess, 2232.2ms inference, 151.3ms postprocess per image at shape (1, 3, 384, 512)\n"
     ]
    },
    {
     "name": "stderr",
     "output_type": "stream",
     "text": [
      " 29%|██▉       | 121/420 [03:59<10:38,  2.13s/it]"
     ]
    },
    {
     "name": "stdout",
     "output_type": "stream",
     "text": [
      "\n",
      "image 1/1 C:\\Users\\admin\\.cache\\kagglehub\\datasets\\pavansanagapati\\images-dataset\\versions\\1\\data\\cars\\carsgraz_122.bmp: 384x512 36 objects, 1562.6ms\n",
      "Speed: 4.7ms preprocess, 1562.6ms inference, 152.6ms postprocess per image at shape (1, 3, 384, 512)\n"
     ]
    },
    {
     "name": "stderr",
     "output_type": "stream",
     "text": [
      " 29%|██▉       | 122/420 [04:00<10:05,  2.03s/it]"
     ]
    },
    {
     "name": "stdout",
     "output_type": "stream",
     "text": [
      "\n",
      "image 1/1 C:\\Users\\admin\\.cache\\kagglehub\\datasets\\pavansanagapati\\images-dataset\\versions\\1\\data\\cars\\carsgraz_123.bmp: 384x512 27 objects, 2041.6ms\n",
      "Speed: 11.2ms preprocess, 2041.6ms inference, 76.6ms postprocess per image at shape (1, 3, 384, 512)\n"
     ]
    },
    {
     "name": "stderr",
     "output_type": "stream",
     "text": [
      " 29%|██▉       | 123/420 [04:03<10:16,  2.08s/it]"
     ]
    },
    {
     "name": "stdout",
     "output_type": "stream",
     "text": [
      "\n",
      "image 1/1 C:\\Users\\admin\\.cache\\kagglehub\\datasets\\pavansanagapati\\images-dataset\\versions\\1\\data\\cars\\carsgraz_124.bmp: 384x512 40 objects, 1695.5ms\n",
      "Speed: 12.6ms preprocess, 1695.5ms inference, 106.0ms postprocess per image at shape (1, 3, 384, 512)\n"
     ]
    },
    {
     "name": "stderr",
     "output_type": "stream",
     "text": [
      " 30%|██▉       | 124/420 [04:05<09:57,  2.02s/it]"
     ]
    },
    {
     "name": "stdout",
     "output_type": "stream",
     "text": [
      "\n",
      "image 1/1 C:\\Users\\admin\\.cache\\kagglehub\\datasets\\pavansanagapati\\images-dataset\\versions\\1\\data\\cars\\carsgraz_125.bmp: 384x512 32 objects, 1480.3ms\n",
      "Speed: 3.9ms preprocess, 1480.3ms inference, 106.0ms postprocess per image at shape (1, 3, 384, 512)\n"
     ]
    },
    {
     "name": "stderr",
     "output_type": "stream",
     "text": [
      " 30%|██▉       | 125/420 [04:06<09:22,  1.91s/it]"
     ]
    },
    {
     "name": "stdout",
     "output_type": "stream",
     "text": [
      "\n",
      "image 1/1 C:\\Users\\admin\\.cache\\kagglehub\\datasets\\pavansanagapati\\images-dataset\\versions\\1\\data\\cars\\carsgraz_126.bmp: 384x512 38 objects, 1490.1ms\n",
      "Speed: 3.1ms preprocess, 1490.1ms inference, 97.7ms postprocess per image at shape (1, 3, 384, 512)\n"
     ]
    },
    {
     "name": "stderr",
     "output_type": "stream",
     "text": [
      " 30%|███       | 126/420 [04:08<08:58,  1.83s/it]"
     ]
    },
    {
     "name": "stdout",
     "output_type": "stream",
     "text": [
      "\n",
      "image 1/1 C:\\Users\\admin\\.cache\\kagglehub\\datasets\\pavansanagapati\\images-dataset\\versions\\1\\data\\cars\\carsgraz_127.bmp: 384x512 22 objects, 1540.5ms\n",
      "Speed: 2.6ms preprocess, 1540.5ms inference, 69.0ms postprocess per image at shape (1, 3, 384, 512)\n"
     ]
    },
    {
     "name": "stderr",
     "output_type": "stream",
     "text": [
      " 30%|███       | 127/420 [04:09<08:41,  1.78s/it]"
     ]
    },
    {
     "name": "stdout",
     "output_type": "stream",
     "text": [
      "\n",
      "image 1/1 C:\\Users\\admin\\.cache\\kagglehub\\datasets\\pavansanagapati\\images-dataset\\versions\\1\\data\\cars\\carsgraz_128.bmp: 384x512 32 objects, 1436.5ms\n",
      "Speed: 3.9ms preprocess, 1436.5ms inference, 88.1ms postprocess per image at shape (1, 3, 384, 512)\n"
     ]
    },
    {
     "name": "stderr",
     "output_type": "stream",
     "text": [
      " 30%|███       | 128/420 [04:11<08:23,  1.72s/it]"
     ]
    },
    {
     "name": "stdout",
     "output_type": "stream",
     "text": [
      "\n",
      "image 1/1 C:\\Users\\admin\\.cache\\kagglehub\\datasets\\pavansanagapati\\images-dataset\\versions\\1\\data\\cars\\carsgraz_129.bmp: 384x512 50 objects, 1450.6ms\n",
      "Speed: 2.5ms preprocess, 1450.6ms inference, 187.8ms postprocess per image at shape (1, 3, 384, 512)\n"
     ]
    },
    {
     "name": "stderr",
     "output_type": "stream",
     "text": [
      " 31%|███       | 129/420 [04:13<08:21,  1.72s/it]"
     ]
    },
    {
     "name": "stdout",
     "output_type": "stream",
     "text": [
      "\n",
      "image 1/1 C:\\Users\\admin\\.cache\\kagglehub\\datasets\\pavansanagapati\\images-dataset\\versions\\1\\data\\cars\\carsgraz_130.bmp: 384x512 25 objects, 1805.2ms\n",
      "Speed: 3.0ms preprocess, 1805.2ms inference, 66.2ms postprocess per image at shape (1, 3, 384, 512)\n"
     ]
    },
    {
     "name": "stderr",
     "output_type": "stream",
     "text": [
      " 31%|███       | 130/420 [04:15<08:37,  1.79s/it]"
     ]
    },
    {
     "name": "stdout",
     "output_type": "stream",
     "text": [
      "\n",
      "image 1/1 C:\\Users\\admin\\.cache\\kagglehub\\datasets\\pavansanagapati\\images-dataset\\versions\\1\\data\\cars\\carsgraz_131.bmp: 384x512 31 objects, 1574.3ms\n",
      "Speed: 2.4ms preprocess, 1574.3ms inference, 100.6ms postprocess per image at shape (1, 3, 384, 512)\n"
     ]
    },
    {
     "name": "stderr",
     "output_type": "stream",
     "text": [
      " 31%|███       | 131/420 [04:16<08:31,  1.77s/it]"
     ]
    },
    {
     "name": "stdout",
     "output_type": "stream",
     "text": [
      "\n",
      "image 1/1 C:\\Users\\admin\\.cache\\kagglehub\\datasets\\pavansanagapati\\images-dataset\\versions\\1\\data\\cars\\carsgraz_132.bmp: 384x512 66 objects, 2021.9ms\n",
      "Speed: 2.8ms preprocess, 2021.9ms inference, 261.7ms postprocess per image at shape (1, 3, 384, 512)\n"
     ]
    },
    {
     "name": "stderr",
     "output_type": "stream",
     "text": [
      " 31%|███▏      | 132/420 [04:19<09:22,  1.95s/it]"
     ]
    },
    {
     "name": "stdout",
     "output_type": "stream",
     "text": [
      "\n",
      "image 1/1 C:\\Users\\admin\\.cache\\kagglehub\\datasets\\pavansanagapati\\images-dataset\\versions\\1\\data\\cars\\carsgraz_133.bmp: 384x512 43 objects, 1695.5ms\n",
      "Speed: 8.7ms preprocess, 1695.5ms inference, 148.2ms postprocess per image at shape (1, 3, 384, 512)\n"
     ]
    },
    {
     "name": "stderr",
     "output_type": "stream",
     "text": [
      " 32%|███▏      | 133/420 [04:21<09:20,  1.95s/it]"
     ]
    },
    {
     "name": "stdout",
     "output_type": "stream",
     "text": [
      "\n",
      "image 1/1 C:\\Users\\admin\\.cache\\kagglehub\\datasets\\pavansanagapati\\images-dataset\\versions\\1\\data\\cars\\carsgraz_134.bmp: 384x512 27 objects, 1645.9ms\n",
      "Speed: 2.0ms preprocess, 1645.9ms inference, 104.6ms postprocess per image at shape (1, 3, 384, 512)\n"
     ]
    },
    {
     "name": "stderr",
     "output_type": "stream",
     "text": [
      " 32%|███▏      | 134/420 [04:23<09:10,  1.93s/it]"
     ]
    },
    {
     "name": "stdout",
     "output_type": "stream",
     "text": [
      "\n",
      "image 1/1 C:\\Users\\admin\\.cache\\kagglehub\\datasets\\pavansanagapati\\images-dataset\\versions\\1\\data\\cars\\carsgraz_135.bmp: 384x512 68 objects, 1843.4ms\n",
      "Speed: 10.2ms preprocess, 1843.4ms inference, 218.2ms postprocess per image at shape (1, 3, 384, 512)\n"
     ]
    },
    {
     "name": "stderr",
     "output_type": "stream",
     "text": [
      " 32%|███▏      | 135/420 [04:25<09:27,  1.99s/it]"
     ]
    },
    {
     "name": "stdout",
     "output_type": "stream",
     "text": [
      "\n",
      "image 1/1 C:\\Users\\admin\\.cache\\kagglehub\\datasets\\pavansanagapati\\images-dataset\\versions\\1\\data\\cars\\carsgraz_136.bmp: 384x512 52 objects, 1667.8ms\n",
      "Speed: 9.4ms preprocess, 1667.8ms inference, 213.5ms postprocess per image at shape (1, 3, 384, 512)\n"
     ]
    },
    {
     "name": "stderr",
     "output_type": "stream",
     "text": [
      " 32%|███▏      | 136/420 [04:27<09:25,  1.99s/it]"
     ]
    },
    {
     "name": "stdout",
     "output_type": "stream",
     "text": [
      "\n",
      "image 1/1 C:\\Users\\admin\\.cache\\kagglehub\\datasets\\pavansanagapati\\images-dataset\\versions\\1\\data\\cars\\carsgraz_137.bmp: 384x512 41 objects, 3394.3ms\n",
      "Speed: 6.6ms preprocess, 3394.3ms inference, 362.8ms postprocess per image at shape (1, 3, 384, 512)\n"
     ]
    },
    {
     "name": "stderr",
     "output_type": "stream",
     "text": [
      " 33%|███▎      | 137/420 [04:31<12:06,  2.57s/it]"
     ]
    },
    {
     "name": "stdout",
     "output_type": "stream",
     "text": [
      "\n",
      "image 1/1 C:\\Users\\admin\\.cache\\kagglehub\\datasets\\pavansanagapati\\images-dataset\\versions\\1\\data\\cars\\carsgraz_138.bmp: 384x512 56 objects, 3117.3ms\n",
      "Speed: 5.0ms preprocess, 3117.3ms inference, 212.8ms postprocess per image at shape (1, 3, 384, 512)\n"
     ]
    },
    {
     "name": "stderr",
     "output_type": "stream",
     "text": [
      " 33%|███▎      | 138/420 [04:34<13:16,  2.83s/it]"
     ]
    },
    {
     "name": "stdout",
     "output_type": "stream",
     "text": [
      "\n",
      "image 1/1 C:\\Users\\admin\\.cache\\kagglehub\\datasets\\pavansanagapati\\images-dataset\\versions\\1\\data\\cars\\carsgraz_139.bmp: 384x512 43 objects, 1953.5ms\n",
      "Speed: 8.0ms preprocess, 1953.5ms inference, 130.5ms postprocess per image at shape (1, 3, 384, 512)\n"
     ]
    },
    {
     "name": "stderr",
     "output_type": "stream",
     "text": [
      " 33%|███▎      | 139/420 [04:36<12:18,  2.63s/it]"
     ]
    },
    {
     "name": "stdout",
     "output_type": "stream",
     "text": [
      "\n",
      "image 1/1 C:\\Users\\admin\\.cache\\kagglehub\\datasets\\pavansanagapati\\images-dataset\\versions\\1\\data\\cars\\carsgraz_140.bmp: 384x512 64 objects, 1679.7ms\n",
      "Speed: 7.2ms preprocess, 1679.7ms inference, 210.2ms postprocess per image at shape (1, 3, 384, 512)\n"
     ]
    },
    {
     "name": "stderr",
     "output_type": "stream",
     "text": [
      " 33%|███▎      | 140/420 [04:38<11:20,  2.43s/it]"
     ]
    },
    {
     "name": "stdout",
     "output_type": "stream",
     "text": [
      "\n",
      "image 1/1 C:\\Users\\admin\\.cache\\kagglehub\\datasets\\pavansanagapati\\images-dataset\\versions\\1\\data\\cars\\carsgraz_141.bmp: 384x512 71 objects, 1555.0ms\n",
      "Speed: 2.0ms preprocess, 1555.0ms inference, 294.4ms postprocess per image at shape (1, 3, 384, 512)\n"
     ]
    },
    {
     "name": "stderr",
     "output_type": "stream",
     "text": [
      " 34%|███▎      | 141/420 [04:40<10:35,  2.28s/it]"
     ]
    },
    {
     "name": "stdout",
     "output_type": "stream",
     "text": [
      "\n",
      "image 1/1 C:\\Users\\admin\\.cache\\kagglehub\\datasets\\pavansanagapati\\images-dataset\\versions\\1\\data\\cars\\carsgraz_142.bmp: 384x512 32 objects, 1453.1ms\n",
      "Speed: 3.5ms preprocess, 1453.1ms inference, 111.0ms postprocess per image at shape (1, 3, 384, 512)\n"
     ]
    },
    {
     "name": "stderr",
     "output_type": "stream",
     "text": [
      " 34%|███▍      | 142/420 [04:42<09:40,  2.09s/it]"
     ]
    },
    {
     "name": "stdout",
     "output_type": "stream",
     "text": [
      "\n",
      "image 1/1 C:\\Users\\admin\\.cache\\kagglehub\\datasets\\pavansanagapati\\images-dataset\\versions\\1\\data\\cars\\carsgraz_143.bmp: 384x512 52 objects, 1454.5ms\n",
      "Speed: 5.9ms preprocess, 1454.5ms inference, 165.2ms postprocess per image at shape (1, 3, 384, 512)\n"
     ]
    },
    {
     "name": "stderr",
     "output_type": "stream",
     "text": [
      " 34%|███▍      | 143/420 [04:44<09:05,  1.97s/it]"
     ]
    },
    {
     "name": "stdout",
     "output_type": "stream",
     "text": [
      "\n",
      "image 1/1 C:\\Users\\admin\\.cache\\kagglehub\\datasets\\pavansanagapati\\images-dataset\\versions\\1\\data\\cars\\carsgraz_144.bmp: 384x512 24 objects, 1638.2ms\n",
      "Speed: 2.3ms preprocess, 1638.2ms inference, 67.9ms postprocess per image at shape (1, 3, 384, 512)\n"
     ]
    },
    {
     "name": "stderr",
     "output_type": "stream",
     "text": [
      " 34%|███▍      | 144/420 [04:45<08:50,  1.92s/it]"
     ]
    },
    {
     "name": "stdout",
     "output_type": "stream",
     "text": [
      "\n",
      "image 1/1 C:\\Users\\admin\\.cache\\kagglehub\\datasets\\pavansanagapati\\images-dataset\\versions\\1\\data\\cars\\carsgraz_145.bmp: 384x512 48 objects, 1601.4ms\n",
      "Speed: 2.2ms preprocess, 1601.4ms inference, 147.9ms postprocess per image at shape (1, 3, 384, 512)\n"
     ]
    },
    {
     "name": "stderr",
     "output_type": "stream",
     "text": [
      " 35%|███▍      | 145/420 [04:47<08:39,  1.89s/it]"
     ]
    },
    {
     "name": "stdout",
     "output_type": "stream",
     "text": [
      "\n",
      "image 1/1 C:\\Users\\admin\\.cache\\kagglehub\\datasets\\pavansanagapati\\images-dataset\\versions\\1\\data\\cars\\carsgraz_146.bmp: 384x512 39 objects, 1504.8ms\n",
      "Speed: 2.6ms preprocess, 1504.8ms inference, 101.0ms postprocess per image at shape (1, 3, 384, 512)\n"
     ]
    },
    {
     "name": "stderr",
     "output_type": "stream",
     "text": [
      " 35%|███▍      | 146/420 [04:49<08:19,  1.82s/it]"
     ]
    },
    {
     "name": "stdout",
     "output_type": "stream",
     "text": [
      "\n",
      "image 1/1 C:\\Users\\admin\\.cache\\kagglehub\\datasets\\pavansanagapati\\images-dataset\\versions\\1\\data\\cars\\carsgraz_147.bmp: 384x512 29 objects, 1534.4ms\n",
      "Speed: 15.5ms preprocess, 1534.4ms inference, 209.6ms postprocess per image at shape (1, 3, 384, 512)\n"
     ]
    },
    {
     "name": "stderr",
     "output_type": "stream",
     "text": [
      " 35%|███▌      | 147/420 [04:51<08:35,  1.89s/it]"
     ]
    },
    {
     "name": "stdout",
     "output_type": "stream",
     "text": [
      "\n",
      "image 1/1 C:\\Users\\admin\\.cache\\kagglehub\\datasets\\pavansanagapati\\images-dataset\\versions\\1\\data\\cars\\carsgraz_148.bmp: 384x512 50 objects, 1457.1ms\n",
      "Speed: 2.1ms preprocess, 1457.1ms inference, 166.5ms postprocess per image at shape (1, 3, 384, 512)\n"
     ]
    },
    {
     "name": "stderr",
     "output_type": "stream",
     "text": [
      " 35%|███▌      | 148/420 [04:53<08:20,  1.84s/it]"
     ]
    },
    {
     "name": "stdout",
     "output_type": "stream",
     "text": [
      "\n",
      "image 1/1 C:\\Users\\admin\\.cache\\kagglehub\\datasets\\pavansanagapati\\images-dataset\\versions\\1\\data\\cars\\carsgraz_149.bmp: 384x512 34 objects, 1443.3ms\n",
      "Speed: 2.2ms preprocess, 1443.3ms inference, 89.0ms postprocess per image at shape (1, 3, 384, 512)\n"
     ]
    },
    {
     "name": "stderr",
     "output_type": "stream",
     "text": [
      " 35%|███▌      | 149/420 [04:54<07:58,  1.77s/it]"
     ]
    },
    {
     "name": "stdout",
     "output_type": "stream",
     "text": [
      "\n",
      "image 1/1 C:\\Users\\admin\\.cache\\kagglehub\\datasets\\pavansanagapati\\images-dataset\\versions\\1\\data\\cars\\carsgraz_150.bmp: 384x512 43 objects, 1426.3ms\n",
      "Speed: 2.3ms preprocess, 1426.3ms inference, 108.9ms postprocess per image at shape (1, 3, 384, 512)\n"
     ]
    },
    {
     "name": "stderr",
     "output_type": "stream",
     "text": [
      " 36%|███▌      | 150/420 [04:56<07:42,  1.71s/it]"
     ]
    },
    {
     "name": "stdout",
     "output_type": "stream",
     "text": [
      "\n",
      "image 1/1 C:\\Users\\admin\\.cache\\kagglehub\\datasets\\pavansanagapati\\images-dataset\\versions\\1\\data\\cars\\carsgraz_151.bmp: 384x512 88 objects, 1556.0ms\n",
      "Speed: 2.7ms preprocess, 1556.0ms inference, 340.0ms postprocess per image at shape (1, 3, 384, 512)\n"
     ]
    },
    {
     "name": "stderr",
     "output_type": "stream",
     "text": [
      " 36%|███▌      | 151/420 [04:58<08:02,  1.79s/it]"
     ]
    },
    {
     "name": "stdout",
     "output_type": "stream",
     "text": [
      "\n",
      "image 1/1 C:\\Users\\admin\\.cache\\kagglehub\\datasets\\pavansanagapati\\images-dataset\\versions\\1\\data\\cars\\carsgraz_152.bmp: 384x512 22 objects, 1729.6ms\n",
      "Speed: 8.9ms preprocess, 1729.6ms inference, 54.2ms postprocess per image at shape (1, 3, 384, 512)\n"
     ]
    },
    {
     "name": "stderr",
     "output_type": "stream",
     "text": [
      " 36%|███▌      | 152/420 [05:00<08:05,  1.81s/it]"
     ]
    },
    {
     "name": "stdout",
     "output_type": "stream",
     "text": [
      "\n",
      "image 1/1 C:\\Users\\admin\\.cache\\kagglehub\\datasets\\pavansanagapati\\images-dataset\\versions\\1\\data\\cars\\carsgraz_153.bmp: 384x512 48 objects, 1486.4ms\n",
      "Speed: 2.8ms preprocess, 1486.4ms inference, 148.1ms postprocess per image at shape (1, 3, 384, 512)\n"
     ]
    },
    {
     "name": "stderr",
     "output_type": "stream",
     "text": [
      " 36%|███▋      | 153/420 [05:01<07:54,  1.78s/it]"
     ]
    },
    {
     "name": "stdout",
     "output_type": "stream",
     "text": [
      "\n",
      "image 1/1 C:\\Users\\admin\\.cache\\kagglehub\\datasets\\pavansanagapati\\images-dataset\\versions\\1\\data\\cars\\carsgraz_154.bmp: 384x512 39 objects, 1441.8ms\n",
      "Speed: 5.7ms preprocess, 1441.8ms inference, 115.7ms postprocess per image at shape (1, 3, 384, 512)\n"
     ]
    },
    {
     "name": "stderr",
     "output_type": "stream",
     "text": [
      " 37%|███▋      | 154/420 [05:03<07:40,  1.73s/it]"
     ]
    },
    {
     "name": "stdout",
     "output_type": "stream",
     "text": [
      "\n",
      "image 1/1 C:\\Users\\admin\\.cache\\kagglehub\\datasets\\pavansanagapati\\images-dataset\\versions\\1\\data\\cars\\carsgraz_155.bmp: 384x512 64 objects, 1442.4ms\n",
      "Speed: 2.6ms preprocess, 1442.4ms inference, 239.1ms postprocess per image at shape (1, 3, 384, 512)\n"
     ]
    },
    {
     "name": "stderr",
     "output_type": "stream",
     "text": [
      " 37%|███▋      | 155/420 [05:05<07:39,  1.74s/it]"
     ]
    },
    {
     "name": "stdout",
     "output_type": "stream",
     "text": [
      "\n",
      "image 1/1 C:\\Users\\admin\\.cache\\kagglehub\\datasets\\pavansanagapati\\images-dataset\\versions\\1\\data\\cars\\carsgraz_156.bmp: 384x512 59 objects, 1560.2ms\n",
      "Speed: 3.5ms preprocess, 1560.2ms inference, 185.2ms postprocess per image at shape (1, 3, 384, 512)\n"
     ]
    },
    {
     "name": "stderr",
     "output_type": "stream",
     "text": [
      " 37%|███▋      | 156/420 [05:06<07:44,  1.76s/it]"
     ]
    },
    {
     "name": "stdout",
     "output_type": "stream",
     "text": [
      "\n",
      "image 1/1 C:\\Users\\admin\\.cache\\kagglehub\\datasets\\pavansanagapati\\images-dataset\\versions\\1\\data\\cars\\carsgraz_157.bmp: 384x512 49 objects, 1731.6ms\n",
      "Speed: 2.7ms preprocess, 1731.6ms inference, 125.0ms postprocess per image at shape (1, 3, 384, 512)\n"
     ]
    },
    {
     "name": "stderr",
     "output_type": "stream",
     "text": [
      " 37%|███▋      | 157/420 [05:09<08:07,  1.85s/it]"
     ]
    },
    {
     "name": "stdout",
     "output_type": "stream",
     "text": [
      "\n",
      "image 1/1 C:\\Users\\admin\\.cache\\kagglehub\\datasets\\pavansanagapati\\images-dataset\\versions\\1\\data\\cars\\carsgraz_158.bmp: 384x512 56 objects, 1565.6ms\n",
      "Speed: 2.7ms preprocess, 1565.6ms inference, 179.1ms postprocess per image at shape (1, 3, 384, 512)\n"
     ]
    },
    {
     "name": "stderr",
     "output_type": "stream",
     "text": [
      " 38%|███▊      | 158/420 [05:10<08:01,  1.84s/it]"
     ]
    },
    {
     "name": "stdout",
     "output_type": "stream",
     "text": [
      "\n",
      "image 1/1 C:\\Users\\admin\\.cache\\kagglehub\\datasets\\pavansanagapati\\images-dataset\\versions\\1\\data\\cars\\carsgraz_159.bmp: 384x512 48 objects, 1614.2ms\n",
      "Speed: 3.0ms preprocess, 1614.2ms inference, 188.9ms postprocess per image at shape (1, 3, 384, 512)\n"
     ]
    },
    {
     "name": "stderr",
     "output_type": "stream",
     "text": [
      " 38%|███▊      | 159/420 [05:12<08:04,  1.86s/it]"
     ]
    },
    {
     "name": "stdout",
     "output_type": "stream",
     "text": [
      "\n",
      "image 1/1 C:\\Users\\admin\\.cache\\kagglehub\\datasets\\pavansanagapati\\images-dataset\\versions\\1\\data\\cars\\carsgraz_160.bmp: 384x512 28 objects, 1374.4ms\n",
      "Speed: 4.6ms preprocess, 1374.4ms inference, 97.9ms postprocess per image at shape (1, 3, 384, 512)\n"
     ]
    },
    {
     "name": "stderr",
     "output_type": "stream",
     "text": [
      " 38%|███▊      | 160/420 [05:14<07:37,  1.76s/it]"
     ]
    },
    {
     "name": "stdout",
     "output_type": "stream",
     "text": [
      "\n",
      "image 1/1 C:\\Users\\admin\\.cache\\kagglehub\\datasets\\pavansanagapati\\images-dataset\\versions\\1\\data\\cars\\carsgraz_161.bmp: 384x512 25 objects, 1473.1ms\n",
      "Speed: 4.3ms preprocess, 1473.1ms inference, 66.9ms postprocess per image at shape (1, 3, 384, 512)\n"
     ]
    },
    {
     "name": "stderr",
     "output_type": "stream",
     "text": [
      " 38%|███▊      | 161/420 [05:15<07:23,  1.71s/it]"
     ]
    },
    {
     "name": "stdout",
     "output_type": "stream",
     "text": [
      "\n",
      "image 1/1 C:\\Users\\admin\\.cache\\kagglehub\\datasets\\pavansanagapati\\images-dataset\\versions\\1\\data\\cars\\carsgraz_162.bmp: 384x512 20 objects, 1388.8ms\n",
      "Speed: 2.6ms preprocess, 1388.8ms inference, 55.8ms postprocess per image at shape (1, 3, 384, 512)\n"
     ]
    },
    {
     "name": "stderr",
     "output_type": "stream",
     "text": [
      " 39%|███▊      | 162/420 [05:17<07:04,  1.65s/it]"
     ]
    },
    {
     "name": "stdout",
     "output_type": "stream",
     "text": [
      "\n",
      "image 1/1 C:\\Users\\admin\\.cache\\kagglehub\\datasets\\pavansanagapati\\images-dataset\\versions\\1\\data\\cars\\carsgraz_163.bmp: 384x512 62 objects, 1380.8ms\n",
      "Speed: 2.5ms preprocess, 1380.8ms inference, 186.6ms postprocess per image at shape (1, 3, 384, 512)\n"
     ]
    },
    {
     "name": "stderr",
     "output_type": "stream",
     "text": [
      " 39%|███▉      | 163/420 [05:19<07:01,  1.64s/it]"
     ]
    },
    {
     "name": "stdout",
     "output_type": "stream",
     "text": [
      "\n",
      "image 1/1 C:\\Users\\admin\\.cache\\kagglehub\\datasets\\pavansanagapati\\images-dataset\\versions\\1\\data\\cars\\carsgraz_164.bmp: 384x512 50 objects, 1524.2ms\n",
      "Speed: 2.3ms preprocess, 1524.2ms inference, 159.3ms postprocess per image at shape (1, 3, 384, 512)\n"
     ]
    },
    {
     "name": "stderr",
     "output_type": "stream",
     "text": [
      " 39%|███▉      | 164/420 [05:20<07:08,  1.67s/it]"
     ]
    },
    {
     "name": "stdout",
     "output_type": "stream",
     "text": [
      "\n",
      "image 1/1 C:\\Users\\admin\\.cache\\kagglehub\\datasets\\pavansanagapati\\images-dataset\\versions\\1\\data\\cars\\carsgraz_165.bmp: 384x512 73 objects, 1483.4ms\n",
      "Speed: 3.1ms preprocess, 1483.4ms inference, 215.8ms postprocess per image at shape (1, 3, 384, 512)\n"
     ]
    },
    {
     "name": "stderr",
     "output_type": "stream",
     "text": [
      " 39%|███▉      | 165/420 [05:22<07:14,  1.70s/it]"
     ]
    },
    {
     "name": "stdout",
     "output_type": "stream",
     "text": [
      "\n",
      "image 1/1 C:\\Users\\admin\\.cache\\kagglehub\\datasets\\pavansanagapati\\images-dataset\\versions\\1\\data\\cars\\carsgraz_166.bmp: 384x512 21 objects, 1420.3ms\n",
      "Speed: 3.0ms preprocess, 1420.3ms inference, 89.5ms postprocess per image at shape (1, 3, 384, 512)\n"
     ]
    },
    {
     "name": "stderr",
     "output_type": "stream",
     "text": [
      " 40%|███▉      | 166/420 [05:24<07:03,  1.67s/it]"
     ]
    },
    {
     "name": "stdout",
     "output_type": "stream",
     "text": [
      "\n",
      "image 1/1 C:\\Users\\admin\\.cache\\kagglehub\\datasets\\pavansanagapati\\images-dataset\\versions\\1\\data\\cars\\carsgraz_167.bmp: 384x512 33 objects, 1487.8ms\n",
      "Speed: 3.6ms preprocess, 1487.8ms inference, 87.9ms postprocess per image at shape (1, 3, 384, 512)\n"
     ]
    },
    {
     "name": "stderr",
     "output_type": "stream",
     "text": [
      " 40%|███▉      | 167/420 [05:25<07:00,  1.66s/it]"
     ]
    },
    {
     "name": "stdout",
     "output_type": "stream",
     "text": [
      "\n",
      "image 1/1 C:\\Users\\admin\\.cache\\kagglehub\\datasets\\pavansanagapati\\images-dataset\\versions\\1\\data\\cars\\carsgraz_168.bmp: 384x512 48 objects, 1598.7ms\n",
      "Speed: 3.5ms preprocess, 1598.7ms inference, 121.1ms postprocess per image at shape (1, 3, 384, 512)\n"
     ]
    },
    {
     "name": "stderr",
     "output_type": "stream",
     "text": [
      " 40%|████      | 168/420 [05:27<07:07,  1.70s/it]"
     ]
    },
    {
     "name": "stdout",
     "output_type": "stream",
     "text": [
      "\n",
      "image 1/1 C:\\Users\\admin\\.cache\\kagglehub\\datasets\\pavansanagapati\\images-dataset\\versions\\1\\data\\cars\\carsgraz_169.bmp: 384x512 58 objects, 1554.5ms\n",
      "Speed: 2.3ms preprocess, 1554.5ms inference, 172.5ms postprocess per image at shape (1, 3, 384, 512)\n"
     ]
    },
    {
     "name": "stderr",
     "output_type": "stream",
     "text": [
      " 40%|████      | 169/420 [05:29<07:14,  1.73s/it]"
     ]
    },
    {
     "name": "stdout",
     "output_type": "stream",
     "text": [
      "\n",
      "image 1/1 C:\\Users\\admin\\.cache\\kagglehub\\datasets\\pavansanagapati\\images-dataset\\versions\\1\\data\\cars\\carsgraz_170.bmp: 384x512 40 objects, 1489.3ms\n",
      "Speed: 2.7ms preprocess, 1489.3ms inference, 124.4ms postprocess per image at shape (1, 3, 384, 512)\n"
     ]
    },
    {
     "name": "stderr",
     "output_type": "stream",
     "text": [
      " 40%|████      | 170/420 [05:31<07:07,  1.71s/it]"
     ]
    },
    {
     "name": "stdout",
     "output_type": "stream",
     "text": [
      "\n",
      "image 1/1 C:\\Users\\admin\\.cache\\kagglehub\\datasets\\pavansanagapati\\images-dataset\\versions\\1\\data\\cars\\carsgraz_171.bmp: 384x512 63 objects, 1640.7ms\n",
      "Speed: 2.4ms preprocess, 1640.7ms inference, 256.5ms postprocess per image at shape (1, 3, 384, 512)\n"
     ]
    },
    {
     "name": "stderr",
     "output_type": "stream",
     "text": [
      " 41%|████      | 171/420 [05:33<07:26,  1.79s/it]"
     ]
    },
    {
     "name": "stdout",
     "output_type": "stream",
     "text": [
      "\n",
      "image 1/1 C:\\Users\\admin\\.cache\\kagglehub\\datasets\\pavansanagapati\\images-dataset\\versions\\1\\data\\cars\\carsgraz_172.bmp: 384x512 48 objects, 1662.3ms\n",
      "Speed: 3.4ms preprocess, 1662.3ms inference, 139.9ms postprocess per image at shape (1, 3, 384, 512)\n"
     ]
    },
    {
     "name": "stderr",
     "output_type": "stream",
     "text": [
      " 41%|████      | 172/420 [05:34<07:30,  1.82s/it]"
     ]
    },
    {
     "name": "stdout",
     "output_type": "stream",
     "text": [
      "\n",
      "image 1/1 C:\\Users\\admin\\.cache\\kagglehub\\datasets\\pavansanagapati\\images-dataset\\versions\\1\\data\\cars\\carsgraz_173.bmp: 384x512 46 objects, 1609.4ms\n",
      "Speed: 2.8ms preprocess, 1609.4ms inference, 111.7ms postprocess per image at shape (1, 3, 384, 512)\n"
     ]
    },
    {
     "name": "stderr",
     "output_type": "stream",
     "text": [
      " 41%|████      | 173/420 [05:36<07:25,  1.80s/it]"
     ]
    },
    {
     "name": "stdout",
     "output_type": "stream",
     "text": [
      "\n",
      "image 1/1 C:\\Users\\admin\\.cache\\kagglehub\\datasets\\pavansanagapati\\images-dataset\\versions\\1\\data\\cars\\carsgraz_174.bmp: 384x512 27 objects, 1644.9ms\n",
      "Speed: 2.2ms preprocess, 1644.9ms inference, 83.9ms postprocess per image at shape (1, 3, 384, 512)\n"
     ]
    },
    {
     "name": "stderr",
     "output_type": "stream",
     "text": [
      " 41%|████▏     | 174/420 [05:38<07:22,  1.80s/it]"
     ]
    },
    {
     "name": "stdout",
     "output_type": "stream",
     "text": [
      "\n",
      "image 1/1 C:\\Users\\admin\\.cache\\kagglehub\\datasets\\pavansanagapati\\images-dataset\\versions\\1\\data\\cars\\carsgraz_175.bmp: 384x512 24 objects, 1785.7ms\n",
      "Speed: 7.9ms preprocess, 1785.7ms inference, 95.5ms postprocess per image at shape (1, 3, 384, 512)\n"
     ]
    },
    {
     "name": "stderr",
     "output_type": "stream",
     "text": [
      " 42%|████▏     | 175/420 [05:40<07:31,  1.84s/it]"
     ]
    },
    {
     "name": "stdout",
     "output_type": "stream",
     "text": [
      "\n",
      "image 1/1 C:\\Users\\admin\\.cache\\kagglehub\\datasets\\pavansanagapati\\images-dataset\\versions\\1\\data\\cars\\carsgraz_176.bmp: 384x512 16 objects, 1930.9ms\n",
      "Speed: 9.8ms preprocess, 1930.9ms inference, 43.2ms postprocess per image at shape (1, 3, 384, 512)\n"
     ]
    },
    {
     "name": "stderr",
     "output_type": "stream",
     "text": [
      " 42%|████▏     | 176/420 [05:42<07:43,  1.90s/it]"
     ]
    },
    {
     "name": "stdout",
     "output_type": "stream",
     "text": [
      "\n",
      "image 1/1 C:\\Users\\admin\\.cache\\kagglehub\\datasets\\pavansanagapati\\images-dataset\\versions\\1\\data\\cars\\carsgraz_177.bmp: 384x512 13 objects, 1457.7ms\n",
      "Speed: 3.1ms preprocess, 1457.7ms inference, 37.2ms postprocess per image at shape (1, 3, 384, 512)\n"
     ]
    },
    {
     "name": "stderr",
     "output_type": "stream",
     "text": [
      " 42%|████▏     | 177/420 [05:43<07:15,  1.79s/it]"
     ]
    },
    {
     "name": "stdout",
     "output_type": "stream",
     "text": [
      "\n",
      "image 1/1 C:\\Users\\admin\\.cache\\kagglehub\\datasets\\pavansanagapati\\images-dataset\\versions\\1\\data\\cars\\carsgraz_178.bmp: 384x512 54 objects, 1373.8ms\n",
      "Speed: 3.0ms preprocess, 1373.8ms inference, 182.8ms postprocess per image at shape (1, 3, 384, 512)\n"
     ]
    },
    {
     "name": "stderr",
     "output_type": "stream",
     "text": [
      " 42%|████▏     | 178/420 [05:45<07:01,  1.74s/it]"
     ]
    },
    {
     "name": "stdout",
     "output_type": "stream",
     "text": [
      "\n",
      "image 1/1 C:\\Users\\admin\\.cache\\kagglehub\\datasets\\pavansanagapati\\images-dataset\\versions\\1\\data\\cars\\carsgraz_179.bmp: 384x512 55 objects, 1535.3ms\n",
      "Speed: 2.6ms preprocess, 1535.3ms inference, 179.2ms postprocess per image at shape (1, 3, 384, 512)\n"
     ]
    },
    {
     "name": "stderr",
     "output_type": "stream",
     "text": [
      " 43%|████▎     | 179/420 [05:47<07:02,  1.75s/it]"
     ]
    },
    {
     "name": "stdout",
     "output_type": "stream",
     "text": [
      "\n",
      "image 1/1 C:\\Users\\admin\\.cache\\kagglehub\\datasets\\pavansanagapati\\images-dataset\\versions\\1\\data\\cars\\carsgraz_180.bmp: 384x512 47 objects, 1554.7ms\n",
      "Speed: 2.4ms preprocess, 1554.7ms inference, 150.7ms postprocess per image at shape (1, 3, 384, 512)\n"
     ]
    },
    {
     "name": "stderr",
     "output_type": "stream",
     "text": [
      " 43%|████▎     | 180/420 [05:49<07:03,  1.76s/it]"
     ]
    },
    {
     "name": "stdout",
     "output_type": "stream",
     "text": [
      "\n",
      "image 1/1 C:\\Users\\admin\\.cache\\kagglehub\\datasets\\pavansanagapati\\images-dataset\\versions\\1\\data\\cars\\carsgraz_181.bmp: 384x512 33 objects, 1562.8ms\n",
      "Speed: 2.1ms preprocess, 1562.8ms inference, 84.6ms postprocess per image at shape (1, 3, 384, 512)\n"
     ]
    },
    {
     "name": "stderr",
     "output_type": "stream",
     "text": [
      " 43%|████▎     | 181/420 [05:50<06:56,  1.74s/it]"
     ]
    },
    {
     "name": "stdout",
     "output_type": "stream",
     "text": [
      "\n",
      "image 1/1 C:\\Users\\admin\\.cache\\kagglehub\\datasets\\pavansanagapati\\images-dataset\\versions\\1\\data\\cars\\carsgraz_182.bmp: 384x512 39 objects, 1661.3ms\n",
      "Speed: 1.9ms preprocess, 1661.3ms inference, 109.1ms postprocess per image at shape (1, 3, 384, 512)\n"
     ]
    },
    {
     "name": "stderr",
     "output_type": "stream",
     "text": [
      " 43%|████▎     | 182/420 [05:52<07:01,  1.77s/it]"
     ]
    },
    {
     "name": "stdout",
     "output_type": "stream",
     "text": [
      "\n",
      "image 1/1 C:\\Users\\admin\\.cache\\kagglehub\\datasets\\pavansanagapati\\images-dataset\\versions\\1\\data\\cars\\carsgraz_183.bmp: 384x512 24 objects, 1669.6ms\n",
      "Speed: 3.2ms preprocess, 1669.6ms inference, 63.2ms postprocess per image at shape (1, 3, 384, 512)\n"
     ]
    },
    {
     "name": "stderr",
     "output_type": "stream",
     "text": [
      " 44%|████▎     | 183/420 [05:54<07:01,  1.78s/it]"
     ]
    },
    {
     "name": "stdout",
     "output_type": "stream",
     "text": [
      "\n",
      "image 1/1 C:\\Users\\admin\\.cache\\kagglehub\\datasets\\pavansanagapati\\images-dataset\\versions\\1\\data\\cars\\carsgraz_184.bmp: 384x512 49 objects, 1475.0ms\n",
      "Speed: 2.9ms preprocess, 1475.0ms inference, 126.4ms postprocess per image at shape (1, 3, 384, 512)\n"
     ]
    },
    {
     "name": "stderr",
     "output_type": "stream",
     "text": [
      " 44%|████▍     | 184/420 [05:56<06:50,  1.74s/it]"
     ]
    },
    {
     "name": "stdout",
     "output_type": "stream",
     "text": [
      "\n",
      "image 1/1 C:\\Users\\admin\\.cache\\kagglehub\\datasets\\pavansanagapati\\images-dataset\\versions\\1\\data\\cars\\carsgraz_185.bmp: 384x512 49 objects, 1541.2ms\n",
      "Speed: 3.0ms preprocess, 1541.2ms inference, 128.5ms postprocess per image at shape (1, 3, 384, 512)\n"
     ]
    },
    {
     "name": "stderr",
     "output_type": "stream",
     "text": [
      " 44%|████▍     | 185/420 [05:57<06:49,  1.74s/it]"
     ]
    },
    {
     "name": "stdout",
     "output_type": "stream",
     "text": [
      "\n",
      "image 1/1 C:\\Users\\admin\\.cache\\kagglehub\\datasets\\pavansanagapati\\images-dataset\\versions\\1\\data\\cars\\carsgraz_186.bmp: 384x512 35 objects, 1537.7ms\n",
      "Speed: 2.4ms preprocess, 1537.7ms inference, 96.0ms postprocess per image at shape (1, 3, 384, 512)\n"
     ]
    },
    {
     "name": "stderr",
     "output_type": "stream",
     "text": [
      " 44%|████▍     | 186/420 [05:59<06:43,  1.73s/it]"
     ]
    },
    {
     "name": "stdout",
     "output_type": "stream",
     "text": [
      "\n",
      "image 1/1 C:\\Users\\admin\\.cache\\kagglehub\\datasets\\pavansanagapati\\images-dataset\\versions\\1\\data\\cars\\carsgraz_187.bmp: 384x512 15 objects, 1572.9ms\n",
      "Speed: 2.3ms preprocess, 1572.9ms inference, 44.8ms postprocess per image at shape (1, 3, 384, 512)\n"
     ]
    },
    {
     "name": "stderr",
     "output_type": "stream",
     "text": [
      " 45%|████▍     | 187/420 [06:01<06:37,  1.71s/it]"
     ]
    },
    {
     "name": "stdout",
     "output_type": "stream",
     "text": [
      "\n",
      "image 1/1 C:\\Users\\admin\\.cache\\kagglehub\\datasets\\pavansanagapati\\images-dataset\\versions\\1\\data\\cars\\carsgraz_188.bmp: 384x512 37 objects, 1772.8ms\n",
      "Speed: 3.1ms preprocess, 1772.8ms inference, 116.0ms postprocess per image at shape (1, 3, 384, 512)\n"
     ]
    },
    {
     "name": "stderr",
     "output_type": "stream",
     "text": [
      " 45%|████▍     | 188/420 [06:03<06:51,  1.78s/it]"
     ]
    },
    {
     "name": "stdout",
     "output_type": "stream",
     "text": [
      "\n",
      "image 1/1 C:\\Users\\admin\\.cache\\kagglehub\\datasets\\pavansanagapati\\images-dataset\\versions\\1\\data\\cars\\carsgraz_189.bmp: 384x512 26 objects, 1486.1ms\n",
      "Speed: 2.0ms preprocess, 1486.1ms inference, 79.2ms postprocess per image at shape (1, 3, 384, 512)\n"
     ]
    },
    {
     "name": "stderr",
     "output_type": "stream",
     "text": [
      " 45%|████▌     | 189/420 [06:04<06:38,  1.72s/it]"
     ]
    },
    {
     "name": "stdout",
     "output_type": "stream",
     "text": [
      "\n",
      "image 1/1 C:\\Users\\admin\\.cache\\kagglehub\\datasets\\pavansanagapati\\images-dataset\\versions\\1\\data\\cars\\carsgraz_190.bmp: 384x512 37 objects, 1494.0ms\n",
      "Speed: 3.8ms preprocess, 1494.0ms inference, 94.3ms postprocess per image at shape (1, 3, 384, 512)\n"
     ]
    },
    {
     "name": "stderr",
     "output_type": "stream",
     "text": [
      " 45%|████▌     | 190/420 [06:06<06:29,  1.70s/it]"
     ]
    },
    {
     "name": "stdout",
     "output_type": "stream",
     "text": [
      "\n",
      "image 1/1 C:\\Users\\admin\\.cache\\kagglehub\\datasets\\pavansanagapati\\images-dataset\\versions\\1\\data\\cars\\carsgraz_191.bmp: 384x512 47 objects, 1480.8ms\n",
      "Speed: 4.4ms preprocess, 1480.8ms inference, 117.3ms postprocess per image at shape (1, 3, 384, 512)\n"
     ]
    },
    {
     "name": "stderr",
     "output_type": "stream",
     "text": [
      " 45%|████▌     | 191/420 [06:08<06:25,  1.68s/it]"
     ]
    },
    {
     "name": "stdout",
     "output_type": "stream",
     "text": [
      "\n",
      "image 1/1 C:\\Users\\admin\\.cache\\kagglehub\\datasets\\pavansanagapati\\images-dataset\\versions\\1\\data\\cars\\carsgraz_192.bmp: 384x512 50 objects, 1624.2ms\n",
      "Speed: 3.6ms preprocess, 1624.2ms inference, 184.7ms postprocess per image at shape (1, 3, 384, 512)\n"
     ]
    },
    {
     "name": "stderr",
     "output_type": "stream",
     "text": [
      " 46%|████▌     | 192/420 [06:09<06:37,  1.74s/it]"
     ]
    },
    {
     "name": "stdout",
     "output_type": "stream",
     "text": [
      "\n",
      "image 1/1 C:\\Users\\admin\\.cache\\kagglehub\\datasets\\pavansanagapati\\images-dataset\\versions\\1\\data\\cars\\carsgraz_193.bmp: 384x512 49 objects, 1709.2ms\n",
      "Speed: 7.6ms preprocess, 1709.2ms inference, 136.0ms postprocess per image at shape (1, 3, 384, 512)\n"
     ]
    },
    {
     "name": "stderr",
     "output_type": "stream",
     "text": [
      " 46%|████▌     | 193/420 [06:11<06:48,  1.80s/it]"
     ]
    },
    {
     "name": "stdout",
     "output_type": "stream",
     "text": [
      "\n",
      "image 1/1 C:\\Users\\admin\\.cache\\kagglehub\\datasets\\pavansanagapati\\images-dataset\\versions\\1\\data\\cars\\carsgraz_194.bmp: 384x512 44 objects, 1434.0ms\n",
      "Speed: 2.7ms preprocess, 1434.0ms inference, 111.6ms postprocess per image at shape (1, 3, 384, 512)\n"
     ]
    },
    {
     "name": "stderr",
     "output_type": "stream",
     "text": [
      " 46%|████▌     | 194/420 [06:13<06:33,  1.74s/it]"
     ]
    },
    {
     "name": "stdout",
     "output_type": "stream",
     "text": [
      "\n",
      "image 1/1 C:\\Users\\admin\\.cache\\kagglehub\\datasets\\pavansanagapati\\images-dataset\\versions\\1\\data\\cars\\carsgraz_195.bmp: 384x512 37 objects, 2058.7ms\n",
      "Speed: 2.5ms preprocess, 2058.7ms inference, 166.0ms postprocess per image at shape (1, 3, 384, 512)\n"
     ]
    },
    {
     "name": "stderr",
     "output_type": "stream",
     "text": [
      " 46%|████▋     | 195/420 [06:15<07:10,  1.92s/it]"
     ]
    },
    {
     "name": "stdout",
     "output_type": "stream",
     "text": [
      "\n",
      "image 1/1 C:\\Users\\admin\\.cache\\kagglehub\\datasets\\pavansanagapati\\images-dataset\\versions\\1\\data\\cars\\carsgraz_196.bmp: 384x512 21 objects, 1883.1ms\n",
      "Speed: 4.4ms preprocess, 1883.1ms inference, 62.5ms postprocess per image at shape (1, 3, 384, 512)\n"
     ]
    },
    {
     "name": "stderr",
     "output_type": "stream",
     "text": [
      " 47%|████▋     | 196/420 [06:17<07:19,  1.96s/it]"
     ]
    },
    {
     "name": "stdout",
     "output_type": "stream",
     "text": [
      "\n",
      "image 1/1 C:\\Users\\admin\\.cache\\kagglehub\\datasets\\pavansanagapati\\images-dataset\\versions\\1\\data\\cars\\carsgraz_197.bmp: 384x512 56 objects, 1652.7ms\n",
      "Speed: 3.7ms preprocess, 1652.7ms inference, 183.5ms postprocess per image at shape (1, 3, 384, 512)\n"
     ]
    },
    {
     "name": "stderr",
     "output_type": "stream",
     "text": [
      " 47%|████▋     | 197/420 [06:19<07:15,  1.95s/it]"
     ]
    },
    {
     "name": "stdout",
     "output_type": "stream",
     "text": [
      "\n",
      "image 1/1 C:\\Users\\admin\\.cache\\kagglehub\\datasets\\pavansanagapati\\images-dataset\\versions\\1\\data\\cars\\carsgraz_198.bmp: 384x512 21 objects, 1475.9ms\n",
      "Speed: 3.1ms preprocess, 1475.9ms inference, 52.6ms postprocess per image at shape (1, 3, 384, 512)\n"
     ]
    },
    {
     "name": "stderr",
     "output_type": "stream",
     "text": [
      " 47%|████▋     | 198/420 [06:21<06:49,  1.85s/it]"
     ]
    },
    {
     "name": "stdout",
     "output_type": "stream",
     "text": [
      "\n",
      "image 1/1 C:\\Users\\admin\\.cache\\kagglehub\\datasets\\pavansanagapati\\images-dataset\\versions\\1\\data\\cars\\carsgraz_199.bmp: 384x512 24 objects, 1525.5ms\n",
      "Speed: 3.0ms preprocess, 1525.5ms inference, 72.0ms postprocess per image at shape (1, 3, 384, 512)\n"
     ]
    },
    {
     "name": "stderr",
     "output_type": "stream",
     "text": [
      " 47%|████▋     | 199/420 [06:23<06:35,  1.79s/it]"
     ]
    },
    {
     "name": "stdout",
     "output_type": "stream",
     "text": [
      "\n",
      "image 1/1 C:\\Users\\admin\\.cache\\kagglehub\\datasets\\pavansanagapati\\images-dataset\\versions\\1\\data\\cars\\carsgraz_200.bmp: 384x512 10 objects, 1379.2ms\n",
      "Speed: 1.6ms preprocess, 1379.2ms inference, 31.7ms postprocess per image at shape (1, 3, 384, 512)\n"
     ]
    },
    {
     "name": "stderr",
     "output_type": "stream",
     "text": [
      " 48%|████▊     | 200/420 [06:24<06:13,  1.70s/it]"
     ]
    },
    {
     "name": "stdout",
     "output_type": "stream",
     "text": [
      "\n",
      "image 1/1 C:\\Users\\admin\\.cache\\kagglehub\\datasets\\pavansanagapati\\images-dataset\\versions\\1\\data\\cars\\carsgraz_201.bmp: 384x512 18 objects, 1519.9ms\n",
      "Speed: 2.7ms preprocess, 1519.9ms inference, 47.8ms postprocess per image at shape (1, 3, 384, 512)\n"
     ]
    },
    {
     "name": "stderr",
     "output_type": "stream",
     "text": [
      " 48%|████▊     | 201/420 [06:26<06:05,  1.67s/it]"
     ]
    },
    {
     "name": "stdout",
     "output_type": "stream",
     "text": [
      "\n",
      "image 1/1 C:\\Users\\admin\\.cache\\kagglehub\\datasets\\pavansanagapati\\images-dataset\\versions\\1\\data\\cars\\carsgraz_202.bmp: 384x512 24 objects, 1904.8ms\n",
      "Speed: 3.5ms preprocess, 1904.8ms inference, 199.2ms postprocess per image at shape (1, 3, 384, 512)\n"
     ]
    },
    {
     "name": "stderr",
     "output_type": "stream",
     "text": [
      " 48%|████▊     | 202/420 [06:28<06:36,  1.82s/it]"
     ]
    },
    {
     "name": "stdout",
     "output_type": "stream",
     "text": [
      "\n",
      "image 1/1 C:\\Users\\admin\\.cache\\kagglehub\\datasets\\pavansanagapati\\images-dataset\\versions\\1\\data\\cars\\carsgraz_203.bmp: 384x512 26 objects, 1650.6ms\n",
      "Speed: 4.2ms preprocess, 1650.6ms inference, 77.8ms postprocess per image at shape (1, 3, 384, 512)\n"
     ]
    },
    {
     "name": "stderr",
     "output_type": "stream",
     "text": [
      " 48%|████▊     | 203/420 [06:30<06:32,  1.81s/it]"
     ]
    },
    {
     "name": "stdout",
     "output_type": "stream",
     "text": [
      "\n",
      "image 1/1 C:\\Users\\admin\\.cache\\kagglehub\\datasets\\pavansanagapati\\images-dataset\\versions\\1\\data\\cars\\carsgraz_204.bmp: 384x512 24 objects, 1486.3ms\n",
      "Speed: 2.6ms preprocess, 1486.3ms inference, 67.6ms postprocess per image at shape (1, 3, 384, 512)\n"
     ]
    },
    {
     "name": "stderr",
     "output_type": "stream",
     "text": [
      " 49%|████▊     | 204/420 [06:31<06:16,  1.74s/it]"
     ]
    },
    {
     "name": "stdout",
     "output_type": "stream",
     "text": [
      "\n",
      "image 1/1 C:\\Users\\admin\\.cache\\kagglehub\\datasets\\pavansanagapati\\images-dataset\\versions\\1\\data\\cars\\carsgraz_205.bmp: 384x512 20 objects, 1495.5ms\n",
      "Speed: 2.2ms preprocess, 1495.5ms inference, 55.8ms postprocess per image at shape (1, 3, 384, 512)\n"
     ]
    },
    {
     "name": "stderr",
     "output_type": "stream",
     "text": [
      " 49%|████▉     | 205/420 [06:33<06:05,  1.70s/it]"
     ]
    },
    {
     "name": "stdout",
     "output_type": "stream",
     "text": [
      "\n",
      "image 1/1 C:\\Users\\admin\\.cache\\kagglehub\\datasets\\pavansanagapati\\images-dataset\\versions\\1\\data\\cars\\carsgraz_206.bmp: 384x512 28 objects, 1435.7ms\n",
      "Speed: 4.2ms preprocess, 1435.7ms inference, 74.7ms postprocess per image at shape (1, 3, 384, 512)\n"
     ]
    },
    {
     "name": "stderr",
     "output_type": "stream",
     "text": [
      " 49%|████▉     | 206/420 [06:34<05:54,  1.66s/it]"
     ]
    },
    {
     "name": "stdout",
     "output_type": "stream",
     "text": [
      "\n",
      "image 1/1 C:\\Users\\admin\\.cache\\kagglehub\\datasets\\pavansanagapati\\images-dataset\\versions\\1\\data\\cars\\carsgraz_207.bmp: 384x512 34 objects, 1612.6ms\n",
      "Speed: 2.7ms preprocess, 1612.6ms inference, 88.8ms postprocess per image at shape (1, 3, 384, 512)\n"
     ]
    },
    {
     "name": "stderr",
     "output_type": "stream",
     "text": [
      " 49%|████▉     | 207/420 [06:36<05:58,  1.68s/it]"
     ]
    },
    {
     "name": "stdout",
     "output_type": "stream",
     "text": [
      "\n",
      "image 1/1 C:\\Users\\admin\\.cache\\kagglehub\\datasets\\pavansanagapati\\images-dataset\\versions\\1\\data\\cars\\carsgraz_208.bmp: 384x512 41 objects, 1590.8ms\n",
      "Speed: 2.1ms preprocess, 1590.8ms inference, 133.7ms postprocess per image at shape (1, 3, 384, 512)\n"
     ]
    },
    {
     "name": "stderr",
     "output_type": "stream",
     "text": [
      " 50%|████▉     | 208/420 [06:38<06:03,  1.71s/it]"
     ]
    },
    {
     "name": "stdout",
     "output_type": "stream",
     "text": [
      "\n",
      "image 1/1 C:\\Users\\admin\\.cache\\kagglehub\\datasets\\pavansanagapati\\images-dataset\\versions\\1\\data\\cars\\carsgraz_209.bmp: 384x512 31 objects, 1512.8ms\n",
      "Speed: 2.3ms preprocess, 1512.8ms inference, 92.2ms postprocess per image at shape (1, 3, 384, 512)\n"
     ]
    },
    {
     "name": "stderr",
     "output_type": "stream",
     "text": [
      " 50%|████▉     | 209/420 [06:40<05:59,  1.70s/it]"
     ]
    },
    {
     "name": "stdout",
     "output_type": "stream",
     "text": [
      "\n",
      "image 1/1 C:\\Users\\admin\\.cache\\kagglehub\\datasets\\pavansanagapati\\images-dataset\\versions\\1\\data\\cars\\carsgraz_210.bmp: 384x512 39 objects, 1517.1ms\n",
      "Speed: 2.2ms preprocess, 1517.1ms inference, 109.1ms postprocess per image at shape (1, 3, 384, 512)\n"
     ]
    },
    {
     "name": "stderr",
     "output_type": "stream",
     "text": [
      " 50%|█████     | 210/420 [06:41<05:56,  1.70s/it]"
     ]
    },
    {
     "name": "stdout",
     "output_type": "stream",
     "text": [
      "\n",
      "image 1/1 C:\\Users\\admin\\.cache\\kagglehub\\datasets\\pavansanagapati\\images-dataset\\versions\\1\\data\\cars\\carsgraz_211.bmp: 384x512 40 objects, 1494.7ms\n",
      "Speed: 2.7ms preprocess, 1494.7ms inference, 96.6ms postprocess per image at shape (1, 3, 384, 512)\n"
     ]
    },
    {
     "name": "stderr",
     "output_type": "stream",
     "text": [
      " 50%|█████     | 211/420 [06:43<05:52,  1.68s/it]"
     ]
    },
    {
     "name": "stdout",
     "output_type": "stream",
     "text": [
      "\n",
      "image 1/1 C:\\Users\\admin\\.cache\\kagglehub\\datasets\\pavansanagapati\\images-dataset\\versions\\1\\data\\cars\\carsgraz_212.bmp: 384x512 10 objects, 1601.7ms\n",
      "Speed: 2.5ms preprocess, 1601.7ms inference, 31.8ms postprocess per image at shape (1, 3, 384, 512)\n"
     ]
    },
    {
     "name": "stderr",
     "output_type": "stream",
     "text": [
      " 50%|█████     | 212/420 [06:45<05:49,  1.68s/it]"
     ]
    },
    {
     "name": "stdout",
     "output_type": "stream",
     "text": [
      "\n",
      "image 1/1 C:\\Users\\admin\\.cache\\kagglehub\\datasets\\pavansanagapati\\images-dataset\\versions\\1\\data\\cars\\carsgraz_213.bmp: 384x512 50 objects, 1426.6ms\n",
      "Speed: 3.7ms preprocess, 1426.6ms inference, 173.1ms postprocess per image at shape (1, 3, 384, 512)\n"
     ]
    },
    {
     "name": "stderr",
     "output_type": "stream",
     "text": [
      " 51%|█████     | 213/420 [06:46<05:48,  1.68s/it]"
     ]
    },
    {
     "name": "stdout",
     "output_type": "stream",
     "text": [
      "\n",
      "image 1/1 C:\\Users\\admin\\.cache\\kagglehub\\datasets\\pavansanagapati\\images-dataset\\versions\\1\\data\\cars\\carsgraz_214.bmp: 384x512 46 objects, 1457.7ms\n",
      "Speed: 3.1ms preprocess, 1457.7ms inference, 145.0ms postprocess per image at shape (1, 3, 384, 512)\n"
     ]
    },
    {
     "name": "stderr",
     "output_type": "stream",
     "text": [
      " 51%|█████     | 214/420 [06:48<05:45,  1.68s/it]"
     ]
    },
    {
     "name": "stdout",
     "output_type": "stream",
     "text": [
      "\n",
      "image 1/1 C:\\Users\\admin\\.cache\\kagglehub\\datasets\\pavansanagapati\\images-dataset\\versions\\1\\data\\cars\\carsgraz_215.bmp: 384x512 69 objects, 1384.3ms\n",
      "Speed: 2.7ms preprocess, 1384.3ms inference, 229.7ms postprocess per image at shape (1, 3, 384, 512)\n"
     ]
    },
    {
     "name": "stderr",
     "output_type": "stream",
     "text": [
      " 51%|█████     | 215/420 [06:50<05:44,  1.68s/it]"
     ]
    },
    {
     "name": "stdout",
     "output_type": "stream",
     "text": [
      "\n",
      "image 1/1 C:\\Users\\admin\\.cache\\kagglehub\\datasets\\pavansanagapati\\images-dataset\\versions\\1\\data\\cars\\carsgraz_216.bmp: 384x512 45 objects, 1519.6ms\n",
      "Speed: 4.6ms preprocess, 1519.6ms inference, 130.6ms postprocess per image at shape (1, 3, 384, 512)\n"
     ]
    },
    {
     "name": "stderr",
     "output_type": "stream",
     "text": [
      " 51%|█████▏    | 216/420 [06:51<05:45,  1.69s/it]"
     ]
    },
    {
     "name": "stdout",
     "output_type": "stream",
     "text": [
      "\n",
      "image 1/1 C:\\Users\\admin\\.cache\\kagglehub\\datasets\\pavansanagapati\\images-dataset\\versions\\1\\data\\cars\\carsgraz_217.bmp: 384x512 23 objects, 1550.3ms\n",
      "Speed: 3.0ms preprocess, 1550.3ms inference, 68.7ms postprocess per image at shape (1, 3, 384, 512)\n"
     ]
    },
    {
     "name": "stderr",
     "output_type": "stream",
     "text": [
      " 52%|█████▏    | 217/420 [06:53<05:42,  1.69s/it]"
     ]
    },
    {
     "name": "stdout",
     "output_type": "stream",
     "text": [
      "\n",
      "image 1/1 C:\\Users\\admin\\.cache\\kagglehub\\datasets\\pavansanagapati\\images-dataset\\versions\\1\\data\\cars\\carsgraz_218.bmp: 384x512 39 objects, 1607.2ms\n",
      "Speed: 8.4ms preprocess, 1607.2ms inference, 109.2ms postprocess per image at shape (1, 3, 384, 512)\n"
     ]
    },
    {
     "name": "stderr",
     "output_type": "stream",
     "text": [
      " 52%|█████▏    | 218/420 [06:55<05:48,  1.73s/it]"
     ]
    },
    {
     "name": "stdout",
     "output_type": "stream",
     "text": [
      "\n",
      "image 1/1 C:\\Users\\admin\\.cache\\kagglehub\\datasets\\pavansanagapati\\images-dataset\\versions\\1\\data\\cars\\carsgraz_219.bmp: 384x512 49 objects, 1420.0ms\n",
      "Speed: 2.9ms preprocess, 1420.0ms inference, 137.3ms postprocess per image at shape (1, 3, 384, 512)\n"
     ]
    },
    {
     "name": "stderr",
     "output_type": "stream",
     "text": [
      " 52%|█████▏    | 219/420 [06:56<05:40,  1.69s/it]"
     ]
    },
    {
     "name": "stdout",
     "output_type": "stream",
     "text": [
      "\n",
      "image 1/1 C:\\Users\\admin\\.cache\\kagglehub\\datasets\\pavansanagapati\\images-dataset\\versions\\1\\data\\cars\\carsgraz_220.bmp: 384x512 26 objects, 1418.8ms\n",
      "Speed: 6.4ms preprocess, 1418.8ms inference, 76.0ms postprocess per image at shape (1, 3, 384, 512)\n"
     ]
    },
    {
     "name": "stderr",
     "output_type": "stream",
     "text": [
      " 52%|█████▏    | 220/420 [06:58<05:30,  1.65s/it]"
     ]
    },
    {
     "name": "stdout",
     "output_type": "stream",
     "text": [
      "\n",
      "image 1/1 C:\\Users\\admin\\.cache\\kagglehub\\datasets\\pavansanagapati\\images-dataset\\versions\\1\\data\\cars\\carsgraz_221.bmp: 384x512 44 objects, 1489.1ms\n",
      "Speed: 2.0ms preprocess, 1489.1ms inference, 129.9ms postprocess per image at shape (1, 3, 384, 512)\n"
     ]
    },
    {
     "name": "stderr",
     "output_type": "stream",
     "text": [
      " 53%|█████▎    | 221/420 [07:00<05:30,  1.66s/it]"
     ]
    },
    {
     "name": "stdout",
     "output_type": "stream",
     "text": [
      "\n",
      "image 1/1 C:\\Users\\admin\\.cache\\kagglehub\\datasets\\pavansanagapati\\images-dataset\\versions\\1\\data\\cars\\carsgraz_222.bmp: 384x512 35 objects, 1658.2ms\n",
      "Speed: 5.1ms preprocess, 1658.2ms inference, 94.0ms postprocess per image at shape (1, 3, 384, 512)\n"
     ]
    },
    {
     "name": "stderr",
     "output_type": "stream",
     "text": [
      " 53%|█████▎    | 222/420 [07:02<05:38,  1.71s/it]"
     ]
    },
    {
     "name": "stdout",
     "output_type": "stream",
     "text": [
      "\n",
      "image 1/1 C:\\Users\\admin\\.cache\\kagglehub\\datasets\\pavansanagapati\\images-dataset\\versions\\1\\data\\cars\\carsgraz_223.bmp: 384x512 25 objects, 1614.6ms\n",
      "Speed: 3.3ms preprocess, 1614.6ms inference, 82.6ms postprocess per image at shape (1, 3, 384, 512)\n"
     ]
    },
    {
     "name": "stderr",
     "output_type": "stream",
     "text": [
      " 53%|█████▎    | 223/420 [07:03<05:39,  1.72s/it]"
     ]
    },
    {
     "name": "stdout",
     "output_type": "stream",
     "text": [
      "\n",
      "image 1/1 C:\\Users\\admin\\.cache\\kagglehub\\datasets\\pavansanagapati\\images-dataset\\versions\\1\\data\\cars\\carsgraz_224.bmp: 384x512 61 objects, 1643.6ms\n",
      "Speed: 4.5ms preprocess, 1643.6ms inference, 211.9ms postprocess per image at shape (1, 3, 384, 512)\n"
     ]
    },
    {
     "name": "stderr",
     "output_type": "stream",
     "text": [
      " 53%|█████▎    | 224/420 [07:05<05:55,  1.82s/it]"
     ]
    },
    {
     "name": "stdout",
     "output_type": "stream",
     "text": [
      "\n",
      "image 1/1 C:\\Users\\admin\\.cache\\kagglehub\\datasets\\pavansanagapati\\images-dataset\\versions\\1\\data\\cars\\carsgraz_225.bmp: 384x512 27 objects, 1510.9ms\n",
      "Speed: 3.1ms preprocess, 1510.9ms inference, 101.5ms postprocess per image at shape (1, 3, 384, 512)\n"
     ]
    },
    {
     "name": "stderr",
     "output_type": "stream",
     "text": [
      " 54%|█████▎    | 225/420 [07:07<05:45,  1.77s/it]"
     ]
    },
    {
     "name": "stdout",
     "output_type": "stream",
     "text": [
      "\n",
      "image 1/1 C:\\Users\\admin\\.cache\\kagglehub\\datasets\\pavansanagapati\\images-dataset\\versions\\1\\data\\cars\\carsgraz_226.bmp: 384x512 50 objects, 1610.0ms\n",
      "Speed: 1.8ms preprocess, 1610.0ms inference, 215.6ms postprocess per image at shape (1, 3, 384, 512)\n"
     ]
    },
    {
     "name": "stderr",
     "output_type": "stream",
     "text": [
      " 54%|█████▍    | 226/420 [07:09<05:51,  1.81s/it]"
     ]
    },
    {
     "name": "stdout",
     "output_type": "stream",
     "text": [
      "\n",
      "image 1/1 C:\\Users\\admin\\.cache\\kagglehub\\datasets\\pavansanagapati\\images-dataset\\versions\\1\\data\\cars\\carsgraz_227.bmp: 384x512 40 objects, 1770.2ms\n",
      "Speed: 4.3ms preprocess, 1770.2ms inference, 109.4ms postprocess per image at shape (1, 3, 384, 512)\n"
     ]
    },
    {
     "name": "stderr",
     "output_type": "stream",
     "text": [
      " 54%|█████▍    | 227/420 [07:11<05:57,  1.85s/it]"
     ]
    },
    {
     "name": "stdout",
     "output_type": "stream",
     "text": [
      "\n",
      "image 1/1 C:\\Users\\admin\\.cache\\kagglehub\\datasets\\pavansanagapati\\images-dataset\\versions\\1\\data\\cars\\carsgraz_228.bmp: 384x512 38 objects, 1582.2ms\n",
      "Speed: 2.9ms preprocess, 1582.2ms inference, 139.9ms postprocess per image at shape (1, 3, 384, 512)\n"
     ]
    },
    {
     "name": "stderr",
     "output_type": "stream",
     "text": [
      " 54%|█████▍    | 228/420 [07:13<05:51,  1.83s/it]"
     ]
    },
    {
     "name": "stdout",
     "output_type": "stream",
     "text": [
      "\n",
      "image 1/1 C:\\Users\\admin\\.cache\\kagglehub\\datasets\\pavansanagapati\\images-dataset\\versions\\1\\data\\cars\\carsgraz_229.bmp: 384x512 33 objects, 2028.7ms\n",
      "Speed: 4.9ms preprocess, 2028.7ms inference, 114.5ms postprocess per image at shape (1, 3, 384, 512)\n"
     ]
    },
    {
     "name": "stderr",
     "output_type": "stream",
     "text": [
      " 55%|█████▍    | 229/420 [07:15<06:11,  1.94s/it]"
     ]
    },
    {
     "name": "stdout",
     "output_type": "stream",
     "text": [
      "\n",
      "image 1/1 C:\\Users\\admin\\.cache\\kagglehub\\datasets\\pavansanagapati\\images-dataset\\versions\\1\\data\\cars\\carsgraz_230.bmp: 384x512 41 objects, 2087.4ms\n",
      "Speed: 4.5ms preprocess, 2087.4ms inference, 158.5ms postprocess per image at shape (1, 3, 384, 512)\n"
     ]
    },
    {
     "name": "stderr",
     "output_type": "stream",
     "text": [
      " 55%|█████▍    | 230/420 [07:17<06:30,  2.06s/it]"
     ]
    },
    {
     "name": "stdout",
     "output_type": "stream",
     "text": [
      "\n",
      "image 1/1 C:\\Users\\admin\\.cache\\kagglehub\\datasets\\pavansanagapati\\images-dataset\\versions\\1\\data\\cars\\carsgraz_231.bmp: 384x512 48 objects, 1988.2ms\n",
      "Speed: 3.1ms preprocess, 1988.2ms inference, 374.3ms postprocess per image at shape (1, 3, 384, 512)\n"
     ]
    },
    {
     "name": "stderr",
     "output_type": "stream",
     "text": [
      " 55%|█████▌    | 231/420 [07:20<06:49,  2.17s/it]"
     ]
    },
    {
     "name": "stdout",
     "output_type": "stream",
     "text": [
      "\n",
      "image 1/1 C:\\Users\\admin\\.cache\\kagglehub\\datasets\\pavansanagapati\\images-dataset\\versions\\1\\data\\cars\\carsgraz_232.bmp: 384x512 60 objects, 1784.2ms\n",
      "Speed: 6.3ms preprocess, 1784.2ms inference, 201.0ms postprocess per image at shape (1, 3, 384, 512)\n"
     ]
    },
    {
     "name": "stderr",
     "output_type": "stream",
     "text": [
      " 55%|█████▌    | 232/420 [07:22<06:40,  2.13s/it]"
     ]
    },
    {
     "name": "stdout",
     "output_type": "stream",
     "text": [
      "\n",
      "image 1/1 C:\\Users\\admin\\.cache\\kagglehub\\datasets\\pavansanagapati\\images-dataset\\versions\\1\\data\\cars\\carsgraz_233.bmp: 384x512 44 objects, 1581.8ms\n",
      "Speed: 3.2ms preprocess, 1581.8ms inference, 121.7ms postprocess per image at shape (1, 3, 384, 512)\n"
     ]
    },
    {
     "name": "stderr",
     "output_type": "stream",
     "text": [
      " 55%|█████▌    | 233/420 [07:23<06:17,  2.02s/it]"
     ]
    },
    {
     "name": "stdout",
     "output_type": "stream",
     "text": [
      "\n",
      "image 1/1 C:\\Users\\admin\\.cache\\kagglehub\\datasets\\pavansanagapati\\images-dataset\\versions\\1\\data\\cars\\carsgraz_234.bmp: 384x512 42 objects, 1728.5ms\n",
      "Speed: 3.4ms preprocess, 1728.5ms inference, 133.7ms postprocess per image at shape (1, 3, 384, 512)\n"
     ]
    },
    {
     "name": "stderr",
     "output_type": "stream",
     "text": [
      " 56%|█████▌    | 234/420 [07:25<06:11,  2.00s/it]"
     ]
    },
    {
     "name": "stdout",
     "output_type": "stream",
     "text": [
      "\n",
      "image 1/1 C:\\Users\\admin\\.cache\\kagglehub\\datasets\\pavansanagapati\\images-dataset\\versions\\1\\data\\cars\\carsgraz_235.bmp: 384x512 43 objects, 1787.2ms\n",
      "Speed: 5.4ms preprocess, 1787.2ms inference, 149.4ms postprocess per image at shape (1, 3, 384, 512)\n"
     ]
    },
    {
     "name": "stderr",
     "output_type": "stream",
     "text": [
      " 56%|█████▌    | 235/420 [07:27<06:09,  2.00s/it]"
     ]
    },
    {
     "name": "stdout",
     "output_type": "stream",
     "text": [
      "\n",
      "image 1/1 C:\\Users\\admin\\.cache\\kagglehub\\datasets\\pavansanagapati\\images-dataset\\versions\\1\\data\\cars\\carsgraz_236.bmp: 384x512 44 objects, 1856.2ms\n",
      "Speed: 3.3ms preprocess, 1856.2ms inference, 118.7ms postprocess per image at shape (1, 3, 384, 512)\n"
     ]
    },
    {
     "name": "stderr",
     "output_type": "stream",
     "text": [
      " 56%|█████▌    | 236/420 [07:29<06:09,  2.01s/it]"
     ]
    },
    {
     "name": "stdout",
     "output_type": "stream",
     "text": [
      "\n",
      "image 1/1 C:\\Users\\admin\\.cache\\kagglehub\\datasets\\pavansanagapati\\images-dataset\\versions\\1\\data\\cars\\carsgraz_237.bmp: 384x512 49 objects, 1815.5ms\n",
      "Speed: 3.0ms preprocess, 1815.5ms inference, 164.5ms postprocess per image at shape (1, 3, 384, 512)\n"
     ]
    },
    {
     "name": "stderr",
     "output_type": "stream",
     "text": [
      " 56%|█████▋    | 237/420 [07:31<06:09,  2.02s/it]"
     ]
    },
    {
     "name": "stdout",
     "output_type": "stream",
     "text": [
      "\n",
      "image 1/1 C:\\Users\\admin\\.cache\\kagglehub\\datasets\\pavansanagapati\\images-dataset\\versions\\1\\data\\cars\\carsgraz_238.bmp: 384x512 55 objects, 1857.6ms\n",
      "Speed: 3.8ms preprocess, 1857.6ms inference, 287.8ms postprocess per image at shape (1, 3, 384, 512)\n"
     ]
    },
    {
     "name": "stderr",
     "output_type": "stream",
     "text": [
      " 57%|█████▋    | 238/420 [07:34<06:18,  2.08s/it]"
     ]
    },
    {
     "name": "stdout",
     "output_type": "stream",
     "text": [
      "\n",
      "image 1/1 C:\\Users\\admin\\.cache\\kagglehub\\datasets\\pavansanagapati\\images-dataset\\versions\\1\\data\\cars\\carsgraz_239.bmp: 384x512 48 objects, 2349.0ms\n",
      "Speed: 3.1ms preprocess, 2349.0ms inference, 155.7ms postprocess per image at shape (1, 3, 384, 512)\n"
     ]
    },
    {
     "name": "stderr",
     "output_type": "stream",
     "text": [
      " 57%|█████▋    | 239/420 [07:36<06:43,  2.23s/it]"
     ]
    },
    {
     "name": "stdout",
     "output_type": "stream",
     "text": [
      "\n",
      "image 1/1 C:\\Users\\admin\\.cache\\kagglehub\\datasets\\pavansanagapati\\images-dataset\\versions\\1\\data\\cars\\carsgraz_240.bmp: 384x512 65 objects, 1883.3ms\n",
      "Speed: 8.2ms preprocess, 1883.3ms inference, 214.7ms postprocess per image at shape (1, 3, 384, 512)\n"
     ]
    },
    {
     "name": "stderr",
     "output_type": "stream",
     "text": [
      " 57%|█████▋    | 240/420 [07:38<06:40,  2.22s/it]"
     ]
    },
    {
     "name": "stdout",
     "output_type": "stream",
     "text": [
      "\n",
      "image 1/1 C:\\Users\\admin\\.cache\\kagglehub\\datasets\\pavansanagapati\\images-dataset\\versions\\1\\data\\cars\\carsgraz_241.bmp: 384x512 47 objects, 1668.8ms\n",
      "Speed: 2.4ms preprocess, 1668.8ms inference, 189.0ms postprocess per image at shape (1, 3, 384, 512)\n"
     ]
    },
    {
     "name": "stderr",
     "output_type": "stream",
     "text": [
      " 57%|█████▋    | 241/420 [07:40<06:22,  2.14s/it]"
     ]
    },
    {
     "name": "stdout",
     "output_type": "stream",
     "text": [
      "\n",
      "image 1/1 C:\\Users\\admin\\.cache\\kagglehub\\datasets\\pavansanagapati\\images-dataset\\versions\\1\\data\\cars\\carsgraz_242.bmp: 384x512 70 objects, 1775.3ms\n",
      "Speed: 2.5ms preprocess, 1775.3ms inference, 217.3ms postprocess per image at shape (1, 3, 384, 512)\n"
     ]
    },
    {
     "name": "stderr",
     "output_type": "stream",
     "text": [
      " 58%|█████▊    | 242/420 [07:42<06:16,  2.12s/it]"
     ]
    },
    {
     "name": "stdout",
     "output_type": "stream",
     "text": [
      "\n",
      "image 1/1 C:\\Users\\admin\\.cache\\kagglehub\\datasets\\pavansanagapati\\images-dataset\\versions\\1\\data\\cars\\carsgraz_243.bmp: 384x512 48 objects, 2493.2ms\n",
      "Speed: 2.6ms preprocess, 2493.2ms inference, 157.2ms postprocess per image at shape (1, 3, 384, 512)\n"
     ]
    },
    {
     "name": "stderr",
     "output_type": "stream",
     "text": [
      " 58%|█████▊    | 243/420 [07:45<06:47,  2.30s/it]"
     ]
    },
    {
     "name": "stdout",
     "output_type": "stream",
     "text": [
      "\n",
      "image 1/1 C:\\Users\\admin\\.cache\\kagglehub\\datasets\\pavansanagapati\\images-dataset\\versions\\1\\data\\cars\\carsgraz_244.bmp: 384x512 48 objects, 2018.8ms\n",
      "Speed: 4.6ms preprocess, 2018.8ms inference, 151.2ms postprocess per image at shape (1, 3, 384, 512)\n"
     ]
    },
    {
     "name": "stderr",
     "output_type": "stream",
     "text": [
      " 58%|█████▊    | 244/420 [07:47<06:43,  2.29s/it]"
     ]
    },
    {
     "name": "stdout",
     "output_type": "stream",
     "text": [
      "\n",
      "image 1/1 C:\\Users\\admin\\.cache\\kagglehub\\datasets\\pavansanagapati\\images-dataset\\versions\\1\\data\\cars\\carsgraz_245.bmp: 384x512 47 objects, 1408.6ms\n",
      "Speed: 2.5ms preprocess, 1408.6ms inference, 119.5ms postprocess per image at shape (1, 3, 384, 512)\n"
     ]
    },
    {
     "name": "stderr",
     "output_type": "stream",
     "text": [
      " 58%|█████▊    | 245/420 [07:49<06:04,  2.08s/it]"
     ]
    },
    {
     "name": "stdout",
     "output_type": "stream",
     "text": [
      "\n",
      "image 1/1 C:\\Users\\admin\\.cache\\kagglehub\\datasets\\pavansanagapati\\images-dataset\\versions\\1\\data\\cars\\carsgraz_246.bmp: 384x512 56 objects, 1532.3ms\n",
      "Speed: 2.5ms preprocess, 1532.3ms inference, 178.9ms postprocess per image at shape (1, 3, 384, 512)\n"
     ]
    },
    {
     "name": "stderr",
     "output_type": "stream",
     "text": [
      " 59%|█████▊    | 246/420 [07:51<05:46,  1.99s/it]"
     ]
    },
    {
     "name": "stdout",
     "output_type": "stream",
     "text": [
      "\n",
      "image 1/1 C:\\Users\\admin\\.cache\\kagglehub\\datasets\\pavansanagapati\\images-dataset\\versions\\1\\data\\cars\\carsgraz_247.bmp: 384x512 53 objects, 1392.5ms\n",
      "Speed: 5.6ms preprocess, 1392.5ms inference, 169.5ms postprocess per image at shape (1, 3, 384, 512)\n"
     ]
    },
    {
     "name": "stderr",
     "output_type": "stream",
     "text": [
      " 59%|█████▉    | 247/420 [07:52<05:25,  1.88s/it]"
     ]
    },
    {
     "name": "stdout",
     "output_type": "stream",
     "text": [
      "\n",
      "image 1/1 C:\\Users\\admin\\.cache\\kagglehub\\datasets\\pavansanagapati\\images-dataset\\versions\\1\\data\\cars\\carsgraz_248.bmp: 384x512 36 objects, 1343.5ms\n",
      "Speed: 2.2ms preprocess, 1343.5ms inference, 113.3ms postprocess per image at shape (1, 3, 384, 512)\n"
     ]
    },
    {
     "name": "stderr",
     "output_type": "stream",
     "text": [
      " 59%|█████▉    | 248/420 [07:54<05:04,  1.77s/it]"
     ]
    },
    {
     "name": "stdout",
     "output_type": "stream",
     "text": [
      "\n",
      "image 1/1 C:\\Users\\admin\\.cache\\kagglehub\\datasets\\pavansanagapati\\images-dataset\\versions\\1\\data\\cars\\carsgraz_249.bmp: 384x512 45 objects, 1383.3ms\n",
      "Speed: 7.0ms preprocess, 1383.3ms inference, 111.4ms postprocess per image at shape (1, 3, 384, 512)\n"
     ]
    },
    {
     "name": "stderr",
     "output_type": "stream",
     "text": [
      " 59%|█████▉    | 249/420 [07:55<04:52,  1.71s/it]"
     ]
    },
    {
     "name": "stdout",
     "output_type": "stream",
     "text": [
      "\n",
      "image 1/1 C:\\Users\\admin\\.cache\\kagglehub\\datasets\\pavansanagapati\\images-dataset\\versions\\1\\data\\cars\\carsgraz_250.bmp: 384x512 51 objects, 1382.1ms\n",
      "Speed: 2.7ms preprocess, 1382.1ms inference, 165.8ms postprocess per image at shape (1, 3, 384, 512)\n"
     ]
    },
    {
     "name": "stderr",
     "output_type": "stream",
     "text": [
      " 60%|█████▉    | 250/420 [07:57<04:45,  1.68s/it]"
     ]
    },
    {
     "name": "stdout",
     "output_type": "stream",
     "text": [
      "\n",
      "image 1/1 C:\\Users\\admin\\.cache\\kagglehub\\datasets\\pavansanagapati\\images-dataset\\versions\\1\\data\\cars\\carsgraz_251.bmp: 384x512 40 objects, 1511.3ms\n",
      "Speed: 2.4ms preprocess, 1511.3ms inference, 101.0ms postprocess per image at shape (1, 3, 384, 512)\n"
     ]
    },
    {
     "name": "stderr",
     "output_type": "stream",
     "text": [
      " 60%|█████▉    | 251/420 [07:59<04:43,  1.68s/it]"
     ]
    },
    {
     "name": "stdout",
     "output_type": "stream",
     "text": [
      "\n",
      "image 1/1 C:\\Users\\admin\\.cache\\kagglehub\\datasets\\pavansanagapati\\images-dataset\\versions\\1\\data\\cars\\carsgraz_252.bmp: 384x512 45 objects, 1514.3ms\n",
      "Speed: 2.3ms preprocess, 1514.3ms inference, 157.0ms postprocess per image at shape (1, 3, 384, 512)\n"
     ]
    },
    {
     "name": "stderr",
     "output_type": "stream",
     "text": [
      " 60%|██████    | 252/420 [08:01<04:45,  1.70s/it]"
     ]
    },
    {
     "name": "stdout",
     "output_type": "stream",
     "text": [
      "\n",
      "image 1/1 C:\\Users\\admin\\.cache\\kagglehub\\datasets\\pavansanagapati\\images-dataset\\versions\\1\\data\\cars\\carsgraz_253.bmp: 384x512 45 objects, 1369.4ms\n",
      "Speed: 2.6ms preprocess, 1369.4ms inference, 112.4ms postprocess per image at shape (1, 3, 384, 512)\n"
     ]
    },
    {
     "name": "stderr",
     "output_type": "stream",
     "text": [
      " 60%|██████    | 253/420 [08:02<04:35,  1.65s/it]"
     ]
    },
    {
     "name": "stdout",
     "output_type": "stream",
     "text": [
      "\n",
      "image 1/1 C:\\Users\\admin\\.cache\\kagglehub\\datasets\\pavansanagapati\\images-dataset\\versions\\1\\data\\cars\\carsgraz_254.bmp: 384x512 56 objects, 1681.4ms\n",
      "Speed: 2.6ms preprocess, 1681.4ms inference, 169.7ms postprocess per image at shape (1, 3, 384, 512)\n"
     ]
    },
    {
     "name": "stderr",
     "output_type": "stream",
     "text": [
      " 60%|██████    | 254/420 [08:04<04:46,  1.73s/it]"
     ]
    },
    {
     "name": "stdout",
     "output_type": "stream",
     "text": [
      "\n",
      "image 1/1 C:\\Users\\admin\\.cache\\kagglehub\\datasets\\pavansanagapati\\images-dataset\\versions\\1\\data\\cars\\carsgraz_255.bmp: 384x512 27 objects, 1583.2ms\n",
      "Speed: 2.9ms preprocess, 1583.2ms inference, 84.4ms postprocess per image at shape (1, 3, 384, 512)\n"
     ]
    },
    {
     "name": "stderr",
     "output_type": "stream",
     "text": [
      " 61%|██████    | 255/420 [08:06<04:45,  1.73s/it]"
     ]
    },
    {
     "name": "stdout",
     "output_type": "stream",
     "text": [
      "\n",
      "image 1/1 C:\\Users\\admin\\.cache\\kagglehub\\datasets\\pavansanagapati\\images-dataset\\versions\\1\\data\\cars\\carsgraz_256.bmp: 384x512 40 objects, 1953.3ms\n",
      "Speed: 7.4ms preprocess, 1953.3ms inference, 116.8ms postprocess per image at shape (1, 3, 384, 512)\n"
     ]
    },
    {
     "name": "stderr",
     "output_type": "stream",
     "text": [
      " 61%|██████    | 256/420 [08:08<05:04,  1.85s/it]"
     ]
    },
    {
     "name": "stdout",
     "output_type": "stream",
     "text": [
      "\n",
      "image 1/1 C:\\Users\\admin\\.cache\\kagglehub\\datasets\\pavansanagapati\\images-dataset\\versions\\1\\data\\cars\\carsgraz_257.bmp: 384x512 45 objects, 1696.8ms\n",
      "Speed: 4.1ms preprocess, 1696.8ms inference, 122.3ms postprocess per image at shape (1, 3, 384, 512)\n"
     ]
    },
    {
     "name": "stderr",
     "output_type": "stream",
     "text": [
      " 61%|██████    | 257/420 [08:10<05:03,  1.86s/it]"
     ]
    },
    {
     "name": "stdout",
     "output_type": "stream",
     "text": [
      "\n",
      "image 1/1 C:\\Users\\admin\\.cache\\kagglehub\\datasets\\pavansanagapati\\images-dataset\\versions\\1\\data\\cars\\carsgraz_258.bmp: 384x512 32 objects, 1785.2ms\n",
      "Speed: 2.5ms preprocess, 1785.2ms inference, 115.9ms postprocess per image at shape (1, 3, 384, 512)\n"
     ]
    },
    {
     "name": "stderr",
     "output_type": "stream",
     "text": [
      " 61%|██████▏   | 258/420 [08:12<05:07,  1.90s/it]"
     ]
    },
    {
     "name": "stdout",
     "output_type": "stream",
     "text": [
      "\n",
      "image 1/1 C:\\Users\\admin\\.cache\\kagglehub\\datasets\\pavansanagapati\\images-dataset\\versions\\1\\data\\cars\\carsgraz_259.bmp: 384x512 37 objects, 1853.9ms\n",
      "Speed: 5.4ms preprocess, 1853.9ms inference, 98.3ms postprocess per image at shape (1, 3, 384, 512)\n"
     ]
    },
    {
     "name": "stderr",
     "output_type": "stream",
     "text": [
      " 62%|██████▏   | 259/420 [08:14<05:12,  1.94s/it]"
     ]
    },
    {
     "name": "stdout",
     "output_type": "stream",
     "text": [
      "\n",
      "image 1/1 C:\\Users\\admin\\.cache\\kagglehub\\datasets\\pavansanagapati\\images-dataset\\versions\\1\\data\\cars\\carsgraz_260.bmp: 384x512 51 objects, 2088.5ms\n",
      "Speed: 5.4ms preprocess, 2088.5ms inference, 173.5ms postprocess per image at shape (1, 3, 384, 512)\n"
     ]
    },
    {
     "name": "stderr",
     "output_type": "stream",
     "text": [
      " 62%|██████▏   | 260/420 [08:16<05:29,  2.06s/it]"
     ]
    },
    {
     "name": "stdout",
     "output_type": "stream",
     "text": [
      "\n",
      "image 1/1 C:\\Users\\admin\\.cache\\kagglehub\\datasets\\pavansanagapati\\images-dataset\\versions\\1\\data\\cars\\carsgraz_261.bmp: 384x512 56 objects, 1564.6ms\n",
      "Speed: 9.2ms preprocess, 1564.6ms inference, 173.2ms postprocess per image at shape (1, 3, 384, 512)\n"
     ]
    },
    {
     "name": "stderr",
     "output_type": "stream",
     "text": [
      " 62%|██████▏   | 261/420 [08:18<05:16,  1.99s/it]"
     ]
    },
    {
     "name": "stdout",
     "output_type": "stream",
     "text": [
      "\n",
      "image 1/1 C:\\Users\\admin\\.cache\\kagglehub\\datasets\\pavansanagapati\\images-dataset\\versions\\1\\data\\cars\\carsgraz_262.bmp: 384x512 58 objects, 1454.5ms\n",
      "Speed: 2.9ms preprocess, 1454.5ms inference, 188.7ms postprocess per image at shape (1, 3, 384, 512)\n"
     ]
    },
    {
     "name": "stderr",
     "output_type": "stream",
     "text": [
      " 62%|██████▏   | 262/420 [08:20<05:00,  1.90s/it]"
     ]
    },
    {
     "name": "stdout",
     "output_type": "stream",
     "text": [
      "\n",
      "image 1/1 C:\\Users\\admin\\.cache\\kagglehub\\datasets\\pavansanagapati\\images-dataset\\versions\\1\\data\\cars\\carsgraz_263.bmp: 384x512 54 objects, 1414.6ms\n",
      "Speed: 2.8ms preprocess, 1414.6ms inference, 179.5ms postprocess per image at shape (1, 3, 384, 512)\n"
     ]
    },
    {
     "name": "stderr",
     "output_type": "stream",
     "text": [
      " 63%|██████▎   | 263/420 [08:21<04:47,  1.83s/it]"
     ]
    },
    {
     "name": "stdout",
     "output_type": "stream",
     "text": [
      "\n",
      "image 1/1 C:\\Users\\admin\\.cache\\kagglehub\\datasets\\pavansanagapati\\images-dataset\\versions\\1\\data\\cars\\carsgraz_264.bmp: 384x512 45 objects, 1839.4ms\n",
      "Speed: 3.2ms preprocess, 1839.4ms inference, 218.0ms postprocess per image at shape (1, 3, 384, 512)\n"
     ]
    },
    {
     "name": "stderr",
     "output_type": "stream",
     "text": [
      " 63%|██████▎   | 264/420 [08:23<04:59,  1.92s/it]"
     ]
    },
    {
     "name": "stdout",
     "output_type": "stream",
     "text": [
      "\n",
      "image 1/1 C:\\Users\\admin\\.cache\\kagglehub\\datasets\\pavansanagapati\\images-dataset\\versions\\1\\data\\cars\\carsgraz_265.bmp: 384x512 40 objects, 2766.7ms\n",
      "Speed: 12.7ms preprocess, 2766.7ms inference, 207.9ms postprocess per image at shape (1, 3, 384, 512)\n"
     ]
    },
    {
     "name": "stderr",
     "output_type": "stream",
     "text": [
      " 63%|██████▎   | 265/420 [08:27<05:52,  2.27s/it]"
     ]
    },
    {
     "name": "stdout",
     "output_type": "stream",
     "text": [
      "\n",
      "image 1/1 C:\\Users\\admin\\.cache\\kagglehub\\datasets\\pavansanagapati\\images-dataset\\versions\\1\\data\\cars\\carsgraz_266.bmp: 384x512 54 objects, 2087.3ms\n",
      "Speed: 6.9ms preprocess, 2087.3ms inference, 313.5ms postprocess per image at shape (1, 3, 384, 512)\n"
     ]
    },
    {
     "name": "stderr",
     "output_type": "stream",
     "text": [
      " 63%|██████▎   | 266/420 [08:29<06:05,  2.38s/it]"
     ]
    },
    {
     "name": "stdout",
     "output_type": "stream",
     "text": [
      "\n",
      "image 1/1 C:\\Users\\admin\\.cache\\kagglehub\\datasets\\pavansanagapati\\images-dataset\\versions\\1\\data\\cars\\carsgraz_267.bmp: 384x512 37 objects, 2224.3ms\n",
      "Speed: 3.1ms preprocess, 2224.3ms inference, 121.7ms postprocess per image at shape (1, 3, 384, 512)\n"
     ]
    },
    {
     "name": "stderr",
     "output_type": "stream",
     "text": [
      " 64%|██████▎   | 267/420 [08:32<06:05,  2.39s/it]"
     ]
    },
    {
     "name": "stdout",
     "output_type": "stream",
     "text": [
      "\n",
      "image 1/1 C:\\Users\\admin\\.cache\\kagglehub\\datasets\\pavansanagapati\\images-dataset\\versions\\1\\data\\cars\\carsgraz_268.bmp: 384x512 53 objects, 2011.9ms\n",
      "Speed: 2.6ms preprocess, 2011.9ms inference, 331.4ms postprocess per image at shape (1, 3, 384, 512)\n"
     ]
    },
    {
     "name": "stderr",
     "output_type": "stream",
     "text": [
      " 64%|██████▍   | 268/420 [08:34<06:06,  2.41s/it]"
     ]
    },
    {
     "name": "stdout",
     "output_type": "stream",
     "text": [
      "\n",
      "image 1/1 C:\\Users\\admin\\.cache\\kagglehub\\datasets\\pavansanagapati\\images-dataset\\versions\\1\\data\\cars\\carsgraz_269.bmp: 384x512 25 objects, 2825.4ms\n",
      "Speed: 21.2ms preprocess, 2825.4ms inference, 92.7ms postprocess per image at shape (1, 3, 384, 512)\n"
     ]
    },
    {
     "name": "stderr",
     "output_type": "stream",
     "text": [
      " 64%|██████▍   | 269/420 [08:37<06:31,  2.59s/it]"
     ]
    },
    {
     "name": "stdout",
     "output_type": "stream",
     "text": [
      "\n",
      "image 1/1 C:\\Users\\admin\\.cache\\kagglehub\\datasets\\pavansanagapati\\images-dataset\\versions\\1\\data\\cars\\carsgraz_270.bmp: 384x512 44 objects, 1616.4ms\n",
      "Speed: 4.0ms preprocess, 1616.4ms inference, 114.3ms postprocess per image at shape (1, 3, 384, 512)\n"
     ]
    },
    {
     "name": "stderr",
     "output_type": "stream",
     "text": [
      " 64%|██████▍   | 270/420 [08:39<06:03,  2.42s/it]"
     ]
    },
    {
     "name": "stdout",
     "output_type": "stream",
     "text": [
      "\n",
      "image 1/1 C:\\Users\\admin\\.cache\\kagglehub\\datasets\\pavansanagapati\\images-dataset\\versions\\1\\data\\cars\\carsgraz_271.bmp: 384x512 58 objects, 2012.0ms\n",
      "Speed: 16.4ms preprocess, 2012.0ms inference, 259.6ms postprocess per image at shape (1, 3, 384, 512)\n"
     ]
    },
    {
     "name": "stderr",
     "output_type": "stream",
     "text": [
      " 65%|██████▍   | 271/420 [08:41<05:59,  2.41s/it]"
     ]
    },
    {
     "name": "stdout",
     "output_type": "stream",
     "text": [
      "\n",
      "image 1/1 C:\\Users\\admin\\.cache\\kagglehub\\datasets\\pavansanagapati\\images-dataset\\versions\\1\\data\\cars\\carsgraz_272.bmp: 384x512 50 objects, 1801.6ms\n",
      "Speed: 11.2ms preprocess, 1801.6ms inference, 182.7ms postprocess per image at shape (1, 3, 384, 512)\n"
     ]
    },
    {
     "name": "stderr",
     "output_type": "stream",
     "text": [
      " 65%|██████▍   | 272/420 [08:44<05:41,  2.31s/it]"
     ]
    },
    {
     "name": "stdout",
     "output_type": "stream",
     "text": [
      "\n",
      "image 1/1 C:\\Users\\admin\\.cache\\kagglehub\\datasets\\pavansanagapati\\images-dataset\\versions\\1\\data\\cars\\carsgraz_273.bmp: 384x512 37 objects, 1754.3ms\n",
      "Speed: 6.2ms preprocess, 1754.3ms inference, 119.1ms postprocess per image at shape (1, 3, 384, 512)\n"
     ]
    },
    {
     "name": "stderr",
     "output_type": "stream",
     "text": [
      " 65%|██████▌   | 273/420 [08:45<05:24,  2.21s/it]"
     ]
    },
    {
     "name": "stdout",
     "output_type": "stream",
     "text": [
      "\n",
      "image 1/1 C:\\Users\\admin\\.cache\\kagglehub\\datasets\\pavansanagapati\\images-dataset\\versions\\1\\data\\cars\\carsgraz_274.bmp: 384x512 43 objects, 1740.0ms\n",
      "Speed: 3.7ms preprocess, 1740.0ms inference, 130.6ms postprocess per image at shape (1, 3, 384, 512)\n"
     ]
    },
    {
     "name": "stderr",
     "output_type": "stream",
     "text": [
      " 65%|██████▌   | 274/420 [08:47<05:11,  2.13s/it]"
     ]
    },
    {
     "name": "stdout",
     "output_type": "stream",
     "text": [
      "\n",
      "image 1/1 C:\\Users\\admin\\.cache\\kagglehub\\datasets\\pavansanagapati\\images-dataset\\versions\\1\\data\\cars\\carsgraz_275.bmp: 384x512 54 objects, 2012.6ms\n",
      "Speed: 4.7ms preprocess, 2012.6ms inference, 398.3ms postprocess per image at shape (1, 3, 384, 512)\n"
     ]
    },
    {
     "name": "stderr",
     "output_type": "stream",
     "text": [
      " 65%|██████▌   | 275/420 [08:50<05:31,  2.29s/it]"
     ]
    },
    {
     "name": "stdout",
     "output_type": "stream",
     "text": [
      "\n",
      "image 1/1 C:\\Users\\admin\\.cache\\kagglehub\\datasets\\pavansanagapati\\images-dataset\\versions\\1\\data\\cars\\carsgraz_276.bmp: 384x512 57 objects, 3294.7ms\n",
      "Speed: 12.7ms preprocess, 3294.7ms inference, 238.5ms postprocess per image at shape (1, 3, 384, 512)\n"
     ]
    },
    {
     "name": "stderr",
     "output_type": "stream",
     "text": [
      " 66%|██████▌   | 276/420 [08:54<06:31,  2.72s/it]"
     ]
    },
    {
     "name": "stdout",
     "output_type": "stream",
     "text": [
      "\n",
      "image 1/1 C:\\Users\\admin\\.cache\\kagglehub\\datasets\\pavansanagapati\\images-dataset\\versions\\1\\data\\cars\\carsgraz_277.bmp: 384x512 45 objects, 2609.4ms\n",
      "Speed: 3.3ms preprocess, 2609.4ms inference, 165.2ms postprocess per image at shape (1, 3, 384, 512)\n"
     ]
    },
    {
     "name": "stderr",
     "output_type": "stream",
     "text": [
      " 66%|██████▌   | 277/420 [08:57<06:34,  2.76s/it]"
     ]
    },
    {
     "name": "stdout",
     "output_type": "stream",
     "text": [
      "\n",
      "image 1/1 C:\\Users\\admin\\.cache\\kagglehub\\datasets\\pavansanagapati\\images-dataset\\versions\\1\\data\\cars\\carsgraz_278.bmp: 384x512 67 objects, 2279.6ms\n",
      "Speed: 5.0ms preprocess, 2279.6ms inference, 301.8ms postprocess per image at shape (1, 3, 384, 512)\n"
     ]
    },
    {
     "name": "stderr",
     "output_type": "stream",
     "text": [
      " 66%|██████▌   | 278/420 [08:59<06:30,  2.75s/it]"
     ]
    },
    {
     "name": "stdout",
     "output_type": "stream",
     "text": [
      "\n",
      "image 1/1 C:\\Users\\admin\\.cache\\kagglehub\\datasets\\pavansanagapati\\images-dataset\\versions\\1\\data\\cars\\carsgraz_279.bmp: 384x512 25 objects, 2691.0ms\n",
      "Speed: 8.9ms preprocess, 2691.0ms inference, 129.3ms postprocess per image at shape (1, 3, 384, 512)\n"
     ]
    },
    {
     "name": "stderr",
     "output_type": "stream",
     "text": [
      " 66%|██████▋   | 279/420 [09:02<06:33,  2.79s/it]"
     ]
    },
    {
     "name": "stdout",
     "output_type": "stream",
     "text": [
      "\n",
      "image 1/1 C:\\Users\\admin\\.cache\\kagglehub\\datasets\\pavansanagapati\\images-dataset\\versions\\1\\data\\cars\\carsgraz_280.bmp: 384x512 40 objects, 2185.7ms\n",
      "Speed: 6.5ms preprocess, 2185.7ms inference, 182.9ms postprocess per image at shape (1, 3, 384, 512)\n"
     ]
    },
    {
     "name": "stderr",
     "output_type": "stream",
     "text": [
      " 67%|██████▋   | 280/420 [09:05<06:16,  2.69s/it]"
     ]
    },
    {
     "name": "stdout",
     "output_type": "stream",
     "text": [
      "\n",
      "image 1/1 C:\\Users\\admin\\.cache\\kagglehub\\datasets\\pavansanagapati\\images-dataset\\versions\\1\\data\\cars\\carsgraz_281.bmp: 384x512 49 objects, 2247.1ms\n",
      "Speed: 2.5ms preprocess, 2247.1ms inference, 176.4ms postprocess per image at shape (1, 3, 384, 512)\n"
     ]
    },
    {
     "name": "stderr",
     "output_type": "stream",
     "text": [
      " 67%|██████▋   | 281/420 [09:07<06:05,  2.63s/it]"
     ]
    },
    {
     "name": "stdout",
     "output_type": "stream",
     "text": [
      "\n",
      "image 1/1 C:\\Users\\admin\\.cache\\kagglehub\\datasets\\pavansanagapati\\images-dataset\\versions\\1\\data\\cars\\carsgraz_282.bmp: 384x512 50 objects, 2915.1ms\n",
      "Speed: 7.2ms preprocess, 2915.1ms inference, 202.8ms postprocess per image at shape (1, 3, 384, 512)\n"
     ]
    },
    {
     "name": "stderr",
     "output_type": "stream",
     "text": [
      " 67%|██████▋   | 282/420 [09:10<06:25,  2.80s/it]"
     ]
    },
    {
     "name": "stdout",
     "output_type": "stream",
     "text": [
      "\n",
      "image 1/1 C:\\Users\\admin\\.cache\\kagglehub\\datasets\\pavansanagapati\\images-dataset\\versions\\1\\data\\cars\\carsgraz_283.bmp: 384x512 55 objects, 2014.9ms\n",
      "Speed: 3.8ms preprocess, 2014.9ms inference, 279.3ms postprocess per image at shape (1, 3, 384, 512)\n"
     ]
    },
    {
     "name": "stderr",
     "output_type": "stream",
     "text": [
      " 67%|██████▋   | 283/420 [09:13<06:06,  2.68s/it]"
     ]
    },
    {
     "name": "stdout",
     "output_type": "stream",
     "text": [
      "\n",
      "image 1/1 C:\\Users\\admin\\.cache\\kagglehub\\datasets\\pavansanagapati\\images-dataset\\versions\\1\\data\\cars\\carsgraz_284.bmp: 384x512 26 objects, 2410.1ms\n",
      "Speed: 2.3ms preprocess, 2410.1ms inference, 80.4ms postprocess per image at shape (1, 3, 384, 512)\n"
     ]
    },
    {
     "name": "stderr",
     "output_type": "stream",
     "text": [
      " 68%|██████▊   | 284/420 [09:15<05:58,  2.64s/it]"
     ]
    },
    {
     "name": "stdout",
     "output_type": "stream",
     "text": [
      "\n",
      "image 1/1 C:\\Users\\admin\\.cache\\kagglehub\\datasets\\pavansanagapati\\images-dataset\\versions\\1\\data\\cars\\carsgraz_285.bmp: 384x512 31 objects, 2228.9ms\n",
      "Speed: 2.8ms preprocess, 2228.9ms inference, 94.7ms postprocess per image at shape (1, 3, 384, 512)\n"
     ]
    },
    {
     "name": "stderr",
     "output_type": "stream",
     "text": [
      " 68%|██████▊   | 285/420 [09:18<05:46,  2.57s/it]"
     ]
    },
    {
     "name": "stdout",
     "output_type": "stream",
     "text": [
      "\n",
      "image 1/1 C:\\Users\\admin\\.cache\\kagglehub\\datasets\\pavansanagapati\\images-dataset\\versions\\1\\data\\cars\\carsgraz_286.bmp: 384x512 48 objects, 2599.3ms\n",
      "Speed: 7.1ms preprocess, 2599.3ms inference, 174.6ms postprocess per image at shape (1, 3, 384, 512)\n"
     ]
    },
    {
     "name": "stderr",
     "output_type": "stream",
     "text": [
      " 68%|██████▊   | 286/420 [09:21<05:55,  2.65s/it]"
     ]
    },
    {
     "name": "stdout",
     "output_type": "stream",
     "text": [
      "\n",
      "image 1/1 C:\\Users\\admin\\.cache\\kagglehub\\datasets\\pavansanagapati\\images-dataset\\versions\\1\\data\\cars\\carsgraz_287.bmp: 384x512 48 objects, 1952.5ms\n",
      "Speed: 8.6ms preprocess, 1952.5ms inference, 170.8ms postprocess per image at shape (1, 3, 384, 512)\n"
     ]
    },
    {
     "name": "stderr",
     "output_type": "stream",
     "text": [
      " 68%|██████▊   | 287/420 [09:23<05:35,  2.52s/it]"
     ]
    },
    {
     "name": "stdout",
     "output_type": "stream",
     "text": [
      "\n",
      "image 1/1 C:\\Users\\admin\\.cache\\kagglehub\\datasets\\pavansanagapati\\images-dataset\\versions\\1\\data\\cars\\carsgraz_288.bmp: 384x512 48 objects, 1925.5ms\n",
      "Speed: 3.1ms preprocess, 1925.5ms inference, 129.7ms postprocess per image at shape (1, 3, 384, 512)\n"
     ]
    },
    {
     "name": "stderr",
     "output_type": "stream",
     "text": [
      " 69%|██████▊   | 288/420 [09:25<05:17,  2.40s/it]"
     ]
    },
    {
     "name": "stdout",
     "output_type": "stream",
     "text": [
      "\n",
      "image 1/1 C:\\Users\\admin\\.cache\\kagglehub\\datasets\\pavansanagapati\\images-dataset\\versions\\1\\data\\cars\\carsgraz_289.bmp: 384x512 50 objects, 1634.5ms\n",
      "Speed: 2.2ms preprocess, 1634.5ms inference, 160.8ms postprocess per image at shape (1, 3, 384, 512)\n"
     ]
    },
    {
     "name": "stderr",
     "output_type": "stream",
     "text": [
      " 69%|██████▉   | 289/420 [09:27<04:53,  2.24s/it]"
     ]
    },
    {
     "name": "stdout",
     "output_type": "stream",
     "text": [
      "\n",
      "image 1/1 C:\\Users\\admin\\.cache\\kagglehub\\datasets\\pavansanagapati\\images-dataset\\versions\\1\\data\\cars\\carsgraz_290.bmp: 384x512 45 objects, 1482.7ms\n",
      "Speed: 3.4ms preprocess, 1482.7ms inference, 110.4ms postprocess per image at shape (1, 3, 384, 512)\n"
     ]
    },
    {
     "name": "stderr",
     "output_type": "stream",
     "text": [
      " 69%|██████▉   | 290/420 [09:28<04:29,  2.07s/it]"
     ]
    },
    {
     "name": "stdout",
     "output_type": "stream",
     "text": [
      "\n",
      "image 1/1 C:\\Users\\admin\\.cache\\kagglehub\\datasets\\pavansanagapati\\images-dataset\\versions\\1\\data\\cars\\carsgraz_291.bmp: 384x512 36 objects, 1714.6ms\n",
      "Speed: 2.2ms preprocess, 1714.6ms inference, 100.6ms postprocess per image at shape (1, 3, 384, 512)\n"
     ]
    },
    {
     "name": "stderr",
     "output_type": "stream",
     "text": [
      " 69%|██████▉   | 291/420 [09:30<04:19,  2.01s/it]"
     ]
    },
    {
     "name": "stdout",
     "output_type": "stream",
     "text": [
      "\n",
      "image 1/1 C:\\Users\\admin\\.cache\\kagglehub\\datasets\\pavansanagapati\\images-dataset\\versions\\1\\data\\cars\\carsgraz_292.bmp: 384x512 49 objects, 2096.0ms\n",
      "Speed: 3.3ms preprocess, 2096.0ms inference, 158.7ms postprocess per image at shape (1, 3, 384, 512)\n"
     ]
    },
    {
     "name": "stderr",
     "output_type": "stream",
     "text": [
      " 70%|██████▉   | 292/420 [09:33<04:29,  2.11s/it]"
     ]
    },
    {
     "name": "stdout",
     "output_type": "stream",
     "text": [
      "\n",
      "image 1/1 C:\\Users\\admin\\.cache\\kagglehub\\datasets\\pavansanagapati\\images-dataset\\versions\\1\\data\\cars\\carsgraz_293.bmp: 384x512 70 objects, 1770.2ms\n",
      "Speed: 6.9ms preprocess, 1770.2ms inference, 246.2ms postprocess per image at shape (1, 3, 384, 512)\n"
     ]
    },
    {
     "name": "stderr",
     "output_type": "stream",
     "text": [
      " 70%|██████▉   | 293/420 [09:35<04:27,  2.11s/it]"
     ]
    },
    {
     "name": "stdout",
     "output_type": "stream",
     "text": [
      "\n",
      "image 1/1 C:\\Users\\admin\\.cache\\kagglehub\\datasets\\pavansanagapati\\images-dataset\\versions\\1\\data\\cars\\carsgraz_294.bmp: 384x512 31 objects, 1710.1ms\n",
      "Speed: 2.6ms preprocess, 1710.1ms inference, 105.3ms postprocess per image at shape (1, 3, 384, 512)\n"
     ]
    },
    {
     "name": "stderr",
     "output_type": "stream",
     "text": [
      " 70%|███████   | 294/420 [09:37<04:19,  2.06s/it]"
     ]
    },
    {
     "name": "stdout",
     "output_type": "stream",
     "text": [
      "\n",
      "image 1/1 C:\\Users\\admin\\.cache\\kagglehub\\datasets\\pavansanagapati\\images-dataset\\versions\\1\\data\\cars\\carsgraz_295.bmp: 384x512 65 objects, 2308.7ms\n",
      "Speed: 3.1ms preprocess, 2308.7ms inference, 247.6ms postprocess per image at shape (1, 3, 384, 512)\n"
     ]
    },
    {
     "name": "stderr",
     "output_type": "stream",
     "text": [
      " 70%|███████   | 295/420 [09:39<04:40,  2.24s/it]"
     ]
    },
    {
     "name": "stdout",
     "output_type": "stream",
     "text": [
      "\n",
      "image 1/1 C:\\Users\\admin\\.cache\\kagglehub\\datasets\\pavansanagapati\\images-dataset\\versions\\1\\data\\cars\\carsgraz_296.bmp: 384x512 69 objects, 2038.2ms\n",
      "Speed: 8.5ms preprocess, 2038.2ms inference, 290.3ms postprocess per image at shape (1, 3, 384, 512)\n"
     ]
    },
    {
     "name": "stderr",
     "output_type": "stream",
     "text": [
      " 70%|███████   | 296/420 [09:42<04:46,  2.31s/it]"
     ]
    },
    {
     "name": "stdout",
     "output_type": "stream",
     "text": [
      "\n",
      "image 1/1 C:\\Users\\admin\\.cache\\kagglehub\\datasets\\pavansanagapati\\images-dataset\\versions\\1\\data\\cars\\carsgraz_297.bmp: 384x512 66 objects, 2678.9ms\n",
      "Speed: 33.8ms preprocess, 2678.9ms inference, 210.2ms postprocess per image at shape (1, 3, 384, 512)\n"
     ]
    },
    {
     "name": "stderr",
     "output_type": "stream",
     "text": [
      " 71%|███████   | 297/420 [09:45<05:10,  2.52s/it]"
     ]
    },
    {
     "name": "stdout",
     "output_type": "stream",
     "text": [
      "\n",
      "image 1/1 C:\\Users\\admin\\.cache\\kagglehub\\datasets\\pavansanagapati\\images-dataset\\versions\\1\\data\\cars\\carsgraz_298.bmp: 384x512 34 objects, 2425.9ms\n",
      "Speed: 3.6ms preprocess, 2425.9ms inference, 419.8ms postprocess per image at shape (1, 3, 384, 512)\n"
     ]
    },
    {
     "name": "stderr",
     "output_type": "stream",
     "text": [
      " 71%|███████   | 298/420 [09:48<05:30,  2.71s/it]"
     ]
    },
    {
     "name": "stdout",
     "output_type": "stream",
     "text": [
      "\n",
      "image 1/1 C:\\Users\\admin\\.cache\\kagglehub\\datasets\\pavansanagapati\\images-dataset\\versions\\1\\data\\cars\\carsgraz_299.bmp: 384x512 36 objects, 2362.9ms\n",
      "Speed: 17.0ms preprocess, 2362.9ms inference, 99.6ms postprocess per image at shape (1, 3, 384, 512)\n"
     ]
    },
    {
     "name": "stderr",
     "output_type": "stream",
     "text": [
      " 71%|███████   | 299/420 [09:51<05:24,  2.68s/it]"
     ]
    },
    {
     "name": "stdout",
     "output_type": "stream",
     "text": [
      "\n",
      "image 1/1 C:\\Users\\admin\\.cache\\kagglehub\\datasets\\pavansanagapati\\images-dataset\\versions\\1\\data\\cars\\carsgraz_300.bmp: 384x512 49 objects, 1574.2ms\n",
      "Speed: 8.3ms preprocess, 1574.2ms inference, 127.2ms postprocess per image at shape (1, 3, 384, 512)\n"
     ]
    },
    {
     "name": "stderr",
     "output_type": "stream",
     "text": [
      " 71%|███████▏  | 300/420 [09:52<04:48,  2.41s/it]"
     ]
    },
    {
     "name": "stdout",
     "output_type": "stream",
     "text": [
      "\n",
      "image 1/1 C:\\Users\\admin\\.cache\\kagglehub\\datasets\\pavansanagapati\\images-dataset\\versions\\1\\data\\cars\\carsgraz_301.bmp: 384x512 51 objects, 1782.1ms\n",
      "Speed: 2.6ms preprocess, 1782.1ms inference, 199.2ms postprocess per image at shape (1, 3, 384, 512)\n"
     ]
    },
    {
     "name": "stderr",
     "output_type": "stream",
     "text": [
      " 72%|███████▏  | 301/420 [09:54<04:33,  2.30s/it]"
     ]
    },
    {
     "name": "stdout",
     "output_type": "stream",
     "text": [
      "\n",
      "image 1/1 C:\\Users\\admin\\.cache\\kagglehub\\datasets\\pavansanagapati\\images-dataset\\versions\\1\\data\\cars\\carsgraz_302.bmp: 384x512 25 objects, 1825.2ms\n",
      "Speed: 2.4ms preprocess, 1825.2ms inference, 438.2ms postprocess per image at shape (1, 3, 384, 512)\n"
     ]
    },
    {
     "name": "stderr",
     "output_type": "stream",
     "text": [
      " 72%|███████▏  | 302/420 [09:57<04:33,  2.32s/it]"
     ]
    },
    {
     "name": "stdout",
     "output_type": "stream",
     "text": [
      "\n",
      "image 1/1 C:\\Users\\admin\\.cache\\kagglehub\\datasets\\pavansanagapati\\images-dataset\\versions\\1\\data\\cars\\carsgraz_303.bmp: 384x512 53 objects, 1608.8ms\n",
      "Speed: 2.9ms preprocess, 1608.8ms inference, 207.0ms postprocess per image at shape (1, 3, 384, 512)\n"
     ]
    },
    {
     "name": "stderr",
     "output_type": "stream",
     "text": [
      " 72%|███████▏  | 303/420 [09:59<04:19,  2.22s/it]"
     ]
    },
    {
     "name": "stdout",
     "output_type": "stream",
     "text": [
      "\n",
      "image 1/1 C:\\Users\\admin\\.cache\\kagglehub\\datasets\\pavansanagapati\\images-dataset\\versions\\1\\data\\cars\\carsgraz_304.bmp: 384x512 48 objects, 1755.6ms\n",
      "Speed: 3.0ms preprocess, 1755.6ms inference, 139.7ms postprocess per image at shape (1, 3, 384, 512)\n"
     ]
    },
    {
     "name": "stderr",
     "output_type": "stream",
     "text": [
      " 72%|███████▏  | 304/420 [10:01<04:08,  2.14s/it]"
     ]
    },
    {
     "name": "stdout",
     "output_type": "stream",
     "text": [
      "\n",
      "image 1/1 C:\\Users\\admin\\.cache\\kagglehub\\datasets\\pavansanagapati\\images-dataset\\versions\\1\\data\\cars\\carsgraz_305.bmp: 384x512 28 objects, 1563.4ms\n",
      "Speed: 6.2ms preprocess, 1563.4ms inference, 71.1ms postprocess per image at shape (1, 3, 384, 512)\n"
     ]
    },
    {
     "name": "stderr",
     "output_type": "stream",
     "text": [
      " 73%|███████▎  | 305/420 [10:02<03:51,  2.01s/it]"
     ]
    },
    {
     "name": "stdout",
     "output_type": "stream",
     "text": [
      "\n",
      "image 1/1 C:\\Users\\admin\\.cache\\kagglehub\\datasets\\pavansanagapati\\images-dataset\\versions\\1\\data\\cars\\carsgraz_306.bmp: 384x512 56 objects, 1760.0ms\n",
      "Speed: 8.9ms preprocess, 1760.0ms inference, 227.9ms postprocess per image at shape (1, 3, 384, 512)\n"
     ]
    },
    {
     "name": "stderr",
     "output_type": "stream",
     "text": [
      " 73%|███████▎  | 306/420 [10:05<03:51,  2.03s/it]"
     ]
    },
    {
     "name": "stdout",
     "output_type": "stream",
     "text": [
      "\n",
      "image 1/1 C:\\Users\\admin\\.cache\\kagglehub\\datasets\\pavansanagapati\\images-dataset\\versions\\1\\data\\cars\\carsgraz_307.bmp: 384x512 51 objects, 1881.5ms\n",
      "Speed: 2.0ms preprocess, 1881.5ms inference, 227.1ms postprocess per image at shape (1, 3, 384, 512)\n"
     ]
    },
    {
     "name": "stderr",
     "output_type": "stream",
     "text": [
      " 73%|███████▎  | 307/420 [10:07<03:55,  2.08s/it]"
     ]
    },
    {
     "name": "stdout",
     "output_type": "stream",
     "text": [
      "\n",
      "image 1/1 C:\\Users\\admin\\.cache\\kagglehub\\datasets\\pavansanagapati\\images-dataset\\versions\\1\\data\\cars\\carsgraz_308.bmp: 384x512 34 objects, 1926.4ms\n",
      "Speed: 4.7ms preprocess, 1926.4ms inference, 102.1ms postprocess per image at shape (1, 3, 384, 512)\n"
     ]
    },
    {
     "name": "stderr",
     "output_type": "stream",
     "text": [
      " 73%|███████▎  | 308/420 [10:09<03:53,  2.08s/it]"
     ]
    },
    {
     "name": "stdout",
     "output_type": "stream",
     "text": [
      "\n",
      "image 1/1 C:\\Users\\admin\\.cache\\kagglehub\\datasets\\pavansanagapati\\images-dataset\\versions\\1\\data\\cars\\carsgraz_309.bmp: 384x512 43 objects, 1910.5ms\n",
      "Speed: 4.9ms preprocess, 1910.5ms inference, 156.4ms postprocess per image at shape (1, 3, 384, 512)\n"
     ]
    },
    {
     "name": "stderr",
     "output_type": "stream",
     "text": [
      " 74%|███████▎  | 309/420 [10:11<03:53,  2.10s/it]"
     ]
    },
    {
     "name": "stdout",
     "output_type": "stream",
     "text": [
      "\n",
      "image 1/1 C:\\Users\\admin\\.cache\\kagglehub\\datasets\\pavansanagapati\\images-dataset\\versions\\1\\data\\cars\\carsgraz_310.bmp: 384x512 23 objects, 1701.2ms\n",
      "Speed: 7.3ms preprocess, 1701.2ms inference, 65.3ms postprocess per image at shape (1, 3, 384, 512)\n"
     ]
    },
    {
     "name": "stderr",
     "output_type": "stream",
     "text": [
      " 74%|███████▍  | 310/420 [10:13<03:42,  2.02s/it]"
     ]
    },
    {
     "name": "stdout",
     "output_type": "stream",
     "text": [
      "\n",
      "image 1/1 C:\\Users\\admin\\.cache\\kagglehub\\datasets\\pavansanagapati\\images-dataset\\versions\\1\\data\\cars\\carsgraz_311.bmp: 384x512 41 objects, 1825.6ms\n",
      "Speed: 2.1ms preprocess, 1825.6ms inference, 105.0ms postprocess per image at shape (1, 3, 384, 512)\n"
     ]
    },
    {
     "name": "stderr",
     "output_type": "stream",
     "text": [
      " 74%|███████▍  | 311/420 [10:15<03:39,  2.01s/it]"
     ]
    },
    {
     "name": "stdout",
     "output_type": "stream",
     "text": [
      "\n",
      "image 1/1 C:\\Users\\admin\\.cache\\kagglehub\\datasets\\pavansanagapati\\images-dataset\\versions\\1\\data\\cars\\carsgraz_312.bmp: 384x512 34 objects, 1494.9ms\n",
      "Speed: 2.2ms preprocess, 1494.9ms inference, 98.0ms postprocess per image at shape (1, 3, 384, 512)\n"
     ]
    },
    {
     "name": "stderr",
     "output_type": "stream",
     "text": [
      " 74%|███████▍  | 312/420 [10:16<03:26,  1.91s/it]"
     ]
    },
    {
     "name": "stdout",
     "output_type": "stream",
     "text": [
      "\n",
      "image 1/1 C:\\Users\\admin\\.cache\\kagglehub\\datasets\\pavansanagapati\\images-dataset\\versions\\1\\data\\cars\\carsgraz_313.bmp: 384x512 35 objects, 1673.2ms\n",
      "Speed: 2.5ms preprocess, 1673.2ms inference, 93.1ms postprocess per image at shape (1, 3, 384, 512)\n"
     ]
    },
    {
     "name": "stderr",
     "output_type": "stream",
     "text": [
      " 75%|███████▍  | 313/420 [10:18<03:21,  1.89s/it]"
     ]
    },
    {
     "name": "stdout",
     "output_type": "stream",
     "text": [
      "\n",
      "image 1/1 C:\\Users\\admin\\.cache\\kagglehub\\datasets\\pavansanagapati\\images-dataset\\versions\\1\\data\\cars\\carsgraz_314.bmp: 384x512 34 objects, 1424.4ms\n",
      "Speed: 2.5ms preprocess, 1424.4ms inference, 97.5ms postprocess per image at shape (1, 3, 384, 512)\n"
     ]
    },
    {
     "name": "stderr",
     "output_type": "stream",
     "text": [
      " 75%|███████▍  | 314/420 [10:20<03:10,  1.80s/it]"
     ]
    },
    {
     "name": "stdout",
     "output_type": "stream",
     "text": [
      "\n",
      "image 1/1 C:\\Users\\admin\\.cache\\kagglehub\\datasets\\pavansanagapati\\images-dataset\\versions\\1\\data\\cars\\carsgraz_315.bmp: 384x512 32 objects, 1756.7ms\n",
      "Speed: 13.3ms preprocess, 1756.7ms inference, 121.1ms postprocess per image at shape (1, 3, 384, 512)\n"
     ]
    },
    {
     "name": "stderr",
     "output_type": "stream",
     "text": [
      " 75%|███████▌  | 315/420 [10:22<03:18,  1.89s/it]"
     ]
    },
    {
     "name": "stdout",
     "output_type": "stream",
     "text": [
      "\n",
      "image 1/1 C:\\Users\\admin\\.cache\\kagglehub\\datasets\\pavansanagapati\\images-dataset\\versions\\1\\data\\cars\\carsgraz_316.bmp: 384x512 32 objects, 1587.0ms\n",
      "Speed: 4.3ms preprocess, 1587.0ms inference, 84.5ms postprocess per image at shape (1, 3, 384, 512)\n"
     ]
    },
    {
     "name": "stderr",
     "output_type": "stream",
     "text": [
      " 75%|███████▌  | 316/420 [10:24<03:11,  1.84s/it]"
     ]
    },
    {
     "name": "stdout",
     "output_type": "stream",
     "text": [
      "\n",
      "image 1/1 C:\\Users\\admin\\.cache\\kagglehub\\datasets\\pavansanagapati\\images-dataset\\versions\\1\\data\\cars\\carsgraz_317.bmp: 384x512 80 objects, 1484.6ms\n",
      "Speed: 6.4ms preprocess, 1484.6ms inference, 311.8ms postprocess per image at shape (1, 3, 384, 512)\n"
     ]
    },
    {
     "name": "stderr",
     "output_type": "stream",
     "text": [
      " 75%|███████▌  | 317/420 [10:26<03:12,  1.87s/it]"
     ]
    },
    {
     "name": "stdout",
     "output_type": "stream",
     "text": [
      "\n",
      "image 1/1 C:\\Users\\admin\\.cache\\kagglehub\\datasets\\pavansanagapati\\images-dataset\\versions\\1\\data\\cars\\carsgraz_318.bmp: 384x512 64 objects, 1846.4ms\n",
      "Speed: 2.4ms preprocess, 1846.4ms inference, 246.7ms postprocess per image at shape (1, 3, 384, 512)\n"
     ]
    },
    {
     "name": "stderr",
     "output_type": "stream",
     "text": [
      " 76%|███████▌  | 318/420 [10:28<03:20,  1.97s/it]"
     ]
    },
    {
     "name": "stdout",
     "output_type": "stream",
     "text": [
      "\n",
      "image 1/1 C:\\Users\\admin\\.cache\\kagglehub\\datasets\\pavansanagapati\\images-dataset\\versions\\1\\data\\cars\\carsgraz_319.bmp: 384x512 33 objects, 1882.7ms\n",
      "Speed: 2.7ms preprocess, 1882.7ms inference, 96.9ms postprocess per image at shape (1, 3, 384, 512)\n"
     ]
    },
    {
     "name": "stderr",
     "output_type": "stream",
     "text": [
      " 76%|███████▌  | 319/420 [10:30<03:21,  2.00s/it]"
     ]
    },
    {
     "name": "stdout",
     "output_type": "stream",
     "text": [
      "\n",
      "image 1/1 C:\\Users\\admin\\.cache\\kagglehub\\datasets\\pavansanagapati\\images-dataset\\versions\\1\\data\\cars\\carsgraz_320.bmp: 384x512 49 objects, 1734.4ms\n",
      "Speed: 4.3ms preprocess, 1734.4ms inference, 149.2ms postprocess per image at shape (1, 3, 384, 512)\n"
     ]
    },
    {
     "name": "stderr",
     "output_type": "stream",
     "text": [
      " 76%|███████▌  | 320/420 [10:32<03:19,  1.99s/it]"
     ]
    },
    {
     "name": "stdout",
     "output_type": "stream",
     "text": [
      "\n",
      "image 1/1 C:\\Users\\admin\\.cache\\kagglehub\\datasets\\pavansanagapati\\images-dataset\\versions\\1\\data\\cars\\carsgraz_321.bmp: 384x512 38 objects, 1746.8ms\n",
      "Speed: 4.5ms preprocess, 1746.8ms inference, 157.9ms postprocess per image at shape (1, 3, 384, 512)\n"
     ]
    },
    {
     "name": "stderr",
     "output_type": "stream",
     "text": [
      " 76%|███████▋  | 321/420 [10:34<03:16,  1.99s/it]"
     ]
    },
    {
     "name": "stdout",
     "output_type": "stream",
     "text": [
      "\n",
      "image 1/1 C:\\Users\\admin\\.cache\\kagglehub\\datasets\\pavansanagapati\\images-dataset\\versions\\1\\data\\cars\\carsgraz_322.bmp: 384x512 39 objects, 2402.5ms\n",
      "Speed: 7.5ms preprocess, 2402.5ms inference, 135.6ms postprocess per image at shape (1, 3, 384, 512)\n"
     ]
    },
    {
     "name": "stderr",
     "output_type": "stream",
     "text": [
      " 77%|███████▋  | 322/420 [10:37<03:33,  2.18s/it]"
     ]
    },
    {
     "name": "stdout",
     "output_type": "stream",
     "text": [
      "\n",
      "image 1/1 C:\\Users\\admin\\.cache\\kagglehub\\datasets\\pavansanagapati\\images-dataset\\versions\\1\\data\\cars\\carsgraz_323.bmp: 384x512 17 objects, 1646.7ms\n",
      "Speed: 6.1ms preprocess, 1646.7ms inference, 49.3ms postprocess per image at shape (1, 3, 384, 512)\n"
     ]
    },
    {
     "name": "stderr",
     "output_type": "stream",
     "text": [
      " 77%|███████▋  | 323/420 [10:38<03:18,  2.05s/it]"
     ]
    },
    {
     "name": "stdout",
     "output_type": "stream",
     "text": [
      "\n",
      "image 1/1 C:\\Users\\admin\\.cache\\kagglehub\\datasets\\pavansanagapati\\images-dataset\\versions\\1\\data\\cars\\carsgraz_324.bmp: 384x512 76 objects, 1687.1ms\n",
      "Speed: 2.6ms preprocess, 1687.1ms inference, 337.9ms postprocess per image at shape (1, 3, 384, 512)\n"
     ]
    },
    {
     "name": "stderr",
     "output_type": "stream",
     "text": [
      " 77%|███████▋  | 324/420 [10:40<03:18,  2.07s/it]"
     ]
    },
    {
     "name": "stdout",
     "output_type": "stream",
     "text": [
      "\n",
      "image 1/1 C:\\Users\\admin\\.cache\\kagglehub\\datasets\\pavansanagapati\\images-dataset\\versions\\1\\data\\cars\\carsgraz_325.bmp: 384x512 60 objects, 1663.7ms\n",
      "Speed: 2.0ms preprocess, 1663.7ms inference, 182.9ms postprocess per image at shape (1, 3, 384, 512)\n"
     ]
    },
    {
     "name": "stderr",
     "output_type": "stream",
     "text": [
      " 77%|███████▋  | 325/420 [10:42<03:12,  2.03s/it]"
     ]
    },
    {
     "name": "stdout",
     "output_type": "stream",
     "text": [
      "\n",
      "image 1/1 C:\\Users\\admin\\.cache\\kagglehub\\datasets\\pavansanagapati\\images-dataset\\versions\\1\\data\\cars\\carsgraz_326.bmp: 384x512 63 objects, 1978.1ms\n",
      "Speed: 2.0ms preprocess, 1978.1ms inference, 237.8ms postprocess per image at shape (1, 3, 384, 512)\n"
     ]
    },
    {
     "name": "stderr",
     "output_type": "stream",
     "text": [
      " 78%|███████▊  | 326/420 [10:45<03:18,  2.11s/it]"
     ]
    },
    {
     "name": "stdout",
     "output_type": "stream",
     "text": [
      "\n",
      "image 1/1 C:\\Users\\admin\\.cache\\kagglehub\\datasets\\pavansanagapati\\images-dataset\\versions\\1\\data\\cars\\carsgraz_327.bmp: 384x512 51 objects, 1503.9ms\n",
      "Speed: 1.9ms preprocess, 1503.9ms inference, 237.0ms postprocess per image at shape (1, 3, 384, 512)\n"
     ]
    },
    {
     "name": "stderr",
     "output_type": "stream",
     "text": [
      " 78%|███████▊  | 327/420 [10:46<03:08,  2.02s/it]"
     ]
    },
    {
     "name": "stdout",
     "output_type": "stream",
     "text": [
      "\n",
      "image 1/1 C:\\Users\\admin\\.cache\\kagglehub\\datasets\\pavansanagapati\\images-dataset\\versions\\1\\data\\cars\\carsgraz_328.bmp: 384x512 46 objects, 2000.7ms\n",
      "Speed: 7.3ms preprocess, 2000.7ms inference, 157.9ms postprocess per image at shape (1, 3, 384, 512)\n"
     ]
    },
    {
     "name": "stderr",
     "output_type": "stream",
     "text": [
      " 78%|███████▊  | 328/420 [10:49<03:12,  2.09s/it]"
     ]
    },
    {
     "name": "stdout",
     "output_type": "stream",
     "text": [
      "\n",
      "image 1/1 C:\\Users\\admin\\.cache\\kagglehub\\datasets\\pavansanagapati\\images-dataset\\versions\\1\\data\\cars\\carsgraz_329.bmp: 384x512 80 objects, 1495.2ms\n",
      "Speed: 2.7ms preprocess, 1495.2ms inference, 242.4ms postprocess per image at shape (1, 3, 384, 512)\n"
     ]
    },
    {
     "name": "stderr",
     "output_type": "stream",
     "text": [
      " 78%|███████▊  | 329/420 [10:51<03:02,  2.01s/it]"
     ]
    },
    {
     "name": "stdout",
     "output_type": "stream",
     "text": [
      "\n",
      "image 1/1 C:\\Users\\admin\\.cache\\kagglehub\\datasets\\pavansanagapati\\images-dataset\\versions\\1\\data\\cars\\carsgraz_330.bmp: 384x512 52 objects, 1519.8ms\n",
      "Speed: 2.1ms preprocess, 1519.8ms inference, 175.8ms postprocess per image at shape (1, 3, 384, 512)\n"
     ]
    },
    {
     "name": "stderr",
     "output_type": "stream",
     "text": [
      " 79%|███████▊  | 330/420 [10:52<02:53,  1.93s/it]"
     ]
    },
    {
     "name": "stdout",
     "output_type": "stream",
     "text": [
      "\n",
      "image 1/1 C:\\Users\\admin\\.cache\\kagglehub\\datasets\\pavansanagapati\\images-dataset\\versions\\1\\data\\cars\\carsgraz_331.bmp: 384x512 37 objects, 1544.8ms\n",
      "Speed: 2.1ms preprocess, 1544.8ms inference, 97.8ms postprocess per image at shape (1, 3, 384, 512)\n"
     ]
    },
    {
     "name": "stderr",
     "output_type": "stream",
     "text": [
      " 79%|███████▉  | 331/420 [10:54<02:45,  1.86s/it]"
     ]
    },
    {
     "name": "stdout",
     "output_type": "stream",
     "text": [
      "\n",
      "image 1/1 C:\\Users\\admin\\.cache\\kagglehub\\datasets\\pavansanagapati\\images-dataset\\versions\\1\\data\\cars\\carsgraz_332.bmp: 384x512 39 objects, 1646.7ms\n",
      "Speed: 13.1ms preprocess, 1646.7ms inference, 116.5ms postprocess per image at shape (1, 3, 384, 512)\n"
     ]
    },
    {
     "name": "stderr",
     "output_type": "stream",
     "text": [
      " 79%|███████▉  | 332/420 [10:56<02:43,  1.85s/it]"
     ]
    },
    {
     "name": "stdout",
     "output_type": "stream",
     "text": [
      "\n",
      "image 1/1 C:\\Users\\admin\\.cache\\kagglehub\\datasets\\pavansanagapati\\images-dataset\\versions\\1\\data\\cars\\carsgraz_333.bmp: 384x512 45 objects, 1490.0ms\n",
      "Speed: 3.9ms preprocess, 1490.0ms inference, 113.5ms postprocess per image at shape (1, 3, 384, 512)\n"
     ]
    },
    {
     "name": "stderr",
     "output_type": "stream",
     "text": [
      " 79%|███████▉  | 333/420 [10:57<02:36,  1.80s/it]"
     ]
    },
    {
     "name": "stdout",
     "output_type": "stream",
     "text": [
      "\n",
      "image 1/1 C:\\Users\\admin\\.cache\\kagglehub\\datasets\\pavansanagapati\\images-dataset\\versions\\1\\data\\cars\\carsgraz_334.bmp: 384x512 41 objects, 1579.1ms\n",
      "Speed: 2.7ms preprocess, 1579.1ms inference, 107.4ms postprocess per image at shape (1, 3, 384, 512)\n"
     ]
    },
    {
     "name": "stderr",
     "output_type": "stream",
     "text": [
      " 80%|███████▉  | 334/420 [10:59<02:33,  1.78s/it]"
     ]
    },
    {
     "name": "stdout",
     "output_type": "stream",
     "text": [
      "\n",
      "image 1/1 C:\\Users\\admin\\.cache\\kagglehub\\datasets\\pavansanagapati\\images-dataset\\versions\\1\\data\\cars\\carsgraz_335.bmp: 384x512 32 objects, 1469.5ms\n",
      "Speed: 2.8ms preprocess, 1469.5ms inference, 79.9ms postprocess per image at shape (1, 3, 384, 512)\n"
     ]
    },
    {
     "name": "stderr",
     "output_type": "stream",
     "text": [
      " 80%|███████▉  | 335/420 [11:01<02:27,  1.74s/it]"
     ]
    },
    {
     "name": "stdout",
     "output_type": "stream",
     "text": [
      "\n",
      "image 1/1 C:\\Users\\admin\\.cache\\kagglehub\\datasets\\pavansanagapati\\images-dataset\\versions\\1\\data\\cars\\carsgraz_336.bmp: 384x512 37 objects, 1543.4ms\n",
      "Speed: 2.4ms preprocess, 1543.4ms inference, 90.8ms postprocess per image at shape (1, 3, 384, 512)\n"
     ]
    },
    {
     "name": "stderr",
     "output_type": "stream",
     "text": [
      " 80%|████████  | 336/420 [11:03<02:24,  1.72s/it]"
     ]
    },
    {
     "name": "stdout",
     "output_type": "stream",
     "text": [
      "\n",
      "image 1/1 C:\\Users\\admin\\.cache\\kagglehub\\datasets\\pavansanagapati\\images-dataset\\versions\\1\\data\\cars\\carsgraz_337.bmp: 384x512 62 objects, 1654.2ms\n",
      "Speed: 2.7ms preprocess, 1654.2ms inference, 234.2ms postprocess per image at shape (1, 3, 384, 512)\n"
     ]
    },
    {
     "name": "stderr",
     "output_type": "stream",
     "text": [
      " 80%|████████  | 337/420 [11:05<02:29,  1.80s/it]"
     ]
    },
    {
     "name": "stdout",
     "output_type": "stream",
     "text": [
      "\n",
      "image 1/1 C:\\Users\\admin\\.cache\\kagglehub\\datasets\\pavansanagapati\\images-dataset\\versions\\1\\data\\cars\\carsgraz_338.bmp: 384x512 65 objects, 1884.6ms\n",
      "Speed: 3.8ms preprocess, 1884.6ms inference, 298.4ms postprocess per image at shape (1, 3, 384, 512)\n"
     ]
    },
    {
     "name": "stderr",
     "output_type": "stream",
     "text": [
      " 80%|████████  | 338/420 [11:07<02:39,  1.94s/it]"
     ]
    },
    {
     "name": "stdout",
     "output_type": "stream",
     "text": [
      "\n",
      "image 1/1 C:\\Users\\admin\\.cache\\kagglehub\\datasets\\pavansanagapati\\images-dataset\\versions\\1\\data\\cars\\carsgraz_339.bmp: 384x512 31 objects, 2302.7ms\n",
      "Speed: 11.1ms preprocess, 2302.7ms inference, 85.2ms postprocess per image at shape (1, 3, 384, 512)\n"
     ]
    },
    {
     "name": "stderr",
     "output_type": "stream",
     "text": [
      " 81%|████████  | 339/420 [11:09<02:49,  2.09s/it]"
     ]
    },
    {
     "name": "stdout",
     "output_type": "stream",
     "text": [
      "\n",
      "image 1/1 C:\\Users\\admin\\.cache\\kagglehub\\datasets\\pavansanagapati\\images-dataset\\versions\\1\\data\\cars\\carsgraz_340.bmp: 384x512 37 objects, 1553.7ms\n",
      "Speed: 4.0ms preprocess, 1553.7ms inference, 127.4ms postprocess per image at shape (1, 3, 384, 512)\n"
     ]
    },
    {
     "name": "stderr",
     "output_type": "stream",
     "text": [
      " 81%|████████  | 340/420 [11:11<02:39,  2.00s/it]"
     ]
    },
    {
     "name": "stdout",
     "output_type": "stream",
     "text": [
      "\n",
      "image 1/1 C:\\Users\\admin\\.cache\\kagglehub\\datasets\\pavansanagapati\\images-dataset\\versions\\1\\data\\cars\\carsgraz_341.bmp: 384x512 25 objects, 1970.5ms\n",
      "Speed: 18.2ms preprocess, 1970.5ms inference, 75.2ms postprocess per image at shape (1, 3, 384, 512)\n"
     ]
    },
    {
     "name": "stderr",
     "output_type": "stream",
     "text": [
      " 81%|████████  | 341/420 [11:13<02:41,  2.04s/it]"
     ]
    },
    {
     "name": "stdout",
     "output_type": "stream",
     "text": [
      "\n",
      "image 1/1 C:\\Users\\admin\\.cache\\kagglehub\\datasets\\pavansanagapati\\images-dataset\\versions\\1\\data\\cars\\carsgraz_342.bmp: 384x512 33 objects, 1698.0ms\n",
      "Speed: 13.0ms preprocess, 1698.0ms inference, 83.2ms postprocess per image at shape (1, 3, 384, 512)\n"
     ]
    },
    {
     "name": "stderr",
     "output_type": "stream",
     "text": [
      " 81%|████████▏ | 342/420 [11:15<02:34,  1.98s/it]"
     ]
    },
    {
     "name": "stdout",
     "output_type": "stream",
     "text": [
      "\n",
      "image 1/1 C:\\Users\\admin\\.cache\\kagglehub\\datasets\\pavansanagapati\\images-dataset\\versions\\1\\data\\cars\\carsgraz_343.bmp: 384x512 37 objects, 2681.5ms\n",
      "Speed: 2.9ms preprocess, 2681.5ms inference, 93.6ms postprocess per image at shape (1, 3, 384, 512)\n"
     ]
    },
    {
     "name": "stderr",
     "output_type": "stream",
     "text": [
      " 82%|████████▏ | 343/420 [11:18<02:52,  2.24s/it]"
     ]
    },
    {
     "name": "stdout",
     "output_type": "stream",
     "text": [
      "\n",
      "image 1/1 C:\\Users\\admin\\.cache\\kagglehub\\datasets\\pavansanagapati\\images-dataset\\versions\\1\\data\\cars\\carsgraz_344.bmp: 384x512 29 objects, 1548.0ms\n",
      "Speed: 2.5ms preprocess, 1548.0ms inference, 82.6ms postprocess per image at shape (1, 3, 384, 512)\n"
     ]
    },
    {
     "name": "stderr",
     "output_type": "stream",
     "text": [
      " 82%|████████▏ | 344/420 [11:20<02:38,  2.08s/it]"
     ]
    },
    {
     "name": "stdout",
     "output_type": "stream",
     "text": [
      "\n",
      "image 1/1 C:\\Users\\admin\\.cache\\kagglehub\\datasets\\pavansanagapati\\images-dataset\\versions\\1\\data\\cars\\carsgraz_345.bmp: 384x512 32 objects, 1575.6ms\n",
      "Speed: 2.9ms preprocess, 1575.6ms inference, 93.4ms postprocess per image at shape (1, 3, 384, 512)\n"
     ]
    },
    {
     "name": "stderr",
     "output_type": "stream",
     "text": [
      " 82%|████████▏ | 345/420 [11:21<02:28,  1.98s/it]"
     ]
    },
    {
     "name": "stdout",
     "output_type": "stream",
     "text": [
      "\n",
      "image 1/1 C:\\Users\\admin\\.cache\\kagglehub\\datasets\\pavansanagapati\\images-dataset\\versions\\1\\data\\cars\\carsgraz_346.bmp: 384x512 35 objects, 1586.1ms\n",
      "Speed: 2.5ms preprocess, 1586.1ms inference, 105.4ms postprocess per image at shape (1, 3, 384, 512)\n"
     ]
    },
    {
     "name": "stderr",
     "output_type": "stream",
     "text": [
      " 82%|████████▏ | 346/420 [11:23<02:21,  1.91s/it]"
     ]
    },
    {
     "name": "stdout",
     "output_type": "stream",
     "text": [
      "\n",
      "image 1/1 C:\\Users\\admin\\.cache\\kagglehub\\datasets\\pavansanagapati\\images-dataset\\versions\\1\\data\\cars\\carsgraz_347.bmp: 384x512 46 objects, 1507.3ms\n",
      "Speed: 2.7ms preprocess, 1507.3ms inference, 246.4ms postprocess per image at shape (1, 3, 384, 512)\n"
     ]
    },
    {
     "name": "stderr",
     "output_type": "stream",
     "text": [
      " 83%|████████▎ | 347/420 [11:25<02:19,  1.91s/it]"
     ]
    },
    {
     "name": "stdout",
     "output_type": "stream",
     "text": [
      "\n",
      "image 1/1 C:\\Users\\admin\\.cache\\kagglehub\\datasets\\pavansanagapati\\images-dataset\\versions\\1\\data\\cars\\carsgraz_348.bmp: 384x512 49 objects, 1713.2ms\n",
      "Speed: 7.4ms preprocess, 1713.2ms inference, 150.4ms postprocess per image at shape (1, 3, 384, 512)\n"
     ]
    },
    {
     "name": "stderr",
     "output_type": "stream",
     "text": [
      " 83%|████████▎ | 348/420 [11:27<02:18,  1.93s/it]"
     ]
    },
    {
     "name": "stdout",
     "output_type": "stream",
     "text": [
      "\n",
      "image 1/1 C:\\Users\\admin\\.cache\\kagglehub\\datasets\\pavansanagapati\\images-dataset\\versions\\1\\data\\cars\\carsgraz_349.bmp: 384x512 54 objects, 1715.3ms\n",
      "Speed: 2.2ms preprocess, 1715.3ms inference, 173.9ms postprocess per image at shape (1, 3, 384, 512)\n"
     ]
    },
    {
     "name": "stderr",
     "output_type": "stream",
     "text": [
      " 83%|████████▎ | 349/420 [11:29<02:19,  1.96s/it]"
     ]
    },
    {
     "name": "stdout",
     "output_type": "stream",
     "text": [
      "\n",
      "image 1/1 C:\\Users\\admin\\.cache\\kagglehub\\datasets\\pavansanagapati\\images-dataset\\versions\\1\\data\\cars\\carsgraz_350.bmp: 384x512 27 objects, 1939.0ms\n",
      "Speed: 2.5ms preprocess, 1939.0ms inference, 163.1ms postprocess per image at shape (1, 3, 384, 512)\n"
     ]
    },
    {
     "name": "stderr",
     "output_type": "stream",
     "text": [
      " 83%|████████▎ | 350/420 [11:31<02:21,  2.03s/it]"
     ]
    },
    {
     "name": "stdout",
     "output_type": "stream",
     "text": [
      "\n",
      "image 1/1 C:\\Users\\admin\\.cache\\kagglehub\\datasets\\pavansanagapati\\images-dataset\\versions\\1\\data\\cars\\carsgraz_351.bmp: 384x512 29 objects, 1595.5ms\n",
      "Speed: 4.2ms preprocess, 1595.5ms inference, 86.5ms postprocess per image at shape (1, 3, 384, 512)\n"
     ]
    },
    {
     "name": "stderr",
     "output_type": "stream",
     "text": [
      " 84%|████████▎ | 351/420 [11:33<02:14,  1.95s/it]"
     ]
    },
    {
     "name": "stdout",
     "output_type": "stream",
     "text": [
      "\n",
      "image 1/1 C:\\Users\\admin\\.cache\\kagglehub\\datasets\\pavansanagapati\\images-dataset\\versions\\1\\data\\cars\\carsgraz_352.bmp: 384x512 128 objects, 1678.6ms\n",
      "Speed: 18.0ms preprocess, 1678.6ms inference, 433.2ms postprocess per image at shape (1, 3, 384, 512)\n"
     ]
    },
    {
     "name": "stderr",
     "output_type": "stream",
     "text": [
      " 84%|████████▍ | 352/420 [11:35<02:17,  2.03s/it]"
     ]
    },
    {
     "name": "stdout",
     "output_type": "stream",
     "text": [
      "\n",
      "image 1/1 C:\\Users\\admin\\.cache\\kagglehub\\datasets\\pavansanagapati\\images-dataset\\versions\\1\\data\\cars\\carsgraz_353.bmp: 384x512 45 objects, 1679.8ms\n",
      "Speed: 2.8ms preprocess, 1679.8ms inference, 135.6ms postprocess per image at shape (1, 3, 384, 512)\n"
     ]
    },
    {
     "name": "stderr",
     "output_type": "stream",
     "text": [
      " 84%|████████▍ | 353/420 [11:37<02:12,  1.98s/it]"
     ]
    },
    {
     "name": "stdout",
     "output_type": "stream",
     "text": [
      "\n",
      "image 1/1 C:\\Users\\admin\\.cache\\kagglehub\\datasets\\pavansanagapati\\images-dataset\\versions\\1\\data\\cars\\carsgraz_354.bmp: 384x512 23 objects, 1652.5ms\n",
      "Speed: 2.9ms preprocess, 1652.5ms inference, 65.9ms postprocess per image at shape (1, 3, 384, 512)\n"
     ]
    },
    {
     "name": "stderr",
     "output_type": "stream",
     "text": [
      " 84%|████████▍ | 354/420 [11:39<02:06,  1.92s/it]"
     ]
    },
    {
     "name": "stdout",
     "output_type": "stream",
     "text": [
      "\n",
      "image 1/1 C:\\Users\\admin\\.cache\\kagglehub\\datasets\\pavansanagapati\\images-dataset\\versions\\1\\data\\cars\\carsgraz_355.bmp: 384x512 14 objects, 1514.5ms\n",
      "Speed: 3.0ms preprocess, 1514.5ms inference, 40.8ms postprocess per image at shape (1, 3, 384, 512)\n"
     ]
    },
    {
     "name": "stderr",
     "output_type": "stream",
     "text": [
      " 85%|████████▍ | 355/420 [11:40<01:58,  1.82s/it]"
     ]
    },
    {
     "name": "stdout",
     "output_type": "stream",
     "text": [
      "\n",
      "image 1/1 C:\\Users\\admin\\.cache\\kagglehub\\datasets\\pavansanagapati\\images-dataset\\versions\\1\\data\\cars\\carsgraz_356.bmp: 384x512 48 objects, 1462.2ms\n",
      "Speed: 2.3ms preprocess, 1462.2ms inference, 141.5ms postprocess per image at shape (1, 3, 384, 512)\n"
     ]
    },
    {
     "name": "stderr",
     "output_type": "stream",
     "text": [
      " 85%|████████▍ | 356/420 [11:42<01:53,  1.78s/it]"
     ]
    },
    {
     "name": "stdout",
     "output_type": "stream",
     "text": [
      "\n",
      "image 1/1 C:\\Users\\admin\\.cache\\kagglehub\\datasets\\pavansanagapati\\images-dataset\\versions\\1\\data\\cars\\carsgraz_357.bmp: 384x512 44 objects, 1487.2ms\n",
      "Speed: 2.7ms preprocess, 1487.2ms inference, 112.9ms postprocess per image at shape (1, 3, 384, 512)\n"
     ]
    },
    {
     "name": "stderr",
     "output_type": "stream",
     "text": [
      " 85%|████████▌ | 357/420 [11:44<01:50,  1.75s/it]"
     ]
    },
    {
     "name": "stdout",
     "output_type": "stream",
     "text": [
      "\n",
      "image 1/1 C:\\Users\\admin\\.cache\\kagglehub\\datasets\\pavansanagapati\\images-dataset\\versions\\1\\data\\cars\\carsgraz_358.bmp: 384x512 44 objects, 1482.0ms\n",
      "Speed: 3.2ms preprocess, 1482.0ms inference, 120.5ms postprocess per image at shape (1, 3, 384, 512)\n"
     ]
    },
    {
     "name": "stderr",
     "output_type": "stream",
     "text": [
      " 85%|████████▌ | 358/420 [11:45<01:47,  1.73s/it]"
     ]
    },
    {
     "name": "stdout",
     "output_type": "stream",
     "text": [
      "\n",
      "image 1/1 C:\\Users\\admin\\.cache\\kagglehub\\datasets\\pavansanagapati\\images-dataset\\versions\\1\\data\\cars\\carsgraz_359.bmp: 384x512 35 objects, 1625.1ms\n",
      "Speed: 2.7ms preprocess, 1625.1ms inference, 93.9ms postprocess per image at shape (1, 3, 384, 512)\n"
     ]
    },
    {
     "name": "stderr",
     "output_type": "stream",
     "text": [
      " 85%|████████▌ | 359/420 [11:47<01:46,  1.74s/it]"
     ]
    },
    {
     "name": "stdout",
     "output_type": "stream",
     "text": [
      "\n",
      "image 1/1 C:\\Users\\admin\\.cache\\kagglehub\\datasets\\pavansanagapati\\images-dataset\\versions\\1\\data\\cars\\carsgraz_360.bmp: 384x512 32 objects, 1490.3ms\n",
      "Speed: 2.8ms preprocess, 1490.3ms inference, 91.5ms postprocess per image at shape (1, 3, 384, 512)\n"
     ]
    },
    {
     "name": "stderr",
     "output_type": "stream",
     "text": [
      " 86%|████████▌ | 360/420 [11:49<01:43,  1.72s/it]"
     ]
    },
    {
     "name": "stdout",
     "output_type": "stream",
     "text": [
      "\n",
      "image 1/1 C:\\Users\\admin\\.cache\\kagglehub\\datasets\\pavansanagapati\\images-dataset\\versions\\1\\data\\cars\\carsgraz_361.bmp: 384x512 32 objects, 1514.5ms\n",
      "Speed: 5.9ms preprocess, 1514.5ms inference, 84.3ms postprocess per image at shape (1, 3, 384, 512)\n"
     ]
    },
    {
     "name": "stderr",
     "output_type": "stream",
     "text": [
      " 86%|████████▌ | 361/420 [11:50<01:40,  1.70s/it]"
     ]
    },
    {
     "name": "stdout",
     "output_type": "stream",
     "text": [
      "\n",
      "image 1/1 C:\\Users\\admin\\.cache\\kagglehub\\datasets\\pavansanagapati\\images-dataset\\versions\\1\\data\\cars\\carsgraz_362.bmp: 384x512 47 objects, 1486.7ms\n",
      "Speed: 1.7ms preprocess, 1486.7ms inference, 127.9ms postprocess per image at shape (1, 3, 384, 512)\n"
     ]
    },
    {
     "name": "stderr",
     "output_type": "stream",
     "text": [
      " 86%|████████▌ | 362/420 [11:52<01:38,  1.70s/it]"
     ]
    },
    {
     "name": "stdout",
     "output_type": "stream",
     "text": [
      "\n",
      "image 1/1 C:\\Users\\admin\\.cache\\kagglehub\\datasets\\pavansanagapati\\images-dataset\\versions\\1\\data\\cars\\carsgraz_363.bmp: 384x512 38 objects, 1591.8ms\n",
      "Speed: 2.4ms preprocess, 1591.8ms inference, 96.5ms postprocess per image at shape (1, 3, 384, 512)\n"
     ]
    },
    {
     "name": "stderr",
     "output_type": "stream",
     "text": [
      " 86%|████████▋ | 363/420 [11:54<01:37,  1.71s/it]"
     ]
    },
    {
     "name": "stdout",
     "output_type": "stream",
     "text": [
      "\n",
      "image 1/1 C:\\Users\\admin\\.cache\\kagglehub\\datasets\\pavansanagapati\\images-dataset\\versions\\1\\data\\cars\\carsgraz_364.bmp: 384x512 47 objects, 1465.6ms\n",
      "Speed: 4.9ms preprocess, 1465.6ms inference, 118.6ms postprocess per image at shape (1, 3, 384, 512)\n"
     ]
    },
    {
     "name": "stderr",
     "output_type": "stream",
     "text": [
      " 87%|████████▋ | 364/420 [11:56<01:34,  1.69s/it]"
     ]
    },
    {
     "name": "stdout",
     "output_type": "stream",
     "text": [
      "\n",
      "image 1/1 C:\\Users\\admin\\.cache\\kagglehub\\datasets\\pavansanagapati\\images-dataset\\versions\\1\\data\\cars\\carsgraz_365.bmp: 384x512 31 objects, 1573.7ms\n",
      "Speed: 2.3ms preprocess, 1573.7ms inference, 75.5ms postprocess per image at shape (1, 3, 384, 512)\n"
     ]
    },
    {
     "name": "stderr",
     "output_type": "stream",
     "text": [
      " 87%|████████▋ | 365/420 [11:57<01:33,  1.69s/it]"
     ]
    },
    {
     "name": "stdout",
     "output_type": "stream",
     "text": [
      "\n",
      "image 1/1 C:\\Users\\admin\\.cache\\kagglehub\\datasets\\pavansanagapati\\images-dataset\\versions\\1\\data\\cars\\carsgraz_366.bmp: 384x512 59 objects, 1396.5ms\n",
      "Speed: 4.9ms preprocess, 1396.5ms inference, 166.9ms postprocess per image at shape (1, 3, 384, 512)\n"
     ]
    },
    {
     "name": "stderr",
     "output_type": "stream",
     "text": [
      " 87%|████████▋ | 366/420 [11:59<01:30,  1.68s/it]"
     ]
    },
    {
     "name": "stdout",
     "output_type": "stream",
     "text": [
      "\n",
      "image 1/1 C:\\Users\\admin\\.cache\\kagglehub\\datasets\\pavansanagapati\\images-dataset\\versions\\1\\data\\cars\\carsgraz_367.bmp: 384x512 27 objects, 1449.6ms\n",
      "Speed: 3.2ms preprocess, 1449.6ms inference, 78.7ms postprocess per image at shape (1, 3, 384, 512)\n"
     ]
    },
    {
     "name": "stderr",
     "output_type": "stream",
     "text": [
      " 87%|████████▋ | 367/420 [12:00<01:27,  1.65s/it]"
     ]
    },
    {
     "name": "stdout",
     "output_type": "stream",
     "text": [
      "\n",
      "image 1/1 C:\\Users\\admin\\.cache\\kagglehub\\datasets\\pavansanagapati\\images-dataset\\versions\\1\\data\\cars\\carsgraz_368.bmp: 384x512 17 objects, 1354.5ms\n",
      "Speed: 3.2ms preprocess, 1354.5ms inference, 41.4ms postprocess per image at shape (1, 3, 384, 512)\n"
     ]
    },
    {
     "name": "stderr",
     "output_type": "stream",
     "text": [
      " 88%|████████▊ | 368/420 [12:02<01:22,  1.59s/it]"
     ]
    },
    {
     "name": "stdout",
     "output_type": "stream",
     "text": [
      "\n",
      "image 1/1 C:\\Users\\admin\\.cache\\kagglehub\\datasets\\pavansanagapati\\images-dataset\\versions\\1\\data\\cars\\carsgraz_369.bmp: 384x512 29 objects, 1355.4ms\n",
      "Speed: 2.2ms preprocess, 1355.4ms inference, 70.3ms postprocess per image at shape (1, 3, 384, 512)\n"
     ]
    },
    {
     "name": "stderr",
     "output_type": "stream",
     "text": [
      " 88%|████████▊ | 369/420 [12:03<01:19,  1.56s/it]"
     ]
    },
    {
     "name": "stdout",
     "output_type": "stream",
     "text": [
      "\n",
      "image 1/1 C:\\Users\\admin\\.cache\\kagglehub\\datasets\\pavansanagapati\\images-dataset\\versions\\1\\data\\cars\\carsgraz_370.bmp: 384x512 29 objects, 1354.3ms\n",
      "Speed: 1.9ms preprocess, 1354.3ms inference, 78.4ms postprocess per image at shape (1, 3, 384, 512)\n"
     ]
    },
    {
     "name": "stderr",
     "output_type": "stream",
     "text": [
      " 88%|████████▊ | 370/420 [12:05<01:16,  1.54s/it]"
     ]
    },
    {
     "name": "stdout",
     "output_type": "stream",
     "text": [
      "\n",
      "image 1/1 C:\\Users\\admin\\.cache\\kagglehub\\datasets\\pavansanagapati\\images-dataset\\versions\\1\\data\\cars\\carsgraz_371.bmp: 384x512 54 objects, 1455.5ms\n",
      "Speed: 2.6ms preprocess, 1455.5ms inference, 167.0ms postprocess per image at shape (1, 3, 384, 512)\n"
     ]
    },
    {
     "name": "stderr",
     "output_type": "stream",
     "text": [
      " 88%|████████▊ | 371/420 [12:07<01:17,  1.59s/it]"
     ]
    },
    {
     "name": "stdout",
     "output_type": "stream",
     "text": [
      "\n",
      "image 1/1 C:\\Users\\admin\\.cache\\kagglehub\\datasets\\pavansanagapati\\images-dataset\\versions\\1\\data\\cars\\carsgraz_372.bmp: 384x512 19 objects, 1364.2ms\n",
      "Speed: 1.9ms preprocess, 1364.2ms inference, 50.1ms postprocess per image at shape (1, 3, 384, 512)\n"
     ]
    },
    {
     "name": "stderr",
     "output_type": "stream",
     "text": [
      " 89%|████████▊ | 372/420 [12:08<01:14,  1.55s/it]"
     ]
    },
    {
     "name": "stdout",
     "output_type": "stream",
     "text": [
      "\n",
      "image 1/1 C:\\Users\\admin\\.cache\\kagglehub\\datasets\\pavansanagapati\\images-dataset\\versions\\1\\data\\cars\\carsgraz_373.bmp: 384x512 42 objects, 1381.1ms\n",
      "Speed: 2.1ms preprocess, 1381.1ms inference, 102.7ms postprocess per image at shape (1, 3, 384, 512)\n"
     ]
    },
    {
     "name": "stderr",
     "output_type": "stream",
     "text": [
      " 89%|████████▉ | 373/420 [12:10<01:12,  1.55s/it]"
     ]
    },
    {
     "name": "stdout",
     "output_type": "stream",
     "text": [
      "\n",
      "image 1/1 C:\\Users\\admin\\.cache\\kagglehub\\datasets\\pavansanagapati\\images-dataset\\versions\\1\\data\\cars\\carsgraz_374.bmp: 384x512 65 objects, 1360.2ms\n",
      "Speed: 2.5ms preprocess, 1360.2ms inference, 194.7ms postprocess per image at shape (1, 3, 384, 512)\n"
     ]
    },
    {
     "name": "stderr",
     "output_type": "stream",
     "text": [
      " 89%|████████▉ | 374/420 [12:11<01:12,  1.57s/it]"
     ]
    },
    {
     "name": "stdout",
     "output_type": "stream",
     "text": [
      "\n",
      "image 1/1 C:\\Users\\admin\\.cache\\kagglehub\\datasets\\pavansanagapati\\images-dataset\\versions\\1\\data\\cars\\carsgraz_375.bmp: 384x512 47 objects, 1442.0ms\n",
      "Speed: 2.5ms preprocess, 1442.0ms inference, 117.6ms postprocess per image at shape (1, 3, 384, 512)\n"
     ]
    },
    {
     "name": "stderr",
     "output_type": "stream",
     "text": [
      " 89%|████████▉ | 375/420 [12:13<01:12,  1.60s/it]"
     ]
    },
    {
     "name": "stdout",
     "output_type": "stream",
     "text": [
      "\n",
      "image 1/1 C:\\Users\\admin\\.cache\\kagglehub\\datasets\\pavansanagapati\\images-dataset\\versions\\1\\data\\cars\\carsgraz_376.bmp: 384x512 31 objects, 1396.9ms\n",
      "Speed: 2.6ms preprocess, 1396.9ms inference, 77.8ms postprocess per image at shape (1, 3, 384, 512)\n"
     ]
    },
    {
     "name": "stderr",
     "output_type": "stream",
     "text": [
      " 90%|████████▉ | 376/420 [12:14<01:09,  1.59s/it]"
     ]
    },
    {
     "name": "stdout",
     "output_type": "stream",
     "text": [
      "\n",
      "image 1/1 C:\\Users\\admin\\.cache\\kagglehub\\datasets\\pavansanagapati\\images-dataset\\versions\\1\\data\\cars\\carsgraz_377.bmp: 384x512 39 objects, 1332.7ms\n",
      "Speed: 2.6ms preprocess, 1332.7ms inference, 96.7ms postprocess per image at shape (1, 3, 384, 512)\n"
     ]
    },
    {
     "name": "stderr",
     "output_type": "stream",
     "text": [
      " 90%|████████▉ | 377/420 [12:16<01:06,  1.55s/it]"
     ]
    },
    {
     "name": "stdout",
     "output_type": "stream",
     "text": [
      "\n",
      "image 1/1 C:\\Users\\admin\\.cache\\kagglehub\\datasets\\pavansanagapati\\images-dataset\\versions\\1\\data\\cars\\carsgraz_378.bmp: 384x512 31 objects, 1344.5ms\n",
      "Speed: 1.9ms preprocess, 1344.5ms inference, 77.3ms postprocess per image at shape (1, 3, 384, 512)\n"
     ]
    },
    {
     "name": "stderr",
     "output_type": "stream",
     "text": [
      " 90%|█████████ | 378/420 [12:17<01:04,  1.53s/it]"
     ]
    },
    {
     "name": "stdout",
     "output_type": "stream",
     "text": [
      "\n",
      "image 1/1 C:\\Users\\admin\\.cache\\kagglehub\\datasets\\pavansanagapati\\images-dataset\\versions\\1\\data\\cars\\carsgraz_379.bmp: 384x512 76 objects, 1347.6ms\n",
      "Speed: 3.2ms preprocess, 1347.6ms inference, 214.5ms postprocess per image at shape (1, 3, 384, 512)\n"
     ]
    },
    {
     "name": "stderr",
     "output_type": "stream",
     "text": [
      " 90%|█████████ | 379/420 [12:19<01:04,  1.56s/it]"
     ]
    },
    {
     "name": "stdout",
     "output_type": "stream",
     "text": [
      "\n",
      "image 1/1 C:\\Users\\admin\\.cache\\kagglehub\\datasets\\pavansanagapati\\images-dataset\\versions\\1\\data\\cars\\carsgraz_380.bmp: 384x512 71 objects, 1402.5ms\n",
      "Speed: 3.5ms preprocess, 1402.5ms inference, 207.2ms postprocess per image at shape (1, 3, 384, 512)\n"
     ]
    },
    {
     "name": "stderr",
     "output_type": "stream",
     "text": [
      " 90%|█████████ | 380/420 [12:21<01:04,  1.60s/it]"
     ]
    },
    {
     "name": "stdout",
     "output_type": "stream",
     "text": [
      "\n",
      "image 1/1 C:\\Users\\admin\\.cache\\kagglehub\\datasets\\pavansanagapati\\images-dataset\\versions\\1\\data\\cars\\carsgraz_381.bmp: 384x512 47 objects, 1351.2ms\n",
      "Speed: 3.0ms preprocess, 1351.2ms inference, 113.0ms postprocess per image at shape (1, 3, 384, 512)\n"
     ]
    },
    {
     "name": "stderr",
     "output_type": "stream",
     "text": [
      " 91%|█████████ | 381/420 [12:22<01:01,  1.58s/it]"
     ]
    },
    {
     "name": "stdout",
     "output_type": "stream",
     "text": [
      "\n",
      "image 1/1 C:\\Users\\admin\\.cache\\kagglehub\\datasets\\pavansanagapati\\images-dataset\\versions\\1\\data\\cars\\carsgraz_382.bmp: 384x512 60 objects, 1339.1ms\n",
      "Speed: 2.4ms preprocess, 1339.1ms inference, 175.2ms postprocess per image at shape (1, 3, 384, 512)\n"
     ]
    },
    {
     "name": "stderr",
     "output_type": "stream",
     "text": [
      " 91%|█████████ | 382/420 [12:24<01:00,  1.58s/it]"
     ]
    },
    {
     "name": "stdout",
     "output_type": "stream",
     "text": [
      "\n",
      "image 1/1 C:\\Users\\admin\\.cache\\kagglehub\\datasets\\pavansanagapati\\images-dataset\\versions\\1\\data\\cars\\carsgraz_383.bmp: 384x512 42 objects, 1321.4ms\n",
      "Speed: 2.7ms preprocess, 1321.4ms inference, 106.2ms postprocess per image at shape (1, 3, 384, 512)\n"
     ]
    },
    {
     "name": "stderr",
     "output_type": "stream",
     "text": [
      " 91%|█████████ | 383/420 [12:25<00:57,  1.55s/it]"
     ]
    },
    {
     "name": "stdout",
     "output_type": "stream",
     "text": [
      "\n",
      "image 1/1 C:\\Users\\admin\\.cache\\kagglehub\\datasets\\pavansanagapati\\images-dataset\\versions\\1\\data\\cars\\carsgraz_384.bmp: 384x512 13 objects, 1389.9ms\n",
      "Speed: 21.9ms preprocess, 1389.9ms inference, 33.0ms postprocess per image at shape (1, 3, 384, 512)\n"
     ]
    },
    {
     "name": "stderr",
     "output_type": "stream",
     "text": [
      " 91%|█████████▏| 384/420 [12:27<00:55,  1.54s/it]"
     ]
    },
    {
     "name": "stdout",
     "output_type": "stream",
     "text": [
      "\n",
      "image 1/1 C:\\Users\\admin\\.cache\\kagglehub\\datasets\\pavansanagapati\\images-dataset\\versions\\1\\data\\cars\\carsgraz_385.bmp: 512x384 61 objects, 1345.3ms\n",
      "Speed: 3.7ms preprocess, 1345.3ms inference, 174.5ms postprocess per image at shape (1, 3, 512, 384)\n"
     ]
    },
    {
     "name": "stderr",
     "output_type": "stream",
     "text": [
      " 92%|█████████▏| 385/420 [12:28<00:54,  1.55s/it]"
     ]
    },
    {
     "name": "stdout",
     "output_type": "stream",
     "text": [
      "\n",
      "image 1/1 C:\\Users\\admin\\.cache\\kagglehub\\datasets\\pavansanagapati\\images-dataset\\versions\\1\\data\\cars\\carsgraz_386.bmp: 384x512 79 objects, 1348.1ms\n",
      "Speed: 2.3ms preprocess, 1348.1ms inference, 221.7ms postprocess per image at shape (1, 3, 384, 512)\n"
     ]
    },
    {
     "name": "stderr",
     "output_type": "stream",
     "text": [
      " 92%|█████████▏| 386/420 [12:30<00:53,  1.58s/it]"
     ]
    },
    {
     "name": "stdout",
     "output_type": "stream",
     "text": [
      "\n",
      "image 1/1 C:\\Users\\admin\\.cache\\kagglehub\\datasets\\pavansanagapati\\images-dataset\\versions\\1\\data\\cars\\carsgraz_387.bmp: 384x512 57 objects, 1428.6ms\n",
      "Speed: 2.2ms preprocess, 1428.6ms inference, 164.7ms postprocess per image at shape (1, 3, 384, 512)\n"
     ]
    },
    {
     "name": "stderr",
     "output_type": "stream",
     "text": [
      " 92%|█████████▏| 387/420 [12:32<00:52,  1.60s/it]"
     ]
    },
    {
     "name": "stdout",
     "output_type": "stream",
     "text": [
      "\n",
      "image 1/1 C:\\Users\\admin\\.cache\\kagglehub\\datasets\\pavansanagapati\\images-dataset\\versions\\1\\data\\cars\\carsgraz_388.bmp: 512x384 68 objects, 1336.8ms\n",
      "Speed: 2.7ms preprocess, 1336.8ms inference, 193.7ms postprocess per image at shape (1, 3, 512, 384)\n"
     ]
    },
    {
     "name": "stderr",
     "output_type": "stream",
     "text": [
      " 92%|█████████▏| 388/420 [12:33<00:51,  1.62s/it]"
     ]
    },
    {
     "name": "stdout",
     "output_type": "stream",
     "text": [
      "\n",
      "image 1/1 C:\\Users\\admin\\.cache\\kagglehub\\datasets\\pavansanagapati\\images-dataset\\versions\\1\\data\\cars\\carsgraz_389.bmp: 384x512 21 objects, 1360.1ms\n",
      "Speed: 2.8ms preprocess, 1360.1ms inference, 52.2ms postprocess per image at shape (1, 3, 384, 512)\n"
     ]
    },
    {
     "name": "stderr",
     "output_type": "stream",
     "text": [
      " 93%|█████████▎| 389/420 [12:35<00:48,  1.58s/it]"
     ]
    },
    {
     "name": "stdout",
     "output_type": "stream",
     "text": [
      "\n",
      "image 1/1 C:\\Users\\admin\\.cache\\kagglehub\\datasets\\pavansanagapati\\images-dataset\\versions\\1\\data\\cars\\carsgraz_390.bmp: 384x512 30 objects, 1317.6ms\n",
      "Speed: 2.3ms preprocess, 1317.6ms inference, 74.6ms postprocess per image at shape (1, 3, 384, 512)\n"
     ]
    },
    {
     "name": "stderr",
     "output_type": "stream",
     "text": [
      " 93%|█████████▎| 390/420 [12:36<00:46,  1.54s/it]"
     ]
    },
    {
     "name": "stdout",
     "output_type": "stream",
     "text": [
      "\n",
      "image 1/1 C:\\Users\\admin\\.cache\\kagglehub\\datasets\\pavansanagapati\\images-dataset\\versions\\1\\data\\cars\\carsgraz_391.bmp: 384x512 28 objects, 1411.8ms\n",
      "Speed: 2.2ms preprocess, 1411.8ms inference, 68.2ms postprocess per image at shape (1, 3, 384, 512)\n"
     ]
    },
    {
     "name": "stderr",
     "output_type": "stream",
     "text": [
      " 93%|█████████▎| 391/420 [12:38<00:44,  1.54s/it]"
     ]
    },
    {
     "name": "stdout",
     "output_type": "stream",
     "text": [
      "\n",
      "image 1/1 C:\\Users\\admin\\.cache\\kagglehub\\datasets\\pavansanagapati\\images-dataset\\versions\\1\\data\\cars\\carsgraz_392.bmp: 384x512 54 objects, 1312.1ms\n",
      "Speed: 2.2ms preprocess, 1312.1ms inference, 155.8ms postprocess per image at shape (1, 3, 384, 512)\n"
     ]
    },
    {
     "name": "stderr",
     "output_type": "stream",
     "text": [
      " 93%|█████████▎| 392/420 [12:39<00:43,  1.54s/it]"
     ]
    },
    {
     "name": "stdout",
     "output_type": "stream",
     "text": [
      "\n",
      "image 1/1 C:\\Users\\admin\\.cache\\kagglehub\\datasets\\pavansanagapati\\images-dataset\\versions\\1\\data\\cars\\carsgraz_393.bmp: 384x512 88 objects, 1329.3ms\n",
      "Speed: 3.3ms preprocess, 1329.3ms inference, 258.1ms postprocess per image at shape (1, 3, 384, 512)\n"
     ]
    },
    {
     "name": "stderr",
     "output_type": "stream",
     "text": [
      " 94%|█████████▎| 393/420 [12:41<00:42,  1.58s/it]"
     ]
    },
    {
     "name": "stdout",
     "output_type": "stream",
     "text": [
      "\n",
      "image 1/1 C:\\Users\\admin\\.cache\\kagglehub\\datasets\\pavansanagapati\\images-dataset\\versions\\1\\data\\cars\\carsgraz_394.bmp: 384x512 35 objects, 1319.6ms\n",
      "Speed: 2.6ms preprocess, 1319.6ms inference, 86.0ms postprocess per image at shape (1, 3, 384, 512)\n"
     ]
    },
    {
     "name": "stderr",
     "output_type": "stream",
     "text": [
      " 94%|█████████▍| 394/420 [12:43<00:40,  1.55s/it]"
     ]
    },
    {
     "name": "stdout",
     "output_type": "stream",
     "text": [
      "\n",
      "image 1/1 C:\\Users\\admin\\.cache\\kagglehub\\datasets\\pavansanagapati\\images-dataset\\versions\\1\\data\\cars\\carsgraz_395.bmp: 384x512 43 objects, 1337.9ms\n",
      "Speed: 2.2ms preprocess, 1337.9ms inference, 101.9ms postprocess per image at shape (1, 3, 384, 512)\n"
     ]
    },
    {
     "name": "stderr",
     "output_type": "stream",
     "text": [
      " 94%|█████████▍| 395/420 [12:44<00:38,  1.53s/it]"
     ]
    },
    {
     "name": "stdout",
     "output_type": "stream",
     "text": [
      "\n",
      "image 1/1 C:\\Users\\admin\\.cache\\kagglehub\\datasets\\pavansanagapati\\images-dataset\\versions\\1\\data\\cars\\carsgraz_396.bmp: 384x512 41 objects, 1423.1ms\n",
      "Speed: 3.0ms preprocess, 1423.1ms inference, 95.1ms postprocess per image at shape (1, 3, 384, 512)\n"
     ]
    },
    {
     "name": "stderr",
     "output_type": "stream",
     "text": [
      " 94%|█████████▍| 396/420 [12:46<00:37,  1.55s/it]"
     ]
    },
    {
     "name": "stdout",
     "output_type": "stream",
     "text": [
      "\n",
      "image 1/1 C:\\Users\\admin\\.cache\\kagglehub\\datasets\\pavansanagapati\\images-dataset\\versions\\1\\data\\cars\\carsgraz_397.bmp: 384x512 109 objects, 1316.7ms\n",
      "Speed: 3.0ms preprocess, 1316.7ms inference, 337.2ms postprocess per image at shape (1, 3, 384, 512)\n"
     ]
    },
    {
     "name": "stderr",
     "output_type": "stream",
     "text": [
      " 95%|█████████▍| 397/420 [12:47<00:36,  1.60s/it]"
     ]
    },
    {
     "name": "stdout",
     "output_type": "stream",
     "text": [
      "\n",
      "image 1/1 C:\\Users\\admin\\.cache\\kagglehub\\datasets\\pavansanagapati\\images-dataset\\versions\\1\\data\\cars\\carsgraz_398.bmp: 384x512 40 objects, 1488.5ms\n",
      "Speed: 17.5ms preprocess, 1488.5ms inference, 99.7ms postprocess per image at shape (1, 3, 384, 512)\n"
     ]
    },
    {
     "name": "stderr",
     "output_type": "stream",
     "text": [
      " 95%|█████████▍| 398/420 [12:49<00:35,  1.62s/it]"
     ]
    },
    {
     "name": "stdout",
     "output_type": "stream",
     "text": [
      "\n",
      "image 1/1 C:\\Users\\admin\\.cache\\kagglehub\\datasets\\pavansanagapati\\images-dataset\\versions\\1\\data\\cars\\carsgraz_399.bmp: 384x512 30 objects, 1467.4ms\n",
      "Speed: 2.3ms preprocess, 1467.4ms inference, 69.1ms postprocess per image at shape (1, 3, 384, 512)\n"
     ]
    },
    {
     "name": "stderr",
     "output_type": "stream",
     "text": [
      " 95%|█████████▌| 399/420 [12:51<00:33,  1.62s/it]"
     ]
    },
    {
     "name": "stdout",
     "output_type": "stream",
     "text": [
      "\n",
      "image 1/1 C:\\Users\\admin\\.cache\\kagglehub\\datasets\\pavansanagapati\\images-dataset\\versions\\1\\data\\cars\\carsgraz_400.bmp: 384x512 23 objects, 1314.1ms\n",
      "Speed: 2.1ms preprocess, 1314.1ms inference, 67.4ms postprocess per image at shape (1, 3, 384, 512)\n"
     ]
    },
    {
     "name": "stderr",
     "output_type": "stream",
     "text": [
      " 95%|█████████▌| 400/420 [12:52<00:31,  1.56s/it]"
     ]
    },
    {
     "name": "stdout",
     "output_type": "stream",
     "text": [
      "\n",
      "image 1/1 C:\\Users\\admin\\.cache\\kagglehub\\datasets\\pavansanagapati\\images-dataset\\versions\\1\\data\\cars\\carsgraz_401.bmp: 384x512 41 objects, 1322.8ms\n",
      "Speed: 2.5ms preprocess, 1322.8ms inference, 95.4ms postprocess per image at shape (1, 3, 384, 512)\n"
     ]
    },
    {
     "name": "stderr",
     "output_type": "stream",
     "text": [
      " 95%|█████████▌| 401/420 [12:54<00:29,  1.54s/it]"
     ]
    },
    {
     "name": "stdout",
     "output_type": "stream",
     "text": [
      "\n",
      "image 1/1 C:\\Users\\admin\\.cache\\kagglehub\\datasets\\pavansanagapati\\images-dataset\\versions\\1\\data\\cars\\carsgraz_402.bmp: 512x384 49 objects, 1440.6ms\n",
      "Speed: 2.2ms preprocess, 1440.6ms inference, 110.7ms postprocess per image at shape (1, 3, 512, 384)\n"
     ]
    },
    {
     "name": "stderr",
     "output_type": "stream",
     "text": [
      " 96%|█████████▌| 402/420 [12:55<00:28,  1.56s/it]"
     ]
    },
    {
     "name": "stdout",
     "output_type": "stream",
     "text": [
      "\n",
      "image 1/1 C:\\Users\\admin\\.cache\\kagglehub\\datasets\\pavansanagapati\\images-dataset\\versions\\1\\data\\cars\\carsgraz_403.bmp: 384x512 30 objects, 1321.8ms\n",
      "Speed: 2.7ms preprocess, 1321.8ms inference, 77.9ms postprocess per image at shape (1, 3, 384, 512)\n"
     ]
    },
    {
     "name": "stderr",
     "output_type": "stream",
     "text": [
      " 96%|█████████▌| 403/420 [12:57<00:26,  1.53s/it]"
     ]
    },
    {
     "name": "stdout",
     "output_type": "stream",
     "text": [
      "\n",
      "image 1/1 C:\\Users\\admin\\.cache\\kagglehub\\datasets\\pavansanagapati\\images-dataset\\versions\\1\\data\\cars\\carsgraz_404.bmp: 384x512 49 objects, 1339.9ms\n",
      "Speed: 2.1ms preprocess, 1339.9ms inference, 118.6ms postprocess per image at shape (1, 3, 384, 512)\n"
     ]
    },
    {
     "name": "stderr",
     "output_type": "stream",
     "text": [
      " 96%|█████████▌| 404/420 [12:58<00:24,  1.53s/it]"
     ]
    },
    {
     "name": "stdout",
     "output_type": "stream",
     "text": [
      "\n",
      "image 1/1 C:\\Users\\admin\\.cache\\kagglehub\\datasets\\pavansanagapati\\images-dataset\\versions\\1\\data\\cars\\carsgraz_405.bmp: 384x512 66 objects, 1342.6ms\n",
      "Speed: 3.0ms preprocess, 1342.6ms inference, 189.0ms postprocess per image at shape (1, 3, 384, 512)\n"
     ]
    },
    {
     "name": "stderr",
     "output_type": "stream",
     "text": [
      " 96%|█████████▋| 405/420 [13:00<00:23,  1.55s/it]"
     ]
    },
    {
     "name": "stdout",
     "output_type": "stream",
     "text": [
      "\n",
      "image 1/1 C:\\Users\\admin\\.cache\\kagglehub\\datasets\\pavansanagapati\\images-dataset\\versions\\1\\data\\cars\\carsgraz_406.bmp: 384x512 63 objects, 1311.0ms\n",
      "Speed: 2.3ms preprocess, 1311.0ms inference, 183.1ms postprocess per image at shape (1, 3, 384, 512)\n"
     ]
    },
    {
     "name": "stderr",
     "output_type": "stream",
     "text": [
      " 97%|█████████▋| 406/420 [13:01<00:21,  1.56s/it]"
     ]
    },
    {
     "name": "stdout",
     "output_type": "stream",
     "text": [
      "\n",
      "image 1/1 C:\\Users\\admin\\.cache\\kagglehub\\datasets\\pavansanagapati\\images-dataset\\versions\\1\\data\\cars\\carsgraz_407.bmp: 384x512 36 objects, 1403.0ms\n",
      "Speed: 1.9ms preprocess, 1403.0ms inference, 86.3ms postprocess per image at shape (1, 3, 384, 512)\n"
     ]
    },
    {
     "name": "stderr",
     "output_type": "stream",
     "text": [
      " 97%|█████████▋| 407/420 [13:03<00:20,  1.56s/it]"
     ]
    },
    {
     "name": "stdout",
     "output_type": "stream",
     "text": [
      "\n",
      "image 1/1 C:\\Users\\admin\\.cache\\kagglehub\\datasets\\pavansanagapati\\images-dataset\\versions\\1\\data\\cars\\carsgraz_408.bmp: 384x512 37 objects, 1339.7ms\n",
      "Speed: 1.8ms preprocess, 1339.7ms inference, 88.5ms postprocess per image at shape (1, 3, 384, 512)\n"
     ]
    },
    {
     "name": "stderr",
     "output_type": "stream",
     "text": [
      " 97%|█████████▋| 408/420 [13:04<00:18,  1.53s/it]"
     ]
    },
    {
     "name": "stdout",
     "output_type": "stream",
     "text": [
      "\n",
      "image 1/1 C:\\Users\\admin\\.cache\\kagglehub\\datasets\\pavansanagapati\\images-dataset\\versions\\1\\data\\cars\\carsgraz_409.bmp: 384x512 92 objects, 1319.8ms\n",
      "Speed: 6.7ms preprocess, 1319.8ms inference, 258.2ms postprocess per image at shape (1, 3, 384, 512)\n"
     ]
    },
    {
     "name": "stderr",
     "output_type": "stream",
     "text": [
      " 97%|█████████▋| 409/420 [13:06<00:17,  1.57s/it]"
     ]
    },
    {
     "name": "stdout",
     "output_type": "stream",
     "text": [
      "\n",
      "image 1/1 C:\\Users\\admin\\.cache\\kagglehub\\datasets\\pavansanagapati\\images-dataset\\versions\\1\\data\\cars\\carsgraz_410.bmp: 384x512 101 objects, 1377.9ms\n",
      "Speed: 2.7ms preprocess, 1377.9ms inference, 276.0ms postprocess per image at shape (1, 3, 384, 512)\n"
     ]
    },
    {
     "name": "stderr",
     "output_type": "stream",
     "text": [
      " 98%|█████████▊| 410/420 [13:08<00:16,  1.63s/it]"
     ]
    },
    {
     "name": "stdout",
     "output_type": "stream",
     "text": [
      "\n",
      "image 1/1 C:\\Users\\admin\\.cache\\kagglehub\\datasets\\pavansanagapati\\images-dataset\\versions\\1\\data\\cars\\carsgraz_411.bmp: 384x512 41 objects, 1342.8ms\n",
      "Speed: 3.5ms preprocess, 1342.8ms inference, 102.6ms postprocess per image at shape (1, 3, 384, 512)\n"
     ]
    },
    {
     "name": "stderr",
     "output_type": "stream",
     "text": [
      " 98%|█████████▊| 411/420 [13:09<00:14,  1.59s/it]"
     ]
    },
    {
     "name": "stdout",
     "output_type": "stream",
     "text": [
      "\n",
      "image 1/1 C:\\Users\\admin\\.cache\\kagglehub\\datasets\\pavansanagapati\\images-dataset\\versions\\1\\data\\cars\\carsgraz_412.bmp: 384x512 51 objects, 1336.4ms\n",
      "Speed: 2.5ms preprocess, 1336.4ms inference, 153.4ms postprocess per image at shape (1, 3, 384, 512)\n"
     ]
    },
    {
     "name": "stderr",
     "output_type": "stream",
     "text": [
      " 98%|█████████▊| 412/420 [13:11<00:12,  1.58s/it]"
     ]
    },
    {
     "name": "stdout",
     "output_type": "stream",
     "text": [
      "\n",
      "image 1/1 C:\\Users\\admin\\.cache\\kagglehub\\datasets\\pavansanagapati\\images-dataset\\versions\\1\\data\\cars\\carsgraz_413.bmp: 384x512 13 objects, 1316.0ms\n",
      "Speed: 2.3ms preprocess, 1316.0ms inference, 34.9ms postprocess per image at shape (1, 3, 384, 512)\n"
     ]
    },
    {
     "name": "stderr",
     "output_type": "stream",
     "text": [
      " 98%|█████████▊| 413/420 [13:12<00:10,  1.52s/it]"
     ]
    },
    {
     "name": "stdout",
     "output_type": "stream",
     "text": [
      "\n",
      "image 1/1 C:\\Users\\admin\\.cache\\kagglehub\\datasets\\pavansanagapati\\images-dataset\\versions\\1\\data\\cars\\carsgraz_414.bmp: 512x384 58 objects, 1318.2ms\n",
      "Speed: 2.5ms preprocess, 1318.2ms inference, 161.0ms postprocess per image at shape (1, 3, 512, 384)\n"
     ]
    },
    {
     "name": "stderr",
     "output_type": "stream",
     "text": [
      " 99%|█████████▊| 414/420 [13:14<00:09,  1.56s/it]"
     ]
    },
    {
     "name": "stdout",
     "output_type": "stream",
     "text": [
      "\n",
      "image 1/1 C:\\Users\\admin\\.cache\\kagglehub\\datasets\\pavansanagapati\\images-dataset\\versions\\1\\data\\cars\\carsgraz_415.bmp: 384x512 58 objects, 1349.6ms\n",
      "Speed: 33.2ms preprocess, 1349.6ms inference, 166.1ms postprocess per image at shape (1, 3, 384, 512)\n"
     ]
    },
    {
     "name": "stderr",
     "output_type": "stream",
     "text": [
      " 99%|█████████▉| 415/420 [13:16<00:07,  1.58s/it]"
     ]
    },
    {
     "name": "stdout",
     "output_type": "stream",
     "text": [
      "\n",
      "image 1/1 C:\\Users\\admin\\.cache\\kagglehub\\datasets\\pavansanagapati\\images-dataset\\versions\\1\\data\\cars\\carsgraz_416.bmp: 384x512 51 objects, 1325.9ms\n",
      "Speed: 2.7ms preprocess, 1325.9ms inference, 156.5ms postprocess per image at shape (1, 3, 384, 512)\n"
     ]
    },
    {
     "name": "stderr",
     "output_type": "stream",
     "text": [
      " 99%|█████████▉| 416/420 [13:17<00:06,  1.57s/it]"
     ]
    },
    {
     "name": "stdout",
     "output_type": "stream",
     "text": [
      "\n",
      "image 1/1 C:\\Users\\admin\\.cache\\kagglehub\\datasets\\pavansanagapati\\images-dataset\\versions\\1\\data\\cars\\carsgraz_417.bmp: 384x512 73 objects, 1342.4ms\n",
      "Speed: 2.2ms preprocess, 1342.4ms inference, 203.9ms postprocess per image at shape (1, 3, 384, 512)\n"
     ]
    },
    {
     "name": "stderr",
     "output_type": "stream",
     "text": [
      " 99%|█████████▉| 417/420 [13:19<00:04,  1.60s/it]"
     ]
    },
    {
     "name": "stdout",
     "output_type": "stream",
     "text": [
      "\n",
      "image 1/1 C:\\Users\\admin\\.cache\\kagglehub\\datasets\\pavansanagapati\\images-dataset\\versions\\1\\data\\cars\\carsgraz_418.bmp: 384x512 60 objects, 1456.2ms\n",
      "Speed: 3.2ms preprocess, 1456.2ms inference, 171.4ms postprocess per image at shape (1, 3, 384, 512)\n"
     ]
    },
    {
     "name": "stderr",
     "output_type": "stream",
     "text": [
      "100%|█████████▉| 418/420 [13:20<00:03,  1.63s/it]"
     ]
    },
    {
     "name": "stdout",
     "output_type": "stream",
     "text": [
      "\n",
      "image 1/1 C:\\Users\\admin\\.cache\\kagglehub\\datasets\\pavansanagapati\\images-dataset\\versions\\1\\data\\cars\\carsgraz_419.bmp: 384x512 82 objects, 1330.3ms\n",
      "Speed: 2.7ms preprocess, 1330.3ms inference, 226.5ms postprocess per image at shape (1, 3, 384, 512)\n"
     ]
    },
    {
     "name": "stderr",
     "output_type": "stream",
     "text": [
      "100%|█████████▉| 419/420 [13:22<00:01,  1.68s/it]"
     ]
    },
    {
     "name": "stdout",
     "output_type": "stream",
     "text": [
      "\n",
      "image 1/1 C:\\Users\\admin\\.cache\\kagglehub\\datasets\\pavansanagapati\\images-dataset\\versions\\1\\data\\cars\\carsgraz_420.bmp: 384x512 44 objects, 1333.3ms\n",
      "Speed: 2.0ms preprocess, 1333.3ms inference, 100.5ms postprocess per image at shape (1, 3, 384, 512)\n"
     ]
    },
    {
     "name": "stderr",
     "output_type": "stream",
     "text": [
      "100%|██████████| 420/420 [13:24<00:00,  1.92s/it]\n"
     ]
    },
    {
     "name": "stdout",
     "output_type": "stream",
     "text": [
      "\n",
      " Processing class: cats\n"
     ]
    },
    {
     "name": "stderr",
     "output_type": "stream",
     "text": [
      "  0%|          | 0/202 [00:00<?, ?it/s]"
     ]
    },
    {
     "name": "stdout",
     "output_type": "stream",
     "text": [
      "\n",
      "image 1/1 C:\\Users\\admin\\.cache\\kagglehub\\datasets\\pavansanagapati\\images-dataset\\versions\\1\\data\\cats\\cat.1.jpg: 480x512 10 objects, 1701.1ms\n",
      "Speed: 2.8ms preprocess, 1701.1ms inference, 13.8ms postprocess per image at shape (1, 3, 480, 512)\n"
     ]
    },
    {
     "name": "stderr",
     "output_type": "stream",
     "text": [
      "  0%|          | 1/202 [00:01<05:52,  1.75s/it]"
     ]
    },
    {
     "name": "stdout",
     "output_type": "stream",
     "text": [
      "\n",
      "image 1/1 C:\\Users\\admin\\.cache\\kagglehub\\datasets\\pavansanagapati\\images-dataset\\versions\\1\\data\\cats\\cat.10.jpg: 512x512 10 objects, 1869.4ms\n",
      "Speed: 42.5ms preprocess, 1869.4ms inference, 22.7ms postprocess per image at shape (1, 3, 512, 512)\n"
     ]
    },
    {
     "name": "stderr",
     "output_type": "stream",
     "text": [
      "  1%|          | 2/202 [00:03<06:17,  1.89s/it]"
     ]
    },
    {
     "name": "stdout",
     "output_type": "stream",
     "text": [
      "\n",
      "image 1/1 C:\\Users\\admin\\.cache\\kagglehub\\datasets\\pavansanagapati\\images-dataset\\versions\\1\\data\\cats\\cat.100.jpg: 512x416 4 objects, 1482.2ms\n",
      "Speed: 2.9ms preprocess, 1482.2ms inference, 8.4ms postprocess per image at shape (1, 3, 512, 416)\n"
     ]
    },
    {
     "name": "stderr",
     "output_type": "stream",
     "text": [
      "  1%|▏         | 3/202 [00:05<05:42,  1.72s/it]"
     ]
    },
    {
     "name": "stdout",
     "output_type": "stream",
     "text": [
      "\n",
      "image 1/1 C:\\Users\\admin\\.cache\\kagglehub\\datasets\\pavansanagapati\\images-dataset\\versions\\1\\data\\cats\\cat.101.jpg: 352x512 4 objects, 1244.2ms\n",
      "Speed: 3.7ms preprocess, 1244.2ms inference, 4.8ms postprocess per image at shape (1, 3, 352, 512)\n"
     ]
    },
    {
     "name": "stderr",
     "output_type": "stream",
     "text": [
      "  2%|▏         | 4/202 [00:06<05:06,  1.55s/it]"
     ]
    },
    {
     "name": "stdout",
     "output_type": "stream",
     "text": [
      "\n",
      "image 1/1 C:\\Users\\admin\\.cache\\kagglehub\\datasets\\pavansanagapati\\images-dataset\\versions\\1\\data\\cats\\cat.102.jpg: 512x512 5 objects, 1832.0ms\n",
      "Speed: 3.7ms preprocess, 1832.0ms inference, 8.7ms postprocess per image at shape (1, 3, 512, 512)\n"
     ]
    },
    {
     "name": "stderr",
     "output_type": "stream",
     "text": [
      "  2%|▏         | 5/202 [00:08<05:27,  1.66s/it]"
     ]
    },
    {
     "name": "stdout",
     "output_type": "stream",
     "text": [
      "\n",
      "image 1/1 C:\\Users\\admin\\.cache\\kagglehub\\datasets\\pavansanagapati\\images-dataset\\versions\\1\\data\\cats\\cat.103.jpg: 416x512 7 objects, 1459.9ms\n",
      "Speed: 3.2ms preprocess, 1459.9ms inference, 13.6ms postprocess per image at shape (1, 3, 416, 512)\n"
     ]
    },
    {
     "name": "stderr",
     "output_type": "stream",
     "text": [
      "  3%|▎         | 6/202 [00:09<05:16,  1.61s/it]"
     ]
    },
    {
     "name": "stdout",
     "output_type": "stream",
     "text": [
      "\n",
      "image 1/1 C:\\Users\\admin\\.cache\\kagglehub\\datasets\\pavansanagapati\\images-dataset\\versions\\1\\data\\cats\\cat.104.jpg: 512x352 7 objects, 1262.5ms\n",
      "Speed: 3.6ms preprocess, 1262.5ms inference, 9.8ms postprocess per image at shape (1, 3, 512, 352)\n"
     ]
    },
    {
     "name": "stderr",
     "output_type": "stream",
     "text": [
      "  3%|▎         | 7/202 [00:11<04:55,  1.51s/it]"
     ]
    },
    {
     "name": "stdout",
     "output_type": "stream",
     "text": [
      "\n",
      "image 1/1 C:\\Users\\admin\\.cache\\kagglehub\\datasets\\pavansanagapati\\images-dataset\\versions\\1\\data\\cats\\cat.105.jpg: 416x512 5 objects, 1414.5ms\n",
      "Speed: 2.6ms preprocess, 1414.5ms inference, 4.8ms postprocess per image at shape (1, 3, 416, 512)\n"
     ]
    },
    {
     "name": "stderr",
     "output_type": "stream",
     "text": [
      "  4%|▍         | 8/202 [00:12<04:50,  1.50s/it]"
     ]
    },
    {
     "name": "stdout",
     "output_type": "stream",
     "text": [
      "\n",
      "image 1/1 C:\\Users\\admin\\.cache\\kagglehub\\datasets\\pavansanagapati\\images-dataset\\versions\\1\\data\\cats\\cat.106.jpg: 480x512 13 objects, 1716.5ms\n",
      "Speed: 2.9ms preprocess, 1716.5ms inference, 20.2ms postprocess per image at shape (1, 3, 480, 512)\n"
     ]
    },
    {
     "name": "stderr",
     "output_type": "stream",
     "text": [
      "  4%|▍         | 9/202 [00:14<05:06,  1.59s/it]"
     ]
    },
    {
     "name": "stdout",
     "output_type": "stream",
     "text": [
      "\n",
      "image 1/1 C:\\Users\\admin\\.cache\\kagglehub\\datasets\\pavansanagapati\\images-dataset\\versions\\1\\data\\cats\\cat.107.jpg: 384x512 3 objects, 1328.8ms\n",
      "Speed: 2.6ms preprocess, 1328.8ms inference, 7.0ms postprocess per image at shape (1, 3, 384, 512)\n"
     ]
    },
    {
     "name": "stderr",
     "output_type": "stream",
     "text": [
      "  5%|▍         | 10/202 [00:15<04:51,  1.52s/it]"
     ]
    },
    {
     "name": "stdout",
     "output_type": "stream",
     "text": [
      "\n",
      "image 1/1 C:\\Users\\admin\\.cache\\kagglehub\\datasets\\pavansanagapati\\images-dataset\\versions\\1\\data\\cats\\cat.108.jpg: 352x512 25 objects, 1220.4ms\n",
      "Speed: 1.6ms preprocess, 1220.4ms inference, 37.7ms postprocess per image at shape (1, 3, 352, 512)\n"
     ]
    },
    {
     "name": "stderr",
     "output_type": "stream",
     "text": [
      "  5%|▌         | 11/202 [00:17<04:38,  1.46s/it]"
     ]
    },
    {
     "name": "stdout",
     "output_type": "stream",
     "text": [
      "\n",
      "image 1/1 C:\\Users\\admin\\.cache\\kagglehub\\datasets\\pavansanagapati\\images-dataset\\versions\\1\\data\\cats\\cat.109.jpg: 384x512 15 objects, 1355.5ms\n",
      "Speed: 1.7ms preprocess, 1355.5ms inference, 26.1ms postprocess per image at shape (1, 3, 384, 512)\n"
     ]
    },
    {
     "name": "stderr",
     "output_type": "stream",
     "text": [
      "  6%|▌         | 12/202 [00:18<04:35,  1.45s/it]"
     ]
    },
    {
     "name": "stdout",
     "output_type": "stream",
     "text": [
      "\n",
      "image 1/1 C:\\Users\\admin\\.cache\\kagglehub\\datasets\\pavansanagapati\\images-dataset\\versions\\1\\data\\cats\\cat.11.jpg: 512x512 19 objects, 1840.1ms\n",
      "Speed: 3.0ms preprocess, 1840.1ms inference, 31.3ms postprocess per image at shape (1, 3, 512, 512)\n"
     ]
    },
    {
     "name": "stderr",
     "output_type": "stream",
     "text": [
      "  6%|▋         | 13/202 [00:20<05:01,  1.59s/it]"
     ]
    },
    {
     "name": "stdout",
     "output_type": "stream",
     "text": [
      "\n",
      "image 1/1 C:\\Users\\admin\\.cache\\kagglehub\\datasets\\pavansanagapati\\images-dataset\\versions\\1\\data\\cats\\cat.110.jpg: 512x384 11 objects, 1335.2ms\n",
      "Speed: 3.6ms preprocess, 1335.2ms inference, 18.4ms postprocess per image at shape (1, 3, 512, 384)\n"
     ]
    },
    {
     "name": "stderr",
     "output_type": "stream",
     "text": [
      "  7%|▋         | 14/202 [00:21<04:48,  1.53s/it]"
     ]
    },
    {
     "name": "stdout",
     "output_type": "stream",
     "text": [
      "\n",
      "image 1/1 C:\\Users\\admin\\.cache\\kagglehub\\datasets\\pavansanagapati\\images-dataset\\versions\\1\\data\\cats\\cat.111.jpg: 512x448 10 objects, 1561.1ms\n",
      "Speed: 2.4ms preprocess, 1561.1ms inference, 12.1ms postprocess per image at shape (1, 3, 512, 448)\n"
     ]
    },
    {
     "name": "stderr",
     "output_type": "stream",
     "text": [
      "  7%|▋         | 15/202 [00:23<04:50,  1.56s/it]"
     ]
    },
    {
     "name": "stdout",
     "output_type": "stream",
     "text": [
      "\n",
      "image 1/1 C:\\Users\\admin\\.cache\\kagglehub\\datasets\\pavansanagapati\\images-dataset\\versions\\1\\data\\cats\\cat.112.jpg: 384x512 7 objects, 1373.3ms\n",
      "Speed: 2.2ms preprocess, 1373.3ms inference, 13.4ms postprocess per image at shape (1, 3, 384, 512)\n"
     ]
    },
    {
     "name": "stderr",
     "output_type": "stream",
     "text": [
      "  8%|▊         | 16/202 [00:24<04:42,  1.52s/it]"
     ]
    },
    {
     "name": "stdout",
     "output_type": "stream",
     "text": [
      "\n",
      "image 1/1 C:\\Users\\admin\\.cache\\kagglehub\\datasets\\pavansanagapati\\images-dataset\\versions\\1\\data\\cats\\cat.113.jpg: 416x512 5 objects, 1427.6ms\n",
      "Speed: 1.9ms preprocess, 1427.6ms inference, 8.5ms postprocess per image at shape (1, 3, 416, 512)\n"
     ]
    },
    {
     "name": "stderr",
     "output_type": "stream",
     "text": [
      "  8%|▊         | 17/202 [00:26<04:37,  1.50s/it]"
     ]
    },
    {
     "name": "stdout",
     "output_type": "stream",
     "text": [
      "\n",
      "image 1/1 C:\\Users\\admin\\.cache\\kagglehub\\datasets\\pavansanagapati\\images-dataset\\versions\\1\\data\\cats\\cat.114.jpg: 384x512 17 objects, 1410.3ms\n",
      "Speed: 34.0ms preprocess, 1410.3ms inference, 17.9ms postprocess per image at shape (1, 3, 384, 512)\n"
     ]
    },
    {
     "name": "stderr",
     "output_type": "stream",
     "text": [
      "  9%|▉         | 18/202 [00:27<04:36,  1.50s/it]"
     ]
    },
    {
     "name": "stdout",
     "output_type": "stream",
     "text": [
      "\n",
      "image 1/1 C:\\Users\\admin\\.cache\\kagglehub\\datasets\\pavansanagapati\\images-dataset\\versions\\1\\data\\cats\\cat.115.jpg: 512x448 11 objects, 1534.1ms\n",
      "Speed: 1.7ms preprocess, 1534.1ms inference, 8.9ms postprocess per image at shape (1, 3, 512, 448)\n"
     ]
    },
    {
     "name": "stderr",
     "output_type": "stream",
     "text": [
      "  9%|▉         | 19/202 [00:29<04:39,  1.53s/it]"
     ]
    },
    {
     "name": "stdout",
     "output_type": "stream",
     "text": [
      "\n",
      "image 1/1 C:\\Users\\admin\\.cache\\kagglehub\\datasets\\pavansanagapati\\images-dataset\\versions\\1\\data\\cats\\cat.116.jpg: 416x512 5 objects, 1426.0ms\n",
      "Speed: 5.1ms preprocess, 1426.0ms inference, 9.3ms postprocess per image at shape (1, 3, 416, 512)\n"
     ]
    },
    {
     "name": "stderr",
     "output_type": "stream",
     "text": [
      " 10%|▉         | 20/202 [00:30<04:34,  1.51s/it]"
     ]
    },
    {
     "name": "stdout",
     "output_type": "stream",
     "text": [
      "\n",
      "image 1/1 C:\\Users\\admin\\.cache\\kagglehub\\datasets\\pavansanagapati\\images-dataset\\versions\\1\\data\\cats\\cat.117.jpg: 480x512 8 objects, 1729.8ms\n",
      "Speed: 3.6ms preprocess, 1729.8ms inference, 13.0ms postprocess per image at shape (1, 3, 480, 512)\n"
     ]
    },
    {
     "name": "stderr",
     "output_type": "stream",
     "text": [
      " 10%|█         | 21/202 [00:32<04:47,  1.59s/it]"
     ]
    },
    {
     "name": "stdout",
     "output_type": "stream",
     "text": [
      "\n",
      "image 1/1 C:\\Users\\admin\\.cache\\kagglehub\\datasets\\pavansanagapati\\images-dataset\\versions\\1\\data\\cats\\cat.118.jpg: 384x512 12 objects, 1357.2ms\n",
      "Speed: 2.7ms preprocess, 1357.2ms inference, 20.3ms postprocess per image at shape (1, 3, 384, 512)\n"
     ]
    },
    {
     "name": "stderr",
     "output_type": "stream",
     "text": [
      " 11%|█         | 22/202 [00:34<04:36,  1.54s/it]"
     ]
    },
    {
     "name": "stdout",
     "output_type": "stream",
     "text": [
      "\n",
      "image 1/1 C:\\Users\\admin\\.cache\\kagglehub\\datasets\\pavansanagapati\\images-dataset\\versions\\1\\data\\cats\\cat.119.jpg: 384x512 7 objects, 1328.8ms\n",
      "Speed: 3.9ms preprocess, 1328.8ms inference, 9.3ms postprocess per image at shape (1, 3, 384, 512)\n"
     ]
    },
    {
     "name": "stderr",
     "output_type": "stream",
     "text": [
      " 11%|█▏        | 23/202 [00:35<04:26,  1.49s/it]"
     ]
    },
    {
     "name": "stdout",
     "output_type": "stream",
     "text": [
      "\n",
      "image 1/1 C:\\Users\\admin\\.cache\\kagglehub\\datasets\\pavansanagapati\\images-dataset\\versions\\1\\data\\cats\\cat.12.jpg: 384x512 16 objects, 1355.8ms\n",
      "Speed: 2.2ms preprocess, 1355.8ms inference, 13.6ms postprocess per image at shape (1, 3, 384, 512)\n"
     ]
    },
    {
     "name": "stderr",
     "output_type": "stream",
     "text": [
      " 12%|█▏        | 24/202 [00:36<04:20,  1.46s/it]"
     ]
    },
    {
     "name": "stdout",
     "output_type": "stream",
     "text": [
      "\n",
      "image 1/1 C:\\Users\\admin\\.cache\\kagglehub\\datasets\\pavansanagapati\\images-dataset\\versions\\1\\data\\cats\\cat.120.jpg: 384x512 13 objects, 1437.8ms\n",
      "Speed: 3.6ms preprocess, 1437.8ms inference, 22.3ms postprocess per image at shape (1, 3, 384, 512)\n"
     ]
    },
    {
     "name": "stderr",
     "output_type": "stream",
     "text": [
      " 12%|█▏        | 25/202 [00:38<04:21,  1.48s/it]"
     ]
    },
    {
     "name": "stdout",
     "output_type": "stream",
     "text": [
      "\n",
      "image 1/1 C:\\Users\\admin\\.cache\\kagglehub\\datasets\\pavansanagapati\\images-dataset\\versions\\1\\data\\cats\\cat.121.jpg: 512x352 14 objects, 1243.8ms\n",
      "Speed: 4.7ms preprocess, 1243.8ms inference, 15.7ms postprocess per image at shape (1, 3, 512, 352)\n"
     ]
    },
    {
     "name": "stderr",
     "output_type": "stream",
     "text": [
      " 13%|█▎        | 26/202 [00:39<04:11,  1.43s/it]"
     ]
    },
    {
     "name": "stdout",
     "output_type": "stream",
     "text": [
      "\n",
      "image 1/1 C:\\Users\\admin\\.cache\\kagglehub\\datasets\\pavansanagapati\\images-dataset\\versions\\1\\data\\cats\\cat.122.jpg: 512x384 15 objects, 1370.5ms\n",
      "Speed: 2.0ms preprocess, 1370.5ms inference, 29.4ms postprocess per image at shape (1, 3, 512, 384)\n"
     ]
    },
    {
     "name": "stderr",
     "output_type": "stream",
     "text": [
      " 13%|█▎        | 27/202 [00:41<04:10,  1.43s/it]"
     ]
    },
    {
     "name": "stdout",
     "output_type": "stream",
     "text": [
      "\n",
      "image 1/1 C:\\Users\\admin\\.cache\\kagglehub\\datasets\\pavansanagapati\\images-dataset\\versions\\1\\data\\cats\\cat.123.jpg: 416x512 12 objects, 1419.1ms\n",
      "Speed: 1.9ms preprocess, 1419.1ms inference, 12.8ms postprocess per image at shape (1, 3, 416, 512)\n"
     ]
    },
    {
     "name": "stderr",
     "output_type": "stream",
     "text": [
      " 14%|█▍        | 28/202 [00:42<04:11,  1.44s/it]"
     ]
    },
    {
     "name": "stdout",
     "output_type": "stream",
     "text": [
      "\n",
      "image 1/1 C:\\Users\\admin\\.cache\\kagglehub\\datasets\\pavansanagapati\\images-dataset\\versions\\1\\data\\cats\\cat.124.jpg: 416x512 11 objects, 1541.2ms\n",
      "Speed: 2.5ms preprocess, 1541.2ms inference, 20.6ms postprocess per image at shape (1, 3, 416, 512)\n"
     ]
    },
    {
     "name": "stderr",
     "output_type": "stream",
     "text": [
      " 14%|█▍        | 29/202 [00:44<04:18,  1.50s/it]"
     ]
    },
    {
     "name": "stdout",
     "output_type": "stream",
     "text": [
      "\n",
      "image 1/1 C:\\Users\\admin\\.cache\\kagglehub\\datasets\\pavansanagapati\\images-dataset\\versions\\1\\data\\cats\\cat.125.jpg: 512x512 20 objects, 1747.4ms\n",
      "Speed: 2.8ms preprocess, 1747.4ms inference, 35.7ms postprocess per image at shape (1, 3, 512, 512)\n"
     ]
    },
    {
     "name": "stderr",
     "output_type": "stream",
     "text": [
      " 15%|█▍        | 30/202 [00:46<04:35,  1.60s/it]"
     ]
    },
    {
     "name": "stdout",
     "output_type": "stream",
     "text": [
      "\n",
      "image 1/1 C:\\Users\\admin\\.cache\\kagglehub\\datasets\\pavansanagapati\\images-dataset\\versions\\1\\data\\cats\\cat.126.jpg: 416x512 26 objects, 1445.2ms\n",
      "Speed: 2.0ms preprocess, 1445.2ms inference, 33.5ms postprocess per image at shape (1, 3, 416, 512)\n"
     ]
    },
    {
     "name": "stderr",
     "output_type": "stream",
     "text": [
      " 15%|█▌        | 31/202 [00:47<04:29,  1.58s/it]"
     ]
    },
    {
     "name": "stdout",
     "output_type": "stream",
     "text": [
      "\n",
      "image 1/1 C:\\Users\\admin\\.cache\\kagglehub\\datasets\\pavansanagapati\\images-dataset\\versions\\1\\data\\cats\\cat.127.jpg: 384x512 11 objects, 1342.1ms\n",
      "Speed: 2.7ms preprocess, 1342.1ms inference, 11.2ms postprocess per image at shape (1, 3, 384, 512)\n"
     ]
    },
    {
     "name": "stderr",
     "output_type": "stream",
     "text": [
      " 16%|█▌        | 32/202 [00:49<04:18,  1.52s/it]"
     ]
    },
    {
     "name": "stdout",
     "output_type": "stream",
     "text": [
      "\n",
      "image 1/1 C:\\Users\\admin\\.cache\\kagglehub\\datasets\\pavansanagapati\\images-dataset\\versions\\1\\data\\cats\\cat.128.jpg: 384x512 9 objects, 1341.1ms\n",
      "Speed: 4.2ms preprocess, 1341.1ms inference, 17.2ms postprocess per image at shape (1, 3, 384, 512)\n"
     ]
    },
    {
     "name": "stderr",
     "output_type": "stream",
     "text": [
      " 16%|█▋        | 33/202 [00:50<04:11,  1.49s/it]"
     ]
    },
    {
     "name": "stdout",
     "output_type": "stream",
     "text": [
      "\n",
      "image 1/1 C:\\Users\\admin\\.cache\\kagglehub\\datasets\\pavansanagapati\\images-dataset\\versions\\1\\data\\cats\\cat.129.jpg: 352x512 5 objects, 1266.3ms\n",
      "Speed: 35.8ms preprocess, 1266.3ms inference, 16.6ms postprocess per image at shape (1, 3, 352, 512)\n"
     ]
    },
    {
     "name": "stderr",
     "output_type": "stream",
     "text": [
      " 17%|█▋        | 34/202 [00:51<04:03,  1.45s/it]"
     ]
    },
    {
     "name": "stdout",
     "output_type": "stream",
     "text": [
      "\n",
      "image 1/1 C:\\Users\\admin\\.cache\\kagglehub\\datasets\\pavansanagapati\\images-dataset\\versions\\1\\data\\cats\\cat.13.jpg: 352x512 15 objects, 1213.5ms\n",
      "Speed: 3.0ms preprocess, 1213.5ms inference, 21.1ms postprocess per image at shape (1, 3, 352, 512)\n"
     ]
    },
    {
     "name": "stderr",
     "output_type": "stream",
     "text": [
      " 17%|█▋        | 35/202 [00:53<03:53,  1.40s/it]"
     ]
    },
    {
     "name": "stdout",
     "output_type": "stream",
     "text": [
      "\n",
      "image 1/1 C:\\Users\\admin\\.cache\\kagglehub\\datasets\\pavansanagapati\\images-dataset\\versions\\1\\data\\cats\\cat.130.jpg: 512x448 5 objects, 1503.5ms\n",
      "Speed: 1.8ms preprocess, 1503.5ms inference, 9.7ms postprocess per image at shape (1, 3, 512, 448)\n"
     ]
    },
    {
     "name": "stderr",
     "output_type": "stream",
     "text": [
      " 18%|█▊        | 36/202 [00:54<03:59,  1.44s/it]"
     ]
    },
    {
     "name": "stdout",
     "output_type": "stream",
     "text": [
      "\n",
      "image 1/1 C:\\Users\\admin\\.cache\\kagglehub\\datasets\\pavansanagapati\\images-dataset\\versions\\1\\data\\cats\\cat.131.jpg: 416x512 14 objects, 1473.0ms\n",
      "Speed: 1.8ms preprocess, 1473.0ms inference, 21.4ms postprocess per image at shape (1, 3, 416, 512)\n"
     ]
    },
    {
     "name": "stderr",
     "output_type": "stream",
     "text": [
      " 18%|█▊        | 37/202 [00:56<04:02,  1.47s/it]"
     ]
    },
    {
     "name": "stdout",
     "output_type": "stream",
     "text": [
      "\n",
      "image 1/1 C:\\Users\\admin\\.cache\\kagglehub\\datasets\\pavansanagapati\\images-dataset\\versions\\1\\data\\cats\\cat.132.jpg: 352x512 7 objects, 1242.4ms\n",
      "Speed: 1.6ms preprocess, 1242.4ms inference, 11.1ms postprocess per image at shape (1, 3, 352, 512)\n"
     ]
    },
    {
     "name": "stderr",
     "output_type": "stream",
     "text": [
      " 19%|█▉        | 38/202 [00:57<03:52,  1.42s/it]"
     ]
    },
    {
     "name": "stdout",
     "output_type": "stream",
     "text": [
      "\n",
      "image 1/1 C:\\Users\\admin\\.cache\\kagglehub\\datasets\\pavansanagapati\\images-dataset\\versions\\1\\data\\cats\\cat.133.jpg: 384x512 11 objects, 1312.3ms\n",
      "Speed: 4.3ms preprocess, 1312.3ms inference, 20.2ms postprocess per image at shape (1, 3, 384, 512)\n"
     ]
    },
    {
     "name": "stderr",
     "output_type": "stream",
     "text": [
      " 19%|█▉        | 39/202 [00:58<03:49,  1.41s/it]"
     ]
    },
    {
     "name": "stdout",
     "output_type": "stream",
     "text": [
      "\n",
      "image 1/1 C:\\Users\\admin\\.cache\\kagglehub\\datasets\\pavansanagapati\\images-dataset\\versions\\1\\data\\cats\\cat.134.jpg: 384x512 7 objects, 1294.7ms\n",
      "Speed: 1.9ms preprocess, 1294.7ms inference, 12.6ms postprocess per image at shape (1, 3, 384, 512)\n"
     ]
    },
    {
     "name": "stderr",
     "output_type": "stream",
     "text": [
      " 20%|█▉        | 40/202 [01:00<03:44,  1.39s/it]"
     ]
    },
    {
     "name": "stdout",
     "output_type": "stream",
     "text": [
      "\n",
      "image 1/1 C:\\Users\\admin\\.cache\\kagglehub\\datasets\\pavansanagapati\\images-dataset\\versions\\1\\data\\cats\\cat.135.jpg: 512x512 14 objects, 1849.9ms\n",
      "Speed: 3.7ms preprocess, 1849.9ms inference, 26.4ms postprocess per image at shape (1, 3, 512, 512)\n"
     ]
    },
    {
     "name": "stderr",
     "output_type": "stream",
     "text": [
      " 20%|██        | 41/202 [01:02<04:08,  1.55s/it]"
     ]
    },
    {
     "name": "stdout",
     "output_type": "stream",
     "text": [
      "\n",
      "image 1/1 C:\\Users\\admin\\.cache\\kagglehub\\datasets\\pavansanagapati\\images-dataset\\versions\\1\\data\\cats\\cat.136.jpg: 384x512 7 objects, 1290.4ms\n",
      "Speed: 2.3ms preprocess, 1290.4ms inference, 12.9ms postprocess per image at shape (1, 3, 384, 512)\n"
     ]
    },
    {
     "name": "stderr",
     "output_type": "stream",
     "text": [
      " 21%|██        | 42/202 [01:03<03:57,  1.48s/it]"
     ]
    },
    {
     "name": "stdout",
     "output_type": "stream",
     "text": [
      "\n",
      "image 1/1 C:\\Users\\admin\\.cache\\kagglehub\\datasets\\pavansanagapati\\images-dataset\\versions\\1\\data\\cats\\cat.137.jpg: 512x416 7 objects, 1399.7ms\n",
      "Speed: 2.5ms preprocess, 1399.7ms inference, 15.2ms postprocess per image at shape (1, 3, 512, 416)\n"
     ]
    },
    {
     "name": "stderr",
     "output_type": "stream",
     "text": [
      " 21%|██▏       | 43/202 [01:04<03:54,  1.47s/it]"
     ]
    },
    {
     "name": "stdout",
     "output_type": "stream",
     "text": [
      "\n",
      "image 1/1 C:\\Users\\admin\\.cache\\kagglehub\\datasets\\pavansanagapati\\images-dataset\\versions\\1\\data\\cats\\cat.138.jpg: 512x448 8 objects, 1508.4ms\n",
      "Speed: 2.2ms preprocess, 1508.4ms inference, 8.4ms postprocess per image at shape (1, 3, 512, 448)\n"
     ]
    },
    {
     "name": "stderr",
     "output_type": "stream",
     "text": [
      " 22%|██▏       | 44/202 [01:06<03:56,  1.50s/it]"
     ]
    },
    {
     "name": "stdout",
     "output_type": "stream",
     "text": [
      "\n",
      "image 1/1 C:\\Users\\admin\\.cache\\kagglehub\\datasets\\pavansanagapati\\images-dataset\\versions\\1\\data\\cats\\cat.139.jpg: 320x512 5 objects, 1250.8ms\n",
      "Speed: 1.5ms preprocess, 1250.8ms inference, 7.4ms postprocess per image at shape (1, 3, 320, 512)\n"
     ]
    },
    {
     "name": "stderr",
     "output_type": "stream",
     "text": [
      " 22%|██▏       | 45/202 [01:07<03:44,  1.43s/it]"
     ]
    },
    {
     "name": "stdout",
     "output_type": "stream",
     "text": [
      "\n",
      "image 1/1 C:\\Users\\admin\\.cache\\kagglehub\\datasets\\pavansanagapati\\images-dataset\\versions\\1\\data\\cats\\cat.14.jpg: 448x512 8 objects, 1542.1ms\n",
      "Speed: 3.1ms preprocess, 1542.1ms inference, 9.5ms postprocess per image at shape (1, 3, 448, 512)\n"
     ]
    },
    {
     "name": "stderr",
     "output_type": "stream",
     "text": [
      " 23%|██▎       | 46/202 [01:09<03:50,  1.48s/it]"
     ]
    },
    {
     "name": "stdout",
     "output_type": "stream",
     "text": [
      "\n",
      "image 1/1 C:\\Users\\admin\\.cache\\kagglehub\\datasets\\pavansanagapati\\images-dataset\\versions\\1\\data\\cats\\cat.140.jpg: 512x512 12 objects, 1711.1ms\n",
      "Speed: 3.2ms preprocess, 1711.1ms inference, 9.7ms postprocess per image at shape (1, 3, 512, 512)\n"
     ]
    },
    {
     "name": "stderr",
     "output_type": "stream",
     "text": [
      " 23%|██▎       | 47/202 [01:11<04:02,  1.56s/it]"
     ]
    },
    {
     "name": "stdout",
     "output_type": "stream",
     "text": [
      "\n",
      "image 1/1 C:\\Users\\admin\\.cache\\kagglehub\\datasets\\pavansanagapati\\images-dataset\\versions\\1\\data\\cats\\cat.141.jpg: 384x512 30 objects, 1339.7ms\n",
      "Speed: 3.4ms preprocess, 1339.7ms inference, 46.8ms postprocess per image at shape (1, 3, 384, 512)\n"
     ]
    },
    {
     "name": "stderr",
     "output_type": "stream",
     "text": [
      " 24%|██▍       | 48/202 [01:12<03:55,  1.53s/it]"
     ]
    },
    {
     "name": "stdout",
     "output_type": "stream",
     "text": [
      "\n",
      "image 1/1 C:\\Users\\admin\\.cache\\kagglehub\\datasets\\pavansanagapati\\images-dataset\\versions\\1\\data\\cats\\cat.142.jpg: 512x384 5 objects, 1401.5ms\n",
      "Speed: 2.2ms preprocess, 1401.5ms inference, 10.1ms postprocess per image at shape (1, 3, 512, 384)\n"
     ]
    },
    {
     "name": "stderr",
     "output_type": "stream",
     "text": [
      " 24%|██▍       | 49/202 [01:13<03:50,  1.51s/it]"
     ]
    },
    {
     "name": "stdout",
     "output_type": "stream",
     "text": [
      "\n",
      "image 1/1 C:\\Users\\admin\\.cache\\kagglehub\\datasets\\pavansanagapati\\images-dataset\\versions\\1\\data\\cats\\cat.143.jpg: 512x384 14 objects, 1306.8ms\n",
      "Speed: 2.3ms preprocess, 1306.8ms inference, 27.5ms postprocess per image at shape (1, 3, 512, 384)\n"
     ]
    },
    {
     "name": "stderr",
     "output_type": "stream",
     "text": [
      " 25%|██▍       | 50/202 [01:15<03:43,  1.47s/it]"
     ]
    },
    {
     "name": "stdout",
     "output_type": "stream",
     "text": [
      "\n",
      "image 1/1 C:\\Users\\admin\\.cache\\kagglehub\\datasets\\pavansanagapati\\images-dataset\\versions\\1\\data\\cats\\cat.144.jpg: 416x512 19 objects, 1381.3ms\n",
      "Speed: 1.8ms preprocess, 1381.3ms inference, 32.4ms postprocess per image at shape (1, 3, 416, 512)\n"
     ]
    },
    {
     "name": "stderr",
     "output_type": "stream",
     "text": [
      " 25%|██▌       | 51/202 [01:16<03:41,  1.47s/it]"
     ]
    },
    {
     "name": "stdout",
     "output_type": "stream",
     "text": [
      "\n",
      "image 1/1 C:\\Users\\admin\\.cache\\kagglehub\\datasets\\pavansanagapati\\images-dataset\\versions\\1\\data\\cats\\cat.145.jpg: 512x352 14 objects, 1234.8ms\n",
      "Speed: 1.9ms preprocess, 1234.8ms inference, 21.0ms postprocess per image at shape (1, 3, 512, 352)\n"
     ]
    },
    {
     "name": "stderr",
     "output_type": "stream",
     "text": [
      " 26%|██▌       | 52/202 [01:18<03:32,  1.42s/it]"
     ]
    },
    {
     "name": "stdout",
     "output_type": "stream",
     "text": [
      "\n",
      "image 1/1 C:\\Users\\admin\\.cache\\kagglehub\\datasets\\pavansanagapati\\images-dataset\\versions\\1\\data\\cats\\cat.146.jpg: 512x352 8 objects, 1323.2ms\n",
      "Speed: 1.9ms preprocess, 1323.2ms inference, 4.2ms postprocess per image at shape (1, 3, 512, 352)\n"
     ]
    },
    {
     "name": "stderr",
     "output_type": "stream",
     "text": [
      " 26%|██▌       | 53/202 [01:19<03:28,  1.40s/it]"
     ]
    },
    {
     "name": "stdout",
     "output_type": "stream",
     "text": [
      "\n",
      "image 1/1 C:\\Users\\admin\\.cache\\kagglehub\\datasets\\pavansanagapati\\images-dataset\\versions\\1\\data\\cats\\cat.147.jpg: 384x512 18 objects, 1316.5ms\n",
      "Speed: 2.7ms preprocess, 1316.5ms inference, 23.1ms postprocess per image at shape (1, 3, 384, 512)\n"
     ]
    },
    {
     "name": "stderr",
     "output_type": "stream",
     "text": [
      " 27%|██▋       | 54/202 [01:20<03:26,  1.39s/it]"
     ]
    },
    {
     "name": "stdout",
     "output_type": "stream",
     "text": [
      "\n",
      "image 1/1 C:\\Users\\admin\\.cache\\kagglehub\\datasets\\pavansanagapati\\images-dataset\\versions\\1\\data\\cats\\cat.148.jpg: 384x512 5 objects, 1306.8ms\n",
      "Speed: 2.7ms preprocess, 1306.8ms inference, 5.3ms postprocess per image at shape (1, 3, 384, 512)\n"
     ]
    },
    {
     "name": "stderr",
     "output_type": "stream",
     "text": [
      " 27%|██▋       | 55/202 [01:22<03:22,  1.38s/it]"
     ]
    },
    {
     "name": "stdout",
     "output_type": "stream",
     "text": [
      "\n",
      "image 1/1 C:\\Users\\admin\\.cache\\kagglehub\\datasets\\pavansanagapati\\images-dataset\\versions\\1\\data\\cats\\cat.149.jpg: 512x512 13 objects, 1853.8ms\n",
      "Speed: 2.8ms preprocess, 1853.8ms inference, 28.9ms postprocess per image at shape (1, 3, 512, 512)\n"
     ]
    },
    {
     "name": "stderr",
     "output_type": "stream",
     "text": [
      " 28%|██▊       | 56/202 [01:24<03:45,  1.54s/it]"
     ]
    },
    {
     "name": "stdout",
     "output_type": "stream",
     "text": [
      "\n",
      "image 1/1 C:\\Users\\admin\\.cache\\kagglehub\\datasets\\pavansanagapati\\images-dataset\\versions\\1\\data\\cats\\cat.15.jpg: 448x512 2 objects, 1593.3ms\n",
      "Speed: 2.0ms preprocess, 1593.3ms inference, 5.9ms postprocess per image at shape (1, 3, 448, 512)\n"
     ]
    },
    {
     "name": "stderr",
     "output_type": "stream",
     "text": [
      " 28%|██▊       | 57/202 [01:25<03:47,  1.57s/it]"
     ]
    },
    {
     "name": "stdout",
     "output_type": "stream",
     "text": [
      "\n",
      "image 1/1 C:\\Users\\admin\\.cache\\kagglehub\\datasets\\pavansanagapati\\images-dataset\\versions\\1\\data\\cats\\cat.150.jpg: 416x512 19 objects, 1433.6ms\n",
      "Speed: 2.6ms preprocess, 1433.6ms inference, 33.0ms postprocess per image at shape (1, 3, 416, 512)\n"
     ]
    },
    {
     "name": "stderr",
     "output_type": "stream",
     "text": [
      " 29%|██▊       | 58/202 [01:27<03:43,  1.55s/it]"
     ]
    },
    {
     "name": "stdout",
     "output_type": "stream",
     "text": [
      "\n",
      "image 1/1 C:\\Users\\admin\\.cache\\kagglehub\\datasets\\pavansanagapati\\images-dataset\\versions\\1\\data\\cats\\cat.151.jpg: 416x512 21 objects, 1424.4ms\n",
      "Speed: 2.6ms preprocess, 1424.4ms inference, 36.9ms postprocess per image at shape (1, 3, 416, 512)\n"
     ]
    },
    {
     "name": "stderr",
     "output_type": "stream",
     "text": [
      " 29%|██▉       | 59/202 [01:28<03:40,  1.54s/it]"
     ]
    },
    {
     "name": "stdout",
     "output_type": "stream",
     "text": [
      "\n",
      "image 1/1 C:\\Users\\admin\\.cache\\kagglehub\\datasets\\pavansanagapati\\images-dataset\\versions\\1\\data\\cats\\cat.152.jpg: 384x512 11 objects, 1435.5ms\n",
      "Speed: 2.4ms preprocess, 1435.5ms inference, 18.5ms postprocess per image at shape (1, 3, 384, 512)\n"
     ]
    },
    {
     "name": "stderr",
     "output_type": "stream",
     "text": [
      " 30%|██▉       | 60/202 [01:30<03:36,  1.53s/it]"
     ]
    },
    {
     "name": "stdout",
     "output_type": "stream",
     "text": [
      "\n",
      "image 1/1 C:\\Users\\admin\\.cache\\kagglehub\\datasets\\pavansanagapati\\images-dataset\\versions\\1\\data\\cats\\cat.153.jpg: 288x512 8 objects, 1068.4ms\n",
      "Speed: 1.5ms preprocess, 1068.4ms inference, 10.3ms postprocess per image at shape (1, 3, 288, 512)\n"
     ]
    },
    {
     "name": "stderr",
     "output_type": "stream",
     "text": [
      " 30%|███       | 61/202 [01:31<03:17,  1.40s/it]"
     ]
    },
    {
     "name": "stdout",
     "output_type": "stream",
     "text": [
      "\n",
      "image 1/1 C:\\Users\\admin\\.cache\\kagglehub\\datasets\\pavansanagapati\\images-dataset\\versions\\1\\data\\cats\\cat.154.jpg: 512x288 14 objects, 1062.4ms\n",
      "Speed: 3.5ms preprocess, 1062.4ms inference, 9.7ms postprocess per image at shape (1, 3, 512, 288)\n"
     ]
    },
    {
     "name": "stderr",
     "output_type": "stream",
     "text": [
      " 31%|███       | 62/202 [01:32<03:04,  1.32s/it]"
     ]
    },
    {
     "name": "stdout",
     "output_type": "stream",
     "text": [
      "\n",
      "image 1/1 C:\\Users\\admin\\.cache\\kagglehub\\datasets\\pavansanagapati\\images-dataset\\versions\\1\\data\\cats\\cat.155.jpg: 512x320 10 objects, 1274.0ms\n",
      "Speed: 1.8ms preprocess, 1274.0ms inference, 14.8ms postprocess per image at shape (1, 3, 512, 320)\n"
     ]
    },
    {
     "name": "stderr",
     "output_type": "stream",
     "text": [
      " 31%|███       | 63/202 [01:33<03:03,  1.32s/it]"
     ]
    },
    {
     "name": "stdout",
     "output_type": "stream",
     "text": [
      "\n",
      "image 1/1 C:\\Users\\admin\\.cache\\kagglehub\\datasets\\pavansanagapati\\images-dataset\\versions\\1\\data\\cats\\cat.156.jpg: 384x512 21 objects, 1404.9ms\n",
      "Speed: 2.9ms preprocess, 1404.9ms inference, 37.1ms postprocess per image at shape (1, 3, 384, 512)\n"
     ]
    },
    {
     "name": "stderr",
     "output_type": "stream",
     "text": [
      " 32%|███▏      | 64/202 [01:35<03:09,  1.37s/it]"
     ]
    },
    {
     "name": "stdout",
     "output_type": "stream",
     "text": [
      "\n",
      "image 1/1 C:\\Users\\admin\\.cache\\kagglehub\\datasets\\pavansanagapati\\images-dataset\\versions\\1\\data\\cats\\cat.157.jpg: 512x512 10 objects, 1733.8ms\n",
      "Speed: 2.3ms preprocess, 1733.8ms inference, 9.7ms postprocess per image at shape (1, 3, 512, 512)\n"
     ]
    },
    {
     "name": "stderr",
     "output_type": "stream",
     "text": [
      " 32%|███▏      | 65/202 [01:37<03:24,  1.49s/it]"
     ]
    },
    {
     "name": "stdout",
     "output_type": "stream",
     "text": [
      "\n",
      "image 1/1 C:\\Users\\admin\\.cache\\kagglehub\\datasets\\pavansanagapati\\images-dataset\\versions\\1\\data\\cats\\cat.158.jpg: 512x512 2 objects, 1861.6ms\n",
      "Speed: 4.5ms preprocess, 1861.6ms inference, 6.1ms postprocess per image at shape (1, 3, 512, 512)\n"
     ]
    },
    {
     "name": "stderr",
     "output_type": "stream",
     "text": [
      " 33%|███▎      | 66/202 [01:39<03:39,  1.61s/it]"
     ]
    },
    {
     "name": "stdout",
     "output_type": "stream",
     "text": [
      "\n",
      "image 1/1 C:\\Users\\admin\\.cache\\kagglehub\\datasets\\pavansanagapati\\images-dataset\\versions\\1\\data\\cats\\cat.159.jpg: 480x512 17 objects, 1716.4ms\n",
      "Speed: 3.8ms preprocess, 1716.4ms inference, 33.7ms postprocess per image at shape (1, 3, 480, 512)\n"
     ]
    },
    {
     "name": "stderr",
     "output_type": "stream",
     "text": [
      " 33%|███▎      | 67/202 [01:40<03:46,  1.68s/it]"
     ]
    },
    {
     "name": "stdout",
     "output_type": "stream",
     "text": [
      "\n",
      "image 1/1 C:\\Users\\admin\\.cache\\kagglehub\\datasets\\pavansanagapati\\images-dataset\\versions\\1\\data\\cats\\cat.16.jpg: 320x512 4 objects, 1194.2ms\n",
      "Speed: 2.8ms preprocess, 1194.2ms inference, 5.2ms postprocess per image at shape (1, 3, 320, 512)\n"
     ]
    },
    {
     "name": "stderr",
     "output_type": "stream",
     "text": [
      " 34%|███▎      | 68/202 [01:42<03:27,  1.55s/it]"
     ]
    },
    {
     "name": "stdout",
     "output_type": "stream",
     "text": [
      "\n",
      "image 1/1 C:\\Users\\admin\\.cache\\kagglehub\\datasets\\pavansanagapati\\images-dataset\\versions\\1\\data\\cats\\cat.160.jpg: 384x512 7 objects, 1504.8ms\n",
      "Speed: 4.0ms preprocess, 1504.8ms inference, 14.5ms postprocess per image at shape (1, 3, 384, 512)\n"
     ]
    },
    {
     "name": "stderr",
     "output_type": "stream",
     "text": [
      " 34%|███▍      | 69/202 [01:43<03:25,  1.55s/it]"
     ]
    },
    {
     "name": "stdout",
     "output_type": "stream",
     "text": [
      "\n",
      "image 1/1 C:\\Users\\admin\\.cache\\kagglehub\\datasets\\pavansanagapati\\images-dataset\\versions\\1\\data\\cats\\cat.161.jpg: 512x480 14 objects, 1713.6ms\n",
      "Speed: 3.9ms preprocess, 1713.6ms inference, 29.1ms postprocess per image at shape (1, 3, 512, 480)\n"
     ]
    },
    {
     "name": "stderr",
     "output_type": "stream",
     "text": [
      " 35%|███▍      | 70/202 [01:45<03:34,  1.62s/it]"
     ]
    },
    {
     "name": "stdout",
     "output_type": "stream",
     "text": [
      "\n",
      "image 1/1 C:\\Users\\admin\\.cache\\kagglehub\\datasets\\pavansanagapati\\images-dataset\\versions\\1\\data\\cats\\cat.162.jpg: 448x512 8 objects, 1611.7ms\n",
      "Speed: 3.0ms preprocess, 1611.7ms inference, 12.0ms postprocess per image at shape (1, 3, 448, 512)\n"
     ]
    },
    {
     "name": "stderr",
     "output_type": "stream",
     "text": [
      " 35%|███▌      | 71/202 [01:47<03:34,  1.64s/it]"
     ]
    },
    {
     "name": "stdout",
     "output_type": "stream",
     "text": [
      "\n",
      "image 1/1 C:\\Users\\admin\\.cache\\kagglehub\\datasets\\pavansanagapati\\images-dataset\\versions\\1\\data\\cats\\cat.163.jpg: 416x512 6 objects, 1418.5ms\n",
      "Speed: 3.3ms preprocess, 1418.5ms inference, 10.3ms postprocess per image at shape (1, 3, 416, 512)\n"
     ]
    },
    {
     "name": "stderr",
     "output_type": "stream",
     "text": [
      " 36%|███▌      | 72/202 [01:48<03:26,  1.59s/it]"
     ]
    },
    {
     "name": "stdout",
     "output_type": "stream",
     "text": [
      "\n",
      "image 1/1 C:\\Users\\admin\\.cache\\kagglehub\\datasets\\pavansanagapati\\images-dataset\\versions\\1\\data\\cats\\cat.164.jpg: 416x512 14 objects, 1473.5ms\n",
      "Speed: 3.4ms preprocess, 1473.5ms inference, 25.7ms postprocess per image at shape (1, 3, 416, 512)\n"
     ]
    },
    {
     "name": "stderr",
     "output_type": "stream",
     "text": [
      " 36%|███▌      | 73/202 [01:50<03:23,  1.58s/it]"
     ]
    },
    {
     "name": "stdout",
     "output_type": "stream",
     "text": [
      "\n",
      "image 1/1 C:\\Users\\admin\\.cache\\kagglehub\\datasets\\pavansanagapati\\images-dataset\\versions\\1\\data\\cats\\cat.165.jpg: 352x512 11 objects, 1272.3ms\n",
      "Speed: 1.6ms preprocess, 1272.3ms inference, 10.4ms postprocess per image at shape (1, 3, 352, 512)\n"
     ]
    },
    {
     "name": "stderr",
     "output_type": "stream",
     "text": [
      " 37%|███▋      | 74/202 [01:51<03:11,  1.50s/it]"
     ]
    },
    {
     "name": "stdout",
     "output_type": "stream",
     "text": [
      "\n",
      "image 1/1 C:\\Users\\admin\\.cache\\kagglehub\\datasets\\pavansanagapati\\images-dataset\\versions\\1\\data\\cats\\cat.166.jpg: 512x416 21 objects, 1447.3ms\n",
      "Speed: 2.7ms preprocess, 1447.3ms inference, 30.6ms postprocess per image at shape (1, 3, 512, 416)\n"
     ]
    },
    {
     "name": "stderr",
     "output_type": "stream",
     "text": [
      " 37%|███▋      | 75/202 [01:52<03:11,  1.51s/it]"
     ]
    },
    {
     "name": "stdout",
     "output_type": "stream",
     "text": [
      "\n",
      "image 1/1 C:\\Users\\admin\\.cache\\kagglehub\\datasets\\pavansanagapati\\images-dataset\\versions\\1\\data\\cats\\cat.167.jpg: 448x512 8 objects, 1636.4ms\n",
      "Speed: 4.5ms preprocess, 1636.4ms inference, 16.0ms postprocess per image at shape (1, 3, 448, 512)\n"
     ]
    },
    {
     "name": "stderr",
     "output_type": "stream",
     "text": [
      " 38%|███▊      | 76/202 [01:54<03:16,  1.56s/it]"
     ]
    },
    {
     "name": "stdout",
     "output_type": "stream",
     "text": [
      "\n",
      "image 1/1 C:\\Users\\admin\\.cache\\kagglehub\\datasets\\pavansanagapati\\images-dataset\\versions\\1\\data\\cats\\cat.168.jpg: 512x512 8 objects, 1779.3ms\n",
      "Speed: 3.0ms preprocess, 1779.3ms inference, 8.9ms postprocess per image at shape (1, 3, 512, 512)\n"
     ]
    },
    {
     "name": "stderr",
     "output_type": "stream",
     "text": [
      " 38%|███▊      | 77/202 [01:56<03:25,  1.64s/it]"
     ]
    },
    {
     "name": "stdout",
     "output_type": "stream",
     "text": [
      "\n",
      "image 1/1 C:\\Users\\admin\\.cache\\kagglehub\\datasets\\pavansanagapati\\images-dataset\\versions\\1\\data\\cats\\cat.169.jpg: 384x512 21 objects, 1375.1ms\n",
      "Speed: 2.4ms preprocess, 1375.1ms inference, 39.1ms postprocess per image at shape (1, 3, 384, 512)\n"
     ]
    },
    {
     "name": "stderr",
     "output_type": "stream",
     "text": [
      " 39%|███▊      | 78/202 [01:57<03:16,  1.58s/it]"
     ]
    },
    {
     "name": "stdout",
     "output_type": "stream",
     "text": [
      "\n",
      "image 1/1 C:\\Users\\admin\\.cache\\kagglehub\\datasets\\pavansanagapati\\images-dataset\\versions\\1\\data\\cats\\cat.17.jpg: 416x512 12 objects, 1812.5ms\n",
      "Speed: 2.3ms preprocess, 1812.5ms inference, 39.5ms postprocess per image at shape (1, 3, 416, 512)\n"
     ]
    },
    {
     "name": "stderr",
     "output_type": "stream",
     "text": [
      " 39%|███▉      | 79/202 [01:59<03:26,  1.68s/it]"
     ]
    },
    {
     "name": "stdout",
     "output_type": "stream",
     "text": [
      "\n",
      "image 1/1 C:\\Users\\admin\\.cache\\kagglehub\\datasets\\pavansanagapati\\images-dataset\\versions\\1\\data\\cats\\cat.170.jpg: 512x352 11 objects, 1771.0ms\n",
      "Speed: 4.8ms preprocess, 1771.0ms inference, 25.7ms postprocess per image at shape (1, 3, 512, 352)\n"
     ]
    },
    {
     "name": "stderr",
     "output_type": "stream",
     "text": [
      " 40%|███▉      | 80/202 [02:01<03:30,  1.73s/it]"
     ]
    },
    {
     "name": "stdout",
     "output_type": "stream",
     "text": [
      "\n",
      "image 1/1 C:\\Users\\admin\\.cache\\kagglehub\\datasets\\pavansanagapati\\images-dataset\\versions\\1\\data\\cats\\cat.171.jpg: 480x512 18 objects, 2210.7ms\n",
      "Speed: 5.1ms preprocess, 2210.7ms inference, 20.7ms postprocess per image at shape (1, 3, 480, 512)\n"
     ]
    },
    {
     "name": "stderr",
     "output_type": "stream",
     "text": [
      " 40%|████      | 81/202 [02:03<03:49,  1.90s/it]"
     ]
    },
    {
     "name": "stdout",
     "output_type": "stream",
     "text": [
      "\n",
      "image 1/1 C:\\Users\\admin\\.cache\\kagglehub\\datasets\\pavansanagapati\\images-dataset\\versions\\1\\data\\cats\\cat.172.jpg: 352x512 14 objects, 1299.4ms\n",
      "Speed: 1.9ms preprocess, 1299.4ms inference, 12.1ms postprocess per image at shape (1, 3, 352, 512)\n"
     ]
    },
    {
     "name": "stderr",
     "output_type": "stream",
     "text": [
      " 41%|████      | 82/202 [02:05<03:27,  1.73s/it]"
     ]
    },
    {
     "name": "stdout",
     "output_type": "stream",
     "text": [
      "\n",
      "image 1/1 C:\\Users\\admin\\.cache\\kagglehub\\datasets\\pavansanagapati\\images-dataset\\versions\\1\\data\\cats\\cat.173.jpg: 512x512 6 objects, 2001.9ms\n",
      "Speed: 11.6ms preprocess, 2001.9ms inference, 14.3ms postprocess per image at shape (1, 3, 512, 512)\n"
     ]
    },
    {
     "name": "stderr",
     "output_type": "stream",
     "text": [
      " 41%|████      | 83/202 [02:07<03:38,  1.84s/it]"
     ]
    },
    {
     "name": "stdout",
     "output_type": "stream",
     "text": [
      "\n",
      "image 1/1 C:\\Users\\admin\\.cache\\kagglehub\\datasets\\pavansanagapati\\images-dataset\\versions\\1\\data\\cats\\cat.174.jpg: 448x512 19 objects, 2001.8ms\n",
      "Speed: 4.3ms preprocess, 2001.8ms inference, 53.9ms postprocess per image at shape (1, 3, 448, 512)\n"
     ]
    },
    {
     "name": "stderr",
     "output_type": "stream",
     "text": [
      " 42%|████▏     | 84/202 [02:09<03:46,  1.92s/it]"
     ]
    },
    {
     "name": "stdout",
     "output_type": "stream",
     "text": [
      "\n",
      "image 1/1 C:\\Users\\admin\\.cache\\kagglehub\\datasets\\pavansanagapati\\images-dataset\\versions\\1\\data\\cats\\cat.175.jpg: 416x512 11 objects, 1652.2ms\n",
      "Speed: 2.5ms preprocess, 1652.2ms inference, 9.7ms postprocess per image at shape (1, 3, 416, 512)\n"
     ]
    },
    {
     "name": "stderr",
     "output_type": "stream",
     "text": [
      " 42%|████▏     | 85/202 [02:11<03:36,  1.85s/it]"
     ]
    },
    {
     "name": "stdout",
     "output_type": "stream",
     "text": [
      "\n",
      "image 1/1 C:\\Users\\admin\\.cache\\kagglehub\\datasets\\pavansanagapati\\images-dataset\\versions\\1\\data\\cats\\cat.176.jpg: 512x480 3 objects, 1931.4ms\n",
      "Speed: 2.0ms preprocess, 1931.4ms inference, 6.1ms postprocess per image at shape (1, 3, 512, 480)\n"
     ]
    },
    {
     "name": "stderr",
     "output_type": "stream",
     "text": [
      " 43%|████▎     | 86/202 [02:13<03:38,  1.89s/it]"
     ]
    },
    {
     "name": "stdout",
     "output_type": "stream",
     "text": [
      "\n",
      "image 1/1 C:\\Users\\admin\\.cache\\kagglehub\\datasets\\pavansanagapati\\images-dataset\\versions\\1\\data\\cats\\cat.177.jpg: 384x512 10 objects, 1639.9ms\n",
      "Speed: 1.7ms preprocess, 1639.9ms inference, 25.3ms postprocess per image at shape (1, 3, 384, 512)\n"
     ]
    },
    {
     "name": "stderr",
     "output_type": "stream",
     "text": [
      " 43%|████▎     | 87/202 [02:14<03:31,  1.84s/it]"
     ]
    },
    {
     "name": "stdout",
     "output_type": "stream",
     "text": [
      "\n",
      "image 1/1 C:\\Users\\admin\\.cache\\kagglehub\\datasets\\pavansanagapati\\images-dataset\\versions\\1\\data\\cats\\cat.178.jpg: 416x512 13 objects, 1913.8ms\n",
      "Speed: 2.5ms preprocess, 1913.8ms inference, 24.6ms postprocess per image at shape (1, 3, 416, 512)\n"
     ]
    },
    {
     "name": "stderr",
     "output_type": "stream",
     "text": [
      " 44%|████▎     | 88/202 [02:16<03:34,  1.88s/it]"
     ]
    },
    {
     "name": "stdout",
     "output_type": "stream",
     "text": [
      "\n",
      "image 1/1 C:\\Users\\admin\\.cache\\kagglehub\\datasets\\pavansanagapati\\images-dataset\\versions\\1\\data\\cats\\cat.179.jpg: 416x512 16 objects, 2072.0ms\n",
      "Speed: 5.7ms preprocess, 2072.0ms inference, 81.9ms postprocess per image at shape (1, 3, 416, 512)\n"
     ]
    },
    {
     "name": "stderr",
     "output_type": "stream",
     "text": [
      " 44%|████▍     | 89/202 [02:19<03:46,  2.00s/it]"
     ]
    },
    {
     "name": "stdout",
     "output_type": "stream",
     "text": [
      "\n",
      "image 1/1 C:\\Users\\admin\\.cache\\kagglehub\\datasets\\pavansanagapati\\images-dataset\\versions\\1\\data\\cats\\cat.18.jpg: 384x512 5 objects, 2140.0ms\n",
      "Speed: 18.9ms preprocess, 2140.0ms inference, 12.1ms postprocess per image at shape (1, 3, 384, 512)\n"
     ]
    },
    {
     "name": "stderr",
     "output_type": "stream",
     "text": [
      " 45%|████▍     | 90/202 [02:21<03:51,  2.06s/it]"
     ]
    },
    {
     "name": "stdout",
     "output_type": "stream",
     "text": [
      "\n",
      "image 1/1 C:\\Users\\admin\\.cache\\kagglehub\\datasets\\pavansanagapati\\images-dataset\\versions\\1\\data\\cats\\cat.180.jpg: 512x384 21 objects, 1582.3ms\n",
      "Speed: 2.9ms preprocess, 1582.3ms inference, 47.4ms postprocess per image at shape (1, 3, 512, 384)\n"
     ]
    },
    {
     "name": "stderr",
     "output_type": "stream",
     "text": [
      " 45%|████▌     | 91/202 [02:23<03:36,  1.95s/it]"
     ]
    },
    {
     "name": "stdout",
     "output_type": "stream",
     "text": [
      "\n",
      "image 1/1 C:\\Users\\admin\\.cache\\kagglehub\\datasets\\pavansanagapati\\images-dataset\\versions\\1\\data\\cats\\cat.181.jpg: 512x352 13 objects, 1584.8ms\n",
      "Speed: 2.5ms preprocess, 1584.8ms inference, 13.9ms postprocess per image at shape (1, 3, 512, 352)\n"
     ]
    },
    {
     "name": "stderr",
     "output_type": "stream",
     "text": [
      " 46%|████▌     | 92/202 [02:24<03:24,  1.86s/it]"
     ]
    },
    {
     "name": "stdout",
     "output_type": "stream",
     "text": [
      "\n",
      "image 1/1 C:\\Users\\admin\\.cache\\kagglehub\\datasets\\pavansanagapati\\images-dataset\\versions\\1\\data\\cats\\cat.182.jpg: 384x512 13 objects, 1716.5ms\n",
      "Speed: 32.4ms preprocess, 1716.5ms inference, 30.5ms postprocess per image at shape (1, 3, 384, 512)\n"
     ]
    },
    {
     "name": "stderr",
     "output_type": "stream",
     "text": [
      " 46%|████▌     | 93/202 [02:26<03:21,  1.85s/it]"
     ]
    },
    {
     "name": "stdout",
     "output_type": "stream",
     "text": [
      "\n",
      "image 1/1 C:\\Users\\admin\\.cache\\kagglehub\\datasets\\pavansanagapati\\images-dataset\\versions\\1\\data\\cats\\cat.183.jpg: 448x512 7 objects, 1874.6ms\n",
      "Speed: 4.6ms preprocess, 1874.6ms inference, 4.2ms postprocess per image at shape (1, 3, 448, 512)\n"
     ]
    },
    {
     "name": "stderr",
     "output_type": "stream",
     "text": [
      " 47%|████▋     | 94/202 [02:28<03:21,  1.87s/it]"
     ]
    },
    {
     "name": "stdout",
     "output_type": "stream",
     "text": [
      "\n",
      "image 1/1 C:\\Users\\admin\\.cache\\kagglehub\\datasets\\pavansanagapati\\images-dataset\\versions\\1\\data\\cats\\cat.184.jpg: 512x512 8 objects, 2408.6ms\n",
      "Speed: 3.1ms preprocess, 2408.6ms inference, 24.5ms postprocess per image at shape (1, 3, 512, 512)\n"
     ]
    },
    {
     "name": "stderr",
     "output_type": "stream",
     "text": [
      " 47%|████▋     | 95/202 [02:30<03:39,  2.05s/it]"
     ]
    },
    {
     "name": "stdout",
     "output_type": "stream",
     "text": [
      "\n",
      "image 1/1 C:\\Users\\admin\\.cache\\kagglehub\\datasets\\pavansanagapati\\images-dataset\\versions\\1\\data\\cats\\cat.185.jpg: 480x512 9 objects, 1966.9ms\n",
      "Speed: 4.4ms preprocess, 1966.9ms inference, 18.8ms postprocess per image at shape (1, 3, 480, 512)\n"
     ]
    },
    {
     "name": "stderr",
     "output_type": "stream",
     "text": [
      " 48%|████▊     | 96/202 [02:32<03:37,  2.05s/it]"
     ]
    },
    {
     "name": "stdout",
     "output_type": "stream",
     "text": [
      "\n",
      "image 1/1 C:\\Users\\admin\\.cache\\kagglehub\\datasets\\pavansanagapati\\images-dataset\\versions\\1\\data\\cats\\cat.186.jpg: 416x512 8 objects, 1446.1ms\n",
      "Speed: 1.5ms preprocess, 1446.1ms inference, 8.1ms postprocess per image at shape (1, 3, 416, 512)\n"
     ]
    },
    {
     "name": "stderr",
     "output_type": "stream",
     "text": [
      " 48%|████▊     | 97/202 [02:34<03:17,  1.88s/it]"
     ]
    },
    {
     "name": "stdout",
     "output_type": "stream",
     "text": [
      "\n",
      "image 1/1 C:\\Users\\admin\\.cache\\kagglehub\\datasets\\pavansanagapati\\images-dataset\\versions\\1\\data\\cats\\cat.187.jpg: 416x512 13 objects, 1559.2ms\n",
      "Speed: 3.3ms preprocess, 1559.2ms inference, 25.6ms postprocess per image at shape (1, 3, 416, 512)\n"
     ]
    },
    {
     "name": "stderr",
     "output_type": "stream",
     "text": [
      " 49%|████▊     | 98/202 [02:36<03:07,  1.81s/it]"
     ]
    },
    {
     "name": "stdout",
     "output_type": "stream",
     "text": [
      "\n",
      "image 1/1 C:\\Users\\admin\\.cache\\kagglehub\\datasets\\pavansanagapati\\images-dataset\\versions\\1\\data\\cats\\cat.188.jpg: 512x256 13 objects, 964.7ms\n",
      "Speed: 1.6ms preprocess, 964.7ms inference, 14.3ms postprocess per image at shape (1, 3, 512, 256)\n"
     ]
    },
    {
     "name": "stderr",
     "output_type": "stream",
     "text": [
      " 49%|████▉     | 99/202 [02:37<02:41,  1.57s/it]"
     ]
    },
    {
     "name": "stdout",
     "output_type": "stream",
     "text": [
      "\n",
      "image 1/1 C:\\Users\\admin\\.cache\\kagglehub\\datasets\\pavansanagapati\\images-dataset\\versions\\1\\data\\cats\\cat.189.jpg: 480x512 4 objects, 1664.4ms\n",
      "Speed: 4.1ms preprocess, 1664.4ms inference, 10.2ms postprocess per image at shape (1, 3, 480, 512)\n"
     ]
    },
    {
     "name": "stderr",
     "output_type": "stream",
     "text": [
      " 50%|████▉     | 100/202 [02:38<02:44,  1.61s/it]"
     ]
    },
    {
     "name": "stdout",
     "output_type": "stream",
     "text": [
      "\n",
      "image 1/1 C:\\Users\\admin\\.cache\\kagglehub\\datasets\\pavansanagapati\\images-dataset\\versions\\1\\data\\cats\\cat.19.jpg: 384x512 14 objects, 1844.0ms\n",
      "Speed: 2.1ms preprocess, 1844.0ms inference, 17.2ms postprocess per image at shape (1, 3, 384, 512)\n"
     ]
    },
    {
     "name": "stderr",
     "output_type": "stream",
     "text": [
      " 50%|█████     | 101/202 [02:40<02:51,  1.70s/it]"
     ]
    },
    {
     "name": "stdout",
     "output_type": "stream",
     "text": [
      "\n",
      "image 1/1 C:\\Users\\admin\\.cache\\kagglehub\\datasets\\pavansanagapati\\images-dataset\\versions\\1\\data\\cats\\cat.190.jpg: 384x512 6 objects, 1429.3ms\n",
      "Speed: 2.3ms preprocess, 1429.3ms inference, 11.4ms postprocess per image at shape (1, 3, 384, 512)\n"
     ]
    },
    {
     "name": "stderr",
     "output_type": "stream",
     "text": [
      " 50%|█████     | 102/202 [02:42<02:43,  1.63s/it]"
     ]
    },
    {
     "name": "stdout",
     "output_type": "stream",
     "text": [
      "\n",
      "image 1/1 C:\\Users\\admin\\.cache\\kagglehub\\datasets\\pavansanagapati\\images-dataset\\versions\\1\\data\\cats\\cat.191.jpg: 512x416 13 objects, 1451.7ms\n",
      "Speed: 3.9ms preprocess, 1451.7ms inference, 22.1ms postprocess per image at shape (1, 3, 512, 416)\n"
     ]
    },
    {
     "name": "stderr",
     "output_type": "stream",
     "text": [
      " 51%|█████     | 103/202 [02:43<02:38,  1.60s/it]"
     ]
    },
    {
     "name": "stdout",
     "output_type": "stream",
     "text": [
      "\n",
      "image 1/1 C:\\Users\\admin\\.cache\\kagglehub\\datasets\\pavansanagapati\\images-dataset\\versions\\1\\data\\cats\\cat.192.jpg: 384x512 14 objects, 1432.6ms\n",
      "Speed: 3.5ms preprocess, 1432.6ms inference, 27.2ms postprocess per image at shape (1, 3, 384, 512)\n"
     ]
    },
    {
     "name": "stderr",
     "output_type": "stream",
     "text": [
      " 51%|█████▏    | 104/202 [02:45<02:33,  1.57s/it]"
     ]
    },
    {
     "name": "stdout",
     "output_type": "stream",
     "text": [
      "\n",
      "image 1/1 C:\\Users\\admin\\.cache\\kagglehub\\datasets\\pavansanagapati\\images-dataset\\versions\\1\\data\\cats\\cat.193.jpg: 512x480 6 objects, 1662.9ms\n",
      "Speed: 2.4ms preprocess, 1662.9ms inference, 5.5ms postprocess per image at shape (1, 3, 512, 480)\n"
     ]
    },
    {
     "name": "stderr",
     "output_type": "stream",
     "text": [
      " 52%|█████▏    | 105/202 [02:46<02:36,  1.61s/it]"
     ]
    },
    {
     "name": "stdout",
     "output_type": "stream",
     "text": [
      "\n",
      "image 1/1 C:\\Users\\admin\\.cache\\kagglehub\\datasets\\pavansanagapati\\images-dataset\\versions\\1\\data\\cats\\cat.194.jpg: 512x512 11 objects, 1738.5ms\n",
      "Speed: 3.9ms preprocess, 1738.5ms inference, 26.1ms postprocess per image at shape (1, 3, 512, 512)\n"
     ]
    },
    {
     "name": "stderr",
     "output_type": "stream",
     "text": [
      " 52%|█████▏    | 106/202 [02:48<02:40,  1.68s/it]"
     ]
    },
    {
     "name": "stdout",
     "output_type": "stream",
     "text": [
      "\n",
      "image 1/1 C:\\Users\\admin\\.cache\\kagglehub\\datasets\\pavansanagapati\\images-dataset\\versions\\1\\data\\cats\\cat.195.jpg: 416x512 13 objects, 1449.7ms\n",
      "Speed: 2.0ms preprocess, 1449.7ms inference, 20.6ms postprocess per image at shape (1, 3, 416, 512)\n"
     ]
    },
    {
     "name": "stderr",
     "output_type": "stream",
     "text": [
      " 53%|█████▎    | 107/202 [02:50<02:34,  1.63s/it]"
     ]
    },
    {
     "name": "stdout",
     "output_type": "stream",
     "text": [
      "\n",
      "image 1/1 C:\\Users\\admin\\.cache\\kagglehub\\datasets\\pavansanagapati\\images-dataset\\versions\\1\\data\\cats\\cat.196.jpg: 448x512 9 objects, 1644.9ms\n",
      "Speed: 2.2ms preprocess, 1644.9ms inference, 12.9ms postprocess per image at shape (1, 3, 448, 512)\n"
     ]
    },
    {
     "name": "stderr",
     "output_type": "stream",
     "text": [
      " 53%|█████▎    | 108/202 [02:51<02:34,  1.65s/it]"
     ]
    },
    {
     "name": "stdout",
     "output_type": "stream",
     "text": [
      "\n",
      "image 1/1 C:\\Users\\admin\\.cache\\kagglehub\\datasets\\pavansanagapati\\images-dataset\\versions\\1\\data\\cats\\cat.197.jpg: 512x288 6 objects, 1029.8ms\n",
      "Speed: 1.8ms preprocess, 1029.8ms inference, 9.6ms postprocess per image at shape (1, 3, 512, 288)\n"
     ]
    },
    {
     "name": "stderr",
     "output_type": "stream",
     "text": [
      " 54%|█████▍    | 109/202 [02:53<02:17,  1.48s/it]"
     ]
    },
    {
     "name": "stdout",
     "output_type": "stream",
     "text": [
      "\n",
      "image 1/1 C:\\Users\\admin\\.cache\\kagglehub\\datasets\\pavansanagapati\\images-dataset\\versions\\1\\data\\cats\\cat.198.jpg: 416x512 17 objects, 1439.3ms\n",
      "Speed: 2.9ms preprocess, 1439.3ms inference, 29.0ms postprocess per image at shape (1, 3, 416, 512)\n"
     ]
    },
    {
     "name": "stderr",
     "output_type": "stream",
     "text": [
      " 54%|█████▍    | 110/202 [02:54<02:17,  1.49s/it]"
     ]
    },
    {
     "name": "stdout",
     "output_type": "stream",
     "text": [
      "\n",
      "image 1/1 C:\\Users\\admin\\.cache\\kagglehub\\datasets\\pavansanagapati\\images-dataset\\versions\\1\\data\\cats\\cat.199.jpg: 512x448 6 objects, 1700.2ms\n",
      "Speed: 2.0ms preprocess, 1700.2ms inference, 7.1ms postprocess per image at shape (1, 3, 512, 448)\n"
     ]
    },
    {
     "name": "stderr",
     "output_type": "stream",
     "text": [
      " 55%|█████▍    | 111/202 [02:56<02:22,  1.56s/it]"
     ]
    },
    {
     "name": "stdout",
     "output_type": "stream",
     "text": [
      "\n",
      "image 1/1 C:\\Users\\admin\\.cache\\kagglehub\\datasets\\pavansanagapati\\images-dataset\\versions\\1\\data\\cats\\cat.2.jpg: 512x416 11 objects, 1394.2ms\n",
      "Speed: 1.9ms preprocess, 1394.2ms inference, 16.8ms postprocess per image at shape (1, 3, 512, 416)\n"
     ]
    },
    {
     "name": "stderr",
     "output_type": "stream",
     "text": [
      " 55%|█████▌    | 112/202 [02:57<02:17,  1.53s/it]"
     ]
    },
    {
     "name": "stdout",
     "output_type": "stream",
     "text": [
      "\n",
      "image 1/1 C:\\Users\\admin\\.cache\\kagglehub\\datasets\\pavansanagapati\\images-dataset\\versions\\1\\data\\cats\\cat.20.jpg: 384x512 11 objects, 1323.7ms\n",
      "Speed: 2.0ms preprocess, 1323.7ms inference, 19.7ms postprocess per image at shape (1, 3, 384, 512)\n"
     ]
    },
    {
     "name": "stderr",
     "output_type": "stream",
     "text": [
      " 56%|█████▌    | 113/202 [02:59<02:12,  1.48s/it]"
     ]
    },
    {
     "name": "stdout",
     "output_type": "stream",
     "text": [
      "\n",
      "image 1/1 C:\\Users\\admin\\.cache\\kagglehub\\datasets\\pavansanagapati\\images-dataset\\versions\\1\\data\\cats\\cat.200.jpg: 384x512 24 objects, 1417.7ms\n",
      "Speed: 3.0ms preprocess, 1417.7ms inference, 40.1ms postprocess per image at shape (1, 3, 384, 512)\n"
     ]
    },
    {
     "name": "stderr",
     "output_type": "stream",
     "text": [
      " 56%|█████▋    | 114/202 [03:00<02:11,  1.49s/it]"
     ]
    },
    {
     "name": "stdout",
     "output_type": "stream",
     "text": [
      "\n",
      "image 1/1 C:\\Users\\admin\\.cache\\kagglehub\\datasets\\pavansanagapati\\images-dataset\\versions\\1\\data\\cats\\cat.201.jpg: 416x512 14 objects, 1401.1ms\n",
      "Speed: 2.3ms preprocess, 1401.1ms inference, 17.8ms postprocess per image at shape (1, 3, 416, 512)\n"
     ]
    },
    {
     "name": "stderr",
     "output_type": "stream",
     "text": [
      " 57%|█████▋    | 115/202 [03:02<02:09,  1.48s/it]"
     ]
    },
    {
     "name": "stdout",
     "output_type": "stream",
     "text": [
      "\n",
      "image 1/1 C:\\Users\\admin\\.cache\\kagglehub\\datasets\\pavansanagapati\\images-dataset\\versions\\1\\data\\cats\\cat.202.jpg: 512x512 5 objects, 1785.5ms\n",
      "Speed: 2.8ms preprocess, 1785.5ms inference, 5.2ms postprocess per image at shape (1, 3, 512, 512)\n"
     ]
    },
    {
     "name": "stderr",
     "output_type": "stream",
     "text": [
      " 57%|█████▋    | 116/202 [03:03<02:16,  1.58s/it]"
     ]
    },
    {
     "name": "stdout",
     "output_type": "stream",
     "text": [
      "\n",
      "image 1/1 C:\\Users\\admin\\.cache\\kagglehub\\datasets\\pavansanagapati\\images-dataset\\versions\\1\\data\\cats\\cat.21.jpg: 512x448 10 objects, 1635.1ms\n",
      "Speed: 2.3ms preprocess, 1635.1ms inference, 23.5ms postprocess per image at shape (1, 3, 512, 448)\n"
     ]
    },
    {
     "name": "stderr",
     "output_type": "stream",
     "text": [
      " 58%|█████▊    | 117/202 [03:05<02:17,  1.62s/it]"
     ]
    },
    {
     "name": "stdout",
     "output_type": "stream",
     "text": [
      "\n",
      "image 1/1 C:\\Users\\admin\\.cache\\kagglehub\\datasets\\pavansanagapati\\images-dataset\\versions\\1\\data\\cats\\cat.22.jpg: 384x512 10 objects, 1319.6ms\n",
      "Speed: 1.9ms preprocess, 1319.6ms inference, 15.6ms postprocess per image at shape (1, 3, 384, 512)\n"
     ]
    },
    {
     "name": "stderr",
     "output_type": "stream",
     "text": [
      " 58%|█████▊    | 118/202 [03:06<02:09,  1.55s/it]"
     ]
    },
    {
     "name": "stdout",
     "output_type": "stream",
     "text": [
      "\n",
      "image 1/1 C:\\Users\\admin\\.cache\\kagglehub\\datasets\\pavansanagapati\\images-dataset\\versions\\1\\data\\cats\\cat.23.jpg: 416x512 21 objects, 1437.0ms\n",
      "Speed: 8.2ms preprocess, 1437.0ms inference, 22.9ms postprocess per image at shape (1, 3, 416, 512)\n"
     ]
    },
    {
     "name": "stderr",
     "output_type": "stream",
     "text": [
      " 59%|█████▉    | 119/202 [03:08<02:07,  1.53s/it]"
     ]
    },
    {
     "name": "stdout",
     "output_type": "stream",
     "text": [
      "\n",
      "image 1/1 C:\\Users\\admin\\.cache\\kagglehub\\datasets\\pavansanagapati\\images-dataset\\versions\\1\\data\\cats\\cat.24.jpg: 384x512 11 objects, 1431.8ms\n",
      "Speed: 2.0ms preprocess, 1431.8ms inference, 20.0ms postprocess per image at shape (1, 3, 384, 512)\n"
     ]
    },
    {
     "name": "stderr",
     "output_type": "stream",
     "text": [
      " 59%|█████▉    | 120/202 [03:09<02:04,  1.52s/it]"
     ]
    },
    {
     "name": "stdout",
     "output_type": "stream",
     "text": [
      "\n",
      "image 1/1 C:\\Users\\admin\\.cache\\kagglehub\\datasets\\pavansanagapati\\images-dataset\\versions\\1\\data\\cats\\cat.25.jpg: 512x384 26 objects, 1359.9ms\n",
      "Speed: 4.1ms preprocess, 1359.9ms inference, 37.2ms postprocess per image at shape (1, 3, 512, 384)\n"
     ]
    },
    {
     "name": "stderr",
     "output_type": "stream",
     "text": [
      " 60%|█████▉    | 121/202 [03:11<02:01,  1.50s/it]"
     ]
    },
    {
     "name": "stdout",
     "output_type": "stream",
     "text": [
      "\n",
      "image 1/1 C:\\Users\\admin\\.cache\\kagglehub\\datasets\\pavansanagapati\\images-dataset\\versions\\1\\data\\cats\\cat.26.jpg: 384x512 11 objects, 1335.8ms\n",
      "Speed: 1.5ms preprocess, 1335.8ms inference, 17.7ms postprocess per image at shape (1, 3, 384, 512)\n"
     ]
    },
    {
     "name": "stderr",
     "output_type": "stream",
     "text": [
      " 60%|██████    | 122/202 [03:12<01:57,  1.47s/it]"
     ]
    },
    {
     "name": "stdout",
     "output_type": "stream",
     "text": [
      "\n",
      "image 1/1 C:\\Users\\admin\\.cache\\kagglehub\\datasets\\pavansanagapati\\images-dataset\\versions\\1\\data\\cats\\cat.27.jpg: 512x416 17 objects, 1440.4ms\n",
      "Speed: 2.6ms preprocess, 1440.4ms inference, 26.5ms postprocess per image at shape (1, 3, 512, 416)\n"
     ]
    },
    {
     "name": "stderr",
     "output_type": "stream",
     "text": [
      " 61%|██████    | 123/202 [03:14<01:57,  1.49s/it]"
     ]
    },
    {
     "name": "stdout",
     "output_type": "stream",
     "text": [
      "\n",
      "image 1/1 C:\\Users\\admin\\.cache\\kagglehub\\datasets\\pavansanagapati\\images-dataset\\versions\\1\\data\\cats\\cat.28.jpg: 512x512 4 objects, 1840.2ms\n",
      "Speed: 2.6ms preprocess, 1840.2ms inference, 4.5ms postprocess per image at shape (1, 3, 512, 512)\n"
     ]
    },
    {
     "name": "stderr",
     "output_type": "stream",
     "text": [
      " 61%|██████▏   | 124/202 [03:16<02:05,  1.60s/it]"
     ]
    },
    {
     "name": "stdout",
     "output_type": "stream",
     "text": [
      "\n",
      "image 1/1 C:\\Users\\admin\\.cache\\kagglehub\\datasets\\pavansanagapati\\images-dataset\\versions\\1\\data\\cats\\cat.29.jpg: 416x512 7 objects, 1439.8ms\n",
      "Speed: 2.0ms preprocess, 1439.8ms inference, 13.3ms postprocess per image at shape (1, 3, 416, 512)\n"
     ]
    },
    {
     "name": "stderr",
     "output_type": "stream",
     "text": [
      " 62%|██████▏   | 125/202 [03:17<02:00,  1.57s/it]"
     ]
    },
    {
     "name": "stdout",
     "output_type": "stream",
     "text": [
      "\n",
      "image 1/1 C:\\Users\\admin\\.cache\\kagglehub\\datasets\\pavansanagapati\\images-dataset\\versions\\1\\data\\cats\\cat.3.jpg: 448x512 19 objects, 1555.8ms\n",
      "Speed: 2.2ms preprocess, 1555.8ms inference, 37.1ms postprocess per image at shape (1, 3, 448, 512)\n"
     ]
    },
    {
     "name": "stderr",
     "output_type": "stream",
     "text": [
      " 62%|██████▏   | 126/202 [03:19<02:01,  1.60s/it]"
     ]
    },
    {
     "name": "stdout",
     "output_type": "stream",
     "text": [
      "\n",
      "image 1/1 C:\\Users\\admin\\.cache\\kagglehub\\datasets\\pavansanagapati\\images-dataset\\versions\\1\\data\\cats\\cat.30.jpg: 384x512 12 objects, 1321.2ms\n",
      "Speed: 3.6ms preprocess, 1321.2ms inference, 14.5ms postprocess per image at shape (1, 3, 384, 512)\n"
     ]
    },
    {
     "name": "stderr",
     "output_type": "stream",
     "text": [
      " 63%|██████▎   | 127/202 [03:20<01:54,  1.53s/it]"
     ]
    },
    {
     "name": "stdout",
     "output_type": "stream",
     "text": [
      "\n",
      "image 1/1 C:\\Users\\admin\\.cache\\kagglehub\\datasets\\pavansanagapati\\images-dataset\\versions\\1\\data\\cats\\cat.31.jpg: 384x512 10 objects, 1396.2ms\n",
      "Speed: 2.2ms preprocess, 1396.2ms inference, 17.0ms postprocess per image at shape (1, 3, 384, 512)\n"
     ]
    },
    {
     "name": "stderr",
     "output_type": "stream",
     "text": [
      " 63%|██████▎   | 128/202 [03:22<01:51,  1.51s/it]"
     ]
    },
    {
     "name": "stdout",
     "output_type": "stream",
     "text": [
      "\n",
      "image 1/1 C:\\Users\\admin\\.cache\\kagglehub\\datasets\\pavansanagapati\\images-dataset\\versions\\1\\data\\cats\\cat.32.jpg: 384x512 3 objects, 1328.4ms\n",
      "Speed: 2.4ms preprocess, 1328.4ms inference, 6.9ms postprocess per image at shape (1, 3, 384, 512)\n"
     ]
    },
    {
     "name": "stderr",
     "output_type": "stream",
     "text": [
      " 64%|██████▍   | 129/202 [03:23<01:47,  1.47s/it]"
     ]
    },
    {
     "name": "stdout",
     "output_type": "stream",
     "text": [
      "\n",
      "image 1/1 C:\\Users\\admin\\.cache\\kagglehub\\datasets\\pavansanagapati\\images-dataset\\versions\\1\\data\\cats\\cat.33.jpg: 416x512 11 objects, 1452.6ms\n",
      "Speed: 2.2ms preprocess, 1452.6ms inference, 21.0ms postprocess per image at shape (1, 3, 416, 512)\n"
     ]
    },
    {
     "name": "stderr",
     "output_type": "stream",
     "text": [
      " 64%|██████▍   | 130/202 [03:25<01:46,  1.48s/it]"
     ]
    },
    {
     "name": "stdout",
     "output_type": "stream",
     "text": [
      "\n",
      "image 1/1 C:\\Users\\admin\\.cache\\kagglehub\\datasets\\pavansanagapati\\images-dataset\\versions\\1\\data\\cats\\cat.34.jpg: 512x416 20 objects, 1503.5ms\n",
      "Speed: 2.0ms preprocess, 1503.5ms inference, 34.3ms postprocess per image at shape (1, 3, 512, 416)\n"
     ]
    },
    {
     "name": "stderr",
     "output_type": "stream",
     "text": [
      " 65%|██████▍   | 131/202 [03:26<01:47,  1.51s/it]"
     ]
    },
    {
     "name": "stdout",
     "output_type": "stream",
     "text": [
      "\n",
      "image 1/1 C:\\Users\\admin\\.cache\\kagglehub\\datasets\\pavansanagapati\\images-dataset\\versions\\1\\data\\cats\\cat.35.jpg: 448x512 9 objects, 1549.4ms\n",
      "Speed: 2.0ms preprocess, 1549.4ms inference, 19.3ms postprocess per image at shape (1, 3, 448, 512)\n"
     ]
    },
    {
     "name": "stderr",
     "output_type": "stream",
     "text": [
      " 65%|██████▌   | 132/202 [03:28<01:48,  1.54s/it]"
     ]
    },
    {
     "name": "stdout",
     "output_type": "stream",
     "text": [
      "\n",
      "image 1/1 C:\\Users\\admin\\.cache\\kagglehub\\datasets\\pavansanagapati\\images-dataset\\versions\\1\\data\\cats\\cat.36.jpg: 320x512 16 objects, 1159.4ms\n",
      "Speed: 1.7ms preprocess, 1159.4ms inference, 26.9ms postprocess per image at shape (1, 3, 320, 512)\n"
     ]
    },
    {
     "name": "stderr",
     "output_type": "stream",
     "text": [
      " 66%|██████▌   | 133/202 [03:29<01:40,  1.45s/it]"
     ]
    },
    {
     "name": "stdout",
     "output_type": "stream",
     "text": [
      "\n",
      "image 1/1 C:\\Users\\admin\\.cache\\kagglehub\\datasets\\pavansanagapati\\images-dataset\\versions\\1\\data\\cats\\cat.37.jpg: 352x512 22 objects, 1360.1ms\n",
      "Speed: 2.0ms preprocess, 1360.1ms inference, 34.7ms postprocess per image at shape (1, 3, 352, 512)\n"
     ]
    },
    {
     "name": "stderr",
     "output_type": "stream",
     "text": [
      " 66%|██████▋   | 134/202 [03:30<01:38,  1.45s/it]"
     ]
    },
    {
     "name": "stdout",
     "output_type": "stream",
     "text": [
      "\n",
      "image 1/1 C:\\Users\\admin\\.cache\\kagglehub\\datasets\\pavansanagapati\\images-dataset\\versions\\1\\data\\cats\\cat.38.jpg: 512x512 15 objects, 1744.5ms\n",
      "Speed: 3.2ms preprocess, 1744.5ms inference, 22.8ms postprocess per image at shape (1, 3, 512, 512)\n"
     ]
    },
    {
     "name": "stderr",
     "output_type": "stream",
     "text": [
      " 67%|██████▋   | 135/202 [03:32<01:44,  1.56s/it]"
     ]
    },
    {
     "name": "stdout",
     "output_type": "stream",
     "text": [
      "\n",
      "image 1/1 C:\\Users\\admin\\.cache\\kagglehub\\datasets\\pavansanagapati\\images-dataset\\versions\\1\\data\\cats\\cat.39.jpg: 512x384 5 objects, 1425.1ms\n",
      "Speed: 3.4ms preprocess, 1425.1ms inference, 10.9ms postprocess per image at shape (1, 3, 512, 384)\n"
     ]
    },
    {
     "name": "stderr",
     "output_type": "stream",
     "text": [
      " 67%|██████▋   | 136/202 [03:34<01:40,  1.53s/it]"
     ]
    },
    {
     "name": "stdout",
     "output_type": "stream",
     "text": [
      "\n",
      "image 1/1 C:\\Users\\admin\\.cache\\kagglehub\\datasets\\pavansanagapati\\images-dataset\\versions\\1\\data\\cats\\cat.4.jpg: 416x512 19 objects, 1507.4ms\n",
      "Speed: 2.5ms preprocess, 1507.4ms inference, 37.1ms postprocess per image at shape (1, 3, 416, 512)\n"
     ]
    },
    {
     "name": "stderr",
     "output_type": "stream",
     "text": [
      " 68%|██████▊   | 137/202 [03:35<01:40,  1.55s/it]"
     ]
    },
    {
     "name": "stdout",
     "output_type": "stream",
     "text": [
      "\n",
      "image 1/1 C:\\Users\\admin\\.cache\\kagglehub\\datasets\\pavansanagapati\\images-dataset\\versions\\1\\data\\cats\\cat.40.jpg: 416x512 3 objects, 1401.1ms\n",
      "Speed: 2.3ms preprocess, 1401.1ms inference, 6.9ms postprocess per image at shape (1, 3, 416, 512)\n"
     ]
    },
    {
     "name": "stderr",
     "output_type": "stream",
     "text": [
      " 68%|██████▊   | 138/202 [03:37<01:36,  1.52s/it]"
     ]
    },
    {
     "name": "stdout",
     "output_type": "stream",
     "text": [
      "\n",
      "image 1/1 C:\\Users\\admin\\.cache\\kagglehub\\datasets\\pavansanagapati\\images-dataset\\versions\\1\\data\\cats\\cat.41.jpg: 512x352 12 objects, 1253.7ms\n",
      "Speed: 1.6ms preprocess, 1253.7ms inference, 22.0ms postprocess per image at shape (1, 3, 512, 352)\n"
     ]
    },
    {
     "name": "stderr",
     "output_type": "stream",
     "text": [
      " 69%|██████▉   | 139/202 [03:38<01:31,  1.45s/it]"
     ]
    },
    {
     "name": "stdout",
     "output_type": "stream",
     "text": [
      "\n",
      "image 1/1 C:\\Users\\admin\\.cache\\kagglehub\\datasets\\pavansanagapati\\images-dataset\\versions\\1\\data\\cats\\cat.42.jpg: 384x512 6 objects, 1316.2ms\n",
      "Speed: 2.1ms preprocess, 1316.2ms inference, 5.5ms postprocess per image at shape (1, 3, 384, 512)\n"
     ]
    },
    {
     "name": "stderr",
     "output_type": "stream",
     "text": [
      " 69%|██████▉   | 140/202 [03:39<01:28,  1.42s/it]"
     ]
    },
    {
     "name": "stdout",
     "output_type": "stream",
     "text": [
      "\n",
      "image 1/1 C:\\Users\\admin\\.cache\\kagglehub\\datasets\\pavansanagapati\\images-dataset\\versions\\1\\data\\cats\\cat.43.jpg: 512x384 17 objects, 1437.3ms\n",
      "Speed: 2.7ms preprocess, 1437.3ms inference, 30.6ms postprocess per image at shape (1, 3, 512, 384)\n"
     ]
    },
    {
     "name": "stderr",
     "output_type": "stream",
     "text": [
      " 70%|██████▉   | 141/202 [03:41<01:28,  1.45s/it]"
     ]
    },
    {
     "name": "stdout",
     "output_type": "stream",
     "text": [
      "\n",
      "image 1/1 C:\\Users\\admin\\.cache\\kagglehub\\datasets\\pavansanagapati\\images-dataset\\versions\\1\\data\\cats\\cat.44.jpg: 512x512 16 objects, 1744.5ms\n",
      "Speed: 4.1ms preprocess, 1744.5ms inference, 7.5ms postprocess per image at shape (1, 3, 512, 512)\n"
     ]
    },
    {
     "name": "stderr",
     "output_type": "stream",
     "text": [
      " 70%|███████   | 142/202 [03:43<01:32,  1.55s/it]"
     ]
    },
    {
     "name": "stdout",
     "output_type": "stream",
     "text": [
      "\n",
      "image 1/1 C:\\Users\\admin\\.cache\\kagglehub\\datasets\\pavansanagapati\\images-dataset\\versions\\1\\data\\cats\\cat.45.jpg: 384x512 15 objects, 1361.6ms\n",
      "Speed: 1.8ms preprocess, 1361.6ms inference, 27.5ms postprocess per image at shape (1, 3, 384, 512)\n"
     ]
    },
    {
     "name": "stderr",
     "output_type": "stream",
     "text": [
      " 71%|███████   | 143/202 [03:44<01:29,  1.52s/it]"
     ]
    },
    {
     "name": "stdout",
     "output_type": "stream",
     "text": [
      "\n",
      "image 1/1 C:\\Users\\admin\\.cache\\kagglehub\\datasets\\pavansanagapati\\images-dataset\\versions\\1\\data\\cats\\cat.46.jpg: 512x480 5 objects, 1784.9ms\n",
      "Speed: 2.9ms preprocess, 1784.9ms inference, 9.6ms postprocess per image at shape (1, 3, 512, 480)\n"
     ]
    },
    {
     "name": "stderr",
     "output_type": "stream",
     "text": [
      " 71%|███████▏  | 144/202 [03:46<01:33,  1.61s/it]"
     ]
    },
    {
     "name": "stdout",
     "output_type": "stream",
     "text": [
      "\n",
      "image 1/1 C:\\Users\\admin\\.cache\\kagglehub\\datasets\\pavansanagapati\\images-dataset\\versions\\1\\data\\cats\\cat.47.jpg: 448x512 11 objects, 1538.2ms\n",
      "Speed: 3.5ms preprocess, 1538.2ms inference, 9.5ms postprocess per image at shape (1, 3, 448, 512)\n"
     ]
    },
    {
     "name": "stderr",
     "output_type": "stream",
     "text": [
      " 72%|███████▏  | 145/202 [03:48<01:31,  1.60s/it]"
     ]
    },
    {
     "name": "stdout",
     "output_type": "stream",
     "text": [
      "\n",
      "image 1/1 C:\\Users\\admin\\.cache\\kagglehub\\datasets\\pavansanagapati\\images-dataset\\versions\\1\\data\\cats\\cat.48.jpg: 352x512 1 object, 1209.9ms\n",
      "Speed: 7.2ms preprocess, 1209.9ms inference, 4.6ms postprocess per image at shape (1, 3, 352, 512)\n"
     ]
    },
    {
     "name": "stderr",
     "output_type": "stream",
     "text": [
      " 72%|███████▏  | 146/202 [03:49<01:23,  1.50s/it]"
     ]
    },
    {
     "name": "stdout",
     "output_type": "stream",
     "text": [
      "\n",
      "image 1/1 C:\\Users\\admin\\.cache\\kagglehub\\datasets\\pavansanagapati\\images-dataset\\versions\\1\\data\\cats\\cat.49.jpg: 384x512 14 objects, 1440.8ms\n",
      "Speed: 1.7ms preprocess, 1440.8ms inference, 7.5ms postprocess per image at shape (1, 3, 384, 512)\n"
     ]
    },
    {
     "name": "stderr",
     "output_type": "stream",
     "text": [
      " 73%|███████▎  | 147/202 [03:50<01:22,  1.49s/it]"
     ]
    },
    {
     "name": "stdout",
     "output_type": "stream",
     "text": [
      "\n",
      "image 1/1 C:\\Users\\admin\\.cache\\kagglehub\\datasets\\pavansanagapati\\images-dataset\\versions\\1\\data\\cats\\cat.5.jpg: 448x512 14 objects, 1556.5ms\n",
      "Speed: 2.0ms preprocess, 1556.5ms inference, 8.4ms postprocess per image at shape (1, 3, 448, 512)\n"
     ]
    },
    {
     "name": "stderr",
     "output_type": "stream",
     "text": [
      " 73%|███████▎  | 148/202 [03:52<01:22,  1.52s/it]"
     ]
    },
    {
     "name": "stdout",
     "output_type": "stream",
     "text": [
      "\n",
      "image 1/1 C:\\Users\\admin\\.cache\\kagglehub\\datasets\\pavansanagapati\\images-dataset\\versions\\1\\data\\cats\\cat.50.jpg: 352x512 9 objects, 1219.3ms\n",
      "Speed: 2.6ms preprocess, 1219.3ms inference, 9.1ms postprocess per image at shape (1, 3, 352, 512)\n"
     ]
    },
    {
     "name": "stderr",
     "output_type": "stream",
     "text": [
      " 74%|███████▍  | 149/202 [03:53<01:16,  1.44s/it]"
     ]
    },
    {
     "name": "stdout",
     "output_type": "stream",
     "text": [
      "\n",
      "image 1/1 C:\\Users\\admin\\.cache\\kagglehub\\datasets\\pavansanagapati\\images-dataset\\versions\\1\\data\\cats\\cat.51.jpg: 512x288 13 objects, 1043.5ms\n",
      "Speed: 3.6ms preprocess, 1043.5ms inference, 19.7ms postprocess per image at shape (1, 3, 512, 288)\n"
     ]
    },
    {
     "name": "stderr",
     "output_type": "stream",
     "text": [
      " 74%|███████▍  | 150/202 [03:54<01:09,  1.34s/it]"
     ]
    },
    {
     "name": "stdout",
     "output_type": "stream",
     "text": [
      "\n",
      "image 1/1 C:\\Users\\admin\\.cache\\kagglehub\\datasets\\pavansanagapati\\images-dataset\\versions\\1\\data\\cats\\cat.52.jpg: 416x512 16 objects, 1553.9ms\n",
      "Speed: 2.8ms preprocess, 1553.9ms inference, 19.2ms postprocess per image at shape (1, 3, 416, 512)\n"
     ]
    },
    {
     "name": "stderr",
     "output_type": "stream",
     "text": [
      " 75%|███████▍  | 151/202 [03:56<01:12,  1.42s/it]"
     ]
    },
    {
     "name": "stdout",
     "output_type": "stream",
     "text": [
      "\n",
      "image 1/1 C:\\Users\\admin\\.cache\\kagglehub\\datasets\\pavansanagapati\\images-dataset\\versions\\1\\data\\cats\\cat.53.jpg: 480x512 7 objects, 1663.5ms\n",
      "Speed: 3.4ms preprocess, 1663.5ms inference, 14.7ms postprocess per image at shape (1, 3, 480, 512)\n"
     ]
    },
    {
     "name": "stderr",
     "output_type": "stream",
     "text": [
      " 75%|███████▌  | 152/202 [03:58<01:15,  1.51s/it]"
     ]
    },
    {
     "name": "stdout",
     "output_type": "stream",
     "text": [
      "\n",
      "image 1/1 C:\\Users\\admin\\.cache\\kagglehub\\datasets\\pavansanagapati\\images-dataset\\versions\\1\\data\\cats\\cat.54.jpg: 512x512 7 objects, 1762.7ms\n",
      "Speed: 3.5ms preprocess, 1762.7ms inference, 18.2ms postprocess per image at shape (1, 3, 512, 512)\n"
     ]
    },
    {
     "name": "stderr",
     "output_type": "stream",
     "text": [
      " 76%|███████▌  | 153/202 [03:59<01:18,  1.60s/it]"
     ]
    },
    {
     "name": "stdout",
     "output_type": "stream",
     "text": [
      "\n",
      "image 1/1 C:\\Users\\admin\\.cache\\kagglehub\\datasets\\pavansanagapati\\images-dataset\\versions\\1\\data\\cats\\cat.55.jpg: 512x352 10 objects, 1251.6ms\n",
      "Speed: 2.3ms preprocess, 1251.6ms inference, 18.8ms postprocess per image at shape (1, 3, 512, 352)\n"
     ]
    },
    {
     "name": "stderr",
     "output_type": "stream",
     "text": [
      " 76%|███████▌  | 154/202 [04:01<01:12,  1.51s/it]"
     ]
    },
    {
     "name": "stdout",
     "output_type": "stream",
     "text": [
      "\n",
      "image 1/1 C:\\Users\\admin\\.cache\\kagglehub\\datasets\\pavansanagapati\\images-dataset\\versions\\1\\data\\cats\\cat.56.jpg: 352x512 9 objects, 1329.7ms\n",
      "Speed: 1.8ms preprocess, 1329.7ms inference, 14.4ms postprocess per image at shape (1, 3, 352, 512)\n"
     ]
    },
    {
     "name": "stderr",
     "output_type": "stream",
     "text": [
      " 77%|███████▋  | 155/202 [04:02<01:09,  1.48s/it]"
     ]
    },
    {
     "name": "stdout",
     "output_type": "stream",
     "text": [
      "\n",
      "image 1/1 C:\\Users\\admin\\.cache\\kagglehub\\datasets\\pavansanagapati\\images-dataset\\versions\\1\\data\\cats\\cat.57.jpg: 448x512 9 objects, 1564.1ms\n",
      "Speed: 2.0ms preprocess, 1564.1ms inference, 10.3ms postprocess per image at shape (1, 3, 448, 512)\n"
     ]
    },
    {
     "name": "stderr",
     "output_type": "stream",
     "text": [
      " 77%|███████▋  | 156/202 [04:04<01:09,  1.52s/it]"
     ]
    },
    {
     "name": "stdout",
     "output_type": "stream",
     "text": [
      "\n",
      "image 1/1 C:\\Users\\admin\\.cache\\kagglehub\\datasets\\pavansanagapati\\images-dataset\\versions\\1\\data\\cats\\cat.58.jpg: 416x512 7 objects, 1621.0ms\n",
      "Speed: 3.1ms preprocess, 1621.0ms inference, 12.8ms postprocess per image at shape (1, 3, 416, 512)\n"
     ]
    },
    {
     "name": "stderr",
     "output_type": "stream",
     "text": [
      " 78%|███████▊  | 157/202 [04:05<01:10,  1.56s/it]"
     ]
    },
    {
     "name": "stdout",
     "output_type": "stream",
     "text": [
      "\n",
      "image 1/1 C:\\Users\\admin\\.cache\\kagglehub\\datasets\\pavansanagapati\\images-dataset\\versions\\1\\data\\cats\\cat.59.jpg: 384x512 12 objects, 1339.2ms\n",
      "Speed: 2.0ms preprocess, 1339.2ms inference, 21.2ms postprocess per image at shape (1, 3, 384, 512)\n"
     ]
    },
    {
     "name": "stderr",
     "output_type": "stream",
     "text": [
      " 78%|███████▊  | 158/202 [04:07<01:06,  1.52s/it]"
     ]
    },
    {
     "name": "stdout",
     "output_type": "stream",
     "text": [
      "\n",
      "image 1/1 C:\\Users\\admin\\.cache\\kagglehub\\datasets\\pavansanagapati\\images-dataset\\versions\\1\\data\\cats\\cat.6.jpg: 416x512 18 objects, 1542.5ms\n",
      "Speed: 1.9ms preprocess, 1542.5ms inference, 22.5ms postprocess per image at shape (1, 3, 416, 512)\n"
     ]
    },
    {
     "name": "stderr",
     "output_type": "stream",
     "text": [
      " 79%|███████▊  | 159/202 [04:08<01:06,  1.55s/it]"
     ]
    },
    {
     "name": "stdout",
     "output_type": "stream",
     "text": [
      "\n",
      "image 1/1 C:\\Users\\admin\\.cache\\kagglehub\\datasets\\pavansanagapati\\images-dataset\\versions\\1\\data\\cats\\cat.60.jpg: 512x512 10 objects, 1784.3ms\n",
      "Speed: 1.9ms preprocess, 1784.3ms inference, 6.4ms postprocess per image at shape (1, 3, 512, 512)\n"
     ]
    },
    {
     "name": "stderr",
     "output_type": "stream",
     "text": [
      " 79%|███████▉  | 160/202 [04:10<01:08,  1.63s/it]"
     ]
    },
    {
     "name": "stdout",
     "output_type": "stream",
     "text": [
      "\n",
      "image 1/1 C:\\Users\\admin\\.cache\\kagglehub\\datasets\\pavansanagapati\\images-dataset\\versions\\1\\data\\cats\\cat.61.jpg: 384x512 11 objects, 1349.1ms\n",
      "Speed: 1.9ms preprocess, 1349.1ms inference, 10.6ms postprocess per image at shape (1, 3, 384, 512)\n"
     ]
    },
    {
     "name": "stderr",
     "output_type": "stream",
     "text": [
      " 80%|███████▉  | 161/202 [04:12<01:03,  1.56s/it]"
     ]
    },
    {
     "name": "stdout",
     "output_type": "stream",
     "text": [
      "\n",
      "image 1/1 C:\\Users\\admin\\.cache\\kagglehub\\datasets\\pavansanagapati\\images-dataset\\versions\\1\\data\\cats\\cat.62.jpg: 416x512 15 objects, 1539.8ms\n",
      "Speed: 2.4ms preprocess, 1539.8ms inference, 29.5ms postprocess per image at shape (1, 3, 416, 512)\n"
     ]
    },
    {
     "name": "stderr",
     "output_type": "stream",
     "text": [
      " 80%|████████  | 162/202 [04:13<01:03,  1.58s/it]"
     ]
    },
    {
     "name": "stdout",
     "output_type": "stream",
     "text": [
      "\n",
      "image 1/1 C:\\Users\\admin\\.cache\\kagglehub\\datasets\\pavansanagapati\\images-dataset\\versions\\1\\data\\cats\\cat.63.jpg: 384x512 16 objects, 1365.7ms\n",
      "Speed: 2.0ms preprocess, 1365.7ms inference, 29.2ms postprocess per image at shape (1, 3, 384, 512)\n"
     ]
    },
    {
     "name": "stderr",
     "output_type": "stream",
     "text": [
      " 81%|████████  | 163/202 [04:15<00:59,  1.54s/it]"
     ]
    },
    {
     "name": "stdout",
     "output_type": "stream",
     "text": [
      "\n",
      "image 1/1 C:\\Users\\admin\\.cache\\kagglehub\\datasets\\pavansanagapati\\images-dataset\\versions\\1\\data\\cats\\cat.64.jpg: 384x512 7 objects, 1355.8ms\n",
      "Speed: 2.2ms preprocess, 1355.8ms inference, 12.0ms postprocess per image at shape (1, 3, 384, 512)\n"
     ]
    },
    {
     "name": "stderr",
     "output_type": "stream",
     "text": [
      " 81%|████████  | 164/202 [04:16<00:56,  1.49s/it]"
     ]
    },
    {
     "name": "stdout",
     "output_type": "stream",
     "text": [
      "\n",
      "image 1/1 C:\\Users\\admin\\.cache\\kagglehub\\datasets\\pavansanagapati\\images-dataset\\versions\\1\\data\\cats\\cat.65.jpg: 416x512 10 objects, 1538.7ms\n",
      "Speed: 2.9ms preprocess, 1538.7ms inference, 18.4ms postprocess per image at shape (1, 3, 416, 512)\n"
     ]
    },
    {
     "name": "stderr",
     "output_type": "stream",
     "text": [
      " 82%|████████▏ | 165/202 [04:18<00:56,  1.52s/it]"
     ]
    },
    {
     "name": "stdout",
     "output_type": "stream",
     "text": [
      "\n",
      "image 1/1 C:\\Users\\admin\\.cache\\kagglehub\\datasets\\pavansanagapati\\images-dataset\\versions\\1\\data\\cats\\cat.66.jpg: 416x512 7 objects, 1450.2ms\n",
      "Speed: 2.7ms preprocess, 1450.2ms inference, 15.1ms postprocess per image at shape (1, 3, 416, 512)\n"
     ]
    },
    {
     "name": "stderr",
     "output_type": "stream",
     "text": [
      " 82%|████████▏ | 166/202 [04:19<00:54,  1.52s/it]"
     ]
    },
    {
     "name": "stdout",
     "output_type": "stream",
     "text": [
      "\n",
      "image 1/1 C:\\Users\\admin\\.cache\\kagglehub\\datasets\\pavansanagapati\\images-dataset\\versions\\1\\data\\cats\\cat.67.jpg: 384x512 12 objects, 1373.7ms\n",
      "Speed: 2.3ms preprocess, 1373.7ms inference, 22.8ms postprocess per image at shape (1, 3, 384, 512)\n"
     ]
    },
    {
     "name": "stderr",
     "output_type": "stream",
     "text": [
      " 83%|████████▎ | 167/202 [04:21<00:52,  1.50s/it]"
     ]
    },
    {
     "name": "stdout",
     "output_type": "stream",
     "text": [
      "\n",
      "image 1/1 C:\\Users\\admin\\.cache\\kagglehub\\datasets\\pavansanagapati\\images-dataset\\versions\\1\\data\\cats\\cat.68.jpg: 384x512 3 objects, 1443.3ms\n",
      "Speed: 1.6ms preprocess, 1443.3ms inference, 5.1ms postprocess per image at shape (1, 3, 384, 512)\n"
     ]
    },
    {
     "name": "stderr",
     "output_type": "stream",
     "text": [
      " 83%|████████▎ | 168/202 [04:22<00:50,  1.49s/it]"
     ]
    },
    {
     "name": "stdout",
     "output_type": "stream",
     "text": [
      "\n",
      "image 1/1 C:\\Users\\admin\\.cache\\kagglehub\\datasets\\pavansanagapati\\images-dataset\\versions\\1\\data\\cats\\cat.69.jpg: 384x512 9 objects, 1343.8ms\n",
      "Speed: 1.9ms preprocess, 1343.8ms inference, 19.8ms postprocess per image at shape (1, 3, 384, 512)\n"
     ]
    },
    {
     "name": "stderr",
     "output_type": "stream",
     "text": [
      " 84%|████████▎ | 169/202 [04:24<00:48,  1.46s/it]"
     ]
    },
    {
     "name": "stdout",
     "output_type": "stream",
     "text": [
      "\n",
      "image 1/1 C:\\Users\\admin\\.cache\\kagglehub\\datasets\\pavansanagapati\\images-dataset\\versions\\1\\data\\cats\\cat.7.jpg: 512x512 10 objects, 1772.1ms\n",
      "Speed: 7.3ms preprocess, 1772.1ms inference, 20.8ms postprocess per image at shape (1, 3, 512, 512)\n"
     ]
    },
    {
     "name": "stderr",
     "output_type": "stream",
     "text": [
      " 84%|████████▍ | 170/202 [04:25<00:50,  1.58s/it]"
     ]
    },
    {
     "name": "stdout",
     "output_type": "stream",
     "text": [
      "\n",
      "image 1/1 C:\\Users\\admin\\.cache\\kagglehub\\datasets\\pavansanagapati\\images-dataset\\versions\\1\\data\\cats\\cat.70.jpg: 416x512 14 objects, 1446.5ms\n",
      "Speed: 2.0ms preprocess, 1446.5ms inference, 23.3ms postprocess per image at shape (1, 3, 416, 512)\n"
     ]
    },
    {
     "name": "stderr",
     "output_type": "stream",
     "text": [
      " 85%|████████▍ | 171/202 [04:27<00:48,  1.56s/it]"
     ]
    },
    {
     "name": "stdout",
     "output_type": "stream",
     "text": [
      "\n",
      "image 1/1 C:\\Users\\admin\\.cache\\kagglehub\\datasets\\pavansanagapati\\images-dataset\\versions\\1\\data\\cats\\cat.71.jpg: 448x512 21 objects, 1646.9ms\n",
      "Speed: 2.5ms preprocess, 1646.9ms inference, 39.2ms postprocess per image at shape (1, 3, 448, 512)\n"
     ]
    },
    {
     "name": "stderr",
     "output_type": "stream",
     "text": [
      " 85%|████████▌ | 172/202 [04:29<00:48,  1.63s/it]"
     ]
    },
    {
     "name": "stdout",
     "output_type": "stream",
     "text": [
      "\n",
      "image 1/1 C:\\Users\\admin\\.cache\\kagglehub\\datasets\\pavansanagapati\\images-dataset\\versions\\1\\data\\cats\\cat.72.jpg: 384x512 18 objects, 1355.4ms\n",
      "Speed: 2.0ms preprocess, 1355.4ms inference, 30.0ms postprocess per image at shape (1, 3, 384, 512)\n"
     ]
    },
    {
     "name": "stderr",
     "output_type": "stream",
     "text": [
      " 86%|████████▌ | 173/202 [04:30<00:45,  1.57s/it]"
     ]
    },
    {
     "name": "stdout",
     "output_type": "stream",
     "text": [
      "\n",
      "image 1/1 C:\\Users\\admin\\.cache\\kagglehub\\datasets\\pavansanagapati\\images-dataset\\versions\\1\\data\\cats\\cat.73.jpg: 416x512 16 objects, 1439.7ms\n",
      "Speed: 2.5ms preprocess, 1439.7ms inference, 28.7ms postprocess per image at shape (1, 3, 416, 512)\n"
     ]
    },
    {
     "name": "stderr",
     "output_type": "stream",
     "text": [
      " 86%|████████▌ | 174/202 [04:32<00:43,  1.56s/it]"
     ]
    },
    {
     "name": "stdout",
     "output_type": "stream",
     "text": [
      "\n",
      "image 1/1 C:\\Users\\admin\\.cache\\kagglehub\\datasets\\pavansanagapati\\images-dataset\\versions\\1\\data\\cats\\cat.74.jpg: 480x512 9 objects, 1751.3ms\n",
      "Speed: 2.3ms preprocess, 1751.3ms inference, 6.9ms postprocess per image at shape (1, 3, 480, 512)\n"
     ]
    },
    {
     "name": "stderr",
     "output_type": "stream",
     "text": [
      " 87%|████████▋ | 175/202 [04:33<00:43,  1.63s/it]"
     ]
    },
    {
     "name": "stdout",
     "output_type": "stream",
     "text": [
      "\n",
      "image 1/1 C:\\Users\\admin\\.cache\\kagglehub\\datasets\\pavansanagapati\\images-dataset\\versions\\1\\data\\cats\\cat.75.jpg: 416x512 15 objects, 1435.4ms\n",
      "Speed: 4.8ms preprocess, 1435.4ms inference, 29.0ms postprocess per image at shape (1, 3, 416, 512)\n"
     ]
    },
    {
     "name": "stderr",
     "output_type": "stream",
     "text": [
      " 87%|████████▋ | 176/202 [04:35<00:41,  1.59s/it]"
     ]
    },
    {
     "name": "stdout",
     "output_type": "stream",
     "text": [
      "\n",
      "image 1/1 C:\\Users\\admin\\.cache\\kagglehub\\datasets\\pavansanagapati\\images-dataset\\versions\\1\\data\\cats\\cat.76.jpg: 288x512 9 objects, 1051.0ms\n",
      "Speed: 3.2ms preprocess, 1051.0ms inference, 14.9ms postprocess per image at shape (1, 3, 288, 512)\n"
     ]
    },
    {
     "name": "stderr",
     "output_type": "stream",
     "text": [
      " 88%|████████▊ | 177/202 [04:36<00:36,  1.45s/it]"
     ]
    },
    {
     "name": "stdout",
     "output_type": "stream",
     "text": [
      "\n",
      "image 1/1 C:\\Users\\admin\\.cache\\kagglehub\\datasets\\pavansanagapati\\images-dataset\\versions\\1\\data\\cats\\cat.77.jpg: 352x512 12 objects, 1335.0ms\n",
      "Speed: 1.6ms preprocess, 1335.0ms inference, 13.4ms postprocess per image at shape (1, 3, 352, 512)\n"
     ]
    },
    {
     "name": "stderr",
     "output_type": "stream",
     "text": [
      " 88%|████████▊ | 178/202 [04:37<00:34,  1.43s/it]"
     ]
    },
    {
     "name": "stdout",
     "output_type": "stream",
     "text": [
      "\n",
      "image 1/1 C:\\Users\\admin\\.cache\\kagglehub\\datasets\\pavansanagapati\\images-dataset\\versions\\1\\data\\cats\\cat.78.jpg: 512x512 4 objects, 1778.9ms\n",
      "Speed: 7.8ms preprocess, 1778.9ms inference, 10.5ms postprocess per image at shape (1, 3, 512, 512)\n"
     ]
    },
    {
     "name": "stderr",
     "output_type": "stream",
     "text": [
      " 89%|████████▊ | 179/202 [04:39<00:35,  1.55s/it]"
     ]
    },
    {
     "name": "stdout",
     "output_type": "stream",
     "text": [
      "\n",
      "image 1/1 C:\\Users\\admin\\.cache\\kagglehub\\datasets\\pavansanagapati\\images-dataset\\versions\\1\\data\\cats\\cat.79.jpg: 384x512 16 objects, 1340.2ms\n",
      "Speed: 2.2ms preprocess, 1340.2ms inference, 29.7ms postprocess per image at shape (1, 3, 384, 512)\n"
     ]
    },
    {
     "name": "stderr",
     "output_type": "stream",
     "text": [
      " 89%|████████▉ | 180/202 [04:41<00:33,  1.51s/it]"
     ]
    },
    {
     "name": "stdout",
     "output_type": "stream",
     "text": [
      "\n",
      "image 1/1 C:\\Users\\admin\\.cache\\kagglehub\\datasets\\pavansanagapati\\images-dataset\\versions\\1\\data\\cats\\cat.8.jpg: 384x512 10 objects, 1444.2ms\n",
      "Speed: 1.9ms preprocess, 1444.2ms inference, 15.1ms postprocess per image at shape (1, 3, 384, 512)\n"
     ]
    },
    {
     "name": "stderr",
     "output_type": "stream",
     "text": [
      " 90%|████████▉ | 181/202 [04:42<00:31,  1.51s/it]"
     ]
    },
    {
     "name": "stdout",
     "output_type": "stream",
     "text": [
      "\n",
      "image 1/1 C:\\Users\\admin\\.cache\\kagglehub\\datasets\\pavansanagapati\\images-dataset\\versions\\1\\data\\cats\\cat.80.jpg: 384x512 10 objects, 1398.8ms\n",
      "Speed: 2.2ms preprocess, 1398.8ms inference, 8.7ms postprocess per image at shape (1, 3, 384, 512)\n"
     ]
    },
    {
     "name": "stderr",
     "output_type": "stream",
     "text": [
      " 90%|█████████ | 182/202 [04:44<00:29,  1.49s/it]"
     ]
    },
    {
     "name": "stdout",
     "output_type": "stream",
     "text": [
      "\n",
      "image 1/1 C:\\Users\\admin\\.cache\\kagglehub\\datasets\\pavansanagapati\\images-dataset\\versions\\1\\data\\cats\\cat.81.jpg: 416x512 13 objects, 1627.0ms\n",
      "Speed: 5.1ms preprocess, 1627.0ms inference, 22.3ms postprocess per image at shape (1, 3, 416, 512)\n"
     ]
    },
    {
     "name": "stderr",
     "output_type": "stream",
     "text": [
      " 91%|█████████ | 183/202 [04:45<00:29,  1.55s/it]"
     ]
    },
    {
     "name": "stdout",
     "output_type": "stream",
     "text": [
      "\n",
      "image 1/1 C:\\Users\\admin\\.cache\\kagglehub\\datasets\\pavansanagapati\\images-dataset\\versions\\1\\data\\cats\\cat.82.jpg: 352x512 19 objects, 1219.2ms\n",
      "Speed: 1.8ms preprocess, 1219.2ms inference, 30.4ms postprocess per image at shape (1, 3, 352, 512)\n"
     ]
    },
    {
     "name": "stderr",
     "output_type": "stream",
     "text": [
      " 91%|█████████ | 184/202 [04:47<00:26,  1.47s/it]"
     ]
    },
    {
     "name": "stdout",
     "output_type": "stream",
     "text": [
      "\n",
      "image 1/1 C:\\Users\\admin\\.cache\\kagglehub\\datasets\\pavansanagapati\\images-dataset\\versions\\1\\data\\cats\\cat.83.jpg: 416x512 6 objects, 1524.6ms\n",
      "Speed: 3.0ms preprocess, 1524.6ms inference, 11.4ms postprocess per image at shape (1, 3, 416, 512)\n"
     ]
    },
    {
     "name": "stderr",
     "output_type": "stream",
     "text": [
      " 92%|█████████▏| 185/202 [04:48<00:25,  1.51s/it]"
     ]
    },
    {
     "name": "stdout",
     "output_type": "stream",
     "text": [
      "\n",
      "image 1/1 C:\\Users\\admin\\.cache\\kagglehub\\datasets\\pavansanagapati\\images-dataset\\versions\\1\\data\\cats\\cat.84.jpg: 352x512 7 objects, 1227.8ms\n",
      "Speed: 2.6ms preprocess, 1227.8ms inference, 9.4ms postprocess per image at shape (1, 3, 352, 512)\n"
     ]
    },
    {
     "name": "stderr",
     "output_type": "stream",
     "text": [
      " 92%|█████████▏| 186/202 [04:50<00:23,  1.44s/it]"
     ]
    },
    {
     "name": "stdout",
     "output_type": "stream",
     "text": [
      "\n",
      "image 1/1 C:\\Users\\admin\\.cache\\kagglehub\\datasets\\pavansanagapati\\images-dataset\\versions\\1\\data\\cats\\cat.85.jpg: 416x512 28 objects, 1423.4ms\n",
      "Speed: 2.6ms preprocess, 1423.4ms inference, 40.3ms postprocess per image at shape (1, 3, 416, 512)\n"
     ]
    },
    {
     "name": "stderr",
     "output_type": "stream",
     "text": [
      " 93%|█████████▎| 187/202 [04:51<00:21,  1.46s/it]"
     ]
    },
    {
     "name": "stdout",
     "output_type": "stream",
     "text": [
      "\n",
      "image 1/1 C:\\Users\\admin\\.cache\\kagglehub\\datasets\\pavansanagapati\\images-dataset\\versions\\1\\data\\cats\\cat.86.jpg: 512x512 10 objects, 1825.5ms\n",
      "Speed: 2.4ms preprocess, 1825.5ms inference, 24.9ms postprocess per image at shape (1, 3, 512, 512)\n"
     ]
    },
    {
     "name": "stderr",
     "output_type": "stream",
     "text": [
      " 93%|█████████▎| 188/202 [04:53<00:22,  1.59s/it]"
     ]
    },
    {
     "name": "stdout",
     "output_type": "stream",
     "text": [
      "\n",
      "image 1/1 C:\\Users\\admin\\.cache\\kagglehub\\datasets\\pavansanagapati\\images-dataset\\versions\\1\\data\\cats\\cat.87.jpg: 416x512 17 objects, 1440.0ms\n",
      "Speed: 2.4ms preprocess, 1440.0ms inference, 28.3ms postprocess per image at shape (1, 3, 416, 512)\n"
     ]
    },
    {
     "name": "stderr",
     "output_type": "stream",
     "text": [
      " 94%|█████████▎| 189/202 [04:54<00:20,  1.57s/it]"
     ]
    },
    {
     "name": "stdout",
     "output_type": "stream",
     "text": [
      "\n",
      "image 1/1 C:\\Users\\admin\\.cache\\kagglehub\\datasets\\pavansanagapati\\images-dataset\\versions\\1\\data\\cats\\cat.88.jpg: 352x512 7 objects, 1241.0ms\n",
      "Speed: 1.8ms preprocess, 1241.0ms inference, 9.9ms postprocess per image at shape (1, 3, 352, 512)\n"
     ]
    },
    {
     "name": "stderr",
     "output_type": "stream",
     "text": [
      " 94%|█████████▍| 190/202 [04:56<00:17,  1.48s/it]"
     ]
    },
    {
     "name": "stdout",
     "output_type": "stream",
     "text": [
      "\n",
      "image 1/1 C:\\Users\\admin\\.cache\\kagglehub\\datasets\\pavansanagapati\\images-dataset\\versions\\1\\data\\cats\\cat.89.jpg: 512x512 12 objects, 1831.9ms\n",
      "Speed: 5.9ms preprocess, 1831.9ms inference, 22.9ms postprocess per image at shape (1, 3, 512, 512)\n"
     ]
    },
    {
     "name": "stderr",
     "output_type": "stream",
     "text": [
      " 95%|█████████▍| 191/202 [04:58<00:17,  1.61s/it]"
     ]
    },
    {
     "name": "stdout",
     "output_type": "stream",
     "text": [
      "\n",
      "image 1/1 C:\\Users\\admin\\.cache\\kagglehub\\datasets\\pavansanagapati\\images-dataset\\versions\\1\\data\\cats\\cat.9.jpg: 512x416 16 objects, 1456.2ms\n",
      "Speed: 2.5ms preprocess, 1456.2ms inference, 22.1ms postprocess per image at shape (1, 3, 512, 416)\n"
     ]
    },
    {
     "name": "stderr",
     "output_type": "stream",
     "text": [
      " 95%|█████████▌| 192/202 [04:59<00:15,  1.58s/it]"
     ]
    },
    {
     "name": "stdout",
     "output_type": "stream",
     "text": [
      "\n",
      "image 1/1 C:\\Users\\admin\\.cache\\kagglehub\\datasets\\pavansanagapati\\images-dataset\\versions\\1\\data\\cats\\cat.90.jpg: 416x512 28 objects, 1437.8ms\n",
      "Speed: 1.6ms preprocess, 1437.8ms inference, 40.7ms postprocess per image at shape (1, 3, 416, 512)\n"
     ]
    },
    {
     "name": "stderr",
     "output_type": "stream",
     "text": [
      " 96%|█████████▌| 193/202 [05:01<00:14,  1.57s/it]"
     ]
    },
    {
     "name": "stdout",
     "output_type": "stream",
     "text": [
      "\n",
      "image 1/1 C:\\Users\\admin\\.cache\\kagglehub\\datasets\\pavansanagapati\\images-dataset\\versions\\1\\data\\cats\\cat.91.jpg: 416x512 13 objects, 1519.4ms\n",
      "Speed: 2.0ms preprocess, 1519.4ms inference, 25.8ms postprocess per image at shape (1, 3, 416, 512)\n"
     ]
    },
    {
     "name": "stderr",
     "output_type": "stream",
     "text": [
      " 96%|█████████▌| 194/202 [05:02<00:12,  1.57s/it]"
     ]
    },
    {
     "name": "stdout",
     "output_type": "stream",
     "text": [
      "\n",
      "image 1/1 C:\\Users\\admin\\.cache\\kagglehub\\datasets\\pavansanagapati\\images-dataset\\versions\\1\\data\\cats\\cat.92.jpg: 416x512 22 objects, 1422.7ms\n",
      "Speed: 1.6ms preprocess, 1422.7ms inference, 38.8ms postprocess per image at shape (1, 3, 416, 512)\n"
     ]
    },
    {
     "name": "stderr",
     "output_type": "stream",
     "text": [
      " 97%|█████████▋| 195/202 [05:04<00:10,  1.55s/it]"
     ]
    },
    {
     "name": "stdout",
     "output_type": "stream",
     "text": [
      "\n",
      "image 1/1 C:\\Users\\admin\\.cache\\kagglehub\\datasets\\pavansanagapati\\images-dataset\\versions\\1\\data\\cats\\cat.93.jpg: 512x512 3 objects, 1779.1ms\n",
      "Speed: 4.8ms preprocess, 1779.1ms inference, 5.9ms postprocess per image at shape (1, 3, 512, 512)\n"
     ]
    },
    {
     "name": "stderr",
     "output_type": "stream",
     "text": [
      " 97%|█████████▋| 196/202 [05:06<00:09,  1.63s/it]"
     ]
    },
    {
     "name": "stdout",
     "output_type": "stream",
     "text": [
      "\n",
      "image 1/1 C:\\Users\\admin\\.cache\\kagglehub\\datasets\\pavansanagapati\\images-dataset\\versions\\1\\data\\cats\\cat.94.jpg: 512x512 14 objects, 1849.9ms\n",
      "Speed: 3.0ms preprocess, 1849.9ms inference, 18.9ms postprocess per image at shape (1, 3, 512, 512)\n"
     ]
    },
    {
     "name": "stderr",
     "output_type": "stream",
     "text": [
      " 98%|█████████▊| 197/202 [05:07<00:08,  1.72s/it]"
     ]
    },
    {
     "name": "stdout",
     "output_type": "stream",
     "text": [
      "\n",
      "image 1/1 C:\\Users\\admin\\.cache\\kagglehub\\datasets\\pavansanagapati\\images-dataset\\versions\\1\\data\\cats\\cat.95.jpg: 384x512 13 objects, 1338.4ms\n",
      "Speed: 1.8ms preprocess, 1338.4ms inference, 12.1ms postprocess per image at shape (1, 3, 384, 512)\n"
     ]
    },
    {
     "name": "stderr",
     "output_type": "stream",
     "text": [
      " 98%|█████████▊| 198/202 [05:09<00:06,  1.62s/it]"
     ]
    },
    {
     "name": "stdout",
     "output_type": "stream",
     "text": [
      "\n",
      "image 1/1 C:\\Users\\admin\\.cache\\kagglehub\\datasets\\pavansanagapati\\images-dataset\\versions\\1\\data\\cats\\cat.96.jpg: 384x512 26 objects, 1321.8ms\n",
      "Speed: 2.4ms preprocess, 1321.8ms inference, 44.1ms postprocess per image at shape (1, 3, 384, 512)\n"
     ]
    },
    {
     "name": "stderr",
     "output_type": "stream",
     "text": [
      " 99%|█████████▊| 199/202 [05:10<00:04,  1.56s/it]"
     ]
    },
    {
     "name": "stdout",
     "output_type": "stream",
     "text": [
      "\n",
      "image 1/1 C:\\Users\\admin\\.cache\\kagglehub\\datasets\\pavansanagapati\\images-dataset\\versions\\1\\data\\cats\\cat.97.jpg: 384x512 8 objects, 1762.0ms\n",
      "Speed: 3.6ms preprocess, 1762.0ms inference, 15.5ms postprocess per image at shape (1, 3, 384, 512)\n"
     ]
    },
    {
     "name": "stderr",
     "output_type": "stream",
     "text": [
      " 99%|█████████▉| 200/202 [05:12<00:03,  1.64s/it]"
     ]
    },
    {
     "name": "stdout",
     "output_type": "stream",
     "text": [
      "\n",
      "image 1/1 C:\\Users\\admin\\.cache\\kagglehub\\datasets\\pavansanagapati\\images-dataset\\versions\\1\\data\\cats\\cat.98.jpg: 416x512 7 objects, 1430.5ms\n",
      "Speed: 4.3ms preprocess, 1430.5ms inference, 11.3ms postprocess per image at shape (1, 3, 416, 512)\n"
     ]
    },
    {
     "name": "stderr",
     "output_type": "stream",
     "text": [
      "100%|█████████▉| 201/202 [05:14<00:01,  1.59s/it]"
     ]
    },
    {
     "name": "stdout",
     "output_type": "stream",
     "text": [
      "\n",
      "image 1/1 C:\\Users\\admin\\.cache\\kagglehub\\datasets\\pavansanagapati\\images-dataset\\versions\\1\\data\\cats\\cat.99.jpg: 416x512 6 objects, 1453.3ms\n",
      "Speed: 4.0ms preprocess, 1453.3ms inference, 6.5ms postprocess per image at shape (1, 3, 416, 512)\n"
     ]
    },
    {
     "name": "stderr",
     "output_type": "stream",
     "text": [
      "100%|██████████| 202/202 [05:15<00:00,  1.56s/it]\n"
     ]
    },
    {
     "name": "stdout",
     "output_type": "stream",
     "text": [
      "\n",
      " Processing class: data\n"
     ]
    },
    {
     "name": "stderr",
     "output_type": "stream",
     "text": [
      "100%|██████████| 7/7 [00:00<?, ?it/s]\n"
     ]
    },
    {
     "name": "stdout",
     "output_type": "stream",
     "text": [
      "\n",
      " Processing class: dogs\n"
     ]
    },
    {
     "name": "stderr",
     "output_type": "stream",
     "text": [
      "  0%|          | 0/202 [00:00<?, ?it/s]"
     ]
    },
    {
     "name": "stdout",
     "output_type": "stream",
     "text": [
      "\n",
      "image 1/1 C:\\Users\\admin\\.cache\\kagglehub\\datasets\\pavansanagapati\\images-dataset\\versions\\1\\data\\dogs\\dog.1.jpg: 512x352 9 objects, 1258.0ms\n",
      "Speed: 2.4ms preprocess, 1258.0ms inference, 92.7ms postprocess per image at shape (1, 3, 512, 352)\n"
     ]
    },
    {
     "name": "stderr",
     "output_type": "stream",
     "text": [
      "  0%|          | 1/202 [00:01<04:40,  1.40s/it]"
     ]
    },
    {
     "name": "stdout",
     "output_type": "stream",
     "text": [
      "\n",
      "image 1/1 C:\\Users\\admin\\.cache\\kagglehub\\datasets\\pavansanagapati\\images-dataset\\versions\\1\\data\\dogs\\dog.10.jpg: 512x480 9 objects, 1676.9ms\n",
      "Speed: 1.9ms preprocess, 1676.9ms inference, 8.6ms postprocess per image at shape (1, 3, 512, 480)\n"
     ]
    },
    {
     "name": "stderr",
     "output_type": "stream",
     "text": [
      "  1%|          | 2/202 [00:03<05:17,  1.59s/it]"
     ]
    },
    {
     "name": "stdout",
     "output_type": "stream",
     "text": [
      "\n",
      "image 1/1 C:\\Users\\admin\\.cache\\kagglehub\\datasets\\pavansanagapati\\images-dataset\\versions\\1\\data\\dogs\\dog.100.jpg: 416x512 16 objects, 1425.2ms\n",
      "Speed: 2.5ms preprocess, 1425.2ms inference, 32.4ms postprocess per image at shape (1, 3, 416, 512)\n"
     ]
    },
    {
     "name": "stderr",
     "output_type": "stream",
     "text": [
      "  1%|▏         | 3/202 [00:04<05:11,  1.56s/it]"
     ]
    },
    {
     "name": "stdout",
     "output_type": "stream",
     "text": [
      "\n",
      "image 1/1 C:\\Users\\admin\\.cache\\kagglehub\\datasets\\pavansanagapati\\images-dataset\\versions\\1\\data\\dogs\\dog.101.jpg: 512x480 10 objects, 1731.8ms\n",
      "Speed: 2.8ms preprocess, 1731.8ms inference, 24.3ms postprocess per image at shape (1, 3, 512, 480)\n"
     ]
    },
    {
     "name": "stderr",
     "output_type": "stream",
     "text": [
      "  2%|▏         | 4/202 [00:06<05:27,  1.66s/it]"
     ]
    },
    {
     "name": "stdout",
     "output_type": "stream",
     "text": [
      "\n",
      "image 1/1 C:\\Users\\admin\\.cache\\kagglehub\\datasets\\pavansanagapati\\images-dataset\\versions\\1\\data\\dogs\\dog.102.jpg: 384x512 14 objects, 1348.1ms\n",
      "Speed: 2.9ms preprocess, 1348.1ms inference, 23.1ms postprocess per image at shape (1, 3, 384, 512)\n"
     ]
    },
    {
     "name": "stderr",
     "output_type": "stream",
     "text": [
      "  2%|▏         | 5/202 [00:07<05:09,  1.57s/it]"
     ]
    },
    {
     "name": "stdout",
     "output_type": "stream",
     "text": [
      "\n",
      "image 1/1 C:\\Users\\admin\\.cache\\kagglehub\\datasets\\pavansanagapati\\images-dataset\\versions\\1\\data\\dogs\\dog.103.jpg: 448x512 14 objects, 1602.9ms\n",
      "Speed: 2.3ms preprocess, 1602.9ms inference, 32.0ms postprocess per image at shape (1, 3, 448, 512)\n"
     ]
    },
    {
     "name": "stderr",
     "output_type": "stream",
     "text": [
      "  3%|▎         | 6/202 [00:09<05:15,  1.61s/it]"
     ]
    },
    {
     "name": "stdout",
     "output_type": "stream",
     "text": [
      "\n",
      "image 1/1 C:\\Users\\admin\\.cache\\kagglehub\\datasets\\pavansanagapati\\images-dataset\\versions\\1\\data\\dogs\\dog.104.jpg: 416x512 11 objects, 1517.9ms\n",
      "Speed: 2.6ms preprocess, 1517.9ms inference, 19.9ms postprocess per image at shape (1, 3, 416, 512)\n"
     ]
    },
    {
     "name": "stderr",
     "output_type": "stream",
     "text": [
      "  3%|▎         | 7/202 [00:11<05:12,  1.60s/it]"
     ]
    },
    {
     "name": "stdout",
     "output_type": "stream",
     "text": [
      "\n",
      "image 1/1 C:\\Users\\admin\\.cache\\kagglehub\\datasets\\pavansanagapati\\images-dataset\\versions\\1\\data\\dogs\\dog.105.jpg: 512x416 2 objects, 1476.0ms\n",
      "Speed: 2.3ms preprocess, 1476.0ms inference, 3.1ms postprocess per image at shape (1, 3, 512, 416)\n"
     ]
    },
    {
     "name": "stderr",
     "output_type": "stream",
     "text": [
      "  4%|▍         | 8/202 [00:12<05:04,  1.57s/it]"
     ]
    },
    {
     "name": "stdout",
     "output_type": "stream",
     "text": [
      "\n",
      "image 1/1 C:\\Users\\admin\\.cache\\kagglehub\\datasets\\pavansanagapati\\images-dataset\\versions\\1\\data\\dogs\\dog.106.jpg: 384x512 15 objects, 1339.7ms\n",
      "Speed: 2.1ms preprocess, 1339.7ms inference, 27.9ms postprocess per image at shape (1, 3, 384, 512)\n"
     ]
    },
    {
     "name": "stderr",
     "output_type": "stream",
     "text": [
      "  4%|▍         | 9/202 [00:14<04:54,  1.52s/it]"
     ]
    },
    {
     "name": "stdout",
     "output_type": "stream",
     "text": [
      "\n",
      "image 1/1 C:\\Users\\admin\\.cache\\kagglehub\\datasets\\pavansanagapati\\images-dataset\\versions\\1\\data\\dogs\\dog.107.jpg: 480x512 5 objects, 1749.1ms\n",
      "Speed: 3.1ms preprocess, 1749.1ms inference, 11.4ms postprocess per image at shape (1, 3, 480, 512)\n"
     ]
    },
    {
     "name": "stderr",
     "output_type": "stream",
     "text": [
      "  5%|▍         | 10/202 [00:15<05:08,  1.61s/it]"
     ]
    },
    {
     "name": "stdout",
     "output_type": "stream",
     "text": [
      "\n",
      "image 1/1 C:\\Users\\admin\\.cache\\kagglehub\\datasets\\pavansanagapati\\images-dataset\\versions\\1\\data\\dogs\\dog.108.jpg: 512x288 6 objects, 1026.6ms\n",
      "Speed: 2.5ms preprocess, 1026.6ms inference, 7.4ms postprocess per image at shape (1, 3, 512, 288)\n"
     ]
    },
    {
     "name": "stderr",
     "output_type": "stream",
     "text": [
      "  5%|▌         | 11/202 [00:16<04:35,  1.44s/it]"
     ]
    },
    {
     "name": "stdout",
     "output_type": "stream",
     "text": [
      "\n",
      "image 1/1 C:\\Users\\admin\\.cache\\kagglehub\\datasets\\pavansanagapati\\images-dataset\\versions\\1\\data\\dogs\\dog.109.jpg: 320x512 17 objects, 1145.3ms\n",
      "Speed: 2.3ms preprocess, 1145.3ms inference, 20.7ms postprocess per image at shape (1, 3, 320, 512)\n"
     ]
    },
    {
     "name": "stderr",
     "output_type": "stream",
     "text": [
      "  6%|▌         | 12/202 [00:18<04:20,  1.37s/it]"
     ]
    },
    {
     "name": "stdout",
     "output_type": "stream",
     "text": [
      "\n",
      "image 1/1 C:\\Users\\admin\\.cache\\kagglehub\\datasets\\pavansanagapati\\images-dataset\\versions\\1\\data\\dogs\\dog.11.jpg: 384x512 4 objects, 1370.0ms\n",
      "Speed: 4.4ms preprocess, 1370.0ms inference, 3.1ms postprocess per image at shape (1, 3, 384, 512)\n"
     ]
    },
    {
     "name": "stderr",
     "output_type": "stream",
     "text": [
      "  6%|▋         | 13/202 [00:19<04:20,  1.38s/it]"
     ]
    },
    {
     "name": "stdout",
     "output_type": "stream",
     "text": [
      "\n",
      "image 1/1 C:\\Users\\admin\\.cache\\kagglehub\\datasets\\pavansanagapati\\images-dataset\\versions\\1\\data\\dogs\\dog.110.jpg: 416x512 14 objects, 1510.9ms\n",
      "Speed: 2.0ms preprocess, 1510.9ms inference, 25.3ms postprocess per image at shape (1, 3, 416, 512)\n"
     ]
    },
    {
     "name": "stderr",
     "output_type": "stream",
     "text": [
      "  7%|▋         | 14/202 [00:21<04:30,  1.44s/it]"
     ]
    },
    {
     "name": "stdout",
     "output_type": "stream",
     "text": [
      "\n",
      "image 1/1 C:\\Users\\admin\\.cache\\kagglehub\\datasets\\pavansanagapati\\images-dataset\\versions\\1\\data\\dogs\\dog.111.jpg: 416x512 14 objects, 1374.8ms\n",
      "Speed: 2.4ms preprocess, 1374.8ms inference, 24.0ms postprocess per image at shape (1, 3, 416, 512)\n"
     ]
    },
    {
     "name": "stderr",
     "output_type": "stream",
     "text": [
      "  7%|▋         | 15/202 [00:22<04:29,  1.44s/it]"
     ]
    },
    {
     "name": "stdout",
     "output_type": "stream",
     "text": [
      "\n",
      "image 1/1 C:\\Users\\admin\\.cache\\kagglehub\\datasets\\pavansanagapati\\images-dataset\\versions\\1\\data\\dogs\\dog.112.jpg: 384x512 5 objects, 1385.6ms\n",
      "Speed: 2.0ms preprocess, 1385.6ms inference, 9.7ms postprocess per image at shape (1, 3, 384, 512)\n"
     ]
    },
    {
     "name": "stderr",
     "output_type": "stream",
     "text": [
      "  8%|▊         | 16/202 [00:24<04:27,  1.44s/it]"
     ]
    },
    {
     "name": "stdout",
     "output_type": "stream",
     "text": [
      "\n",
      "image 1/1 C:\\Users\\admin\\.cache\\kagglehub\\datasets\\pavansanagapati\\images-dataset\\versions\\1\\data\\dogs\\dog.113.jpg: 512x352 9 objects, 1192.7ms\n",
      "Speed: 2.0ms preprocess, 1192.7ms inference, 17.0ms postprocess per image at shape (1, 3, 512, 352)\n"
     ]
    },
    {
     "name": "stderr",
     "output_type": "stream",
     "text": [
      "  8%|▊         | 17/202 [00:25<04:15,  1.38s/it]"
     ]
    },
    {
     "name": "stdout",
     "output_type": "stream",
     "text": [
      "\n",
      "image 1/1 C:\\Users\\admin\\.cache\\kagglehub\\datasets\\pavansanagapati\\images-dataset\\versions\\1\\data\\dogs\\dog.114.jpg: 384x512 6 objects, 1337.1ms\n",
      "Speed: 2.1ms preprocess, 1337.1ms inference, 11.2ms postprocess per image at shape (1, 3, 384, 512)\n"
     ]
    },
    {
     "name": "stderr",
     "output_type": "stream",
     "text": [
      "  9%|▉         | 18/202 [00:26<04:15,  1.39s/it]"
     ]
    },
    {
     "name": "stdout",
     "output_type": "stream",
     "text": [
      "\n",
      "image 1/1 C:\\Users\\admin\\.cache\\kagglehub\\datasets\\pavansanagapati\\images-dataset\\versions\\1\\data\\dogs\\dog.115.jpg: 512x416 29 objects, 1548.4ms\n",
      "Speed: 2.0ms preprocess, 1548.4ms inference, 44.2ms postprocess per image at shape (1, 3, 512, 416)\n"
     ]
    },
    {
     "name": "stderr",
     "output_type": "stream",
     "text": [
      "  9%|▉         | 19/202 [00:28<04:27,  1.46s/it]"
     ]
    },
    {
     "name": "stdout",
     "output_type": "stream",
     "text": [
      "\n",
      "image 1/1 C:\\Users\\admin\\.cache\\kagglehub\\datasets\\pavansanagapati\\images-dataset\\versions\\1\\data\\dogs\\dog.116.jpg: 512x448 14 objects, 1592.6ms\n",
      "Speed: 3.1ms preprocess, 1592.6ms inference, 15.5ms postprocess per image at shape (1, 3, 512, 448)\n"
     ]
    },
    {
     "name": "stderr",
     "output_type": "stream",
     "text": [
      " 10%|▉         | 20/202 [00:29<04:36,  1.52s/it]"
     ]
    },
    {
     "name": "stdout",
     "output_type": "stream",
     "text": [
      "\n",
      "image 1/1 C:\\Users\\admin\\.cache\\kagglehub\\datasets\\pavansanagapati\\images-dataset\\versions\\1\\data\\dogs\\dog.117.jpg: 448x512 14 objects, 1575.4ms\n",
      "Speed: 2.4ms preprocess, 1575.4ms inference, 27.8ms postprocess per image at shape (1, 3, 448, 512)\n"
     ]
    },
    {
     "name": "stderr",
     "output_type": "stream",
     "text": [
      " 10%|█         | 21/202 [00:31<04:42,  1.56s/it]"
     ]
    },
    {
     "name": "stdout",
     "output_type": "stream",
     "text": [
      "\n",
      "image 1/1 C:\\Users\\admin\\.cache\\kagglehub\\datasets\\pavansanagapati\\images-dataset\\versions\\1\\data\\dogs\\dog.118.jpg: 512x384 12 objects, 1381.2ms\n",
      "Speed: 1.7ms preprocess, 1381.2ms inference, 18.6ms postprocess per image at shape (1, 3, 512, 384)\n"
     ]
    },
    {
     "name": "stderr",
     "output_type": "stream",
     "text": [
      " 11%|█         | 22/202 [00:33<04:33,  1.52s/it]"
     ]
    },
    {
     "name": "stdout",
     "output_type": "stream",
     "text": [
      "\n",
      "image 1/1 C:\\Users\\admin\\.cache\\kagglehub\\datasets\\pavansanagapati\\images-dataset\\versions\\1\\data\\dogs\\dog.119.jpg: 512x384 6 objects, 1470.7ms\n",
      "Speed: 3.9ms preprocess, 1470.7ms inference, 9.3ms postprocess per image at shape (1, 3, 512, 384)\n"
     ]
    },
    {
     "name": "stderr",
     "output_type": "stream",
     "text": [
      " 11%|█▏        | 23/202 [00:34<04:32,  1.52s/it]"
     ]
    },
    {
     "name": "stdout",
     "output_type": "stream",
     "text": [
      "\n",
      "image 1/1 C:\\Users\\admin\\.cache\\kagglehub\\datasets\\pavansanagapati\\images-dataset\\versions\\1\\data\\dogs\\dog.12.jpg: 512x320 7 objects, 1180.6ms\n",
      "Speed: 3.1ms preprocess, 1180.6ms inference, 4.6ms postprocess per image at shape (1, 3, 512, 320)\n"
     ]
    },
    {
     "name": "stderr",
     "output_type": "stream",
     "text": [
      " 12%|█▏        | 24/202 [00:35<04:15,  1.43s/it]"
     ]
    },
    {
     "name": "stdout",
     "output_type": "stream",
     "text": [
      "\n",
      "image 1/1 C:\\Users\\admin\\.cache\\kagglehub\\datasets\\pavansanagapati\\images-dataset\\versions\\1\\data\\dogs\\dog.120.jpg: 512x480 16 objects, 1719.8ms\n",
      "Speed: 3.6ms preprocess, 1719.8ms inference, 36.5ms postprocess per image at shape (1, 3, 512, 480)\n"
     ]
    },
    {
     "name": "stderr",
     "output_type": "stream",
     "text": [
      " 12%|█▏        | 25/202 [00:37<04:33,  1.54s/it]"
     ]
    },
    {
     "name": "stdout",
     "output_type": "stream",
     "text": [
      "\n",
      "image 1/1 C:\\Users\\admin\\.cache\\kagglehub\\datasets\\pavansanagapati\\images-dataset\\versions\\1\\data\\dogs\\dog.121.jpg: 352x512 20 objects, 1380.4ms\n",
      "Speed: 3.5ms preprocess, 1380.4ms inference, 37.1ms postprocess per image at shape (1, 3, 352, 512)\n"
     ]
    },
    {
     "name": "stderr",
     "output_type": "stream",
     "text": [
      " 13%|█▎        | 26/202 [00:39<04:27,  1.52s/it]"
     ]
    },
    {
     "name": "stdout",
     "output_type": "stream",
     "text": [
      "\n",
      "image 1/1 C:\\Users\\admin\\.cache\\kagglehub\\datasets\\pavansanagapati\\images-dataset\\versions\\1\\data\\dogs\\dog.122.jpg: 384x512 4 objects, 1350.9ms\n",
      "Speed: 2.9ms preprocess, 1350.9ms inference, 6.0ms postprocess per image at shape (1, 3, 384, 512)\n"
     ]
    },
    {
     "name": "stderr",
     "output_type": "stream",
     "text": [
      " 13%|█▎        | 27/202 [00:40<04:18,  1.48s/it]"
     ]
    },
    {
     "name": "stdout",
     "output_type": "stream",
     "text": [
      "\n",
      "image 1/1 C:\\Users\\admin\\.cache\\kagglehub\\datasets\\pavansanagapati\\images-dataset\\versions\\1\\data\\dogs\\dog.123.jpg: 384x512 14 objects, 1348.9ms\n",
      "Speed: 2.5ms preprocess, 1348.9ms inference, 26.1ms postprocess per image at shape (1, 3, 384, 512)\n"
     ]
    },
    {
     "name": "stderr",
     "output_type": "stream",
     "text": [
      " 14%|█▍        | 28/202 [00:41<04:15,  1.47s/it]"
     ]
    },
    {
     "name": "stdout",
     "output_type": "stream",
     "text": [
      "\n",
      "image 1/1 C:\\Users\\admin\\.cache\\kagglehub\\datasets\\pavansanagapati\\images-dataset\\versions\\1\\data\\dogs\\dog.124.jpg: 416x512 15 objects, 1534.3ms\n",
      "Speed: 2.4ms preprocess, 1534.3ms inference, 20.8ms postprocess per image at shape (1, 3, 416, 512)\n"
     ]
    },
    {
     "name": "stderr",
     "output_type": "stream",
     "text": [
      " 14%|█▍        | 29/202 [00:43<04:20,  1.51s/it]"
     ]
    },
    {
     "name": "stdout",
     "output_type": "stream",
     "text": [
      "\n",
      "image 1/1 C:\\Users\\admin\\.cache\\kagglehub\\datasets\\pavansanagapati\\images-dataset\\versions\\1\\data\\dogs\\dog.125.jpg: 512x480 12 objects, 1667.8ms\n",
      "Speed: 2.8ms preprocess, 1667.8ms inference, 15.5ms postprocess per image at shape (1, 3, 512, 480)\n"
     ]
    },
    {
     "name": "stderr",
     "output_type": "stream",
     "text": [
      " 15%|█▍        | 30/202 [00:45<04:30,  1.57s/it]"
     ]
    },
    {
     "name": "stdout",
     "output_type": "stream",
     "text": [
      "\n",
      "image 1/1 C:\\Users\\admin\\.cache\\kagglehub\\datasets\\pavansanagapati\\images-dataset\\versions\\1\\data\\dogs\\dog.126.jpg: 416x512 6 objects, 1448.9ms\n",
      "Speed: 1.9ms preprocess, 1448.9ms inference, 6.8ms postprocess per image at shape (1, 3, 416, 512)\n"
     ]
    },
    {
     "name": "stderr",
     "output_type": "stream",
     "text": [
      " 15%|█▌        | 31/202 [00:46<04:24,  1.55s/it]"
     ]
    },
    {
     "name": "stdout",
     "output_type": "stream",
     "text": [
      "\n",
      "image 1/1 C:\\Users\\admin\\.cache\\kagglehub\\datasets\\pavansanagapati\\images-dataset\\versions\\1\\data\\dogs\\dog.127.jpg: 352x512 9 objects, 1276.4ms\n",
      "Speed: 4.2ms preprocess, 1276.4ms inference, 11.3ms postprocess per image at shape (1, 3, 352, 512)\n"
     ]
    },
    {
     "name": "stderr",
     "output_type": "stream",
     "text": [
      " 16%|█▌        | 32/202 [00:47<04:11,  1.48s/it]"
     ]
    },
    {
     "name": "stdout",
     "output_type": "stream",
     "text": [
      "\n",
      "image 1/1 C:\\Users\\admin\\.cache\\kagglehub\\datasets\\pavansanagapati\\images-dataset\\versions\\1\\data\\dogs\\dog.128.jpg: 512x384 9 objects, 1413.3ms\n",
      "Speed: 30.4ms preprocess, 1413.3ms inference, 18.7ms postprocess per image at shape (1, 3, 512, 384)\n"
     ]
    },
    {
     "name": "stderr",
     "output_type": "stream",
     "text": [
      " 16%|█▋        | 33/202 [00:49<04:11,  1.49s/it]"
     ]
    },
    {
     "name": "stdout",
     "output_type": "stream",
     "text": [
      "\n",
      "image 1/1 C:\\Users\\admin\\.cache\\kagglehub\\datasets\\pavansanagapati\\images-dataset\\versions\\1\\data\\dogs\\dog.129.jpg: 512x416 4 objects, 1514.0ms\n",
      "Speed: 2.0ms preprocess, 1514.0ms inference, 4.2ms postprocess per image at shape (1, 3, 512, 416)\n"
     ]
    },
    {
     "name": "stderr",
     "output_type": "stream",
     "text": [
      " 17%|█▋        | 34/202 [00:51<04:13,  1.51s/it]"
     ]
    },
    {
     "name": "stdout",
     "output_type": "stream",
     "text": [
      "\n",
      "image 1/1 C:\\Users\\admin\\.cache\\kagglehub\\datasets\\pavansanagapati\\images-dataset\\versions\\1\\data\\dogs\\dog.13.jpg: 512x448 16 objects, 1544.7ms\n",
      "Speed: 2.0ms preprocess, 1544.7ms inference, 21.9ms postprocess per image at shape (1, 3, 512, 448)\n"
     ]
    },
    {
     "name": "stderr",
     "output_type": "stream",
     "text": [
      " 17%|█▋        | 35/202 [00:52<04:17,  1.54s/it]"
     ]
    },
    {
     "name": "stdout",
     "output_type": "stream",
     "text": [
      "\n",
      "image 1/1 C:\\Users\\admin\\.cache\\kagglehub\\datasets\\pavansanagapati\\images-dataset\\versions\\1\\data\\dogs\\dog.130.jpg: 512x256 4 objects, 948.8ms\n",
      "Speed: 1.9ms preprocess, 948.8ms inference, 4.0ms postprocess per image at shape (1, 3, 512, 256)\n"
     ]
    },
    {
     "name": "stderr",
     "output_type": "stream",
     "text": [
      " 18%|█▊        | 36/202 [00:53<03:47,  1.37s/it]"
     ]
    },
    {
     "name": "stdout",
     "output_type": "stream",
     "text": [
      "\n",
      "image 1/1 C:\\Users\\admin\\.cache\\kagglehub\\datasets\\pavansanagapati\\images-dataset\\versions\\1\\data\\dogs\\dog.131.jpg: 480x512 16 objects, 1666.5ms\n",
      "Speed: 4.1ms preprocess, 1666.5ms inference, 29.4ms postprocess per image at shape (1, 3, 480, 512)\n"
     ]
    },
    {
     "name": "stderr",
     "output_type": "stream",
     "text": [
      " 18%|█▊        | 37/202 [00:55<04:05,  1.49s/it]"
     ]
    },
    {
     "name": "stdout",
     "output_type": "stream",
     "text": [
      "\n",
      "image 1/1 C:\\Users\\admin\\.cache\\kagglehub\\datasets\\pavansanagapati\\images-dataset\\versions\\1\\data\\dogs\\dog.132.jpg: 416x512 10 objects, 1527.6ms\n",
      "Speed: 2.1ms preprocess, 1527.6ms inference, 12.5ms postprocess per image at shape (1, 3, 416, 512)\n"
     ]
    },
    {
     "name": "stderr",
     "output_type": "stream",
     "text": [
      " 19%|█▉        | 38/202 [00:56<04:08,  1.52s/it]"
     ]
    },
    {
     "name": "stdout",
     "output_type": "stream",
     "text": [
      "\n",
      "image 1/1 C:\\Users\\admin\\.cache\\kagglehub\\datasets\\pavansanagapati\\images-dataset\\versions\\1\\data\\dogs\\dog.133.jpg: 512x512 16 objects, 2100.7ms\n",
      "Speed: 6.6ms preprocess, 2100.7ms inference, 35.0ms postprocess per image at shape (1, 3, 512, 512)\n"
     ]
    },
    {
     "name": "stderr",
     "output_type": "stream",
     "text": [
      " 19%|█▉        | 39/202 [00:59<04:39,  1.72s/it]"
     ]
    },
    {
     "name": "stdout",
     "output_type": "stream",
     "text": [
      "\n",
      "image 1/1 C:\\Users\\admin\\.cache\\kagglehub\\datasets\\pavansanagapati\\images-dataset\\versions\\1\\data\\dogs\\dog.134.jpg: 352x512 11 objects, 1271.9ms\n",
      "Speed: 1.9ms preprocess, 1271.9ms inference, 14.6ms postprocess per image at shape (1, 3, 352, 512)\n"
     ]
    },
    {
     "name": "stderr",
     "output_type": "stream",
     "text": [
      " 20%|█▉        | 40/202 [01:00<04:19,  1.60s/it]"
     ]
    },
    {
     "name": "stdout",
     "output_type": "stream",
     "text": [
      "\n",
      "image 1/1 C:\\Users\\admin\\.cache\\kagglehub\\datasets\\pavansanagapati\\images-dataset\\versions\\1\\data\\dogs\\dog.135.jpg: 416x512 11 objects, 1531.9ms\n",
      "Speed: 1.7ms preprocess, 1531.9ms inference, 9.8ms postprocess per image at shape (1, 3, 416, 512)\n"
     ]
    },
    {
     "name": "stderr",
     "output_type": "stream",
     "text": [
      " 20%|██        | 41/202 [01:02<04:16,  1.59s/it]"
     ]
    },
    {
     "name": "stdout",
     "output_type": "stream",
     "text": [
      "\n",
      "image 1/1 C:\\Users\\admin\\.cache\\kagglehub\\datasets\\pavansanagapati\\images-dataset\\versions\\1\\data\\dogs\\dog.136.jpg: 352x512 9 objects, 1254.8ms\n",
      "Speed: 1.7ms preprocess, 1254.8ms inference, 15.1ms postprocess per image at shape (1, 3, 352, 512)\n"
     ]
    },
    {
     "name": "stderr",
     "output_type": "stream",
     "text": [
      " 21%|██        | 42/202 [01:03<04:01,  1.51s/it]"
     ]
    },
    {
     "name": "stdout",
     "output_type": "stream",
     "text": [
      "\n",
      "image 1/1 C:\\Users\\admin\\.cache\\kagglehub\\datasets\\pavansanagapati\\images-dataset\\versions\\1\\data\\dogs\\dog.137.jpg: 416x512 17 objects, 1450.8ms\n",
      "Speed: 2.6ms preprocess, 1450.8ms inference, 28.8ms postprocess per image at shape (1, 3, 416, 512)\n"
     ]
    },
    {
     "name": "stderr",
     "output_type": "stream",
     "text": [
      " 21%|██▏       | 43/202 [01:04<04:01,  1.52s/it]"
     ]
    },
    {
     "name": "stdout",
     "output_type": "stream",
     "text": [
      "\n",
      "image 1/1 C:\\Users\\admin\\.cache\\kagglehub\\datasets\\pavansanagapati\\images-dataset\\versions\\1\\data\\dogs\\dog.138.jpg: 512x448 11 objects, 1633.8ms\n",
      "Speed: 3.8ms preprocess, 1633.8ms inference, 16.8ms postprocess per image at shape (1, 3, 512, 448)\n"
     ]
    },
    {
     "name": "stderr",
     "output_type": "stream",
     "text": [
      " 22%|██▏       | 44/202 [01:06<04:08,  1.57s/it]"
     ]
    },
    {
     "name": "stdout",
     "output_type": "stream",
     "text": [
      "\n",
      "image 1/1 C:\\Users\\admin\\.cache\\kagglehub\\datasets\\pavansanagapati\\images-dataset\\versions\\1\\data\\dogs\\dog.139.jpg: 384x512 9 objects, 1380.1ms\n",
      "Speed: 1.8ms preprocess, 1380.1ms inference, 14.6ms postprocess per image at shape (1, 3, 384, 512)\n"
     ]
    },
    {
     "name": "stderr",
     "output_type": "stream",
     "text": [
      " 22%|██▏       | 45/202 [01:08<04:00,  1.53s/it]"
     ]
    },
    {
     "name": "stdout",
     "output_type": "stream",
     "text": [
      "\n",
      "image 1/1 C:\\Users\\admin\\.cache\\kagglehub\\datasets\\pavansanagapati\\images-dataset\\versions\\1\\data\\dogs\\dog.14.jpg: 416x512 3 objects, 1477.4ms\n",
      "Speed: 2.3ms preprocess, 1477.4ms inference, 6.7ms postprocess per image at shape (1, 3, 416, 512)\n"
     ]
    },
    {
     "name": "stderr",
     "output_type": "stream",
     "text": [
      " 23%|██▎       | 46/202 [01:09<03:58,  1.53s/it]"
     ]
    },
    {
     "name": "stdout",
     "output_type": "stream",
     "text": [
      "\n",
      "image 1/1 C:\\Users\\admin\\.cache\\kagglehub\\datasets\\pavansanagapati\\images-dataset\\versions\\1\\data\\dogs\\dog.140.jpg: 288x512 17 objects, 1070.3ms\n",
      "Speed: 2.1ms preprocess, 1070.3ms inference, 24.4ms postprocess per image at shape (1, 3, 288, 512)\n"
     ]
    },
    {
     "name": "stderr",
     "output_type": "stream",
     "text": [
      " 23%|██▎       | 47/202 [01:10<03:38,  1.41s/it]"
     ]
    },
    {
     "name": "stdout",
     "output_type": "stream",
     "text": [
      "\n",
      "image 1/1 C:\\Users\\admin\\.cache\\kagglehub\\datasets\\pavansanagapati\\images-dataset\\versions\\1\\data\\dogs\\dog.141.jpg: 384x512 25 objects, 1430.1ms\n",
      "Speed: 25.1ms preprocess, 1430.1ms inference, 41.5ms postprocess per image at shape (1, 3, 384, 512)\n"
     ]
    },
    {
     "name": "stderr",
     "output_type": "stream",
     "text": [
      " 24%|██▍       | 48/202 [01:12<03:44,  1.46s/it]"
     ]
    },
    {
     "name": "stdout",
     "output_type": "stream",
     "text": [
      "\n",
      "image 1/1 C:\\Users\\admin\\.cache\\kagglehub\\datasets\\pavansanagapati\\images-dataset\\versions\\1\\data\\dogs\\dog.142.jpg: 416x512 5 objects, 1536.1ms\n",
      "Speed: 2.3ms preprocess, 1536.1ms inference, 5.4ms postprocess per image at shape (1, 3, 416, 512)\n"
     ]
    },
    {
     "name": "stderr",
     "output_type": "stream",
     "text": [
      " 24%|██▍       | 49/202 [01:13<03:48,  1.49s/it]"
     ]
    },
    {
     "name": "stdout",
     "output_type": "stream",
     "text": [
      "\n",
      "image 1/1 C:\\Users\\admin\\.cache\\kagglehub\\datasets\\pavansanagapati\\images-dataset\\versions\\1\\data\\dogs\\dog.143.jpg: 352x512 9 objects, 1249.3ms\n",
      "Speed: 2.0ms preprocess, 1249.3ms inference, 15.7ms postprocess per image at shape (1, 3, 352, 512)\n"
     ]
    },
    {
     "name": "stderr",
     "output_type": "stream",
     "text": [
      " 25%|██▍       | 50/202 [01:15<03:38,  1.44s/it]"
     ]
    },
    {
     "name": "stdout",
     "output_type": "stream",
     "text": [
      "\n",
      "image 1/1 C:\\Users\\admin\\.cache\\kagglehub\\datasets\\pavansanagapati\\images-dataset\\versions\\1\\data\\dogs\\dog.144.jpg: 512x352 8 objects, 1289.5ms\n",
      "Speed: 2.6ms preprocess, 1289.5ms inference, 12.9ms postprocess per image at shape (1, 3, 512, 352)\n"
     ]
    },
    {
     "name": "stderr",
     "output_type": "stream",
     "text": [
      " 25%|██▌       | 51/202 [01:16<03:33,  1.41s/it]"
     ]
    },
    {
     "name": "stdout",
     "output_type": "stream",
     "text": [
      "\n",
      "image 1/1 C:\\Users\\admin\\.cache\\kagglehub\\datasets\\pavansanagapati\\images-dataset\\versions\\1\\data\\dogs\\dog.145.jpg: 416x512 7 objects, 1740.6ms\n",
      "Speed: 1.9ms preprocess, 1740.6ms inference, 13.3ms postprocess per image at shape (1, 3, 416, 512)\n"
     ]
    },
    {
     "name": "stderr",
     "output_type": "stream",
     "text": [
      " 26%|██▌       | 52/202 [01:18<03:48,  1.53s/it]"
     ]
    },
    {
     "name": "stdout",
     "output_type": "stream",
     "text": [
      "\n",
      "image 1/1 C:\\Users\\admin\\.cache\\kagglehub\\datasets\\pavansanagapati\\images-dataset\\versions\\1\\data\\dogs\\dog.146.jpg: 416x512 9 objects, 1580.3ms\n",
      "Speed: 7.5ms preprocess, 1580.3ms inference, 17.1ms postprocess per image at shape (1, 3, 416, 512)\n"
     ]
    },
    {
     "name": "stderr",
     "output_type": "stream",
     "text": [
      " 26%|██▌       | 53/202 [01:19<03:53,  1.57s/it]"
     ]
    },
    {
     "name": "stdout",
     "output_type": "stream",
     "text": [
      "\n",
      "image 1/1 C:\\Users\\admin\\.cache\\kagglehub\\datasets\\pavansanagapati\\images-dataset\\versions\\1\\data\\dogs\\dog.147.jpg: 384x512 10 objects, 1350.7ms\n",
      "Speed: 2.7ms preprocess, 1350.7ms inference, 17.9ms postprocess per image at shape (1, 3, 384, 512)\n"
     ]
    },
    {
     "name": "stderr",
     "output_type": "stream",
     "text": [
      " 27%|██▋       | 54/202 [01:21<03:45,  1.52s/it]"
     ]
    },
    {
     "name": "stdout",
     "output_type": "stream",
     "text": [
      "\n",
      "image 1/1 C:\\Users\\admin\\.cache\\kagglehub\\datasets\\pavansanagapati\\images-dataset\\versions\\1\\data\\dogs\\dog.148.jpg: 352x512 19 objects, 1357.7ms\n",
      "Speed: 1.9ms preprocess, 1357.7ms inference, 34.7ms postprocess per image at shape (1, 3, 352, 512)\n"
     ]
    },
    {
     "name": "stderr",
     "output_type": "stream",
     "text": [
      " 27%|██▋       | 55/202 [01:22<03:40,  1.50s/it]"
     ]
    },
    {
     "name": "stdout",
     "output_type": "stream",
     "text": [
      "\n",
      "image 1/1 C:\\Users\\admin\\.cache\\kagglehub\\datasets\\pavansanagapati\\images-dataset\\versions\\1\\data\\dogs\\dog.149.jpg: 512x512 5 objects, 1784.0ms\n",
      "Speed: 2.3ms preprocess, 1784.0ms inference, 4.8ms postprocess per image at shape (1, 3, 512, 512)\n"
     ]
    },
    {
     "name": "stderr",
     "output_type": "stream",
     "text": [
      " 28%|██▊       | 56/202 [01:24<03:52,  1.59s/it]"
     ]
    },
    {
     "name": "stdout",
     "output_type": "stream",
     "text": [
      "\n",
      "image 1/1 C:\\Users\\admin\\.cache\\kagglehub\\datasets\\pavansanagapati\\images-dataset\\versions\\1\\data\\dogs\\dog.15.jpg: 384x512 3 objects, 1359.9ms\n",
      "Speed: 2.0ms preprocess, 1359.9ms inference, 8.0ms postprocess per image at shape (1, 3, 384, 512)\n"
     ]
    },
    {
     "name": "stderr",
     "output_type": "stream",
     "text": [
      " 28%|██▊       | 57/202 [01:26<03:42,  1.54s/it]"
     ]
    },
    {
     "name": "stdout",
     "output_type": "stream",
     "text": [
      "\n",
      "image 1/1 C:\\Users\\admin\\.cache\\kagglehub\\datasets\\pavansanagapati\\images-dataset\\versions\\1\\data\\dogs\\dog.150.jpg: 448x512 19 objects, 1671.7ms\n",
      "Speed: 3.5ms preprocess, 1671.7ms inference, 39.6ms postprocess per image at shape (1, 3, 448, 512)\n"
     ]
    },
    {
     "name": "stderr",
     "output_type": "stream",
     "text": [
      " 29%|██▊       | 58/202 [01:27<03:51,  1.61s/it]"
     ]
    },
    {
     "name": "stdout",
     "output_type": "stream",
     "text": [
      "\n",
      "image 1/1 C:\\Users\\admin\\.cache\\kagglehub\\datasets\\pavansanagapati\\images-dataset\\versions\\1\\data\\dogs\\dog.151.jpg: 384x512 19 objects, 1392.8ms\n",
      "Speed: 2.1ms preprocess, 1392.8ms inference, 32.5ms postprocess per image at shape (1, 3, 384, 512)\n"
     ]
    },
    {
     "name": "stderr",
     "output_type": "stream",
     "text": [
      " 29%|██▉       | 59/202 [01:29<03:43,  1.56s/it]"
     ]
    },
    {
     "name": "stdout",
     "output_type": "stream",
     "text": [
      "\n",
      "image 1/1 C:\\Users\\admin\\.cache\\kagglehub\\datasets\\pavansanagapati\\images-dataset\\versions\\1\\data\\dogs\\dog.152.jpg: 512x512 12 objects, 1749.6ms\n",
      "Speed: 2.5ms preprocess, 1749.6ms inference, 25.4ms postprocess per image at shape (1, 3, 512, 512)\n"
     ]
    },
    {
     "name": "stderr",
     "output_type": "stream",
     "text": [
      " 30%|██▉       | 60/202 [01:31<03:53,  1.64s/it]"
     ]
    },
    {
     "name": "stdout",
     "output_type": "stream",
     "text": [
      "\n",
      "image 1/1 C:\\Users\\admin\\.cache\\kagglehub\\datasets\\pavansanagapati\\images-dataset\\versions\\1\\data\\dogs\\dog.153.jpg: 416x512 42 objects, 1559.2ms\n",
      "Speed: 1.8ms preprocess, 1559.2ms inference, 66.9ms postprocess per image at shape (1, 3, 416, 512)\n"
     ]
    },
    {
     "name": "stderr",
     "output_type": "stream",
     "text": [
      " 30%|███       | 61/202 [01:32<03:53,  1.66s/it]"
     ]
    },
    {
     "name": "stdout",
     "output_type": "stream",
     "text": [
      "\n",
      "image 1/1 C:\\Users\\admin\\.cache\\kagglehub\\datasets\\pavansanagapati\\images-dataset\\versions\\1\\data\\dogs\\dog.154.jpg: 416x512 14 objects, 1449.3ms\n",
      "Speed: 4.5ms preprocess, 1449.3ms inference, 14.7ms postprocess per image at shape (1, 3, 416, 512)\n"
     ]
    },
    {
     "name": "stderr",
     "output_type": "stream",
     "text": [
      " 31%|███       | 62/202 [01:34<03:45,  1.61s/it]"
     ]
    },
    {
     "name": "stdout",
     "output_type": "stream",
     "text": [
      "\n",
      "image 1/1 C:\\Users\\admin\\.cache\\kagglehub\\datasets\\pavansanagapati\\images-dataset\\versions\\1\\data\\dogs\\dog.155.jpg: 512x480 15 objects, 1803.8ms\n",
      "Speed: 4.6ms preprocess, 1803.8ms inference, 21.3ms postprocess per image at shape (1, 3, 512, 480)\n"
     ]
    },
    {
     "name": "stderr",
     "output_type": "stream",
     "text": [
      " 31%|███       | 63/202 [01:36<03:58,  1.71s/it]"
     ]
    },
    {
     "name": "stdout",
     "output_type": "stream",
     "text": [
      "\n",
      "image 1/1 C:\\Users\\admin\\.cache\\kagglehub\\datasets\\pavansanagapati\\images-dataset\\versions\\1\\data\\dogs\\dog.156.jpg: 448x512 11 objects, 1581.9ms\n",
      "Speed: 3.3ms preprocess, 1581.9ms inference, 22.3ms postprocess per image at shape (1, 3, 448, 512)\n"
     ]
    },
    {
     "name": "stderr",
     "output_type": "stream",
     "text": [
      " 32%|███▏      | 64/202 [01:37<03:54,  1.70s/it]"
     ]
    },
    {
     "name": "stdout",
     "output_type": "stream",
     "text": [
      "\n",
      "image 1/1 C:\\Users\\admin\\.cache\\kagglehub\\datasets\\pavansanagapati\\images-dataset\\versions\\1\\data\\dogs\\dog.157.jpg: 416x512 14 objects, 1465.2ms\n",
      "Speed: 2.1ms preprocess, 1465.2ms inference, 27.4ms postprocess per image at shape (1, 3, 416, 512)\n"
     ]
    },
    {
     "name": "stderr",
     "output_type": "stream",
     "text": [
      " 32%|███▏      | 65/202 [01:39<03:46,  1.65s/it]"
     ]
    },
    {
     "name": "stdout",
     "output_type": "stream",
     "text": [
      "\n",
      "image 1/1 C:\\Users\\admin\\.cache\\kagglehub\\datasets\\pavansanagapati\\images-dataset\\versions\\1\\data\\dogs\\dog.158.jpg: 512x512 9 objects, 1877.9ms\n",
      "Speed: 3.2ms preprocess, 1877.9ms inference, 21.9ms postprocess per image at shape (1, 3, 512, 512)\n"
     ]
    },
    {
     "name": "stderr",
     "output_type": "stream",
     "text": [
      " 33%|███▎      | 66/202 [01:41<03:56,  1.74s/it]"
     ]
    },
    {
     "name": "stdout",
     "output_type": "stream",
     "text": [
      "\n",
      "image 1/1 C:\\Users\\admin\\.cache\\kagglehub\\datasets\\pavansanagapati\\images-dataset\\versions\\1\\data\\dogs\\dog.159.jpg: 384x512 37 objects, 1334.9ms\n",
      "Speed: 3.7ms preprocess, 1334.9ms inference, 63.6ms postprocess per image at shape (1, 3, 384, 512)\n"
     ]
    },
    {
     "name": "stderr",
     "output_type": "stream",
     "text": [
      " 33%|███▎      | 67/202 [01:42<03:42,  1.65s/it]"
     ]
    },
    {
     "name": "stdout",
     "output_type": "stream",
     "text": [
      "\n",
      "image 1/1 C:\\Users\\admin\\.cache\\kagglehub\\datasets\\pavansanagapati\\images-dataset\\versions\\1\\data\\dogs\\dog.16.jpg: 416x512 5 objects, 1439.0ms\n",
      "Speed: 2.3ms preprocess, 1439.0ms inference, 9.9ms postprocess per image at shape (1, 3, 416, 512)\n"
     ]
    },
    {
     "name": "stderr",
     "output_type": "stream",
     "text": [
      " 34%|███▎      | 68/202 [01:44<03:34,  1.60s/it]"
     ]
    },
    {
     "name": "stdout",
     "output_type": "stream",
     "text": [
      "\n",
      "image 1/1 C:\\Users\\admin\\.cache\\kagglehub\\datasets\\pavansanagapati\\images-dataset\\versions\\1\\data\\dogs\\dog.160.jpg: 416x512 6 objects, 1564.2ms\n",
      "Speed: 2.4ms preprocess, 1564.2ms inference, 7.5ms postprocess per image at shape (1, 3, 416, 512)\n"
     ]
    },
    {
     "name": "stderr",
     "output_type": "stream",
     "text": [
      " 34%|███▍      | 69/202 [01:45<03:33,  1.60s/it]"
     ]
    },
    {
     "name": "stdout",
     "output_type": "stream",
     "text": [
      "\n",
      "image 1/1 C:\\Users\\admin\\.cache\\kagglehub\\datasets\\pavansanagapati\\images-dataset\\versions\\1\\data\\dogs\\dog.161.jpg: 384x512 10 objects, 1418.9ms\n",
      "Speed: 2.3ms preprocess, 1418.9ms inference, 20.1ms postprocess per image at shape (1, 3, 384, 512)\n"
     ]
    },
    {
     "name": "stderr",
     "output_type": "stream",
     "text": [
      " 35%|███▍      | 70/202 [01:47<03:26,  1.57s/it]"
     ]
    },
    {
     "name": "stdout",
     "output_type": "stream",
     "text": [
      "\n",
      "image 1/1 C:\\Users\\admin\\.cache\\kagglehub\\datasets\\pavansanagapati\\images-dataset\\versions\\1\\data\\dogs\\dog.162.jpg: 384x512 13 objects, 1393.3ms\n",
      "Speed: 2.3ms preprocess, 1393.3ms inference, 22.5ms postprocess per image at shape (1, 3, 384, 512)\n"
     ]
    },
    {
     "name": "stderr",
     "output_type": "stream",
     "text": [
      " 35%|███▌      | 71/202 [01:48<03:21,  1.54s/it]"
     ]
    },
    {
     "name": "stdout",
     "output_type": "stream",
     "text": [
      "\n",
      "image 1/1 C:\\Users\\admin\\.cache\\kagglehub\\datasets\\pavansanagapati\\images-dataset\\versions\\1\\data\\dogs\\dog.163.jpg: 512x384 7 objects, 1475.4ms\n",
      "Speed: 1.8ms preprocess, 1475.4ms inference, 7.4ms postprocess per image at shape (1, 3, 512, 384)\n"
     ]
    },
    {
     "name": "stderr",
     "output_type": "stream",
     "text": [
      " 36%|███▌      | 72/202 [01:50<03:19,  1.53s/it]"
     ]
    },
    {
     "name": "stdout",
     "output_type": "stream",
     "text": [
      "\n",
      "image 1/1 C:\\Users\\admin\\.cache\\kagglehub\\datasets\\pavansanagapati\\images-dataset\\versions\\1\\data\\dogs\\dog.164.jpg: 512x416 10 objects, 1594.7ms\n",
      "Speed: 2.9ms preprocess, 1594.7ms inference, 11.7ms postprocess per image at shape (1, 3, 512, 416)\n"
     ]
    },
    {
     "name": "stderr",
     "output_type": "stream",
     "text": [
      " 36%|███▌      | 73/202 [01:52<03:21,  1.56s/it]"
     ]
    },
    {
     "name": "stdout",
     "output_type": "stream",
     "text": [
      "\n",
      "image 1/1 C:\\Users\\admin\\.cache\\kagglehub\\datasets\\pavansanagapati\\images-dataset\\versions\\1\\data\\dogs\\dog.165.jpg: 384x512 13 objects, 1387.7ms\n",
      "Speed: 1.8ms preprocess, 1387.7ms inference, 34.2ms postprocess per image at shape (1, 3, 384, 512)\n"
     ]
    },
    {
     "name": "stderr",
     "output_type": "stream",
     "text": [
      " 37%|███▋      | 74/202 [01:53<03:16,  1.54s/it]"
     ]
    },
    {
     "name": "stdout",
     "output_type": "stream",
     "text": [
      "\n",
      "image 1/1 C:\\Users\\admin\\.cache\\kagglehub\\datasets\\pavansanagapati\\images-dataset\\versions\\1\\data\\dogs\\dog.166.jpg: 512x512 4 objects, 1884.9ms\n",
      "Speed: 2.5ms preprocess, 1884.9ms inference, 7.0ms postprocess per image at shape (1, 3, 512, 512)\n"
     ]
    },
    {
     "name": "stderr",
     "output_type": "stream",
     "text": [
      " 37%|███▋      | 75/202 [01:55<03:29,  1.65s/it]"
     ]
    },
    {
     "name": "stdout",
     "output_type": "stream",
     "text": [
      "\n",
      "image 1/1 C:\\Users\\admin\\.cache\\kagglehub\\datasets\\pavansanagapati\\images-dataset\\versions\\1\\data\\dogs\\dog.167.jpg: 384x512 14 objects, 1456.7ms\n",
      "Speed: 1.8ms preprocess, 1456.7ms inference, 24.5ms postprocess per image at shape (1, 3, 384, 512)\n"
     ]
    },
    {
     "name": "stderr",
     "output_type": "stream",
     "text": [
      " 38%|███▊      | 76/202 [01:57<03:23,  1.61s/it]"
     ]
    },
    {
     "name": "stdout",
     "output_type": "stream",
     "text": [
      "\n",
      "image 1/1 C:\\Users\\admin\\.cache\\kagglehub\\datasets\\pavansanagapati\\images-dataset\\versions\\1\\data\\dogs\\dog.168.jpg: 512x352 11 objects, 1207.2ms\n",
      "Speed: 1.7ms preprocess, 1207.2ms inference, 9.8ms postprocess per image at shape (1, 3, 512, 352)\n"
     ]
    },
    {
     "name": "stderr",
     "output_type": "stream",
     "text": [
      " 38%|███▊      | 77/202 [01:58<03:07,  1.50s/it]"
     ]
    },
    {
     "name": "stdout",
     "output_type": "stream",
     "text": [
      "\n",
      "image 1/1 C:\\Users\\admin\\.cache\\kagglehub\\datasets\\pavansanagapati\\images-dataset\\versions\\1\\data\\dogs\\dog.169.jpg: 512x448 12 objects, 1647.3ms\n",
      "Speed: 2.2ms preprocess, 1647.3ms inference, 8.7ms postprocess per image at shape (1, 3, 512, 448)\n"
     ]
    },
    {
     "name": "stderr",
     "output_type": "stream",
     "text": [
      " 39%|███▊      | 78/202 [01:59<03:13,  1.56s/it]"
     ]
    },
    {
     "name": "stdout",
     "output_type": "stream",
     "text": [
      "\n",
      "image 1/1 C:\\Users\\admin\\.cache\\kagglehub\\datasets\\pavansanagapati\\images-dataset\\versions\\1\\data\\dogs\\dog.17.jpg: 512x416 6 objects, 1444.0ms\n",
      "Speed: 3.2ms preprocess, 1444.0ms inference, 6.8ms postprocess per image at shape (1, 3, 512, 416)\n"
     ]
    },
    {
     "name": "stderr",
     "output_type": "stream",
     "text": [
      " 39%|███▉      | 79/202 [02:01<03:09,  1.54s/it]"
     ]
    },
    {
     "name": "stdout",
     "output_type": "stream",
     "text": [
      "\n",
      "image 1/1 C:\\Users\\admin\\.cache\\kagglehub\\datasets\\pavansanagapati\\images-dataset\\versions\\1\\data\\dogs\\dog.170.jpg: 512x480 3 objects, 1675.8ms\n",
      "Speed: 3.8ms preprocess, 1675.8ms inference, 8.1ms postprocess per image at shape (1, 3, 512, 480)\n"
     ]
    },
    {
     "name": "stderr",
     "output_type": "stream",
     "text": [
      " 40%|███▉      | 80/202 [02:03<03:14,  1.59s/it]"
     ]
    },
    {
     "name": "stdout",
     "output_type": "stream",
     "text": [
      "\n",
      "image 1/1 C:\\Users\\admin\\.cache\\kagglehub\\datasets\\pavansanagapati\\images-dataset\\versions\\1\\data\\dogs\\dog.171.jpg: 512x512 14 objects, 1877.8ms\n",
      "Speed: 3.0ms preprocess, 1877.8ms inference, 25.6ms postprocess per image at shape (1, 3, 512, 512)\n"
     ]
    },
    {
     "name": "stderr",
     "output_type": "stream",
     "text": [
      " 40%|████      | 81/202 [02:05<03:25,  1.70s/it]"
     ]
    },
    {
     "name": "stdout",
     "output_type": "stream",
     "text": [
      "\n",
      "image 1/1 C:\\Users\\admin\\.cache\\kagglehub\\datasets\\pavansanagapati\\images-dataset\\versions\\1\\data\\dogs\\dog.172.jpg: 512x352 8 objects, 1283.9ms\n",
      "Speed: 2.4ms preprocess, 1283.9ms inference, 13.0ms postprocess per image at shape (1, 3, 512, 352)\n"
     ]
    },
    {
     "name": "stderr",
     "output_type": "stream",
     "text": [
      " 41%|████      | 82/202 [02:06<03:10,  1.59s/it]"
     ]
    },
    {
     "name": "stdout",
     "output_type": "stream",
     "text": [
      "\n",
      "image 1/1 C:\\Users\\admin\\.cache\\kagglehub\\datasets\\pavansanagapati\\images-dataset\\versions\\1\\data\\dogs\\dog.173.jpg: 352x512 19 objects, 1280.3ms\n",
      "Speed: 7.0ms preprocess, 1280.3ms inference, 34.2ms postprocess per image at shape (1, 3, 352, 512)\n"
     ]
    },
    {
     "name": "stderr",
     "output_type": "stream",
     "text": [
      " 41%|████      | 83/202 [02:07<03:01,  1.53s/it]"
     ]
    },
    {
     "name": "stdout",
     "output_type": "stream",
     "text": [
      "\n",
      "image 1/1 C:\\Users\\admin\\.cache\\kagglehub\\datasets\\pavansanagapati\\images-dataset\\versions\\1\\data\\dogs\\dog.174.jpg: 384x512 10 objects, 1467.0ms\n",
      "Speed: 2.6ms preprocess, 1467.0ms inference, 7.0ms postprocess per image at shape (1, 3, 384, 512)\n"
     ]
    },
    {
     "name": "stderr",
     "output_type": "stream",
     "text": [
      " 42%|████▏     | 84/202 [02:09<02:59,  1.52s/it]"
     ]
    },
    {
     "name": "stdout",
     "output_type": "stream",
     "text": [
      "\n",
      "image 1/1 C:\\Users\\admin\\.cache\\kagglehub\\datasets\\pavansanagapati\\images-dataset\\versions\\1\\data\\dogs\\dog.175.jpg: 512x384 5 objects, 1353.8ms\n",
      "Speed: 1.8ms preprocess, 1353.8ms inference, 11.5ms postprocess per image at shape (1, 3, 512, 384)\n"
     ]
    },
    {
     "name": "stderr",
     "output_type": "stream",
     "text": [
      " 42%|████▏     | 85/202 [02:10<02:53,  1.49s/it]"
     ]
    },
    {
     "name": "stdout",
     "output_type": "stream",
     "text": [
      "\n",
      "image 1/1 C:\\Users\\admin\\.cache\\kagglehub\\datasets\\pavansanagapati\\images-dataset\\versions\\1\\data\\dogs\\dog.176.jpg: 512x416 2 objects, 1448.9ms\n",
      "Speed: 2.4ms preprocess, 1448.9ms inference, 2.7ms postprocess per image at shape (1, 3, 512, 416)\n"
     ]
    },
    {
     "name": "stderr",
     "output_type": "stream",
     "text": [
      " 43%|████▎     | 86/202 [02:12<02:52,  1.49s/it]"
     ]
    },
    {
     "name": "stdout",
     "output_type": "stream",
     "text": [
      "\n",
      "image 1/1 C:\\Users\\admin\\.cache\\kagglehub\\datasets\\pavansanagapati\\images-dataset\\versions\\1\\data\\dogs\\dog.177.jpg: 416x512 18 objects, 1553.5ms\n",
      "Speed: 1.9ms preprocess, 1553.5ms inference, 31.8ms postprocess per image at shape (1, 3, 416, 512)\n"
     ]
    },
    {
     "name": "stderr",
     "output_type": "stream",
     "text": [
      " 43%|████▎     | 87/202 [02:13<02:56,  1.54s/it]"
     ]
    },
    {
     "name": "stdout",
     "output_type": "stream",
     "text": [
      "\n",
      "image 1/1 C:\\Users\\admin\\.cache\\kagglehub\\datasets\\pavansanagapati\\images-dataset\\versions\\1\\data\\dogs\\dog.178.jpg: 384x512 19 objects, 1353.6ms\n",
      "Speed: 1.7ms preprocess, 1353.6ms inference, 31.8ms postprocess per image at shape (1, 3, 384, 512)\n"
     ]
    },
    {
     "name": "stderr",
     "output_type": "stream",
     "text": [
      " 44%|████▎     | 88/202 [02:15<02:51,  1.50s/it]"
     ]
    },
    {
     "name": "stdout",
     "output_type": "stream",
     "text": [
      "\n",
      "image 1/1 C:\\Users\\admin\\.cache\\kagglehub\\datasets\\pavansanagapati\\images-dataset\\versions\\1\\data\\dogs\\dog.179.jpg: 512x448 11 objects, 1509.8ms\n",
      "Speed: 3.5ms preprocess, 1509.8ms inference, 21.2ms postprocess per image at shape (1, 3, 512, 448)\n"
     ]
    },
    {
     "name": "stderr",
     "output_type": "stream",
     "text": [
      " 44%|████▍     | 89/202 [02:16<02:52,  1.52s/it]"
     ]
    },
    {
     "name": "stdout",
     "output_type": "stream",
     "text": [
      "\n",
      "image 1/1 C:\\Users\\admin\\.cache\\kagglehub\\datasets\\pavansanagapati\\images-dataset\\versions\\1\\data\\dogs\\dog.18.jpg: 512x320 5 objects, 1147.8ms\n",
      "Speed: 1.6ms preprocess, 1147.8ms inference, 6.0ms postprocess per image at shape (1, 3, 512, 320)\n"
     ]
    },
    {
     "name": "stderr",
     "output_type": "stream",
     "text": [
      " 45%|████▍     | 90/202 [02:18<02:39,  1.42s/it]"
     ]
    },
    {
     "name": "stdout",
     "output_type": "stream",
     "text": [
      "\n",
      "image 1/1 C:\\Users\\admin\\.cache\\kagglehub\\datasets\\pavansanagapati\\images-dataset\\versions\\1\\data\\dogs\\dog.180.jpg: 384x512 12 objects, 1429.4ms\n",
      "Speed: 33.9ms preprocess, 1429.4ms inference, 23.6ms postprocess per image at shape (1, 3, 384, 512)\n"
     ]
    },
    {
     "name": "stderr",
     "output_type": "stream",
     "text": [
      " 45%|████▌     | 91/202 [02:19<02:41,  1.46s/it]"
     ]
    },
    {
     "name": "stdout",
     "output_type": "stream",
     "text": [
      "\n",
      "image 1/1 C:\\Users\\admin\\.cache\\kagglehub\\datasets\\pavansanagapati\\images-dataset\\versions\\1\\data\\dogs\\dog.181.jpg: 512x512 2 objects, 1853.8ms\n",
      "Speed: 4.2ms preprocess, 1853.8ms inference, 6.1ms postprocess per image at shape (1, 3, 512, 512)\n"
     ]
    },
    {
     "name": "stderr",
     "output_type": "stream",
     "text": [
      " 46%|████▌     | 92/202 [02:21<02:55,  1.59s/it]"
     ]
    },
    {
     "name": "stdout",
     "output_type": "stream",
     "text": [
      "\n",
      "image 1/1 C:\\Users\\admin\\.cache\\kagglehub\\datasets\\pavansanagapati\\images-dataset\\versions\\1\\data\\dogs\\dog.182.jpg: 512x512 2 objects, 1758.5ms\n",
      "Speed: 2.7ms preprocess, 1758.5ms inference, 2.6ms postprocess per image at shape (1, 3, 512, 512)\n"
     ]
    },
    {
     "name": "stderr",
     "output_type": "stream",
     "text": [
      " 46%|████▌     | 93/202 [02:23<02:59,  1.65s/it]"
     ]
    },
    {
     "name": "stdout",
     "output_type": "stream",
     "text": [
      "\n",
      "image 1/1 C:\\Users\\admin\\.cache\\kagglehub\\datasets\\pavansanagapati\\images-dataset\\versions\\1\\data\\dogs\\dog.183.jpg: 512x512 9 objects, 1777.5ms\n",
      "Speed: 2.7ms preprocess, 1777.5ms inference, 6.5ms postprocess per image at shape (1, 3, 512, 512)\n"
     ]
    },
    {
     "name": "stderr",
     "output_type": "stream",
     "text": [
      " 47%|████▋     | 94/202 [02:25<03:03,  1.70s/it]"
     ]
    },
    {
     "name": "stdout",
     "output_type": "stream",
     "text": [
      "\n",
      "image 1/1 C:\\Users\\admin\\.cache\\kagglehub\\datasets\\pavansanagapati\\images-dataset\\versions\\1\\data\\dogs\\dog.184.jpg: 512x448 8 objects, 1630.2ms\n",
      "Speed: 3.6ms preprocess, 1630.2ms inference, 16.0ms postprocess per image at shape (1, 3, 512, 448)\n"
     ]
    },
    {
     "name": "stderr",
     "output_type": "stream",
     "text": [
      " 47%|████▋     | 95/202 [02:26<03:01,  1.70s/it]"
     ]
    },
    {
     "name": "stdout",
     "output_type": "stream",
     "text": [
      "\n",
      "image 1/1 C:\\Users\\admin\\.cache\\kagglehub\\datasets\\pavansanagapati\\images-dataset\\versions\\1\\data\\dogs\\dog.185.jpg: 512x448 16 objects, 1573.9ms\n",
      "Speed: 2.8ms preprocess, 1573.9ms inference, 31.0ms postprocess per image at shape (1, 3, 512, 448)\n"
     ]
    },
    {
     "name": "stderr",
     "output_type": "stream",
     "text": [
      " 48%|████▊     | 96/202 [02:28<02:58,  1.69s/it]"
     ]
    },
    {
     "name": "stdout",
     "output_type": "stream",
     "text": [
      "\n",
      "image 1/1 C:\\Users\\admin\\.cache\\kagglehub\\datasets\\pavansanagapati\\images-dataset\\versions\\1\\data\\dogs\\dog.186.jpg: 384x512 8 objects, 1343.6ms\n",
      "Speed: 1.9ms preprocess, 1343.6ms inference, 16.2ms postprocess per image at shape (1, 3, 384, 512)\n"
     ]
    },
    {
     "name": "stderr",
     "output_type": "stream",
     "text": [
      " 48%|████▊     | 97/202 [02:29<02:47,  1.60s/it]"
     ]
    },
    {
     "name": "stdout",
     "output_type": "stream",
     "text": [
      "\n",
      "image 1/1 C:\\Users\\admin\\.cache\\kagglehub\\datasets\\pavansanagapati\\images-dataset\\versions\\1\\data\\dogs\\dog.187.jpg: 512x512 12 objects, 1863.0ms\n",
      "Speed: 2.9ms preprocess, 1863.0ms inference, 13.7ms postprocess per image at shape (1, 3, 512, 512)\n"
     ]
    },
    {
     "name": "stderr",
     "output_type": "stream",
     "text": [
      " 49%|████▊     | 98/202 [02:31<02:56,  1.70s/it]"
     ]
    },
    {
     "name": "stdout",
     "output_type": "stream",
     "text": [
      "\n",
      "image 1/1 C:\\Users\\admin\\.cache\\kagglehub\\datasets\\pavansanagapati\\images-dataset\\versions\\1\\data\\dogs\\dog.188.jpg: 352x512 8 objects, 1274.1ms\n",
      "Speed: 1.7ms preprocess, 1274.1ms inference, 13.1ms postprocess per image at shape (1, 3, 352, 512)\n"
     ]
    },
    {
     "name": "stderr",
     "output_type": "stream",
     "text": [
      " 49%|████▉     | 99/202 [02:33<02:43,  1.58s/it]"
     ]
    },
    {
     "name": "stdout",
     "output_type": "stream",
     "text": [
      "\n",
      "image 1/1 C:\\Users\\admin\\.cache\\kagglehub\\datasets\\pavansanagapati\\images-dataset\\versions\\1\\data\\dogs\\dog.189.jpg: 416x512 11 objects, 1438.2ms\n",
      "Speed: 7.5ms preprocess, 1438.2ms inference, 19.7ms postprocess per image at shape (1, 3, 416, 512)\n"
     ]
    },
    {
     "name": "stderr",
     "output_type": "stream",
     "text": [
      " 50%|████▉     | 100/202 [02:34<02:39,  1.56s/it]"
     ]
    },
    {
     "name": "stdout",
     "output_type": "stream",
     "text": [
      "\n",
      "image 1/1 C:\\Users\\admin\\.cache\\kagglehub\\datasets\\pavansanagapati\\images-dataset\\versions\\1\\data\\dogs\\dog.19.jpg: 416x512 9 objects, 1532.5ms\n",
      "Speed: 1.8ms preprocess, 1532.5ms inference, 8.0ms postprocess per image at shape (1, 3, 416, 512)\n"
     ]
    },
    {
     "name": "stderr",
     "output_type": "stream",
     "text": [
      " 50%|█████     | 101/202 [02:36<02:37,  1.56s/it]"
     ]
    },
    {
     "name": "stdout",
     "output_type": "stream",
     "text": [
      "\n",
      "image 1/1 C:\\Users\\admin\\.cache\\kagglehub\\datasets\\pavansanagapati\\images-dataset\\versions\\1\\data\\dogs\\dog.190.jpg: 416x512 11 objects, 1437.7ms\n",
      "Speed: 2.4ms preprocess, 1437.7ms inference, 20.7ms postprocess per image at shape (1, 3, 416, 512)\n"
     ]
    },
    {
     "name": "stderr",
     "output_type": "stream",
     "text": [
      " 50%|█████     | 102/202 [02:37<02:34,  1.55s/it]"
     ]
    },
    {
     "name": "stdout",
     "output_type": "stream",
     "text": [
      "\n",
      "image 1/1 C:\\Users\\admin\\.cache\\kagglehub\\datasets\\pavansanagapati\\images-dataset\\versions\\1\\data\\dogs\\dog.191.jpg: 512x384 6 objects, 1556.7ms\n",
      "Speed: 2.7ms preprocess, 1556.7ms inference, 10.5ms postprocess per image at shape (1, 3, 512, 384)\n"
     ]
    },
    {
     "name": "stderr",
     "output_type": "stream",
     "text": [
      " 51%|█████     | 103/202 [02:39<02:35,  1.57s/it]"
     ]
    },
    {
     "name": "stdout",
     "output_type": "stream",
     "text": [
      "\n",
      "image 1/1 C:\\Users\\admin\\.cache\\kagglehub\\datasets\\pavansanagapati\\images-dataset\\versions\\1\\data\\dogs\\dog.192.jpg: 448x512 10 objects, 1655.4ms\n",
      "Speed: 2.2ms preprocess, 1655.4ms inference, 10.2ms postprocess per image at shape (1, 3, 448, 512)\n"
     ]
    },
    {
     "name": "stderr",
     "output_type": "stream",
     "text": [
      " 51%|█████▏    | 104/202 [02:41<02:37,  1.61s/it]"
     ]
    },
    {
     "name": "stdout",
     "output_type": "stream",
     "text": [
      "\n",
      "image 1/1 C:\\Users\\admin\\.cache\\kagglehub\\datasets\\pavansanagapati\\images-dataset\\versions\\1\\data\\dogs\\dog.193.jpg: 512x416 8 objects, 1495.3ms\n",
      "Speed: 2.1ms preprocess, 1495.3ms inference, 9.1ms postprocess per image at shape (1, 3, 512, 416)\n"
     ]
    },
    {
     "name": "stderr",
     "output_type": "stream",
     "text": [
      " 52%|█████▏    | 105/202 [02:42<02:33,  1.59s/it]"
     ]
    },
    {
     "name": "stdout",
     "output_type": "stream",
     "text": [
      "\n",
      "image 1/1 C:\\Users\\admin\\.cache\\kagglehub\\datasets\\pavansanagapati\\images-dataset\\versions\\1\\data\\dogs\\dog.194.jpg: 512x320 5 objects, 1157.6ms\n",
      "Speed: 2.4ms preprocess, 1157.6ms inference, 7.5ms postprocess per image at shape (1, 3, 512, 320)\n"
     ]
    },
    {
     "name": "stderr",
     "output_type": "stream",
     "text": [
      " 52%|█████▏    | 106/202 [02:43<02:21,  1.47s/it]"
     ]
    },
    {
     "name": "stdout",
     "output_type": "stream",
     "text": [
      "\n",
      "image 1/1 C:\\Users\\admin\\.cache\\kagglehub\\datasets\\pavansanagapati\\images-dataset\\versions\\1\\data\\dogs\\dog.195.jpg: 512x352 3 objects, 1358.8ms\n",
      "Speed: 8.0ms preprocess, 1358.8ms inference, 6.2ms postprocess per image at shape (1, 3, 512, 352)\n"
     ]
    },
    {
     "name": "stderr",
     "output_type": "stream",
     "text": [
      " 53%|█████▎    | 107/202 [02:45<02:17,  1.45s/it]"
     ]
    },
    {
     "name": "stdout",
     "output_type": "stream",
     "text": [
      "\n",
      "image 1/1 C:\\Users\\admin\\.cache\\kagglehub\\datasets\\pavansanagapati\\images-dataset\\versions\\1\\data\\dogs\\dog.196.jpg: 512x416 6 objects, 1462.2ms\n",
      "Speed: 2.7ms preprocess, 1462.2ms inference, 8.0ms postprocess per image at shape (1, 3, 512, 416)\n"
     ]
    },
    {
     "name": "stderr",
     "output_type": "stream",
     "text": [
      " 53%|█████▎    | 108/202 [02:46<02:17,  1.47s/it]"
     ]
    },
    {
     "name": "stdout",
     "output_type": "stream",
     "text": [
      "\n",
      "image 1/1 C:\\Users\\admin\\.cache\\kagglehub\\datasets\\pavansanagapati\\images-dataset\\versions\\1\\data\\dogs\\dog.197.jpg: 448x512 14 objects, 1557.3ms\n",
      "Speed: 7.1ms preprocess, 1557.3ms inference, 31.6ms postprocess per image at shape (1, 3, 448, 512)\n"
     ]
    },
    {
     "name": "stderr",
     "output_type": "stream",
     "text": [
      " 54%|█████▍    | 109/202 [02:48<02:20,  1.52s/it]"
     ]
    },
    {
     "name": "stdout",
     "output_type": "stream",
     "text": [
      "\n",
      "image 1/1 C:\\Users\\admin\\.cache\\kagglehub\\datasets\\pavansanagapati\\images-dataset\\versions\\1\\data\\dogs\\dog.198.jpg: 416x512 8 objects, 1514.3ms\n",
      "Speed: 1.9ms preprocess, 1514.3ms inference, 16.6ms postprocess per image at shape (1, 3, 416, 512)\n"
     ]
    },
    {
     "name": "stderr",
     "output_type": "stream",
     "text": [
      " 54%|█████▍    | 110/202 [02:49<02:21,  1.53s/it]"
     ]
    },
    {
     "name": "stdout",
     "output_type": "stream",
     "text": [
      "\n",
      "image 1/1 C:\\Users\\admin\\.cache\\kagglehub\\datasets\\pavansanagapati\\images-dataset\\versions\\1\\data\\dogs\\dog.199.jpg: 352x512 13 objects, 1270.4ms\n",
      "Speed: 3.4ms preprocess, 1270.4ms inference, 18.8ms postprocess per image at shape (1, 3, 352, 512)\n"
     ]
    },
    {
     "name": "stderr",
     "output_type": "stream",
     "text": [
      " 55%|█████▍    | 111/202 [02:51<02:14,  1.47s/it]"
     ]
    },
    {
     "name": "stdout",
     "output_type": "stream",
     "text": [
      "\n",
      "image 1/1 C:\\Users\\admin\\.cache\\kagglehub\\datasets\\pavansanagapati\\images-dataset\\versions\\1\\data\\dogs\\dog.2.jpg: 512x512 6 objects, 1760.6ms\n",
      "Speed: 2.5ms preprocess, 1760.6ms inference, 4.7ms postprocess per image at shape (1, 3, 512, 512)\n"
     ]
    },
    {
     "name": "stderr",
     "output_type": "stream",
     "text": [
      " 55%|█████▌    | 112/202 [02:52<02:21,  1.57s/it]"
     ]
    },
    {
     "name": "stdout",
     "output_type": "stream",
     "text": [
      "\n",
      "image 1/1 C:\\Users\\admin\\.cache\\kagglehub\\datasets\\pavansanagapati\\images-dataset\\versions\\1\\data\\dogs\\dog.20.jpg: 352x512 4 objects, 1228.7ms\n",
      "Speed: 2.4ms preprocess, 1228.7ms inference, 7.8ms postprocess per image at shape (1, 3, 352, 512)\n"
     ]
    },
    {
     "name": "stderr",
     "output_type": "stream",
     "text": [
      " 56%|█████▌    | 113/202 [02:54<02:11,  1.48s/it]"
     ]
    },
    {
     "name": "stdout",
     "output_type": "stream",
     "text": [
      "\n",
      "image 1/1 C:\\Users\\admin\\.cache\\kagglehub\\datasets\\pavansanagapati\\images-dataset\\versions\\1\\data\\dogs\\dog.200.jpg: 512x384 4 objects, 1397.9ms\n",
      "Speed: 25.5ms preprocess, 1397.9ms inference, 6.5ms postprocess per image at shape (1, 3, 512, 384)\n"
     ]
    },
    {
     "name": "stderr",
     "output_type": "stream",
     "text": [
      " 56%|█████▋    | 114/202 [02:55<02:10,  1.48s/it]"
     ]
    },
    {
     "name": "stdout",
     "output_type": "stream",
     "text": [
      "\n",
      "image 1/1 C:\\Users\\admin\\.cache\\kagglehub\\datasets\\pavansanagapati\\images-dataset\\versions\\1\\data\\dogs\\dog.201.jpg: 416x512 8 objects, 1436.4ms\n",
      "Speed: 2.6ms preprocess, 1436.4ms inference, 15.3ms postprocess per image at shape (1, 3, 416, 512)\n"
     ]
    },
    {
     "name": "stderr",
     "output_type": "stream",
     "text": [
      " 57%|█████▋    | 115/202 [02:57<02:08,  1.48s/it]"
     ]
    },
    {
     "name": "stdout",
     "output_type": "stream",
     "text": [
      "\n",
      "image 1/1 C:\\Users\\admin\\.cache\\kagglehub\\datasets\\pavansanagapati\\images-dataset\\versions\\1\\data\\dogs\\dog.202.jpg: 448x512 11 objects, 1626.2ms\n",
      "Speed: 6.7ms preprocess, 1626.2ms inference, 21.0ms postprocess per image at shape (1, 3, 448, 512)\n"
     ]
    },
    {
     "name": "stderr",
     "output_type": "stream",
     "text": [
      " 57%|█████▋    | 116/202 [02:58<02:13,  1.55s/it]"
     ]
    },
    {
     "name": "stdout",
     "output_type": "stream",
     "text": [
      "\n",
      "image 1/1 C:\\Users\\admin\\.cache\\kagglehub\\datasets\\pavansanagapati\\images-dataset\\versions\\1\\data\\dogs\\dog.21.jpg: 512x448 17 objects, 1579.1ms\n",
      "Speed: 2.1ms preprocess, 1579.1ms inference, 33.3ms postprocess per image at shape (1, 3, 512, 448)\n"
     ]
    },
    {
     "name": "stderr",
     "output_type": "stream",
     "text": [
      " 58%|█████▊    | 117/202 [03:00<02:14,  1.58s/it]"
     ]
    },
    {
     "name": "stdout",
     "output_type": "stream",
     "text": [
      "\n",
      "image 1/1 C:\\Users\\admin\\.cache\\kagglehub\\datasets\\pavansanagapati\\images-dataset\\versions\\1\\data\\dogs\\dog.22.jpg: 384x512 20 objects, 1467.7ms\n",
      "Speed: 2.1ms preprocess, 1467.7ms inference, 33.4ms postprocess per image at shape (1, 3, 384, 512)\n"
     ]
    },
    {
     "name": "stderr",
     "output_type": "stream",
     "text": [
      " 58%|█████▊    | 118/202 [03:02<02:12,  1.57s/it]"
     ]
    },
    {
     "name": "stdout",
     "output_type": "stream",
     "text": [
      "\n",
      "image 1/1 C:\\Users\\admin\\.cache\\kagglehub\\datasets\\pavansanagapati\\images-dataset\\versions\\1\\data\\dogs\\dog.23.jpg: 416x512 4 objects, 1436.2ms\n",
      "Speed: 2.3ms preprocess, 1436.2ms inference, 8.4ms postprocess per image at shape (1, 3, 416, 512)\n"
     ]
    },
    {
     "name": "stderr",
     "output_type": "stream",
     "text": [
      " 59%|█████▉    | 119/202 [03:03<02:08,  1.54s/it]"
     ]
    },
    {
     "name": "stdout",
     "output_type": "stream",
     "text": [
      "\n",
      "image 1/1 C:\\Users\\admin\\.cache\\kagglehub\\datasets\\pavansanagapati\\images-dataset\\versions\\1\\data\\dogs\\dog.24.jpg: 512x288 9 objects, 1072.2ms\n",
      "Speed: 1.8ms preprocess, 1072.2ms inference, 16.1ms postprocess per image at shape (1, 3, 512, 288)\n"
     ]
    },
    {
     "name": "stderr",
     "output_type": "stream",
     "text": [
      " 59%|█████▉    | 120/202 [03:04<01:56,  1.42s/it]"
     ]
    },
    {
     "name": "stdout",
     "output_type": "stream",
     "text": [
      "\n",
      "image 1/1 C:\\Users\\admin\\.cache\\kagglehub\\datasets\\pavansanagapati\\images-dataset\\versions\\1\\data\\dogs\\dog.25.jpg: 416x512 12 objects, 1525.7ms\n",
      "Speed: 2.4ms preprocess, 1525.7ms inference, 22.7ms postprocess per image at shape (1, 3, 416, 512)\n"
     ]
    },
    {
     "name": "stderr",
     "output_type": "stream",
     "text": [
      " 60%|█████▉    | 121/202 [03:06<01:59,  1.47s/it]"
     ]
    },
    {
     "name": "stdout",
     "output_type": "stream",
     "text": [
      "\n",
      "image 1/1 C:\\Users\\admin\\.cache\\kagglehub\\datasets\\pavansanagapati\\images-dataset\\versions\\1\\data\\dogs\\dog.26.jpg: 384x512 14 objects, 1350.6ms\n",
      "Speed: 2.4ms preprocess, 1350.6ms inference, 11.7ms postprocess per image at shape (1, 3, 384, 512)\n"
     ]
    },
    {
     "name": "stderr",
     "output_type": "stream",
     "text": [
      " 60%|██████    | 122/202 [03:07<01:55,  1.45s/it]"
     ]
    },
    {
     "name": "stdout",
     "output_type": "stream",
     "text": [
      "\n",
      "image 1/1 C:\\Users\\admin\\.cache\\kagglehub\\datasets\\pavansanagapati\\images-dataset\\versions\\1\\data\\dogs\\dog.27.jpg: 416x512 12 objects, 1659.7ms\n",
      "Speed: 2.9ms preprocess, 1659.7ms inference, 23.7ms postprocess per image at shape (1, 3, 416, 512)\n"
     ]
    },
    {
     "name": "stderr",
     "output_type": "stream",
     "text": [
      " 61%|██████    | 123/202 [03:09<02:01,  1.54s/it]"
     ]
    },
    {
     "name": "stdout",
     "output_type": "stream",
     "text": [
      "\n",
      "image 1/1 C:\\Users\\admin\\.cache\\kagglehub\\datasets\\pavansanagapati\\images-dataset\\versions\\1\\data\\dogs\\dog.28.jpg: 512x352 4 objects, 1331.3ms\n",
      "Speed: 1.8ms preprocess, 1331.3ms inference, 7.8ms postprocess per image at shape (1, 3, 512, 352)\n"
     ]
    },
    {
     "name": "stderr",
     "output_type": "stream",
     "text": [
      " 61%|██████▏   | 124/202 [03:10<01:56,  1.49s/it]"
     ]
    },
    {
     "name": "stdout",
     "output_type": "stream",
     "text": [
      "\n",
      "image 1/1 C:\\Users\\admin\\.cache\\kagglehub\\datasets\\pavansanagapati\\images-dataset\\versions\\1\\data\\dogs\\dog.29.jpg: 416x512 28 objects, 1442.8ms\n",
      "Speed: 3.3ms preprocess, 1442.8ms inference, 47.4ms postprocess per image at shape (1, 3, 416, 512)\n"
     ]
    },
    {
     "name": "stderr",
     "output_type": "stream",
     "text": [
      " 62%|██████▏   | 125/202 [03:12<01:56,  1.51s/it]"
     ]
    },
    {
     "name": "stdout",
     "output_type": "stream",
     "text": [
      "\n",
      "image 1/1 C:\\Users\\admin\\.cache\\kagglehub\\datasets\\pavansanagapati\\images-dataset\\versions\\1\\data\\dogs\\dog.3.jpg: 416x512 6 objects, 1424.4ms\n",
      "Speed: 2.1ms preprocess, 1424.4ms inference, 10.8ms postprocess per image at shape (1, 3, 416, 512)\n"
     ]
    },
    {
     "name": "stderr",
     "output_type": "stream",
     "text": [
      " 62%|██████▏   | 126/202 [03:13<01:54,  1.50s/it]"
     ]
    },
    {
     "name": "stdout",
     "output_type": "stream",
     "text": [
      "\n",
      "image 1/1 C:\\Users\\admin\\.cache\\kagglehub\\datasets\\pavansanagapati\\images-dataset\\versions\\1\\data\\dogs\\dog.30.jpg: 512x512 24 objects, 1866.7ms\n",
      "Speed: 3.6ms preprocess, 1866.7ms inference, 47.2ms postprocess per image at shape (1, 3, 512, 512)\n"
     ]
    },
    {
     "name": "stderr",
     "output_type": "stream",
     "text": [
      " 63%|██████▎   | 127/202 [03:15<02:03,  1.64s/it]"
     ]
    },
    {
     "name": "stdout",
     "output_type": "stream",
     "text": [
      "\n",
      "image 1/1 C:\\Users\\admin\\.cache\\kagglehub\\datasets\\pavansanagapati\\images-dataset\\versions\\1\\data\\dogs\\dog.31.jpg: 512x320 13 objects, 1141.2ms\n",
      "Speed: 1.8ms preprocess, 1141.2ms inference, 18.7ms postprocess per image at shape (1, 3, 512, 320)\n"
     ]
    },
    {
     "name": "stderr",
     "output_type": "stream",
     "text": [
      " 63%|██████▎   | 128/202 [03:17<01:51,  1.51s/it]"
     ]
    },
    {
     "name": "stdout",
     "output_type": "stream",
     "text": [
      "\n",
      "image 1/1 C:\\Users\\admin\\.cache\\kagglehub\\datasets\\pavansanagapati\\images-dataset\\versions\\1\\data\\dogs\\dog.32.jpg: 416x512 16 objects, 1468.6ms\n",
      "Speed: 1.8ms preprocess, 1468.6ms inference, 33.5ms postprocess per image at shape (1, 3, 416, 512)\n"
     ]
    },
    {
     "name": "stderr",
     "output_type": "stream",
     "text": [
      " 64%|██████▍   | 129/202 [03:18<01:51,  1.52s/it]"
     ]
    },
    {
     "name": "stdout",
     "output_type": "stream",
     "text": [
      "\n",
      "image 1/1 C:\\Users\\admin\\.cache\\kagglehub\\datasets\\pavansanagapati\\images-dataset\\versions\\1\\data\\dogs\\dog.33.jpg: 416x512 7 objects, 1546.3ms\n",
      "Speed: 2.8ms preprocess, 1546.3ms inference, 11.8ms postprocess per image at shape (1, 3, 416, 512)\n"
     ]
    },
    {
     "name": "stderr",
     "output_type": "stream",
     "text": [
      " 64%|██████▍   | 130/202 [03:20<01:51,  1.54s/it]"
     ]
    },
    {
     "name": "stdout",
     "output_type": "stream",
     "text": [
      "\n",
      "image 1/1 C:\\Users\\admin\\.cache\\kagglehub\\datasets\\pavansanagapati\\images-dataset\\versions\\1\\data\\dogs\\dog.34.jpg: 384x512 3 objects, 1330.5ms\n",
      "Speed: 2.4ms preprocess, 1330.5ms inference, 7.2ms postprocess per image at shape (1, 3, 384, 512)\n"
     ]
    },
    {
     "name": "stderr",
     "output_type": "stream",
     "text": [
      " 65%|██████▍   | 131/202 [03:21<01:45,  1.49s/it]"
     ]
    },
    {
     "name": "stdout",
     "output_type": "stream",
     "text": [
      "\n",
      "image 1/1 C:\\Users\\admin\\.cache\\kagglehub\\datasets\\pavansanagapati\\images-dataset\\versions\\1\\data\\dogs\\dog.35.jpg: 416x512 14 objects, 1438.6ms\n",
      "Speed: 2.3ms preprocess, 1438.6ms inference, 13.1ms postprocess per image at shape (1, 3, 416, 512)\n"
     ]
    },
    {
     "name": "stderr",
     "output_type": "stream",
     "text": [
      " 65%|██████▌   | 132/202 [03:23<01:44,  1.49s/it]"
     ]
    },
    {
     "name": "stdout",
     "output_type": "stream",
     "text": [
      "\n",
      "image 1/1 C:\\Users\\admin\\.cache\\kagglehub\\datasets\\pavansanagapati\\images-dataset\\versions\\1\\data\\dogs\\dog.36.jpg: 416x512 22 objects, 1550.2ms\n",
      "Speed: 2.0ms preprocess, 1550.2ms inference, 20.8ms postprocess per image at shape (1, 3, 416, 512)\n"
     ]
    },
    {
     "name": "stderr",
     "output_type": "stream",
     "text": [
      " 66%|██████▌   | 133/202 [03:24<01:45,  1.53s/it]"
     ]
    },
    {
     "name": "stdout",
     "output_type": "stream",
     "text": [
      "\n",
      "image 1/1 C:\\Users\\admin\\.cache\\kagglehub\\datasets\\pavansanagapati\\images-dataset\\versions\\1\\data\\dogs\\dog.37.jpg: 480x512 25 objects, 1752.4ms\n",
      "Speed: 2.2ms preprocess, 1752.4ms inference, 33.4ms postprocess per image at shape (1, 3, 480, 512)\n"
     ]
    },
    {
     "name": "stderr",
     "output_type": "stream",
     "text": [
      " 66%|██████▋   | 134/202 [03:26<01:50,  1.62s/it]"
     ]
    },
    {
     "name": "stdout",
     "output_type": "stream",
     "text": [
      "\n",
      "image 1/1 C:\\Users\\admin\\.cache\\kagglehub\\datasets\\pavansanagapati\\images-dataset\\versions\\1\\data\\dogs\\dog.38.jpg: 384x512 15 objects, 1366.5ms\n",
      "Speed: 2.3ms preprocess, 1366.5ms inference, 27.4ms postprocess per image at shape (1, 3, 384, 512)\n"
     ]
    },
    {
     "name": "stderr",
     "output_type": "stream",
     "text": [
      " 67%|██████▋   | 135/202 [03:27<01:45,  1.57s/it]"
     ]
    },
    {
     "name": "stdout",
     "output_type": "stream",
     "text": [
      "\n",
      "image 1/1 C:\\Users\\admin\\.cache\\kagglehub\\datasets\\pavansanagapati\\images-dataset\\versions\\1\\data\\dogs\\dog.39.jpg: 512x480 6 objects, 1784.3ms\n",
      "Speed: 1.9ms preprocess, 1784.3ms inference, 9.0ms postprocess per image at shape (1, 3, 512, 480)\n"
     ]
    },
    {
     "name": "stderr",
     "output_type": "stream",
     "text": [
      " 67%|██████▋   | 136/202 [03:29<01:48,  1.65s/it]"
     ]
    },
    {
     "name": "stdout",
     "output_type": "stream",
     "text": [
      "\n",
      "image 1/1 C:\\Users\\admin\\.cache\\kagglehub\\datasets\\pavansanagapati\\images-dataset\\versions\\1\\data\\dogs\\dog.4.jpg: 512x512 16 objects, 1786.6ms\n",
      "Speed: 2.3ms preprocess, 1786.6ms inference, 18.5ms postprocess per image at shape (1, 3, 512, 512)\n"
     ]
    },
    {
     "name": "stderr",
     "output_type": "stream",
     "text": [
      " 68%|██████▊   | 137/202 [03:31<01:51,  1.71s/it]"
     ]
    },
    {
     "name": "stdout",
     "output_type": "stream",
     "text": [
      "\n",
      "image 1/1 C:\\Users\\admin\\.cache\\kagglehub\\datasets\\pavansanagapati\\images-dataset\\versions\\1\\data\\dogs\\dog.40.jpg: 512x416 11 objects, 1458.9ms\n",
      "Speed: 2.0ms preprocess, 1458.9ms inference, 7.6ms postprocess per image at shape (1, 3, 512, 416)\n"
     ]
    },
    {
     "name": "stderr",
     "output_type": "stream",
     "text": [
      " 68%|██████▊   | 138/202 [03:33<01:45,  1.65s/it]"
     ]
    },
    {
     "name": "stdout",
     "output_type": "stream",
     "text": [
      "\n",
      "image 1/1 C:\\Users\\admin\\.cache\\kagglehub\\datasets\\pavansanagapati\\images-dataset\\versions\\1\\data\\dogs\\dog.41.jpg: 416x512 14 objects, 1570.7ms\n",
      "Speed: 2.5ms preprocess, 1570.7ms inference, 12.5ms postprocess per image at shape (1, 3, 416, 512)\n"
     ]
    },
    {
     "name": "stderr",
     "output_type": "stream",
     "text": [
      " 69%|██████▉   | 139/202 [03:34<01:43,  1.64s/it]"
     ]
    },
    {
     "name": "stdout",
     "output_type": "stream",
     "text": [
      "\n",
      "image 1/1 C:\\Users\\admin\\.cache\\kagglehub\\datasets\\pavansanagapati\\images-dataset\\versions\\1\\data\\dogs\\dog.42.jpg: 384x512 23 objects, 1363.0ms\n",
      "Speed: 2.4ms preprocess, 1363.0ms inference, 39.2ms postprocess per image at shape (1, 3, 384, 512)\n"
     ]
    },
    {
     "name": "stderr",
     "output_type": "stream",
     "text": [
      " 69%|██████▉   | 140/202 [03:36<01:38,  1.58s/it]"
     ]
    },
    {
     "name": "stdout",
     "output_type": "stream",
     "text": [
      "\n",
      "image 1/1 C:\\Users\\admin\\.cache\\kagglehub\\datasets\\pavansanagapati\\images-dataset\\versions\\1\\data\\dogs\\dog.43.jpg: 352x512 11 objects, 1269.9ms\n",
      "Speed: 1.7ms preprocess, 1269.9ms inference, 12.5ms postprocess per image at shape (1, 3, 352, 512)\n"
     ]
    },
    {
     "name": "stderr",
     "output_type": "stream",
     "text": [
      " 70%|██████▉   | 141/202 [03:37<01:31,  1.51s/it]"
     ]
    },
    {
     "name": "stdout",
     "output_type": "stream",
     "text": [
      "\n",
      "image 1/1 C:\\Users\\admin\\.cache\\kagglehub\\datasets\\pavansanagapati\\images-dataset\\versions\\1\\data\\dogs\\dog.44.jpg: 416x512 16 objects, 1553.8ms\n",
      "Speed: 1.8ms preprocess, 1553.8ms inference, 30.8ms postprocess per image at shape (1, 3, 416, 512)\n"
     ]
    },
    {
     "name": "stderr",
     "output_type": "stream",
     "text": [
      " 70%|███████   | 142/202 [03:39<01:32,  1.55s/it]"
     ]
    },
    {
     "name": "stdout",
     "output_type": "stream",
     "text": [
      "\n",
      "image 1/1 C:\\Users\\admin\\.cache\\kagglehub\\datasets\\pavansanagapati\\images-dataset\\versions\\1\\data\\dogs\\dog.45.jpg: 416x512 12 objects, 1474.9ms\n",
      "Speed: 28.6ms preprocess, 1474.9ms inference, 21.6ms postprocess per image at shape (1, 3, 416, 512)\n"
     ]
    },
    {
     "name": "stderr",
     "output_type": "stream",
     "text": [
      " 71%|███████   | 143/202 [03:40<01:31,  1.55s/it]"
     ]
    },
    {
     "name": "stdout",
     "output_type": "stream",
     "text": [
      "\n",
      "image 1/1 C:\\Users\\admin\\.cache\\kagglehub\\datasets\\pavansanagapati\\images-dataset\\versions\\1\\data\\dogs\\dog.46.jpg: 512x416 13 objects, 1508.1ms\n",
      "Speed: 2.5ms preprocess, 1508.1ms inference, 14.3ms postprocess per image at shape (1, 3, 512, 416)\n"
     ]
    },
    {
     "name": "stderr",
     "output_type": "stream",
     "text": [
      " 71%|███████▏  | 144/202 [03:42<01:30,  1.55s/it]"
     ]
    },
    {
     "name": "stdout",
     "output_type": "stream",
     "text": [
      "\n",
      "image 1/1 C:\\Users\\admin\\.cache\\kagglehub\\datasets\\pavansanagapati\\images-dataset\\versions\\1\\data\\dogs\\dog.47.jpg: 512x512 9 objects, 1768.2ms\n",
      "Speed: 2.5ms preprocess, 1768.2ms inference, 20.2ms postprocess per image at shape (1, 3, 512, 512)\n"
     ]
    },
    {
     "name": "stderr",
     "output_type": "stream",
     "text": [
      " 72%|███████▏  | 145/202 [03:44<01:33,  1.64s/it]"
     ]
    },
    {
     "name": "stdout",
     "output_type": "stream",
     "text": [
      "\n",
      "image 1/1 C:\\Users\\admin\\.cache\\kagglehub\\datasets\\pavansanagapati\\images-dataset\\versions\\1\\data\\dogs\\dog.48.jpg: 384x512 11 objects, 1343.4ms\n",
      "Speed: 2.5ms preprocess, 1343.4ms inference, 23.9ms postprocess per image at shape (1, 3, 384, 512)\n"
     ]
    },
    {
     "name": "stderr",
     "output_type": "stream",
     "text": [
      " 72%|███████▏  | 146/202 [03:45<01:27,  1.57s/it]"
     ]
    },
    {
     "name": "stdout",
     "output_type": "stream",
     "text": [
      "\n",
      "image 1/1 C:\\Users\\admin\\.cache\\kagglehub\\datasets\\pavansanagapati\\images-dataset\\versions\\1\\data\\dogs\\dog.49.jpg: 416x512 26 objects, 1525.7ms\n",
      "Speed: 1.9ms preprocess, 1525.7ms inference, 48.9ms postprocess per image at shape (1, 3, 416, 512)\n"
     ]
    },
    {
     "name": "stderr",
     "output_type": "stream",
     "text": [
      " 73%|███████▎  | 147/202 [03:47<01:27,  1.59s/it]"
     ]
    },
    {
     "name": "stdout",
     "output_type": "stream",
     "text": [
      "\n",
      "image 1/1 C:\\Users\\admin\\.cache\\kagglehub\\datasets\\pavansanagapati\\images-dataset\\versions\\1\\data\\dogs\\dog.5.jpg: 416x512 13 objects, 1428.3ms\n",
      "Speed: 4.5ms preprocess, 1428.3ms inference, 22.1ms postprocess per image at shape (1, 3, 416, 512)\n"
     ]
    },
    {
     "name": "stderr",
     "output_type": "stream",
     "text": [
      " 73%|███████▎  | 148/202 [03:48<01:24,  1.56s/it]"
     ]
    },
    {
     "name": "stdout",
     "output_type": "stream",
     "text": [
      "\n",
      "image 1/1 C:\\Users\\admin\\.cache\\kagglehub\\datasets\\pavansanagapati\\images-dataset\\versions\\1\\data\\dogs\\dog.50.jpg: 512x416 12 objects, 1470.0ms\n",
      "Speed: 2.5ms preprocess, 1470.0ms inference, 7.0ms postprocess per image at shape (1, 3, 512, 416)\n"
     ]
    },
    {
     "name": "stderr",
     "output_type": "stream",
     "text": [
      " 74%|███████▍  | 149/202 [03:50<01:21,  1.55s/it]"
     ]
    },
    {
     "name": "stdout",
     "output_type": "stream",
     "text": [
      "\n",
      "image 1/1 C:\\Users\\admin\\.cache\\kagglehub\\datasets\\pavansanagapati\\images-dataset\\versions\\1\\data\\dogs\\dog.51.jpg: 512x448 8 objects, 1670.7ms\n",
      "Speed: 2.5ms preprocess, 1670.7ms inference, 19.4ms postprocess per image at shape (1, 3, 512, 448)\n"
     ]
    },
    {
     "name": "stderr",
     "output_type": "stream",
     "text": [
      " 74%|███████▍  | 150/202 [03:51<01:23,  1.60s/it]"
     ]
    },
    {
     "name": "stdout",
     "output_type": "stream",
     "text": [
      "\n",
      "image 1/1 C:\\Users\\admin\\.cache\\kagglehub\\datasets\\pavansanagapati\\images-dataset\\versions\\1\\data\\dogs\\dog.52.jpg: 416x512 41 objects, 1411.2ms\n",
      "Speed: 3.2ms preprocess, 1411.2ms inference, 63.9ms postprocess per image at shape (1, 3, 416, 512)\n"
     ]
    },
    {
     "name": "stderr",
     "output_type": "stream",
     "text": [
      " 75%|███████▍  | 151/202 [03:53<01:20,  1.59s/it]"
     ]
    },
    {
     "name": "stdout",
     "output_type": "stream",
     "text": [
      "\n",
      "image 1/1 C:\\Users\\admin\\.cache\\kagglehub\\datasets\\pavansanagapati\\images-dataset\\versions\\1\\data\\dogs\\dog.53.jpg: 352x512 6 objects, 1234.2ms\n",
      "Speed: 2.7ms preprocess, 1234.2ms inference, 7.6ms postprocess per image at shape (1, 3, 352, 512)\n"
     ]
    },
    {
     "name": "stderr",
     "output_type": "stream",
     "text": [
      " 75%|███████▌  | 152/202 [03:54<01:14,  1.49s/it]"
     ]
    },
    {
     "name": "stdout",
     "output_type": "stream",
     "text": [
      "\n",
      "image 1/1 C:\\Users\\admin\\.cache\\kagglehub\\datasets\\pavansanagapati\\images-dataset\\versions\\1\\data\\dogs\\dog.54.jpg: 384x512 7 objects, 1495.8ms\n",
      "Speed: 2.4ms preprocess, 1495.8ms inference, 9.4ms postprocess per image at shape (1, 3, 384, 512)\n"
     ]
    },
    {
     "name": "stderr",
     "output_type": "stream",
     "text": [
      " 76%|███████▌  | 153/202 [03:56<01:13,  1.51s/it]"
     ]
    },
    {
     "name": "stdout",
     "output_type": "stream",
     "text": [
      "\n",
      "image 1/1 C:\\Users\\admin\\.cache\\kagglehub\\datasets\\pavansanagapati\\images-dataset\\versions\\1\\data\\dogs\\dog.55.jpg: 448x512 7 objects, 1584.7ms\n",
      "Speed: 5.4ms preprocess, 1584.7ms inference, 13.0ms postprocess per image at shape (1, 3, 448, 512)\n"
     ]
    },
    {
     "name": "stderr",
     "output_type": "stream",
     "text": [
      " 76%|███████▌  | 154/202 [03:57<01:14,  1.55s/it]"
     ]
    },
    {
     "name": "stdout",
     "output_type": "stream",
     "text": [
      "\n",
      "image 1/1 C:\\Users\\admin\\.cache\\kagglehub\\datasets\\pavansanagapati\\images-dataset\\versions\\1\\data\\dogs\\dog.56.jpg: 512x512 12 objects, 1771.4ms\n",
      "Speed: 3.0ms preprocess, 1771.4ms inference, 29.2ms postprocess per image at shape (1, 3, 512, 512)\n"
     ]
    },
    {
     "name": "stderr",
     "output_type": "stream",
     "text": [
      " 77%|███████▋  | 155/202 [03:59<01:17,  1.64s/it]"
     ]
    },
    {
     "name": "stdout",
     "output_type": "stream",
     "text": [
      "\n",
      "image 1/1 C:\\Users\\admin\\.cache\\kagglehub\\datasets\\pavansanagapati\\images-dataset\\versions\\1\\data\\dogs\\dog.57.jpg: 512x416 6 objects, 1544.8ms\n",
      "Speed: 2.1ms preprocess, 1544.8ms inference, 7.7ms postprocess per image at shape (1, 3, 512, 416)\n"
     ]
    },
    {
     "name": "stderr",
     "output_type": "stream",
     "text": [
      " 77%|███████▋  | 156/202 [04:01<01:14,  1.62s/it]"
     ]
    },
    {
     "name": "stdout",
     "output_type": "stream",
     "text": [
      "\n",
      "image 1/1 C:\\Users\\admin\\.cache\\kagglehub\\datasets\\pavansanagapati\\images-dataset\\versions\\1\\data\\dogs\\dog.58.jpg: 288x512 1 object, 1047.5ms\n",
      "Speed: 2.2ms preprocess, 1047.5ms inference, 4.4ms postprocess per image at shape (1, 3, 288, 512)\n"
     ]
    },
    {
     "name": "stderr",
     "output_type": "stream",
     "text": [
      " 78%|███████▊  | 157/202 [04:02<01:05,  1.46s/it]"
     ]
    },
    {
     "name": "stdout",
     "output_type": "stream",
     "text": [
      "\n",
      "image 1/1 C:\\Users\\admin\\.cache\\kagglehub\\datasets\\pavansanagapati\\images-dataset\\versions\\1\\data\\dogs\\dog.59.jpg: 352x512 43 objects, 1273.2ms\n",
      "Speed: 1.8ms preprocess, 1273.2ms inference, 63.0ms postprocess per image at shape (1, 3, 352, 512)\n"
     ]
    },
    {
     "name": "stderr",
     "output_type": "stream",
     "text": [
      " 78%|███████▊  | 158/202 [04:03<01:03,  1.44s/it]"
     ]
    },
    {
     "name": "stdout",
     "output_type": "stream",
     "text": [
      "\n",
      "image 1/1 C:\\Users\\admin\\.cache\\kagglehub\\datasets\\pavansanagapati\\images-dataset\\versions\\1\\data\\dogs\\dog.6.jpg: 512x512 9 objects, 1873.7ms\n",
      "Speed: 3.6ms preprocess, 1873.7ms inference, 19.1ms postprocess per image at shape (1, 3, 512, 512)\n"
     ]
    },
    {
     "name": "stderr",
     "output_type": "stream",
     "text": [
      " 79%|███████▊  | 159/202 [04:05<01:08,  1.59s/it]"
     ]
    },
    {
     "name": "stdout",
     "output_type": "stream",
     "text": [
      "\n",
      "image 1/1 C:\\Users\\admin\\.cache\\kagglehub\\datasets\\pavansanagapati\\images-dataset\\versions\\1\\data\\dogs\\dog.60.jpg: 352x512 21 objects, 1279.6ms\n",
      "Speed: 1.9ms preprocess, 1279.6ms inference, 31.1ms postprocess per image at shape (1, 3, 352, 512)\n"
     ]
    },
    {
     "name": "stderr",
     "output_type": "stream",
     "text": [
      " 79%|███████▉  | 160/202 [04:07<01:04,  1.53s/it]"
     ]
    },
    {
     "name": "stdout",
     "output_type": "stream",
     "text": [
      "\n",
      "image 1/1 C:\\Users\\admin\\.cache\\kagglehub\\datasets\\pavansanagapati\\images-dataset\\versions\\1\\data\\dogs\\dog.61.jpg: 352x512 6 objects, 1552.6ms\n",
      "Speed: 2.0ms preprocess, 1552.6ms inference, 18.7ms postprocess per image at shape (1, 3, 352, 512)\n"
     ]
    },
    {
     "name": "stderr",
     "output_type": "stream",
     "text": [
      " 80%|███████▉  | 161/202 [04:08<01:03,  1.55s/it]"
     ]
    },
    {
     "name": "stdout",
     "output_type": "stream",
     "text": [
      "\n",
      "image 1/1 C:\\Users\\admin\\.cache\\kagglehub\\datasets\\pavansanagapati\\images-dataset\\versions\\1\\data\\dogs\\dog.62.jpg: 512x384 9 objects, 1525.1ms\n",
      "Speed: 3.1ms preprocess, 1525.1ms inference, 14.9ms postprocess per image at shape (1, 3, 512, 384)\n"
     ]
    },
    {
     "name": "stderr",
     "output_type": "stream",
     "text": [
      " 80%|████████  | 162/202 [04:10<01:02,  1.56s/it]"
     ]
    },
    {
     "name": "stdout",
     "output_type": "stream",
     "text": [
      "\n",
      "image 1/1 C:\\Users\\admin\\.cache\\kagglehub\\datasets\\pavansanagapati\\images-dataset\\versions\\1\\data\\dogs\\dog.63.jpg: 512x416 15 objects, 1544.0ms\n",
      "Speed: 6.5ms preprocess, 1544.0ms inference, 32.3ms postprocess per image at shape (1, 3, 512, 416)\n"
     ]
    },
    {
     "name": "stderr",
     "output_type": "stream",
     "text": [
      " 81%|████████  | 163/202 [04:12<01:01,  1.59s/it]"
     ]
    },
    {
     "name": "stdout",
     "output_type": "stream",
     "text": [
      "\n",
      "image 1/1 C:\\Users\\admin\\.cache\\kagglehub\\datasets\\pavansanagapati\\images-dataset\\versions\\1\\data\\dogs\\dog.64.jpg: 512x448 13 objects, 1577.6ms\n",
      "Speed: 4.9ms preprocess, 1577.6ms inference, 27.9ms postprocess per image at shape (1, 3, 512, 448)\n"
     ]
    },
    {
     "name": "stderr",
     "output_type": "stream",
     "text": [
      " 81%|████████  | 164/202 [04:13<01:01,  1.61s/it]"
     ]
    },
    {
     "name": "stdout",
     "output_type": "stream",
     "text": [
      "\n",
      "image 1/1 C:\\Users\\admin\\.cache\\kagglehub\\datasets\\pavansanagapati\\images-dataset\\versions\\1\\data\\dogs\\dog.65.jpg: 512x448 10 objects, 1633.8ms\n",
      "Speed: 2.2ms preprocess, 1633.8ms inference, 7.4ms postprocess per image at shape (1, 3, 512, 448)\n"
     ]
    },
    {
     "name": "stderr",
     "output_type": "stream",
     "text": [
      " 82%|████████▏ | 165/202 [04:15<01:00,  1.63s/it]"
     ]
    },
    {
     "name": "stdout",
     "output_type": "stream",
     "text": [
      "\n",
      "image 1/1 C:\\Users\\admin\\.cache\\kagglehub\\datasets\\pavansanagapati\\images-dataset\\versions\\1\\data\\dogs\\dog.66.jpg: 416x512 5 objects, 1453.2ms\n",
      "Speed: 2.4ms preprocess, 1453.2ms inference, 15.5ms postprocess per image at shape (1, 3, 416, 512)\n"
     ]
    },
    {
     "name": "stderr",
     "output_type": "stream",
     "text": [
      " 82%|████████▏ | 166/202 [04:16<00:57,  1.59s/it]"
     ]
    },
    {
     "name": "stdout",
     "output_type": "stream",
     "text": [
      "\n",
      "image 1/1 C:\\Users\\admin\\.cache\\kagglehub\\datasets\\pavansanagapati\\images-dataset\\versions\\1\\data\\dogs\\dog.67.jpg: 512x512 8 objects, 2268.4ms\n",
      "Speed: 3.5ms preprocess, 2268.4ms inference, 12.9ms postprocess per image at shape (1, 3, 512, 512)\n"
     ]
    },
    {
     "name": "stderr",
     "output_type": "stream",
     "text": [
      " 83%|████████▎ | 167/202 [04:19<01:03,  1.81s/it]"
     ]
    },
    {
     "name": "stdout",
     "output_type": "stream",
     "text": [
      "\n",
      "image 1/1 C:\\Users\\admin\\.cache\\kagglehub\\datasets\\pavansanagapati\\images-dataset\\versions\\1\\data\\dogs\\dog.68.jpg: 448x512 24 objects, 1962.3ms\n",
      "Speed: 2.5ms preprocess, 1962.3ms inference, 24.8ms postprocess per image at shape (1, 3, 448, 512)\n"
     ]
    },
    {
     "name": "stderr",
     "output_type": "stream",
     "text": [
      " 83%|████████▎ | 168/202 [04:21<01:03,  1.88s/it]"
     ]
    },
    {
     "name": "stdout",
     "output_type": "stream",
     "text": [
      "\n",
      "image 1/1 C:\\Users\\admin\\.cache\\kagglehub\\datasets\\pavansanagapati\\images-dataset\\versions\\1\\data\\dogs\\dog.69.jpg: 384x512 13 objects, 1835.4ms\n",
      "Speed: 1.6ms preprocess, 1835.4ms inference, 7.6ms postprocess per image at shape (1, 3, 384, 512)\n"
     ]
    },
    {
     "name": "stderr",
     "output_type": "stream",
     "text": [
      " 84%|████████▎ | 169/202 [04:23<01:01,  1.87s/it]"
     ]
    },
    {
     "name": "stdout",
     "output_type": "stream",
     "text": [
      "\n",
      "image 1/1 C:\\Users\\admin\\.cache\\kagglehub\\datasets\\pavansanagapati\\images-dataset\\versions\\1\\data\\dogs\\dog.7.jpg: 480x512 12 objects, 2347.0ms\n",
      "Speed: 2.7ms preprocess, 2347.0ms inference, 12.5ms postprocess per image at shape (1, 3, 480, 512)\n"
     ]
    },
    {
     "name": "stderr",
     "output_type": "stream",
     "text": [
      " 84%|████████▍ | 170/202 [04:25<01:05,  2.03s/it]"
     ]
    },
    {
     "name": "stdout",
     "output_type": "stream",
     "text": [
      "\n",
      "image 1/1 C:\\Users\\admin\\.cache\\kagglehub\\datasets\\pavansanagapati\\images-dataset\\versions\\1\\data\\dogs\\dog.70.jpg: 512x512 5 objects, 1981.3ms\n",
      "Speed: 3.8ms preprocess, 1981.3ms inference, 7.8ms postprocess per image at shape (1, 3, 512, 512)\n"
     ]
    },
    {
     "name": "stderr",
     "output_type": "stream",
     "text": [
      " 85%|████████▍ | 171/202 [04:27<01:02,  2.03s/it]"
     ]
    },
    {
     "name": "stdout",
     "output_type": "stream",
     "text": [
      "\n",
      "image 1/1 C:\\Users\\admin\\.cache\\kagglehub\\datasets\\pavansanagapati\\images-dataset\\versions\\1\\data\\dogs\\dog.71.jpg: 384x512 8 objects, 1404.2ms\n",
      "Speed: 2.3ms preprocess, 1404.2ms inference, 15.1ms postprocess per image at shape (1, 3, 384, 512)\n"
     ]
    },
    {
     "name": "stderr",
     "output_type": "stream",
     "text": [
      " 85%|████████▌ | 172/202 [04:28<00:55,  1.86s/it]"
     ]
    },
    {
     "name": "stdout",
     "output_type": "stream",
     "text": [
      "\n",
      "image 1/1 C:\\Users\\admin\\.cache\\kagglehub\\datasets\\pavansanagapati\\images-dataset\\versions\\1\\data\\dogs\\dog.72.jpg: 384x512 27 objects, 1349.9ms\n",
      "Speed: 2.3ms preprocess, 1349.9ms inference, 48.9ms postprocess per image at shape (1, 3, 384, 512)\n"
     ]
    },
    {
     "name": "stderr",
     "output_type": "stream",
     "text": [
      " 86%|████████▌ | 173/202 [04:30<00:50,  1.74s/it]"
     ]
    },
    {
     "name": "stdout",
     "output_type": "stream",
     "text": [
      "\n",
      "image 1/1 C:\\Users\\admin\\.cache\\kagglehub\\datasets\\pavansanagapati\\images-dataset\\versions\\1\\data\\dogs\\dog.73.jpg: 416x512 15 objects, 1520.1ms\n",
      "Speed: 1.8ms preprocess, 1520.1ms inference, 12.7ms postprocess per image at shape (1, 3, 416, 512)\n"
     ]
    },
    {
     "name": "stderr",
     "output_type": "stream",
     "text": [
      " 86%|████████▌ | 174/202 [04:31<00:47,  1.69s/it]"
     ]
    },
    {
     "name": "stdout",
     "output_type": "stream",
     "text": [
      "\n",
      "image 1/1 C:\\Users\\admin\\.cache\\kagglehub\\datasets\\pavansanagapati\\images-dataset\\versions\\1\\data\\dogs\\dog.74.jpg: 384x512 13 objects, 1374.5ms\n",
      "Speed: 2.0ms preprocess, 1374.5ms inference, 22.7ms postprocess per image at shape (1, 3, 384, 512)\n"
     ]
    },
    {
     "name": "stderr",
     "output_type": "stream",
     "text": [
      " 87%|████████▋ | 175/202 [04:33<00:43,  1.62s/it]"
     ]
    },
    {
     "name": "stdout",
     "output_type": "stream",
     "text": [
      "\n",
      "image 1/1 C:\\Users\\admin\\.cache\\kagglehub\\datasets\\pavansanagapati\\images-dataset\\versions\\1\\data\\dogs\\dog.75.jpg: 512x384 21 objects, 1767.3ms\n",
      "Speed: 1.7ms preprocess, 1767.3ms inference, 42.6ms postprocess per image at shape (1, 3, 512, 384)\n"
     ]
    },
    {
     "name": "stderr",
     "output_type": "stream",
     "text": [
      " 87%|████████▋ | 176/202 [04:35<00:43,  1.69s/it]"
     ]
    },
    {
     "name": "stdout",
     "output_type": "stream",
     "text": [
      "\n",
      "image 1/1 C:\\Users\\admin\\.cache\\kagglehub\\datasets\\pavansanagapati\\images-dataset\\versions\\1\\data\\dogs\\dog.76.jpg: 512x480 7 objects, 1959.5ms\n",
      "Speed: 12.9ms preprocess, 1959.5ms inference, 5.9ms postprocess per image at shape (1, 3, 512, 480)\n"
     ]
    },
    {
     "name": "stderr",
     "output_type": "stream",
     "text": [
      " 88%|████████▊ | 177/202 [04:37<00:45,  1.82s/it]"
     ]
    },
    {
     "name": "stdout",
     "output_type": "stream",
     "text": [
      "\n",
      "image 1/1 C:\\Users\\admin\\.cache\\kagglehub\\datasets\\pavansanagapati\\images-dataset\\versions\\1\\data\\dogs\\dog.77.jpg: 480x512 5 objects, 1707.5ms\n",
      "Speed: 2.0ms preprocess, 1707.5ms inference, 7.2ms postprocess per image at shape (1, 3, 480, 512)\n"
     ]
    },
    {
     "name": "stderr",
     "output_type": "stream",
     "text": [
      " 88%|████████▊ | 178/202 [04:39<00:43,  1.80s/it]"
     ]
    },
    {
     "name": "stdout",
     "output_type": "stream",
     "text": [
      "\n",
      "image 1/1 C:\\Users\\admin\\.cache\\kagglehub\\datasets\\pavansanagapati\\images-dataset\\versions\\1\\data\\dogs\\dog.78.jpg: 384x512 9 objects, 1385.3ms\n",
      "Speed: 2.1ms preprocess, 1385.3ms inference, 15.3ms postprocess per image at shape (1, 3, 384, 512)\n"
     ]
    },
    {
     "name": "stderr",
     "output_type": "stream",
     "text": [
      " 89%|████████▊ | 179/202 [04:40<00:38,  1.69s/it]"
     ]
    },
    {
     "name": "stdout",
     "output_type": "stream",
     "text": [
      "\n",
      "image 1/1 C:\\Users\\admin\\.cache\\kagglehub\\datasets\\pavansanagapati\\images-dataset\\versions\\1\\data\\dogs\\dog.79.jpg: 512x512 5 objects, 1896.2ms\n",
      "Speed: 3.3ms preprocess, 1896.2ms inference, 5.3ms postprocess per image at shape (1, 3, 512, 512)\n"
     ]
    },
    {
     "name": "stderr",
     "output_type": "stream",
     "text": [
      " 89%|████████▉ | 180/202 [04:42<00:38,  1.77s/it]"
     ]
    },
    {
     "name": "stdout",
     "output_type": "stream",
     "text": [
      "\n",
      "image 1/1 C:\\Users\\admin\\.cache\\kagglehub\\datasets\\pavansanagapati\\images-dataset\\versions\\1\\data\\dogs\\dog.8.jpg: 512x480 8 objects, 1696.4ms\n",
      "Speed: 8.3ms preprocess, 1696.4ms inference, 17.5ms postprocess per image at shape (1, 3, 512, 480)\n"
     ]
    },
    {
     "name": "stderr",
     "output_type": "stream",
     "text": [
      " 90%|████████▉ | 181/202 [04:44<00:37,  1.77s/it]"
     ]
    },
    {
     "name": "stdout",
     "output_type": "stream",
     "text": [
      "\n",
      "image 1/1 C:\\Users\\admin\\.cache\\kagglehub\\datasets\\pavansanagapati\\images-dataset\\versions\\1\\data\\dogs\\dog.80.jpg: 416x512 9 objects, 1421.6ms\n",
      "Speed: 2.4ms preprocess, 1421.6ms inference, 17.7ms postprocess per image at shape (1, 3, 416, 512)\n"
     ]
    },
    {
     "name": "stderr",
     "output_type": "stream",
     "text": [
      " 90%|█████████ | 182/202 [04:45<00:33,  1.68s/it]"
     ]
    },
    {
     "name": "stdout",
     "output_type": "stream",
     "text": [
      "\n",
      "image 1/1 C:\\Users\\admin\\.cache\\kagglehub\\datasets\\pavansanagapati\\images-dataset\\versions\\1\\data\\dogs\\dog.81.jpg: 512x512 16 objects, 1900.3ms\n",
      "Speed: 2.8ms preprocess, 1900.3ms inference, 7.1ms postprocess per image at shape (1, 3, 512, 512)\n"
     ]
    },
    {
     "name": "stderr",
     "output_type": "stream",
     "text": [
      " 91%|█████████ | 183/202 [04:47<00:33,  1.76s/it]"
     ]
    },
    {
     "name": "stdout",
     "output_type": "stream",
     "text": [
      "\n",
      "image 1/1 C:\\Users\\admin\\.cache\\kagglehub\\datasets\\pavansanagapati\\images-dataset\\versions\\1\\data\\dogs\\dog.82.jpg: 480x512 13 objects, 1776.0ms\n",
      "Speed: 3.2ms preprocess, 1776.0ms inference, 27.1ms postprocess per image at shape (1, 3, 480, 512)\n"
     ]
    },
    {
     "name": "stderr",
     "output_type": "stream",
     "text": [
      " 91%|█████████ | 184/202 [04:49<00:32,  1.79s/it]"
     ]
    },
    {
     "name": "stdout",
     "output_type": "stream",
     "text": [
      "\n",
      "image 1/1 C:\\Users\\admin\\.cache\\kagglehub\\datasets\\pavansanagapati\\images-dataset\\versions\\1\\data\\dogs\\dog.83.jpg: 416x512 21 objects, 1561.2ms\n",
      "Speed: 3.6ms preprocess, 1561.2ms inference, 40.6ms postprocess per image at shape (1, 3, 416, 512)\n"
     ]
    },
    {
     "name": "stderr",
     "output_type": "stream",
     "text": [
      " 92%|█████████▏| 185/202 [04:51<00:29,  1.75s/it]"
     ]
    },
    {
     "name": "stdout",
     "output_type": "stream",
     "text": [
      "\n",
      "image 1/1 C:\\Users\\admin\\.cache\\kagglehub\\datasets\\pavansanagapati\\images-dataset\\versions\\1\\data\\dogs\\dog.84.jpg: 512x384 17 objects, 1473.9ms\n",
      "Speed: 3.6ms preprocess, 1473.9ms inference, 31.6ms postprocess per image at shape (1, 3, 512, 384)\n"
     ]
    },
    {
     "name": "stderr",
     "output_type": "stream",
     "text": [
      " 92%|█████████▏| 186/202 [04:52<00:27,  1.71s/it]"
     ]
    },
    {
     "name": "stdout",
     "output_type": "stream",
     "text": [
      "\n",
      "image 1/1 C:\\Users\\admin\\.cache\\kagglehub\\datasets\\pavansanagapati\\images-dataset\\versions\\1\\data\\dogs\\dog.85.jpg: 512x480 17 objects, 1727.3ms\n",
      "Speed: 2.8ms preprocess, 1727.3ms inference, 13.5ms postprocess per image at shape (1, 3, 512, 480)\n"
     ]
    },
    {
     "name": "stderr",
     "output_type": "stream",
     "text": [
      " 93%|█████████▎| 187/202 [04:54<00:26,  1.74s/it]"
     ]
    },
    {
     "name": "stdout",
     "output_type": "stream",
     "text": [
      "\n",
      "image 1/1 C:\\Users\\admin\\.cache\\kagglehub\\datasets\\pavansanagapati\\images-dataset\\versions\\1\\data\\dogs\\dog.86.jpg: 512x512 8 objects, 1796.8ms\n",
      "Speed: 3.4ms preprocess, 1796.8ms inference, 5.2ms postprocess per image at shape (1, 3, 512, 512)\n"
     ]
    },
    {
     "name": "stderr",
     "output_type": "stream",
     "text": [
      " 93%|█████████▎| 188/202 [04:56<00:24,  1.76s/it]"
     ]
    },
    {
     "name": "stdout",
     "output_type": "stream",
     "text": [
      "\n",
      "image 1/1 C:\\Users\\admin\\.cache\\kagglehub\\datasets\\pavansanagapati\\images-dataset\\versions\\1\\data\\dogs\\dog.87.jpg: 416x512 26 objects, 1563.0ms\n",
      "Speed: 1.9ms preprocess, 1563.0ms inference, 40.7ms postprocess per image at shape (1, 3, 416, 512)\n"
     ]
    },
    {
     "name": "stderr",
     "output_type": "stream",
     "text": [
      " 94%|█████████▎| 189/202 [04:58<00:22,  1.73s/it]"
     ]
    },
    {
     "name": "stdout",
     "output_type": "stream",
     "text": [
      "\n",
      "image 1/1 C:\\Users\\admin\\.cache\\kagglehub\\datasets\\pavansanagapati\\images-dataset\\versions\\1\\data\\dogs\\dog.88.jpg: 352x512 5 objects, 1289.6ms\n",
      "Speed: 2.1ms preprocess, 1289.6ms inference, 8.1ms postprocess per image at shape (1, 3, 352, 512)\n"
     ]
    },
    {
     "name": "stderr",
     "output_type": "stream",
     "text": [
      " 94%|█████████▍| 190/202 [04:59<00:19,  1.61s/it]"
     ]
    },
    {
     "name": "stdout",
     "output_type": "stream",
     "text": [
      "\n",
      "image 1/1 C:\\Users\\admin\\.cache\\kagglehub\\datasets\\pavansanagapati\\images-dataset\\versions\\1\\data\\dogs\\dog.89.jpg: 384x512 12 objects, 1484.5ms\n",
      "Speed: 2.2ms preprocess, 1484.5ms inference, 24.9ms postprocess per image at shape (1, 3, 384, 512)\n"
     ]
    },
    {
     "name": "stderr",
     "output_type": "stream",
     "text": [
      " 95%|█████████▍| 191/202 [05:01<00:17,  1.59s/it]"
     ]
    },
    {
     "name": "stdout",
     "output_type": "stream",
     "text": [
      "\n",
      "image 1/1 C:\\Users\\admin\\.cache\\kagglehub\\datasets\\pavansanagapati\\images-dataset\\versions\\1\\data\\dogs\\dog.9.jpg: 512x384 13 objects, 1457.0ms\n",
      "Speed: 2.1ms preprocess, 1457.0ms inference, 23.4ms postprocess per image at shape (1, 3, 512, 384)\n"
     ]
    },
    {
     "name": "stderr",
     "output_type": "stream",
     "text": [
      " 95%|█████████▌| 192/202 [05:02<00:15,  1.57s/it]"
     ]
    },
    {
     "name": "stdout",
     "output_type": "stream",
     "text": [
      "\n",
      "image 1/1 C:\\Users\\admin\\.cache\\kagglehub\\datasets\\pavansanagapati\\images-dataset\\versions\\1\\data\\dogs\\dog.90.jpg: 512x320 10 objects, 1189.0ms\n",
      "Speed: 3.4ms preprocess, 1189.0ms inference, 14.5ms postprocess per image at shape (1, 3, 512, 320)\n"
     ]
    },
    {
     "name": "stderr",
     "output_type": "stream",
     "text": [
      " 96%|█████████▌| 193/202 [05:03<00:13,  1.47s/it]"
     ]
    },
    {
     "name": "stdout",
     "output_type": "stream",
     "text": [
      "\n",
      "image 1/1 C:\\Users\\admin\\.cache\\kagglehub\\datasets\\pavansanagapati\\images-dataset\\versions\\1\\data\\dogs\\dog.91.jpg: 512x480 3 objects, 1776.4ms\n",
      "Speed: 3.9ms preprocess, 1776.4ms inference, 3.5ms postprocess per image at shape (1, 3, 512, 480)\n"
     ]
    },
    {
     "name": "stderr",
     "output_type": "stream",
     "text": [
      " 96%|█████████▌| 194/202 [05:05<00:12,  1.57s/it]"
     ]
    },
    {
     "name": "stdout",
     "output_type": "stream",
     "text": [
      "\n",
      "image 1/1 C:\\Users\\admin\\.cache\\kagglehub\\datasets\\pavansanagapati\\images-dataset\\versions\\1\\data\\dogs\\dog.92.jpg: 384x512 5 objects, 1413.4ms\n",
      "Speed: 1.9ms preprocess, 1413.4ms inference, 6.3ms postprocess per image at shape (1, 3, 384, 512)\n"
     ]
    },
    {
     "name": "stderr",
     "output_type": "stream",
     "text": [
      " 97%|█████████▋| 195/202 [05:07<00:10,  1.54s/it]"
     ]
    },
    {
     "name": "stdout",
     "output_type": "stream",
     "text": [
      "\n",
      "image 1/1 C:\\Users\\admin\\.cache\\kagglehub\\datasets\\pavansanagapati\\images-dataset\\versions\\1\\data\\dogs\\dog.93.jpg: 416x512 11 objects, 1561.5ms\n",
      "Speed: 2.5ms preprocess, 1561.5ms inference, 21.0ms postprocess per image at shape (1, 3, 416, 512)\n"
     ]
    },
    {
     "name": "stderr",
     "output_type": "stream",
     "text": [
      " 97%|█████████▋| 196/202 [05:08<00:09,  1.57s/it]"
     ]
    },
    {
     "name": "stdout",
     "output_type": "stream",
     "text": [
      "\n",
      "image 1/1 C:\\Users\\admin\\.cache\\kagglehub\\datasets\\pavansanagapati\\images-dataset\\versions\\1\\data\\dogs\\dog.94.jpg: 288x512 5 objects, 1078.9ms\n",
      "Speed: 1.6ms preprocess, 1078.9ms inference, 7.7ms postprocess per image at shape (1, 3, 288, 512)\n"
     ]
    },
    {
     "name": "stderr",
     "output_type": "stream",
     "text": [
      " 98%|█████████▊| 197/202 [05:09<00:07,  1.43s/it]"
     ]
    },
    {
     "name": "stdout",
     "output_type": "stream",
     "text": [
      "\n",
      "image 1/1 C:\\Users\\admin\\.cache\\kagglehub\\datasets\\pavansanagapati\\images-dataset\\versions\\1\\data\\dogs\\dog.95.jpg: 352x512 7 objects, 1273.0ms\n",
      "Speed: 2.4ms preprocess, 1273.0ms inference, 12.7ms postprocess per image at shape (1, 3, 352, 512)\n"
     ]
    },
    {
     "name": "stderr",
     "output_type": "stream",
     "text": [
      " 98%|█████████▊| 198/202 [05:11<00:05,  1.40s/it]"
     ]
    },
    {
     "name": "stdout",
     "output_type": "stream",
     "text": [
      "\n",
      "image 1/1 C:\\Users\\admin\\.cache\\kagglehub\\datasets\\pavansanagapati\\images-dataset\\versions\\1\\data\\dogs\\dog.96.jpg: 416x512 30 objects, 1571.0ms\n",
      "Speed: 2.3ms preprocess, 1571.0ms inference, 47.4ms postprocess per image at shape (1, 3, 416, 512)\n"
     ]
    },
    {
     "name": "stderr",
     "output_type": "stream",
     "text": [
      " 99%|█████████▊| 199/202 [05:12<00:04,  1.49s/it]"
     ]
    },
    {
     "name": "stdout",
     "output_type": "stream",
     "text": [
      "\n",
      "image 1/1 C:\\Users\\admin\\.cache\\kagglehub\\datasets\\pavansanagapati\\images-dataset\\versions\\1\\data\\dogs\\dog.97.jpg: 416x512 8 objects, 1472.0ms\n",
      "Speed: 2.2ms preprocess, 1472.0ms inference, 17.4ms postprocess per image at shape (1, 3, 416, 512)\n"
     ]
    },
    {
     "name": "stderr",
     "output_type": "stream",
     "text": [
      " 99%|█████████▉| 200/202 [05:14<00:03,  1.50s/it]"
     ]
    },
    {
     "name": "stdout",
     "output_type": "stream",
     "text": [
      "\n",
      "image 1/1 C:\\Users\\admin\\.cache\\kagglehub\\datasets\\pavansanagapati\\images-dataset\\versions\\1\\data\\dogs\\dog.98.jpg: 512x512 17 objects, 1782.4ms\n",
      "Speed: 2.4ms preprocess, 1782.4ms inference, 35.8ms postprocess per image at shape (1, 3, 512, 512)\n"
     ]
    },
    {
     "name": "stderr",
     "output_type": "stream",
     "text": [
      "100%|█████████▉| 201/202 [05:16<00:01,  1.61s/it]"
     ]
    },
    {
     "name": "stdout",
     "output_type": "stream",
     "text": [
      "\n",
      "image 1/1 C:\\Users\\admin\\.cache\\kagglehub\\datasets\\pavansanagapati\\images-dataset\\versions\\1\\data\\dogs\\dog.99.jpg: 384x512 11 objects, 1420.9ms\n",
      "Speed: 9.5ms preprocess, 1420.9ms inference, 19.7ms postprocess per image at shape (1, 3, 384, 512)\n"
     ]
    },
    {
     "name": "stderr",
     "output_type": "stream",
     "text": [
      "100%|██████████| 202/202 [05:17<00:00,  1.57s/it]\n"
     ]
    },
    {
     "name": "stdout",
     "output_type": "stream",
     "text": [
      "\n",
      " Processing class: flowers\n"
     ]
    },
    {
     "name": "stderr",
     "output_type": "stream",
     "text": [
      "  0%|          | 0/210 [00:00<?, ?it/s]"
     ]
    },
    {
     "name": "stdout",
     "output_type": "stream",
     "text": [
      "\n",
      "image 1/1 C:\\Users\\admin\\.cache\\kagglehub\\datasets\\pavansanagapati\\images-dataset\\versions\\1\\data\\flowers\\0001.png: 512x512 19 objects, 1825.8ms\n",
      "Speed: 2.7ms preprocess, 1825.8ms inference, 10.2ms postprocess per image at shape (1, 3, 512, 512)\n"
     ]
    },
    {
     "name": "stderr",
     "output_type": "stream",
     "text": [
      "  0%|          | 1/210 [00:01<06:32,  1.88s/it]"
     ]
    },
    {
     "name": "stdout",
     "output_type": "stream",
     "text": [
      "\n",
      "image 1/1 C:\\Users\\admin\\.cache\\kagglehub\\datasets\\pavansanagapati\\images-dataset\\versions\\1\\data\\flowers\\0002.png: 512x512 18 objects, 1888.8ms\n",
      "Speed: 2.4ms preprocess, 1888.8ms inference, 8.8ms postprocess per image at shape (1, 3, 512, 512)\n"
     ]
    },
    {
     "name": "stderr",
     "output_type": "stream",
     "text": [
      "  1%|          | 2/210 [00:03<06:37,  1.91s/it]"
     ]
    },
    {
     "name": "stdout",
     "output_type": "stream",
     "text": [
      "\n",
      "image 1/1 C:\\Users\\admin\\.cache\\kagglehub\\datasets\\pavansanagapati\\images-dataset\\versions\\1\\data\\flowers\\0003.png: 512x512 10 objects, 1822.4ms\n",
      "Speed: 2.3ms preprocess, 1822.4ms inference, 6.7ms postprocess per image at shape (1, 3, 512, 512)\n"
     ]
    },
    {
     "name": "stderr",
     "output_type": "stream",
     "text": [
      "  1%|▏         | 3/210 [00:05<06:30,  1.89s/it]"
     ]
    },
    {
     "name": "stdout",
     "output_type": "stream",
     "text": [
      "\n",
      "image 1/1 C:\\Users\\admin\\.cache\\kagglehub\\datasets\\pavansanagapati\\images-dataset\\versions\\1\\data\\flowers\\0004.png: 512x512 20 objects, 1894.6ms\n",
      "Speed: 3.0ms preprocess, 1894.6ms inference, 10.4ms postprocess per image at shape (1, 3, 512, 512)\n"
     ]
    },
    {
     "name": "stderr",
     "output_type": "stream",
     "text": [
      "  2%|▏         | 4/210 [00:07<06:32,  1.91s/it]"
     ]
    },
    {
     "name": "stdout",
     "output_type": "stream",
     "text": [
      "\n",
      "image 1/1 C:\\Users\\admin\\.cache\\kagglehub\\datasets\\pavansanagapati\\images-dataset\\versions\\1\\data\\flowers\\0005.png: 512x512 14 objects, 1779.7ms\n",
      "Speed: 2.3ms preprocess, 1779.7ms inference, 8.0ms postprocess per image at shape (1, 3, 512, 512)\n"
     ]
    },
    {
     "name": "stderr",
     "output_type": "stream",
     "text": [
      "  2%|▏         | 5/210 [00:09<06:24,  1.87s/it]"
     ]
    },
    {
     "name": "stdout",
     "output_type": "stream",
     "text": [
      "\n",
      "image 1/1 C:\\Users\\admin\\.cache\\kagglehub\\datasets\\pavansanagapati\\images-dataset\\versions\\1\\data\\flowers\\0006.png: 512x512 18 objects, 1899.0ms\n",
      "Speed: 2.3ms preprocess, 1899.0ms inference, 8.6ms postprocess per image at shape (1, 3, 512, 512)\n"
     ]
    },
    {
     "name": "stderr",
     "output_type": "stream",
     "text": [
      "  3%|▎         | 6/210 [00:11<06:26,  1.90s/it]"
     ]
    },
    {
     "name": "stdout",
     "output_type": "stream",
     "text": [
      "\n",
      "image 1/1 C:\\Users\\admin\\.cache\\kagglehub\\datasets\\pavansanagapati\\images-dataset\\versions\\1\\data\\flowers\\0007.png: 512x512 10 objects, 1789.7ms\n",
      "Speed: 2.3ms preprocess, 1789.7ms inference, 5.9ms postprocess per image at shape (1, 3, 512, 512)\n"
     ]
    },
    {
     "name": "stderr",
     "output_type": "stream",
     "text": [
      "  3%|▎         | 7/210 [00:13<06:20,  1.87s/it]"
     ]
    },
    {
     "name": "stdout",
     "output_type": "stream",
     "text": [
      "\n",
      "image 1/1 C:\\Users\\admin\\.cache\\kagglehub\\datasets\\pavansanagapati\\images-dataset\\versions\\1\\data\\flowers\\0008.png: 512x512 18 objects, 1911.3ms\n",
      "Speed: 3.1ms preprocess, 1911.3ms inference, 10.7ms postprocess per image at shape (1, 3, 512, 512)\n"
     ]
    },
    {
     "name": "stderr",
     "output_type": "stream",
     "text": [
      "  4%|▍         | 8/210 [00:15<06:23,  1.90s/it]"
     ]
    },
    {
     "name": "stdout",
     "output_type": "stream",
     "text": [
      "\n",
      "image 1/1 C:\\Users\\admin\\.cache\\kagglehub\\datasets\\pavansanagapati\\images-dataset\\versions\\1\\data\\flowers\\0009.png: 512x512 28 objects, 1782.7ms\n",
      "Speed: 4.5ms preprocess, 1782.7ms inference, 13.2ms postprocess per image at shape (1, 3, 512, 512)\n"
     ]
    },
    {
     "name": "stderr",
     "output_type": "stream",
     "text": [
      "  4%|▍         | 9/210 [00:16<06:17,  1.88s/it]"
     ]
    },
    {
     "name": "stdout",
     "output_type": "stream",
     "text": [
      "\n",
      "image 1/1 C:\\Users\\admin\\.cache\\kagglehub\\datasets\\pavansanagapati\\images-dataset\\versions\\1\\data\\flowers\\0010.png: 512x512 16 objects, 1910.3ms\n",
      "Speed: 3.4ms preprocess, 1910.3ms inference, 8.9ms postprocess per image at shape (1, 3, 512, 512)\n"
     ]
    },
    {
     "name": "stderr",
     "output_type": "stream",
     "text": [
      "  5%|▍         | 10/210 [00:18<06:20,  1.90s/it]"
     ]
    },
    {
     "name": "stdout",
     "output_type": "stream",
     "text": [
      "\n",
      "image 1/1 C:\\Users\\admin\\.cache\\kagglehub\\datasets\\pavansanagapati\\images-dataset\\versions\\1\\data\\flowers\\0011.png: 512x512 14 objects, 1763.5ms\n",
      "Speed: 3.5ms preprocess, 1763.5ms inference, 8.0ms postprocess per image at shape (1, 3, 512, 512)\n"
     ]
    },
    {
     "name": "stderr",
     "output_type": "stream",
     "text": [
      "  5%|▌         | 11/210 [00:20<06:12,  1.87s/it]"
     ]
    },
    {
     "name": "stdout",
     "output_type": "stream",
     "text": [
      "\n",
      "image 1/1 C:\\Users\\admin\\.cache\\kagglehub\\datasets\\pavansanagapati\\images-dataset\\versions\\1\\data\\flowers\\0012.png: 512x512 24 objects, 1809.6ms\n",
      "Speed: 2.5ms preprocess, 1809.6ms inference, 11.0ms postprocess per image at shape (1, 3, 512, 512)\n"
     ]
    },
    {
     "name": "stderr",
     "output_type": "stream",
     "text": [
      "  6%|▌         | 12/210 [00:22<06:09,  1.87s/it]"
     ]
    },
    {
     "name": "stdout",
     "output_type": "stream",
     "text": [
      "\n",
      "image 1/1 C:\\Users\\admin\\.cache\\kagglehub\\datasets\\pavansanagapati\\images-dataset\\versions\\1\\data\\flowers\\0013.png: 512x512 17 objects, 1872.0ms\n",
      "Speed: 3.2ms preprocess, 1872.0ms inference, 8.4ms postprocess per image at shape (1, 3, 512, 512)\n"
     ]
    },
    {
     "name": "stderr",
     "output_type": "stream",
     "text": [
      "  6%|▌         | 13/210 [00:24<06:10,  1.88s/it]"
     ]
    },
    {
     "name": "stdout",
     "output_type": "stream",
     "text": [
      "\n",
      "image 1/1 C:\\Users\\admin\\.cache\\kagglehub\\datasets\\pavansanagapati\\images-dataset\\versions\\1\\data\\flowers\\0014.png: 512x512 5 objects, 1840.3ms\n",
      "Speed: 3.8ms preprocess, 1840.3ms inference, 3.7ms postprocess per image at shape (1, 3, 512, 512)\n"
     ]
    },
    {
     "name": "stderr",
     "output_type": "stream",
     "text": [
      "  7%|▋         | 14/210 [00:26<06:09,  1.88s/it]"
     ]
    },
    {
     "name": "stdout",
     "output_type": "stream",
     "text": [
      "\n",
      "image 1/1 C:\\Users\\admin\\.cache\\kagglehub\\datasets\\pavansanagapati\\images-dataset\\versions\\1\\data\\flowers\\0015.png: 512x512 6 objects, 1885.9ms\n",
      "Speed: 2.3ms preprocess, 1885.9ms inference, 4.7ms postprocess per image at shape (1, 3, 512, 512)\n"
     ]
    },
    {
     "name": "stderr",
     "output_type": "stream",
     "text": [
      "  7%|▋         | 15/210 [00:28<06:09,  1.89s/it]"
     ]
    },
    {
     "name": "stdout",
     "output_type": "stream",
     "text": [
      "\n",
      "image 1/1 C:\\Users\\admin\\.cache\\kagglehub\\datasets\\pavansanagapati\\images-dataset\\versions\\1\\data\\flowers\\0016.png: 512x512 6 objects, 1771.0ms\n",
      "Speed: 3.3ms preprocess, 1771.0ms inference, 5.4ms postprocess per image at shape (1, 3, 512, 512)\n"
     ]
    },
    {
     "name": "stderr",
     "output_type": "stream",
     "text": [
      "  8%|▊         | 16/210 [00:30<06:02,  1.87s/it]"
     ]
    },
    {
     "name": "stdout",
     "output_type": "stream",
     "text": [
      "\n",
      "image 1/1 C:\\Users\\admin\\.cache\\kagglehub\\datasets\\pavansanagapati\\images-dataset\\versions\\1\\data\\flowers\\0017.png: 512x512 17 objects, 1875.9ms\n",
      "Speed: 3.8ms preprocess, 1875.9ms inference, 9.2ms postprocess per image at shape (1, 3, 512, 512)\n"
     ]
    },
    {
     "name": "stderr",
     "output_type": "stream",
     "text": [
      "  8%|▊         | 17/210 [00:32<06:03,  1.88s/it]"
     ]
    },
    {
     "name": "stdout",
     "output_type": "stream",
     "text": [
      "\n",
      "image 1/1 C:\\Users\\admin\\.cache\\kagglehub\\datasets\\pavansanagapati\\images-dataset\\versions\\1\\data\\flowers\\0018.png: 512x512 18 objects, 1773.4ms\n",
      "Speed: 5.6ms preprocess, 1773.4ms inference, 9.3ms postprocess per image at shape (1, 3, 512, 512)\n"
     ]
    },
    {
     "name": "stderr",
     "output_type": "stream",
     "text": [
      "  9%|▊         | 18/210 [00:33<05:57,  1.86s/it]"
     ]
    },
    {
     "name": "stdout",
     "output_type": "stream",
     "text": [
      "\n",
      "image 1/1 C:\\Users\\admin\\.cache\\kagglehub\\datasets\\pavansanagapati\\images-dataset\\versions\\1\\data\\flowers\\0019.png: 512x512 15 objects, 1753.2ms\n",
      "Speed: 2.3ms preprocess, 1753.2ms inference, 7.4ms postprocess per image at shape (1, 3, 512, 512)\n"
     ]
    },
    {
     "name": "stderr",
     "output_type": "stream",
     "text": [
      "  9%|▉         | 19/210 [00:35<05:51,  1.84s/it]"
     ]
    },
    {
     "name": "stdout",
     "output_type": "stream",
     "text": [
      "\n",
      "image 1/1 C:\\Users\\admin\\.cache\\kagglehub\\datasets\\pavansanagapati\\images-dataset\\versions\\1\\data\\flowers\\0020.png: 512x512 5 objects, 1861.7ms\n",
      "Speed: 2.5ms preprocess, 1861.7ms inference, 3.6ms postprocess per image at shape (1, 3, 512, 512)\n"
     ]
    },
    {
     "name": "stderr",
     "output_type": "stream",
     "text": [
      " 10%|▉         | 20/210 [00:37<05:52,  1.86s/it]"
     ]
    },
    {
     "name": "stdout",
     "output_type": "stream",
     "text": [
      "\n",
      "image 1/1 C:\\Users\\admin\\.cache\\kagglehub\\datasets\\pavansanagapati\\images-dataset\\versions\\1\\data\\flowers\\0021.png: 512x512 15 objects, 1788.9ms\n",
      "Speed: 2.3ms preprocess, 1788.9ms inference, 8.1ms postprocess per image at shape (1, 3, 512, 512)\n"
     ]
    },
    {
     "name": "stderr",
     "output_type": "stream",
     "text": [
      " 10%|█         | 21/210 [00:39<05:49,  1.85s/it]"
     ]
    },
    {
     "name": "stdout",
     "output_type": "stream",
     "text": [
      "\n",
      "image 1/1 C:\\Users\\admin\\.cache\\kagglehub\\datasets\\pavansanagapati\\images-dataset\\versions\\1\\data\\flowers\\0022.png: 512x512 8 objects, 1886.9ms\n",
      "Speed: 2.9ms preprocess, 1886.9ms inference, 6.1ms postprocess per image at shape (1, 3, 512, 512)\n"
     ]
    },
    {
     "name": "stderr",
     "output_type": "stream",
     "text": [
      " 10%|█         | 22/210 [00:41<05:51,  1.87s/it]"
     ]
    },
    {
     "name": "stdout",
     "output_type": "stream",
     "text": [
      "\n",
      "image 1/1 C:\\Users\\admin\\.cache\\kagglehub\\datasets\\pavansanagapati\\images-dataset\\versions\\1\\data\\flowers\\0023.png: 512x512 9 objects, 1805.1ms\n",
      "Speed: 4.5ms preprocess, 1805.1ms inference, 5.7ms postprocess per image at shape (1, 3, 512, 512)\n"
     ]
    },
    {
     "name": "stderr",
     "output_type": "stream",
     "text": [
      " 11%|█         | 23/210 [00:43<05:48,  1.86s/it]"
     ]
    },
    {
     "name": "stdout",
     "output_type": "stream",
     "text": [
      "\n",
      "image 1/1 C:\\Users\\admin\\.cache\\kagglehub\\datasets\\pavansanagapati\\images-dataset\\versions\\1\\data\\flowers\\0024.png: 512x512 5 objects, 1865.4ms\n",
      "Speed: 3.5ms preprocess, 1865.4ms inference, 4.3ms postprocess per image at shape (1, 3, 512, 512)\n"
     ]
    },
    {
     "name": "stderr",
     "output_type": "stream",
     "text": [
      " 11%|█▏        | 24/210 [00:45<05:48,  1.87s/it]"
     ]
    },
    {
     "name": "stdout",
     "output_type": "stream",
     "text": [
      "\n",
      "image 1/1 C:\\Users\\admin\\.cache\\kagglehub\\datasets\\pavansanagapati\\images-dataset\\versions\\1\\data\\flowers\\0025.png: 512x512 8 objects, 1781.5ms\n",
      "Speed: 6.0ms preprocess, 1781.5ms inference, 6.3ms postprocess per image at shape (1, 3, 512, 512)\n"
     ]
    },
    {
     "name": "stderr",
     "output_type": "stream",
     "text": [
      " 12%|█▏        | 25/210 [00:46<05:43,  1.86s/it]"
     ]
    },
    {
     "name": "stdout",
     "output_type": "stream",
     "text": [
      "\n",
      "image 1/1 C:\\Users\\admin\\.cache\\kagglehub\\datasets\\pavansanagapati\\images-dataset\\versions\\1\\data\\flowers\\0026.png: 512x512 32 objects, 1775.0ms\n",
      "Speed: 2.2ms preprocess, 1775.0ms inference, 15.2ms postprocess per image at shape (1, 3, 512, 512)\n"
     ]
    },
    {
     "name": "stderr",
     "output_type": "stream",
     "text": [
      " 12%|█▏        | 26/210 [00:48<05:40,  1.85s/it]"
     ]
    },
    {
     "name": "stdout",
     "output_type": "stream",
     "text": [
      "\n",
      "image 1/1 C:\\Users\\admin\\.cache\\kagglehub\\datasets\\pavansanagapati\\images-dataset\\versions\\1\\data\\flowers\\0027.png: 512x512 15 objects, 1911.1ms\n",
      "Speed: 3.4ms preprocess, 1911.1ms inference, 8.7ms postprocess per image at shape (1, 3, 512, 512)\n"
     ]
    },
    {
     "name": "stderr",
     "output_type": "stream",
     "text": [
      " 13%|█▎        | 27/210 [00:50<05:43,  1.88s/it]"
     ]
    },
    {
     "name": "stdout",
     "output_type": "stream",
     "text": [
      "\n",
      "image 1/1 C:\\Users\\admin\\.cache\\kagglehub\\datasets\\pavansanagapati\\images-dataset\\versions\\1\\data\\flowers\\0028.png: 512x512 4 objects, 1776.5ms\n",
      "Speed: 2.0ms preprocess, 1776.5ms inference, 3.3ms postprocess per image at shape (1, 3, 512, 512)\n"
     ]
    },
    {
     "name": "stderr",
     "output_type": "stream",
     "text": [
      " 13%|█▎        | 28/210 [00:52<05:38,  1.86s/it]"
     ]
    },
    {
     "name": "stdout",
     "output_type": "stream",
     "text": [
      "\n",
      "image 1/1 C:\\Users\\admin\\.cache\\kagglehub\\datasets\\pavansanagapati\\images-dataset\\versions\\1\\data\\flowers\\0029.png: 512x512 9 objects, 1880.6ms\n",
      "Speed: 2.5ms preprocess, 1880.6ms inference, 5.0ms postprocess per image at shape (1, 3, 512, 512)\n"
     ]
    },
    {
     "name": "stderr",
     "output_type": "stream",
     "text": [
      " 14%|█▍        | 29/210 [00:54<05:39,  1.88s/it]"
     ]
    },
    {
     "name": "stdout",
     "output_type": "stream",
     "text": [
      "\n",
      "image 1/1 C:\\Users\\admin\\.cache\\kagglehub\\datasets\\pavansanagapati\\images-dataset\\versions\\1\\data\\flowers\\0030.png: 512x512 13 objects, 1833.6ms\n",
      "Speed: 2.8ms preprocess, 1833.6ms inference, 6.6ms postprocess per image at shape (1, 3, 512, 512)\n"
     ]
    },
    {
     "name": "stderr",
     "output_type": "stream",
     "text": [
      " 14%|█▍        | 30/210 [00:56<05:37,  1.88s/it]"
     ]
    },
    {
     "name": "stdout",
     "output_type": "stream",
     "text": [
      "\n",
      "image 1/1 C:\\Users\\admin\\.cache\\kagglehub\\datasets\\pavansanagapati\\images-dataset\\versions\\1\\data\\flowers\\0031.png: 512x512 25 objects, 1878.6ms\n",
      "Speed: 3.9ms preprocess, 1878.6ms inference, 13.8ms postprocess per image at shape (1, 3, 512, 512)\n"
     ]
    },
    {
     "name": "stderr",
     "output_type": "stream",
     "text": [
      " 15%|█▍        | 31/210 [00:58<05:39,  1.90s/it]"
     ]
    },
    {
     "name": "stdout",
     "output_type": "stream",
     "text": [
      "\n",
      "image 1/1 C:\\Users\\admin\\.cache\\kagglehub\\datasets\\pavansanagapati\\images-dataset\\versions\\1\\data\\flowers\\0032.png: 512x512 29 objects, 1759.7ms\n",
      "Speed: 4.7ms preprocess, 1759.7ms inference, 12.1ms postprocess per image at shape (1, 3, 512, 512)\n"
     ]
    },
    {
     "name": "stderr",
     "output_type": "stream",
     "text": [
      " 15%|█▌        | 32/210 [00:59<05:33,  1.87s/it]"
     ]
    },
    {
     "name": "stdout",
     "output_type": "stream",
     "text": [
      "\n",
      "image 1/1 C:\\Users\\admin\\.cache\\kagglehub\\datasets\\pavansanagapati\\images-dataset\\versions\\1\\data\\flowers\\0033.png: 512x512 27 objects, 1759.0ms\n",
      "Speed: 2.5ms preprocess, 1759.0ms inference, 11.0ms postprocess per image at shape (1, 3, 512, 512)\n"
     ]
    },
    {
     "name": "stderr",
     "output_type": "stream",
     "text": [
      " 16%|█▌        | 33/210 [01:01<05:27,  1.85s/it]"
     ]
    },
    {
     "name": "stdout",
     "output_type": "stream",
     "text": [
      "\n",
      "image 1/1 C:\\Users\\admin\\.cache\\kagglehub\\datasets\\pavansanagapati\\images-dataset\\versions\\1\\data\\flowers\\0034.png: 512x512 22 objects, 1880.9ms\n",
      "Speed: 3.0ms preprocess, 1880.9ms inference, 11.6ms postprocess per image at shape (1, 3, 512, 512)\n"
     ]
    },
    {
     "name": "stderr",
     "output_type": "stream",
     "text": [
      " 16%|█▌        | 34/210 [01:03<05:29,  1.87s/it]"
     ]
    },
    {
     "name": "stdout",
     "output_type": "stream",
     "text": [
      "\n",
      "image 1/1 C:\\Users\\admin\\.cache\\kagglehub\\datasets\\pavansanagapati\\images-dataset\\versions\\1\\data\\flowers\\0035.png: 512x512 19 objects, 1972.0ms\n",
      "Speed: 3.7ms preprocess, 1972.0ms inference, 13.5ms postprocess per image at shape (1, 3, 512, 512)\n"
     ]
    },
    {
     "name": "stderr",
     "output_type": "stream",
     "text": [
      " 17%|█▋        | 35/210 [01:05<05:36,  1.92s/it]"
     ]
    },
    {
     "name": "stdout",
     "output_type": "stream",
     "text": [
      "\n",
      "image 1/1 C:\\Users\\admin\\.cache\\kagglehub\\datasets\\pavansanagapati\\images-dataset\\versions\\1\\data\\flowers\\0036.png: 512x512 18 objects, 2221.7ms\n",
      "Speed: 5.4ms preprocess, 2221.7ms inference, 11.6ms postprocess per image at shape (1, 3, 512, 512)\n"
     ]
    },
    {
     "name": "stderr",
     "output_type": "stream",
     "text": [
      " 17%|█▋        | 36/210 [01:08<05:52,  2.03s/it]"
     ]
    },
    {
     "name": "stdout",
     "output_type": "stream",
     "text": [
      "\n",
      "image 1/1 C:\\Users\\admin\\.cache\\kagglehub\\datasets\\pavansanagapati\\images-dataset\\versions\\1\\data\\flowers\\0037.png: 512x512 27 objects, 2464.5ms\n",
      "Speed: 3.6ms preprocess, 2464.5ms inference, 14.1ms postprocess per image at shape (1, 3, 512, 512)\n"
     ]
    },
    {
     "name": "stderr",
     "output_type": "stream",
     "text": [
      " 18%|█▊        | 37/210 [01:10<06:16,  2.17s/it]"
     ]
    },
    {
     "name": "stdout",
     "output_type": "stream",
     "text": [
      "\n",
      "image 1/1 C:\\Users\\admin\\.cache\\kagglehub\\datasets\\pavansanagapati\\images-dataset\\versions\\1\\data\\flowers\\0038.png: 512x512 16 objects, 2950.4ms\n",
      "Speed: 3.1ms preprocess, 2950.4ms inference, 11.5ms postprocess per image at shape (1, 3, 512, 512)\n"
     ]
    },
    {
     "name": "stderr",
     "output_type": "stream",
     "text": [
      " 18%|█▊        | 38/210 [01:13<06:56,  2.42s/it]"
     ]
    },
    {
     "name": "stdout",
     "output_type": "stream",
     "text": [
      "\n",
      "image 1/1 C:\\Users\\admin\\.cache\\kagglehub\\datasets\\pavansanagapati\\images-dataset\\versions\\1\\data\\flowers\\0039.png: 512x512 21 objects, 2457.9ms\n",
      "Speed: 2.9ms preprocess, 2457.9ms inference, 17.4ms postprocess per image at shape (1, 3, 512, 512)\n"
     ]
    },
    {
     "name": "stderr",
     "output_type": "stream",
     "text": [
      " 19%|█▊        | 39/210 [01:16<06:59,  2.45s/it]"
     ]
    },
    {
     "name": "stdout",
     "output_type": "stream",
     "text": [
      "\n",
      "image 1/1 C:\\Users\\admin\\.cache\\kagglehub\\datasets\\pavansanagapati\\images-dataset\\versions\\1\\data\\flowers\\0040.png: 512x512 13 objects, 2228.8ms\n",
      "Speed: 5.5ms preprocess, 2228.8ms inference, 11.4ms postprocess per image at shape (1, 3, 512, 512)\n"
     ]
    },
    {
     "name": "stderr",
     "output_type": "stream",
     "text": [
      " 19%|█▉        | 40/210 [01:18<06:48,  2.40s/it]"
     ]
    },
    {
     "name": "stdout",
     "output_type": "stream",
     "text": [
      "\n",
      "image 1/1 C:\\Users\\admin\\.cache\\kagglehub\\datasets\\pavansanagapati\\images-dataset\\versions\\1\\data\\flowers\\0041.png: 512x512 17 objects, 2364.5ms\n",
      "Speed: 3.0ms preprocess, 2364.5ms inference, 9.9ms postprocess per image at shape (1, 3, 512, 512)\n"
     ]
    },
    {
     "name": "stderr",
     "output_type": "stream",
     "text": [
      " 20%|█▉        | 41/210 [01:20<06:46,  2.40s/it]"
     ]
    },
    {
     "name": "stdout",
     "output_type": "stream",
     "text": [
      "\n",
      "image 1/1 C:\\Users\\admin\\.cache\\kagglehub\\datasets\\pavansanagapati\\images-dataset\\versions\\1\\data\\flowers\\0042.png: 512x512 32 objects, 2891.1ms\n",
      "Speed: 2.7ms preprocess, 2891.1ms inference, 20.2ms postprocess per image at shape (1, 3, 512, 512)\n"
     ]
    },
    {
     "name": "stderr",
     "output_type": "stream",
     "text": [
      " 20%|██        | 42/210 [01:23<07:11,  2.57s/it]"
     ]
    },
    {
     "name": "stdout",
     "output_type": "stream",
     "text": [
      "\n",
      "image 1/1 C:\\Users\\admin\\.cache\\kagglehub\\datasets\\pavansanagapati\\images-dataset\\versions\\1\\data\\flowers\\0043.png: 512x512 11 objects, 2414.1ms\n",
      "Speed: 11.1ms preprocess, 2414.1ms inference, 6.0ms postprocess per image at shape (1, 3, 512, 512)\n"
     ]
    },
    {
     "name": "stderr",
     "output_type": "stream",
     "text": [
      " 20%|██        | 43/210 [01:26<07:04,  2.54s/it]"
     ]
    },
    {
     "name": "stdout",
     "output_type": "stream",
     "text": [
      "\n",
      "image 1/1 C:\\Users\\admin\\.cache\\kagglehub\\datasets\\pavansanagapati\\images-dataset\\versions\\1\\data\\flowers\\0044.png: 512x512 28 objects, 2163.1ms\n",
      "Speed: 5.1ms preprocess, 2163.1ms inference, 14.8ms postprocess per image at shape (1, 3, 512, 512)\n"
     ]
    },
    {
     "name": "stderr",
     "output_type": "stream",
     "text": [
      " 21%|██        | 44/210 [01:28<06:45,  2.44s/it]"
     ]
    },
    {
     "name": "stdout",
     "output_type": "stream",
     "text": [
      "\n",
      "image 1/1 C:\\Users\\admin\\.cache\\kagglehub\\datasets\\pavansanagapati\\images-dataset\\versions\\1\\data\\flowers\\0045.png: 512x512 5 objects, 2412.8ms\n",
      "Speed: 5.8ms preprocess, 2412.8ms inference, 4.1ms postprocess per image at shape (1, 3, 512, 512)\n"
     ]
    },
    {
     "name": "stderr",
     "output_type": "stream",
     "text": [
      " 21%|██▏       | 45/210 [01:30<06:44,  2.45s/it]"
     ]
    },
    {
     "name": "stdout",
     "output_type": "stream",
     "text": [
      "\n",
      "image 1/1 C:\\Users\\admin\\.cache\\kagglehub\\datasets\\pavansanagapati\\images-dataset\\versions\\1\\data\\flowers\\0046.png: 512x512 5 objects, 2260.0ms\n",
      "Speed: 3.3ms preprocess, 2260.0ms inference, 5.4ms postprocess per image at shape (1, 3, 512, 512)\n"
     ]
    },
    {
     "name": "stderr",
     "output_type": "stream",
     "text": [
      " 22%|██▏       | 46/210 [01:33<06:34,  2.41s/it]"
     ]
    },
    {
     "name": "stdout",
     "output_type": "stream",
     "text": [
      "\n",
      "image 1/1 C:\\Users\\admin\\.cache\\kagglehub\\datasets\\pavansanagapati\\images-dataset\\versions\\1\\data\\flowers\\0047.png: 512x512 10 objects, 2051.8ms\n",
      "Speed: 2.7ms preprocess, 2051.8ms inference, 6.5ms postprocess per image at shape (1, 3, 512, 512)\n"
     ]
    },
    {
     "name": "stderr",
     "output_type": "stream",
     "text": [
      " 22%|██▏       | 47/210 [01:35<06:16,  2.31s/it]"
     ]
    },
    {
     "name": "stdout",
     "output_type": "stream",
     "text": [
      "\n",
      "image 1/1 C:\\Users\\admin\\.cache\\kagglehub\\datasets\\pavansanagapati\\images-dataset\\versions\\1\\data\\flowers\\0048.png: 512x512 20 objects, 1929.7ms\n",
      "Speed: 2.1ms preprocess, 1929.7ms inference, 10.9ms postprocess per image at shape (1, 3, 512, 512)\n"
     ]
    },
    {
     "name": "stderr",
     "output_type": "stream",
     "text": [
      " 23%|██▎       | 48/210 [01:37<05:58,  2.21s/it]"
     ]
    },
    {
     "name": "stdout",
     "output_type": "stream",
     "text": [
      "\n",
      "image 1/1 C:\\Users\\admin\\.cache\\kagglehub\\datasets\\pavansanagapati\\images-dataset\\versions\\1\\data\\flowers\\0049.png: 512x512 8 objects, 1752.8ms\n",
      "Speed: 3.8ms preprocess, 1752.8ms inference, 5.0ms postprocess per image at shape (1, 3, 512, 512)\n"
     ]
    },
    {
     "name": "stderr",
     "output_type": "stream",
     "text": [
      " 23%|██▎       | 49/210 [01:39<05:35,  2.08s/it]"
     ]
    },
    {
     "name": "stdout",
     "output_type": "stream",
     "text": [
      "\n",
      "image 1/1 C:\\Users\\admin\\.cache\\kagglehub\\datasets\\pavansanagapati\\images-dataset\\versions\\1\\data\\flowers\\0050.png: 512x512 7 objects, 2028.1ms\n",
      "Speed: 1.7ms preprocess, 2028.1ms inference, 5.8ms postprocess per image at shape (1, 3, 512, 512)\n"
     ]
    },
    {
     "name": "stderr",
     "output_type": "stream",
     "text": [
      " 24%|██▍       | 50/210 [01:41<05:32,  2.08s/it]"
     ]
    },
    {
     "name": "stdout",
     "output_type": "stream",
     "text": [
      "\n",
      "image 1/1 C:\\Users\\admin\\.cache\\kagglehub\\datasets\\pavansanagapati\\images-dataset\\versions\\1\\data\\flowers\\0051.png: 512x512 25 objects, 1993.1ms\n",
      "Speed: 4.3ms preprocess, 1993.1ms inference, 11.7ms postprocess per image at shape (1, 3, 512, 512)\n"
     ]
    },
    {
     "name": "stderr",
     "output_type": "stream",
     "text": [
      " 24%|██▍       | 51/210 [01:43<05:28,  2.07s/it]"
     ]
    },
    {
     "name": "stdout",
     "output_type": "stream",
     "text": [
      "\n",
      "image 1/1 C:\\Users\\admin\\.cache\\kagglehub\\datasets\\pavansanagapati\\images-dataset\\versions\\1\\data\\flowers\\0052.png: 512x512 8 objects, 1787.5ms\n",
      "Speed: 2.2ms preprocess, 1787.5ms inference, 5.1ms postprocess per image at shape (1, 3, 512, 512)\n"
     ]
    },
    {
     "name": "stderr",
     "output_type": "stream",
     "text": [
      " 25%|██▍       | 52/210 [01:44<05:14,  1.99s/it]"
     ]
    },
    {
     "name": "stdout",
     "output_type": "stream",
     "text": [
      "\n",
      "image 1/1 C:\\Users\\admin\\.cache\\kagglehub\\datasets\\pavansanagapati\\images-dataset\\versions\\1\\data\\flowers\\0053.png: 512x512 9 objects, 1880.9ms\n",
      "Speed: 9.2ms preprocess, 1880.9ms inference, 5.4ms postprocess per image at shape (1, 3, 512, 512)\n"
     ]
    },
    {
     "name": "stderr",
     "output_type": "stream",
     "text": [
      " 25%|██▌       | 53/210 [01:46<05:09,  1.97s/it]"
     ]
    },
    {
     "name": "stdout",
     "output_type": "stream",
     "text": [
      "\n",
      "image 1/1 C:\\Users\\admin\\.cache\\kagglehub\\datasets\\pavansanagapati\\images-dataset\\versions\\1\\data\\flowers\\0054.png: 512x512 13 objects, 1779.4ms\n",
      "Speed: 1.9ms preprocess, 1779.4ms inference, 7.1ms postprocess per image at shape (1, 3, 512, 512)\n"
     ]
    },
    {
     "name": "stderr",
     "output_type": "stream",
     "text": [
      " 26%|██▌       | 54/210 [01:48<05:00,  1.93s/it]"
     ]
    },
    {
     "name": "stdout",
     "output_type": "stream",
     "text": [
      "\n",
      "image 1/1 C:\\Users\\admin\\.cache\\kagglehub\\datasets\\pavansanagapati\\images-dataset\\versions\\1\\data\\flowers\\0055.png: 512x512 27 objects, 1858.5ms\n",
      "Speed: 2.2ms preprocess, 1858.5ms inference, 15.6ms postprocess per image at shape (1, 3, 512, 512)\n"
     ]
    },
    {
     "name": "stderr",
     "output_type": "stream",
     "text": [
      " 26%|██▌       | 55/210 [01:50<04:58,  1.92s/it]"
     ]
    },
    {
     "name": "stdout",
     "output_type": "stream",
     "text": [
      "\n",
      "image 1/1 C:\\Users\\admin\\.cache\\kagglehub\\datasets\\pavansanagapati\\images-dataset\\versions\\1\\data\\flowers\\0056.png: 512x512 31 objects, 1770.2ms\n",
      "Speed: 2.6ms preprocess, 1770.2ms inference, 13.8ms postprocess per image at shape (1, 3, 512, 512)\n"
     ]
    },
    {
     "name": "stderr",
     "output_type": "stream",
     "text": [
      " 27%|██▋       | 56/210 [01:52<04:51,  1.89s/it]"
     ]
    },
    {
     "name": "stdout",
     "output_type": "stream",
     "text": [
      "\n",
      "image 1/1 C:\\Users\\admin\\.cache\\kagglehub\\datasets\\pavansanagapati\\images-dataset\\versions\\1\\data\\flowers\\0057.png: 512x512 12 objects, 1741.2ms\n",
      "Speed: 3.3ms preprocess, 1741.2ms inference, 6.5ms postprocess per image at shape (1, 3, 512, 512)\n"
     ]
    },
    {
     "name": "stderr",
     "output_type": "stream",
     "text": [
      " 27%|██▋       | 57/210 [01:54<04:44,  1.86s/it]"
     ]
    },
    {
     "name": "stdout",
     "output_type": "stream",
     "text": [
      "\n",
      "image 1/1 C:\\Users\\admin\\.cache\\kagglehub\\datasets\\pavansanagapati\\images-dataset\\versions\\1\\data\\flowers\\0058.png: 512x512 24 objects, 1871.6ms\n",
      "Speed: 2.0ms preprocess, 1871.6ms inference, 10.6ms postprocess per image at shape (1, 3, 512, 512)\n"
     ]
    },
    {
     "name": "stderr",
     "output_type": "stream",
     "text": [
      " 28%|██▊       | 58/210 [01:56<04:45,  1.88s/it]"
     ]
    },
    {
     "name": "stdout",
     "output_type": "stream",
     "text": [
      "\n",
      "image 1/1 C:\\Users\\admin\\.cache\\kagglehub\\datasets\\pavansanagapati\\images-dataset\\versions\\1\\data\\flowers\\0059.png: 512x512 17 objects, 1795.2ms\n",
      "Speed: 2.8ms preprocess, 1795.2ms inference, 11.5ms postprocess per image at shape (1, 3, 512, 512)\n"
     ]
    },
    {
     "name": "stderr",
     "output_type": "stream",
     "text": [
      " 28%|██▊       | 59/210 [01:57<04:42,  1.87s/it]"
     ]
    },
    {
     "name": "stdout",
     "output_type": "stream",
     "text": [
      "\n",
      "image 1/1 C:\\Users\\admin\\.cache\\kagglehub\\datasets\\pavansanagapati\\images-dataset\\versions\\1\\data\\flowers\\0060.png: 512x512 14 objects, 1949.2ms\n",
      "Speed: 2.1ms preprocess, 1949.2ms inference, 8.8ms postprocess per image at shape (1, 3, 512, 512)\n"
     ]
    },
    {
     "name": "stderr",
     "output_type": "stream",
     "text": [
      " 29%|██▊       | 60/210 [01:59<04:45,  1.90s/it]"
     ]
    },
    {
     "name": "stdout",
     "output_type": "stream",
     "text": [
      "\n",
      "image 1/1 C:\\Users\\admin\\.cache\\kagglehub\\datasets\\pavansanagapati\\images-dataset\\versions\\1\\data\\flowers\\0061.png: 512x512 18 objects, 1984.4ms\n",
      "Speed: 7.9ms preprocess, 1984.4ms inference, 13.6ms postprocess per image at shape (1, 3, 512, 512)\n"
     ]
    },
    {
     "name": "stderr",
     "output_type": "stream",
     "text": [
      " 29%|██▉       | 61/210 [02:02<04:50,  1.95s/it]"
     ]
    },
    {
     "name": "stdout",
     "output_type": "stream",
     "text": [
      "\n",
      "image 1/1 C:\\Users\\admin\\.cache\\kagglehub\\datasets\\pavansanagapati\\images-dataset\\versions\\1\\data\\flowers\\0062.png: 512x512 16 objects, 1873.8ms\n",
      "Speed: 2.3ms preprocess, 1873.8ms inference, 7.6ms postprocess per image at shape (1, 3, 512, 512)\n"
     ]
    },
    {
     "name": "stderr",
     "output_type": "stream",
     "text": [
      " 30%|██▉       | 62/210 [02:03<04:47,  1.94s/it]"
     ]
    },
    {
     "name": "stdout",
     "output_type": "stream",
     "text": [
      "\n",
      "image 1/1 C:\\Users\\admin\\.cache\\kagglehub\\datasets\\pavansanagapati\\images-dataset\\versions\\1\\data\\flowers\\0063.png: 512x512 7 objects, 2056.3ms\n",
      "Speed: 4.0ms preprocess, 2056.3ms inference, 4.8ms postprocess per image at shape (1, 3, 512, 512)\n"
     ]
    },
    {
     "name": "stderr",
     "output_type": "stream",
     "text": [
      " 30%|███       | 63/210 [02:06<04:51,  1.99s/it]"
     ]
    },
    {
     "name": "stdout",
     "output_type": "stream",
     "text": [
      "\n",
      "image 1/1 C:\\Users\\admin\\.cache\\kagglehub\\datasets\\pavansanagapati\\images-dataset\\versions\\1\\data\\flowers\\0064.png: 512x512 16 objects, 1806.0ms\n",
      "Speed: 2.4ms preprocess, 1806.0ms inference, 8.9ms postprocess per image at shape (1, 3, 512, 512)\n"
     ]
    },
    {
     "name": "stderr",
     "output_type": "stream",
     "text": [
      " 30%|███       | 64/210 [02:07<04:43,  1.94s/it]"
     ]
    },
    {
     "name": "stdout",
     "output_type": "stream",
     "text": [
      "\n",
      "image 1/1 C:\\Users\\admin\\.cache\\kagglehub\\datasets\\pavansanagapati\\images-dataset\\versions\\1\\data\\flowers\\0065.png: 512x512 9 objects, 1879.5ms\n",
      "Speed: 4.0ms preprocess, 1879.5ms inference, 5.5ms postprocess per image at shape (1, 3, 512, 512)\n"
     ]
    },
    {
     "name": "stderr",
     "output_type": "stream",
     "text": [
      " 31%|███       | 65/210 [02:09<04:40,  1.94s/it]"
     ]
    },
    {
     "name": "stdout",
     "output_type": "stream",
     "text": [
      "\n",
      "image 1/1 C:\\Users\\admin\\.cache\\kagglehub\\datasets\\pavansanagapati\\images-dataset\\versions\\1\\data\\flowers\\0066.png: 512x512 6 objects, 1831.8ms\n",
      "Speed: 2.2ms preprocess, 1831.8ms inference, 4.9ms postprocess per image at shape (1, 3, 512, 512)\n"
     ]
    },
    {
     "name": "stderr",
     "output_type": "stream",
     "text": [
      " 31%|███▏      | 66/210 [02:11<04:35,  1.91s/it]"
     ]
    },
    {
     "name": "stdout",
     "output_type": "stream",
     "text": [
      "\n",
      "image 1/1 C:\\Users\\admin\\.cache\\kagglehub\\datasets\\pavansanagapati\\images-dataset\\versions\\1\\data\\flowers\\0067.png: 512x512 25 objects, 1852.5ms\n",
      "Speed: 2.2ms preprocess, 1852.5ms inference, 12.2ms postprocess per image at shape (1, 3, 512, 512)\n"
     ]
    },
    {
     "name": "stderr",
     "output_type": "stream",
     "text": [
      " 32%|███▏      | 67/210 [02:13<04:33,  1.91s/it]"
     ]
    },
    {
     "name": "stdout",
     "output_type": "stream",
     "text": [
      "\n",
      "image 1/1 C:\\Users\\admin\\.cache\\kagglehub\\datasets\\pavansanagapati\\images-dataset\\versions\\1\\data\\flowers\\0068.png: 512x512 21 objects, 1748.0ms\n",
      "Speed: 2.6ms preprocess, 1748.0ms inference, 10.5ms postprocess per image at shape (1, 3, 512, 512)\n"
     ]
    },
    {
     "name": "stderr",
     "output_type": "stream",
     "text": [
      " 32%|███▏      | 68/210 [02:15<04:26,  1.87s/it]"
     ]
    },
    {
     "name": "stdout",
     "output_type": "stream",
     "text": [
      "\n",
      "image 1/1 C:\\Users\\admin\\.cache\\kagglehub\\datasets\\pavansanagapati\\images-dataset\\versions\\1\\data\\flowers\\0069.png: 512x512 11 objects, 1867.1ms\n",
      "Speed: 3.0ms preprocess, 1867.1ms inference, 6.2ms postprocess per image at shape (1, 3, 512, 512)\n"
     ]
    },
    {
     "name": "stderr",
     "output_type": "stream",
     "text": [
      " 33%|███▎      | 69/210 [02:17<04:25,  1.88s/it]"
     ]
    },
    {
     "name": "stdout",
     "output_type": "stream",
     "text": [
      "\n",
      "image 1/1 C:\\Users\\admin\\.cache\\kagglehub\\datasets\\pavansanagapati\\images-dataset\\versions\\1\\data\\flowers\\0070.png: 512x512 3 objects, 1769.0ms\n",
      "Speed: 2.6ms preprocess, 1769.0ms inference, 3.3ms postprocess per image at shape (1, 3, 512, 512)\n"
     ]
    },
    {
     "name": "stderr",
     "output_type": "stream",
     "text": [
      " 33%|███▎      | 70/210 [02:19<04:20,  1.86s/it]"
     ]
    },
    {
     "name": "stdout",
     "output_type": "stream",
     "text": [
      "\n",
      "image 1/1 C:\\Users\\admin\\.cache\\kagglehub\\datasets\\pavansanagapati\\images-dataset\\versions\\1\\data\\flowers\\0071.png: 512x512 11 objects, 1833.7ms\n",
      "Speed: 2.7ms preprocess, 1833.7ms inference, 6.8ms postprocess per image at shape (1, 3, 512, 512)\n"
     ]
    },
    {
     "name": "stderr",
     "output_type": "stream",
     "text": [
      " 34%|███▍      | 71/210 [02:20<04:18,  1.86s/it]"
     ]
    },
    {
     "name": "stdout",
     "output_type": "stream",
     "text": [
      "\n",
      "image 1/1 C:\\Users\\admin\\.cache\\kagglehub\\datasets\\pavansanagapati\\images-dataset\\versions\\1\\data\\flowers\\0072.png: 512x512 16 objects, 1793.7ms\n",
      "Speed: 2.7ms preprocess, 1793.7ms inference, 7.8ms postprocess per image at shape (1, 3, 512, 512)\n"
     ]
    },
    {
     "name": "stderr",
     "output_type": "stream",
     "text": [
      " 34%|███▍      | 72/210 [02:22<04:15,  1.85s/it]"
     ]
    },
    {
     "name": "stdout",
     "output_type": "stream",
     "text": [
      "\n",
      "image 1/1 C:\\Users\\admin\\.cache\\kagglehub\\datasets\\pavansanagapati\\images-dataset\\versions\\1\\data\\flowers\\0073.png: 512x512 11 objects, 1859.0ms\n",
      "Speed: 3.5ms preprocess, 1859.0ms inference, 6.8ms postprocess per image at shape (1, 3, 512, 512)\n"
     ]
    },
    {
     "name": "stderr",
     "output_type": "stream",
     "text": [
      " 35%|███▍      | 73/210 [02:24<04:15,  1.87s/it]"
     ]
    },
    {
     "name": "stdout",
     "output_type": "stream",
     "text": [
      "\n",
      "image 1/1 C:\\Users\\admin\\.cache\\kagglehub\\datasets\\pavansanagapati\\images-dataset\\versions\\1\\data\\flowers\\0074.png: 512x512 16 objects, 1753.5ms\n",
      "Speed: 2.6ms preprocess, 1753.5ms inference, 8.0ms postprocess per image at shape (1, 3, 512, 512)\n"
     ]
    },
    {
     "name": "stderr",
     "output_type": "stream",
     "text": [
      " 35%|███▌      | 74/210 [02:26<04:10,  1.84s/it]"
     ]
    },
    {
     "name": "stdout",
     "output_type": "stream",
     "text": [
      "\n",
      "image 1/1 C:\\Users\\admin\\.cache\\kagglehub\\datasets\\pavansanagapati\\images-dataset\\versions\\1\\data\\flowers\\0075.png: 512x512 6 objects, 1883.7ms\n",
      "Speed: 2.3ms preprocess, 1883.7ms inference, 4.3ms postprocess per image at shape (1, 3, 512, 512)\n"
     ]
    },
    {
     "name": "stderr",
     "output_type": "stream",
     "text": [
      " 36%|███▌      | 75/210 [02:28<04:11,  1.87s/it]"
     ]
    },
    {
     "name": "stdout",
     "output_type": "stream",
     "text": [
      "\n",
      "image 1/1 C:\\Users\\admin\\.cache\\kagglehub\\datasets\\pavansanagapati\\images-dataset\\versions\\1\\data\\flowers\\0076.png: 512x512 10 objects, 2042.9ms\n",
      "Speed: 2.1ms preprocess, 2042.9ms inference, 6.2ms postprocess per image at shape (1, 3, 512, 512)\n"
     ]
    },
    {
     "name": "stderr",
     "output_type": "stream",
     "text": [
      " 36%|███▌      | 76/210 [02:30<04:18,  1.93s/it]"
     ]
    },
    {
     "name": "stdout",
     "output_type": "stream",
     "text": [
      "\n",
      "image 1/1 C:\\Users\\admin\\.cache\\kagglehub\\datasets\\pavansanagapati\\images-dataset\\versions\\1\\data\\flowers\\0077.png: 512x512 16 objects, 1878.8ms\n",
      "Speed: 2.0ms preprocess, 1878.8ms inference, 9.7ms postprocess per image at shape (1, 3, 512, 512)\n"
     ]
    },
    {
     "name": "stderr",
     "output_type": "stream",
     "text": [
      " 37%|███▋      | 77/210 [02:32<04:16,  1.93s/it]"
     ]
    },
    {
     "name": "stdout",
     "output_type": "stream",
     "text": [
      "\n",
      "image 1/1 C:\\Users\\admin\\.cache\\kagglehub\\datasets\\pavansanagapati\\images-dataset\\versions\\1\\data\\flowers\\0078.png: 512x512 13 objects, 1924.0ms\n",
      "Speed: 4.0ms preprocess, 1924.0ms inference, 8.2ms postprocess per image at shape (1, 3, 512, 512)\n"
     ]
    },
    {
     "name": "stderr",
     "output_type": "stream",
     "text": [
      " 37%|███▋      | 78/210 [02:34<04:16,  1.94s/it]"
     ]
    },
    {
     "name": "stdout",
     "output_type": "stream",
     "text": [
      "\n",
      "image 1/1 C:\\Users\\admin\\.cache\\kagglehub\\datasets\\pavansanagapati\\images-dataset\\versions\\1\\data\\flowers\\0079.png: 512x512 10 objects, 1889.6ms\n",
      "Speed: 2.6ms preprocess, 1889.6ms inference, 6.0ms postprocess per image at shape (1, 3, 512, 512)\n"
     ]
    },
    {
     "name": "stderr",
     "output_type": "stream",
     "text": [
      " 38%|███▊      | 79/210 [02:36<04:13,  1.94s/it]"
     ]
    },
    {
     "name": "stdout",
     "output_type": "stream",
     "text": [
      "\n",
      "image 1/1 C:\\Users\\admin\\.cache\\kagglehub\\datasets\\pavansanagapati\\images-dataset\\versions\\1\\data\\flowers\\0080.png: 512x512 14 objects, 1914.8ms\n",
      "Speed: 2.1ms preprocess, 1914.8ms inference, 7.7ms postprocess per image at shape (1, 3, 512, 512)\n"
     ]
    },
    {
     "name": "stderr",
     "output_type": "stream",
     "text": [
      " 38%|███▊      | 80/210 [02:38<04:12,  1.94s/it]"
     ]
    },
    {
     "name": "stdout",
     "output_type": "stream",
     "text": [
      "\n",
      "image 1/1 C:\\Users\\admin\\.cache\\kagglehub\\datasets\\pavansanagapati\\images-dataset\\versions\\1\\data\\flowers\\0081.png: 512x512 21 objects, 1877.2ms\n",
      "Speed: 5.8ms preprocess, 1877.2ms inference, 10.5ms postprocess per image at shape (1, 3, 512, 512)\n"
     ]
    },
    {
     "name": "stderr",
     "output_type": "stream",
     "text": [
      " 39%|███▊      | 81/210 [02:40<04:09,  1.94s/it]"
     ]
    },
    {
     "name": "stdout",
     "output_type": "stream",
     "text": [
      "\n",
      "image 1/1 C:\\Users\\admin\\.cache\\kagglehub\\datasets\\pavansanagapati\\images-dataset\\versions\\1\\data\\flowers\\0082.png: 512x512 8 objects, 1972.7ms\n",
      "Speed: 2.6ms preprocess, 1972.7ms inference, 4.7ms postprocess per image at shape (1, 3, 512, 512)\n"
     ]
    },
    {
     "name": "stderr",
     "output_type": "stream",
     "text": [
      " 39%|███▉      | 82/210 [02:42<04:10,  1.96s/it]"
     ]
    },
    {
     "name": "stdout",
     "output_type": "stream",
     "text": [
      "\n",
      "image 1/1 C:\\Users\\admin\\.cache\\kagglehub\\datasets\\pavansanagapati\\images-dataset\\versions\\1\\data\\flowers\\0083.png: 512x512 11 objects, 1876.5ms\n",
      "Speed: 2.3ms preprocess, 1876.5ms inference, 6.5ms postprocess per image at shape (1, 3, 512, 512)\n"
     ]
    },
    {
     "name": "stderr",
     "output_type": "stream",
     "text": [
      " 40%|███▉      | 83/210 [02:44<04:07,  1.95s/it]"
     ]
    },
    {
     "name": "stdout",
     "output_type": "stream",
     "text": [
      "\n",
      "image 1/1 C:\\Users\\admin\\.cache\\kagglehub\\datasets\\pavansanagapati\\images-dataset\\versions\\1\\data\\flowers\\0084.png: 512x512 27 objects, 1964.3ms\n",
      "Speed: 3.1ms preprocess, 1964.3ms inference, 12.1ms postprocess per image at shape (1, 3, 512, 512)\n"
     ]
    },
    {
     "name": "stderr",
     "output_type": "stream",
     "text": [
      " 40%|████      | 84/210 [02:46<04:07,  1.97s/it]"
     ]
    },
    {
     "name": "stdout",
     "output_type": "stream",
     "text": [
      "\n",
      "image 1/1 C:\\Users\\admin\\.cache\\kagglehub\\datasets\\pavansanagapati\\images-dataset\\versions\\1\\data\\flowers\\0085.png: 512x512 28 objects, 1800.8ms\n",
      "Speed: 2.7ms preprocess, 1800.8ms inference, 12.1ms postprocess per image at shape (1, 3, 512, 512)\n"
     ]
    },
    {
     "name": "stderr",
     "output_type": "stream",
     "text": [
      " 40%|████      | 85/210 [02:47<04:01,  1.93s/it]"
     ]
    },
    {
     "name": "stdout",
     "output_type": "stream",
     "text": [
      "\n",
      "image 1/1 C:\\Users\\admin\\.cache\\kagglehub\\datasets\\pavansanagapati\\images-dataset\\versions\\1\\data\\flowers\\0086.png: 512x512 16 objects, 2151.8ms\n",
      "Speed: 2.8ms preprocess, 2151.8ms inference, 12.7ms postprocess per image at shape (1, 3, 512, 512)\n"
     ]
    },
    {
     "name": "stderr",
     "output_type": "stream",
     "text": [
      " 41%|████      | 86/210 [02:50<04:09,  2.01s/it]"
     ]
    },
    {
     "name": "stdout",
     "output_type": "stream",
     "text": [
      "\n",
      "image 1/1 C:\\Users\\admin\\.cache\\kagglehub\\datasets\\pavansanagapati\\images-dataset\\versions\\1\\data\\flowers\\0087.png: 512x512 17 objects, 2069.9ms\n",
      "Speed: 7.9ms preprocess, 2069.9ms inference, 8.3ms postprocess per image at shape (1, 3, 512, 512)\n"
     ]
    },
    {
     "name": "stderr",
     "output_type": "stream",
     "text": [
      " 41%|████▏     | 87/210 [02:52<04:11,  2.04s/it]"
     ]
    },
    {
     "name": "stdout",
     "output_type": "stream",
     "text": [
      "\n",
      "image 1/1 C:\\Users\\admin\\.cache\\kagglehub\\datasets\\pavansanagapati\\images-dataset\\versions\\1\\data\\flowers\\0088.png: 512x512 8 objects, 1916.1ms\n",
      "Speed: 2.5ms preprocess, 1916.1ms inference, 9.4ms postprocess per image at shape (1, 3, 512, 512)\n"
     ]
    },
    {
     "name": "stderr",
     "output_type": "stream",
     "text": [
      " 42%|████▏     | 88/210 [02:54<04:06,  2.02s/it]"
     ]
    },
    {
     "name": "stdout",
     "output_type": "stream",
     "text": [
      "\n",
      "image 1/1 C:\\Users\\admin\\.cache\\kagglehub\\datasets\\pavansanagapati\\images-dataset\\versions\\1\\data\\flowers\\0089.png: 512x512 6 objects, 1762.5ms\n",
      "Speed: 7.7ms preprocess, 1762.5ms inference, 4.2ms postprocess per image at shape (1, 3, 512, 512)\n"
     ]
    },
    {
     "name": "stderr",
     "output_type": "stream",
     "text": [
      " 42%|████▏     | 89/210 [02:56<03:57,  1.96s/it]"
     ]
    },
    {
     "name": "stdout",
     "output_type": "stream",
     "text": [
      "\n",
      "image 1/1 C:\\Users\\admin\\.cache\\kagglehub\\datasets\\pavansanagapati\\images-dataset\\versions\\1\\data\\flowers\\0090.png: 512x512 10 objects, 2027.5ms\n",
      "Speed: 2.4ms preprocess, 2027.5ms inference, 5.2ms postprocess per image at shape (1, 3, 512, 512)\n"
     ]
    },
    {
     "name": "stderr",
     "output_type": "stream",
     "text": [
      " 43%|████▎     | 90/210 [02:58<03:58,  1.99s/it]"
     ]
    },
    {
     "name": "stdout",
     "output_type": "stream",
     "text": [
      "\n",
      "image 1/1 C:\\Users\\admin\\.cache\\kagglehub\\datasets\\pavansanagapati\\images-dataset\\versions\\1\\data\\flowers\\0091.png: 512x512 5 objects, 1820.5ms\n",
      "Speed: 2.0ms preprocess, 1820.5ms inference, 3.7ms postprocess per image at shape (1, 3, 512, 512)\n"
     ]
    },
    {
     "name": "stderr",
     "output_type": "stream",
     "text": [
      " 43%|████▎     | 91/210 [02:59<03:52,  1.95s/it]"
     ]
    },
    {
     "name": "stdout",
     "output_type": "stream",
     "text": [
      "\n",
      "image 1/1 C:\\Users\\admin\\.cache\\kagglehub\\datasets\\pavansanagapati\\images-dataset\\versions\\1\\data\\flowers\\0092.png: 512x512 16 objects, 1945.1ms\n",
      "Speed: 2.7ms preprocess, 1945.1ms inference, 7.7ms postprocess per image at shape (1, 3, 512, 512)\n"
     ]
    },
    {
     "name": "stderr",
     "output_type": "stream",
     "text": [
      " 44%|████▍     | 92/210 [03:01<03:51,  1.96s/it]"
     ]
    },
    {
     "name": "stdout",
     "output_type": "stream",
     "text": [
      "\n",
      "image 1/1 C:\\Users\\admin\\.cache\\kagglehub\\datasets\\pavansanagapati\\images-dataset\\versions\\1\\data\\flowers\\0093.png: 512x512 14 objects, 1786.2ms\n",
      "Speed: 2.6ms preprocess, 1786.2ms inference, 8.0ms postprocess per image at shape (1, 3, 512, 512)\n"
     ]
    },
    {
     "name": "stderr",
     "output_type": "stream",
     "text": [
      " 44%|████▍     | 93/210 [03:03<03:45,  1.93s/it]"
     ]
    },
    {
     "name": "stdout",
     "output_type": "stream",
     "text": [
      "\n",
      "image 1/1 C:\\Users\\admin\\.cache\\kagglehub\\datasets\\pavansanagapati\\images-dataset\\versions\\1\\data\\flowers\\0094.png: 512x512 12 objects, 1978.6ms\n",
      "Speed: 3.4ms preprocess, 1978.6ms inference, 5.7ms postprocess per image at shape (1, 3, 512, 512)\n"
     ]
    },
    {
     "name": "stderr",
     "output_type": "stream",
     "text": [
      " 45%|████▍     | 94/210 [03:05<03:46,  1.95s/it]"
     ]
    },
    {
     "name": "stdout",
     "output_type": "stream",
     "text": [
      "\n",
      "image 1/1 C:\\Users\\admin\\.cache\\kagglehub\\datasets\\pavansanagapati\\images-dataset\\versions\\1\\data\\flowers\\0095.png: 512x512 23 objects, 1767.9ms\n",
      "Speed: 2.1ms preprocess, 1767.9ms inference, 11.2ms postprocess per image at shape (1, 3, 512, 512)\n"
     ]
    },
    {
     "name": "stderr",
     "output_type": "stream",
     "text": [
      " 45%|████▌     | 95/210 [03:07<03:39,  1.91s/it]"
     ]
    },
    {
     "name": "stdout",
     "output_type": "stream",
     "text": [
      "\n",
      "image 1/1 C:\\Users\\admin\\.cache\\kagglehub\\datasets\\pavansanagapati\\images-dataset\\versions\\1\\data\\flowers\\0096.png: 512x512 6 objects, 2177.7ms\n",
      "Speed: 2.0ms preprocess, 2177.7ms inference, 6.9ms postprocess per image at shape (1, 3, 512, 512)\n"
     ]
    },
    {
     "name": "stderr",
     "output_type": "stream",
     "text": [
      " 46%|████▌     | 96/210 [03:09<03:48,  2.00s/it]"
     ]
    },
    {
     "name": "stdout",
     "output_type": "stream",
     "text": [
      "\n",
      "image 1/1 C:\\Users\\admin\\.cache\\kagglehub\\datasets\\pavansanagapati\\images-dataset\\versions\\1\\data\\flowers\\0097.png: 512x512 18 objects, 2033.1ms\n",
      "Speed: 3.8ms preprocess, 2033.1ms inference, 9.1ms postprocess per image at shape (1, 3, 512, 512)\n"
     ]
    },
    {
     "name": "stderr",
     "output_type": "stream",
     "text": [
      " 46%|████▌     | 97/210 [03:11<03:48,  2.03s/it]"
     ]
    },
    {
     "name": "stdout",
     "output_type": "stream",
     "text": [
      "\n",
      "image 1/1 C:\\Users\\admin\\.cache\\kagglehub\\datasets\\pavansanagapati\\images-dataset\\versions\\1\\data\\flowers\\0098.png: 512x512 5 objects, 2066.1ms\n",
      "Speed: 2.5ms preprocess, 2066.1ms inference, 4.8ms postprocess per image at shape (1, 3, 512, 512)\n"
     ]
    },
    {
     "name": "stderr",
     "output_type": "stream",
     "text": [
      " 47%|████▋     | 98/210 [03:14<03:49,  2.05s/it]"
     ]
    },
    {
     "name": "stdout",
     "output_type": "stream",
     "text": [
      "\n",
      "image 1/1 C:\\Users\\admin\\.cache\\kagglehub\\datasets\\pavansanagapati\\images-dataset\\versions\\1\\data\\flowers\\0099.png: 512x512 8 objects, 1894.3ms\n",
      "Speed: 4.1ms preprocess, 1894.3ms inference, 5.8ms postprocess per image at shape (1, 3, 512, 512)\n"
     ]
    },
    {
     "name": "stderr",
     "output_type": "stream",
     "text": [
      " 47%|████▋     | 99/210 [03:15<03:43,  2.01s/it]"
     ]
    },
    {
     "name": "stdout",
     "output_type": "stream",
     "text": [
      "\n",
      "image 1/1 C:\\Users\\admin\\.cache\\kagglehub\\datasets\\pavansanagapati\\images-dataset\\versions\\1\\data\\flowers\\0100.png: 512x512 25 objects, 2020.7ms\n",
      "Speed: 3.2ms preprocess, 2020.7ms inference, 12.7ms postprocess per image at shape (1, 3, 512, 512)\n"
     ]
    },
    {
     "name": "stderr",
     "output_type": "stream",
     "text": [
      " 48%|████▊     | 100/210 [03:18<03:43,  2.03s/it]"
     ]
    },
    {
     "name": "stdout",
     "output_type": "stream",
     "text": [
      "\n",
      "image 1/1 C:\\Users\\admin\\.cache\\kagglehub\\datasets\\pavansanagapati\\images-dataset\\versions\\1\\data\\flowers\\0101.png: 512x512 10 objects, 1929.3ms\n",
      "Speed: 2.8ms preprocess, 1929.3ms inference, 6.1ms postprocess per image at shape (1, 3, 512, 512)\n"
     ]
    },
    {
     "name": "stderr",
     "output_type": "stream",
     "text": [
      " 48%|████▊     | 101/210 [03:19<03:39,  2.01s/it]"
     ]
    },
    {
     "name": "stdout",
     "output_type": "stream",
     "text": [
      "\n",
      "image 1/1 C:\\Users\\admin\\.cache\\kagglehub\\datasets\\pavansanagapati\\images-dataset\\versions\\1\\data\\flowers\\0102.png: 512x512 6 objects, 1988.6ms\n",
      "Speed: 2.8ms preprocess, 1988.6ms inference, 6.6ms postprocess per image at shape (1, 3, 512, 512)\n"
     ]
    },
    {
     "name": "stderr",
     "output_type": "stream",
     "text": [
      " 49%|████▊     | 102/210 [03:22<03:37,  2.02s/it]"
     ]
    },
    {
     "name": "stdout",
     "output_type": "stream",
     "text": [
      "\n",
      "image 1/1 C:\\Users\\admin\\.cache\\kagglehub\\datasets\\pavansanagapati\\images-dataset\\versions\\1\\data\\flowers\\0103.png: 512x512 3 objects, 1911.1ms\n",
      "Speed: 2.4ms preprocess, 1911.1ms inference, 3.0ms postprocess per image at shape (1, 3, 512, 512)\n"
     ]
    },
    {
     "name": "stderr",
     "output_type": "stream",
     "text": [
      " 49%|████▉     | 103/210 [03:23<03:33,  1.99s/it]"
     ]
    },
    {
     "name": "stdout",
     "output_type": "stream",
     "text": [
      "\n",
      "image 1/1 C:\\Users\\admin\\.cache\\kagglehub\\datasets\\pavansanagapati\\images-dataset\\versions\\1\\data\\flowers\\0104.png: 512x512 5 objects, 2020.9ms\n",
      "Speed: 2.0ms preprocess, 2020.9ms inference, 4.2ms postprocess per image at shape (1, 3, 512, 512)\n"
     ]
    },
    {
     "name": "stderr",
     "output_type": "stream",
     "text": [
      " 50%|████▉     | 104/210 [03:26<03:33,  2.01s/it]"
     ]
    },
    {
     "name": "stdout",
     "output_type": "stream",
     "text": [
      "\n",
      "image 1/1 C:\\Users\\admin\\.cache\\kagglehub\\datasets\\pavansanagapati\\images-dataset\\versions\\1\\data\\flowers\\0105.png: 512x512 9 objects, 1967.0ms\n",
      "Speed: 7.0ms preprocess, 1967.0ms inference, 5.6ms postprocess per image at shape (1, 3, 512, 512)\n"
     ]
    },
    {
     "name": "stderr",
     "output_type": "stream",
     "text": [
      " 50%|█████     | 105/210 [03:28<03:31,  2.01s/it]"
     ]
    },
    {
     "name": "stdout",
     "output_type": "stream",
     "text": [
      "\n",
      "image 1/1 C:\\Users\\admin\\.cache\\kagglehub\\datasets\\pavansanagapati\\images-dataset\\versions\\1\\data\\flowers\\0106.png: 512x512 7 objects, 2190.3ms\n",
      "Speed: 1.8ms preprocess, 2190.3ms inference, 6.0ms postprocess per image at shape (1, 3, 512, 512)\n"
     ]
    },
    {
     "name": "stderr",
     "output_type": "stream",
     "text": [
      " 50%|█████     | 106/210 [03:30<03:35,  2.08s/it]"
     ]
    },
    {
     "name": "stdout",
     "output_type": "stream",
     "text": [
      "\n",
      "image 1/1 C:\\Users\\admin\\.cache\\kagglehub\\datasets\\pavansanagapati\\images-dataset\\versions\\1\\data\\flowers\\0107.png: 512x512 20 objects, 2165.7ms\n",
      "Speed: 5.5ms preprocess, 2165.7ms inference, 10.6ms postprocess per image at shape (1, 3, 512, 512)\n"
     ]
    },
    {
     "name": "stderr",
     "output_type": "stream",
     "text": [
      " 51%|█████     | 107/210 [03:32<03:38,  2.12s/it]"
     ]
    },
    {
     "name": "stdout",
     "output_type": "stream",
     "text": [
      "\n",
      "image 1/1 C:\\Users\\admin\\.cache\\kagglehub\\datasets\\pavansanagapati\\images-dataset\\versions\\1\\data\\flowers\\0108.png: 512x512 9 objects, 1942.4ms\n",
      "Speed: 25.2ms preprocess, 1942.4ms inference, 6.7ms postprocess per image at shape (1, 3, 512, 512)\n"
     ]
    },
    {
     "name": "stderr",
     "output_type": "stream",
     "text": [
      " 51%|█████▏    | 108/210 [03:34<03:33,  2.10s/it]"
     ]
    },
    {
     "name": "stdout",
     "output_type": "stream",
     "text": [
      "\n",
      "image 1/1 C:\\Users\\admin\\.cache\\kagglehub\\datasets\\pavansanagapati\\images-dataset\\versions\\1\\data\\flowers\\0109.png: 512x512 30 objects, 1910.7ms\n",
      "Speed: 3.1ms preprocess, 1910.7ms inference, 13.5ms postprocess per image at shape (1, 3, 512, 512)\n"
     ]
    },
    {
     "name": "stderr",
     "output_type": "stream",
     "text": [
      " 52%|█████▏    | 109/210 [03:36<03:27,  2.06s/it]"
     ]
    },
    {
     "name": "stdout",
     "output_type": "stream",
     "text": [
      "\n",
      "image 1/1 C:\\Users\\admin\\.cache\\kagglehub\\datasets\\pavansanagapati\\images-dataset\\versions\\1\\data\\flowers\\0110.png: 512x512 19 objects, 1952.1ms\n",
      "Speed: 3.1ms preprocess, 1952.1ms inference, 13.0ms postprocess per image at shape (1, 3, 512, 512)\n"
     ]
    },
    {
     "name": "stderr",
     "output_type": "stream",
     "text": [
      " 52%|█████▏    | 110/210 [03:38<03:24,  2.04s/it]"
     ]
    },
    {
     "name": "stdout",
     "output_type": "stream",
     "text": [
      "\n",
      "image 1/1 C:\\Users\\admin\\.cache\\kagglehub\\datasets\\pavansanagapati\\images-dataset\\versions\\1\\data\\flowers\\0111.png: 512x512 9 objects, 1859.6ms\n",
      "Speed: 3.2ms preprocess, 1859.6ms inference, 5.6ms postprocess per image at shape (1, 3, 512, 512)\n"
     ]
    },
    {
     "name": "stderr",
     "output_type": "stream",
     "text": [
      " 53%|█████▎    | 111/210 [03:40<03:17,  2.00s/it]"
     ]
    },
    {
     "name": "stdout",
     "output_type": "stream",
     "text": [
      "\n",
      "image 1/1 C:\\Users\\admin\\.cache\\kagglehub\\datasets\\pavansanagapati\\images-dataset\\versions\\1\\data\\flowers\\0112.png: 512x512 4 objects, 1891.4ms\n",
      "Speed: 2.1ms preprocess, 1891.4ms inference, 3.9ms postprocess per image at shape (1, 3, 512, 512)\n"
     ]
    },
    {
     "name": "stderr",
     "output_type": "stream",
     "text": [
      " 53%|█████▎    | 112/210 [03:42<03:13,  1.98s/it]"
     ]
    },
    {
     "name": "stdout",
     "output_type": "stream",
     "text": [
      "\n",
      "image 1/1 C:\\Users\\admin\\.cache\\kagglehub\\datasets\\pavansanagapati\\images-dataset\\versions\\1\\data\\flowers\\0113.png: 512x512 7 objects, 1855.8ms\n",
      "Speed: 2.2ms preprocess, 1855.8ms inference, 4.8ms postprocess per image at shape (1, 3, 512, 512)\n"
     ]
    },
    {
     "name": "stderr",
     "output_type": "stream",
     "text": [
      " 54%|█████▍    | 113/210 [03:44<03:09,  1.95s/it]"
     ]
    },
    {
     "name": "stdout",
     "output_type": "stream",
     "text": [
      "\n",
      "image 1/1 C:\\Users\\admin\\.cache\\kagglehub\\datasets\\pavansanagapati\\images-dataset\\versions\\1\\data\\flowers\\0114.png: 512x512 26 objects, 2006.8ms\n",
      "Speed: 2.2ms preprocess, 2006.8ms inference, 13.9ms postprocess per image at shape (1, 3, 512, 512)\n"
     ]
    },
    {
     "name": "stderr",
     "output_type": "stream",
     "text": [
      " 54%|█████▍    | 114/210 [03:46<03:10,  1.98s/it]"
     ]
    },
    {
     "name": "stdout",
     "output_type": "stream",
     "text": [
      "\n",
      "image 1/1 C:\\Users\\admin\\.cache\\kagglehub\\datasets\\pavansanagapati\\images-dataset\\versions\\1\\data\\flowers\\0115.png: 512x512 7 objects, 2031.4ms\n",
      "Speed: 4.8ms preprocess, 2031.4ms inference, 4.9ms postprocess per image at shape (1, 3, 512, 512)\n"
     ]
    },
    {
     "name": "stderr",
     "output_type": "stream",
     "text": [
      " 55%|█████▍    | 115/210 [03:48<03:10,  2.01s/it]"
     ]
    },
    {
     "name": "stdout",
     "output_type": "stream",
     "text": [
      "\n",
      "image 1/1 C:\\Users\\admin\\.cache\\kagglehub\\datasets\\pavansanagapati\\images-dataset\\versions\\1\\data\\flowers\\0116.png: 512x512 18 objects, 2165.2ms\n",
      "Speed: 2.5ms preprocess, 2165.2ms inference, 8.9ms postprocess per image at shape (1, 3, 512, 512)\n"
     ]
    },
    {
     "name": "stderr",
     "output_type": "stream",
     "text": [
      " 55%|█████▌    | 116/210 [03:50<03:14,  2.07s/it]"
     ]
    },
    {
     "name": "stdout",
     "output_type": "stream",
     "text": [
      "\n",
      "image 1/1 C:\\Users\\admin\\.cache\\kagglehub\\datasets\\pavansanagapati\\images-dataset\\versions\\1\\data\\flowers\\0117.png: 512x512 6 objects, 2340.7ms\n",
      "Speed: 9.0ms preprocess, 2340.7ms inference, 8.4ms postprocess per image at shape (1, 3, 512, 512)\n"
     ]
    },
    {
     "name": "stderr",
     "output_type": "stream",
     "text": [
      " 56%|█████▌    | 117/210 [03:52<03:21,  2.16s/it]"
     ]
    },
    {
     "name": "stdout",
     "output_type": "stream",
     "text": [
      "\n",
      "image 1/1 C:\\Users\\admin\\.cache\\kagglehub\\datasets\\pavansanagapati\\images-dataset\\versions\\1\\data\\flowers\\0118.png: 512x512 16 objects, 2167.5ms\n",
      "Speed: 5.3ms preprocess, 2167.5ms inference, 8.5ms postprocess per image at shape (1, 3, 512, 512)\n"
     ]
    },
    {
     "name": "stderr",
     "output_type": "stream",
     "text": [
      " 56%|█████▌    | 118/210 [03:55<03:20,  2.18s/it]"
     ]
    },
    {
     "name": "stdout",
     "output_type": "stream",
     "text": [
      "\n",
      "image 1/1 C:\\Users\\admin\\.cache\\kagglehub\\datasets\\pavansanagapati\\images-dataset\\versions\\1\\data\\flowers\\0119.png: 512x512 5 objects, 1880.0ms\n",
      "Speed: 3.8ms preprocess, 1880.0ms inference, 3.8ms postprocess per image at shape (1, 3, 512, 512)\n"
     ]
    },
    {
     "name": "stderr",
     "output_type": "stream",
     "text": [
      " 57%|█████▋    | 119/210 [03:57<03:11,  2.10s/it]"
     ]
    },
    {
     "name": "stdout",
     "output_type": "stream",
     "text": [
      "\n",
      "image 1/1 C:\\Users\\admin\\.cache\\kagglehub\\datasets\\pavansanagapati\\images-dataset\\versions\\1\\data\\flowers\\0120.png: 512x512 19 objects, 2052.1ms\n",
      "Speed: 3.7ms preprocess, 2052.1ms inference, 9.2ms postprocess per image at shape (1, 3, 512, 512)\n"
     ]
    },
    {
     "name": "stderr",
     "output_type": "stream",
     "text": [
      " 57%|█████▋    | 120/210 [03:59<03:09,  2.10s/it]"
     ]
    },
    {
     "name": "stdout",
     "output_type": "stream",
     "text": [
      "\n",
      "image 1/1 C:\\Users\\admin\\.cache\\kagglehub\\datasets\\pavansanagapati\\images-dataset\\versions\\1\\data\\flowers\\0121.png: 512x512 14 objects, 1926.1ms\n",
      "Speed: 6.7ms preprocess, 1926.1ms inference, 9.3ms postprocess per image at shape (1, 3, 512, 512)\n"
     ]
    },
    {
     "name": "stderr",
     "output_type": "stream",
     "text": [
      " 58%|█████▊    | 121/210 [04:01<03:03,  2.06s/it]"
     ]
    },
    {
     "name": "stdout",
     "output_type": "stream",
     "text": [
      "\n",
      "image 1/1 C:\\Users\\admin\\.cache\\kagglehub\\datasets\\pavansanagapati\\images-dataset\\versions\\1\\data\\flowers\\0122.png: 512x512 11 objects, 1960.6ms\n",
      "Speed: 3.1ms preprocess, 1960.6ms inference, 6.7ms postprocess per image at shape (1, 3, 512, 512)\n"
     ]
    },
    {
     "name": "stderr",
     "output_type": "stream",
     "text": [
      " 58%|█████▊    | 122/210 [04:03<02:59,  2.04s/it]"
     ]
    },
    {
     "name": "stdout",
     "output_type": "stream",
     "text": [
      "\n",
      "image 1/1 C:\\Users\\admin\\.cache\\kagglehub\\datasets\\pavansanagapati\\images-dataset\\versions\\1\\data\\flowers\\0123.png: 512x512 7 objects, 1790.8ms\n",
      "Speed: 3.4ms preprocess, 1790.8ms inference, 4.2ms postprocess per image at shape (1, 3, 512, 512)\n"
     ]
    },
    {
     "name": "stderr",
     "output_type": "stream",
     "text": [
      " 59%|█████▊    | 123/210 [04:04<02:52,  1.98s/it]"
     ]
    },
    {
     "name": "stdout",
     "output_type": "stream",
     "text": [
      "\n",
      "image 1/1 C:\\Users\\admin\\.cache\\kagglehub\\datasets\\pavansanagapati\\images-dataset\\versions\\1\\data\\flowers\\0124.png: 512x512 14 objects, 1858.5ms\n",
      "Speed: 2.9ms preprocess, 1858.5ms inference, 7.3ms postprocess per image at shape (1, 3, 512, 512)\n"
     ]
    },
    {
     "name": "stderr",
     "output_type": "stream",
     "text": [
      " 59%|█████▉    | 124/210 [04:06<02:48,  1.96s/it]"
     ]
    },
    {
     "name": "stdout",
     "output_type": "stream",
     "text": [
      "\n",
      "image 1/1 C:\\Users\\admin\\.cache\\kagglehub\\datasets\\pavansanagapati\\images-dataset\\versions\\1\\data\\flowers\\0125.png: 512x512 15 objects, 1859.8ms\n",
      "Speed: 2.2ms preprocess, 1859.8ms inference, 7.7ms postprocess per image at shape (1, 3, 512, 512)\n"
     ]
    },
    {
     "name": "stderr",
     "output_type": "stream",
     "text": [
      " 60%|█████▉    | 125/210 [04:08<02:44,  1.94s/it]"
     ]
    },
    {
     "name": "stdout",
     "output_type": "stream",
     "text": [
      "\n",
      "image 1/1 C:\\Users\\admin\\.cache\\kagglehub\\datasets\\pavansanagapati\\images-dataset\\versions\\1\\data\\flowers\\0126.png: 512x512 11 objects, 2067.4ms\n",
      "Speed: 5.8ms preprocess, 2067.4ms inference, 6.2ms postprocess per image at shape (1, 3, 512, 512)\n"
     ]
    },
    {
     "name": "stderr",
     "output_type": "stream",
     "text": [
      " 60%|██████    | 126/210 [04:10<02:47,  1.99s/it]"
     ]
    },
    {
     "name": "stdout",
     "output_type": "stream",
     "text": [
      "\n",
      "image 1/1 C:\\Users\\admin\\.cache\\kagglehub\\datasets\\pavansanagapati\\images-dataset\\versions\\1\\data\\flowers\\0127.png: 512x512 10 objects, 1855.4ms\n",
      "Speed: 2.5ms preprocess, 1855.4ms inference, 7.3ms postprocess per image at shape (1, 3, 512, 512)\n"
     ]
    },
    {
     "name": "stderr",
     "output_type": "stream",
     "text": [
      " 60%|██████    | 127/210 [04:12<02:42,  1.96s/it]"
     ]
    },
    {
     "name": "stdout",
     "output_type": "stream",
     "text": [
      "\n",
      "image 1/1 C:\\Users\\admin\\.cache\\kagglehub\\datasets\\pavansanagapati\\images-dataset\\versions\\1\\data\\flowers\\0128.png: 512x512 13 objects, 1863.8ms\n",
      "Speed: 2.4ms preprocess, 1863.8ms inference, 7.8ms postprocess per image at shape (1, 3, 512, 512)\n"
     ]
    },
    {
     "name": "stderr",
     "output_type": "stream",
     "text": [
      " 61%|██████    | 128/210 [04:14<02:39,  1.94s/it]"
     ]
    },
    {
     "name": "stdout",
     "output_type": "stream",
     "text": [
      "\n",
      "image 1/1 C:\\Users\\admin\\.cache\\kagglehub\\datasets\\pavansanagapati\\images-dataset\\versions\\1\\data\\flowers\\0129.png: 512x512 12 objects, 1772.0ms\n",
      "Speed: 2.4ms preprocess, 1772.0ms inference, 6.1ms postprocess per image at shape (1, 3, 512, 512)\n"
     ]
    },
    {
     "name": "stderr",
     "output_type": "stream",
     "text": [
      " 61%|██████▏   | 129/210 [04:16<02:34,  1.90s/it]"
     ]
    },
    {
     "name": "stdout",
     "output_type": "stream",
     "text": [
      "\n",
      "image 1/1 C:\\Users\\admin\\.cache\\kagglehub\\datasets\\pavansanagapati\\images-dataset\\versions\\1\\data\\flowers\\0130.png: 512x512 10 objects, 1849.5ms\n",
      "Speed: 3.3ms preprocess, 1849.5ms inference, 6.7ms postprocess per image at shape (1, 3, 512, 512)\n"
     ]
    },
    {
     "name": "stderr",
     "output_type": "stream",
     "text": [
      " 62%|██████▏   | 130/210 [04:18<02:31,  1.90s/it]"
     ]
    },
    {
     "name": "stdout",
     "output_type": "stream",
     "text": [
      "\n",
      "image 1/1 C:\\Users\\admin\\.cache\\kagglehub\\datasets\\pavansanagapati\\images-dataset\\versions\\1\\data\\flowers\\0131.png: 512x512 16 objects, 1777.7ms\n",
      "Speed: 2.2ms preprocess, 1777.7ms inference, 8.4ms postprocess per image at shape (1, 3, 512, 512)\n"
     ]
    },
    {
     "name": "stderr",
     "output_type": "stream",
     "text": [
      " 62%|██████▏   | 131/210 [04:20<02:28,  1.87s/it]"
     ]
    },
    {
     "name": "stdout",
     "output_type": "stream",
     "text": [
      "\n",
      "image 1/1 C:\\Users\\admin\\.cache\\kagglehub\\datasets\\pavansanagapati\\images-dataset\\versions\\1\\data\\flowers\\0132.png: 512x512 9 objects, 1898.4ms\n",
      "Speed: 3.4ms preprocess, 1898.4ms inference, 6.1ms postprocess per image at shape (1, 3, 512, 512)\n"
     ]
    },
    {
     "name": "stderr",
     "output_type": "stream",
     "text": [
      " 63%|██████▎   | 132/210 [04:22<02:27,  1.89s/it]"
     ]
    },
    {
     "name": "stdout",
     "output_type": "stream",
     "text": [
      "\n",
      "image 1/1 C:\\Users\\admin\\.cache\\kagglehub\\datasets\\pavansanagapati\\images-dataset\\versions\\1\\data\\flowers\\0133.png: 512x512 12 objects, 1791.4ms\n",
      "Speed: 1.9ms preprocess, 1791.4ms inference, 6.7ms postprocess per image at shape (1, 3, 512, 512)\n"
     ]
    },
    {
     "name": "stderr",
     "output_type": "stream",
     "text": [
      " 63%|██████▎   | 133/210 [04:23<02:24,  1.87s/it]"
     ]
    },
    {
     "name": "stdout",
     "output_type": "stream",
     "text": [
      "\n",
      "image 1/1 C:\\Users\\admin\\.cache\\kagglehub\\datasets\\pavansanagapati\\images-dataset\\versions\\1\\data\\flowers\\0134.png: 512x512 14 objects, 1848.0ms\n",
      "Speed: 3.7ms preprocess, 1848.0ms inference, 6.9ms postprocess per image at shape (1, 3, 512, 512)\n"
     ]
    },
    {
     "name": "stderr",
     "output_type": "stream",
     "text": [
      " 64%|██████▍   | 134/210 [04:25<02:22,  1.88s/it]"
     ]
    },
    {
     "name": "stdout",
     "output_type": "stream",
     "text": [
      "\n",
      "image 1/1 C:\\Users\\admin\\.cache\\kagglehub\\datasets\\pavansanagapati\\images-dataset\\versions\\1\\data\\flowers\\0135.png: 512x512 5 objects, 1761.4ms\n",
      "Speed: 2.3ms preprocess, 1761.4ms inference, 4.2ms postprocess per image at shape (1, 3, 512, 512)\n"
     ]
    },
    {
     "name": "stderr",
     "output_type": "stream",
     "text": [
      " 64%|██████▍   | 135/210 [04:27<02:18,  1.85s/it]"
     ]
    },
    {
     "name": "stdout",
     "output_type": "stream",
     "text": [
      "\n",
      "image 1/1 C:\\Users\\admin\\.cache\\kagglehub\\datasets\\pavansanagapati\\images-dataset\\versions\\1\\data\\flowers\\0136.png: 512x512 4 objects, 1869.9ms\n",
      "Speed: 2.3ms preprocess, 1869.9ms inference, 3.3ms postprocess per image at shape (1, 3, 512, 512)\n"
     ]
    },
    {
     "name": "stderr",
     "output_type": "stream",
     "text": [
      " 65%|██████▍   | 136/210 [04:29<02:18,  1.87s/it]"
     ]
    },
    {
     "name": "stdout",
     "output_type": "stream",
     "text": [
      "\n",
      "image 1/1 C:\\Users\\admin\\.cache\\kagglehub\\datasets\\pavansanagapati\\images-dataset\\versions\\1\\data\\flowers\\0137.png: 512x512 16 objects, 1792.4ms\n",
      "Speed: 1.9ms preprocess, 1792.4ms inference, 7.9ms postprocess per image at shape (1, 3, 512, 512)\n"
     ]
    },
    {
     "name": "stderr",
     "output_type": "stream",
     "text": [
      " 65%|██████▌   | 137/210 [04:31<02:15,  1.86s/it]"
     ]
    },
    {
     "name": "stdout",
     "output_type": "stream",
     "text": [
      "\n",
      "image 1/1 C:\\Users\\admin\\.cache\\kagglehub\\datasets\\pavansanagapati\\images-dataset\\versions\\1\\data\\flowers\\0138.png: 512x512 17 objects, 1823.9ms\n",
      "Speed: 2.8ms preprocess, 1823.9ms inference, 8.1ms postprocess per image at shape (1, 3, 512, 512)\n"
     ]
    },
    {
     "name": "stderr",
     "output_type": "stream",
     "text": [
      " 66%|██████▌   | 138/210 [04:33<02:13,  1.86s/it]"
     ]
    },
    {
     "name": "stdout",
     "output_type": "stream",
     "text": [
      "\n",
      "image 1/1 C:\\Users\\admin\\.cache\\kagglehub\\datasets\\pavansanagapati\\images-dataset\\versions\\1\\data\\flowers\\0139.png: 512x512 10 objects, 1780.4ms\n",
      "Speed: 1.8ms preprocess, 1780.4ms inference, 6.8ms postprocess per image at shape (1, 3, 512, 512)\n"
     ]
    },
    {
     "name": "stderr",
     "output_type": "stream",
     "text": [
      " 66%|██████▌   | 139/210 [04:35<02:11,  1.85s/it]"
     ]
    },
    {
     "name": "stdout",
     "output_type": "stream",
     "text": [
      "\n",
      "image 1/1 C:\\Users\\admin\\.cache\\kagglehub\\datasets\\pavansanagapati\\images-dataset\\versions\\1\\data\\flowers\\0140.png: 512x512 2 objects, 1840.8ms\n",
      "Speed: 2.5ms preprocess, 1840.8ms inference, 2.7ms postprocess per image at shape (1, 3, 512, 512)\n"
     ]
    },
    {
     "name": "stderr",
     "output_type": "stream",
     "text": [
      " 67%|██████▋   | 140/210 [04:36<02:09,  1.86s/it]"
     ]
    },
    {
     "name": "stdout",
     "output_type": "stream",
     "text": [
      "\n",
      "image 1/1 C:\\Users\\admin\\.cache\\kagglehub\\datasets\\pavansanagapati\\images-dataset\\versions\\1\\data\\flowers\\0141.png: 512x512 30 objects, 1732.7ms\n",
      "Speed: 1.9ms preprocess, 1732.7ms inference, 13.5ms postprocess per image at shape (1, 3, 512, 512)\n"
     ]
    },
    {
     "name": "stderr",
     "output_type": "stream",
     "text": [
      " 67%|██████▋   | 141/210 [04:38<02:06,  1.83s/it]"
     ]
    },
    {
     "name": "stdout",
     "output_type": "stream",
     "text": [
      "\n",
      "image 1/1 C:\\Users\\admin\\.cache\\kagglehub\\datasets\\pavansanagapati\\images-dataset\\versions\\1\\data\\flowers\\0142.png: 512x512 6 objects, 1842.1ms\n",
      "Speed: 2.6ms preprocess, 1842.1ms inference, 4.4ms postprocess per image at shape (1, 3, 512, 512)\n"
     ]
    },
    {
     "name": "stderr",
     "output_type": "stream",
     "text": [
      " 68%|██████▊   | 142/210 [04:40<02:05,  1.85s/it]"
     ]
    },
    {
     "name": "stdout",
     "output_type": "stream",
     "text": [
      "\n",
      "image 1/1 C:\\Users\\admin\\.cache\\kagglehub\\datasets\\pavansanagapati\\images-dataset\\versions\\1\\data\\flowers\\0143.png: 512x512 19 objects, 1790.8ms\n",
      "Speed: 2.0ms preprocess, 1790.8ms inference, 9.6ms postprocess per image at shape (1, 3, 512, 512)\n"
     ]
    },
    {
     "name": "stderr",
     "output_type": "stream",
     "text": [
      " 68%|██████▊   | 143/210 [04:42<02:03,  1.84s/it]"
     ]
    },
    {
     "name": "stdout",
     "output_type": "stream",
     "text": [
      "\n",
      "image 1/1 C:\\Users\\admin\\.cache\\kagglehub\\datasets\\pavansanagapati\\images-dataset\\versions\\1\\data\\flowers\\0144.png: 512x512 6 objects, 1840.4ms\n",
      "Speed: 2.7ms preprocess, 1840.4ms inference, 4.4ms postprocess per image at shape (1, 3, 512, 512)\n"
     ]
    },
    {
     "name": "stderr",
     "output_type": "stream",
     "text": [
      " 69%|██████▊   | 144/210 [04:44<02:02,  1.85s/it]"
     ]
    },
    {
     "name": "stdout",
     "output_type": "stream",
     "text": [
      "\n",
      "image 1/1 C:\\Users\\admin\\.cache\\kagglehub\\datasets\\pavansanagapati\\images-dataset\\versions\\1\\data\\flowers\\0145.png: 512x512 8 objects, 1763.7ms\n",
      "Speed: 2.7ms preprocess, 1763.7ms inference, 4.5ms postprocess per image at shape (1, 3, 512, 512)\n"
     ]
    },
    {
     "name": "stderr",
     "output_type": "stream",
     "text": [
      " 69%|██████▉   | 145/210 [04:46<01:59,  1.84s/it]"
     ]
    },
    {
     "name": "stdout",
     "output_type": "stream",
     "text": [
      "\n",
      "image 1/1 C:\\Users\\admin\\.cache\\kagglehub\\datasets\\pavansanagapati\\images-dataset\\versions\\1\\data\\flowers\\0146.png: 512x512 7 objects, 1837.6ms\n",
      "Speed: 1.9ms preprocess, 1837.6ms inference, 6.8ms postprocess per image at shape (1, 3, 512, 512)\n"
     ]
    },
    {
     "name": "stderr",
     "output_type": "stream",
     "text": [
      " 70%|██████▉   | 146/210 [04:47<01:58,  1.85s/it]"
     ]
    },
    {
     "name": "stdout",
     "output_type": "stream",
     "text": [
      "\n",
      "image 1/1 C:\\Users\\admin\\.cache\\kagglehub\\datasets\\pavansanagapati\\images-dataset\\versions\\1\\data\\flowers\\0147.png: 512x512 14 objects, 1763.5ms\n",
      "Speed: 3.0ms preprocess, 1763.5ms inference, 7.7ms postprocess per image at shape (1, 3, 512, 512)\n"
     ]
    },
    {
     "name": "stderr",
     "output_type": "stream",
     "text": [
      " 70%|███████   | 147/210 [04:49<01:55,  1.83s/it]"
     ]
    },
    {
     "name": "stdout",
     "output_type": "stream",
     "text": [
      "\n",
      "image 1/1 C:\\Users\\admin\\.cache\\kagglehub\\datasets\\pavansanagapati\\images-dataset\\versions\\1\\data\\flowers\\0148.png: 512x512 9 objects, 1883.6ms\n",
      "Speed: 1.8ms preprocess, 1883.6ms inference, 6.3ms postprocess per image at shape (1, 3, 512, 512)\n"
     ]
    },
    {
     "name": "stderr",
     "output_type": "stream",
     "text": [
      " 70%|███████   | 148/210 [04:51<01:55,  1.86s/it]"
     ]
    },
    {
     "name": "stdout",
     "output_type": "stream",
     "text": [
      "\n",
      "image 1/1 C:\\Users\\admin\\.cache\\kagglehub\\datasets\\pavansanagapati\\images-dataset\\versions\\1\\data\\flowers\\0149.png: 512x512 21 objects, 1736.6ms\n",
      "Speed: 6.6ms preprocess, 1736.6ms inference, 9.2ms postprocess per image at shape (1, 3, 512, 512)\n"
     ]
    },
    {
     "name": "stderr",
     "output_type": "stream",
     "text": [
      " 71%|███████   | 149/210 [04:53<01:51,  1.84s/it]"
     ]
    },
    {
     "name": "stdout",
     "output_type": "stream",
     "text": [
      "\n",
      "image 1/1 C:\\Users\\admin\\.cache\\kagglehub\\datasets\\pavansanagapati\\images-dataset\\versions\\1\\data\\flowers\\0150.png: 512x512 22 objects, 1842.9ms\n",
      "Speed: 2.8ms preprocess, 1842.9ms inference, 10.6ms postprocess per image at shape (1, 3, 512, 512)\n"
     ]
    },
    {
     "name": "stderr",
     "output_type": "stream",
     "text": [
      " 71%|███████▏  | 150/210 [04:55<01:51,  1.85s/it]"
     ]
    },
    {
     "name": "stdout",
     "output_type": "stream",
     "text": [
      "\n",
      "image 1/1 C:\\Users\\admin\\.cache\\kagglehub\\datasets\\pavansanagapati\\images-dataset\\versions\\1\\data\\flowers\\0151.png: 512x512 5 objects, 1728.5ms\n",
      "Speed: 2.7ms preprocess, 1728.5ms inference, 3.4ms postprocess per image at shape (1, 3, 512, 512)\n"
     ]
    },
    {
     "name": "stderr",
     "output_type": "stream",
     "text": [
      " 72%|███████▏  | 151/210 [04:57<01:47,  1.83s/it]"
     ]
    },
    {
     "name": "stdout",
     "output_type": "stream",
     "text": [
      "\n",
      "image 1/1 C:\\Users\\admin\\.cache\\kagglehub\\datasets\\pavansanagapati\\images-dataset\\versions\\1\\data\\flowers\\0152.png: 512x512 8 objects, 1839.9ms\n",
      "Speed: 1.8ms preprocess, 1839.9ms inference, 4.5ms postprocess per image at shape (1, 3, 512, 512)\n"
     ]
    },
    {
     "name": "stderr",
     "output_type": "stream",
     "text": [
      " 72%|███████▏  | 152/210 [04:58<01:46,  1.84s/it]"
     ]
    },
    {
     "name": "stdout",
     "output_type": "stream",
     "text": [
      "\n",
      "image 1/1 C:\\Users\\admin\\.cache\\kagglehub\\datasets\\pavansanagapati\\images-dataset\\versions\\1\\data\\flowers\\0153.png: 512x512 15 objects, 1747.3ms\n",
      "Speed: 2.0ms preprocess, 1747.3ms inference, 6.8ms postprocess per image at shape (1, 3, 512, 512)\n"
     ]
    },
    {
     "name": "stderr",
     "output_type": "stream",
     "text": [
      " 73%|███████▎  | 153/210 [05:00<01:43,  1.82s/it]"
     ]
    },
    {
     "name": "stdout",
     "output_type": "stream",
     "text": [
      "\n",
      "image 1/1 C:\\Users\\admin\\.cache\\kagglehub\\datasets\\pavansanagapati\\images-dataset\\versions\\1\\data\\flowers\\0154.png: 512x512 17 objects, 1895.3ms\n",
      "Speed: 2.5ms preprocess, 1895.3ms inference, 8.4ms postprocess per image at shape (1, 3, 512, 512)\n"
     ]
    },
    {
     "name": "stderr",
     "output_type": "stream",
     "text": [
      " 73%|███████▎  | 154/210 [05:02<01:43,  1.86s/it]"
     ]
    },
    {
     "name": "stdout",
     "output_type": "stream",
     "text": [
      "\n",
      "image 1/1 C:\\Users\\admin\\.cache\\kagglehub\\datasets\\pavansanagapati\\images-dataset\\versions\\1\\data\\flowers\\0155.png: 512x512 26 objects, 1765.1ms\n",
      "Speed: 2.5ms preprocess, 1765.1ms inference, 11.9ms postprocess per image at shape (1, 3, 512, 512)\n"
     ]
    },
    {
     "name": "stderr",
     "output_type": "stream",
     "text": [
      " 74%|███████▍  | 155/210 [05:04<01:41,  1.84s/it]"
     ]
    },
    {
     "name": "stdout",
     "output_type": "stream",
     "text": [
      "\n",
      "image 1/1 C:\\Users\\admin\\.cache\\kagglehub\\datasets\\pavansanagapati\\images-dataset\\versions\\1\\data\\flowers\\0156.png: 512x512 12 objects, 1879.8ms\n",
      "Speed: 2.5ms preprocess, 1879.8ms inference, 7.3ms postprocess per image at shape (1, 3, 512, 512)\n"
     ]
    },
    {
     "name": "stderr",
     "output_type": "stream",
     "text": [
      " 74%|███████▍  | 156/210 [05:06<01:42,  1.90s/it]"
     ]
    },
    {
     "name": "stdout",
     "output_type": "stream",
     "text": [
      "\n",
      "image 1/1 C:\\Users\\admin\\.cache\\kagglehub\\datasets\\pavansanagapati\\images-dataset\\versions\\1\\data\\flowers\\0157.png: 512x512 20 objects, 1764.5ms\n",
      "Speed: 2.4ms preprocess, 1764.5ms inference, 10.0ms postprocess per image at shape (1, 3, 512, 512)\n"
     ]
    },
    {
     "name": "stderr",
     "output_type": "stream",
     "text": [
      " 75%|███████▍  | 157/210 [05:08<01:39,  1.87s/it]"
     ]
    },
    {
     "name": "stdout",
     "output_type": "stream",
     "text": [
      "\n",
      "image 1/1 C:\\Users\\admin\\.cache\\kagglehub\\datasets\\pavansanagapati\\images-dataset\\versions\\1\\data\\flowers\\0158.png: 512x512 15 objects, 1840.9ms\n",
      "Speed: 4.5ms preprocess, 1840.9ms inference, 8.0ms postprocess per image at shape (1, 3, 512, 512)\n"
     ]
    },
    {
     "name": "stderr",
     "output_type": "stream",
     "text": [
      " 75%|███████▌  | 158/210 [05:10<01:37,  1.87s/it]"
     ]
    },
    {
     "name": "stdout",
     "output_type": "stream",
     "text": [
      "\n",
      "image 1/1 C:\\Users\\admin\\.cache\\kagglehub\\datasets\\pavansanagapati\\images-dataset\\versions\\1\\data\\flowers\\0159.png: 512x512 27 objects, 1823.9ms\n",
      "Speed: 2.1ms preprocess, 1823.9ms inference, 12.8ms postprocess per image at shape (1, 3, 512, 512)\n"
     ]
    },
    {
     "name": "stderr",
     "output_type": "stream",
     "text": [
      " 76%|███████▌  | 159/210 [05:12<01:35,  1.87s/it]"
     ]
    },
    {
     "name": "stdout",
     "output_type": "stream",
     "text": [
      "\n",
      "image 1/1 C:\\Users\\admin\\.cache\\kagglehub\\datasets\\pavansanagapati\\images-dataset\\versions\\1\\data\\flowers\\0160.png: 512x512 10 objects, 1905.1ms\n",
      "Speed: 4.3ms preprocess, 1905.1ms inference, 6.6ms postprocess per image at shape (1, 3, 512, 512)\n"
     ]
    },
    {
     "name": "stderr",
     "output_type": "stream",
     "text": [
      " 76%|███████▌  | 160/210 [05:14<01:34,  1.89s/it]"
     ]
    },
    {
     "name": "stdout",
     "output_type": "stream",
     "text": [
      "\n",
      "image 1/1 C:\\Users\\admin\\.cache\\kagglehub\\datasets\\pavansanagapati\\images-dataset\\versions\\1\\data\\flowers\\0161.png: 512x512 13 objects, 1776.4ms\n",
      "Speed: 2.8ms preprocess, 1776.4ms inference, 7.2ms postprocess per image at shape (1, 3, 512, 512)\n"
     ]
    },
    {
     "name": "stderr",
     "output_type": "stream",
     "text": [
      " 77%|███████▋  | 161/210 [05:15<01:31,  1.87s/it]"
     ]
    },
    {
     "name": "stdout",
     "output_type": "stream",
     "text": [
      "\n",
      "image 1/1 C:\\Users\\admin\\.cache\\kagglehub\\datasets\\pavansanagapati\\images-dataset\\versions\\1\\data\\flowers\\0162.png: 512x512 21 objects, 1875.4ms\n",
      "Speed: 2.7ms preprocess, 1875.4ms inference, 10.9ms postprocess per image at shape (1, 3, 512, 512)\n"
     ]
    },
    {
     "name": "stderr",
     "output_type": "stream",
     "text": [
      " 77%|███████▋  | 162/210 [05:17<01:30,  1.89s/it]"
     ]
    },
    {
     "name": "stdout",
     "output_type": "stream",
     "text": [
      "\n",
      "image 1/1 C:\\Users\\admin\\.cache\\kagglehub\\datasets\\pavansanagapati\\images-dataset\\versions\\1\\data\\flowers\\0163.png: 512x512 30 objects, 1772.1ms\n",
      "Speed: 1.7ms preprocess, 1772.1ms inference, 13.0ms postprocess per image at shape (1, 3, 512, 512)\n"
     ]
    },
    {
     "name": "stderr",
     "output_type": "stream",
     "text": [
      " 78%|███████▊  | 163/210 [05:19<01:27,  1.87s/it]"
     ]
    },
    {
     "name": "stdout",
     "output_type": "stream",
     "text": [
      "\n",
      "image 1/1 C:\\Users\\admin\\.cache\\kagglehub\\datasets\\pavansanagapati\\images-dataset\\versions\\1\\data\\flowers\\0164.png: 512x512 24 objects, 2050.3ms\n",
      "Speed: 3.1ms preprocess, 2050.3ms inference, 11.4ms postprocess per image at shape (1, 3, 512, 512)\n"
     ]
    },
    {
     "name": "stderr",
     "output_type": "stream",
     "text": [
      " 78%|███████▊  | 164/210 [05:21<01:29,  1.94s/it]"
     ]
    },
    {
     "name": "stdout",
     "output_type": "stream",
     "text": [
      "\n",
      "image 1/1 C:\\Users\\admin\\.cache\\kagglehub\\datasets\\pavansanagapati\\images-dataset\\versions\\1\\data\\flowers\\0165.png: 512x512 11 objects, 1770.3ms\n",
      "Speed: 2.7ms preprocess, 1770.3ms inference, 6.7ms postprocess per image at shape (1, 3, 512, 512)\n"
     ]
    },
    {
     "name": "stderr",
     "output_type": "stream",
     "text": [
      " 79%|███████▊  | 165/210 [05:23<01:25,  1.90s/it]"
     ]
    },
    {
     "name": "stdout",
     "output_type": "stream",
     "text": [
      "\n",
      "image 1/1 C:\\Users\\admin\\.cache\\kagglehub\\datasets\\pavansanagapati\\images-dataset\\versions\\1\\data\\flowers\\0166.png: 512x512 12 objects, 1862.2ms\n",
      "Speed: 2.9ms preprocess, 1862.2ms inference, 7.1ms postprocess per image at shape (1, 3, 512, 512)\n"
     ]
    },
    {
     "name": "stderr",
     "output_type": "stream",
     "text": [
      " 79%|███████▉  | 166/210 [05:25<01:23,  1.90s/it]"
     ]
    },
    {
     "name": "stdout",
     "output_type": "stream",
     "text": [
      "\n",
      "image 1/1 C:\\Users\\admin\\.cache\\kagglehub\\datasets\\pavansanagapati\\images-dataset\\versions\\1\\data\\flowers\\0167.png: 512x512 3 objects, 1788.6ms\n",
      "Speed: 2.3ms preprocess, 1788.6ms inference, 2.8ms postprocess per image at shape (1, 3, 512, 512)\n"
     ]
    },
    {
     "name": "stderr",
     "output_type": "stream",
     "text": [
      " 80%|███████▉  | 167/210 [05:27<01:20,  1.87s/it]"
     ]
    },
    {
     "name": "stdout",
     "output_type": "stream",
     "text": [
      "\n",
      "image 1/1 C:\\Users\\admin\\.cache\\kagglehub\\datasets\\pavansanagapati\\images-dataset\\versions\\1\\data\\flowers\\0168.png: 512x512 8 objects, 1853.6ms\n",
      "Speed: 2.2ms preprocess, 1853.6ms inference, 4.8ms postprocess per image at shape (1, 3, 512, 512)\n"
     ]
    },
    {
     "name": "stderr",
     "output_type": "stream",
     "text": [
      " 80%|████████  | 168/210 [05:29<01:18,  1.88s/it]"
     ]
    },
    {
     "name": "stdout",
     "output_type": "stream",
     "text": [
      "\n",
      "image 1/1 C:\\Users\\admin\\.cache\\kagglehub\\datasets\\pavansanagapati\\images-dataset\\versions\\1\\data\\flowers\\0169.png: 512x512 11 objects, 1753.0ms\n",
      "Speed: 2.1ms preprocess, 1753.0ms inference, 6.4ms postprocess per image at shape (1, 3, 512, 512)\n"
     ]
    },
    {
     "name": "stderr",
     "output_type": "stream",
     "text": [
      " 80%|████████  | 169/210 [05:30<01:15,  1.85s/it]"
     ]
    },
    {
     "name": "stdout",
     "output_type": "stream",
     "text": [
      "\n",
      "image 1/1 C:\\Users\\admin\\.cache\\kagglehub\\datasets\\pavansanagapati\\images-dataset\\versions\\1\\data\\flowers\\0170.png: 512x512 11 objects, 1876.4ms\n",
      "Speed: 2.2ms preprocess, 1876.4ms inference, 6.5ms postprocess per image at shape (1, 3, 512, 512)\n"
     ]
    },
    {
     "name": "stderr",
     "output_type": "stream",
     "text": [
      " 81%|████████  | 170/210 [05:32<01:14,  1.87s/it]"
     ]
    },
    {
     "name": "stdout",
     "output_type": "stream",
     "text": [
      "\n",
      "image 1/1 C:\\Users\\admin\\.cache\\kagglehub\\datasets\\pavansanagapati\\images-dataset\\versions\\1\\data\\flowers\\0171.png: 512x512 8 objects, 1768.8ms\n",
      "Speed: 2.2ms preprocess, 1768.8ms inference, 4.9ms postprocess per image at shape (1, 3, 512, 512)\n"
     ]
    },
    {
     "name": "stderr",
     "output_type": "stream",
     "text": [
      " 81%|████████▏ | 171/210 [05:34<01:12,  1.85s/it]"
     ]
    },
    {
     "name": "stdout",
     "output_type": "stream",
     "text": [
      "\n",
      "image 1/1 C:\\Users\\admin\\.cache\\kagglehub\\datasets\\pavansanagapati\\images-dataset\\versions\\1\\data\\flowers\\0172.png: 512x512 20 objects, 1886.8ms\n",
      "Speed: 2.1ms preprocess, 1886.8ms inference, 10.8ms postprocess per image at shape (1, 3, 512, 512)\n"
     ]
    },
    {
     "name": "stderr",
     "output_type": "stream",
     "text": [
      " 82%|████████▏ | 172/210 [05:36<01:12,  1.90s/it]"
     ]
    },
    {
     "name": "stdout",
     "output_type": "stream",
     "text": [
      "\n",
      "image 1/1 C:\\Users\\admin\\.cache\\kagglehub\\datasets\\pavansanagapati\\images-dataset\\versions\\1\\data\\flowers\\0173.png: 512x512 7 objects, 1807.6ms\n",
      "Speed: 2.4ms preprocess, 1807.6ms inference, 6.7ms postprocess per image at shape (1, 3, 512, 512)\n"
     ]
    },
    {
     "name": "stderr",
     "output_type": "stream",
     "text": [
      " 82%|████████▏ | 173/210 [05:38<01:09,  1.89s/it]"
     ]
    },
    {
     "name": "stdout",
     "output_type": "stream",
     "text": [
      "\n",
      "image 1/1 C:\\Users\\admin\\.cache\\kagglehub\\datasets\\pavansanagapati\\images-dataset\\versions\\1\\data\\flowers\\0174.png: 512x512 24 objects, 1881.5ms\n",
      "Speed: 4.1ms preprocess, 1881.5ms inference, 16.7ms postprocess per image at shape (1, 3, 512, 512)\n"
     ]
    },
    {
     "name": "stderr",
     "output_type": "stream",
     "text": [
      " 83%|████████▎ | 174/210 [05:40<01:08,  1.90s/it]"
     ]
    },
    {
     "name": "stdout",
     "output_type": "stream",
     "text": [
      "\n",
      "image 1/1 C:\\Users\\admin\\.cache\\kagglehub\\datasets\\pavansanagapati\\images-dataset\\versions\\1\\data\\flowers\\0175.png: 512x512 15 objects, 1752.7ms\n",
      "Speed: 2.8ms preprocess, 1752.7ms inference, 8.2ms postprocess per image at shape (1, 3, 512, 512)\n"
     ]
    },
    {
     "name": "stderr",
     "output_type": "stream",
     "text": [
      " 83%|████████▎ | 175/210 [05:42<01:05,  1.87s/it]"
     ]
    },
    {
     "name": "stdout",
     "output_type": "stream",
     "text": [
      "\n",
      "image 1/1 C:\\Users\\admin\\.cache\\kagglehub\\datasets\\pavansanagapati\\images-dataset\\versions\\1\\data\\flowers\\0176.png: 512x512 7 objects, 1857.6ms\n",
      "Speed: 2.0ms preprocess, 1857.6ms inference, 5.0ms postprocess per image at shape (1, 3, 512, 512)\n"
     ]
    },
    {
     "name": "stderr",
     "output_type": "stream",
     "text": [
      " 84%|████████▍ | 176/210 [05:44<01:03,  1.88s/it]"
     ]
    },
    {
     "name": "stdout",
     "output_type": "stream",
     "text": [
      "\n",
      "image 1/1 C:\\Users\\admin\\.cache\\kagglehub\\datasets\\pavansanagapati\\images-dataset\\versions\\1\\data\\flowers\\0177.png: 512x512 34 objects, 1788.0ms\n",
      "Speed: 3.4ms preprocess, 1788.0ms inference, 16.2ms postprocess per image at shape (1, 3, 512, 512)\n"
     ]
    },
    {
     "name": "stderr",
     "output_type": "stream",
     "text": [
      " 84%|████████▍ | 177/210 [05:45<01:01,  1.87s/it]"
     ]
    },
    {
     "name": "stdout",
     "output_type": "stream",
     "text": [
      "\n",
      "image 1/1 C:\\Users\\admin\\.cache\\kagglehub\\datasets\\pavansanagapati\\images-dataset\\versions\\1\\data\\flowers\\0178.png: 512x512 4 objects, 1885.0ms\n",
      "Speed: 7.7ms preprocess, 1885.0ms inference, 3.3ms postprocess per image at shape (1, 3, 512, 512)\n"
     ]
    },
    {
     "name": "stderr",
     "output_type": "stream",
     "text": [
      " 85%|████████▍ | 178/210 [05:47<01:00,  1.88s/it]"
     ]
    },
    {
     "name": "stdout",
     "output_type": "stream",
     "text": [
      "\n",
      "image 1/1 C:\\Users\\admin\\.cache\\kagglehub\\datasets\\pavansanagapati\\images-dataset\\versions\\1\\data\\flowers\\0179.png: 512x512 9 objects, 1789.0ms\n",
      "Speed: 2.1ms preprocess, 1789.0ms inference, 5.1ms postprocess per image at shape (1, 3, 512, 512)\n"
     ]
    },
    {
     "name": "stderr",
     "output_type": "stream",
     "text": [
      " 85%|████████▌ | 179/210 [05:49<00:57,  1.86s/it]"
     ]
    },
    {
     "name": "stdout",
     "output_type": "stream",
     "text": [
      "\n",
      "image 1/1 C:\\Users\\admin\\.cache\\kagglehub\\datasets\\pavansanagapati\\images-dataset\\versions\\1\\data\\flowers\\0180.png: 512x512 5 objects, 1895.1ms\n",
      "Speed: 1.8ms preprocess, 1895.1ms inference, 3.7ms postprocess per image at shape (1, 3, 512, 512)\n"
     ]
    },
    {
     "name": "stderr",
     "output_type": "stream",
     "text": [
      " 86%|████████▌ | 180/210 [05:51<00:56,  1.88s/it]"
     ]
    },
    {
     "name": "stdout",
     "output_type": "stream",
     "text": [
      "\n",
      "image 1/1 C:\\Users\\admin\\.cache\\kagglehub\\datasets\\pavansanagapati\\images-dataset\\versions\\1\\data\\flowers\\0181.png: 512x512 38 objects, 1770.0ms\n",
      "Speed: 2.2ms preprocess, 1770.0ms inference, 16.4ms postprocess per image at shape (1, 3, 512, 512)\n"
     ]
    },
    {
     "name": "stderr",
     "output_type": "stream",
     "text": [
      " 86%|████████▌ | 181/210 [05:53<00:54,  1.86s/it]"
     ]
    },
    {
     "name": "stdout",
     "output_type": "stream",
     "text": [
      "\n",
      "image 1/1 C:\\Users\\admin\\.cache\\kagglehub\\datasets\\pavansanagapati\\images-dataset\\versions\\1\\data\\flowers\\0182.png: 512x512 10 objects, 1851.4ms\n",
      "Speed: 2.9ms preprocess, 1851.4ms inference, 5.7ms postprocess per image at shape (1, 3, 512, 512)\n"
     ]
    },
    {
     "name": "stderr",
     "output_type": "stream",
     "text": [
      " 87%|████████▋ | 182/210 [05:55<00:52,  1.87s/it]"
     ]
    },
    {
     "name": "stdout",
     "output_type": "stream",
     "text": [
      "\n",
      "image 1/1 C:\\Users\\admin\\.cache\\kagglehub\\datasets\\pavansanagapati\\images-dataset\\versions\\1\\data\\flowers\\0183.png: 512x512 37 objects, 1764.9ms\n",
      "Speed: 2.3ms preprocess, 1764.9ms inference, 15.1ms postprocess per image at shape (1, 3, 512, 512)\n"
     ]
    },
    {
     "name": "stderr",
     "output_type": "stream",
     "text": [
      " 87%|████████▋ | 183/210 [05:57<00:50,  1.85s/it]"
     ]
    },
    {
     "name": "stdout",
     "output_type": "stream",
     "text": [
      "\n",
      "image 1/1 C:\\Users\\admin\\.cache\\kagglehub\\datasets\\pavansanagapati\\images-dataset\\versions\\1\\data\\flowers\\0184.png: 512x512 7 objects, 1836.9ms\n",
      "Speed: 2.8ms preprocess, 1836.9ms inference, 5.3ms postprocess per image at shape (1, 3, 512, 512)\n"
     ]
    },
    {
     "name": "stderr",
     "output_type": "stream",
     "text": [
      " 88%|████████▊ | 184/210 [05:59<00:48,  1.86s/it]"
     ]
    },
    {
     "name": "stdout",
     "output_type": "stream",
     "text": [
      "\n",
      "image 1/1 C:\\Users\\admin\\.cache\\kagglehub\\datasets\\pavansanagapati\\images-dataset\\versions\\1\\data\\flowers\\0185.png: 512x512 36 objects, 1755.2ms\n",
      "Speed: 2.4ms preprocess, 1755.2ms inference, 15.6ms postprocess per image at shape (1, 3, 512, 512)\n"
     ]
    },
    {
     "name": "stderr",
     "output_type": "stream",
     "text": [
      " 88%|████████▊ | 185/210 [06:00<00:46,  1.85s/it]"
     ]
    },
    {
     "name": "stdout",
     "output_type": "stream",
     "text": [
      "\n",
      "image 1/1 C:\\Users\\admin\\.cache\\kagglehub\\datasets\\pavansanagapati\\images-dataset\\versions\\1\\data\\flowers\\0186.png: 512x512 21 objects, 1816.7ms\n",
      "Speed: 2.0ms preprocess, 1816.7ms inference, 11.6ms postprocess per image at shape (1, 3, 512, 512)\n"
     ]
    },
    {
     "name": "stderr",
     "output_type": "stream",
     "text": [
      " 89%|████████▊ | 186/210 [06:02<00:44,  1.85s/it]"
     ]
    },
    {
     "name": "stdout",
     "output_type": "stream",
     "text": [
      "\n",
      "image 1/1 C:\\Users\\admin\\.cache\\kagglehub\\datasets\\pavansanagapati\\images-dataset\\versions\\1\\data\\flowers\\0187.png: 512x512 16 objects, 1752.6ms\n",
      "Speed: 2.9ms preprocess, 1752.6ms inference, 8.1ms postprocess per image at shape (1, 3, 512, 512)\n"
     ]
    },
    {
     "name": "stderr",
     "output_type": "stream",
     "text": [
      " 89%|████████▉ | 187/210 [06:04<00:42,  1.83s/it]"
     ]
    },
    {
     "name": "stdout",
     "output_type": "stream",
     "text": [
      "\n",
      "image 1/1 C:\\Users\\admin\\.cache\\kagglehub\\datasets\\pavansanagapati\\images-dataset\\versions\\1\\data\\flowers\\0188.png: 512x512 29 objects, 1843.7ms\n",
      "Speed: 2.3ms preprocess, 1843.7ms inference, 13.8ms postprocess per image at shape (1, 3, 512, 512)\n"
     ]
    },
    {
     "name": "stderr",
     "output_type": "stream",
     "text": [
      " 90%|████████▉ | 188/210 [06:06<00:40,  1.85s/it]"
     ]
    },
    {
     "name": "stdout",
     "output_type": "stream",
     "text": [
      "\n",
      "image 1/1 C:\\Users\\admin\\.cache\\kagglehub\\datasets\\pavansanagapati\\images-dataset\\versions\\1\\data\\flowers\\0189.png: 512x512 21 objects, 1737.5ms\n",
      "Speed: 2.6ms preprocess, 1737.5ms inference, 12.2ms postprocess per image at shape (1, 3, 512, 512)\n"
     ]
    },
    {
     "name": "stderr",
     "output_type": "stream",
     "text": [
      " 90%|█████████ | 189/210 [06:08<00:38,  1.84s/it]"
     ]
    },
    {
     "name": "stdout",
     "output_type": "stream",
     "text": [
      "\n",
      "image 1/1 C:\\Users\\admin\\.cache\\kagglehub\\datasets\\pavansanagapati\\images-dataset\\versions\\1\\data\\flowers\\0190.png: 512x512 7 objects, 1840.7ms\n",
      "Speed: 2.8ms preprocess, 1840.7ms inference, 4.7ms postprocess per image at shape (1, 3, 512, 512)\n"
     ]
    },
    {
     "name": "stderr",
     "output_type": "stream",
     "text": [
      " 90%|█████████ | 190/210 [06:10<00:36,  1.85s/it]"
     ]
    },
    {
     "name": "stdout",
     "output_type": "stream",
     "text": [
      "\n",
      "image 1/1 C:\\Users\\admin\\.cache\\kagglehub\\datasets\\pavansanagapati\\images-dataset\\versions\\1\\data\\flowers\\0191.png: 512x512 18 objects, 1790.2ms\n",
      "Speed: 2.0ms preprocess, 1790.2ms inference, 9.3ms postprocess per image at shape (1, 3, 512, 512)\n"
     ]
    },
    {
     "name": "stderr",
     "output_type": "stream",
     "text": [
      " 91%|█████████ | 191/210 [06:11<00:35,  1.84s/it]"
     ]
    },
    {
     "name": "stdout",
     "output_type": "stream",
     "text": [
      "\n",
      "image 1/1 C:\\Users\\admin\\.cache\\kagglehub\\datasets\\pavansanagapati\\images-dataset\\versions\\1\\data\\flowers\\0192.png: 512x512 13 objects, 1834.7ms\n",
      "Speed: 2.4ms preprocess, 1834.7ms inference, 7.4ms postprocess per image at shape (1, 3, 512, 512)\n"
     ]
    },
    {
     "name": "stderr",
     "output_type": "stream",
     "text": [
      " 91%|█████████▏| 192/210 [06:13<00:33,  1.85s/it]"
     ]
    },
    {
     "name": "stdout",
     "output_type": "stream",
     "text": [
      "\n",
      "image 1/1 C:\\Users\\admin\\.cache\\kagglehub\\datasets\\pavansanagapati\\images-dataset\\versions\\1\\data\\flowers\\0193.png: 512x512 18 objects, 1742.0ms\n",
      "Speed: 2.2ms preprocess, 1742.0ms inference, 8.7ms postprocess per image at shape (1, 3, 512, 512)\n"
     ]
    },
    {
     "name": "stderr",
     "output_type": "stream",
     "text": [
      " 92%|█████████▏| 193/210 [06:15<00:31,  1.83s/it]"
     ]
    },
    {
     "name": "stdout",
     "output_type": "stream",
     "text": [
      "\n",
      "image 1/1 C:\\Users\\admin\\.cache\\kagglehub\\datasets\\pavansanagapati\\images-dataset\\versions\\1\\data\\flowers\\0194.png: 512x512 13 objects, 1853.3ms\n",
      "Speed: 2.5ms preprocess, 1853.3ms inference, 7.2ms postprocess per image at shape (1, 3, 512, 512)\n"
     ]
    },
    {
     "name": "stderr",
     "output_type": "stream",
     "text": [
      " 92%|█████████▏| 194/210 [06:17<00:29,  1.85s/it]"
     ]
    },
    {
     "name": "stdout",
     "output_type": "stream",
     "text": [
      "\n",
      "image 1/1 C:\\Users\\admin\\.cache\\kagglehub\\datasets\\pavansanagapati\\images-dataset\\versions\\1\\data\\flowers\\0195.png: 512x512 19 objects, 1765.5ms\n",
      "Speed: 1.8ms preprocess, 1765.5ms inference, 8.6ms postprocess per image at shape (1, 3, 512, 512)\n"
     ]
    },
    {
     "name": "stderr",
     "output_type": "stream",
     "text": [
      " 93%|█████████▎| 195/210 [06:19<00:27,  1.84s/it]"
     ]
    },
    {
     "name": "stdout",
     "output_type": "stream",
     "text": [
      "\n",
      "image 1/1 C:\\Users\\admin\\.cache\\kagglehub\\datasets\\pavansanagapati\\images-dataset\\versions\\1\\data\\flowers\\0196.png: 512x512 9 objects, 1868.3ms\n",
      "Speed: 2.3ms preprocess, 1868.3ms inference, 5.6ms postprocess per image at shape (1, 3, 512, 512)\n"
     ]
    },
    {
     "name": "stderr",
     "output_type": "stream",
     "text": [
      " 93%|█████████▎| 196/210 [06:21<00:25,  1.86s/it]"
     ]
    },
    {
     "name": "stdout",
     "output_type": "stream",
     "text": [
      "\n",
      "image 1/1 C:\\Users\\admin\\.cache\\kagglehub\\datasets\\pavansanagapati\\images-dataset\\versions\\1\\data\\flowers\\0197.png: 512x512 14 objects, 1759.4ms\n",
      "Speed: 2.1ms preprocess, 1759.4ms inference, 7.3ms postprocess per image at shape (1, 3, 512, 512)\n"
     ]
    },
    {
     "name": "stderr",
     "output_type": "stream",
     "text": [
      " 94%|█████████▍| 197/210 [06:22<00:23,  1.84s/it]"
     ]
    },
    {
     "name": "stdout",
     "output_type": "stream",
     "text": [
      "\n",
      "image 1/1 C:\\Users\\admin\\.cache\\kagglehub\\datasets\\pavansanagapati\\images-dataset\\versions\\1\\data\\flowers\\0198.png: 512x512 7 objects, 1823.8ms\n",
      "Speed: 2.5ms preprocess, 1823.8ms inference, 5.5ms postprocess per image at shape (1, 3, 512, 512)\n"
     ]
    },
    {
     "name": "stderr",
     "output_type": "stream",
     "text": [
      " 94%|█████████▍| 198/210 [06:24<00:22,  1.84s/it]"
     ]
    },
    {
     "name": "stdout",
     "output_type": "stream",
     "text": [
      "\n",
      "image 1/1 C:\\Users\\admin\\.cache\\kagglehub\\datasets\\pavansanagapati\\images-dataset\\versions\\1\\data\\flowers\\0199.png: 512x512 16 objects, 1756.0ms\n",
      "Speed: 3.5ms preprocess, 1756.0ms inference, 8.7ms postprocess per image at shape (1, 3, 512, 512)\n"
     ]
    },
    {
     "name": "stderr",
     "output_type": "stream",
     "text": [
      " 95%|█████████▍| 199/210 [06:26<00:20,  1.83s/it]"
     ]
    },
    {
     "name": "stdout",
     "output_type": "stream",
     "text": [
      "\n",
      "image 1/1 C:\\Users\\admin\\.cache\\kagglehub\\datasets\\pavansanagapati\\images-dataset\\versions\\1\\data\\flowers\\0200.png: 512x512 13 objects, 1846.3ms\n",
      "Speed: 2.9ms preprocess, 1846.3ms inference, 7.8ms postprocess per image at shape (1, 3, 512, 512)\n"
     ]
    },
    {
     "name": "stderr",
     "output_type": "stream",
     "text": [
      " 95%|█████████▌| 200/210 [06:28<00:18,  1.85s/it]"
     ]
    },
    {
     "name": "stdout",
     "output_type": "stream",
     "text": [
      "\n",
      "image 1/1 C:\\Users\\admin\\.cache\\kagglehub\\datasets\\pavansanagapati\\images-dataset\\versions\\1\\data\\flowers\\0201.png: 512x512 11 objects, 1791.9ms\n",
      "Speed: 3.1ms preprocess, 1791.9ms inference, 6.6ms postprocess per image at shape (1, 3, 512, 512)\n"
     ]
    },
    {
     "name": "stderr",
     "output_type": "stream",
     "text": [
      " 96%|█████████▌| 201/210 [06:30<00:16,  1.84s/it]"
     ]
    },
    {
     "name": "stdout",
     "output_type": "stream",
     "text": [
      "\n",
      "image 1/1 C:\\Users\\admin\\.cache\\kagglehub\\datasets\\pavansanagapati\\images-dataset\\versions\\1\\data\\flowers\\0202.png: 512x512 15 objects, 1858.4ms\n",
      "Speed: 2.9ms preprocess, 1858.4ms inference, 7.8ms postprocess per image at shape (1, 3, 512, 512)\n"
     ]
    },
    {
     "name": "stderr",
     "output_type": "stream",
     "text": [
      " 96%|█████████▌| 202/210 [06:32<00:14,  1.86s/it]"
     ]
    },
    {
     "name": "stdout",
     "output_type": "stream",
     "text": [
      "\n",
      "image 1/1 C:\\Users\\admin\\.cache\\kagglehub\\datasets\\pavansanagapati\\images-dataset\\versions\\1\\data\\flowers\\0203.png: 512x512 7 objects, 1730.1ms\n",
      "Speed: 2.5ms preprocess, 1730.1ms inference, 4.8ms postprocess per image at shape (1, 3, 512, 512)\n"
     ]
    },
    {
     "name": "stderr",
     "output_type": "stream",
     "text": [
      " 97%|█████████▋| 203/210 [06:33<00:12,  1.83s/it]"
     ]
    },
    {
     "name": "stdout",
     "output_type": "stream",
     "text": [
      "\n",
      "image 1/1 C:\\Users\\admin\\.cache\\kagglehub\\datasets\\pavansanagapati\\images-dataset\\versions\\1\\data\\flowers\\0204.png: 512x512 12 objects, 1847.8ms\n",
      "Speed: 6.3ms preprocess, 1847.8ms inference, 8.0ms postprocess per image at shape (1, 3, 512, 512)\n"
     ]
    },
    {
     "name": "stderr",
     "output_type": "stream",
     "text": [
      " 97%|█████████▋| 204/210 [06:35<00:11,  1.85s/it]"
     ]
    },
    {
     "name": "stdout",
     "output_type": "stream",
     "text": [
      "\n",
      "image 1/1 C:\\Users\\admin\\.cache\\kagglehub\\datasets\\pavansanagapati\\images-dataset\\versions\\1\\data\\flowers\\0205.png: 512x512 10 objects, 1842.7ms\n",
      "Speed: 2.3ms preprocess, 1842.7ms inference, 5.5ms postprocess per image at shape (1, 3, 512, 512)\n"
     ]
    },
    {
     "name": "stderr",
     "output_type": "stream",
     "text": [
      " 98%|█████████▊| 205/210 [06:37<00:09,  1.86s/it]"
     ]
    },
    {
     "name": "stdout",
     "output_type": "stream",
     "text": [
      "\n",
      "image 1/1 C:\\Users\\admin\\.cache\\kagglehub\\datasets\\pavansanagapati\\images-dataset\\versions\\1\\data\\flowers\\0206.png: 512x512 16 objects, 1748.6ms\n",
      "Speed: 2.1ms preprocess, 1748.6ms inference, 8.2ms postprocess per image at shape (1, 3, 512, 512)\n"
     ]
    },
    {
     "name": "stderr",
     "output_type": "stream",
     "text": [
      " 98%|█████████▊| 206/210 [06:39<00:07,  1.84s/it]"
     ]
    },
    {
     "name": "stdout",
     "output_type": "stream",
     "text": [
      "\n",
      "image 1/1 C:\\Users\\admin\\.cache\\kagglehub\\datasets\\pavansanagapati\\images-dataset\\versions\\1\\data\\flowers\\0207.png: 512x512 19 objects, 1868.7ms\n",
      "Speed: 2.2ms preprocess, 1868.7ms inference, 9.4ms postprocess per image at shape (1, 3, 512, 512)\n"
     ]
    },
    {
     "name": "stderr",
     "output_type": "stream",
     "text": [
      " 99%|█████████▊| 207/210 [06:41<00:05,  1.86s/it]"
     ]
    },
    {
     "name": "stdout",
     "output_type": "stream",
     "text": [
      "\n",
      "image 1/1 C:\\Users\\admin\\.cache\\kagglehub\\datasets\\pavansanagapati\\images-dataset\\versions\\1\\data\\flowers\\0208.png: 512x512 3 objects, 1749.4ms\n",
      "Speed: 2.3ms preprocess, 1749.4ms inference, 3.9ms postprocess per image at shape (1, 3, 512, 512)\n"
     ]
    },
    {
     "name": "stderr",
     "output_type": "stream",
     "text": [
      " 99%|█████████▉| 208/210 [06:43<00:03,  1.84s/it]"
     ]
    },
    {
     "name": "stdout",
     "output_type": "stream",
     "text": [
      "\n",
      "image 1/1 C:\\Users\\admin\\.cache\\kagglehub\\datasets\\pavansanagapati\\images-dataset\\versions\\1\\data\\flowers\\0209.png: 512x512 22 objects, 1840.9ms\n",
      "Speed: 2.4ms preprocess, 1840.9ms inference, 11.4ms postprocess per image at shape (1, 3, 512, 512)\n"
     ]
    },
    {
     "name": "stderr",
     "output_type": "stream",
     "text": [
      "100%|█████████▉| 209/210 [06:45<00:01,  1.85s/it]"
     ]
    },
    {
     "name": "stdout",
     "output_type": "stream",
     "text": [
      "\n",
      "image 1/1 C:\\Users\\admin\\.cache\\kagglehub\\datasets\\pavansanagapati\\images-dataset\\versions\\1\\data\\flowers\\0210.png: 512x512 33 objects, 1761.1ms\n",
      "Speed: 2.1ms preprocess, 1761.1ms inference, 15.3ms postprocess per image at shape (1, 3, 512, 512)\n"
     ]
    },
    {
     "name": "stderr",
     "output_type": "stream",
     "text": [
      "100%|██████████| 210/210 [06:46<00:00,  1.94s/it]\n"
     ]
    },
    {
     "name": "stdout",
     "output_type": "stream",
     "text": [
      "\n",
      " Processing class: horses\n"
     ]
    },
    {
     "name": "stderr",
     "output_type": "stream",
     "text": [
      "  0%|          | 0/202 [00:00<?, ?it/s]"
     ]
    },
    {
     "name": "stdout",
     "output_type": "stream",
     "text": [
      "\n",
      "image 1/1 C:\\Users\\admin\\.cache\\kagglehub\\datasets\\pavansanagapati\\images-dataset\\versions\\1\\data\\horses\\horse-1.jpg: 448x512 4 objects, 1663.7ms\n",
      "Speed: 1.9ms preprocess, 1663.7ms inference, 4.9ms postprocess per image at shape (1, 3, 448, 512)\n"
     ]
    },
    {
     "name": "stderr",
     "output_type": "stream",
     "text": [
      "  0%|          | 1/202 [00:01<05:40,  1.69s/it]"
     ]
    },
    {
     "name": "stdout",
     "output_type": "stream",
     "text": [
      "\n",
      "image 1/1 C:\\Users\\admin\\.cache\\kagglehub\\datasets\\pavansanagapati\\images-dataset\\versions\\1\\data\\horses\\horse-10.jpg: 448x512 13 objects, 1542.0ms\n",
      "Speed: 2.4ms preprocess, 1542.0ms inference, 33.6ms postprocess per image at shape (1, 3, 448, 512)\n"
     ]
    },
    {
     "name": "stderr",
     "output_type": "stream",
     "text": [
      "  1%|          | 2/202 [00:03<05:31,  1.66s/it]"
     ]
    },
    {
     "name": "stdout",
     "output_type": "stream",
     "text": [
      "\n",
      "image 1/1 C:\\Users\\admin\\.cache\\kagglehub\\datasets\\pavansanagapati\\images-dataset\\versions\\1\\data\\horses\\horse-100.jpg: 448x512 14 objects, 1618.4ms\n",
      "Speed: 2.4ms preprocess, 1618.4ms inference, 11.6ms postprocess per image at shape (1, 3, 448, 512)\n"
     ]
    },
    {
     "name": "stderr",
     "output_type": "stream",
     "text": [
      "  1%|▏         | 3/202 [00:04<05:30,  1.66s/it]"
     ]
    },
    {
     "name": "stdout",
     "output_type": "stream",
     "text": [
      "\n",
      "image 1/1 C:\\Users\\admin\\.cache\\kagglehub\\datasets\\pavansanagapati\\images-dataset\\versions\\1\\data\\horses\\horse-101.jpg: 352x512 4 objects, 1242.7ms\n",
      "Speed: 1.7ms preprocess, 1242.7ms inference, 5.1ms postprocess per image at shape (1, 3, 352, 512)\n"
     ]
    },
    {
     "name": "stderr",
     "output_type": "stream",
     "text": [
      "  2%|▏         | 4/202 [00:06<04:58,  1.51s/it]"
     ]
    },
    {
     "name": "stdout",
     "output_type": "stream",
     "text": [
      "\n",
      "image 1/1 C:\\Users\\admin\\.cache\\kagglehub\\datasets\\pavansanagapati\\images-dataset\\versions\\1\\data\\horses\\horse-102.jpg: 416x512 7 objects, 1549.4ms\n",
      "Speed: 1.8ms preprocess, 1549.4ms inference, 7.6ms postprocess per image at shape (1, 3, 416, 512)\n"
     ]
    },
    {
     "name": "stderr",
     "output_type": "stream",
     "text": [
      "  2%|▏         | 5/202 [00:07<05:02,  1.54s/it]"
     ]
    },
    {
     "name": "stdout",
     "output_type": "stream",
     "text": [
      "\n",
      "image 1/1 C:\\Users\\admin\\.cache\\kagglehub\\datasets\\pavansanagapati\\images-dataset\\versions\\1\\data\\horses\\horse-103.jpg: 288x512 3 objects, 1015.2ms\n",
      "Speed: 1.4ms preprocess, 1015.2ms inference, 6.9ms postprocess per image at shape (1, 3, 288, 512)\n"
     ]
    },
    {
     "name": "stderr",
     "output_type": "stream",
     "text": [
      "  3%|▎         | 6/202 [00:08<04:28,  1.37s/it]"
     ]
    },
    {
     "name": "stdout",
     "output_type": "stream",
     "text": [
      "\n",
      "image 1/1 C:\\Users\\admin\\.cache\\kagglehub\\datasets\\pavansanagapati\\images-dataset\\versions\\1\\data\\horses\\horse-104.jpg: 384x512 5 objects, 1480.8ms\n",
      "Speed: 4.8ms preprocess, 1480.8ms inference, 4.8ms postprocess per image at shape (1, 3, 384, 512)\n"
     ]
    },
    {
     "name": "stderr",
     "output_type": "stream",
     "text": [
      "  3%|▎         | 7/202 [00:10<04:36,  1.42s/it]"
     ]
    },
    {
     "name": "stdout",
     "output_type": "stream",
     "text": [
      "\n",
      "image 1/1 C:\\Users\\admin\\.cache\\kagglehub\\datasets\\pavansanagapati\\images-dataset\\versions\\1\\data\\horses\\horse-105.jpg: 512x416 3 objects, 1446.4ms\n",
      "Speed: 2.4ms preprocess, 1446.4ms inference, 3.7ms postprocess per image at shape (1, 3, 512, 416)\n"
     ]
    },
    {
     "name": "stderr",
     "output_type": "stream",
     "text": [
      "  4%|▍         | 8/202 [00:11<04:39,  1.44s/it]"
     ]
    },
    {
     "name": "stdout",
     "output_type": "stream",
     "text": [
      "\n",
      "image 1/1 C:\\Users\\admin\\.cache\\kagglehub\\datasets\\pavansanagapati\\images-dataset\\versions\\1\\data\\horses\\horse-106.jpg: 320x512 4 objects, 1183.0ms\n",
      "Speed: 1.8ms preprocess, 1183.0ms inference, 4.2ms postprocess per image at shape (1, 3, 320, 512)\n"
     ]
    },
    {
     "name": "stderr",
     "output_type": "stream",
     "text": [
      "  4%|▍         | 9/202 [00:13<04:24,  1.37s/it]"
     ]
    },
    {
     "name": "stdout",
     "output_type": "stream",
     "text": [
      "\n",
      "image 1/1 C:\\Users\\admin\\.cache\\kagglehub\\datasets\\pavansanagapati\\images-dataset\\versions\\1\\data\\horses\\horse-107.jpg: 512x512 5 objects, 1832.2ms\n",
      "Speed: 25.6ms preprocess, 1832.2ms inference, 5.4ms postprocess per image at shape (1, 3, 512, 512)\n"
     ]
    },
    {
     "name": "stderr",
     "output_type": "stream",
     "text": [
      "  5%|▍         | 10/202 [00:15<04:54,  1.53s/it]"
     ]
    },
    {
     "name": "stdout",
     "output_type": "stream",
     "text": [
      "\n",
      "image 1/1 C:\\Users\\admin\\.cache\\kagglehub\\datasets\\pavansanagapati\\images-dataset\\versions\\1\\data\\horses\\horse-108.jpg: 416x512 6 objects, 1551.0ms\n",
      "Speed: 2.4ms preprocess, 1551.0ms inference, 8.4ms postprocess per image at shape (1, 3, 416, 512)\n"
     ]
    },
    {
     "name": "stderr",
     "output_type": "stream",
     "text": [
      "  5%|▌         | 11/202 [00:16<04:56,  1.55s/it]"
     ]
    },
    {
     "name": "stdout",
     "output_type": "stream",
     "text": [
      "\n",
      "image 1/1 C:\\Users\\admin\\.cache\\kagglehub\\datasets\\pavansanagapati\\images-dataset\\versions\\1\\data\\horses\\horse-109.jpg: 320x512 9 objects, 1110.4ms\n",
      "Speed: 9.2ms preprocess, 1110.4ms inference, 8.7ms postprocess per image at shape (1, 3, 320, 512)\n"
     ]
    },
    {
     "name": "stderr",
     "output_type": "stream",
     "text": [
      "  6%|▌         | 12/202 [00:17<04:32,  1.43s/it]"
     ]
    },
    {
     "name": "stdout",
     "output_type": "stream",
     "text": [
      "\n",
      "image 1/1 C:\\Users\\admin\\.cache\\kagglehub\\datasets\\pavansanagapati\\images-dataset\\versions\\1\\data\\horses\\horse-11.jpg: 352x512 7 objects, 1230.6ms\n",
      "Speed: 1.7ms preprocess, 1230.6ms inference, 6.0ms postprocess per image at shape (1, 3, 352, 512)\n"
     ]
    },
    {
     "name": "stderr",
     "output_type": "stream",
     "text": [
      "  6%|▋         | 13/202 [00:19<04:21,  1.38s/it]"
     ]
    },
    {
     "name": "stdout",
     "output_type": "stream",
     "text": [
      "\n",
      "image 1/1 C:\\Users\\admin\\.cache\\kagglehub\\datasets\\pavansanagapati\\images-dataset\\versions\\1\\data\\horses\\horse-110.jpg: 384x512 5 objects, 1677.9ms\n",
      "Speed: 24.0ms preprocess, 1677.9ms inference, 5.4ms postprocess per image at shape (1, 3, 384, 512)\n"
     ]
    },
    {
     "name": "stderr",
     "output_type": "stream",
     "text": [
      "  7%|▋         | 14/202 [00:20<04:40,  1.49s/it]"
     ]
    },
    {
     "name": "stdout",
     "output_type": "stream",
     "text": [
      "\n",
      "image 1/1 C:\\Users\\admin\\.cache\\kagglehub\\datasets\\pavansanagapati\\images-dataset\\versions\\1\\data\\horses\\horse-111.jpg: 512x416 8 objects, 1701.6ms\n",
      "Speed: 11.2ms preprocess, 1701.6ms inference, 6.5ms postprocess per image at shape (1, 3, 512, 416)\n"
     ]
    },
    {
     "name": "stderr",
     "output_type": "stream",
     "text": [
      "  7%|▋         | 15/202 [00:22<04:55,  1.58s/it]"
     ]
    },
    {
     "name": "stdout",
     "output_type": "stream",
     "text": [
      "\n",
      "image 1/1 C:\\Users\\admin\\.cache\\kagglehub\\datasets\\pavansanagapati\\images-dataset\\versions\\1\\data\\horses\\horse-112.jpg: 448x512 5 objects, 1569.5ms\n",
      "Speed: 2.1ms preprocess, 1569.5ms inference, 5.5ms postprocess per image at shape (1, 3, 448, 512)\n"
     ]
    },
    {
     "name": "stderr",
     "output_type": "stream",
     "text": [
      "  8%|▊         | 16/202 [00:24<04:55,  1.59s/it]"
     ]
    },
    {
     "name": "stdout",
     "output_type": "stream",
     "text": [
      "\n",
      "image 1/1 C:\\Users\\admin\\.cache\\kagglehub\\datasets\\pavansanagapati\\images-dataset\\versions\\1\\data\\horses\\horse-113.jpg: 352x512 9 objects, 1310.7ms\n",
      "Speed: 9.4ms preprocess, 1310.7ms inference, 11.7ms postprocess per image at shape (1, 3, 352, 512)\n"
     ]
    },
    {
     "name": "stderr",
     "output_type": "stream",
     "text": [
      "  8%|▊         | 17/202 [00:25<04:41,  1.52s/it]"
     ]
    },
    {
     "name": "stdout",
     "output_type": "stream",
     "text": [
      "\n",
      "image 1/1 C:\\Users\\admin\\.cache\\kagglehub\\datasets\\pavansanagapati\\images-dataset\\versions\\1\\data\\horses\\horse-114.jpg: 384x512 10 objects, 1346.1ms\n",
      "Speed: 2.6ms preprocess, 1346.1ms inference, 7.2ms postprocess per image at shape (1, 3, 384, 512)\n"
     ]
    },
    {
     "name": "stderr",
     "output_type": "stream",
     "text": [
      "  9%|▉         | 18/202 [00:26<04:32,  1.48s/it]"
     ]
    },
    {
     "name": "stdout",
     "output_type": "stream",
     "text": [
      "\n",
      "image 1/1 C:\\Users\\admin\\.cache\\kagglehub\\datasets\\pavansanagapati\\images-dataset\\versions\\1\\data\\horses\\horse-115.jpg: 512x384 4 objects, 1464.6ms\n",
      "Speed: 2.9ms preprocess, 1464.6ms inference, 4.1ms postprocess per image at shape (1, 3, 512, 384)\n"
     ]
    },
    {
     "name": "stderr",
     "output_type": "stream",
     "text": [
      "  9%|▉         | 19/202 [00:28<04:32,  1.49s/it]"
     ]
    },
    {
     "name": "stdout",
     "output_type": "stream",
     "text": [
      "\n",
      "image 1/1 C:\\Users\\admin\\.cache\\kagglehub\\datasets\\pavansanagapati\\images-dataset\\versions\\1\\data\\horses\\horse-116.jpg: 352x512 5 objects, 1247.1ms\n",
      "Speed: 1.6ms preprocess, 1247.1ms inference, 4.5ms postprocess per image at shape (1, 3, 352, 512)\n"
     ]
    },
    {
     "name": "stderr",
     "output_type": "stream",
     "text": [
      " 10%|▉         | 20/202 [00:29<04:19,  1.43s/it]"
     ]
    },
    {
     "name": "stdout",
     "output_type": "stream",
     "text": [
      "\n",
      "image 1/1 C:\\Users\\admin\\.cache\\kagglehub\\datasets\\pavansanagapati\\images-dataset\\versions\\1\\data\\horses\\horse-117.jpg: 352x512 5 objects, 1333.2ms\n",
      "Speed: 1.8ms preprocess, 1333.2ms inference, 5.1ms postprocess per image at shape (1, 3, 352, 512)\n"
     ]
    },
    {
     "name": "stderr",
     "output_type": "stream",
     "text": [
      " 10%|█         | 21/202 [00:31<04:15,  1.41s/it]"
     ]
    },
    {
     "name": "stdout",
     "output_type": "stream",
     "text": [
      "\n",
      "image 1/1 C:\\Users\\admin\\.cache\\kagglehub\\datasets\\pavansanagapati\\images-dataset\\versions\\1\\data\\horses\\horse-118.jpg: 320x512 5 objects, 1164.6ms\n",
      "Speed: 1.7ms preprocess, 1164.6ms inference, 5.2ms postprocess per image at shape (1, 3, 320, 512)\n"
     ]
    },
    {
     "name": "stderr",
     "output_type": "stream",
     "text": [
      " 11%|█         | 22/202 [00:32<04:02,  1.35s/it]"
     ]
    },
    {
     "name": "stdout",
     "output_type": "stream",
     "text": [
      "\n",
      "image 1/1 C:\\Users\\admin\\.cache\\kagglehub\\datasets\\pavansanagapati\\images-dataset\\versions\\1\\data\\horses\\horse-119.jpg: 384x512 13 objects, 1449.3ms\n",
      "Speed: 5.8ms preprocess, 1449.3ms inference, 10.9ms postprocess per image at shape (1, 3, 384, 512)\n"
     ]
    },
    {
     "name": "stderr",
     "output_type": "stream",
     "text": [
      " 11%|█▏        | 23/202 [00:33<04:09,  1.39s/it]"
     ]
    },
    {
     "name": "stdout",
     "output_type": "stream",
     "text": [
      "\n",
      "image 1/1 C:\\Users\\admin\\.cache\\kagglehub\\datasets\\pavansanagapati\\images-dataset\\versions\\1\\data\\horses\\horse-12.jpg: 288x512 6 objects, 1015.0ms\n",
      "Speed: 1.4ms preprocess, 1015.0ms inference, 4.4ms postprocess per image at shape (1, 3, 288, 512)\n"
     ]
    },
    {
     "name": "stderr",
     "output_type": "stream",
     "text": [
      " 12%|█▏        | 24/202 [00:34<03:49,  1.29s/it]"
     ]
    },
    {
     "name": "stdout",
     "output_type": "stream",
     "text": [
      "\n",
      "image 1/1 C:\\Users\\admin\\.cache\\kagglehub\\datasets\\pavansanagapati\\images-dataset\\versions\\1\\data\\horses\\horse-120.jpg: 384x512 4 objects, 1433.8ms\n",
      "Speed: 1.6ms preprocess, 1433.8ms inference, 4.5ms postprocess per image at shape (1, 3, 384, 512)\n"
     ]
    },
    {
     "name": "stderr",
     "output_type": "stream",
     "text": [
      " 12%|█▏        | 25/202 [00:36<03:57,  1.34s/it]"
     ]
    },
    {
     "name": "stdout",
     "output_type": "stream",
     "text": [
      "\n",
      "image 1/1 C:\\Users\\admin\\.cache\\kagglehub\\datasets\\pavansanagapati\\images-dataset\\versions\\1\\data\\horses\\horse-121.jpg: 416x512 7 objects, 1454.0ms\n",
      "Speed: 1.5ms preprocess, 1454.0ms inference, 5.9ms postprocess per image at shape (1, 3, 416, 512)\n"
     ]
    },
    {
     "name": "stderr",
     "output_type": "stream",
     "text": [
      " 13%|█▎        | 26/202 [00:37<04:03,  1.39s/it]"
     ]
    },
    {
     "name": "stdout",
     "output_type": "stream",
     "text": [
      "\n",
      "image 1/1 C:\\Users\\admin\\.cache\\kagglehub\\datasets\\pavansanagapati\\images-dataset\\versions\\1\\data\\horses\\horse-122.jpg: 352x512 6 objects, 1225.8ms\n",
      "Speed: 1.5ms preprocess, 1225.8ms inference, 6.8ms postprocess per image at shape (1, 3, 352, 512)\n"
     ]
    },
    {
     "name": "stderr",
     "output_type": "stream",
     "text": [
      " 13%|█▎        | 27/202 [00:39<03:56,  1.35s/it]"
     ]
    },
    {
     "name": "stdout",
     "output_type": "stream",
     "text": [
      "\n",
      "image 1/1 C:\\Users\\admin\\.cache\\kagglehub\\datasets\\pavansanagapati\\images-dataset\\versions\\1\\data\\horses\\horse-123.jpg: 448x512 11 objects, 1599.0ms\n",
      "Speed: 20.3ms preprocess, 1599.0ms inference, 8.6ms postprocess per image at shape (1, 3, 448, 512)\n"
     ]
    },
    {
     "name": "stderr",
     "output_type": "stream",
     "text": [
      " 14%|█▍        | 28/202 [00:40<04:12,  1.45s/it]"
     ]
    },
    {
     "name": "stdout",
     "output_type": "stream",
     "text": [
      "\n",
      "image 1/1 C:\\Users\\admin\\.cache\\kagglehub\\datasets\\pavansanagapati\\images-dataset\\versions\\1\\data\\horses\\horse-124.jpg: 512x480 4 objects, 1787.6ms\n",
      "Speed: 2.0ms preprocess, 1787.6ms inference, 4.5ms postprocess per image at shape (1, 3, 512, 480)\n"
     ]
    },
    {
     "name": "stderr",
     "output_type": "stream",
     "text": [
      " 14%|█▍        | 29/202 [00:42<04:30,  1.56s/it]"
     ]
    },
    {
     "name": "stdout",
     "output_type": "stream",
     "text": [
      "\n",
      "image 1/1 C:\\Users\\admin\\.cache\\kagglehub\\datasets\\pavansanagapati\\images-dataset\\versions\\1\\data\\horses\\horse-125.jpg: 416x512 10 objects, 1526.5ms\n",
      "Speed: 1.7ms preprocess, 1526.5ms inference, 8.4ms postprocess per image at shape (1, 3, 416, 512)\n"
     ]
    },
    {
     "name": "stderr",
     "output_type": "stream",
     "text": [
      " 15%|█▍        | 30/202 [00:44<04:29,  1.56s/it]"
     ]
    },
    {
     "name": "stdout",
     "output_type": "stream",
     "text": [
      "\n",
      "image 1/1 C:\\Users\\admin\\.cache\\kagglehub\\datasets\\pavansanagapati\\images-dataset\\versions\\1\\data\\horses\\horse-126.jpg: 512x512 3 objects, 1784.1ms\n",
      "Speed: 2.3ms preprocess, 1784.1ms inference, 4.0ms postprocess per image at shape (1, 3, 512, 512)\n"
     ]
    },
    {
     "name": "stderr",
     "output_type": "stream",
     "text": [
      " 15%|█▌        | 31/202 [00:45<04:40,  1.64s/it]"
     ]
    },
    {
     "name": "stdout",
     "output_type": "stream",
     "text": [
      "\n",
      "image 1/1 C:\\Users\\admin\\.cache\\kagglehub\\datasets\\pavansanagapati\\images-dataset\\versions\\1\\data\\horses\\horse-127.jpg: 512x512 3 objects, 1834.8ms\n",
      "Speed: 3.7ms preprocess, 1834.8ms inference, 5.0ms postprocess per image at shape (1, 3, 512, 512)\n"
     ]
    },
    {
     "name": "stderr",
     "output_type": "stream",
     "text": [
      " 16%|█▌        | 32/202 [00:47<04:50,  1.71s/it]"
     ]
    },
    {
     "name": "stdout",
     "output_type": "stream",
     "text": [
      "\n",
      "image 1/1 C:\\Users\\admin\\.cache\\kagglehub\\datasets\\pavansanagapati\\images-dataset\\versions\\1\\data\\horses\\horse-128.jpg: 512x352 9 objects, 1301.2ms\n",
      "Speed: 2.6ms preprocess, 1301.2ms inference, 7.1ms postprocess per image at shape (1, 3, 512, 352)\n"
     ]
    },
    {
     "name": "stderr",
     "output_type": "stream",
     "text": [
      " 16%|█▋        | 33/202 [00:49<04:30,  1.60s/it]"
     ]
    },
    {
     "name": "stdout",
     "output_type": "stream",
     "text": [
      "\n",
      "image 1/1 C:\\Users\\admin\\.cache\\kagglehub\\datasets\\pavansanagapati\\images-dataset\\versions\\1\\data\\horses\\horse-129.jpg: 512x416 4 objects, 1565.3ms\n",
      "Speed: 2.4ms preprocess, 1565.3ms inference, 4.4ms postprocess per image at shape (1, 3, 512, 416)\n"
     ]
    },
    {
     "name": "stderr",
     "output_type": "stream",
     "text": [
      " 17%|█▋        | 34/202 [00:50<04:28,  1.60s/it]"
     ]
    },
    {
     "name": "stdout",
     "output_type": "stream",
     "text": [
      "\n",
      "image 1/1 C:\\Users\\admin\\.cache\\kagglehub\\datasets\\pavansanagapati\\images-dataset\\versions\\1\\data\\horses\\horse-13.jpg: 320x512 12 objects, 1135.6ms\n",
      "Speed: 2.7ms preprocess, 1135.6ms inference, 73.4ms postprocess per image at shape (1, 3, 320, 512)\n"
     ]
    },
    {
     "name": "stderr",
     "output_type": "stream",
     "text": [
      " 17%|█▋        | 35/202 [00:52<04:11,  1.50s/it]"
     ]
    },
    {
     "name": "stdout",
     "output_type": "stream",
     "text": [
      "\n",
      "image 1/1 C:\\Users\\admin\\.cache\\kagglehub\\datasets\\pavansanagapati\\images-dataset\\versions\\1\\data\\horses\\horse-130.jpg: 512x416 8 objects, 1517.3ms\n",
      "Speed: 3.5ms preprocess, 1517.3ms inference, 6.3ms postprocess per image at shape (1, 3, 512, 416)\n"
     ]
    },
    {
     "name": "stderr",
     "output_type": "stream",
     "text": [
      " 18%|█▊        | 36/202 [00:53<04:13,  1.53s/it]"
     ]
    },
    {
     "name": "stdout",
     "output_type": "stream",
     "text": [
      "\n",
      "image 1/1 C:\\Users\\admin\\.cache\\kagglehub\\datasets\\pavansanagapati\\images-dataset\\versions\\1\\data\\horses\\horse-131.jpg: 352x512 7 objects, 1255.0ms\n",
      "Speed: 1.8ms preprocess, 1255.0ms inference, 7.2ms postprocess per image at shape (1, 3, 352, 512)\n"
     ]
    },
    {
     "name": "stderr",
     "output_type": "stream",
     "text": [
      " 18%|█▊        | 37/202 [00:54<04:00,  1.46s/it]"
     ]
    },
    {
     "name": "stdout",
     "output_type": "stream",
     "text": [
      "\n",
      "image 1/1 C:\\Users\\admin\\.cache\\kagglehub\\datasets\\pavansanagapati\\images-dataset\\versions\\1\\data\\horses\\horse-132.jpg: 352x512 4 objects, 1329.1ms\n",
      "Speed: 4.6ms preprocess, 1329.1ms inference, 4.8ms postprocess per image at shape (1, 3, 352, 512)\n"
     ]
    },
    {
     "name": "stderr",
     "output_type": "stream",
     "text": [
      " 19%|█▉        | 38/202 [00:56<03:54,  1.43s/it]"
     ]
    },
    {
     "name": "stdout",
     "output_type": "stream",
     "text": [
      "\n",
      "image 1/1 C:\\Users\\admin\\.cache\\kagglehub\\datasets\\pavansanagapati\\images-dataset\\versions\\1\\data\\horses\\horse-133.jpg: 512x384 10 objects, 1378.9ms\n",
      "Speed: 1.9ms preprocess, 1378.9ms inference, 8.2ms postprocess per image at shape (1, 3, 512, 384)\n"
     ]
    },
    {
     "name": "stderr",
     "output_type": "stream",
     "text": [
      " 19%|█▉        | 39/202 [00:57<03:52,  1.43s/it]"
     ]
    },
    {
     "name": "stdout",
     "output_type": "stream",
     "text": [
      "\n",
      "image 1/1 C:\\Users\\admin\\.cache\\kagglehub\\datasets\\pavansanagapati\\images-dataset\\versions\\1\\data\\horses\\horse-134.jpg: 384x512 7 objects, 1367.7ms\n",
      "Speed: 2.1ms preprocess, 1367.7ms inference, 6.2ms postprocess per image at shape (1, 3, 384, 512)\n"
     ]
    },
    {
     "name": "stderr",
     "output_type": "stream",
     "text": [
      " 20%|█▉        | 40/202 [00:59<03:50,  1.42s/it]"
     ]
    },
    {
     "name": "stdout",
     "output_type": "stream",
     "text": [
      "\n",
      "image 1/1 C:\\Users\\admin\\.cache\\kagglehub\\datasets\\pavansanagapati\\images-dataset\\versions\\1\\data\\horses\\horse-135.jpg: 288x512 4 objects, 1145.5ms\n",
      "Speed: 23.1ms preprocess, 1145.5ms inference, 4.9ms postprocess per image at shape (1, 3, 288, 512)\n"
     ]
    },
    {
     "name": "stderr",
     "output_type": "stream",
     "text": [
      " 20%|██        | 41/202 [01:00<03:39,  1.36s/it]"
     ]
    },
    {
     "name": "stdout",
     "output_type": "stream",
     "text": [
      "\n",
      "image 1/1 C:\\Users\\admin\\.cache\\kagglehub\\datasets\\pavansanagapati\\images-dataset\\versions\\1\\data\\horses\\horse-136.jpg: 384x512 8 objects, 1436.7ms\n",
      "Speed: 2.1ms preprocess, 1436.7ms inference, 6.8ms postprocess per image at shape (1, 3, 384, 512)\n"
     ]
    },
    {
     "name": "stderr",
     "output_type": "stream",
     "text": [
      " 21%|██        | 42/202 [01:01<03:43,  1.40s/it]"
     ]
    },
    {
     "name": "stdout",
     "output_type": "stream",
     "text": [
      "\n",
      "image 1/1 C:\\Users\\admin\\.cache\\kagglehub\\datasets\\pavansanagapati\\images-dataset\\versions\\1\\data\\horses\\horse-137.jpg: 512x512 4 objects, 1852.5ms\n",
      "Speed: 2.9ms preprocess, 1852.5ms inference, 4.9ms postprocess per image at shape (1, 3, 512, 512)\n"
     ]
    },
    {
     "name": "stderr",
     "output_type": "stream",
     "text": [
      " 21%|██▏       | 43/202 [01:03<04:05,  1.54s/it]"
     ]
    },
    {
     "name": "stdout",
     "output_type": "stream",
     "text": [
      "\n",
      "image 1/1 C:\\Users\\admin\\.cache\\kagglehub\\datasets\\pavansanagapati\\images-dataset\\versions\\1\\data\\horses\\horse-138.jpg: 512x352 4 objects, 1271.7ms\n",
      "Speed: 1.9ms preprocess, 1271.7ms inference, 4.6ms postprocess per image at shape (1, 3, 512, 352)\n"
     ]
    },
    {
     "name": "stderr",
     "output_type": "stream",
     "text": [
      " 22%|██▏       | 44/202 [01:05<03:52,  1.47s/it]"
     ]
    },
    {
     "name": "stdout",
     "output_type": "stream",
     "text": [
      "\n",
      "image 1/1 C:\\Users\\admin\\.cache\\kagglehub\\datasets\\pavansanagapati\\images-dataset\\versions\\1\\data\\horses\\horse-139.jpg: 512x352 4 objects, 1243.0ms\n",
      "Speed: 2.3ms preprocess, 1243.0ms inference, 4.8ms postprocess per image at shape (1, 3, 512, 352)\n"
     ]
    },
    {
     "name": "stderr",
     "output_type": "stream",
     "text": [
      " 22%|██▏       | 45/202 [01:06<03:42,  1.42s/it]"
     ]
    },
    {
     "name": "stdout",
     "output_type": "stream",
     "text": [
      "\n",
      "image 1/1 C:\\Users\\admin\\.cache\\kagglehub\\datasets\\pavansanagapati\\images-dataset\\versions\\1\\data\\horses\\horse-14.jpg: 352x512 11 objects, 1236.2ms\n",
      "Speed: 25.4ms preprocess, 1236.2ms inference, 58.0ms postprocess per image at shape (1, 3, 352, 512)\n"
     ]
    },
    {
     "name": "stderr",
     "output_type": "stream",
     "text": [
      " 23%|██▎       | 46/202 [01:07<03:39,  1.41s/it]"
     ]
    },
    {
     "name": "stdout",
     "output_type": "stream",
     "text": [
      "\n",
      "image 1/1 C:\\Users\\admin\\.cache\\kagglehub\\datasets\\pavansanagapati\\images-dataset\\versions\\1\\data\\horses\\horse-140.jpg: 288x512 4 objects, 1126.9ms\n",
      "Speed: 4.4ms preprocess, 1126.9ms inference, 5.3ms postprocess per image at shape (1, 3, 288, 512)\n"
     ]
    },
    {
     "name": "stderr",
     "output_type": "stream",
     "text": [
      " 23%|██▎       | 47/202 [01:08<03:27,  1.34s/it]"
     ]
    },
    {
     "name": "stdout",
     "output_type": "stream",
     "text": [
      "\n",
      "image 1/1 C:\\Users\\admin\\.cache\\kagglehub\\datasets\\pavansanagapati\\images-dataset\\versions\\1\\data\\horses\\horse-141.jpg: 352x512 7 objects, 1214.4ms\n",
      "Speed: 1.9ms preprocess, 1214.4ms inference, 89.8ms postprocess per image at shape (1, 3, 352, 512)\n"
     ]
    },
    {
     "name": "stderr",
     "output_type": "stream",
     "text": [
      " 24%|██▍       | 48/202 [01:10<03:26,  1.34s/it]"
     ]
    },
    {
     "name": "stdout",
     "output_type": "stream",
     "text": [
      "\n",
      "image 1/1 C:\\Users\\admin\\.cache\\kagglehub\\datasets\\pavansanagapati\\images-dataset\\versions\\1\\data\\horses\\horse-142.jpg: 384x512 5 objects, 1333.8ms\n",
      "Speed: 1.8ms preprocess, 1333.8ms inference, 5.1ms postprocess per image at shape (1, 3, 384, 512)\n"
     ]
    },
    {
     "name": "stderr",
     "output_type": "stream",
     "text": [
      " 24%|██▍       | 49/202 [01:11<03:27,  1.35s/it]"
     ]
    },
    {
     "name": "stdout",
     "output_type": "stream",
     "text": [
      "\n",
      "image 1/1 C:\\Users\\admin\\.cache\\kagglehub\\datasets\\pavansanagapati\\images-dataset\\versions\\1\\data\\horses\\horse-143.jpg: 384x512 3 objects, 1430.4ms\n",
      "Speed: 2.9ms preprocess, 1430.4ms inference, 4.8ms postprocess per image at shape (1, 3, 384, 512)\n"
     ]
    },
    {
     "name": "stderr",
     "output_type": "stream",
     "text": [
      " 25%|██▍       | 50/202 [01:13<03:30,  1.39s/it]"
     ]
    },
    {
     "name": "stdout",
     "output_type": "stream",
     "text": [
      "\n",
      "image 1/1 C:\\Users\\admin\\.cache\\kagglehub\\datasets\\pavansanagapati\\images-dataset\\versions\\1\\data\\horses\\horse-144.jpg: 384x512 4 objects, 1345.4ms\n",
      "Speed: 2.0ms preprocess, 1345.4ms inference, 6.3ms postprocess per image at shape (1, 3, 384, 512)\n"
     ]
    },
    {
     "name": "stderr",
     "output_type": "stream",
     "text": [
      " 25%|██▌       | 51/202 [01:14<03:29,  1.39s/it]"
     ]
    },
    {
     "name": "stdout",
     "output_type": "stream",
     "text": [
      "\n",
      "image 1/1 C:\\Users\\admin\\.cache\\kagglehub\\datasets\\pavansanagapati\\images-dataset\\versions\\1\\data\\horses\\horse-145.jpg: 320x512 3 objects, 1146.3ms\n",
      "Speed: 3.2ms preprocess, 1146.3ms inference, 4.5ms postprocess per image at shape (1, 3, 320, 512)\n"
     ]
    },
    {
     "name": "stderr",
     "output_type": "stream",
     "text": [
      " 26%|██▌       | 52/202 [01:15<03:18,  1.32s/it]"
     ]
    },
    {
     "name": "stdout",
     "output_type": "stream",
     "text": [
      "\n",
      "image 1/1 C:\\Users\\admin\\.cache\\kagglehub\\datasets\\pavansanagapati\\images-dataset\\versions\\1\\data\\horses\\horse-146.jpg: 512x352 5 objects, 1303.5ms\n",
      "Speed: 25.3ms preprocess, 1303.5ms inference, 4.9ms postprocess per image at shape (1, 3, 512, 352)\n"
     ]
    },
    {
     "name": "stderr",
     "output_type": "stream",
     "text": [
      " 26%|██▌       | 53/202 [01:17<03:19,  1.34s/it]"
     ]
    },
    {
     "name": "stdout",
     "output_type": "stream",
     "text": [
      "\n",
      "image 1/1 C:\\Users\\admin\\.cache\\kagglehub\\datasets\\pavansanagapati\\images-dataset\\versions\\1\\data\\horses\\horse-147.jpg: 416x512 7 objects, 1544.9ms\n",
      "Speed: 1.8ms preprocess, 1544.9ms inference, 5.7ms postprocess per image at shape (1, 3, 416, 512)\n"
     ]
    },
    {
     "name": "stderr",
     "output_type": "stream",
     "text": [
      " 27%|██▋       | 54/202 [01:18<03:28,  1.41s/it]"
     ]
    },
    {
     "name": "stdout",
     "output_type": "stream",
     "text": [
      "\n",
      "image 1/1 C:\\Users\\admin\\.cache\\kagglehub\\datasets\\pavansanagapati\\images-dataset\\versions\\1\\data\\horses\\horse-148.jpg: 416x512 7 objects, 1467.6ms\n",
      "Speed: 3.1ms preprocess, 1467.6ms inference, 7.0ms postprocess per image at shape (1, 3, 416, 512)\n"
     ]
    },
    {
     "name": "stderr",
     "output_type": "stream",
     "text": [
      " 27%|██▋       | 55/202 [01:20<03:31,  1.44s/it]"
     ]
    },
    {
     "name": "stdout",
     "output_type": "stream",
     "text": [
      "\n",
      "image 1/1 C:\\Users\\admin\\.cache\\kagglehub\\datasets\\pavansanagapati\\images-dataset\\versions\\1\\data\\horses\\horse-149.jpg: 416x512 5 objects, 1530.6ms\n",
      "Speed: 2.1ms preprocess, 1530.6ms inference, 5.4ms postprocess per image at shape (1, 3, 416, 512)\n"
     ]
    },
    {
     "name": "stderr",
     "output_type": "stream",
     "text": [
      " 28%|██▊       | 56/202 [01:21<03:35,  1.48s/it]"
     ]
    },
    {
     "name": "stdout",
     "output_type": "stream",
     "text": [
      "\n",
      "image 1/1 C:\\Users\\admin\\.cache\\kagglehub\\datasets\\pavansanagapati\\images-dataset\\versions\\1\\data\\horses\\horse-15.jpg: 384x512 6 objects, 1323.9ms\n",
      "Speed: 2.4ms preprocess, 1323.9ms inference, 84.1ms postprocess per image at shape (1, 3, 384, 512)\n"
     ]
    },
    {
     "name": "stderr",
     "output_type": "stream",
     "text": [
      " 28%|██▊       | 57/202 [01:23<03:35,  1.48s/it]"
     ]
    },
    {
     "name": "stdout",
     "output_type": "stream",
     "text": [
      "\n",
      "image 1/1 C:\\Users\\admin\\.cache\\kagglehub\\datasets\\pavansanagapati\\images-dataset\\versions\\1\\data\\horses\\horse-150.jpg: 512x512 14 objects, 1908.6ms\n",
      "Speed: 3.2ms preprocess, 1908.6ms inference, 17.6ms postprocess per image at shape (1, 3, 512, 512)\n"
     ]
    },
    {
     "name": "stderr",
     "output_type": "stream",
     "text": [
      " 29%|██▊       | 58/202 [01:25<03:55,  1.63s/it]"
     ]
    },
    {
     "name": "stdout",
     "output_type": "stream",
     "text": [
      "\n",
      "image 1/1 C:\\Users\\admin\\.cache\\kagglehub\\datasets\\pavansanagapati\\images-dataset\\versions\\1\\data\\horses\\horse-151.jpg: 352x512 6 objects, 1475.7ms\n",
      "Speed: 2.8ms preprocess, 1475.7ms inference, 12.3ms postprocess per image at shape (1, 3, 352, 512)\n"
     ]
    },
    {
     "name": "stderr",
     "output_type": "stream",
     "text": [
      " 29%|██▉       | 59/202 [01:26<03:48,  1.60s/it]"
     ]
    },
    {
     "name": "stdout",
     "output_type": "stream",
     "text": [
      "\n",
      "image 1/1 C:\\Users\\admin\\.cache\\kagglehub\\datasets\\pavansanagapati\\images-dataset\\versions\\1\\data\\horses\\horse-152.jpg: 416x512 6 objects, 1468.2ms\n",
      "Speed: 2.5ms preprocess, 1468.2ms inference, 4.9ms postprocess per image at shape (1, 3, 416, 512)\n"
     ]
    },
    {
     "name": "stderr",
     "output_type": "stream",
     "text": [
      " 30%|██▉       | 60/202 [01:28<03:43,  1.57s/it]"
     ]
    },
    {
     "name": "stdout",
     "output_type": "stream",
     "text": [
      "\n",
      "image 1/1 C:\\Users\\admin\\.cache\\kagglehub\\datasets\\pavansanagapati\\images-dataset\\versions\\1\\data\\horses\\horse-153.jpg: 416x512 6 objects, 1496.8ms\n",
      "Speed: 2.4ms preprocess, 1496.8ms inference, 4.7ms postprocess per image at shape (1, 3, 416, 512)\n"
     ]
    },
    {
     "name": "stderr",
     "output_type": "stream",
     "text": [
      " 30%|███       | 61/202 [01:29<03:40,  1.56s/it]"
     ]
    },
    {
     "name": "stdout",
     "output_type": "stream",
     "text": [
      "\n",
      "image 1/1 C:\\Users\\admin\\.cache\\kagglehub\\datasets\\pavansanagapati\\images-dataset\\versions\\1\\data\\horses\\horse-154.jpg: 352x512 6 objects, 1216.2ms\n",
      "Speed: 4.3ms preprocess, 1216.2ms inference, 5.6ms postprocess per image at shape (1, 3, 352, 512)\n"
     ]
    },
    {
     "name": "stderr",
     "output_type": "stream",
     "text": [
      " 31%|███       | 62/202 [01:30<03:25,  1.47s/it]"
     ]
    },
    {
     "name": "stdout",
     "output_type": "stream",
     "text": [
      "\n",
      "image 1/1 C:\\Users\\admin\\.cache\\kagglehub\\datasets\\pavansanagapati\\images-dataset\\versions\\1\\data\\horses\\horse-155.jpg: 512x448 3 objects, 1681.6ms\n",
      "Speed: 2.6ms preprocess, 1681.6ms inference, 4.1ms postprocess per image at shape (1, 3, 512, 448)\n"
     ]
    },
    {
     "name": "stderr",
     "output_type": "stream",
     "text": [
      " 31%|███       | 63/202 [01:32<03:34,  1.54s/it]"
     ]
    },
    {
     "name": "stdout",
     "output_type": "stream",
     "text": [
      "\n",
      "image 1/1 C:\\Users\\admin\\.cache\\kagglehub\\datasets\\pavansanagapati\\images-dataset\\versions\\1\\data\\horses\\horse-156.jpg: 512x448 3 objects, 1568.6ms\n",
      "Speed: 2.3ms preprocess, 1568.6ms inference, 3.0ms postprocess per image at shape (1, 3, 512, 448)\n"
     ]
    },
    {
     "name": "stderr",
     "output_type": "stream",
     "text": [
      " 32%|███▏      | 64/202 [01:34<03:35,  1.56s/it]"
     ]
    },
    {
     "name": "stdout",
     "output_type": "stream",
     "text": [
      "\n",
      "image 1/1 C:\\Users\\admin\\.cache\\kagglehub\\datasets\\pavansanagapati\\images-dataset\\versions\\1\\data\\horses\\horse-157.jpg: 512x384 4 objects, 1424.5ms\n",
      "Speed: 2.2ms preprocess, 1424.5ms inference, 6.5ms postprocess per image at shape (1, 3, 512, 384)\n"
     ]
    },
    {
     "name": "stderr",
     "output_type": "stream",
     "text": [
      " 32%|███▏      | 65/202 [01:35<03:29,  1.53s/it]"
     ]
    },
    {
     "name": "stdout",
     "output_type": "stream",
     "text": [
      "\n",
      "image 1/1 C:\\Users\\admin\\.cache\\kagglehub\\datasets\\pavansanagapati\\images-dataset\\versions\\1\\data\\horses\\horse-158.jpg: 512x448 3 objects, 1544.5ms\n",
      "Speed: 2.5ms preprocess, 1544.5ms inference, 3.8ms postprocess per image at shape (1, 3, 512, 448)\n"
     ]
    },
    {
     "name": "stderr",
     "output_type": "stream",
     "text": [
      " 33%|███▎      | 66/202 [01:37<03:30,  1.55s/it]"
     ]
    },
    {
     "name": "stdout",
     "output_type": "stream",
     "text": [
      "\n",
      "image 1/1 C:\\Users\\admin\\.cache\\kagglehub\\datasets\\pavansanagapati\\images-dataset\\versions\\1\\data\\horses\\horse-159.jpg: 512x352 2 objects, 1209.6ms\n",
      "Speed: 2.3ms preprocess, 1209.6ms inference, 4.0ms postprocess per image at shape (1, 3, 512, 352)\n"
     ]
    },
    {
     "name": "stderr",
     "output_type": "stream",
     "text": [
      " 33%|███▎      | 67/202 [01:38<03:16,  1.45s/it]"
     ]
    },
    {
     "name": "stdout",
     "output_type": "stream",
     "text": [
      "\n",
      "image 1/1 C:\\Users\\admin\\.cache\\kagglehub\\datasets\\pavansanagapati\\images-dataset\\versions\\1\\data\\horses\\horse-16.jpg: 352x512 7 objects, 1280.0ms\n",
      "Speed: 2.1ms preprocess, 1280.0ms inference, 40.2ms postprocess per image at shape (1, 3, 352, 512)\n"
     ]
    },
    {
     "name": "stderr",
     "output_type": "stream",
     "text": [
      " 34%|███▎      | 68/202 [01:39<03:11,  1.43s/it]"
     ]
    },
    {
     "name": "stdout",
     "output_type": "stream",
     "text": [
      "\n",
      "image 1/1 C:\\Users\\admin\\.cache\\kagglehub\\datasets\\pavansanagapati\\images-dataset\\versions\\1\\data\\horses\\horse-160.jpg: 288x512 4 objects, 1126.5ms\n",
      "Speed: 1.3ms preprocess, 1126.5ms inference, 5.8ms postprocess per image at shape (1, 3, 288, 512)\n"
     ]
    },
    {
     "name": "stderr",
     "output_type": "stream",
     "text": [
      " 34%|███▍      | 69/202 [01:41<02:59,  1.35s/it]"
     ]
    },
    {
     "name": "stdout",
     "output_type": "stream",
     "text": [
      "\n",
      "image 1/1 C:\\Users\\admin\\.cache\\kagglehub\\datasets\\pavansanagapati\\images-dataset\\versions\\1\\data\\horses\\horse-161.jpg: 352x512 7 objects, 1312.9ms\n",
      "Speed: 2.7ms preprocess, 1312.9ms inference, 7.4ms postprocess per image at shape (1, 3, 352, 512)\n"
     ]
    },
    {
     "name": "stderr",
     "output_type": "stream",
     "text": [
      " 35%|███▍      | 70/202 [01:42<02:58,  1.35s/it]"
     ]
    },
    {
     "name": "stdout",
     "output_type": "stream",
     "text": [
      "\n",
      "image 1/1 C:\\Users\\admin\\.cache\\kagglehub\\datasets\\pavansanagapati\\images-dataset\\versions\\1\\data\\horses\\horse-162.jpg: 384x512 5 objects, 1328.5ms\n",
      "Speed: 1.9ms preprocess, 1328.5ms inference, 5.3ms postprocess per image at shape (1, 3, 384, 512)\n"
     ]
    },
    {
     "name": "stderr",
     "output_type": "stream",
     "text": [
      " 35%|███▌      | 71/202 [01:43<02:57,  1.36s/it]"
     ]
    },
    {
     "name": "stdout",
     "output_type": "stream",
     "text": [
      "\n",
      "image 1/1 C:\\Users\\admin\\.cache\\kagglehub\\datasets\\pavansanagapati\\images-dataset\\versions\\1\\data\\horses\\horse-163.jpg: 448x512 2 objects, 1653.4ms\n",
      "Speed: 4.0ms preprocess, 1653.4ms inference, 2.8ms postprocess per image at shape (1, 3, 448, 512)\n"
     ]
    },
    {
     "name": "stderr",
     "output_type": "stream",
     "text": [
      " 36%|███▌      | 72/202 [01:45<03:09,  1.45s/it]"
     ]
    },
    {
     "name": "stdout",
     "output_type": "stream",
     "text": [
      "\n",
      "image 1/1 C:\\Users\\admin\\.cache\\kagglehub\\datasets\\pavansanagapati\\images-dataset\\versions\\1\\data\\horses\\horse-164.jpg: 512x384 4 objects, 1264.8ms\n",
      "Speed: 1.7ms preprocess, 1264.8ms inference, 3.3ms postprocess per image at shape (1, 3, 512, 384)\n"
     ]
    },
    {
     "name": "stderr",
     "output_type": "stream",
     "text": [
      " 36%|███▌      | 73/202 [01:46<03:01,  1.41s/it]"
     ]
    },
    {
     "name": "stdout",
     "output_type": "stream",
     "text": [
      "\n",
      "image 1/1 C:\\Users\\admin\\.cache\\kagglehub\\datasets\\pavansanagapati\\images-dataset\\versions\\1\\data\\horses\\horse-165.jpg: 352x512 4 objects, 1213.8ms\n",
      "Speed: 2.1ms preprocess, 1213.8ms inference, 5.8ms postprocess per image at shape (1, 3, 352, 512)\n"
     ]
    },
    {
     "name": "stderr",
     "output_type": "stream",
     "text": [
      " 37%|███▋      | 74/202 [01:48<02:54,  1.36s/it]"
     ]
    },
    {
     "name": "stdout",
     "output_type": "stream",
     "text": [
      "\n",
      "image 1/1 C:\\Users\\admin\\.cache\\kagglehub\\datasets\\pavansanagapati\\images-dataset\\versions\\1\\data\\horses\\horse-166.jpg: 288x512 1 object, 1040.8ms\n",
      "Speed: 28.6ms preprocess, 1040.8ms inference, 2.7ms postprocess per image at shape (1, 3, 288, 512)\n"
     ]
    },
    {
     "name": "stderr",
     "output_type": "stream",
     "text": [
      " 37%|███▋      | 75/202 [01:49<02:43,  1.29s/it]"
     ]
    },
    {
     "name": "stdout",
     "output_type": "stream",
     "text": [
      "\n",
      "image 1/1 C:\\Users\\admin\\.cache\\kagglehub\\datasets\\pavansanagapati\\images-dataset\\versions\\1\\data\\horses\\horse-167.jpg: 512x384 8 objects, 1372.2ms\n",
      "Speed: 5.4ms preprocess, 1372.2ms inference, 7.0ms postprocess per image at shape (1, 3, 512, 384)\n"
     ]
    },
    {
     "name": "stderr",
     "output_type": "stream",
     "text": [
      " 38%|███▊      | 76/202 [01:50<02:46,  1.33s/it]"
     ]
    },
    {
     "name": "stdout",
     "output_type": "stream",
     "text": [
      "\n",
      "image 1/1 C:\\Users\\admin\\.cache\\kagglehub\\datasets\\pavansanagapati\\images-dataset\\versions\\1\\data\\horses\\horse-168.jpg: 288x512 5 objects, 1130.4ms\n",
      "Speed: 1.4ms preprocess, 1130.4ms inference, 5.2ms postprocess per image at shape (1, 3, 288, 512)\n"
     ]
    },
    {
     "name": "stderr",
     "output_type": "stream",
     "text": [
      " 38%|███▊      | 77/202 [01:51<02:39,  1.28s/it]"
     ]
    },
    {
     "name": "stdout",
     "output_type": "stream",
     "text": [
      "\n",
      "image 1/1 C:\\Users\\admin\\.cache\\kagglehub\\datasets\\pavansanagapati\\images-dataset\\versions\\1\\data\\horses\\horse-169.jpg: 416x512 2 objects, 1518.4ms\n",
      "Speed: 2.4ms preprocess, 1518.4ms inference, 3.3ms postprocess per image at shape (1, 3, 416, 512)\n"
     ]
    },
    {
     "name": "stderr",
     "output_type": "stream",
     "text": [
      " 39%|███▊      | 78/202 [01:53<02:48,  1.36s/it]"
     ]
    },
    {
     "name": "stdout",
     "output_type": "stream",
     "text": [
      "\n",
      "image 1/1 C:\\Users\\admin\\.cache\\kagglehub\\datasets\\pavansanagapati\\images-dataset\\versions\\1\\data\\horses\\horse-17.jpg: 288x512 9 objects, 1028.7ms\n",
      "Speed: 3.8ms preprocess, 1028.7ms inference, 263.9ms postprocess per image at shape (1, 3, 288, 512)\n"
     ]
    },
    {
     "name": "stderr",
     "output_type": "stream",
     "text": [
      " 39%|███▉      | 79/202 [01:54<02:50,  1.39s/it]"
     ]
    },
    {
     "name": "stdout",
     "output_type": "stream",
     "text": [
      "\n",
      "image 1/1 C:\\Users\\admin\\.cache\\kagglehub\\datasets\\pavansanagapati\\images-dataset\\versions\\1\\data\\horses\\horse-170.jpg: 384x512 4 objects, 1473.9ms\n",
      "Speed: 2.1ms preprocess, 1473.9ms inference, 5.2ms postprocess per image at shape (1, 3, 384, 512)\n"
     ]
    },
    {
     "name": "stderr",
     "output_type": "stream",
     "text": [
      " 40%|███▉      | 80/202 [01:56<02:53,  1.42s/it]"
     ]
    },
    {
     "name": "stdout",
     "output_type": "stream",
     "text": [
      "\n",
      "image 1/1 C:\\Users\\admin\\.cache\\kagglehub\\datasets\\pavansanagapati\\images-dataset\\versions\\1\\data\\horses\\horse-171.jpg: 384x512 4 objects, 1393.1ms\n",
      "Speed: 3.8ms preprocess, 1393.1ms inference, 5.9ms postprocess per image at shape (1, 3, 384, 512)\n"
     ]
    },
    {
     "name": "stderr",
     "output_type": "stream",
     "text": [
      " 40%|████      | 81/202 [01:57<02:52,  1.43s/it]"
     ]
    },
    {
     "name": "stdout",
     "output_type": "stream",
     "text": [
      "\n",
      "image 1/1 C:\\Users\\admin\\.cache\\kagglehub\\datasets\\pavansanagapati\\images-dataset\\versions\\1\\data\\horses\\horse-172.jpg: 480x512 2 objects, 1667.2ms\n",
      "Speed: 2.3ms preprocess, 1667.2ms inference, 2.7ms postprocess per image at shape (1, 3, 480, 512)\n"
     ]
    },
    {
     "name": "stderr",
     "output_type": "stream",
     "text": [
      " 41%|████      | 82/202 [01:59<03:00,  1.51s/it]"
     ]
    },
    {
     "name": "stdout",
     "output_type": "stream",
     "text": [
      "\n",
      "image 1/1 C:\\Users\\admin\\.cache\\kagglehub\\datasets\\pavansanagapati\\images-dataset\\versions\\1\\data\\horses\\horse-173.jpg: 480x512 2 objects, 1775.0ms\n",
      "Speed: 1.8ms preprocess, 1775.0ms inference, 3.4ms postprocess per image at shape (1, 3, 480, 512)\n"
     ]
    },
    {
     "name": "stderr",
     "output_type": "stream",
     "text": [
      " 41%|████      | 83/202 [02:01<03:10,  1.60s/it]"
     ]
    },
    {
     "name": "stdout",
     "output_type": "stream",
     "text": [
      "\n",
      "image 1/1 C:\\Users\\admin\\.cache\\kagglehub\\datasets\\pavansanagapati\\images-dataset\\versions\\1\\data\\horses\\horse-174.jpg: 352x512 5 objects, 1215.2ms\n",
      "Speed: 1.6ms preprocess, 1215.2ms inference, 6.0ms postprocess per image at shape (1, 3, 352, 512)\n"
     ]
    },
    {
     "name": "stderr",
     "output_type": "stream",
     "text": [
      " 42%|████▏     | 84/202 [02:02<02:56,  1.49s/it]"
     ]
    },
    {
     "name": "stdout",
     "output_type": "stream",
     "text": [
      "\n",
      "image 1/1 C:\\Users\\admin\\.cache\\kagglehub\\datasets\\pavansanagapati\\images-dataset\\versions\\1\\data\\horses\\horse-175.jpg: 352x512 6 objects, 1230.5ms\n",
      "Speed: 1.7ms preprocess, 1230.5ms inference, 5.3ms postprocess per image at shape (1, 3, 352, 512)\n"
     ]
    },
    {
     "name": "stderr",
     "output_type": "stream",
     "text": [
      " 42%|████▏     | 85/202 [02:03<02:46,  1.43s/it]"
     ]
    },
    {
     "name": "stdout",
     "output_type": "stream",
     "text": [
      "\n",
      "image 1/1 C:\\Users\\admin\\.cache\\kagglehub\\datasets\\pavansanagapati\\images-dataset\\versions\\1\\data\\horses\\horse-176.jpg: 448x512 9 objects, 1870.6ms\n",
      "Speed: 1.8ms preprocess, 1870.6ms inference, 7.8ms postprocess per image at shape (1, 3, 448, 512)\n"
     ]
    },
    {
     "name": "stderr",
     "output_type": "stream",
     "text": [
      " 43%|████▎     | 86/202 [02:05<03:02,  1.57s/it]"
     ]
    },
    {
     "name": "stdout",
     "output_type": "stream",
     "text": [
      "\n",
      "image 1/1 C:\\Users\\admin\\.cache\\kagglehub\\datasets\\pavansanagapati\\images-dataset\\versions\\1\\data\\horses\\horse-177.jpg: 416x512 4 objects, 1555.9ms\n",
      "Speed: 2.4ms preprocess, 1555.9ms inference, 4.4ms postprocess per image at shape (1, 3, 416, 512)\n"
     ]
    },
    {
     "name": "stderr",
     "output_type": "stream",
     "text": [
      " 43%|████▎     | 87/202 [02:07<03:01,  1.58s/it]"
     ]
    },
    {
     "name": "stdout",
     "output_type": "stream",
     "text": [
      "\n",
      "image 1/1 C:\\Users\\admin\\.cache\\kagglehub\\datasets\\pavansanagapati\\images-dataset\\versions\\1\\data\\horses\\horse-178.jpg: 416x512 4 objects, 1442.6ms\n",
      "Speed: 2.4ms preprocess, 1442.6ms inference, 5.1ms postprocess per image at shape (1, 3, 416, 512)\n"
     ]
    },
    {
     "name": "stderr",
     "output_type": "stream",
     "text": [
      " 44%|████▎     | 88/202 [02:08<02:56,  1.55s/it]"
     ]
    },
    {
     "name": "stdout",
     "output_type": "stream",
     "text": [
      "\n",
      "image 1/1 C:\\Users\\admin\\.cache\\kagglehub\\datasets\\pavansanagapati\\images-dataset\\versions\\1\\data\\horses\\horse-179.jpg: 352x512 7 objects, 1261.1ms\n",
      "Speed: 2.0ms preprocess, 1261.1ms inference, 6.7ms postprocess per image at shape (1, 3, 352, 512)\n"
     ]
    },
    {
     "name": "stderr",
     "output_type": "stream",
     "text": [
      " 44%|████▍     | 89/202 [02:09<02:46,  1.47s/it]"
     ]
    },
    {
     "name": "stdout",
     "output_type": "stream",
     "text": [
      "\n",
      "image 1/1 C:\\Users\\admin\\.cache\\kagglehub\\datasets\\pavansanagapati\\images-dataset\\versions\\1\\data\\horses\\horse-18.jpg: 288x512 5 objects, 1108.9ms\n",
      "Speed: 24.0ms preprocess, 1108.9ms inference, 5.4ms postprocess per image at shape (1, 3, 288, 512)\n"
     ]
    },
    {
     "name": "stderr",
     "output_type": "stream",
     "text": [
      " 45%|████▍     | 90/202 [02:11<02:34,  1.38s/it]"
     ]
    },
    {
     "name": "stdout",
     "output_type": "stream",
     "text": [
      "\n",
      "image 1/1 C:\\Users\\admin\\.cache\\kagglehub\\datasets\\pavansanagapati\\images-dataset\\versions\\1\\data\\horses\\horse-180.jpg: 320x512 8 objects, 1178.4ms\n",
      "Speed: 2.6ms preprocess, 1178.4ms inference, 6.8ms postprocess per image at shape (1, 3, 320, 512)\n"
     ]
    },
    {
     "name": "stderr",
     "output_type": "stream",
     "text": [
      " 45%|████▌     | 91/202 [02:12<02:28,  1.33s/it]"
     ]
    },
    {
     "name": "stdout",
     "output_type": "stream",
     "text": [
      "\n",
      "image 1/1 C:\\Users\\admin\\.cache\\kagglehub\\datasets\\pavansanagapati\\images-dataset\\versions\\1\\data\\horses\\horse-181.jpg: 352x512 4 objects, 1213.5ms\n",
      "Speed: 2.4ms preprocess, 1213.5ms inference, 4.3ms postprocess per image at shape (1, 3, 352, 512)\n"
     ]
    },
    {
     "name": "stderr",
     "output_type": "stream",
     "text": [
      " 46%|████▌     | 92/202 [02:13<02:24,  1.31s/it]"
     ]
    },
    {
     "name": "stdout",
     "output_type": "stream",
     "text": [
      "\n",
      "image 1/1 C:\\Users\\admin\\.cache\\kagglehub\\datasets\\pavansanagapati\\images-dataset\\versions\\1\\data\\horses\\horse-182.jpg: 384x512 6 objects, 1446.2ms\n",
      "Speed: 2.2ms preprocess, 1446.2ms inference, 6.2ms postprocess per image at shape (1, 3, 384, 512)\n"
     ]
    },
    {
     "name": "stderr",
     "output_type": "stream",
     "text": [
      " 46%|████▌     | 93/202 [02:15<02:28,  1.36s/it]"
     ]
    },
    {
     "name": "stdout",
     "output_type": "stream",
     "text": [
      "\n",
      "image 1/1 C:\\Users\\admin\\.cache\\kagglehub\\datasets\\pavansanagapati\\images-dataset\\versions\\1\\data\\horses\\horse-183.jpg: 512x448 5 objects, 1640.9ms\n",
      "Speed: 3.2ms preprocess, 1640.9ms inference, 5.1ms postprocess per image at shape (1, 3, 512, 448)\n"
     ]
    },
    {
     "name": "stderr",
     "output_type": "stream",
     "text": [
      " 47%|████▋     | 94/202 [02:16<02:37,  1.46s/it]"
     ]
    },
    {
     "name": "stdout",
     "output_type": "stream",
     "text": [
      "\n",
      "image 1/1 C:\\Users\\admin\\.cache\\kagglehub\\datasets\\pavansanagapati\\images-dataset\\versions\\1\\data\\horses\\horse-184.jpg: 384x512 5 objects, 1321.9ms\n",
      "Speed: 4.4ms preprocess, 1321.9ms inference, 5.1ms postprocess per image at shape (1, 3, 384, 512)\n"
     ]
    },
    {
     "name": "stderr",
     "output_type": "stream",
     "text": [
      " 47%|████▋     | 95/202 [02:18<02:32,  1.43s/it]"
     ]
    },
    {
     "name": "stdout",
     "output_type": "stream",
     "text": [
      "\n",
      "image 1/1 C:\\Users\\admin\\.cache\\kagglehub\\datasets\\pavansanagapati\\images-dataset\\versions\\1\\data\\horses\\horse-185.jpg: 352x512 16 objects, 1329.4ms\n",
      "Speed: 1.7ms preprocess, 1329.4ms inference, 11.8ms postprocess per image at shape (1, 3, 352, 512)\n"
     ]
    },
    {
     "name": "stderr",
     "output_type": "stream",
     "text": [
      " 48%|████▊     | 96/202 [02:19<02:29,  1.41s/it]"
     ]
    },
    {
     "name": "stdout",
     "output_type": "stream",
     "text": [
      "\n",
      "image 1/1 C:\\Users\\admin\\.cache\\kagglehub\\datasets\\pavansanagapati\\images-dataset\\versions\\1\\data\\horses\\horse-186.jpg: 384x512 2 objects, 1367.6ms\n",
      "Speed: 2.3ms preprocess, 1367.6ms inference, 3.2ms postprocess per image at shape (1, 3, 384, 512)\n"
     ]
    },
    {
     "name": "stderr",
     "output_type": "stream",
     "text": [
      " 48%|████▊     | 97/202 [02:20<02:27,  1.41s/it]"
     ]
    },
    {
     "name": "stdout",
     "output_type": "stream",
     "text": [
      "\n",
      "image 1/1 C:\\Users\\admin\\.cache\\kagglehub\\datasets\\pavansanagapati\\images-dataset\\versions\\1\\data\\horses\\horse-187.jpg: 320x512 7 objects, 1150.0ms\n",
      "Speed: 1.8ms preprocess, 1150.0ms inference, 6.9ms postprocess per image at shape (1, 3, 320, 512)\n"
     ]
    },
    {
     "name": "stderr",
     "output_type": "stream",
     "text": [
      " 49%|████▊     | 98/202 [02:22<02:19,  1.34s/it]"
     ]
    },
    {
     "name": "stdout",
     "output_type": "stream",
     "text": [
      "\n",
      "image 1/1 C:\\Users\\admin\\.cache\\kagglehub\\datasets\\pavansanagapati\\images-dataset\\versions\\1\\data\\horses\\horse-188.jpg: 320x512 7 objects, 1246.1ms\n",
      "Speed: 1.4ms preprocess, 1246.1ms inference, 6.0ms postprocess per image at shape (1, 3, 320, 512)\n"
     ]
    },
    {
     "name": "stderr",
     "output_type": "stream",
     "text": [
      " 49%|████▉     | 99/202 [02:23<02:16,  1.32s/it]"
     ]
    },
    {
     "name": "stdout",
     "output_type": "stream",
     "text": [
      "\n",
      "image 1/1 C:\\Users\\admin\\.cache\\kagglehub\\datasets\\pavansanagapati\\images-dataset\\versions\\1\\data\\horses\\horse-189.jpg: 384x512 3 objects, 1330.2ms\n",
      "Speed: 2.6ms preprocess, 1330.2ms inference, 4.3ms postprocess per image at shape (1, 3, 384, 512)\n"
     ]
    },
    {
     "name": "stderr",
     "output_type": "stream",
     "text": [
      " 50%|████▉     | 100/202 [02:24<02:16,  1.34s/it]"
     ]
    },
    {
     "name": "stdout",
     "output_type": "stream",
     "text": [
      "\n",
      "image 1/1 C:\\Users\\admin\\.cache\\kagglehub\\datasets\\pavansanagapati\\images-dataset\\versions\\1\\data\\horses\\horse-19.jpg: 384x512 9 objects, 1409.0ms\n",
      "Speed: 27.4ms preprocess, 1409.0ms inference, 7.0ms postprocess per image at shape (1, 3, 384, 512)\n"
     ]
    },
    {
     "name": "stderr",
     "output_type": "stream",
     "text": [
      " 50%|█████     | 101/202 [02:26<02:20,  1.39s/it]"
     ]
    },
    {
     "name": "stdout",
     "output_type": "stream",
     "text": [
      "\n",
      "image 1/1 C:\\Users\\admin\\.cache\\kagglehub\\datasets\\pavansanagapati\\images-dataset\\versions\\1\\data\\horses\\horse-190.jpg: 384x512 8 objects, 1440.3ms\n",
      "Speed: 1.6ms preprocess, 1440.3ms inference, 6.7ms postprocess per image at shape (1, 3, 384, 512)\n"
     ]
    },
    {
     "name": "stderr",
     "output_type": "stream",
     "text": [
      " 50%|█████     | 102/202 [02:27<02:21,  1.42s/it]"
     ]
    },
    {
     "name": "stdout",
     "output_type": "stream",
     "text": [
      "\n",
      "image 1/1 C:\\Users\\admin\\.cache\\kagglehub\\datasets\\pavansanagapati\\images-dataset\\versions\\1\\data\\horses\\horse-191.jpg: 512x448 2 objects, 1561.8ms\n",
      "Speed: 3.0ms preprocess, 1561.8ms inference, 3.3ms postprocess per image at shape (1, 3, 512, 448)\n"
     ]
    },
    {
     "name": "stderr",
     "output_type": "stream",
     "text": [
      " 51%|█████     | 103/202 [02:29<02:25,  1.47s/it]"
     ]
    },
    {
     "name": "stdout",
     "output_type": "stream",
     "text": [
      "\n",
      "image 1/1 C:\\Users\\admin\\.cache\\kagglehub\\datasets\\pavansanagapati\\images-dataset\\versions\\1\\data\\horses\\horse-192.jpg: 320x512 5 objects, 1143.1ms\n",
      "Speed: 2.0ms preprocess, 1143.1ms inference, 6.4ms postprocess per image at shape (1, 3, 320, 512)\n"
     ]
    },
    {
     "name": "stderr",
     "output_type": "stream",
     "text": [
      " 51%|█████▏    | 104/202 [02:30<02:15,  1.38s/it]"
     ]
    },
    {
     "name": "stdout",
     "output_type": "stream",
     "text": [
      "\n",
      "image 1/1 C:\\Users\\admin\\.cache\\kagglehub\\datasets\\pavansanagapati\\images-dataset\\versions\\1\\data\\horses\\horse-193.jpg: 352x512 3 objects, 1313.6ms\n",
      "Speed: 1.6ms preprocess, 1313.6ms inference, 3.9ms postprocess per image at shape (1, 3, 352, 512)\n"
     ]
    },
    {
     "name": "stderr",
     "output_type": "stream",
     "text": [
      " 52%|█████▏    | 105/202 [02:31<02:13,  1.37s/it]"
     ]
    },
    {
     "name": "stdout",
     "output_type": "stream",
     "text": [
      "\n",
      "image 1/1 C:\\Users\\admin\\.cache\\kagglehub\\datasets\\pavansanagapati\\images-dataset\\versions\\1\\data\\horses\\horse-194.jpg: 352x512 19 objects, 1231.3ms\n",
      "Speed: 1.9ms preprocess, 1231.3ms inference, 71.3ms postprocess per image at shape (1, 3, 352, 512)\n"
     ]
    },
    {
     "name": "stderr",
     "output_type": "stream",
     "text": [
      " 52%|█████▏    | 106/202 [02:33<02:11,  1.37s/it]"
     ]
    },
    {
     "name": "stdout",
     "output_type": "stream",
     "text": [
      "\n",
      "image 1/1 C:\\Users\\admin\\.cache\\kagglehub\\datasets\\pavansanagapati\\images-dataset\\versions\\1\\data\\horses\\horse-195.jpg: 320x512 3 objects, 1107.3ms\n",
      "Speed: 6.1ms preprocess, 1107.3ms inference, 3.8ms postprocess per image at shape (1, 3, 320, 512)\n"
     ]
    },
    {
     "name": "stderr",
     "output_type": "stream",
     "text": [
      " 53%|█████▎    | 107/202 [02:34<02:04,  1.31s/it]"
     ]
    },
    {
     "name": "stdout",
     "output_type": "stream",
     "text": [
      "\n",
      "image 1/1 C:\\Users\\admin\\.cache\\kagglehub\\datasets\\pavansanagapati\\images-dataset\\versions\\1\\data\\horses\\horse-196.jpg: 384x512 4 objects, 1465.2ms\n",
      "Speed: 1.7ms preprocess, 1465.2ms inference, 4.1ms postprocess per image at shape (1, 3, 384, 512)\n"
     ]
    },
    {
     "name": "stderr",
     "output_type": "stream",
     "text": [
      " 53%|█████▎    | 108/202 [02:35<02:08,  1.36s/it]"
     ]
    },
    {
     "name": "stdout",
     "output_type": "stream",
     "text": [
      "\n",
      "image 1/1 C:\\Users\\admin\\.cache\\kagglehub\\datasets\\pavansanagapati\\images-dataset\\versions\\1\\data\\horses\\horse-197.jpg: 352x512 5 objects, 1250.7ms\n",
      "Speed: 2.5ms preprocess, 1250.7ms inference, 5.5ms postprocess per image at shape (1, 3, 352, 512)\n"
     ]
    },
    {
     "name": "stderr",
     "output_type": "stream",
     "text": [
      " 54%|█████▍    | 109/202 [02:37<02:04,  1.34s/it]"
     ]
    },
    {
     "name": "stdout",
     "output_type": "stream",
     "text": [
      "\n",
      "image 1/1 C:\\Users\\admin\\.cache\\kagglehub\\datasets\\pavansanagapati\\images-dataset\\versions\\1\\data\\horses\\horse-198.jpg: 288x512 1 object, 1007.4ms\n",
      "Speed: 1.3ms preprocess, 1007.4ms inference, 2.1ms postprocess per image at shape (1, 3, 288, 512)\n"
     ]
    },
    {
     "name": "stderr",
     "output_type": "stream",
     "text": [
      " 54%|█████▍    | 110/202 [02:38<01:54,  1.25s/it]"
     ]
    },
    {
     "name": "stdout",
     "output_type": "stream",
     "text": [
      "\n",
      "image 1/1 C:\\Users\\admin\\.cache\\kagglehub\\datasets\\pavansanagapati\\images-dataset\\versions\\1\\data\\horses\\horse-199.jpg: 288x512 1 object, 1107.6ms\n",
      "Speed: 1.3ms preprocess, 1107.6ms inference, 2.1ms postprocess per image at shape (1, 3, 288, 512)\n"
     ]
    },
    {
     "name": "stderr",
     "output_type": "stream",
     "text": [
      " 55%|█████▍    | 111/202 [02:39<01:50,  1.22s/it]"
     ]
    },
    {
     "name": "stdout",
     "output_type": "stream",
     "text": [
      "\n",
      "image 1/1 C:\\Users\\admin\\.cache\\kagglehub\\datasets\\pavansanagapati\\images-dataset\\versions\\1\\data\\horses\\horse-2.jpg: 480x512 5 objects, 1712.7ms\n",
      "Speed: 3.5ms preprocess, 1712.7ms inference, 11.2ms postprocess per image at shape (1, 3, 480, 512)\n"
     ]
    },
    {
     "name": "stderr",
     "output_type": "stream",
     "text": [
      " 55%|█████▌    | 112/202 [02:41<02:04,  1.38s/it]"
     ]
    },
    {
     "name": "stdout",
     "output_type": "stream",
     "text": [
      "\n",
      "image 1/1 C:\\Users\\admin\\.cache\\kagglehub\\datasets\\pavansanagapati\\images-dataset\\versions\\1\\data\\horses\\horse-20.jpg: 288x512 3 objects, 988.9ms\n",
      "Speed: 1.5ms preprocess, 988.9ms inference, 2.9ms postprocess per image at shape (1, 3, 288, 512)\n"
     ]
    },
    {
     "name": "stderr",
     "output_type": "stream",
     "text": [
      " 56%|█████▌    | 113/202 [02:42<01:53,  1.27s/it]"
     ]
    },
    {
     "name": "stdout",
     "output_type": "stream",
     "text": [
      "\n",
      "image 1/1 C:\\Users\\admin\\.cache\\kagglehub\\datasets\\pavansanagapati\\images-dataset\\versions\\1\\data\\horses\\horse-200.jpg: 384x512 14 objects, 1379.5ms\n",
      "Speed: 2.4ms preprocess, 1379.5ms inference, 15.1ms postprocess per image at shape (1, 3, 384, 512)\n"
     ]
    },
    {
     "name": "stderr",
     "output_type": "stream",
     "text": [
      " 56%|█████▋    | 114/202 [02:43<01:56,  1.32s/it]"
     ]
    },
    {
     "name": "stdout",
     "output_type": "stream",
     "text": [
      "\n",
      "image 1/1 C:\\Users\\admin\\.cache\\kagglehub\\datasets\\pavansanagapati\\images-dataset\\versions\\1\\data\\horses\\horse-201.jpg: 288x512 10 objects, 1028.1ms\n",
      "Speed: 6.8ms preprocess, 1028.1ms inference, 174.6ms postprocess per image at shape (1, 3, 288, 512)\n"
     ]
    },
    {
     "name": "stderr",
     "output_type": "stream",
     "text": [
      " 57%|█████▋    | 115/202 [02:44<01:55,  1.33s/it]"
     ]
    },
    {
     "name": "stdout",
     "output_type": "stream",
     "text": [
      "\n",
      "image 1/1 C:\\Users\\admin\\.cache\\kagglehub\\datasets\\pavansanagapati\\images-dataset\\versions\\1\\data\\horses\\horse-202.jpg: 288x512 13 objects, 1072.5ms\n",
      "Speed: 2.9ms preprocess, 1072.5ms inference, 294.9ms postprocess per image at shape (1, 3, 288, 512)\n"
     ]
    },
    {
     "name": "stderr",
     "output_type": "stream",
     "text": [
      " 57%|█████▋    | 116/202 [02:46<01:58,  1.38s/it]"
     ]
    },
    {
     "name": "stdout",
     "output_type": "stream",
     "text": [
      "\n",
      "image 1/1 C:\\Users\\admin\\.cache\\kagglehub\\datasets\\pavansanagapati\\images-dataset\\versions\\1\\data\\horses\\horse-21.jpg: 384x512 3 objects, 1297.4ms\n",
      "Speed: 2.6ms preprocess, 1297.4ms inference, 3.4ms postprocess per image at shape (1, 3, 384, 512)\n"
     ]
    },
    {
     "name": "stderr",
     "output_type": "stream",
     "text": [
      " 58%|█████▊    | 117/202 [02:47<01:56,  1.37s/it]"
     ]
    },
    {
     "name": "stdout",
     "output_type": "stream",
     "text": [
      "\n",
      "image 1/1 C:\\Users\\admin\\.cache\\kagglehub\\datasets\\pavansanagapati\\images-dataset\\versions\\1\\data\\horses\\horse-22.jpg: 512x384 5 objects, 1428.6ms\n",
      "Speed: 1.6ms preprocess, 1428.6ms inference, 5.5ms postprocess per image at shape (1, 3, 512, 384)\n"
     ]
    },
    {
     "name": "stderr",
     "output_type": "stream",
     "text": [
      " 58%|█████▊    | 118/202 [02:49<01:57,  1.40s/it]"
     ]
    },
    {
     "name": "stdout",
     "output_type": "stream",
     "text": [
      "\n",
      "image 1/1 C:\\Users\\admin\\.cache\\kagglehub\\datasets\\pavansanagapati\\images-dataset\\versions\\1\\data\\horses\\horse-23.jpg: 384x512 4 objects, 1332.6ms\n",
      "Speed: 2.1ms preprocess, 1332.6ms inference, 4.8ms postprocess per image at shape (1, 3, 384, 512)\n"
     ]
    },
    {
     "name": "stderr",
     "output_type": "stream",
     "text": [
      " 59%|█████▉    | 119/202 [02:50<01:55,  1.39s/it]"
     ]
    },
    {
     "name": "stdout",
     "output_type": "stream",
     "text": [
      "\n",
      "image 1/1 C:\\Users\\admin\\.cache\\kagglehub\\datasets\\pavansanagapati\\images-dataset\\versions\\1\\data\\horses\\horse-24.jpg: 512x512 5 objects, 1863.7ms\n",
      "Speed: 3.5ms preprocess, 1863.7ms inference, 4.2ms postprocess per image at shape (1, 3, 512, 512)\n"
     ]
    },
    {
     "name": "stderr",
     "output_type": "stream",
     "text": [
      " 59%|█████▉    | 120/202 [02:52<02:06,  1.54s/it]"
     ]
    },
    {
     "name": "stdout",
     "output_type": "stream",
     "text": [
      "\n",
      "image 1/1 C:\\Users\\admin\\.cache\\kagglehub\\datasets\\pavansanagapati\\images-dataset\\versions\\1\\data\\horses\\horse-25.jpg: 352x512 7 objects, 1343.1ms\n",
      "Speed: 1.5ms preprocess, 1343.1ms inference, 6.1ms postprocess per image at shape (1, 3, 352, 512)\n"
     ]
    },
    {
     "name": "stderr",
     "output_type": "stream",
     "text": [
      " 60%|█████▉    | 121/202 [02:53<02:00,  1.49s/it]"
     ]
    },
    {
     "name": "stdout",
     "output_type": "stream",
     "text": [
      "\n",
      "image 1/1 C:\\Users\\admin\\.cache\\kagglehub\\datasets\\pavansanagapati\\images-dataset\\versions\\1\\data\\horses\\horse-26.jpg: 512x448 2 objects, 1532.4ms\n",
      "Speed: 2.2ms preprocess, 1532.4ms inference, 3.3ms postprocess per image at shape (1, 3, 512, 448)\n"
     ]
    },
    {
     "name": "stderr",
     "output_type": "stream",
     "text": [
      " 60%|██████    | 122/202 [02:55<02:01,  1.52s/it]"
     ]
    },
    {
     "name": "stdout",
     "output_type": "stream",
     "text": [
      "\n",
      "image 1/1 C:\\Users\\admin\\.cache\\kagglehub\\datasets\\pavansanagapati\\images-dataset\\versions\\1\\data\\horses\\horse-27.jpg: 512x448 3 objects, 1625.3ms\n",
      "Speed: 1.8ms preprocess, 1625.3ms inference, 3.9ms postprocess per image at shape (1, 3, 512, 448)\n"
     ]
    },
    {
     "name": "stderr",
     "output_type": "stream",
     "text": [
      " 61%|██████    | 123/202 [02:57<02:03,  1.56s/it]"
     ]
    },
    {
     "name": "stdout",
     "output_type": "stream",
     "text": [
      "\n",
      "image 1/1 C:\\Users\\admin\\.cache\\kagglehub\\datasets\\pavansanagapati\\images-dataset\\versions\\1\\data\\horses\\horse-28.jpg: 352x512 8 objects, 1250.8ms\n",
      "Speed: 6.0ms preprocess, 1250.8ms inference, 6.3ms postprocess per image at shape (1, 3, 352, 512)\n"
     ]
    },
    {
     "name": "stderr",
     "output_type": "stream",
     "text": [
      " 61%|██████▏   | 124/202 [02:58<01:55,  1.48s/it]"
     ]
    },
    {
     "name": "stdout",
     "output_type": "stream",
     "text": [
      "\n",
      "image 1/1 C:\\Users\\admin\\.cache\\kagglehub\\datasets\\pavansanagapati\\images-dataset\\versions\\1\\data\\horses\\horse-29.jpg: 512x352 6 objects, 1363.9ms\n",
      "Speed: 3.0ms preprocess, 1363.9ms inference, 6.0ms postprocess per image at shape (1, 3, 512, 352)\n"
     ]
    },
    {
     "name": "stderr",
     "output_type": "stream",
     "text": [
      " 62%|██████▏   | 125/202 [02:59<01:52,  1.46s/it]"
     ]
    },
    {
     "name": "stdout",
     "output_type": "stream",
     "text": [
      "\n",
      "image 1/1 C:\\Users\\admin\\.cache\\kagglehub\\datasets\\pavansanagapati\\images-dataset\\versions\\1\\data\\horses\\horse-3.jpg: 512x384 7 objects, 1324.9ms\n",
      "Speed: 1.9ms preprocess, 1324.9ms inference, 7.6ms postprocess per image at shape (1, 3, 512, 384)\n"
     ]
    },
    {
     "name": "stderr",
     "output_type": "stream",
     "text": [
      " 62%|██████▏   | 126/202 [03:01<01:48,  1.43s/it]"
     ]
    },
    {
     "name": "stdout",
     "output_type": "stream",
     "text": [
      "\n",
      "image 1/1 C:\\Users\\admin\\.cache\\kagglehub\\datasets\\pavansanagapati\\images-dataset\\versions\\1\\data\\horses\\horse-30.jpg: 512x384 5 objects, 1422.9ms\n",
      "Speed: 1.8ms preprocess, 1422.9ms inference, 5.9ms postprocess per image at shape (1, 3, 512, 384)\n"
     ]
    },
    {
     "name": "stderr",
     "output_type": "stream",
     "text": [
      " 63%|██████▎   | 127/202 [03:02<01:47,  1.44s/it]"
     ]
    },
    {
     "name": "stdout",
     "output_type": "stream",
     "text": [
      "\n",
      "image 1/1 C:\\Users\\admin\\.cache\\kagglehub\\datasets\\pavansanagapati\\images-dataset\\versions\\1\\data\\horses\\horse-31.jpg: 512x512 8 objects, 1798.5ms\n",
      "Speed: 3.3ms preprocess, 1798.5ms inference, 7.3ms postprocess per image at shape (1, 3, 512, 512)\n"
     ]
    },
    {
     "name": "stderr",
     "output_type": "stream",
     "text": [
      " 63%|██████▎   | 128/202 [03:04<01:55,  1.56s/it]"
     ]
    },
    {
     "name": "stdout",
     "output_type": "stream",
     "text": [
      "\n",
      "image 1/1 C:\\Users\\admin\\.cache\\kagglehub\\datasets\\pavansanagapati\\images-dataset\\versions\\1\\data\\horses\\horse-32.jpg: 384x512 7 objects, 1398.8ms\n",
      "Speed: 2.0ms preprocess, 1398.8ms inference, 5.2ms postprocess per image at shape (1, 3, 384, 512)\n"
     ]
    },
    {
     "name": "stderr",
     "output_type": "stream",
     "text": [
      " 64%|██████▍   | 129/202 [03:05<01:51,  1.52s/it]"
     ]
    },
    {
     "name": "stdout",
     "output_type": "stream",
     "text": [
      "\n",
      "image 1/1 C:\\Users\\admin\\.cache\\kagglehub\\datasets\\pavansanagapati\\images-dataset\\versions\\1\\data\\horses\\horse-33.jpg: 448x512 4 objects, 1578.8ms\n",
      "Speed: 2.2ms preprocess, 1578.8ms inference, 4.4ms postprocess per image at shape (1, 3, 448, 512)\n"
     ]
    },
    {
     "name": "stderr",
     "output_type": "stream",
     "text": [
      " 64%|██████▍   | 130/202 [03:07<01:51,  1.55s/it]"
     ]
    },
    {
     "name": "stdout",
     "output_type": "stream",
     "text": [
      "\n",
      "image 1/1 C:\\Users\\admin\\.cache\\kagglehub\\datasets\\pavansanagapati\\images-dataset\\versions\\1\\data\\horses\\horse-34.jpg: 512x448 4 objects, 1602.4ms\n",
      "Speed: 2.1ms preprocess, 1602.4ms inference, 4.5ms postprocess per image at shape (1, 3, 512, 448)\n"
     ]
    },
    {
     "name": "stderr",
     "output_type": "stream",
     "text": [
      " 65%|██████▍   | 131/202 [03:09<01:51,  1.58s/it]"
     ]
    },
    {
     "name": "stdout",
     "output_type": "stream",
     "text": [
      "\n",
      "image 1/1 C:\\Users\\admin\\.cache\\kagglehub\\datasets\\pavansanagapati\\images-dataset\\versions\\1\\data\\horses\\horse-35.jpg: 416x512 8 objects, 1392.8ms\n",
      "Speed: 1.8ms preprocess, 1392.8ms inference, 5.6ms postprocess per image at shape (1, 3, 416, 512)\n"
     ]
    },
    {
     "name": "stderr",
     "output_type": "stream",
     "text": [
      " 65%|██████▌   | 132/202 [03:10<01:47,  1.53s/it]"
     ]
    },
    {
     "name": "stdout",
     "output_type": "stream",
     "text": [
      "\n",
      "image 1/1 C:\\Users\\admin\\.cache\\kagglehub\\datasets\\pavansanagapati\\images-dataset\\versions\\1\\data\\horses\\horse-36.jpg: 512x384 5 objects, 1278.5ms\n",
      "Speed: 4.8ms preprocess, 1278.5ms inference, 4.6ms postprocess per image at shape (1, 3, 512, 384)\n"
     ]
    },
    {
     "name": "stderr",
     "output_type": "stream",
     "text": [
      " 66%|██████▌   | 133/202 [03:11<01:41,  1.47s/it]"
     ]
    },
    {
     "name": "stdout",
     "output_type": "stream",
     "text": [
      "\n",
      "image 1/1 C:\\Users\\admin\\.cache\\kagglehub\\datasets\\pavansanagapati\\images-dataset\\versions\\1\\data\\horses\\horse-37.jpg: 352x512 6 objects, 1243.2ms\n",
      "Speed: 34.8ms preprocess, 1243.2ms inference, 6.7ms postprocess per image at shape (1, 3, 352, 512)\n"
     ]
    },
    {
     "name": "stderr",
     "output_type": "stream",
     "text": [
      " 66%|██████▋   | 134/202 [03:13<01:36,  1.42s/it]"
     ]
    },
    {
     "name": "stdout",
     "output_type": "stream",
     "text": [
      "\n",
      "image 1/1 C:\\Users\\admin\\.cache\\kagglehub\\datasets\\pavansanagapati\\images-dataset\\versions\\1\\data\\horses\\horse-38.jpg: 352x512 13 objects, 1346.3ms\n",
      "Speed: 8.2ms preprocess, 1346.3ms inference, 9.6ms postprocess per image at shape (1, 3, 352, 512)\n"
     ]
    },
    {
     "name": "stderr",
     "output_type": "stream",
     "text": [
      " 67%|██████▋   | 135/202 [03:14<01:34,  1.42s/it]"
     ]
    },
    {
     "name": "stdout",
     "output_type": "stream",
     "text": [
      "\n",
      "image 1/1 C:\\Users\\admin\\.cache\\kagglehub\\datasets\\pavansanagapati\\images-dataset\\versions\\1\\data\\horses\\horse-39.jpg: 352x512 13 objects, 1273.9ms\n",
      "Speed: 1.7ms preprocess, 1273.9ms inference, 9.8ms postprocess per image at shape (1, 3, 352, 512)\n"
     ]
    },
    {
     "name": "stderr",
     "output_type": "stream",
     "text": [
      " 67%|██████▋   | 136/202 [03:15<01:31,  1.39s/it]"
     ]
    },
    {
     "name": "stdout",
     "output_type": "stream",
     "text": [
      "\n",
      "image 1/1 C:\\Users\\admin\\.cache\\kagglehub\\datasets\\pavansanagapati\\images-dataset\\versions\\1\\data\\horses\\horse-4.jpg: 512x352 9 objects, 1192.5ms\n",
      "Speed: 1.7ms preprocess, 1192.5ms inference, 9.6ms postprocess per image at shape (1, 3, 512, 352)\n"
     ]
    },
    {
     "name": "stderr",
     "output_type": "stream",
     "text": [
      " 68%|██████▊   | 137/202 [03:17<01:27,  1.34s/it]"
     ]
    },
    {
     "name": "stdout",
     "output_type": "stream",
     "text": [
      "\n",
      "image 1/1 C:\\Users\\admin\\.cache\\kagglehub\\datasets\\pavansanagapati\\images-dataset\\versions\\1\\data\\horses\\horse-40.jpg: 320x512 7 objects, 1279.8ms\n",
      "Speed: 1.5ms preprocess, 1279.8ms inference, 6.6ms postprocess per image at shape (1, 3, 320, 512)\n"
     ]
    },
    {
     "name": "stderr",
     "output_type": "stream",
     "text": [
      " 68%|██████▊   | 138/202 [03:18<01:25,  1.33s/it]"
     ]
    },
    {
     "name": "stdout",
     "output_type": "stream",
     "text": [
      "\n",
      "image 1/1 C:\\Users\\admin\\.cache\\kagglehub\\datasets\\pavansanagapati\\images-dataset\\versions\\1\\data\\horses\\horse-41.jpg: 320x512 4 objects, 1133.0ms\n",
      "Speed: 2.7ms preprocess, 1133.0ms inference, 4.8ms postprocess per image at shape (1, 3, 320, 512)\n"
     ]
    },
    {
     "name": "stderr",
     "output_type": "stream",
     "text": [
      " 69%|██████▉   | 139/202 [03:19<01:20,  1.28s/it]"
     ]
    },
    {
     "name": "stdout",
     "output_type": "stream",
     "text": [
      "\n",
      "image 1/1 C:\\Users\\admin\\.cache\\kagglehub\\datasets\\pavansanagapati\\images-dataset\\versions\\1\\data\\horses\\horse-42.jpg: 384x512 5 objects, 1446.6ms\n",
      "Speed: 2.4ms preprocess, 1446.6ms inference, 4.2ms postprocess per image at shape (1, 3, 384, 512)\n"
     ]
    },
    {
     "name": "stderr",
     "output_type": "stream",
     "text": [
      " 69%|██████▉   | 140/202 [03:21<01:23,  1.35s/it]"
     ]
    },
    {
     "name": "stdout",
     "output_type": "stream",
     "text": [
      "\n",
      "image 1/1 C:\\Users\\admin\\.cache\\kagglehub\\datasets\\pavansanagapati\\images-dataset\\versions\\1\\data\\horses\\horse-43.jpg: 352x512 11 objects, 1330.1ms\n",
      "Speed: 1.6ms preprocess, 1330.1ms inference, 8.7ms postprocess per image at shape (1, 3, 352, 512)\n"
     ]
    },
    {
     "name": "stderr",
     "output_type": "stream",
     "text": [
      " 70%|██████▉   | 141/202 [03:22<01:22,  1.35s/it]"
     ]
    },
    {
     "name": "stdout",
     "output_type": "stream",
     "text": [
      "\n",
      "image 1/1 C:\\Users\\admin\\.cache\\kagglehub\\datasets\\pavansanagapati\\images-dataset\\versions\\1\\data\\horses\\horse-44.jpg: 512x448 2 objects, 1512.1ms\n",
      "Speed: 2.1ms preprocess, 1512.1ms inference, 3.2ms postprocess per image at shape (1, 3, 512, 448)\n"
     ]
    },
    {
     "name": "stderr",
     "output_type": "stream",
     "text": [
      " 70%|███████   | 142/202 [03:24<01:24,  1.41s/it]"
     ]
    },
    {
     "name": "stdout",
     "output_type": "stream",
     "text": [
      "\n",
      "image 1/1 C:\\Users\\admin\\.cache\\kagglehub\\datasets\\pavansanagapati\\images-dataset\\versions\\1\\data\\horses\\horse-45.jpg: 384x512 11 objects, 1454.6ms\n",
      "Speed: 3.3ms preprocess, 1454.6ms inference, 10.4ms postprocess per image at shape (1, 3, 384, 512)\n"
     ]
    },
    {
     "name": "stderr",
     "output_type": "stream",
     "text": [
      " 71%|███████   | 143/202 [03:25<01:25,  1.44s/it]"
     ]
    },
    {
     "name": "stdout",
     "output_type": "stream",
     "text": [
      "\n",
      "image 1/1 C:\\Users\\admin\\.cache\\kagglehub\\datasets\\pavansanagapati\\images-dataset\\versions\\1\\data\\horses\\horse-46.jpg: 416x512 1 object, 1454.4ms\n",
      "Speed: 2.2ms preprocess, 1454.4ms inference, 2.5ms postprocess per image at shape (1, 3, 416, 512)\n"
     ]
    },
    {
     "name": "stderr",
     "output_type": "stream",
     "text": [
      " 71%|███████▏  | 144/202 [03:27<01:24,  1.46s/it]"
     ]
    },
    {
     "name": "stdout",
     "output_type": "stream",
     "text": [
      "\n",
      "image 1/1 C:\\Users\\admin\\.cache\\kagglehub\\datasets\\pavansanagapati\\images-dataset\\versions\\1\\data\\horses\\horse-47.jpg: 288x512 6 objects, 1056.2ms\n",
      "Speed: 1.4ms preprocess, 1056.2ms inference, 7.0ms postprocess per image at shape (1, 3, 288, 512)\n"
     ]
    },
    {
     "name": "stderr",
     "output_type": "stream",
     "text": [
      " 72%|███████▏  | 145/202 [03:28<01:16,  1.35s/it]"
     ]
    },
    {
     "name": "stdout",
     "output_type": "stream",
     "text": [
      "\n",
      "image 1/1 C:\\Users\\admin\\.cache\\kagglehub\\datasets\\pavansanagapati\\images-dataset\\versions\\1\\data\\horses\\horse-48.jpg: 512x384 2 objects, 1401.3ms\n",
      "Speed: 2.0ms preprocess, 1401.3ms inference, 4.0ms postprocess per image at shape (1, 3, 512, 384)\n"
     ]
    },
    {
     "name": "stderr",
     "output_type": "stream",
     "text": [
      " 72%|███████▏  | 146/202 [03:29<01:16,  1.37s/it]"
     ]
    },
    {
     "name": "stdout",
     "output_type": "stream",
     "text": [
      "\n",
      "image 1/1 C:\\Users\\admin\\.cache\\kagglehub\\datasets\\pavansanagapati\\images-dataset\\versions\\1\\data\\horses\\horse-49.jpg: 384x512 7 objects, 1314.7ms\n",
      "Speed: 1.7ms preprocess, 1314.7ms inference, 7.3ms postprocess per image at shape (1, 3, 384, 512)\n"
     ]
    },
    {
     "name": "stderr",
     "output_type": "stream",
     "text": [
      " 73%|███████▎  | 147/202 [03:30<01:15,  1.37s/it]"
     ]
    },
    {
     "name": "stdout",
     "output_type": "stream",
     "text": [
      "\n",
      "image 1/1 C:\\Users\\admin\\.cache\\kagglehub\\datasets\\pavansanagapati\\images-dataset\\versions\\1\\data\\horses\\horse-5.jpg: 384x512 2 objects, 1408.3ms\n",
      "Speed: 3.0ms preprocess, 1408.3ms inference, 3.3ms postprocess per image at shape (1, 3, 384, 512)\n"
     ]
    },
    {
     "name": "stderr",
     "output_type": "stream",
     "text": [
      " 73%|███████▎  | 148/202 [03:32<01:14,  1.39s/it]"
     ]
    },
    {
     "name": "stdout",
     "output_type": "stream",
     "text": [
      "\n",
      "image 1/1 C:\\Users\\admin\\.cache\\kagglehub\\datasets\\pavansanagapati\\images-dataset\\versions\\1\\data\\horses\\horse-50.jpg: 512x352 5 objects, 1222.3ms\n",
      "Speed: 1.6ms preprocess, 1222.3ms inference, 5.3ms postprocess per image at shape (1, 3, 512, 352)\n"
     ]
    },
    {
     "name": "stderr",
     "output_type": "stream",
     "text": [
      " 74%|███████▍  | 149/202 [03:33<01:11,  1.35s/it]"
     ]
    },
    {
     "name": "stdout",
     "output_type": "stream",
     "text": [
      "\n",
      "image 1/1 C:\\Users\\admin\\.cache\\kagglehub\\datasets\\pavansanagapati\\images-dataset\\versions\\1\\data\\horses\\horse-51.jpg: 320x512 3 objects, 1095.1ms\n",
      "Speed: 3.7ms preprocess, 1095.1ms inference, 10.0ms postprocess per image at shape (1, 3, 320, 512)\n"
     ]
    },
    {
     "name": "stderr",
     "output_type": "stream",
     "text": [
      " 74%|███████▍  | 150/202 [03:34<01:06,  1.29s/it]"
     ]
    },
    {
     "name": "stdout",
     "output_type": "stream",
     "text": [
      "\n",
      "image 1/1 C:\\Users\\admin\\.cache\\kagglehub\\datasets\\pavansanagapati\\images-dataset\\versions\\1\\data\\horses\\horse-52.jpg: 320x512 3 objects, 1055.5ms\n",
      "Speed: 1.4ms preprocess, 1055.5ms inference, 3.5ms postprocess per image at shape (1, 3, 320, 512)\n"
     ]
    },
    {
     "name": "stderr",
     "output_type": "stream",
     "text": [
      " 75%|███████▍  | 151/202 [03:35<01:02,  1.23s/it]"
     ]
    },
    {
     "name": "stdout",
     "output_type": "stream",
     "text": [
      "\n",
      "image 1/1 C:\\Users\\admin\\.cache\\kagglehub\\datasets\\pavansanagapati\\images-dataset\\versions\\1\\data\\horses\\horse-53.jpg: 288x512 4 objects, 1151.0ms\n",
      "Speed: 1.3ms preprocess, 1151.0ms inference, 4.8ms postprocess per image at shape (1, 3, 288, 512)\n"
     ]
    },
    {
     "name": "stderr",
     "output_type": "stream",
     "text": [
      " 75%|███████▌  | 152/202 [03:37<01:00,  1.21s/it]"
     ]
    },
    {
     "name": "stdout",
     "output_type": "stream",
     "text": [
      "\n",
      "image 1/1 C:\\Users\\admin\\.cache\\kagglehub\\datasets\\pavansanagapati\\images-dataset\\versions\\1\\data\\horses\\horse-54.jpg: 320x512 9 objects, 1078.3ms\n",
      "Speed: 1.5ms preprocess, 1078.3ms inference, 7.6ms postprocess per image at shape (1, 3, 320, 512)\n"
     ]
    },
    {
     "name": "stderr",
     "output_type": "stream",
     "text": [
      " 76%|███████▌  | 153/202 [03:38<00:58,  1.18s/it]"
     ]
    },
    {
     "name": "stdout",
     "output_type": "stream",
     "text": [
      "\n",
      "image 1/1 C:\\Users\\admin\\.cache\\kagglehub\\datasets\\pavansanagapati\\images-dataset\\versions\\1\\data\\horses\\horse-55.jpg: 352x512 3 objects, 1342.6ms\n",
      "Speed: 1.8ms preprocess, 1342.6ms inference, 3.4ms postprocess per image at shape (1, 3, 352, 512)\n"
     ]
    },
    {
     "name": "stderr",
     "output_type": "stream",
     "text": [
      " 76%|███████▌  | 154/202 [03:39<00:59,  1.24s/it]"
     ]
    },
    {
     "name": "stdout",
     "output_type": "stream",
     "text": [
      "\n",
      "image 1/1 C:\\Users\\admin\\.cache\\kagglehub\\datasets\\pavansanagapati\\images-dataset\\versions\\1\\data\\horses\\horse-56.jpg: 512x384 2 objects, 1431.3ms\n",
      "Speed: 2.2ms preprocess, 1431.3ms inference, 18.4ms postprocess per image at shape (1, 3, 512, 384)\n"
     ]
    },
    {
     "name": "stderr",
     "output_type": "stream",
     "text": [
      " 77%|███████▋  | 155/202 [03:41<01:01,  1.31s/it]"
     ]
    },
    {
     "name": "stdout",
     "output_type": "stream",
     "text": [
      "\n",
      "image 1/1 C:\\Users\\admin\\.cache\\kagglehub\\datasets\\pavansanagapati\\images-dataset\\versions\\1\\data\\horses\\horse-57.jpg: 512x512 5 objects, 1777.7ms\n",
      "Speed: 3.3ms preprocess, 1777.7ms inference, 4.8ms postprocess per image at shape (1, 3, 512, 512)\n"
     ]
    },
    {
     "name": "stderr",
     "output_type": "stream",
     "text": [
      " 77%|███████▋  | 156/202 [03:42<01:07,  1.46s/it]"
     ]
    },
    {
     "name": "stdout",
     "output_type": "stream",
     "text": [
      "\n",
      "image 1/1 C:\\Users\\admin\\.cache\\kagglehub\\datasets\\pavansanagapati\\images-dataset\\versions\\1\\data\\horses\\horse-58.jpg: 224x512 3 objects, 881.5ms\n",
      "Speed: 1.3ms preprocess, 881.5ms inference, 4.1ms postprocess per image at shape (1, 3, 224, 512)\n"
     ]
    },
    {
     "name": "stderr",
     "output_type": "stream",
     "text": [
      " 78%|███████▊  | 157/202 [03:43<00:58,  1.30s/it]"
     ]
    },
    {
     "name": "stdout",
     "output_type": "stream",
     "text": [
      "\n",
      "image 1/1 C:\\Users\\admin\\.cache\\kagglehub\\datasets\\pavansanagapati\\images-dataset\\versions\\1\\data\\horses\\horse-59.jpg: 448x512 9 objects, 1699.0ms\n",
      "Speed: 2.6ms preprocess, 1699.0ms inference, 8.9ms postprocess per image at shape (1, 3, 448, 512)\n"
     ]
    },
    {
     "name": "stderr",
     "output_type": "stream",
     "text": [
      " 78%|███████▊  | 158/202 [03:45<01:03,  1.43s/it]"
     ]
    },
    {
     "name": "stdout",
     "output_type": "stream",
     "text": [
      "\n",
      "image 1/1 C:\\Users\\admin\\.cache\\kagglehub\\datasets\\pavansanagapati\\images-dataset\\versions\\1\\data\\horses\\horse-6.jpg: 352x512 7 objects, 1314.5ms\n",
      "Speed: 2.5ms preprocess, 1314.5ms inference, 11.6ms postprocess per image at shape (1, 3, 352, 512)\n"
     ]
    },
    {
     "name": "stderr",
     "output_type": "stream",
     "text": [
      " 79%|███████▊  | 159/202 [03:46<01:00,  1.41s/it]"
     ]
    },
    {
     "name": "stdout",
     "output_type": "stream",
     "text": [
      "\n",
      "image 1/1 C:\\Users\\admin\\.cache\\kagglehub\\datasets\\pavansanagapati\\images-dataset\\versions\\1\\data\\horses\\horse-60.jpg: 384x512 6 objects, 1358.7ms\n",
      "Speed: 2.0ms preprocess, 1358.7ms inference, 5.9ms postprocess per image at shape (1, 3, 384, 512)\n"
     ]
    },
    {
     "name": "stderr",
     "output_type": "stream",
     "text": [
      " 79%|███████▉  | 160/202 [03:48<00:59,  1.41s/it]"
     ]
    },
    {
     "name": "stdout",
     "output_type": "stream",
     "text": [
      "\n",
      "image 1/1 C:\\Users\\admin\\.cache\\kagglehub\\datasets\\pavansanagapati\\images-dataset\\versions\\1\\data\\horses\\horse-61.jpg: 320x512 5 objects, 1129.3ms\n",
      "Speed: 2.2ms preprocess, 1129.3ms inference, 5.7ms postprocess per image at shape (1, 3, 320, 512)\n"
     ]
    },
    {
     "name": "stderr",
     "output_type": "stream",
     "text": [
      " 80%|███████▉  | 161/202 [03:49<00:54,  1.34s/it]"
     ]
    },
    {
     "name": "stdout",
     "output_type": "stream",
     "text": [
      "\n",
      "image 1/1 C:\\Users\\admin\\.cache\\kagglehub\\datasets\\pavansanagapati\\images-dataset\\versions\\1\\data\\horses\\horse-62.jpg: 256x512 6 objects, 1081.4ms\n",
      "Speed: 1.8ms preprocess, 1081.4ms inference, 6.8ms postprocess per image at shape (1, 3, 256, 512)\n"
     ]
    },
    {
     "name": "stderr",
     "output_type": "stream",
     "text": [
      " 80%|████████  | 162/202 [03:50<00:51,  1.28s/it]"
     ]
    },
    {
     "name": "stdout",
     "output_type": "stream",
     "text": [
      "\n",
      "image 1/1 C:\\Users\\admin\\.cache\\kagglehub\\datasets\\pavansanagapati\\images-dataset\\versions\\1\\data\\horses\\horse-63.jpg: 384x512 5 objects, 1448.0ms\n",
      "Speed: 2.0ms preprocess, 1448.0ms inference, 4.2ms postprocess per image at shape (1, 3, 384, 512)\n"
     ]
    },
    {
     "name": "stderr",
     "output_type": "stream",
     "text": [
      " 81%|████████  | 163/202 [03:52<00:52,  1.34s/it]"
     ]
    },
    {
     "name": "stdout",
     "output_type": "stream",
     "text": [
      "\n",
      "image 1/1 C:\\Users\\admin\\.cache\\kagglehub\\datasets\\pavansanagapati\\images-dataset\\versions\\1\\data\\horses\\horse-64.jpg: 352x512 9 objects, 1317.6ms\n",
      "Speed: 2.1ms preprocess, 1317.6ms inference, 6.7ms postprocess per image at shape (1, 3, 352, 512)\n"
     ]
    },
    {
     "name": "stderr",
     "output_type": "stream",
     "text": [
      " 81%|████████  | 164/202 [03:53<00:51,  1.34s/it]"
     ]
    },
    {
     "name": "stdout",
     "output_type": "stream",
     "text": [
      "\n",
      "image 1/1 C:\\Users\\admin\\.cache\\kagglehub\\datasets\\pavansanagapati\\images-dataset\\versions\\1\\data\\horses\\horse-65.jpg: 384x512 3 objects, 1360.5ms\n",
      "Speed: 2.7ms preprocess, 1360.5ms inference, 4.2ms postprocess per image at shape (1, 3, 384, 512)\n"
     ]
    },
    {
     "name": "stderr",
     "output_type": "stream",
     "text": [
      " 82%|████████▏ | 165/202 [03:54<00:50,  1.36s/it]"
     ]
    },
    {
     "name": "stdout",
     "output_type": "stream",
     "text": [
      "\n",
      "image 1/1 C:\\Users\\admin\\.cache\\kagglehub\\datasets\\pavansanagapati\\images-dataset\\versions\\1\\data\\horses\\horse-66.jpg: 320x512 5 objects, 1132.9ms\n",
      "Speed: 1.8ms preprocess, 1132.9ms inference, 6.6ms postprocess per image at shape (1, 3, 320, 512)\n"
     ]
    },
    {
     "name": "stderr",
     "output_type": "stream",
     "text": [
      " 82%|████████▏ | 166/202 [03:56<00:47,  1.31s/it]"
     ]
    },
    {
     "name": "stdout",
     "output_type": "stream",
     "text": [
      "\n",
      "image 1/1 C:\\Users\\admin\\.cache\\kagglehub\\datasets\\pavansanagapati\\images-dataset\\versions\\1\\data\\horses\\horse-67.jpg: 416x512 6 objects, 1598.9ms\n",
      "Speed: 2.1ms preprocess, 1598.9ms inference, 5.4ms postprocess per image at shape (1, 3, 416, 512)\n"
     ]
    },
    {
     "name": "stderr",
     "output_type": "stream",
     "text": [
      " 83%|████████▎ | 167/202 [03:57<00:49,  1.41s/it]"
     ]
    },
    {
     "name": "stdout",
     "output_type": "stream",
     "text": [
      "\n",
      "image 1/1 C:\\Users\\admin\\.cache\\kagglehub\\datasets\\pavansanagapati\\images-dataset\\versions\\1\\data\\horses\\horse-68.jpg: 512x416 1 object, 1566.7ms\n",
      "Speed: 2.6ms preprocess, 1566.7ms inference, 2.7ms postprocess per image at shape (1, 3, 512, 416)\n"
     ]
    },
    {
     "name": "stderr",
     "output_type": "stream",
     "text": [
      " 83%|████████▎ | 168/202 [03:59<00:49,  1.47s/it]"
     ]
    },
    {
     "name": "stdout",
     "output_type": "stream",
     "text": [
      "\n",
      "image 1/1 C:\\Users\\admin\\.cache\\kagglehub\\datasets\\pavansanagapati\\images-dataset\\versions\\1\\data\\horses\\horse-69.jpg: 352x512 2 objects, 1236.8ms\n",
      "Speed: 1.3ms preprocess, 1236.8ms inference, 3.1ms postprocess per image at shape (1, 3, 352, 512)\n"
     ]
    },
    {
     "name": "stderr",
     "output_type": "stream",
     "text": [
      " 84%|████████▎ | 169/202 [04:00<00:46,  1.41s/it]"
     ]
    },
    {
     "name": "stdout",
     "output_type": "stream",
     "text": [
      "\n",
      "image 1/1 C:\\Users\\admin\\.cache\\kagglehub\\datasets\\pavansanagapati\\images-dataset\\versions\\1\\data\\horses\\horse-7.jpg: 384x512 16 objects, 1352.6ms\n",
      "Speed: 5.7ms preprocess, 1352.6ms inference, 28.7ms postprocess per image at shape (1, 3, 384, 512)\n"
     ]
    },
    {
     "name": "stderr",
     "output_type": "stream",
     "text": [
      " 84%|████████▍ | 170/202 [04:01<00:45,  1.41s/it]"
     ]
    },
    {
     "name": "stdout",
     "output_type": "stream",
     "text": [
      "\n",
      "image 1/1 C:\\Users\\admin\\.cache\\kagglehub\\datasets\\pavansanagapati\\images-dataset\\versions\\1\\data\\horses\\horse-70.jpg: 512x512 3 objects, 1856.6ms\n",
      "Speed: 2.2ms preprocess, 1856.6ms inference, 4.1ms postprocess per image at shape (1, 3, 512, 512)\n"
     ]
    },
    {
     "name": "stderr",
     "output_type": "stream",
     "text": [
      " 85%|████████▍ | 171/202 [04:03<00:48,  1.56s/it]"
     ]
    },
    {
     "name": "stdout",
     "output_type": "stream",
     "text": [
      "\n",
      "image 1/1 C:\\Users\\admin\\.cache\\kagglehub\\datasets\\pavansanagapati\\images-dataset\\versions\\1\\data\\horses\\horse-71.jpg: 384x512 3 objects, 1460.8ms\n",
      "Speed: 1.9ms preprocess, 1460.8ms inference, 5.0ms postprocess per image at shape (1, 3, 384, 512)\n"
     ]
    },
    {
     "name": "stderr",
     "output_type": "stream",
     "text": [
      " 85%|████████▌ | 172/202 [04:05<00:46,  1.54s/it]"
     ]
    },
    {
     "name": "stdout",
     "output_type": "stream",
     "text": [
      "\n",
      "image 1/1 C:\\Users\\admin\\.cache\\kagglehub\\datasets\\pavansanagapati\\images-dataset\\versions\\1\\data\\horses\\horse-72.jpg: 288x512 2 objects, 1107.7ms\n",
      "Speed: 1.6ms preprocess, 1107.7ms inference, 3.3ms postprocess per image at shape (1, 3, 288, 512)\n"
     ]
    },
    {
     "name": "stderr",
     "output_type": "stream",
     "text": [
      " 86%|████████▌ | 173/202 [04:06<00:41,  1.42s/it]"
     ]
    },
    {
     "name": "stdout",
     "output_type": "stream",
     "text": [
      "\n",
      "image 1/1 C:\\Users\\admin\\.cache\\kagglehub\\datasets\\pavansanagapati\\images-dataset\\versions\\1\\data\\horses\\horse-73.jpg: 352x512 8 objects, 1341.2ms\n",
      "Speed: 1.9ms preprocess, 1341.2ms inference, 6.5ms postprocess per image at shape (1, 3, 352, 512)\n"
     ]
    },
    {
     "name": "stderr",
     "output_type": "stream",
     "text": [
      " 86%|████████▌ | 174/202 [04:07<00:39,  1.41s/it]"
     ]
    },
    {
     "name": "stdout",
     "output_type": "stream",
     "text": [
      "\n",
      "image 1/1 C:\\Users\\admin\\.cache\\kagglehub\\datasets\\pavansanagapati\\images-dataset\\versions\\1\\data\\horses\\horse-74.jpg: 384x512 5 objects, 1344.0ms\n",
      "Speed: 1.6ms preprocess, 1344.0ms inference, 6.7ms postprocess per image at shape (1, 3, 384, 512)\n"
     ]
    },
    {
     "name": "stderr",
     "output_type": "stream",
     "text": [
      " 87%|████████▋ | 175/202 [04:09<00:37,  1.40s/it]"
     ]
    },
    {
     "name": "stdout",
     "output_type": "stream",
     "text": [
      "\n",
      "image 1/1 C:\\Users\\admin\\.cache\\kagglehub\\datasets\\pavansanagapati\\images-dataset\\versions\\1\\data\\horses\\horse-75.jpg: 384x512 7 objects, 1500.9ms\n",
      "Speed: 1.5ms preprocess, 1500.9ms inference, 4.2ms postprocess per image at shape (1, 3, 384, 512)\n"
     ]
    },
    {
     "name": "stderr",
     "output_type": "stream",
     "text": [
      " 87%|████████▋ | 176/202 [04:10<00:37,  1.44s/it]"
     ]
    },
    {
     "name": "stdout",
     "output_type": "stream",
     "text": [
      "\n",
      "image 1/1 C:\\Users\\admin\\.cache\\kagglehub\\datasets\\pavansanagapati\\images-dataset\\versions\\1\\data\\horses\\horse-76.jpg: 384x512 8 objects, 1322.9ms\n",
      "Speed: 1.5ms preprocess, 1322.9ms inference, 7.0ms postprocess per image at shape (1, 3, 384, 512)\n"
     ]
    },
    {
     "name": "stderr",
     "output_type": "stream",
     "text": [
      " 88%|████████▊ | 177/202 [04:12<00:35,  1.42s/it]"
     ]
    },
    {
     "name": "stdout",
     "output_type": "stream",
     "text": [
      "\n",
      "image 1/1 C:\\Users\\admin\\.cache\\kagglehub\\datasets\\pavansanagapati\\images-dataset\\versions\\1\\data\\horses\\horse-77.jpg: 384x512 13 objects, 1352.4ms\n",
      "Speed: 2.1ms preprocess, 1352.4ms inference, 8.8ms postprocess per image at shape (1, 3, 384, 512)\n"
     ]
    },
    {
     "name": "stderr",
     "output_type": "stream",
     "text": [
      " 88%|████████▊ | 178/202 [04:13<00:33,  1.41s/it]"
     ]
    },
    {
     "name": "stdout",
     "output_type": "stream",
     "text": [
      "\n",
      "image 1/1 C:\\Users\\admin\\.cache\\kagglehub\\datasets\\pavansanagapati\\images-dataset\\versions\\1\\data\\horses\\horse-78.jpg: 352x512 3 objects, 1255.7ms\n",
      "Speed: 37.9ms preprocess, 1255.7ms inference, 3.9ms postprocess per image at shape (1, 3, 352, 512)\n"
     ]
    },
    {
     "name": "stderr",
     "output_type": "stream",
     "text": [
      " 89%|████████▊ | 179/202 [04:14<00:31,  1.39s/it]"
     ]
    },
    {
     "name": "stdout",
     "output_type": "stream",
     "text": [
      "\n",
      "image 1/1 C:\\Users\\admin\\.cache\\kagglehub\\datasets\\pavansanagapati\\images-dataset\\versions\\1\\data\\horses\\horse-79.jpg: 448x512 5 objects, 1610.7ms\n",
      "Speed: 2.3ms preprocess, 1610.7ms inference, 4.3ms postprocess per image at shape (1, 3, 448, 512)\n"
     ]
    },
    {
     "name": "stderr",
     "output_type": "stream",
     "text": [
      " 89%|████████▉ | 180/202 [04:16<00:32,  1.47s/it]"
     ]
    },
    {
     "name": "stdout",
     "output_type": "stream",
     "text": [
      "\n",
      "image 1/1 C:\\Users\\admin\\.cache\\kagglehub\\datasets\\pavansanagapati\\images-dataset\\versions\\1\\data\\horses\\horse-8.jpg: 512x512 9 objects, 1745.6ms\n",
      "Speed: 2.3ms preprocess, 1745.6ms inference, 8.1ms postprocess per image at shape (1, 3, 512, 512)\n"
     ]
    },
    {
     "name": "stderr",
     "output_type": "stream",
     "text": [
      " 90%|████████▉ | 181/202 [04:18<00:32,  1.56s/it]"
     ]
    },
    {
     "name": "stdout",
     "output_type": "stream",
     "text": [
      "\n",
      "image 1/1 C:\\Users\\admin\\.cache\\kagglehub\\datasets\\pavansanagapati\\images-dataset\\versions\\1\\data\\horses\\horse-80.jpg: 384x512 3 objects, 1450.0ms\n",
      "Speed: 2.2ms preprocess, 1450.0ms inference, 3.6ms postprocess per image at shape (1, 3, 384, 512)\n"
     ]
    },
    {
     "name": "stderr",
     "output_type": "stream",
     "text": [
      " 90%|█████████ | 182/202 [04:19<00:30,  1.54s/it]"
     ]
    },
    {
     "name": "stdout",
     "output_type": "stream",
     "text": [
      "\n",
      "image 1/1 C:\\Users\\admin\\.cache\\kagglehub\\datasets\\pavansanagapati\\images-dataset\\versions\\1\\data\\horses\\horse-81.jpg: 448x512 8 objects, 1528.9ms\n",
      "Speed: 2.2ms preprocess, 1528.9ms inference, 6.9ms postprocess per image at shape (1, 3, 448, 512)\n"
     ]
    },
    {
     "name": "stderr",
     "output_type": "stream",
     "text": [
      " 91%|█████████ | 183/202 [04:21<00:29,  1.55s/it]"
     ]
    },
    {
     "name": "stdout",
     "output_type": "stream",
     "text": [
      "\n",
      "image 1/1 C:\\Users\\admin\\.cache\\kagglehub\\datasets\\pavansanagapati\\images-dataset\\versions\\1\\data\\horses\\horse-82.jpg: 416x512 5 objects, 1515.6ms\n",
      "Speed: 1.7ms preprocess, 1515.6ms inference, 5.9ms postprocess per image at shape (1, 3, 416, 512)\n"
     ]
    },
    {
     "name": "stderr",
     "output_type": "stream",
     "text": [
      " 91%|█████████ | 184/202 [04:22<00:27,  1.55s/it]"
     ]
    },
    {
     "name": "stdout",
     "output_type": "stream",
     "text": [
      "\n",
      "image 1/1 C:\\Users\\admin\\.cache\\kagglehub\\datasets\\pavansanagapati\\images-dataset\\versions\\1\\data\\horses\\horse-83.jpg: 384x512 4 objects, 1382.0ms\n",
      "Speed: 1.9ms preprocess, 1382.0ms inference, 4.6ms postprocess per image at shape (1, 3, 384, 512)\n"
     ]
    },
    {
     "name": "stderr",
     "output_type": "stream",
     "text": [
      " 92%|█████████▏| 185/202 [04:24<00:25,  1.51s/it]"
     ]
    },
    {
     "name": "stdout",
     "output_type": "stream",
     "text": [
      "\n",
      "image 1/1 C:\\Users\\admin\\.cache\\kagglehub\\datasets\\pavansanagapati\\images-dataset\\versions\\1\\data\\horses\\horse-84.jpg: 448x512 9 objects, 1613.2ms\n",
      "Speed: 2.6ms preprocess, 1613.2ms inference, 6.1ms postprocess per image at shape (1, 3, 448, 512)\n"
     ]
    },
    {
     "name": "stderr",
     "output_type": "stream",
     "text": [
      " 92%|█████████▏| 186/202 [04:25<00:24,  1.55s/it]"
     ]
    },
    {
     "name": "stdout",
     "output_type": "stream",
     "text": [
      "\n",
      "image 1/1 C:\\Users\\admin\\.cache\\kagglehub\\datasets\\pavansanagapati\\images-dataset\\versions\\1\\data\\horses\\horse-85.jpg: 384x512 8 objects, 1342.7ms\n",
      "Speed: 10.5ms preprocess, 1342.7ms inference, 6.6ms postprocess per image at shape (1, 3, 384, 512)\n"
     ]
    },
    {
     "name": "stderr",
     "output_type": "stream",
     "text": [
      " 93%|█████████▎| 187/202 [04:27<00:22,  1.51s/it]"
     ]
    },
    {
     "name": "stdout",
     "output_type": "stream",
     "text": [
      "\n",
      "image 1/1 C:\\Users\\admin\\.cache\\kagglehub\\datasets\\pavansanagapati\\images-dataset\\versions\\1\\data\\horses\\horse-86.jpg: 288x512 9 objects, 1006.9ms\n",
      "Speed: 1.9ms preprocess, 1006.9ms inference, 7.6ms postprocess per image at shape (1, 3, 288, 512)\n"
     ]
    },
    {
     "name": "stderr",
     "output_type": "stream",
     "text": [
      " 93%|█████████▎| 188/202 [04:28<00:19,  1.37s/it]"
     ]
    },
    {
     "name": "stdout",
     "output_type": "stream",
     "text": [
      "\n",
      "image 1/1 C:\\Users\\admin\\.cache\\kagglehub\\datasets\\pavansanagapati\\images-dataset\\versions\\1\\data\\horses\\horse-87.jpg: 416x512 6 objects, 1531.1ms\n",
      "Speed: 1.7ms preprocess, 1531.1ms inference, 6.1ms postprocess per image at shape (1, 3, 416, 512)\n"
     ]
    },
    {
     "name": "stderr",
     "output_type": "stream",
     "text": [
      " 94%|█████████▎| 189/202 [04:30<00:18,  1.43s/it]"
     ]
    },
    {
     "name": "stdout",
     "output_type": "stream",
     "text": [
      "\n",
      "image 1/1 C:\\Users\\admin\\.cache\\kagglehub\\datasets\\pavansanagapati\\images-dataset\\versions\\1\\data\\horses\\horse-88.jpg: 320x512 10 objects, 1139.8ms\n",
      "Speed: 1.6ms preprocess, 1139.8ms inference, 9.7ms postprocess per image at shape (1, 3, 320, 512)\n"
     ]
    },
    {
     "name": "stderr",
     "output_type": "stream",
     "text": [
      " 94%|█████████▍| 190/202 [04:31<00:16,  1.36s/it]"
     ]
    },
    {
     "name": "stdout",
     "output_type": "stream",
     "text": [
      "\n",
      "image 1/1 C:\\Users\\admin\\.cache\\kagglehub\\datasets\\pavansanagapati\\images-dataset\\versions\\1\\data\\horses\\horse-89.jpg: 384x512 11 objects, 1386.1ms\n",
      "Speed: 1.6ms preprocess, 1386.1ms inference, 8.2ms postprocess per image at shape (1, 3, 384, 512)\n"
     ]
    },
    {
     "name": "stderr",
     "output_type": "stream",
     "text": [
      " 95%|█████████▍| 191/202 [04:32<00:15,  1.38s/it]"
     ]
    },
    {
     "name": "stdout",
     "output_type": "stream",
     "text": [
      "\n",
      "image 1/1 C:\\Users\\admin\\.cache\\kagglehub\\datasets\\pavansanagapati\\images-dataset\\versions\\1\\data\\horses\\horse-9.jpg: 448x512 13 objects, 1561.0ms\n",
      "Speed: 3.0ms preprocess, 1561.0ms inference, 28.6ms postprocess per image at shape (1, 3, 448, 512)\n"
     ]
    },
    {
     "name": "stderr",
     "output_type": "stream",
     "text": [
      " 95%|█████████▌| 192/202 [04:34<00:14,  1.46s/it]"
     ]
    },
    {
     "name": "stdout",
     "output_type": "stream",
     "text": [
      "\n",
      "image 1/1 C:\\Users\\admin\\.cache\\kagglehub\\datasets\\pavansanagapati\\images-dataset\\versions\\1\\data\\horses\\horse-90.jpg: 384x512 8 objects, 1429.0ms\n",
      "Speed: 2.1ms preprocess, 1429.0ms inference, 6.9ms postprocess per image at shape (1, 3, 384, 512)\n"
     ]
    },
    {
     "name": "stderr",
     "output_type": "stream",
     "text": [
      " 96%|█████████▌| 193/202 [04:35<00:13,  1.46s/it]"
     ]
    },
    {
     "name": "stdout",
     "output_type": "stream",
     "text": [
      "\n",
      "image 1/1 C:\\Users\\admin\\.cache\\kagglehub\\datasets\\pavansanagapati\\images-dataset\\versions\\1\\data\\horses\\horse-91.jpg: 320x512 4 objects, 1129.6ms\n",
      "Speed: 1.6ms preprocess, 1129.6ms inference, 4.7ms postprocess per image at shape (1, 3, 320, 512)\n"
     ]
    },
    {
     "name": "stderr",
     "output_type": "stream",
     "text": [
      " 96%|█████████▌| 194/202 [04:36<00:10,  1.37s/it]"
     ]
    },
    {
     "name": "stdout",
     "output_type": "stream",
     "text": [
      "\n",
      "image 1/1 C:\\Users\\admin\\.cache\\kagglehub\\datasets\\pavansanagapati\\images-dataset\\versions\\1\\data\\horses\\horse-92.jpg: 320x512 4 objects, 1106.8ms\n",
      "Speed: 1.8ms preprocess, 1106.8ms inference, 5.2ms postprocess per image at shape (1, 3, 320, 512)\n"
     ]
    },
    {
     "name": "stderr",
     "output_type": "stream",
     "text": [
      " 97%|█████████▋| 195/202 [04:38<00:09,  1.30s/it]"
     ]
    },
    {
     "name": "stdout",
     "output_type": "stream",
     "text": [
      "\n",
      "image 1/1 C:\\Users\\admin\\.cache\\kagglehub\\datasets\\pavansanagapati\\images-dataset\\versions\\1\\data\\horses\\horse-93.jpg: 352x512 6 objects, 1271.2ms\n",
      "Speed: 2.0ms preprocess, 1271.2ms inference, 6.6ms postprocess per image at shape (1, 3, 352, 512)\n"
     ]
    },
    {
     "name": "stderr",
     "output_type": "stream",
     "text": [
      " 97%|█████████▋| 196/202 [04:39<00:07,  1.30s/it]"
     ]
    },
    {
     "name": "stdout",
     "output_type": "stream",
     "text": [
      "\n",
      "image 1/1 C:\\Users\\admin\\.cache\\kagglehub\\datasets\\pavansanagapati\\images-dataset\\versions\\1\\data\\horses\\horse-94.jpg: 512x352 3 objects, 1372.9ms\n",
      "Speed: 2.2ms preprocess, 1372.9ms inference, 4.4ms postprocess per image at shape (1, 3, 512, 352)\n"
     ]
    },
    {
     "name": "stderr",
     "output_type": "stream",
     "text": [
      " 98%|█████████▊| 197/202 [04:40<00:06,  1.34s/it]"
     ]
    },
    {
     "name": "stdout",
     "output_type": "stream",
     "text": [
      "\n",
      "image 1/1 C:\\Users\\admin\\.cache\\kagglehub\\datasets\\pavansanagapati\\images-dataset\\versions\\1\\data\\horses\\horse-95.jpg: 288x512 6 objects, 989.5ms\n",
      "Speed: 2.1ms preprocess, 989.5ms inference, 5.4ms postprocess per image at shape (1, 3, 288, 512)\n"
     ]
    },
    {
     "name": "stderr",
     "output_type": "stream",
     "text": [
      " 98%|█████████▊| 198/202 [04:41<00:04,  1.24s/it]"
     ]
    },
    {
     "name": "stdout",
     "output_type": "stream",
     "text": [
      "\n",
      "image 1/1 C:\\Users\\admin\\.cache\\kagglehub\\datasets\\pavansanagapati\\images-dataset\\versions\\1\\data\\horses\\horse-96.jpg: 384x512 3 objects, 1458.3ms\n",
      "Speed: 2.8ms preprocess, 1458.3ms inference, 3.6ms postprocess per image at shape (1, 3, 384, 512)\n"
     ]
    },
    {
     "name": "stderr",
     "output_type": "stream",
     "text": [
      " 99%|█████████▊| 199/202 [04:43<00:03,  1.32s/it]"
     ]
    },
    {
     "name": "stdout",
     "output_type": "stream",
     "text": [
      "\n",
      "image 1/1 C:\\Users\\admin\\.cache\\kagglehub\\datasets\\pavansanagapati\\images-dataset\\versions\\1\\data\\horses\\horse-97.jpg: 384x512 3 objects, 1363.0ms\n",
      "Speed: 2.4ms preprocess, 1363.0ms inference, 3.6ms postprocess per image at shape (1, 3, 384, 512)\n"
     ]
    },
    {
     "name": "stderr",
     "output_type": "stream",
     "text": [
      " 99%|█████████▉| 200/202 [04:44<00:02,  1.34s/it]"
     ]
    },
    {
     "name": "stdout",
     "output_type": "stream",
     "text": [
      "\n",
      "image 1/1 C:\\Users\\admin\\.cache\\kagglehub\\datasets\\pavansanagapati\\images-dataset\\versions\\1\\data\\horses\\horse-98.jpg: 352x512 5 objects, 1217.1ms\n",
      "Speed: 1.3ms preprocess, 1217.1ms inference, 4.6ms postprocess per image at shape (1, 3, 352, 512)\n"
     ]
    },
    {
     "name": "stderr",
     "output_type": "stream",
     "text": [
      "100%|█████████▉| 201/202 [04:45<00:01,  1.31s/it]"
     ]
    },
    {
     "name": "stdout",
     "output_type": "stream",
     "text": [
      "\n",
      "image 1/1 C:\\Users\\admin\\.cache\\kagglehub\\datasets\\pavansanagapati\\images-dataset\\versions\\1\\data\\horses\\horse-99.jpg: 384x512 3 objects, 1406.2ms\n",
      "Speed: 27.2ms preprocess, 1406.2ms inference, 3.9ms postprocess per image at shape (1, 3, 384, 512)\n"
     ]
    },
    {
     "name": "stderr",
     "output_type": "stream",
     "text": [
      "100%|██████████| 202/202 [04:47<00:00,  1.42s/it]\n"
     ]
    },
    {
     "name": "stdout",
     "output_type": "stream",
     "text": [
      "\n",
      " Processing class: human\n"
     ]
    },
    {
     "name": "stderr",
     "output_type": "stream",
     "text": [
      "  0%|          | 0/202 [00:00<?, ?it/s]"
     ]
    },
    {
     "name": "stdout",
     "output_type": "stream",
     "text": [
      "\n",
      "image 1/1 C:\\Users\\admin\\.cache\\kagglehub\\datasets\\pavansanagapati\\images-dataset\\versions\\1\\data\\human\\rider-1.jpg: 512x288 21 objects, 1007.5ms\n",
      "Speed: 2.5ms preprocess, 1007.5ms inference, 14.7ms postprocess per image at shape (1, 3, 512, 288)\n"
     ]
    },
    {
     "name": "stderr",
     "output_type": "stream",
     "text": [
      "  0%|          | 1/202 [00:01<03:34,  1.06s/it]"
     ]
    },
    {
     "name": "stdout",
     "output_type": "stream",
     "text": [
      "\n",
      "image 1/1 C:\\Users\\admin\\.cache\\kagglehub\\datasets\\pavansanagapati\\images-dataset\\versions\\1\\data\\human\\rider-10.jpg: 512x512 21 objects, 1837.2ms\n",
      "Speed: 2.6ms preprocess, 1837.2ms inference, 15.8ms postprocess per image at shape (1, 3, 512, 512)\n"
     ]
    },
    {
     "name": "stderr",
     "output_type": "stream",
     "text": [
      "  1%|          | 2/202 [00:02<05:10,  1.55s/it]"
     ]
    },
    {
     "name": "stdout",
     "output_type": "stream",
     "text": [
      "\n",
      "image 1/1 C:\\Users\\admin\\.cache\\kagglehub\\datasets\\pavansanagapati\\images-dataset\\versions\\1\\data\\human\\rider-100.jpg: 512x288 25 objects, 992.6ms\n",
      "Speed: 1.5ms preprocess, 992.6ms inference, 14.3ms postprocess per image at shape (1, 3, 512, 288)\n"
     ]
    },
    {
     "name": "stderr",
     "output_type": "stream",
     "text": [
      "  1%|▏         | 3/202 [00:04<04:23,  1.32s/it]"
     ]
    },
    {
     "name": "stdout",
     "output_type": "stream",
     "text": [
      "\n",
      "image 1/1 C:\\Users\\admin\\.cache\\kagglehub\\datasets\\pavansanagapati\\images-dataset\\versions\\1\\data\\human\\rider-101.jpg: 512x352 20 objects, 1194.0ms\n",
      "Speed: 3.4ms preprocess, 1194.0ms inference, 13.9ms postprocess per image at shape (1, 3, 512, 352)\n"
     ]
    },
    {
     "name": "stderr",
     "output_type": "stream",
     "text": [
      "  2%|▏         | 4/202 [00:05<04:16,  1.29s/it]"
     ]
    },
    {
     "name": "stdout",
     "output_type": "stream",
     "text": [
      "\n",
      "image 1/1 C:\\Users\\admin\\.cache\\kagglehub\\datasets\\pavansanagapati\\images-dataset\\versions\\1\\data\\human\\rider-102.jpg: 512x512 17 objects, 1841.8ms\n",
      "Speed: 2.9ms preprocess, 1841.8ms inference, 13.2ms postprocess per image at shape (1, 3, 512, 512)\n"
     ]
    },
    {
     "name": "stderr",
     "output_type": "stream",
     "text": [
      "  2%|▏         | 5/202 [00:07<04:57,  1.51s/it]"
     ]
    },
    {
     "name": "stdout",
     "output_type": "stream",
     "text": [
      "\n",
      "image 1/1 C:\\Users\\admin\\.cache\\kagglehub\\datasets\\pavansanagapati\\images-dataset\\versions\\1\\data\\human\\rider-103.jpg: 512x352 32 objects, 1262.1ms\n",
      "Speed: 2.5ms preprocess, 1262.1ms inference, 21.6ms postprocess per image at shape (1, 3, 512, 352)\n"
     ]
    },
    {
     "name": "stderr",
     "output_type": "stream",
     "text": [
      "  3%|▎         | 6/202 [00:08<04:43,  1.45s/it]"
     ]
    },
    {
     "name": "stdout",
     "output_type": "stream",
     "text": [
      "\n",
      "image 1/1 C:\\Users\\admin\\.cache\\kagglehub\\datasets\\pavansanagapati\\images-dataset\\versions\\1\\data\\human\\rider-104.jpg: 512x512 15 objects, 1832.8ms\n",
      "Speed: 3.1ms preprocess, 1832.8ms inference, 10.2ms postprocess per image at shape (1, 3, 512, 512)\n"
     ]
    },
    {
     "name": "stderr",
     "output_type": "stream",
     "text": [
      "  3%|▎         | 7/202 [00:10<05:09,  1.59s/it]"
     ]
    },
    {
     "name": "stdout",
     "output_type": "stream",
     "text": [
      "\n",
      "image 1/1 C:\\Users\\admin\\.cache\\kagglehub\\datasets\\pavansanagapati\\images-dataset\\versions\\1\\data\\human\\rider-105.jpg: 512x512 27 objects, 1757.3ms\n",
      "Speed: 2.2ms preprocess, 1757.3ms inference, 17.3ms postprocess per image at shape (1, 3, 512, 512)\n"
     ]
    },
    {
     "name": "stderr",
     "output_type": "stream",
     "text": [
      "  4%|▍         | 8/202 [00:12<05:23,  1.67s/it]"
     ]
    },
    {
     "name": "stdout",
     "output_type": "stream",
     "text": [
      "\n",
      "image 1/1 C:\\Users\\admin\\.cache\\kagglehub\\datasets\\pavansanagapati\\images-dataset\\versions\\1\\data\\human\\rider-106.jpg: 512x416 20 objects, 1501.5ms\n",
      "Speed: 2.0ms preprocess, 1501.5ms inference, 18.0ms postprocess per image at shape (1, 3, 512, 416)\n"
     ]
    },
    {
     "name": "stderr",
     "output_type": "stream",
     "text": [
      "  4%|▍         | 9/202 [00:13<05:15,  1.63s/it]"
     ]
    },
    {
     "name": "stdout",
     "output_type": "stream",
     "text": [
      "\n",
      "image 1/1 C:\\Users\\admin\\.cache\\kagglehub\\datasets\\pavansanagapati\\images-dataset\\versions\\1\\data\\human\\rider-107.jpg: 512x512 15 objects, 1762.6ms\n",
      "Speed: 2.3ms preprocess, 1762.6ms inference, 12.1ms postprocess per image at shape (1, 3, 512, 512)\n"
     ]
    },
    {
     "name": "stderr",
     "output_type": "stream",
     "text": [
      "  5%|▍         | 10/202 [00:15<05:24,  1.69s/it]"
     ]
    },
    {
     "name": "stdout",
     "output_type": "stream",
     "text": [
      "\n",
      "image 1/1 C:\\Users\\admin\\.cache\\kagglehub\\datasets\\pavansanagapati\\images-dataset\\versions\\1\\data\\human\\rider-108.jpg: 512x352 11 objects, 1338.9ms\n",
      "Speed: 2.0ms preprocess, 1338.9ms inference, 8.7ms postprocess per image at shape (1, 3, 512, 352)\n"
     ]
    },
    {
     "name": "stderr",
     "output_type": "stream",
     "text": [
      "  5%|▌         | 11/202 [00:16<05:04,  1.60s/it]"
     ]
    },
    {
     "name": "stdout",
     "output_type": "stream",
     "text": [
      "\n",
      "image 1/1 C:\\Users\\admin\\.cache\\kagglehub\\datasets\\pavansanagapati\\images-dataset\\versions\\1\\data\\human\\rider-109.jpg: 512x512 21 objects, 1837.0ms\n",
      "Speed: 2.0ms preprocess, 1837.0ms inference, 16.5ms postprocess per image at shape (1, 3, 512, 512)\n"
     ]
    },
    {
     "name": "stderr",
     "output_type": "stream",
     "text": [
      "  6%|▌         | 12/202 [00:18<05:20,  1.69s/it]"
     ]
    },
    {
     "name": "stdout",
     "output_type": "stream",
     "text": [
      "\n",
      "image 1/1 C:\\Users\\admin\\.cache\\kagglehub\\datasets\\pavansanagapati\\images-dataset\\versions\\1\\data\\human\\rider-11.jpg: 512x352 23 objects, 1249.3ms\n",
      "Speed: 2.0ms preprocess, 1249.3ms inference, 14.1ms postprocess per image at shape (1, 3, 512, 352)\n"
     ]
    },
    {
     "name": "stderr",
     "output_type": "stream",
     "text": [
      "  6%|▋         | 13/202 [00:20<04:56,  1.57s/it]"
     ]
    },
    {
     "name": "stdout",
     "output_type": "stream",
     "text": [
      "\n",
      "image 1/1 C:\\Users\\admin\\.cache\\kagglehub\\datasets\\pavansanagapati\\images-dataset\\versions\\1\\data\\human\\rider-110.jpg: 512x512 14 objects, 1822.4ms\n",
      "Speed: 3.1ms preprocess, 1822.4ms inference, 9.5ms postprocess per image at shape (1, 3, 512, 512)\n"
     ]
    },
    {
     "name": "stderr",
     "output_type": "stream",
     "text": [
      "  7%|▋         | 14/202 [00:22<05:11,  1.66s/it]"
     ]
    },
    {
     "name": "stdout",
     "output_type": "stream",
     "text": [
      "\n",
      "image 1/1 C:\\Users\\admin\\.cache\\kagglehub\\datasets\\pavansanagapati\\images-dataset\\versions\\1\\data\\human\\rider-111.jpg: 512x320 16 objects, 1168.9ms\n",
      "Speed: 2.9ms preprocess, 1168.9ms inference, 11.6ms postprocess per image at shape (1, 3, 512, 320)\n"
     ]
    },
    {
     "name": "stderr",
     "output_type": "stream",
     "text": [
      "  7%|▋         | 15/202 [00:23<04:45,  1.53s/it]"
     ]
    },
    {
     "name": "stdout",
     "output_type": "stream",
     "text": [
      "\n",
      "image 1/1 C:\\Users\\admin\\.cache\\kagglehub\\datasets\\pavansanagapati\\images-dataset\\versions\\1\\data\\human\\rider-112.jpg: 512x384 28 objects, 1374.2ms\n",
      "Speed: 1.9ms preprocess, 1374.2ms inference, 21.0ms postprocess per image at shape (1, 3, 512, 384)\n"
     ]
    },
    {
     "name": "stderr",
     "output_type": "stream",
     "text": [
      "  8%|▊         | 16/202 [00:24<04:38,  1.50s/it]"
     ]
    },
    {
     "name": "stdout",
     "output_type": "stream",
     "text": [
      "\n",
      "image 1/1 C:\\Users\\admin\\.cache\\kagglehub\\datasets\\pavansanagapati\\images-dataset\\versions\\1\\data\\human\\rider-113.jpg: 512x512 14 objects, 1787.4ms\n",
      "Speed: 60.0ms preprocess, 1787.4ms inference, 11.1ms postprocess per image at shape (1, 3, 512, 512)\n"
     ]
    },
    {
     "name": "stderr",
     "output_type": "stream",
     "text": [
      "  8%|▊         | 17/202 [00:26<04:59,  1.62s/it]"
     ]
    },
    {
     "name": "stdout",
     "output_type": "stream",
     "text": [
      "\n",
      "image 1/1 C:\\Users\\admin\\.cache\\kagglehub\\datasets\\pavansanagapati\\images-dataset\\versions\\1\\data\\human\\rider-114.jpg: 512x352 25 objects, 1243.9ms\n",
      "Speed: 3.3ms preprocess, 1243.9ms inference, 15.0ms postprocess per image at shape (1, 3, 512, 352)\n"
     ]
    },
    {
     "name": "stderr",
     "output_type": "stream",
     "text": [
      "  9%|▉         | 18/202 [00:27<04:40,  1.53s/it]"
     ]
    },
    {
     "name": "stdout",
     "output_type": "stream",
     "text": [
      "\n",
      "image 1/1 C:\\Users\\admin\\.cache\\kagglehub\\datasets\\pavansanagapati\\images-dataset\\versions\\1\\data\\human\\rider-115.jpg: 512x352 18 objects, 1298.1ms\n",
      "Speed: 24.2ms preprocess, 1298.1ms inference, 14.5ms postprocess per image at shape (1, 3, 512, 352)\n"
     ]
    },
    {
     "name": "stderr",
     "output_type": "stream",
     "text": [
      "  9%|▉         | 19/202 [00:29<04:31,  1.48s/it]"
     ]
    },
    {
     "name": "stdout",
     "output_type": "stream",
     "text": [
      "\n",
      "image 1/1 C:\\Users\\admin\\.cache\\kagglehub\\datasets\\pavansanagapati\\images-dataset\\versions\\1\\data\\human\\rider-116.jpg: 512x352 29 objects, 1248.7ms\n",
      "Speed: 1.5ms preprocess, 1248.7ms inference, 94.4ms postprocess per image at shape (1, 3, 512, 352)\n"
     ]
    },
    {
     "name": "stderr",
     "output_type": "stream",
     "text": [
      " 10%|▉         | 20/202 [00:30<04:24,  1.45s/it]"
     ]
    },
    {
     "name": "stdout",
     "output_type": "stream",
     "text": [
      "\n",
      "image 1/1 C:\\Users\\admin\\.cache\\kagglehub\\datasets\\pavansanagapati\\images-dataset\\versions\\1\\data\\human\\rider-117.jpg: 512x416 18 objects, 1534.4ms\n",
      "Speed: 2.0ms preprocess, 1534.4ms inference, 13.0ms postprocess per image at shape (1, 3, 512, 416)\n"
     ]
    },
    {
     "name": "stderr",
     "output_type": "stream",
     "text": [
      " 10%|█         | 21/202 [00:32<04:30,  1.49s/it]"
     ]
    },
    {
     "name": "stdout",
     "output_type": "stream",
     "text": [
      "\n",
      "image 1/1 C:\\Users\\admin\\.cache\\kagglehub\\datasets\\pavansanagapati\\images-dataset\\versions\\1\\data\\human\\rider-118.jpg: 512x352 16 objects, 1257.8ms\n",
      "Speed: 1.3ms preprocess, 1257.8ms inference, 10.7ms postprocess per image at shape (1, 3, 512, 352)\n"
     ]
    },
    {
     "name": "stderr",
     "output_type": "stream",
     "text": [
      " 11%|█         | 22/202 [00:33<04:18,  1.44s/it]"
     ]
    },
    {
     "name": "stdout",
     "output_type": "stream",
     "text": [
      "\n",
      "image 1/1 C:\\Users\\admin\\.cache\\kagglehub\\datasets\\pavansanagapati\\images-dataset\\versions\\1\\data\\human\\rider-119.jpg: 512x384 9 objects, 1399.0ms\n",
      "Speed: 2.5ms preprocess, 1399.0ms inference, 8.9ms postprocess per image at shape (1, 3, 512, 384)\n"
     ]
    },
    {
     "name": "stderr",
     "output_type": "stream",
     "text": [
      " 11%|█▏        | 23/202 [00:34<04:17,  1.44s/it]"
     ]
    },
    {
     "name": "stdout",
     "output_type": "stream",
     "text": [
      "\n",
      "image 1/1 C:\\Users\\admin\\.cache\\kagglehub\\datasets\\pavansanagapati\\images-dataset\\versions\\1\\data\\human\\rider-12.jpg: 512x512 33 objects, 1755.5ms\n",
      "Speed: 2.5ms preprocess, 1755.5ms inference, 21.9ms postprocess per image at shape (1, 3, 512, 512)\n"
     ]
    },
    {
     "name": "stderr",
     "output_type": "stream",
     "text": [
      " 12%|█▏        | 24/202 [00:36<04:36,  1.55s/it]"
     ]
    },
    {
     "name": "stdout",
     "output_type": "stream",
     "text": [
      "\n",
      "image 1/1 C:\\Users\\admin\\.cache\\kagglehub\\datasets\\pavansanagapati\\images-dataset\\versions\\1\\data\\human\\rider-120.jpg: 512x384 18 objects, 1458.8ms\n",
      "Speed: 2.5ms preprocess, 1458.8ms inference, 17.2ms postprocess per image at shape (1, 3, 512, 384)\n"
     ]
    },
    {
     "name": "stderr",
     "output_type": "stream",
     "text": [
      " 12%|█▏        | 25/202 [00:38<04:32,  1.54s/it]"
     ]
    },
    {
     "name": "stdout",
     "output_type": "stream",
     "text": [
      "\n",
      "image 1/1 C:\\Users\\admin\\.cache\\kagglehub\\datasets\\pavansanagapati\\images-dataset\\versions\\1\\data\\human\\rider-121.jpg: 512x512 15 objects, 1751.0ms\n",
      "Speed: 2.2ms preprocess, 1751.0ms inference, 10.9ms postprocess per image at shape (1, 3, 512, 512)\n"
     ]
    },
    {
     "name": "stderr",
     "output_type": "stream",
     "text": [
      " 13%|█▎        | 26/202 [00:40<04:44,  1.62s/it]"
     ]
    },
    {
     "name": "stdout",
     "output_type": "stream",
     "text": [
      "\n",
      "image 1/1 C:\\Users\\admin\\.cache\\kagglehub\\datasets\\pavansanagapati\\images-dataset\\versions\\1\\data\\human\\rider-122.jpg: 512x384 21 objects, 1443.5ms\n",
      "Speed: 6.0ms preprocess, 1443.5ms inference, 14.3ms postprocess per image at shape (1, 3, 512, 384)\n"
     ]
    },
    {
     "name": "stderr",
     "output_type": "stream",
     "text": [
      " 13%|█▎        | 27/202 [00:41<04:37,  1.58s/it]"
     ]
    },
    {
     "name": "stdout",
     "output_type": "stream",
     "text": [
      "\n",
      "image 1/1 C:\\Users\\admin\\.cache\\kagglehub\\datasets\\pavansanagapati\\images-dataset\\versions\\1\\data\\human\\rider-123.jpg: 512x512 19 objects, 1757.5ms\n",
      "Speed: 3.8ms preprocess, 1757.5ms inference, 12.7ms postprocess per image at shape (1, 3, 512, 512)\n"
     ]
    },
    {
     "name": "stderr",
     "output_type": "stream",
     "text": [
      " 14%|█▍        | 28/202 [00:43<04:48,  1.66s/it]"
     ]
    },
    {
     "name": "stdout",
     "output_type": "stream",
     "text": [
      "\n",
      "image 1/1 C:\\Users\\admin\\.cache\\kagglehub\\datasets\\pavansanagapati\\images-dataset\\versions\\1\\data\\human\\rider-124.jpg: 512x352 15 objects, 1241.0ms\n",
      "Speed: 1.8ms preprocess, 1241.0ms inference, 95.3ms postprocess per image at shape (1, 3, 512, 352)\n"
     ]
    },
    {
     "name": "stderr",
     "output_type": "stream",
     "text": [
      " 14%|█▍        | 29/202 [00:44<04:31,  1.57s/it]"
     ]
    },
    {
     "name": "stdout",
     "output_type": "stream",
     "text": [
      "\n",
      "image 1/1 C:\\Users\\admin\\.cache\\kagglehub\\datasets\\pavansanagapati\\images-dataset\\versions\\1\\data\\human\\rider-125.jpg: 512x384 13 objects, 1329.1ms\n",
      "Speed: 3.7ms preprocess, 1329.1ms inference, 10.2ms postprocess per image at shape (1, 3, 512, 384)\n"
     ]
    },
    {
     "name": "stderr",
     "output_type": "stream",
     "text": [
      " 15%|█▍        | 30/202 [00:46<04:20,  1.51s/it]"
     ]
    },
    {
     "name": "stdout",
     "output_type": "stream",
     "text": [
      "\n",
      "image 1/1 C:\\Users\\admin\\.cache\\kagglehub\\datasets\\pavansanagapati\\images-dataset\\versions\\1\\data\\human\\rider-126.jpg: 512x288 19 objects, 1012.0ms\n",
      "Speed: 1.3ms preprocess, 1012.0ms inference, 13.7ms postprocess per image at shape (1, 3, 512, 288)\n"
     ]
    },
    {
     "name": "stderr",
     "output_type": "stream",
     "text": [
      " 15%|█▌        | 31/202 [00:47<03:55,  1.38s/it]"
     ]
    },
    {
     "name": "stdout",
     "output_type": "stream",
     "text": [
      "\n",
      "image 1/1 C:\\Users\\admin\\.cache\\kagglehub\\datasets\\pavansanagapati\\images-dataset\\versions\\1\\data\\human\\rider-127.jpg: 512x512 15 objects, 1853.0ms\n",
      "Speed: 2.3ms preprocess, 1853.0ms inference, 14.0ms postprocess per image at shape (1, 3, 512, 512)\n"
     ]
    },
    {
     "name": "stderr",
     "output_type": "stream",
     "text": [
      " 16%|█▌        | 32/202 [00:49<04:21,  1.54s/it]"
     ]
    },
    {
     "name": "stdout",
     "output_type": "stream",
     "text": [
      "\n",
      "image 1/1 C:\\Users\\admin\\.cache\\kagglehub\\datasets\\pavansanagapati\\images-dataset\\versions\\1\\data\\human\\rider-128.jpg: 512x416 11 objects, 1667.6ms\n",
      "Speed: 1.5ms preprocess, 1667.6ms inference, 9.0ms postprocess per image at shape (1, 3, 512, 416)\n"
     ]
    },
    {
     "name": "stderr",
     "output_type": "stream",
     "text": [
      " 16%|█▋        | 33/202 [00:50<04:28,  1.59s/it]"
     ]
    },
    {
     "name": "stdout",
     "output_type": "stream",
     "text": [
      "\n",
      "image 1/1 C:\\Users\\admin\\.cache\\kagglehub\\datasets\\pavansanagapati\\images-dataset\\versions\\1\\data\\human\\rider-129.jpg: 512x512 14 objects, 1882.3ms\n",
      "Speed: 2.7ms preprocess, 1882.3ms inference, 8.9ms postprocess per image at shape (1, 3, 512, 512)\n"
     ]
    },
    {
     "name": "stderr",
     "output_type": "stream",
     "text": [
      " 17%|█▋        | 34/202 [00:52<04:43,  1.69s/it]"
     ]
    },
    {
     "name": "stdout",
     "output_type": "stream",
     "text": [
      "\n",
      "image 1/1 C:\\Users\\admin\\.cache\\kagglehub\\datasets\\pavansanagapati\\images-dataset\\versions\\1\\data\\human\\rider-13.jpg: 512x224 19 objects, 875.2ms\n",
      "Speed: 1.1ms preprocess, 875.2ms inference, 9.3ms postprocess per image at shape (1, 3, 512, 224)\n"
     ]
    },
    {
     "name": "stderr",
     "output_type": "stream",
     "text": [
      " 17%|█▋        | 35/202 [00:53<04:03,  1.46s/it]"
     ]
    },
    {
     "name": "stdout",
     "output_type": "stream",
     "text": [
      "\n",
      "image 1/1 C:\\Users\\admin\\.cache\\kagglehub\\datasets\\pavansanagapati\\images-dataset\\versions\\1\\data\\human\\rider-130.jpg: 512x512 14 objects, 1853.5ms\n",
      "Speed: 3.3ms preprocess, 1853.5ms inference, 11.1ms postprocess per image at shape (1, 3, 512, 512)\n"
     ]
    },
    {
     "name": "stderr",
     "output_type": "stream",
     "text": [
      " 18%|█▊        | 36/202 [00:55<04:23,  1.59s/it]"
     ]
    },
    {
     "name": "stdout",
     "output_type": "stream",
     "text": [
      "\n",
      "image 1/1 C:\\Users\\admin\\.cache\\kagglehub\\datasets\\pavansanagapati\\images-dataset\\versions\\1\\data\\human\\rider-131.jpg: 512x352 10 objects, 1253.6ms\n",
      "Speed: 2.1ms preprocess, 1253.6ms inference, 8.4ms postprocess per image at shape (1, 3, 512, 352)\n"
     ]
    },
    {
     "name": "stderr",
     "output_type": "stream",
     "text": [
      " 18%|█▊        | 37/202 [00:56<04:07,  1.50s/it]"
     ]
    },
    {
     "name": "stdout",
     "output_type": "stream",
     "text": [
      "\n",
      "image 1/1 C:\\Users\\admin\\.cache\\kagglehub\\datasets\\pavansanagapati\\images-dataset\\versions\\1\\data\\human\\rider-132.jpg: 512x512 16 objects, 1880.3ms\n",
      "Speed: 2.9ms preprocess, 1880.3ms inference, 11.8ms postprocess per image at shape (1, 3, 512, 512)\n"
     ]
    },
    {
     "name": "stderr",
     "output_type": "stream",
     "text": [
      " 19%|█▉        | 38/202 [00:58<04:27,  1.63s/it]"
     ]
    },
    {
     "name": "stdout",
     "output_type": "stream",
     "text": [
      "\n",
      "image 1/1 C:\\Users\\admin\\.cache\\kagglehub\\datasets\\pavansanagapati\\images-dataset\\versions\\1\\data\\human\\rider-133.jpg: 288x512 17 objects, 1008.6ms\n",
      "Speed: 1.6ms preprocess, 1008.6ms inference, 12.5ms postprocess per image at shape (1, 3, 288, 512)\n"
     ]
    },
    {
     "name": "stderr",
     "output_type": "stream",
     "text": [
      " 19%|█▉        | 39/202 [00:59<03:57,  1.46s/it]"
     ]
    },
    {
     "name": "stdout",
     "output_type": "stream",
     "text": [
      "\n",
      "image 1/1 C:\\Users\\admin\\.cache\\kagglehub\\datasets\\pavansanagapati\\images-dataset\\versions\\1\\data\\human\\rider-134.jpg: 512x512 25 objects, 1863.7ms\n",
      "Speed: 2.8ms preprocess, 1863.7ms inference, 16.9ms postprocess per image at shape (1, 3, 512, 512)\n"
     ]
    },
    {
     "name": "stderr",
     "output_type": "stream",
     "text": [
      " 20%|█▉        | 40/202 [01:01<04:18,  1.60s/it]"
     ]
    },
    {
     "name": "stdout",
     "output_type": "stream",
     "text": [
      "\n",
      "image 1/1 C:\\Users\\admin\\.cache\\kagglehub\\datasets\\pavansanagapati\\images-dataset\\versions\\1\\data\\human\\rider-135.jpg: 512x384 28 objects, 1423.8ms\n",
      "Speed: 2.3ms preprocess, 1423.8ms inference, 20.5ms postprocess per image at shape (1, 3, 512, 384)\n"
     ]
    },
    {
     "name": "stderr",
     "output_type": "stream",
     "text": [
      " 20%|██        | 41/202 [01:03<04:11,  1.56s/it]"
     ]
    },
    {
     "name": "stdout",
     "output_type": "stream",
     "text": [
      "\n",
      "image 1/1 C:\\Users\\admin\\.cache\\kagglehub\\datasets\\pavansanagapati\\images-dataset\\versions\\1\\data\\human\\rider-136.jpg: 352x512 25 objects, 1221.8ms\n",
      "Speed: 1.8ms preprocess, 1221.8ms inference, 18.5ms postprocess per image at shape (1, 3, 352, 512)\n"
     ]
    },
    {
     "name": "stderr",
     "output_type": "stream",
     "text": [
      " 21%|██        | 42/202 [01:04<03:56,  1.48s/it]"
     ]
    },
    {
     "name": "stdout",
     "output_type": "stream",
     "text": [
      "\n",
      "image 1/1 C:\\Users\\admin\\.cache\\kagglehub\\datasets\\pavansanagapati\\images-dataset\\versions\\1\\data\\human\\rider-137.jpg: 512x384 17 objects, 1422.5ms\n",
      "Speed: 1.8ms preprocess, 1422.5ms inference, 12.9ms postprocess per image at shape (1, 3, 512, 384)\n"
     ]
    },
    {
     "name": "stderr",
     "output_type": "stream",
     "text": [
      " 21%|██▏       | 43/202 [01:06<03:54,  1.48s/it]"
     ]
    },
    {
     "name": "stdout",
     "output_type": "stream",
     "text": [
      "\n",
      "image 1/1 C:\\Users\\admin\\.cache\\kagglehub\\datasets\\pavansanagapati\\images-dataset\\versions\\1\\data\\human\\rider-138.jpg: 512x416 14 objects, 1554.7ms\n",
      "Speed: 1.9ms preprocess, 1554.7ms inference, 9.3ms postprocess per image at shape (1, 3, 512, 416)\n"
     ]
    },
    {
     "name": "stderr",
     "output_type": "stream",
     "text": [
      " 22%|██▏       | 44/202 [01:07<03:59,  1.52s/it]"
     ]
    },
    {
     "name": "stdout",
     "output_type": "stream",
     "text": [
      "\n",
      "image 1/1 C:\\Users\\admin\\.cache\\kagglehub\\datasets\\pavansanagapati\\images-dataset\\versions\\1\\data\\human\\rider-139.jpg: 512x384 20 objects, 1331.1ms\n",
      "Speed: 1.6ms preprocess, 1331.1ms inference, 17.0ms postprocess per image at shape (1, 3, 512, 384)\n"
     ]
    },
    {
     "name": "stderr",
     "output_type": "stream",
     "text": [
      " 22%|██▏       | 45/202 [01:09<03:51,  1.48s/it]"
     ]
    },
    {
     "name": "stdout",
     "output_type": "stream",
     "text": [
      "\n",
      "image 1/1 C:\\Users\\admin\\.cache\\kagglehub\\datasets\\pavansanagapati\\images-dataset\\versions\\1\\data\\human\\rider-14.jpg: 512x512 14 objects, 1845.5ms\n",
      "Speed: 2.3ms preprocess, 1845.5ms inference, 9.4ms postprocess per image at shape (1, 3, 512, 512)\n"
     ]
    },
    {
     "name": "stderr",
     "output_type": "stream",
     "text": [
      " 23%|██▎       | 46/202 [01:10<04:09,  1.60s/it]"
     ]
    },
    {
     "name": "stdout",
     "output_type": "stream",
     "text": [
      "\n",
      "image 1/1 C:\\Users\\admin\\.cache\\kagglehub\\datasets\\pavansanagapati\\images-dataset\\versions\\1\\data\\human\\rider-140.jpg: 512x288 14 objects, 1040.6ms\n",
      "Speed: 1.4ms preprocess, 1040.6ms inference, 11.7ms postprocess per image at shape (1, 3, 512, 288)\n"
     ]
    },
    {
     "name": "stderr",
     "output_type": "stream",
     "text": [
      " 23%|██▎       | 47/202 [01:12<03:44,  1.45s/it]"
     ]
    },
    {
     "name": "stdout",
     "output_type": "stream",
     "text": [
      "\n",
      "image 1/1 C:\\Users\\admin\\.cache\\kagglehub\\datasets\\pavansanagapati\\images-dataset\\versions\\1\\data\\human\\rider-141.jpg: 512x512 21 objects, 1888.2ms\n",
      "Speed: 2.4ms preprocess, 1888.2ms inference, 15.1ms postprocess per image at shape (1, 3, 512, 512)\n"
     ]
    },
    {
     "name": "stderr",
     "output_type": "stream",
     "text": [
      " 24%|██▍       | 48/202 [01:13<04:06,  1.60s/it]"
     ]
    },
    {
     "name": "stdout",
     "output_type": "stream",
     "text": [
      "\n",
      "image 1/1 C:\\Users\\admin\\.cache\\kagglehub\\datasets\\pavansanagapati\\images-dataset\\versions\\1\\data\\human\\rider-142.jpg: 512x320 21 objects, 1173.5ms\n",
      "Speed: 1.6ms preprocess, 1173.5ms inference, 20.2ms postprocess per image at shape (1, 3, 512, 320)\n"
     ]
    },
    {
     "name": "stderr",
     "output_type": "stream",
     "text": [
      " 24%|██▍       | 49/202 [01:15<03:47,  1.49s/it]"
     ]
    },
    {
     "name": "stdout",
     "output_type": "stream",
     "text": [
      "\n",
      "image 1/1 C:\\Users\\admin\\.cache\\kagglehub\\datasets\\pavansanagapati\\images-dataset\\versions\\1\\data\\human\\rider-143.jpg: 512x352 17 objects, 1359.8ms\n",
      "Speed: 2.4ms preprocess, 1359.8ms inference, 12.2ms postprocess per image at shape (1, 3, 512, 352)\n"
     ]
    },
    {
     "name": "stderr",
     "output_type": "stream",
     "text": [
      " 25%|██▍       | 50/202 [01:16<03:43,  1.47s/it]"
     ]
    },
    {
     "name": "stdout",
     "output_type": "stream",
     "text": [
      "\n",
      "image 1/1 C:\\Users\\admin\\.cache\\kagglehub\\datasets\\pavansanagapati\\images-dataset\\versions\\1\\data\\human\\rider-144.jpg: 512x512 22 objects, 1768.4ms\n",
      "Speed: 2.3ms preprocess, 1768.4ms inference, 16.2ms postprocess per image at shape (1, 3, 512, 512)\n"
     ]
    },
    {
     "name": "stderr",
     "output_type": "stream",
     "text": [
      " 25%|██▌       | 51/202 [01:18<03:57,  1.57s/it]"
     ]
    },
    {
     "name": "stdout",
     "output_type": "stream",
     "text": [
      "\n",
      "image 1/1 C:\\Users\\admin\\.cache\\kagglehub\\datasets\\pavansanagapati\\images-dataset\\versions\\1\\data\\human\\rider-145.jpg: 512x512 21 objects, 1876.5ms\n",
      "Speed: 5.0ms preprocess, 1876.5ms inference, 14.4ms postprocess per image at shape (1, 3, 512, 512)\n"
     ]
    },
    {
     "name": "stderr",
     "output_type": "stream",
     "text": [
      " 26%|██▌       | 52/202 [01:20<04:12,  1.68s/it]"
     ]
    },
    {
     "name": "stdout",
     "output_type": "stream",
     "text": [
      "\n",
      "image 1/1 C:\\Users\\admin\\.cache\\kagglehub\\datasets\\pavansanagapati\\images-dataset\\versions\\1\\data\\human\\rider-146.jpg: 512x416 19 objects, 1450.1ms\n",
      "Speed: 2.0ms preprocess, 1450.1ms inference, 14.3ms postprocess per image at shape (1, 3, 512, 416)\n"
     ]
    },
    {
     "name": "stderr",
     "output_type": "stream",
     "text": [
      " 26%|██▌       | 53/202 [01:21<04:02,  1.63s/it]"
     ]
    },
    {
     "name": "stdout",
     "output_type": "stream",
     "text": [
      "\n",
      "image 1/1 C:\\Users\\admin\\.cache\\kagglehub\\datasets\\pavansanagapati\\images-dataset\\versions\\1\\data\\human\\rider-147.jpg: 352x512 25 objects, 1375.7ms\n",
      "Speed: 2.9ms preprocess, 1375.7ms inference, 17.3ms postprocess per image at shape (1, 3, 352, 512)\n"
     ]
    },
    {
     "name": "stderr",
     "output_type": "stream",
     "text": [
      " 27%|██▋       | 54/202 [01:23<03:52,  1.57s/it]"
     ]
    },
    {
     "name": "stdout",
     "output_type": "stream",
     "text": [
      "\n",
      "image 1/1 C:\\Users\\admin\\.cache\\kagglehub\\datasets\\pavansanagapati\\images-dataset\\versions\\1\\data\\human\\rider-148.jpg: 512x384 16 objects, 1333.3ms\n",
      "Speed: 1.7ms preprocess, 1333.3ms inference, 13.5ms postprocess per image at shape (1, 3, 512, 384)\n"
     ]
    },
    {
     "name": "stderr",
     "output_type": "stream",
     "text": [
      " 27%|██▋       | 55/202 [01:24<03:42,  1.52s/it]"
     ]
    },
    {
     "name": "stdout",
     "output_type": "stream",
     "text": [
      "\n",
      "image 1/1 C:\\Users\\admin\\.cache\\kagglehub\\datasets\\pavansanagapati\\images-dataset\\versions\\1\\data\\human\\rider-149.jpg: 512x352 19 objects, 1239.6ms\n",
      "Speed: 1.9ms preprocess, 1239.6ms inference, 14.1ms postprocess per image at shape (1, 3, 512, 352)\n"
     ]
    },
    {
     "name": "stderr",
     "output_type": "stream",
     "text": [
      " 28%|██▊       | 56/202 [01:26<03:32,  1.46s/it]"
     ]
    },
    {
     "name": "stdout",
     "output_type": "stream",
     "text": [
      "\n",
      "image 1/1 C:\\Users\\admin\\.cache\\kagglehub\\datasets\\pavansanagapati\\images-dataset\\versions\\1\\data\\human\\rider-15.jpg: 512x352 14 objects, 1259.8ms\n",
      "Speed: 23.5ms preprocess, 1259.8ms inference, 10.8ms postprocess per image at shape (1, 3, 512, 352)\n"
     ]
    },
    {
     "name": "stderr",
     "output_type": "stream",
     "text": [
      " 28%|██▊       | 57/202 [01:27<03:26,  1.42s/it]"
     ]
    },
    {
     "name": "stdout",
     "output_type": "stream",
     "text": [
      "\n",
      "image 1/1 C:\\Users\\admin\\.cache\\kagglehub\\datasets\\pavansanagapati\\images-dataset\\versions\\1\\data\\human\\rider-150.jpg: 512x288 13 objects, 1035.0ms\n",
      "Speed: 2.0ms preprocess, 1035.0ms inference, 11.4ms postprocess per image at shape (1, 3, 512, 288)\n"
     ]
    },
    {
     "name": "stderr",
     "output_type": "stream",
     "text": [
      " 29%|██▊       | 58/202 [01:28<03:10,  1.32s/it]"
     ]
    },
    {
     "name": "stdout",
     "output_type": "stream",
     "text": [
      "\n",
      "image 1/1 C:\\Users\\admin\\.cache\\kagglehub\\datasets\\pavansanagapati\\images-dataset\\versions\\1\\data\\human\\rider-151.jpg: 512x288 22 objects, 1042.3ms\n",
      "Speed: 1.9ms preprocess, 1042.3ms inference, 16.5ms postprocess per image at shape (1, 3, 512, 288)\n"
     ]
    },
    {
     "name": "stderr",
     "output_type": "stream",
     "text": [
      " 29%|██▉       | 59/202 [01:29<02:59,  1.25s/it]"
     ]
    },
    {
     "name": "stdout",
     "output_type": "stream",
     "text": [
      "\n",
      "image 1/1 C:\\Users\\admin\\.cache\\kagglehub\\datasets\\pavansanagapati\\images-dataset\\versions\\1\\data\\human\\rider-152.jpg: 512x384 39 objects, 1470.8ms\n",
      "Speed: 2.4ms preprocess, 1470.8ms inference, 25.6ms postprocess per image at shape (1, 3, 512, 384)\n"
     ]
    },
    {
     "name": "stderr",
     "output_type": "stream",
     "text": [
      " 30%|██▉       | 60/202 [01:31<03:10,  1.34s/it]"
     ]
    },
    {
     "name": "stdout",
     "output_type": "stream",
     "text": [
      "\n",
      "image 1/1 C:\\Users\\admin\\.cache\\kagglehub\\datasets\\pavansanagapati\\images-dataset\\versions\\1\\data\\human\\rider-153.jpg: 512x512 17 objects, 1872.3ms\n",
      "Speed: 2.1ms preprocess, 1872.3ms inference, 13.0ms postprocess per image at shape (1, 3, 512, 512)\n"
     ]
    },
    {
     "name": "stderr",
     "output_type": "stream",
     "text": [
      " 30%|███       | 61/202 [01:33<03:33,  1.52s/it]"
     ]
    },
    {
     "name": "stdout",
     "output_type": "stream",
     "text": [
      "\n",
      "image 1/1 C:\\Users\\admin\\.cache\\kagglehub\\datasets\\pavansanagapati\\images-dataset\\versions\\1\\data\\human\\rider-154.jpg: 512x512 11 objects, 1871.3ms\n",
      "Speed: 2.2ms preprocess, 1871.3ms inference, 8.2ms postprocess per image at shape (1, 3, 512, 512)\n"
     ]
    },
    {
     "name": "stderr",
     "output_type": "stream",
     "text": [
      " 31%|███       | 62/202 [01:34<03:49,  1.64s/it]"
     ]
    },
    {
     "name": "stdout",
     "output_type": "stream",
     "text": [
      "\n",
      "image 1/1 C:\\Users\\admin\\.cache\\kagglehub\\datasets\\pavansanagapati\\images-dataset\\versions\\1\\data\\human\\rider-155.jpg: 512x384 24 objects, 1349.3ms\n",
      "Speed: 2.1ms preprocess, 1349.3ms inference, 19.1ms postprocess per image at shape (1, 3, 512, 384)\n"
     ]
    },
    {
     "name": "stderr",
     "output_type": "stream",
     "text": [
      " 31%|███       | 63/202 [01:36<03:38,  1.57s/it]"
     ]
    },
    {
     "name": "stdout",
     "output_type": "stream",
     "text": [
      "\n",
      "image 1/1 C:\\Users\\admin\\.cache\\kagglehub\\datasets\\pavansanagapati\\images-dataset\\versions\\1\\data\\human\\rider-156.jpg: 512x512 27 objects, 1881.5ms\n",
      "Speed: 2.0ms preprocess, 1881.5ms inference, 20.2ms postprocess per image at shape (1, 3, 512, 512)\n"
     ]
    },
    {
     "name": "stderr",
     "output_type": "stream",
     "text": [
      " 32%|███▏      | 64/202 [01:38<03:52,  1.68s/it]"
     ]
    },
    {
     "name": "stdout",
     "output_type": "stream",
     "text": [
      "\n",
      "image 1/1 C:\\Users\\admin\\.cache\\kagglehub\\datasets\\pavansanagapati\\images-dataset\\versions\\1\\data\\human\\rider-157.jpg: 512x384 16 objects, 1359.9ms\n",
      "Speed: 2.4ms preprocess, 1359.9ms inference, 11.0ms postprocess per image at shape (1, 3, 512, 384)\n"
     ]
    },
    {
     "name": "stderr",
     "output_type": "stream",
     "text": [
      " 32%|███▏      | 65/202 [01:39<03:38,  1.60s/it]"
     ]
    },
    {
     "name": "stdout",
     "output_type": "stream",
     "text": [
      "\n",
      "image 1/1 C:\\Users\\admin\\.cache\\kagglehub\\datasets\\pavansanagapati\\images-dataset\\versions\\1\\data\\human\\rider-158.jpg: 512x512 28 objects, 1881.9ms\n",
      "Speed: 2.9ms preprocess, 1881.9ms inference, 20.5ms postprocess per image at shape (1, 3, 512, 512)\n"
     ]
    },
    {
     "name": "stderr",
     "output_type": "stream",
     "text": [
      " 33%|███▎      | 66/202 [01:41<03:51,  1.70s/it]"
     ]
    },
    {
     "name": "stdout",
     "output_type": "stream",
     "text": [
      "\n",
      "image 1/1 C:\\Users\\admin\\.cache\\kagglehub\\datasets\\pavansanagapati\\images-dataset\\versions\\1\\data\\human\\rider-159.jpg: 288x512 17 objects, 1017.9ms\n",
      "Speed: 2.5ms preprocess, 1017.9ms inference, 12.5ms postprocess per image at shape (1, 3, 288, 512)\n"
     ]
    },
    {
     "name": "stderr",
     "output_type": "stream",
     "text": [
      " 33%|███▎      | 67/202 [01:42<03:24,  1.51s/it]"
     ]
    },
    {
     "name": "stdout",
     "output_type": "stream",
     "text": [
      "\n",
      "image 1/1 C:\\Users\\admin\\.cache\\kagglehub\\datasets\\pavansanagapati\\images-dataset\\versions\\1\\data\\human\\rider-16.jpg: 512x512 16 objects, 1854.9ms\n",
      "Speed: 7.6ms preprocess, 1854.9ms inference, 12.0ms postprocess per image at shape (1, 3, 512, 512)\n"
     ]
    },
    {
     "name": "stderr",
     "output_type": "stream",
     "text": [
      " 34%|███▎      | 68/202 [01:44<03:39,  1.64s/it]"
     ]
    },
    {
     "name": "stdout",
     "output_type": "stream",
     "text": [
      "\n",
      "image 1/1 C:\\Users\\admin\\.cache\\kagglehub\\datasets\\pavansanagapati\\images-dataset\\versions\\1\\data\\human\\rider-160.jpg: 512x256 18 objects, 983.6ms\n",
      "Speed: 1.2ms preprocess, 983.6ms inference, 13.7ms postprocess per image at shape (1, 3, 512, 256)\n"
     ]
    },
    {
     "name": "stderr",
     "output_type": "stream",
     "text": [
      " 34%|███▍      | 69/202 [01:45<03:13,  1.46s/it]"
     ]
    },
    {
     "name": "stdout",
     "output_type": "stream",
     "text": [
      "\n",
      "image 1/1 C:\\Users\\admin\\.cache\\kagglehub\\datasets\\pavansanagapati\\images-dataset\\versions\\1\\data\\human\\rider-161.jpg: 512x352 21 objects, 1241.1ms\n",
      "Speed: 1.8ms preprocess, 1241.1ms inference, 15.1ms postprocess per image at shape (1, 3, 512, 352)\n"
     ]
    },
    {
     "name": "stderr",
     "output_type": "stream",
     "text": [
      " 35%|███▍      | 70/202 [01:46<03:05,  1.41s/it]"
     ]
    },
    {
     "name": "stdout",
     "output_type": "stream",
     "text": [
      "\n",
      "image 1/1 C:\\Users\\admin\\.cache\\kagglehub\\datasets\\pavansanagapati\\images-dataset\\versions\\1\\data\\human\\rider-162.jpg: 512x512 24 objects, 1853.1ms\n",
      "Speed: 3.2ms preprocess, 1853.1ms inference, 15.7ms postprocess per image at shape (1, 3, 512, 512)\n"
     ]
    },
    {
     "name": "stderr",
     "output_type": "stream",
     "text": [
      " 35%|███▌      | 71/202 [01:48<03:24,  1.56s/it]"
     ]
    },
    {
     "name": "stdout",
     "output_type": "stream",
     "text": [
      "\n",
      "image 1/1 C:\\Users\\admin\\.cache\\kagglehub\\datasets\\pavansanagapati\\images-dataset\\versions\\1\\data\\human\\rider-163.jpg: 512x352 17 objects, 1220.9ms\n",
      "Speed: 1.6ms preprocess, 1220.9ms inference, 11.3ms postprocess per image at shape (1, 3, 512, 352)\n"
     ]
    },
    {
     "name": "stderr",
     "output_type": "stream",
     "text": [
      " 36%|███▌      | 72/202 [01:50<03:11,  1.47s/it]"
     ]
    },
    {
     "name": "stdout",
     "output_type": "stream",
     "text": [
      "\n",
      "image 1/1 C:\\Users\\admin\\.cache\\kagglehub\\datasets\\pavansanagapati\\images-dataset\\versions\\1\\data\\human\\rider-164.jpg: 512x384 15 objects, 1447.8ms\n",
      "Speed: 1.8ms preprocess, 1447.8ms inference, 10.9ms postprocess per image at shape (1, 3, 512, 384)\n"
     ]
    },
    {
     "name": "stderr",
     "output_type": "stream",
     "text": [
      " 36%|███▌      | 73/202 [01:51<03:10,  1.48s/it]"
     ]
    },
    {
     "name": "stdout",
     "output_type": "stream",
     "text": [
      "\n",
      "image 1/1 C:\\Users\\admin\\.cache\\kagglehub\\datasets\\pavansanagapati\\images-dataset\\versions\\1\\data\\human\\rider-165.jpg: 512x512 17 objects, 1789.2ms\n",
      "Speed: 2.8ms preprocess, 1789.2ms inference, 11.3ms postprocess per image at shape (1, 3, 512, 512)\n"
     ]
    },
    {
     "name": "stderr",
     "output_type": "stream",
     "text": [
      " 37%|███▋      | 74/202 [01:53<03:23,  1.59s/it]"
     ]
    },
    {
     "name": "stdout",
     "output_type": "stream",
     "text": [
      "\n",
      "image 1/1 C:\\Users\\admin\\.cache\\kagglehub\\datasets\\pavansanagapati\\images-dataset\\versions\\1\\data\\human\\rider-166.jpg: 512x384 11 objects, 1422.2ms\n",
      "Speed: 1.7ms preprocess, 1422.2ms inference, 10.7ms postprocess per image at shape (1, 3, 512, 384)\n"
     ]
    },
    {
     "name": "stderr",
     "output_type": "stream",
     "text": [
      " 37%|███▋      | 75/202 [01:54<03:17,  1.55s/it]"
     ]
    },
    {
     "name": "stdout",
     "output_type": "stream",
     "text": [
      "\n",
      "image 1/1 C:\\Users\\admin\\.cache\\kagglehub\\datasets\\pavansanagapati\\images-dataset\\versions\\1\\data\\human\\rider-167.jpg: 224x512 6 objects, 860.4ms\n",
      "Speed: 1.4ms preprocess, 860.4ms inference, 6.5ms postprocess per image at shape (1, 3, 224, 512)\n"
     ]
    },
    {
     "name": "stderr",
     "output_type": "stream",
     "text": [
      " 38%|███▊      | 76/202 [01:55<02:50,  1.35s/it]"
     ]
    },
    {
     "name": "stdout",
     "output_type": "stream",
     "text": [
      "\n",
      "image 1/1 C:\\Users\\admin\\.cache\\kagglehub\\datasets\\pavansanagapati\\images-dataset\\versions\\1\\data\\human\\rider-168.jpg: 416x512 26 objects, 1602.7ms\n",
      "Speed: 2.6ms preprocess, 1602.7ms inference, 18.7ms postprocess per image at shape (1, 3, 416, 512)\n"
     ]
    },
    {
     "name": "stderr",
     "output_type": "stream",
     "text": [
      " 38%|███▊      | 77/202 [01:57<03:00,  1.45s/it]"
     ]
    },
    {
     "name": "stdout",
     "output_type": "stream",
     "text": [
      "\n",
      "image 1/1 C:\\Users\\admin\\.cache\\kagglehub\\datasets\\pavansanagapati\\images-dataset\\versions\\1\\data\\human\\rider-169.jpg: 480x512 16 objects, 1692.2ms\n",
      "Speed: 2.3ms preprocess, 1692.2ms inference, 12.6ms postprocess per image at shape (1, 3, 480, 512)\n"
     ]
    },
    {
     "name": "stderr",
     "output_type": "stream",
     "text": [
      " 39%|███▊      | 78/202 [01:59<03:10,  1.54s/it]"
     ]
    },
    {
     "name": "stdout",
     "output_type": "stream",
     "text": [
      "\n",
      "image 1/1 C:\\Users\\admin\\.cache\\kagglehub\\datasets\\pavansanagapati\\images-dataset\\versions\\1\\data\\human\\rider-17.jpg: 512x384 22 objects, 1435.5ms\n",
      "Speed: 2.0ms preprocess, 1435.5ms inference, 16.2ms postprocess per image at shape (1, 3, 512, 384)\n"
     ]
    },
    {
     "name": "stderr",
     "output_type": "stream",
     "text": [
      " 39%|███▉      | 79/202 [02:00<03:07,  1.52s/it]"
     ]
    },
    {
     "name": "stdout",
     "output_type": "stream",
     "text": [
      "\n",
      "image 1/1 C:\\Users\\admin\\.cache\\kagglehub\\datasets\\pavansanagapati\\images-dataset\\versions\\1\\data\\human\\rider-170.jpg: 512x352 24 objects, 1266.9ms\n",
      "Speed: 2.5ms preprocess, 1266.9ms inference, 17.6ms postprocess per image at shape (1, 3, 512, 352)\n"
     ]
    },
    {
     "name": "stderr",
     "output_type": "stream",
     "text": [
      " 40%|███▉      | 80/202 [02:02<02:58,  1.46s/it]"
     ]
    },
    {
     "name": "stdout",
     "output_type": "stream",
     "text": [
      "\n",
      "image 1/1 C:\\Users\\admin\\.cache\\kagglehub\\datasets\\pavansanagapati\\images-dataset\\versions\\1\\data\\human\\rider-171.jpg: 512x352 10 objects, 1355.8ms\n",
      "Speed: 1.5ms preprocess, 1355.8ms inference, 9.0ms postprocess per image at shape (1, 3, 512, 352)\n"
     ]
    },
    {
     "name": "stderr",
     "output_type": "stream",
     "text": [
      " 40%|████      | 81/202 [02:03<02:54,  1.45s/it]"
     ]
    },
    {
     "name": "stdout",
     "output_type": "stream",
     "text": [
      "\n",
      "image 1/1 C:\\Users\\admin\\.cache\\kagglehub\\datasets\\pavansanagapati\\images-dataset\\versions\\1\\data\\human\\rider-172.jpg: 512x512 5 objects, 1790.7ms\n",
      "Speed: 2.1ms preprocess, 1790.7ms inference, 4.2ms postprocess per image at shape (1, 3, 512, 512)\n"
     ]
    },
    {
     "name": "stderr",
     "output_type": "stream",
     "text": [
      " 41%|████      | 82/202 [02:05<03:07,  1.56s/it]"
     ]
    },
    {
     "name": "stdout",
     "output_type": "stream",
     "text": [
      "\n",
      "image 1/1 C:\\Users\\admin\\.cache\\kagglehub\\datasets\\pavansanagapati\\images-dataset\\versions\\1\\data\\human\\rider-173.jpg: 512x352 16 objects, 1383.2ms\n",
      "Speed: 2.1ms preprocess, 1383.2ms inference, 13.2ms postprocess per image at shape (1, 3, 512, 352)\n"
     ]
    },
    {
     "name": "stderr",
     "output_type": "stream",
     "text": [
      " 41%|████      | 83/202 [02:06<03:01,  1.52s/it]"
     ]
    },
    {
     "name": "stdout",
     "output_type": "stream",
     "text": [
      "\n",
      "image 1/1 C:\\Users\\admin\\.cache\\kagglehub\\datasets\\pavansanagapati\\images-dataset\\versions\\1\\data\\human\\rider-174.jpg: 512x352 26 objects, 1267.1ms\n",
      "Speed: 1.7ms preprocess, 1267.1ms inference, 18.7ms postprocess per image at shape (1, 3, 512, 352)\n"
     ]
    },
    {
     "name": "stderr",
     "output_type": "stream",
     "text": [
      " 42%|████▏     | 84/202 [02:08<02:53,  1.47s/it]"
     ]
    },
    {
     "name": "stdout",
     "output_type": "stream",
     "text": [
      "\n",
      "image 1/1 C:\\Users\\admin\\.cache\\kagglehub\\datasets\\pavansanagapati\\images-dataset\\versions\\1\\data\\human\\rider-175.jpg: 512x416 16 objects, 1553.5ms\n",
      "Speed: 1.5ms preprocess, 1553.5ms inference, 12.1ms postprocess per image at shape (1, 3, 512, 416)\n"
     ]
    },
    {
     "name": "stderr",
     "output_type": "stream",
     "text": [
      " 42%|████▏     | 85/202 [02:09<02:56,  1.51s/it]"
     ]
    },
    {
     "name": "stdout",
     "output_type": "stream",
     "text": [
      "\n",
      "image 1/1 C:\\Users\\admin\\.cache\\kagglehub\\datasets\\pavansanagapati\\images-dataset\\versions\\1\\data\\human\\rider-176.jpg: 512x288 15 objects, 1020.2ms\n",
      "Speed: 1.5ms preprocess, 1020.2ms inference, 10.5ms postprocess per image at shape (1, 3, 512, 288)\n"
     ]
    },
    {
     "name": "stderr",
     "output_type": "stream",
     "text": [
      " 43%|████▎     | 86/202 [02:10<02:39,  1.38s/it]"
     ]
    },
    {
     "name": "stdout",
     "output_type": "stream",
     "text": [
      "\n",
      "image 1/1 C:\\Users\\admin\\.cache\\kagglehub\\datasets\\pavansanagapati\\images-dataset\\versions\\1\\data\\human\\rider-177.jpg: 512x512 12 objects, 1799.7ms\n",
      "Speed: 2.0ms preprocess, 1799.7ms inference, 9.5ms postprocess per image at shape (1, 3, 512, 512)\n"
     ]
    },
    {
     "name": "stderr",
     "output_type": "stream",
     "text": [
      " 43%|████▎     | 87/202 [02:12<02:54,  1.52s/it]"
     ]
    },
    {
     "name": "stdout",
     "output_type": "stream",
     "text": [
      "\n",
      "image 1/1 C:\\Users\\admin\\.cache\\kagglehub\\datasets\\pavansanagapati\\images-dataset\\versions\\1\\data\\human\\rider-178.jpg: 512x256 17 objects, 918.6ms\n",
      "Speed: 1.7ms preprocess, 918.6ms inference, 9.9ms postprocess per image at shape (1, 3, 512, 256)\n"
     ]
    },
    {
     "name": "stderr",
     "output_type": "stream",
     "text": [
      " 44%|████▎     | 88/202 [02:13<02:40,  1.41s/it]"
     ]
    },
    {
     "name": "stdout",
     "output_type": "stream",
     "text": [
      "\n",
      "image 1/1 C:\\Users\\admin\\.cache\\kagglehub\\datasets\\pavansanagapati\\images-dataset\\versions\\1\\data\\human\\rider-179.jpg: 512x512 23 objects, 1870.0ms\n",
      "Speed: 4.2ms preprocess, 1870.0ms inference, 15.9ms postprocess per image at shape (1, 3, 512, 512)\n"
     ]
    },
    {
     "name": "stderr",
     "output_type": "stream",
     "text": [
      " 44%|████▍     | 89/202 [02:15<02:57,  1.57s/it]"
     ]
    },
    {
     "name": "stdout",
     "output_type": "stream",
     "text": [
      "\n",
      "image 1/1 C:\\Users\\admin\\.cache\\kagglehub\\datasets\\pavansanagapati\\images-dataset\\versions\\1\\data\\human\\rider-18.jpg: 512x448 17 objects, 1611.5ms\n",
      "Speed: 2.0ms preprocess, 1611.5ms inference, 12.0ms postprocess per image at shape (1, 3, 512, 448)\n"
     ]
    },
    {
     "name": "stderr",
     "output_type": "stream",
     "text": [
      " 45%|████▍     | 90/202 [02:17<02:58,  1.60s/it]"
     ]
    },
    {
     "name": "stdout",
     "output_type": "stream",
     "text": [
      "\n",
      "image 1/1 C:\\Users\\admin\\.cache\\kagglehub\\datasets\\pavansanagapati\\images-dataset\\versions\\1\\data\\human\\rider-180.jpg: 512x512 28 objects, 1839.7ms\n",
      "Speed: 2.5ms preprocess, 1839.7ms inference, 17.1ms postprocess per image at shape (1, 3, 512, 512)\n"
     ]
    },
    {
     "name": "stderr",
     "output_type": "stream",
     "text": [
      " 45%|████▌     | 91/202 [02:19<03:07,  1.69s/it]"
     ]
    },
    {
     "name": "stdout",
     "output_type": "stream",
     "text": [
      "\n",
      "image 1/1 C:\\Users\\admin\\.cache\\kagglehub\\datasets\\pavansanagapati\\images-dataset\\versions\\1\\data\\human\\rider-181.jpg: 512x352 28 objects, 1206.0ms\n",
      "Speed: 1.9ms preprocess, 1206.0ms inference, 17.4ms postprocess per image at shape (1, 3, 512, 352)\n"
     ]
    },
    {
     "name": "stderr",
     "output_type": "stream",
     "text": [
      " 46%|████▌     | 92/202 [02:20<02:51,  1.56s/it]"
     ]
    },
    {
     "name": "stdout",
     "output_type": "stream",
     "text": [
      "\n",
      "image 1/1 C:\\Users\\admin\\.cache\\kagglehub\\datasets\\pavansanagapati\\images-dataset\\versions\\1\\data\\human\\rider-182.jpg: 512x512 21 objects, 1904.0ms\n",
      "Speed: 1.7ms preprocess, 1904.0ms inference, 13.8ms postprocess per image at shape (1, 3, 512, 512)\n"
     ]
    },
    {
     "name": "stderr",
     "output_type": "stream",
     "text": [
      " 46%|████▌     | 93/202 [02:22<03:03,  1.68s/it]"
     ]
    },
    {
     "name": "stdout",
     "output_type": "stream",
     "text": [
      "\n",
      "image 1/1 C:\\Users\\admin\\.cache\\kagglehub\\datasets\\pavansanagapati\\images-dataset\\versions\\1\\data\\human\\rider-183.jpg: 512x352 15 objects, 1342.2ms\n",
      "Speed: 1.8ms preprocess, 1342.2ms inference, 12.4ms postprocess per image at shape (1, 3, 512, 352)\n"
     ]
    },
    {
     "name": "stderr",
     "output_type": "stream",
     "text": [
      " 47%|████▋     | 94/202 [02:23<02:52,  1.60s/it]"
     ]
    },
    {
     "name": "stdout",
     "output_type": "stream",
     "text": [
      "\n",
      "image 1/1 C:\\Users\\admin\\.cache\\kagglehub\\datasets\\pavansanagapati\\images-dataset\\versions\\1\\data\\human\\rider-184.jpg: 512x352 18 objects, 1255.2ms\n",
      "Speed: 1.7ms preprocess, 1255.2ms inference, 13.3ms postprocess per image at shape (1, 3, 512, 352)\n"
     ]
    },
    {
     "name": "stderr",
     "output_type": "stream",
     "text": [
      " 47%|████▋     | 95/202 [02:25<02:41,  1.51s/it]"
     ]
    },
    {
     "name": "stdout",
     "output_type": "stream",
     "text": [
      "\n",
      "image 1/1 C:\\Users\\admin\\.cache\\kagglehub\\datasets\\pavansanagapati\\images-dataset\\versions\\1\\data\\human\\rider-185.jpg: 512x352 19 objects, 1263.0ms\n",
      "Speed: 2.6ms preprocess, 1263.0ms inference, 11.7ms postprocess per image at shape (1, 3, 512, 352)\n"
     ]
    },
    {
     "name": "stderr",
     "output_type": "stream",
     "text": [
      " 48%|████▊     | 96/202 [02:26<02:34,  1.46s/it]"
     ]
    },
    {
     "name": "stdout",
     "output_type": "stream",
     "text": [
      "\n",
      "image 1/1 C:\\Users\\admin\\.cache\\kagglehub\\datasets\\pavansanagapati\\images-dataset\\versions\\1\\data\\human\\rider-186.jpg: 512x512 28 objects, 1852.6ms\n",
      "Speed: 35.0ms preprocess, 1852.6ms inference, 18.5ms postprocess per image at shape (1, 3, 512, 512)\n"
     ]
    },
    {
     "name": "stderr",
     "output_type": "stream",
     "text": [
      " 48%|████▊     | 97/202 [02:28<02:48,  1.61s/it]"
     ]
    },
    {
     "name": "stdout",
     "output_type": "stream",
     "text": [
      "\n",
      "image 1/1 C:\\Users\\admin\\.cache\\kagglehub\\datasets\\pavansanagapati\\images-dataset\\versions\\1\\data\\human\\rider-187.jpg: 512x384 19 objects, 1469.5ms\n",
      "Speed: 1.7ms preprocess, 1469.5ms inference, 13.3ms postprocess per image at shape (1, 3, 512, 384)\n"
     ]
    },
    {
     "name": "stderr",
     "output_type": "stream",
     "text": [
      " 49%|████▊     | 98/202 [02:30<02:44,  1.58s/it]"
     ]
    },
    {
     "name": "stdout",
     "output_type": "stream",
     "text": [
      "\n",
      "image 1/1 C:\\Users\\admin\\.cache\\kagglehub\\datasets\\pavansanagapati\\images-dataset\\versions\\1\\data\\human\\rider-188.jpg: 512x512 18 objects, 1784.1ms\n",
      "Speed: 2.1ms preprocess, 1784.1ms inference, 19.1ms postprocess per image at shape (1, 3, 512, 512)\n"
     ]
    },
    {
     "name": "stderr",
     "output_type": "stream",
     "text": [
      " 49%|████▉     | 99/202 [02:31<02:50,  1.66s/it]"
     ]
    },
    {
     "name": "stdout",
     "output_type": "stream",
     "text": [
      "\n",
      "image 1/1 C:\\Users\\admin\\.cache\\kagglehub\\datasets\\pavansanagapati\\images-dataset\\versions\\1\\data\\human\\rider-189.jpg: 512x416 12 objects, 1555.3ms\n",
      "Speed: 1.5ms preprocess, 1555.3ms inference, 12.7ms postprocess per image at shape (1, 3, 512, 416)\n"
     ]
    },
    {
     "name": "stderr",
     "output_type": "stream",
     "text": [
      " 50%|████▉     | 100/202 [02:33<02:47,  1.64s/it]"
     ]
    },
    {
     "name": "stdout",
     "output_type": "stream",
     "text": [
      "\n",
      "image 1/1 C:\\Users\\admin\\.cache\\kagglehub\\datasets\\pavansanagapati\\images-dataset\\versions\\1\\data\\human\\rider-19.jpg: 512x384 31 objects, 1370.2ms\n",
      "Speed: 2.6ms preprocess, 1370.2ms inference, 22.4ms postprocess per image at shape (1, 3, 512, 384)\n"
     ]
    },
    {
     "name": "stderr",
     "output_type": "stream",
     "text": [
      " 50%|█████     | 101/202 [02:34<02:39,  1.58s/it]"
     ]
    },
    {
     "name": "stdout",
     "output_type": "stream",
     "text": [
      "\n",
      "image 1/1 C:\\Users\\admin\\.cache\\kagglehub\\datasets\\pavansanagapati\\images-dataset\\versions\\1\\data\\human\\rider-190.jpg: 512x352 10 objects, 1348.6ms\n",
      "Speed: 2.3ms preprocess, 1348.6ms inference, 8.6ms postprocess per image at shape (1, 3, 512, 352)\n"
     ]
    },
    {
     "name": "stderr",
     "output_type": "stream",
     "text": [
      " 50%|█████     | 102/202 [02:36<02:32,  1.53s/it]"
     ]
    },
    {
     "name": "stdout",
     "output_type": "stream",
     "text": [
      "\n",
      "image 1/1 C:\\Users\\admin\\.cache\\kagglehub\\datasets\\pavansanagapati\\images-dataset\\versions\\1\\data\\human\\rider-191.jpg: 512x352 12 objects, 1255.2ms\n",
      "Speed: 1.6ms preprocess, 1255.2ms inference, 7.0ms postprocess per image at shape (1, 3, 512, 352)\n"
     ]
    },
    {
     "name": "stderr",
     "output_type": "stream",
     "text": [
      " 51%|█████     | 103/202 [02:37<02:24,  1.46s/it]"
     ]
    },
    {
     "name": "stdout",
     "output_type": "stream",
     "text": [
      "\n",
      "image 1/1 C:\\Users\\admin\\.cache\\kagglehub\\datasets\\pavansanagapati\\images-dataset\\versions\\1\\data\\human\\rider-192.jpg: 512x512 22 objects, 1870.6ms\n",
      "Speed: 3.8ms preprocess, 1870.6ms inference, 16.6ms postprocess per image at shape (1, 3, 512, 512)\n"
     ]
    },
    {
     "name": "stderr",
     "output_type": "stream",
     "text": [
      " 51%|█████▏    | 104/202 [02:39<02:36,  1.60s/it]"
     ]
    },
    {
     "name": "stdout",
     "output_type": "stream",
     "text": [
      "\n",
      "image 1/1 C:\\Users\\admin\\.cache\\kagglehub\\datasets\\pavansanagapati\\images-dataset\\versions\\1\\data\\human\\rider-193.jpg: 480x512 14 objects, 1759.0ms\n",
      "Speed: 4.3ms preprocess, 1759.0ms inference, 12.1ms postprocess per image at shape (1, 3, 480, 512)\n"
     ]
    },
    {
     "name": "stderr",
     "output_type": "stream",
     "text": [
      " 52%|█████▏    | 105/202 [02:41<02:41,  1.66s/it]"
     ]
    },
    {
     "name": "stdout",
     "output_type": "stream",
     "text": [
      "\n",
      "image 1/1 C:\\Users\\admin\\.cache\\kagglehub\\datasets\\pavansanagapati\\images-dataset\\versions\\1\\data\\human\\rider-194.jpg: 512x256 15 objects, 919.8ms\n",
      "Speed: 1.3ms preprocess, 919.8ms inference, 8.9ms postprocess per image at shape (1, 3, 512, 256)\n"
     ]
    },
    {
     "name": "stderr",
     "output_type": "stream",
     "text": [
      " 52%|█████▏    | 106/202 [02:42<02:19,  1.45s/it]"
     ]
    },
    {
     "name": "stdout",
     "output_type": "stream",
     "text": [
      "\n",
      "image 1/1 C:\\Users\\admin\\.cache\\kagglehub\\datasets\\pavansanagapati\\images-dataset\\versions\\1\\data\\human\\rider-195.jpg: 512x384 17 objects, 1486.8ms\n",
      "Speed: 2.2ms preprocess, 1486.8ms inference, 11.9ms postprocess per image at shape (1, 3, 512, 384)\n"
     ]
    },
    {
     "name": "stderr",
     "output_type": "stream",
     "text": [
      " 53%|█████▎    | 107/202 [02:43<02:20,  1.48s/it]"
     ]
    },
    {
     "name": "stdout",
     "output_type": "stream",
     "text": [
      "\n",
      "image 1/1 C:\\Users\\admin\\.cache\\kagglehub\\datasets\\pavansanagapati\\images-dataset\\versions\\1\\data\\human\\rider-196.jpg: 512x352 17 objects, 1346.9ms\n",
      "Speed: 2.7ms preprocess, 1346.9ms inference, 12.9ms postprocess per image at shape (1, 3, 512, 352)\n"
     ]
    },
    {
     "name": "stderr",
     "output_type": "stream",
     "text": [
      " 53%|█████▎    | 108/202 [02:45<02:17,  1.46s/it]"
     ]
    },
    {
     "name": "stdout",
     "output_type": "stream",
     "text": [
      "\n",
      "image 1/1 C:\\Users\\admin\\.cache\\kagglehub\\datasets\\pavansanagapati\\images-dataset\\versions\\1\\data\\human\\rider-197.jpg: 512x384 18 objects, 1340.7ms\n",
      "Speed: 1.8ms preprocess, 1340.7ms inference, 11.9ms postprocess per image at shape (1, 3, 512, 384)\n"
     ]
    },
    {
     "name": "stderr",
     "output_type": "stream",
     "text": [
      " 54%|█████▍    | 109/202 [02:46<02:13,  1.44s/it]"
     ]
    },
    {
     "name": "stdout",
     "output_type": "stream",
     "text": [
      "\n",
      "image 1/1 C:\\Users\\admin\\.cache\\kagglehub\\datasets\\pavansanagapati\\images-dataset\\versions\\1\\data\\human\\rider-198.jpg: 512x352 25 objects, 1282.3ms\n",
      "Speed: 2.5ms preprocess, 1282.3ms inference, 16.0ms postprocess per image at shape (1, 3, 512, 352)\n"
     ]
    },
    {
     "name": "stderr",
     "output_type": "stream",
     "text": [
      " 54%|█████▍    | 110/202 [02:47<02:09,  1.41s/it]"
     ]
    },
    {
     "name": "stdout",
     "output_type": "stream",
     "text": [
      "\n",
      "image 1/1 C:\\Users\\admin\\.cache\\kagglehub\\datasets\\pavansanagapati\\images-dataset\\versions\\1\\data\\human\\rider-199.jpg: 512x384 11 objects, 1418.6ms\n",
      "Speed: 56.1ms preprocess, 1418.6ms inference, 9.1ms postprocess per image at shape (1, 3, 512, 384)\n"
     ]
    },
    {
     "name": "stderr",
     "output_type": "stream",
     "text": [
      " 55%|█████▍    | 111/202 [02:49<02:11,  1.44s/it]"
     ]
    },
    {
     "name": "stdout",
     "output_type": "stream",
     "text": [
      "\n",
      "image 1/1 C:\\Users\\admin\\.cache\\kagglehub\\datasets\\pavansanagapati\\images-dataset\\versions\\1\\data\\human\\rider-2.jpg: 512x352 80 objects, 1228.0ms\n",
      "Speed: 1.9ms preprocess, 1228.0ms inference, 614.7ms postprocess per image at shape (1, 3, 512, 352)\n"
     ]
    },
    {
     "name": "stderr",
     "output_type": "stream",
     "text": [
      " 55%|█████▌    | 112/202 [02:51<02:25,  1.62s/it]"
     ]
    },
    {
     "name": "stdout",
     "output_type": "stream",
     "text": [
      "\n",
      "image 1/1 C:\\Users\\admin\\.cache\\kagglehub\\datasets\\pavansanagapati\\images-dataset\\versions\\1\\data\\human\\rider-20.jpg: 512x288 19 objects, 1120.1ms\n",
      "Speed: 1.8ms preprocess, 1120.1ms inference, 13.5ms postprocess per image at shape (1, 3, 512, 288)\n"
     ]
    },
    {
     "name": "stderr",
     "output_type": "stream",
     "text": [
      " 56%|█████▌    | 113/202 [02:52<02:11,  1.48s/it]"
     ]
    },
    {
     "name": "stdout",
     "output_type": "stream",
     "text": [
      "\n",
      "image 1/1 C:\\Users\\admin\\.cache\\kagglehub\\datasets\\pavansanagapati\\images-dataset\\versions\\1\\data\\human\\rider-200.jpg: 512x512 25 objects, 1886.9ms\n",
      "Speed: 2.5ms preprocess, 1886.9ms inference, 25.1ms postprocess per image at shape (1, 3, 512, 512)\n"
     ]
    },
    {
     "name": "stderr",
     "output_type": "stream",
     "text": [
      " 56%|█████▋    | 114/202 [02:54<02:23,  1.63s/it]"
     ]
    },
    {
     "name": "stdout",
     "output_type": "stream",
     "text": [
      "\n",
      "image 1/1 C:\\Users\\admin\\.cache\\kagglehub\\datasets\\pavansanagapati\\images-dataset\\versions\\1\\data\\human\\rider-201.jpg: 512x352 19 objects, 1256.4ms\n",
      "Speed: 2.7ms preprocess, 1256.4ms inference, 413.1ms postprocess per image at shape (1, 3, 512, 352)\n"
     ]
    },
    {
     "name": "stderr",
     "output_type": "stream",
     "text": [
      " 57%|█████▋    | 115/202 [02:56<02:27,  1.69s/it]"
     ]
    },
    {
     "name": "stdout",
     "output_type": "stream",
     "text": [
      "\n",
      "image 1/1 C:\\Users\\admin\\.cache\\kagglehub\\datasets\\pavansanagapati\\images-dataset\\versions\\1\\data\\human\\rider-202.jpg: 512x352 19 objects, 1280.9ms\n",
      "Speed: 3.0ms preprocess, 1280.9ms inference, 337.5ms postprocess per image at shape (1, 3, 512, 352)\n"
     ]
    },
    {
     "name": "stderr",
     "output_type": "stream",
     "text": [
      " 57%|█████▋    | 116/202 [02:58<02:28,  1.72s/it]"
     ]
    },
    {
     "name": "stdout",
     "output_type": "stream",
     "text": [
      "\n",
      "image 1/1 C:\\Users\\admin\\.cache\\kagglehub\\datasets\\pavansanagapati\\images-dataset\\versions\\1\\data\\human\\rider-21.jpg: 512x512 15 objects, 1893.0ms\n",
      "Speed: 2.6ms preprocess, 1893.0ms inference, 12.0ms postprocess per image at shape (1, 3, 512, 512)\n"
     ]
    },
    {
     "name": "stderr",
     "output_type": "stream",
     "text": [
      " 58%|█████▊    | 117/202 [03:00<02:31,  1.79s/it]"
     ]
    },
    {
     "name": "stdout",
     "output_type": "stream",
     "text": [
      "\n",
      "image 1/1 C:\\Users\\admin\\.cache\\kagglehub\\datasets\\pavansanagapati\\images-dataset\\versions\\1\\data\\human\\rider-22.jpg: 512x384 27 objects, 1498.2ms\n",
      "Speed: 2.6ms preprocess, 1498.2ms inference, 21.3ms postprocess per image at shape (1, 3, 512, 384)\n"
     ]
    },
    {
     "name": "stderr",
     "output_type": "stream",
     "text": [
      " 58%|█████▊    | 118/202 [03:01<02:24,  1.72s/it]"
     ]
    },
    {
     "name": "stdout",
     "output_type": "stream",
     "text": [
      "\n",
      "image 1/1 C:\\Users\\admin\\.cache\\kagglehub\\datasets\\pavansanagapati\\images-dataset\\versions\\1\\data\\human\\rider-23.jpg: 512x224 13 objects, 864.5ms\n",
      "Speed: 1.0ms preprocess, 864.5ms inference, 7.3ms postprocess per image at shape (1, 3, 512, 224)\n"
     ]
    },
    {
     "name": "stderr",
     "output_type": "stream",
     "text": [
      " 59%|█████▉    | 119/202 [03:02<02:02,  1.47s/it]"
     ]
    },
    {
     "name": "stdout",
     "output_type": "stream",
     "text": [
      "\n",
      "image 1/1 C:\\Users\\admin\\.cache\\kagglehub\\datasets\\pavansanagapati\\images-dataset\\versions\\1\\data\\human\\rider-24.jpg: 512x384 16 objects, 1450.3ms\n",
      "Speed: 3.0ms preprocess, 1450.3ms inference, 11.5ms postprocess per image at shape (1, 3, 512, 384)\n"
     ]
    },
    {
     "name": "stderr",
     "output_type": "stream",
     "text": [
      " 59%|█████▉    | 120/202 [03:04<02:01,  1.48s/it]"
     ]
    },
    {
     "name": "stdout",
     "output_type": "stream",
     "text": [
      "\n",
      "image 1/1 C:\\Users\\admin\\.cache\\kagglehub\\datasets\\pavansanagapati\\images-dataset\\versions\\1\\data\\human\\rider-25.jpg: 512x384 41 objects, 1356.5ms\n",
      "Speed: 3.2ms preprocess, 1356.5ms inference, 29.5ms postprocess per image at shape (1, 3, 512, 384)\n"
     ]
    },
    {
     "name": "stderr",
     "output_type": "stream",
     "text": [
      " 60%|█████▉    | 121/202 [03:05<01:59,  1.47s/it]"
     ]
    },
    {
     "name": "stdout",
     "output_type": "stream",
     "text": [
      "\n",
      "image 1/1 C:\\Users\\admin\\.cache\\kagglehub\\datasets\\pavansanagapati\\images-dataset\\versions\\1\\data\\human\\rider-26.jpg: 512x384 20 objects, 1417.4ms\n",
      "Speed: 1.8ms preprocess, 1417.4ms inference, 16.9ms postprocess per image at shape (1, 3, 512, 384)\n"
     ]
    },
    {
     "name": "stderr",
     "output_type": "stream",
     "text": [
      " 60%|██████    | 122/202 [03:07<01:57,  1.47s/it]"
     ]
    },
    {
     "name": "stdout",
     "output_type": "stream",
     "text": [
      "\n",
      "image 1/1 C:\\Users\\admin\\.cache\\kagglehub\\datasets\\pavansanagapati\\images-dataset\\versions\\1\\data\\human\\rider-27.jpg: 512x384 28 objects, 1330.6ms\n",
      "Speed: 1.8ms preprocess, 1330.6ms inference, 19.7ms postprocess per image at shape (1, 3, 512, 384)\n"
     ]
    },
    {
     "name": "stderr",
     "output_type": "stream",
     "text": [
      " 61%|██████    | 123/202 [03:08<01:54,  1.45s/it]"
     ]
    },
    {
     "name": "stdout",
     "output_type": "stream",
     "text": [
      "\n",
      "image 1/1 C:\\Users\\admin\\.cache\\kagglehub\\datasets\\pavansanagapati\\images-dataset\\versions\\1\\data\\human\\rider-28.jpg: 512x352 20 objects, 1259.8ms\n",
      "Speed: 1.6ms preprocess, 1259.8ms inference, 13.6ms postprocess per image at shape (1, 3, 512, 352)\n"
     ]
    },
    {
     "name": "stderr",
     "output_type": "stream",
     "text": [
      " 61%|██████▏   | 124/202 [03:09<01:49,  1.41s/it]"
     ]
    },
    {
     "name": "stdout",
     "output_type": "stream",
     "text": [
      "\n",
      "image 1/1 C:\\Users\\admin\\.cache\\kagglehub\\datasets\\pavansanagapati\\images-dataset\\versions\\1\\data\\human\\rider-29.jpg: 512x384 19 objects, 1437.0ms\n",
      "Speed: 1.7ms preprocess, 1437.0ms inference, 14.8ms postprocess per image at shape (1, 3, 512, 384)\n"
     ]
    },
    {
     "name": "stderr",
     "output_type": "stream",
     "text": [
      " 62%|██████▏   | 125/202 [03:11<01:50,  1.44s/it]"
     ]
    },
    {
     "name": "stdout",
     "output_type": "stream",
     "text": [
      "\n",
      "image 1/1 C:\\Users\\admin\\.cache\\kagglehub\\datasets\\pavansanagapati\\images-dataset\\versions\\1\\data\\human\\rider-3.jpg: 512x352 20 objects, 1239.7ms\n",
      "Speed: 1.7ms preprocess, 1239.7ms inference, 106.2ms postprocess per image at shape (1, 3, 512, 352)\n"
     ]
    },
    {
     "name": "stderr",
     "output_type": "stream",
     "text": [
      " 62%|██████▏   | 126/202 [03:12<01:48,  1.43s/it]"
     ]
    },
    {
     "name": "stdout",
     "output_type": "stream",
     "text": [
      "\n",
      "image 1/1 C:\\Users\\admin\\.cache\\kagglehub\\datasets\\pavansanagapati\\images-dataset\\versions\\1\\data\\human\\rider-30.jpg: 512x352 13 objects, 1330.5ms\n",
      "Speed: 2.4ms preprocess, 1330.5ms inference, 9.7ms postprocess per image at shape (1, 3, 512, 352)\n"
     ]
    },
    {
     "name": "stderr",
     "output_type": "stream",
     "text": [
      " 63%|██████▎   | 127/202 [03:14<01:45,  1.41s/it]"
     ]
    },
    {
     "name": "stdout",
     "output_type": "stream",
     "text": [
      "\n",
      "image 1/1 C:\\Users\\admin\\.cache\\kagglehub\\datasets\\pavansanagapati\\images-dataset\\versions\\1\\data\\human\\rider-31.jpg: 512x512 21 objects, 1877.3ms\n",
      "Speed: 3.1ms preprocess, 1877.3ms inference, 15.5ms postprocess per image at shape (1, 3, 512, 512)\n"
     ]
    },
    {
     "name": "stderr",
     "output_type": "stream",
     "text": [
      " 63%|██████▎   | 128/202 [03:16<01:56,  1.57s/it]"
     ]
    },
    {
     "name": "stdout",
     "output_type": "stream",
     "text": [
      "\n",
      "image 1/1 C:\\Users\\admin\\.cache\\kagglehub\\datasets\\pavansanagapati\\images-dataset\\versions\\1\\data\\human\\rider-32.jpg: 512x512 17 objects, 1892.1ms\n",
      "Speed: 2.1ms preprocess, 1892.1ms inference, 13.0ms postprocess per image at shape (1, 3, 512, 512)\n"
     ]
    },
    {
     "name": "stderr",
     "output_type": "stream",
     "text": [
      " 64%|██████▍   | 129/202 [03:17<02:03,  1.69s/it]"
     ]
    },
    {
     "name": "stdout",
     "output_type": "stream",
     "text": [
      "\n",
      "image 1/1 C:\\Users\\admin\\.cache\\kagglehub\\datasets\\pavansanagapati\\images-dataset\\versions\\1\\data\\human\\rider-33.jpg: 512x352 30 objects, 1257.3ms\n",
      "Speed: 1.7ms preprocess, 1257.3ms inference, 105.7ms postprocess per image at shape (1, 3, 512, 352)\n"
     ]
    },
    {
     "name": "stderr",
     "output_type": "stream",
     "text": [
      " 64%|██████▍   | 130/202 [03:19<01:55,  1.60s/it]"
     ]
    },
    {
     "name": "stdout",
     "output_type": "stream",
     "text": [
      "\n",
      "image 1/1 C:\\Users\\admin\\.cache\\kagglehub\\datasets\\pavansanagapati\\images-dataset\\versions\\1\\data\\human\\rider-34.jpg: 512x384 12 objects, 1368.3ms\n",
      "Speed: 1.8ms preprocess, 1368.3ms inference, 7.7ms postprocess per image at shape (1, 3, 512, 384)\n"
     ]
    },
    {
     "name": "stderr",
     "output_type": "stream",
     "text": [
      " 65%|██████▍   | 131/202 [03:20<01:49,  1.54s/it]"
     ]
    },
    {
     "name": "stdout",
     "output_type": "stream",
     "text": [
      "\n",
      "image 1/1 C:\\Users\\admin\\.cache\\kagglehub\\datasets\\pavansanagapati\\images-dataset\\versions\\1\\data\\human\\rider-35.jpg: 512x512 11 objects, 1851.3ms\n",
      "Speed: 3.4ms preprocess, 1851.3ms inference, 8.9ms postprocess per image at shape (1, 3, 512, 512)\n"
     ]
    },
    {
     "name": "stderr",
     "output_type": "stream",
     "text": [
      " 65%|██████▌   | 132/202 [03:22<01:55,  1.65s/it]"
     ]
    },
    {
     "name": "stdout",
     "output_type": "stream",
     "text": [
      "\n",
      "image 1/1 C:\\Users\\admin\\.cache\\kagglehub\\datasets\\pavansanagapati\\images-dataset\\versions\\1\\data\\human\\rider-36.jpg: 512x512 22 objects, 1934.5ms\n",
      "Speed: 2.5ms preprocess, 1934.5ms inference, 15.5ms postprocess per image at shape (1, 3, 512, 512)\n"
     ]
    },
    {
     "name": "stderr",
     "output_type": "stream",
     "text": [
      " 66%|██████▌   | 133/202 [03:24<02:00,  1.75s/it]"
     ]
    },
    {
     "name": "stdout",
     "output_type": "stream",
     "text": [
      "\n",
      "image 1/1 C:\\Users\\admin\\.cache\\kagglehub\\datasets\\pavansanagapati\\images-dataset\\versions\\1\\data\\human\\rider-37.jpg: 416x512 16 objects, 1473.6ms\n",
      "Speed: 2.7ms preprocess, 1473.6ms inference, 13.7ms postprocess per image at shape (1, 3, 416, 512)\n"
     ]
    },
    {
     "name": "stderr",
     "output_type": "stream",
     "text": [
      " 66%|██████▋   | 134/202 [03:26<01:54,  1.69s/it]"
     ]
    },
    {
     "name": "stdout",
     "output_type": "stream",
     "text": [
      "\n",
      "image 1/1 C:\\Users\\admin\\.cache\\kagglehub\\datasets\\pavansanagapati\\images-dataset\\versions\\1\\data\\human\\rider-38.jpg: 512x416 18 objects, 1489.6ms\n",
      "Speed: 1.6ms preprocess, 1489.6ms inference, 12.1ms postprocess per image at shape (1, 3, 512, 416)\n"
     ]
    },
    {
     "name": "stderr",
     "output_type": "stream",
     "text": [
      " 67%|██████▋   | 135/202 [03:27<01:49,  1.64s/it]"
     ]
    },
    {
     "name": "stdout",
     "output_type": "stream",
     "text": [
      "\n",
      "image 1/1 C:\\Users\\admin\\.cache\\kagglehub\\datasets\\pavansanagapati\\images-dataset\\versions\\1\\data\\human\\rider-39.jpg: 352x512 29 objects, 1389.6ms\n",
      "Speed: 2.8ms preprocess, 1389.6ms inference, 22.9ms postprocess per image at shape (1, 3, 352, 512)\n"
     ]
    },
    {
     "name": "stderr",
     "output_type": "stream",
     "text": [
      " 67%|██████▋   | 136/202 [03:29<01:44,  1.59s/it]"
     ]
    },
    {
     "name": "stdout",
     "output_type": "stream",
     "text": [
      "\n",
      "image 1/1 C:\\Users\\admin\\.cache\\kagglehub\\datasets\\pavansanagapati\\images-dataset\\versions\\1\\data\\human\\rider-4.jpg: 512x288 20 objects, 1008.7ms\n",
      "Speed: 1.8ms preprocess, 1008.7ms inference, 26.4ms postprocess per image at shape (1, 3, 512, 288)\n"
     ]
    },
    {
     "name": "stderr",
     "output_type": "stream",
     "text": [
      " 68%|██████▊   | 137/202 [03:30<01:33,  1.44s/it]"
     ]
    },
    {
     "name": "stdout",
     "output_type": "stream",
     "text": [
      "\n",
      "image 1/1 C:\\Users\\admin\\.cache\\kagglehub\\datasets\\pavansanagapati\\images-dataset\\versions\\1\\data\\human\\rider-40.jpg: 512x352 18 objects, 1340.4ms\n",
      "Speed: 1.7ms preprocess, 1340.4ms inference, 12.2ms postprocess per image at shape (1, 3, 512, 352)\n"
     ]
    },
    {
     "name": "stderr",
     "output_type": "stream",
     "text": [
      " 68%|██████▊   | 138/202 [03:31<01:31,  1.42s/it]"
     ]
    },
    {
     "name": "stdout",
     "output_type": "stream",
     "text": [
      "\n",
      "image 1/1 C:\\Users\\admin\\.cache\\kagglehub\\datasets\\pavansanagapati\\images-dataset\\versions\\1\\data\\human\\rider-41.jpg: 512x352 13 objects, 1208.4ms\n",
      "Speed: 1.5ms preprocess, 1208.4ms inference, 12.6ms postprocess per image at shape (1, 3, 512, 352)\n"
     ]
    },
    {
     "name": "stderr",
     "output_type": "stream",
     "text": [
      " 69%|██████▉   | 139/202 [03:32<01:26,  1.37s/it]"
     ]
    },
    {
     "name": "stdout",
     "output_type": "stream",
     "text": [
      "\n",
      "image 1/1 C:\\Users\\admin\\.cache\\kagglehub\\datasets\\pavansanagapati\\images-dataset\\versions\\1\\data\\human\\rider-42.jpg: 512x352 13 objects, 1336.0ms\n",
      "Speed: 1.7ms preprocess, 1336.0ms inference, 10.6ms postprocess per image at shape (1, 3, 512, 352)\n"
     ]
    },
    {
     "name": "stderr",
     "output_type": "stream",
     "text": [
      " 69%|██████▉   | 140/202 [03:34<01:25,  1.38s/it]"
     ]
    },
    {
     "name": "stdout",
     "output_type": "stream",
     "text": [
      "\n",
      "image 1/1 C:\\Users\\admin\\.cache\\kagglehub\\datasets\\pavansanagapati\\images-dataset\\versions\\1\\data\\human\\rider-43.jpg: 512x512 19 objects, 1850.8ms\n",
      "Speed: 2.6ms preprocess, 1850.8ms inference, 14.6ms postprocess per image at shape (1, 3, 512, 512)\n"
     ]
    },
    {
     "name": "stderr",
     "output_type": "stream",
     "text": [
      " 70%|██████▉   | 141/202 [03:36<01:33,  1.53s/it]"
     ]
    },
    {
     "name": "stdout",
     "output_type": "stream",
     "text": [
      "\n",
      "image 1/1 C:\\Users\\admin\\.cache\\kagglehub\\datasets\\pavansanagapati\\images-dataset\\versions\\1\\data\\human\\rider-44.jpg: 512x320 16 objects, 1208.4ms\n",
      "Speed: 1.8ms preprocess, 1208.4ms inference, 12.5ms postprocess per image at shape (1, 3, 512, 320)\n"
     ]
    },
    {
     "name": "stderr",
     "output_type": "stream",
     "text": [
      " 70%|███████   | 142/202 [03:37<01:27,  1.45s/it]"
     ]
    },
    {
     "name": "stdout",
     "output_type": "stream",
     "text": [
      "\n",
      "image 1/1 C:\\Users\\admin\\.cache\\kagglehub\\datasets\\pavansanagapati\\images-dataset\\versions\\1\\data\\human\\rider-45.jpg: 512x512 19 objects, 1878.4ms\n",
      "Speed: 2.0ms preprocess, 1878.4ms inference, 13.6ms postprocess per image at shape (1, 3, 512, 512)\n"
     ]
    },
    {
     "name": "stderr",
     "output_type": "stream",
     "text": [
      " 71%|███████   | 143/202 [03:39<01:34,  1.59s/it]"
     ]
    },
    {
     "name": "stdout",
     "output_type": "stream",
     "text": [
      "\n",
      "image 1/1 C:\\Users\\admin\\.cache\\kagglehub\\datasets\\pavansanagapati\\images-dataset\\versions\\1\\data\\human\\rider-46.jpg: 512x352 17 objects, 1311.8ms\n",
      "Speed: 2.4ms preprocess, 1311.8ms inference, 25.6ms postprocess per image at shape (1, 3, 512, 352)\n"
     ]
    },
    {
     "name": "stderr",
     "output_type": "stream",
     "text": [
      " 71%|███████▏  | 144/202 [03:40<01:28,  1.53s/it]"
     ]
    },
    {
     "name": "stdout",
     "output_type": "stream",
     "text": [
      "\n",
      "image 1/1 C:\\Users\\admin\\.cache\\kagglehub\\datasets\\pavansanagapati\\images-dataset\\versions\\1\\data\\human\\rider-47.jpg: 512x512 29 objects, 1840.8ms\n",
      "Speed: 2.5ms preprocess, 1840.8ms inference, 23.0ms postprocess per image at shape (1, 3, 512, 512)\n"
     ]
    },
    {
     "name": "stderr",
     "output_type": "stream",
     "text": [
      " 72%|███████▏  | 145/202 [03:42<01:33,  1.64s/it]"
     ]
    },
    {
     "name": "stdout",
     "output_type": "stream",
     "text": [
      "\n",
      "image 1/1 C:\\Users\\admin\\.cache\\kagglehub\\datasets\\pavansanagapati\\images-dataset\\versions\\1\\data\\human\\rider-48.jpg: 512x384 15 objects, 1442.2ms\n",
      "Speed: 1.5ms preprocess, 1442.2ms inference, 11.7ms postprocess per image at shape (1, 3, 512, 384)\n"
     ]
    },
    {
     "name": "stderr",
     "output_type": "stream",
     "text": [
      " 72%|███████▏  | 146/202 [03:44<01:29,  1.60s/it]"
     ]
    },
    {
     "name": "stdout",
     "output_type": "stream",
     "text": [
      "\n",
      "image 1/1 C:\\Users\\admin\\.cache\\kagglehub\\datasets\\pavansanagapati\\images-dataset\\versions\\1\\data\\human\\rider-49.jpg: 288x512 17 objects, 1037.5ms\n",
      "Speed: 1.8ms preprocess, 1037.5ms inference, 14.3ms postprocess per image at shape (1, 3, 288, 512)\n"
     ]
    },
    {
     "name": "stderr",
     "output_type": "stream",
     "text": [
      " 73%|███████▎  | 147/202 [03:45<01:19,  1.45s/it]"
     ]
    },
    {
     "name": "stdout",
     "output_type": "stream",
     "text": [
      "\n",
      "image 1/1 C:\\Users\\admin\\.cache\\kagglehub\\datasets\\pavansanagapati\\images-dataset\\versions\\1\\data\\human\\rider-5.jpg: 512x384 21 objects, 1340.3ms\n",
      "Speed: 2.1ms preprocess, 1340.3ms inference, 141.6ms postprocess per image at shape (1, 3, 512, 384)\n"
     ]
    },
    {
     "name": "stderr",
     "output_type": "stream",
     "text": [
      " 73%|███████▎  | 148/202 [03:46<01:19,  1.48s/it]"
     ]
    },
    {
     "name": "stdout",
     "output_type": "stream",
     "text": [
      "\n",
      "image 1/1 C:\\Users\\admin\\.cache\\kagglehub\\datasets\\pavansanagapati\\images-dataset\\versions\\1\\data\\human\\rider-50.jpg: 512x384 18 objects, 1416.2ms\n",
      "Speed: 2.0ms preprocess, 1416.2ms inference, 12.7ms postprocess per image at shape (1, 3, 512, 384)\n"
     ]
    },
    {
     "name": "stderr",
     "output_type": "stream",
     "text": [
      " 74%|███████▍  | 149/202 [03:48<01:18,  1.48s/it]"
     ]
    },
    {
     "name": "stdout",
     "output_type": "stream",
     "text": [
      "\n",
      "image 1/1 C:\\Users\\admin\\.cache\\kagglehub\\datasets\\pavansanagapati\\images-dataset\\versions\\1\\data\\human\\rider-51.jpg: 512x512 18 objects, 1868.8ms\n",
      "Speed: 2.6ms preprocess, 1868.8ms inference, 14.5ms postprocess per image at shape (1, 3, 512, 512)\n"
     ]
    },
    {
     "name": "stderr",
     "output_type": "stream",
     "text": [
      " 74%|███████▍  | 150/202 [03:50<01:23,  1.61s/it]"
     ]
    },
    {
     "name": "stdout",
     "output_type": "stream",
     "text": [
      "\n",
      "image 1/1 C:\\Users\\admin\\.cache\\kagglehub\\datasets\\pavansanagapati\\images-dataset\\versions\\1\\data\\human\\rider-52.jpg: 352x512 22 objects, 1323.6ms\n",
      "Speed: 2.0ms preprocess, 1323.6ms inference, 18.9ms postprocess per image at shape (1, 3, 352, 512)\n"
     ]
    },
    {
     "name": "stderr",
     "output_type": "stream",
     "text": [
      " 75%|███████▍  | 151/202 [03:51<01:18,  1.54s/it]"
     ]
    },
    {
     "name": "stdout",
     "output_type": "stream",
     "text": [
      "\n",
      "image 1/1 C:\\Users\\admin\\.cache\\kagglehub\\datasets\\pavansanagapati\\images-dataset\\versions\\1\\data\\human\\rider-53.jpg: 512x352 19 objects, 1378.3ms\n",
      "Speed: 1.6ms preprocess, 1378.3ms inference, 12.9ms postprocess per image at shape (1, 3, 512, 352)\n"
     ]
    },
    {
     "name": "stderr",
     "output_type": "stream",
     "text": [
      " 75%|███████▌  | 152/202 [03:53<01:15,  1.51s/it]"
     ]
    },
    {
     "name": "stdout",
     "output_type": "stream",
     "text": [
      "\n",
      "image 1/1 C:\\Users\\admin\\.cache\\kagglehub\\datasets\\pavansanagapati\\images-dataset\\versions\\1\\data\\human\\rider-54.jpg: 512x384 16 objects, 1421.8ms\n",
      "Speed: 1.7ms preprocess, 1421.8ms inference, 11.6ms postprocess per image at shape (1, 3, 512, 384)\n"
     ]
    },
    {
     "name": "stderr",
     "output_type": "stream",
     "text": [
      " 76%|███████▌  | 153/202 [03:54<01:13,  1.50s/it]"
     ]
    },
    {
     "name": "stdout",
     "output_type": "stream",
     "text": [
      "\n",
      "image 1/1 C:\\Users\\admin\\.cache\\kagglehub\\datasets\\pavansanagapati\\images-dataset\\versions\\1\\data\\human\\rider-55.jpg: 512x352 15 objects, 1263.9ms\n",
      "Speed: 1.6ms preprocess, 1263.9ms inference, 8.3ms postprocess per image at shape (1, 3, 512, 352)\n"
     ]
    },
    {
     "name": "stderr",
     "output_type": "stream",
     "text": [
      " 76%|███████▌  | 154/202 [03:55<01:09,  1.44s/it]"
     ]
    },
    {
     "name": "stdout",
     "output_type": "stream",
     "text": [
      "\n",
      "image 1/1 C:\\Users\\admin\\.cache\\kagglehub\\datasets\\pavansanagapati\\images-dataset\\versions\\1\\data\\human\\rider-56.jpg: 512x512 20 objects, 1875.4ms\n",
      "Speed: 2.4ms preprocess, 1875.4ms inference, 14.4ms postprocess per image at shape (1, 3, 512, 512)\n"
     ]
    },
    {
     "name": "stderr",
     "output_type": "stream",
     "text": [
      " 77%|███████▋  | 155/202 [03:57<01:14,  1.59s/it]"
     ]
    },
    {
     "name": "stdout",
     "output_type": "stream",
     "text": [
      "\n",
      "image 1/1 C:\\Users\\admin\\.cache\\kagglehub\\datasets\\pavansanagapati\\images-dataset\\versions\\1\\data\\human\\rider-57.jpg: 512x320 12 objects, 1149.4ms\n",
      "Speed: 1.6ms preprocess, 1149.4ms inference, 10.2ms postprocess per image at shape (1, 3, 512, 320)\n"
     ]
    },
    {
     "name": "stderr",
     "output_type": "stream",
     "text": [
      " 77%|███████▋  | 156/202 [03:58<01:07,  1.47s/it]"
     ]
    },
    {
     "name": "stdout",
     "output_type": "stream",
     "text": [
      "\n",
      "image 1/1 C:\\Users\\admin\\.cache\\kagglehub\\datasets\\pavansanagapati\\images-dataset\\versions\\1\\data\\human\\rider-58.jpg: 512x352 10 objects, 1543.3ms\n",
      "Speed: 6.2ms preprocess, 1543.3ms inference, 7.7ms postprocess per image at shape (1, 3, 512, 352)\n"
     ]
    },
    {
     "name": "stderr",
     "output_type": "stream",
     "text": [
      " 78%|███████▊  | 157/202 [04:00<01:07,  1.51s/it]"
     ]
    },
    {
     "name": "stdout",
     "output_type": "stream",
     "text": [
      "\n",
      "image 1/1 C:\\Users\\admin\\.cache\\kagglehub\\datasets\\pavansanagapati\\images-dataset\\versions\\1\\data\\human\\rider-59.jpg: 512x384 11 objects, 1493.3ms\n",
      "Speed: 2.3ms preprocess, 1493.3ms inference, 9.1ms postprocess per image at shape (1, 3, 512, 384)\n"
     ]
    },
    {
     "name": "stderr",
     "output_type": "stream",
     "text": [
      " 78%|███████▊  | 158/202 [04:02<01:06,  1.52s/it]"
     ]
    },
    {
     "name": "stdout",
     "output_type": "stream",
     "text": [
      "\n",
      "image 1/1 C:\\Users\\admin\\.cache\\kagglehub\\datasets\\pavansanagapati\\images-dataset\\versions\\1\\data\\human\\rider-6.jpg: 512x288 25 objects, 1021.9ms\n",
      "Speed: 1.7ms preprocess, 1021.9ms inference, 29.9ms postprocess per image at shape (1, 3, 512, 288)\n"
     ]
    },
    {
     "name": "stderr",
     "output_type": "stream",
     "text": [
      " 79%|███████▊  | 159/202 [04:03<00:59,  1.39s/it]"
     ]
    },
    {
     "name": "stdout",
     "output_type": "stream",
     "text": [
      "\n",
      "image 1/1 C:\\Users\\admin\\.cache\\kagglehub\\datasets\\pavansanagapati\\images-dataset\\versions\\1\\data\\human\\rider-60.jpg: 512x352 11 objects, 1396.0ms\n",
      "Speed: 2.4ms preprocess, 1396.0ms inference, 9.6ms postprocess per image at shape (1, 3, 512, 352)\n"
     ]
    },
    {
     "name": "stderr",
     "output_type": "stream",
     "text": [
      " 79%|███████▉  | 160/202 [04:04<00:59,  1.41s/it]"
     ]
    },
    {
     "name": "stdout",
     "output_type": "stream",
     "text": [
      "\n",
      "image 1/1 C:\\Users\\admin\\.cache\\kagglehub\\datasets\\pavansanagapati\\images-dataset\\versions\\1\\data\\human\\rider-61.jpg: 512x352 35 objects, 1329.2ms\n",
      "Speed: 2.4ms preprocess, 1329.2ms inference, 24.9ms postprocess per image at shape (1, 3, 512, 352)\n"
     ]
    },
    {
     "name": "stderr",
     "output_type": "stream",
     "text": [
      " 80%|███████▉  | 161/202 [04:06<00:57,  1.41s/it]"
     ]
    },
    {
     "name": "stdout",
     "output_type": "stream",
     "text": [
      "\n",
      "image 1/1 C:\\Users\\admin\\.cache\\kagglehub\\datasets\\pavansanagapati\\images-dataset\\versions\\1\\data\\human\\rider-62.jpg: 512x512 18 objects, 1755.7ms\n",
      "Speed: 2.8ms preprocess, 1755.7ms inference, 11.6ms postprocess per image at shape (1, 3, 512, 512)\n"
     ]
    },
    {
     "name": "stderr",
     "output_type": "stream",
     "text": [
      " 80%|████████  | 162/202 [04:07<01:00,  1.52s/it]"
     ]
    },
    {
     "name": "stdout",
     "output_type": "stream",
     "text": [
      "\n",
      "image 1/1 C:\\Users\\admin\\.cache\\kagglehub\\datasets\\pavansanagapati\\images-dataset\\versions\\1\\data\\human\\rider-63.jpg: 352x512 14 objects, 1346.8ms\n",
      "Speed: 1.6ms preprocess, 1346.8ms inference, 10.1ms postprocess per image at shape (1, 3, 352, 512)\n"
     ]
    },
    {
     "name": "stderr",
     "output_type": "stream",
     "text": [
      " 81%|████████  | 163/202 [04:09<00:57,  1.48s/it]"
     ]
    },
    {
     "name": "stdout",
     "output_type": "stream",
     "text": [
      "\n",
      "image 1/1 C:\\Users\\admin\\.cache\\kagglehub\\datasets\\pavansanagapati\\images-dataset\\versions\\1\\data\\human\\rider-64.jpg: 512x512 19 objects, 1888.2ms\n",
      "Speed: 2.2ms preprocess, 1888.2ms inference, 13.6ms postprocess per image at shape (1, 3, 512, 512)\n"
     ]
    },
    {
     "name": "stderr",
     "output_type": "stream",
     "text": [
      " 81%|████████  | 164/202 [04:11<01:01,  1.62s/it]"
     ]
    },
    {
     "name": "stdout",
     "output_type": "stream",
     "text": [
      "\n",
      "image 1/1 C:\\Users\\admin\\.cache\\kagglehub\\datasets\\pavansanagapati\\images-dataset\\versions\\1\\data\\human\\rider-65.jpg: 512x512 15 objects, 1869.0ms\n",
      "Speed: 3.2ms preprocess, 1869.0ms inference, 11.2ms postprocess per image at shape (1, 3, 512, 512)\n"
     ]
    },
    {
     "name": "stderr",
     "output_type": "stream",
     "text": [
      " 82%|████████▏ | 165/202 [04:13<01:03,  1.71s/it]"
     ]
    },
    {
     "name": "stdout",
     "output_type": "stream",
     "text": [
      "\n",
      "image 1/1 C:\\Users\\admin\\.cache\\kagglehub\\datasets\\pavansanagapati\\images-dataset\\versions\\1\\data\\human\\rider-66.jpg: 512x384 28 objects, 1446.4ms\n",
      "Speed: 5.7ms preprocess, 1446.4ms inference, 19.7ms postprocess per image at shape (1, 3, 512, 384)\n"
     ]
    },
    {
     "name": "stderr",
     "output_type": "stream",
     "text": [
      " 82%|████████▏ | 166/202 [04:14<00:59,  1.65s/it]"
     ]
    },
    {
     "name": "stdout",
     "output_type": "stream",
     "text": [
      "\n",
      "image 1/1 C:\\Users\\admin\\.cache\\kagglehub\\datasets\\pavansanagapati\\images-dataset\\versions\\1\\data\\human\\rider-67.jpg: 512x288 19 objects, 974.5ms\n",
      "Speed: 2.0ms preprocess, 974.5ms inference, 14.4ms postprocess per image at shape (1, 3, 512, 288)\n"
     ]
    },
    {
     "name": "stderr",
     "output_type": "stream",
     "text": [
      " 83%|████████▎ | 167/202 [04:15<00:51,  1.47s/it]"
     ]
    },
    {
     "name": "stdout",
     "output_type": "stream",
     "text": [
      "\n",
      "image 1/1 C:\\Users\\admin\\.cache\\kagglehub\\datasets\\pavansanagapati\\images-dataset\\versions\\1\\data\\human\\rider-68.jpg: 512x384 14 objects, 1715.7ms\n",
      "Speed: 2.0ms preprocess, 1715.7ms inference, 15.2ms postprocess per image at shape (1, 3, 512, 384)\n"
     ]
    },
    {
     "name": "stderr",
     "output_type": "stream",
     "text": [
      " 83%|████████▎ | 168/202 [04:17<00:53,  1.56s/it]"
     ]
    },
    {
     "name": "stdout",
     "output_type": "stream",
     "text": [
      "\n",
      "image 1/1 C:\\Users\\admin\\.cache\\kagglehub\\datasets\\pavansanagapati\\images-dataset\\versions\\1\\data\\human\\rider-69.jpg: 512x352 14 objects, 1766.8ms\n",
      "Speed: 3.0ms preprocess, 1766.8ms inference, 12.4ms postprocess per image at shape (1, 3, 512, 352)\n"
     ]
    },
    {
     "name": "stderr",
     "output_type": "stream",
     "text": [
      " 84%|████████▎ | 169/202 [04:19<00:54,  1.64s/it]"
     ]
    },
    {
     "name": "stdout",
     "output_type": "stream",
     "text": [
      "\n",
      "image 1/1 C:\\Users\\admin\\.cache\\kagglehub\\datasets\\pavansanagapati\\images-dataset\\versions\\1\\data\\human\\rider-7.jpg: 512x288 25 objects, 1537.3ms\n",
      "Speed: 1.5ms preprocess, 1537.3ms inference, 45.4ms postprocess per image at shape (1, 3, 512, 288)\n"
     ]
    },
    {
     "name": "stderr",
     "output_type": "stream",
     "text": [
      " 84%|████████▍ | 170/202 [04:20<00:52,  1.64s/it]"
     ]
    },
    {
     "name": "stdout",
     "output_type": "stream",
     "text": [
      "\n",
      "image 1/1 C:\\Users\\admin\\.cache\\kagglehub\\datasets\\pavansanagapati\\images-dataset\\versions\\1\\data\\human\\rider-70.jpg: 512x512 23 objects, 2311.3ms\n",
      "Speed: 4.0ms preprocess, 2311.3ms inference, 23.8ms postprocess per image at shape (1, 3, 512, 512)\n"
     ]
    },
    {
     "name": "stderr",
     "output_type": "stream",
     "text": [
      " 85%|████████▍ | 171/202 [04:23<00:57,  1.86s/it]"
     ]
    },
    {
     "name": "stdout",
     "output_type": "stream",
     "text": [
      "\n",
      "image 1/1 C:\\Users\\admin\\.cache\\kagglehub\\datasets\\pavansanagapati\\images-dataset\\versions\\1\\data\\human\\rider-71.jpg: 512x288 22 objects, 1444.4ms\n",
      "Speed: 1.5ms preprocess, 1444.4ms inference, 22.3ms postprocess per image at shape (1, 3, 512, 288)\n"
     ]
    },
    {
     "name": "stderr",
     "output_type": "stream",
     "text": [
      " 85%|████████▌ | 172/202 [04:24<00:52,  1.76s/it]"
     ]
    },
    {
     "name": "stdout",
     "output_type": "stream",
     "text": [
      "\n",
      "image 1/1 C:\\Users\\admin\\.cache\\kagglehub\\datasets\\pavansanagapati\\images-dataset\\versions\\1\\data\\human\\rider-72.jpg: 512x352 17 objects, 1427.6ms\n",
      "Speed: 2.2ms preprocess, 1427.6ms inference, 12.6ms postprocess per image at shape (1, 3, 512, 352)\n"
     ]
    },
    {
     "name": "stderr",
     "output_type": "stream",
     "text": [
      " 86%|████████▌ | 173/202 [04:26<00:48,  1.68s/it]"
     ]
    },
    {
     "name": "stdout",
     "output_type": "stream",
     "text": [
      "\n",
      "image 1/1 C:\\Users\\admin\\.cache\\kagglehub\\datasets\\pavansanagapati\\images-dataset\\versions\\1\\data\\human\\rider-73.jpg: 512x512 15 objects, 2118.5ms\n",
      "Speed: 3.7ms preprocess, 2118.5ms inference, 14.0ms postprocess per image at shape (1, 3, 512, 512)\n"
     ]
    },
    {
     "name": "stderr",
     "output_type": "stream",
     "text": [
      " 86%|████████▌ | 174/202 [04:28<00:51,  1.83s/it]"
     ]
    },
    {
     "name": "stdout",
     "output_type": "stream",
     "text": [
      "\n",
      "image 1/1 C:\\Users\\admin\\.cache\\kagglehub\\datasets\\pavansanagapati\\images-dataset\\versions\\1\\data\\human\\rider-74.jpg: 512x352 19 objects, 1398.7ms\n",
      "Speed: 2.4ms preprocess, 1398.7ms inference, 12.6ms postprocess per image at shape (1, 3, 512, 352)\n"
     ]
    },
    {
     "name": "stderr",
     "output_type": "stream",
     "text": [
      " 87%|████████▋ | 175/202 [04:29<00:46,  1.71s/it]"
     ]
    },
    {
     "name": "stdout",
     "output_type": "stream",
     "text": [
      "\n",
      "image 1/1 C:\\Users\\admin\\.cache\\kagglehub\\datasets\\pavansanagapati\\images-dataset\\versions\\1\\data\\human\\rider-75.jpg: 512x352 17 objects, 1448.8ms\n",
      "Speed: 1.5ms preprocess, 1448.8ms inference, 18.3ms postprocess per image at shape (1, 3, 512, 352)\n"
     ]
    },
    {
     "name": "stderr",
     "output_type": "stream",
     "text": [
      " 87%|████████▋ | 176/202 [04:31<00:42,  1.65s/it]"
     ]
    },
    {
     "name": "stdout",
     "output_type": "stream",
     "text": [
      "\n",
      "image 1/1 C:\\Users\\admin\\.cache\\kagglehub\\datasets\\pavansanagapati\\images-dataset\\versions\\1\\data\\human\\rider-76.jpg: 512x352 16 objects, 1410.7ms\n",
      "Speed: 1.6ms preprocess, 1410.7ms inference, 12.3ms postprocess per image at shape (1, 3, 512, 352)\n"
     ]
    },
    {
     "name": "stderr",
     "output_type": "stream",
     "text": [
      " 88%|████████▊ | 177/202 [04:32<00:39,  1.59s/it]"
     ]
    },
    {
     "name": "stdout",
     "output_type": "stream",
     "text": [
      "\n",
      "image 1/1 C:\\Users\\admin\\.cache\\kagglehub\\datasets\\pavansanagapati\\images-dataset\\versions\\1\\data\\human\\rider-77.jpg: 512x352 12 objects, 1350.6ms\n",
      "Speed: 1.6ms preprocess, 1350.6ms inference, 9.7ms postprocess per image at shape (1, 3, 512, 352)\n"
     ]
    },
    {
     "name": "stderr",
     "output_type": "stream",
     "text": [
      " 88%|████████▊ | 178/202 [04:34<00:36,  1.54s/it]"
     ]
    },
    {
     "name": "stdout",
     "output_type": "stream",
     "text": [
      "\n",
      "image 1/1 C:\\Users\\admin\\.cache\\kagglehub\\datasets\\pavansanagapati\\images-dataset\\versions\\1\\data\\human\\rider-78.jpg: 512x512 27 objects, 1899.0ms\n",
      "Speed: 2.9ms preprocess, 1899.0ms inference, 20.4ms postprocess per image at shape (1, 3, 512, 512)\n"
     ]
    },
    {
     "name": "stderr",
     "output_type": "stream",
     "text": [
      " 89%|████████▊ | 179/202 [04:36<00:38,  1.67s/it]"
     ]
    },
    {
     "name": "stdout",
     "output_type": "stream",
     "text": [
      "\n",
      "image 1/1 C:\\Users\\admin\\.cache\\kagglehub\\datasets\\pavansanagapati\\images-dataset\\versions\\1\\data\\human\\rider-79.jpg: 512x512 22 objects, 1914.4ms\n",
      "Speed: 2.5ms preprocess, 1914.4ms inference, 16.0ms postprocess per image at shape (1, 3, 512, 512)\n"
     ]
    },
    {
     "name": "stderr",
     "output_type": "stream",
     "text": [
      " 89%|████████▉ | 180/202 [04:38<00:38,  1.76s/it]"
     ]
    },
    {
     "name": "stdout",
     "output_type": "stream",
     "text": [
      "\n",
      "image 1/1 C:\\Users\\admin\\.cache\\kagglehub\\datasets\\pavansanagapati\\images-dataset\\versions\\1\\data\\human\\rider-8.jpg: 512x352 17 objects, 1257.8ms\n",
      "Speed: 1.5ms preprocess, 1257.8ms inference, 53.1ms postprocess per image at shape (1, 3, 512, 352)\n"
     ]
    },
    {
     "name": "stderr",
     "output_type": "stream",
     "text": [
      " 90%|████████▉ | 181/202 [04:39<00:34,  1.64s/it]"
     ]
    },
    {
     "name": "stdout",
     "output_type": "stream",
     "text": [
      "\n",
      "image 1/1 C:\\Users\\admin\\.cache\\kagglehub\\datasets\\pavansanagapati\\images-dataset\\versions\\1\\data\\human\\rider-80.jpg: 512x416 28 objects, 1497.1ms\n",
      "Speed: 21.7ms preprocess, 1497.1ms inference, 20.9ms postprocess per image at shape (1, 3, 512, 416)\n"
     ]
    },
    {
     "name": "stderr",
     "output_type": "stream",
     "text": [
      " 90%|█████████ | 182/202 [04:41<00:32,  1.62s/it]"
     ]
    },
    {
     "name": "stdout",
     "output_type": "stream",
     "text": [
      "\n",
      "image 1/1 C:\\Users\\admin\\.cache\\kagglehub\\datasets\\pavansanagapati\\images-dataset\\versions\\1\\data\\human\\rider-81.jpg: 512x352 20 objects, 1354.2ms\n",
      "Speed: 1.9ms preprocess, 1354.2ms inference, 14.9ms postprocess per image at shape (1, 3, 512, 352)\n"
     ]
    },
    {
     "name": "stderr",
     "output_type": "stream",
     "text": [
      " 91%|█████████ | 183/202 [04:42<00:29,  1.56s/it]"
     ]
    },
    {
     "name": "stdout",
     "output_type": "stream",
     "text": [
      "\n",
      "image 1/1 C:\\Users\\admin\\.cache\\kagglehub\\datasets\\pavansanagapati\\images-dataset\\versions\\1\\data\\human\\rider-82.jpg: 512x512 14 objects, 1904.7ms\n",
      "Speed: 2.9ms preprocess, 1904.7ms inference, 12.9ms postprocess per image at shape (1, 3, 512, 512)\n"
     ]
    },
    {
     "name": "stderr",
     "output_type": "stream",
     "text": [
      " 91%|█████████ | 184/202 [04:44<00:30,  1.68s/it]"
     ]
    },
    {
     "name": "stdout",
     "output_type": "stream",
     "text": [
      "\n",
      "image 1/1 C:\\Users\\admin\\.cache\\kagglehub\\datasets\\pavansanagapati\\images-dataset\\versions\\1\\data\\human\\rider-83.jpg: 512x352 16 objects, 1832.8ms\n",
      "Speed: 2.2ms preprocess, 1832.8ms inference, 15.8ms postprocess per image at shape (1, 3, 512, 352)\n"
     ]
    },
    {
     "name": "stderr",
     "output_type": "stream",
     "text": [
      " 92%|█████████▏| 185/202 [04:46<00:29,  1.74s/it]"
     ]
    },
    {
     "name": "stdout",
     "output_type": "stream",
     "text": [
      "\n",
      "image 1/1 C:\\Users\\admin\\.cache\\kagglehub\\datasets\\pavansanagapati\\images-dataset\\versions\\1\\data\\human\\rider-84.jpg: 512x320 22 objects, 1588.8ms\n",
      "Speed: 2.6ms preprocess, 1588.8ms inference, 27.5ms postprocess per image at shape (1, 3, 512, 320)\n"
     ]
    },
    {
     "name": "stderr",
     "output_type": "stream",
     "text": [
      " 92%|█████████▏| 186/202 [04:48<00:27,  1.72s/it]"
     ]
    },
    {
     "name": "stdout",
     "output_type": "stream",
     "text": [
      "\n",
      "image 1/1 C:\\Users\\admin\\.cache\\kagglehub\\datasets\\pavansanagapati\\images-dataset\\versions\\1\\data\\human\\rider-85.jpg: 512x352 26 objects, 1562.5ms\n",
      "Speed: 2.8ms preprocess, 1562.5ms inference, 21.4ms postprocess per image at shape (1, 3, 512, 352)\n"
     ]
    },
    {
     "name": "stderr",
     "output_type": "stream",
     "text": [
      " 93%|█████████▎| 187/202 [04:49<00:25,  1.70s/it]"
     ]
    },
    {
     "name": "stdout",
     "output_type": "stream",
     "text": [
      "\n",
      "image 1/1 C:\\Users\\admin\\.cache\\kagglehub\\datasets\\pavansanagapati\\images-dataset\\versions\\1\\data\\human\\rider-86.jpg: 512x384 18 objects, 1878.2ms\n",
      "Speed: 4.8ms preprocess, 1878.2ms inference, 16.2ms postprocess per image at shape (1, 3, 512, 384)\n"
     ]
    },
    {
     "name": "stderr",
     "output_type": "stream",
     "text": [
      " 93%|█████████▎| 188/202 [04:51<00:24,  1.77s/it]"
     ]
    },
    {
     "name": "stdout",
     "output_type": "stream",
     "text": [
      "\n",
      "image 1/1 C:\\Users\\admin\\.cache\\kagglehub\\datasets\\pavansanagapati\\images-dataset\\versions\\1\\data\\human\\rider-87.jpg: 512x416 18 objects, 1876.9ms\n",
      "Speed: 1.7ms preprocess, 1876.9ms inference, 24.8ms postprocess per image at shape (1, 3, 512, 416)\n"
     ]
    },
    {
     "name": "stderr",
     "output_type": "stream",
     "text": [
      " 94%|█████████▎| 189/202 [04:53<00:23,  1.83s/it]"
     ]
    },
    {
     "name": "stdout",
     "output_type": "stream",
     "text": [
      "\n",
      "image 1/1 C:\\Users\\admin\\.cache\\kagglehub\\datasets\\pavansanagapati\\images-dataset\\versions\\1\\data\\human\\rider-88.jpg: 512x288 24 objects, 1524.6ms\n",
      "Speed: 3.8ms preprocess, 1524.6ms inference, 21.8ms postprocess per image at shape (1, 3, 512, 288)\n"
     ]
    },
    {
     "name": "stderr",
     "output_type": "stream",
     "text": [
      " 94%|█████████▍| 190/202 [04:55<00:21,  1.78s/it]"
     ]
    },
    {
     "name": "stdout",
     "output_type": "stream",
     "text": [
      "\n",
      "image 1/1 C:\\Users\\admin\\.cache\\kagglehub\\datasets\\pavansanagapati\\images-dataset\\versions\\1\\data\\human\\rider-89.jpg: 512x512 23 objects, 2474.5ms\n",
      "Speed: 2.1ms preprocess, 2474.5ms inference, 21.7ms postprocess per image at shape (1, 3, 512, 512)\n"
     ]
    },
    {
     "name": "stderr",
     "output_type": "stream",
     "text": [
      " 95%|█████████▍| 191/202 [04:57<00:22,  2.01s/it]"
     ]
    },
    {
     "name": "stdout",
     "output_type": "stream",
     "text": [
      "\n",
      "image 1/1 C:\\Users\\admin\\.cache\\kagglehub\\datasets\\pavansanagapati\\images-dataset\\versions\\1\\data\\human\\rider-9.jpg: 512x352 19 objects, 1535.8ms\n",
      "Speed: 4.4ms preprocess, 1535.8ms inference, 14.5ms postprocess per image at shape (1, 3, 512, 352)\n"
     ]
    },
    {
     "name": "stderr",
     "output_type": "stream",
     "text": [
      " 95%|█████████▌| 192/202 [04:59<00:18,  1.88s/it]"
     ]
    },
    {
     "name": "stdout",
     "output_type": "stream",
     "text": [
      "\n",
      "image 1/1 C:\\Users\\admin\\.cache\\kagglehub\\datasets\\pavansanagapati\\images-dataset\\versions\\1\\data\\human\\rider-90.jpg: 512x384 8 objects, 2025.6ms\n",
      "Speed: 2.6ms preprocess, 2025.6ms inference, 6.3ms postprocess per image at shape (1, 3, 512, 384)\n"
     ]
    },
    {
     "name": "stderr",
     "output_type": "stream",
     "text": [
      " 96%|█████████▌| 193/202 [05:01<00:17,  1.94s/it]"
     ]
    },
    {
     "name": "stdout",
     "output_type": "stream",
     "text": [
      "\n",
      "image 1/1 C:\\Users\\admin\\.cache\\kagglehub\\datasets\\pavansanagapati\\images-dataset\\versions\\1\\data\\human\\rider-91.jpg: 512x352 19 objects, 1755.4ms\n",
      "Speed: 1.6ms preprocess, 1755.4ms inference, 16.7ms postprocess per image at shape (1, 3, 512, 352)\n"
     ]
    },
    {
     "name": "stderr",
     "output_type": "stream",
     "text": [
      " 96%|█████████▌| 194/202 [05:03<00:15,  1.90s/it]"
     ]
    },
    {
     "name": "stdout",
     "output_type": "stream",
     "text": [
      "\n",
      "image 1/1 C:\\Users\\admin\\.cache\\kagglehub\\datasets\\pavansanagapati\\images-dataset\\versions\\1\\data\\human\\rider-92.jpg: 512x384 14 objects, 1890.1ms\n",
      "Speed: 3.5ms preprocess, 1890.1ms inference, 14.0ms postprocess per image at shape (1, 3, 512, 384)\n"
     ]
    },
    {
     "name": "stderr",
     "output_type": "stream",
     "text": [
      " 97%|█████████▋| 195/202 [05:05<00:13,  1.92s/it]"
     ]
    },
    {
     "name": "stdout",
     "output_type": "stream",
     "text": [
      "\n",
      "image 1/1 C:\\Users\\admin\\.cache\\kagglehub\\datasets\\pavansanagapati\\images-dataset\\versions\\1\\data\\human\\rider-93.jpg: 512x352 13 objects, 1797.3ms\n",
      "Speed: 1.8ms preprocess, 1797.3ms inference, 11.7ms postprocess per image at shape (1, 3, 512, 352)\n"
     ]
    },
    {
     "name": "stderr",
     "output_type": "stream",
     "text": [
      " 97%|█████████▋| 196/202 [05:07<00:11,  1.90s/it]"
     ]
    },
    {
     "name": "stdout",
     "output_type": "stream",
     "text": [
      "\n",
      "image 1/1 C:\\Users\\admin\\.cache\\kagglehub\\datasets\\pavansanagapati\\images-dataset\\versions\\1\\data\\human\\rider-94.jpg: 512x512 15 objects, 2283.0ms\n",
      "Speed: 2.3ms preprocess, 2283.0ms inference, 13.9ms postprocess per image at shape (1, 3, 512, 512)\n"
     ]
    },
    {
     "name": "stderr",
     "output_type": "stream",
     "text": [
      " 98%|█████████▊| 197/202 [05:09<00:10,  2.03s/it]"
     ]
    },
    {
     "name": "stdout",
     "output_type": "stream",
     "text": [
      "\n",
      "image 1/1 C:\\Users\\admin\\.cache\\kagglehub\\datasets\\pavansanagapati\\images-dataset\\versions\\1\\data\\human\\rider-95.jpg: 512x384 24 objects, 1758.8ms\n",
      "Speed: 1.6ms preprocess, 1758.8ms inference, 23.3ms postprocess per image at shape (1, 3, 512, 384)\n"
     ]
    },
    {
     "name": "stderr",
     "output_type": "stream",
     "text": [
      " 98%|█████████▊| 198/202 [05:11<00:07,  1.97s/it]"
     ]
    },
    {
     "name": "stdout",
     "output_type": "stream",
     "text": [
      "\n",
      "image 1/1 C:\\Users\\admin\\.cache\\kagglehub\\datasets\\pavansanagapati\\images-dataset\\versions\\1\\data\\human\\rider-96.jpg: 512x512 14 objects, 2231.9ms\n",
      "Speed: 2.7ms preprocess, 2231.9ms inference, 16.9ms postprocess per image at shape (1, 3, 512, 512)\n"
     ]
    },
    {
     "name": "stderr",
     "output_type": "stream",
     "text": [
      " 99%|█████████▊| 199/202 [05:13<00:06,  2.06s/it]"
     ]
    },
    {
     "name": "stdout",
     "output_type": "stream",
     "text": [
      "\n",
      "image 1/1 C:\\Users\\admin\\.cache\\kagglehub\\datasets\\pavansanagapati\\images-dataset\\versions\\1\\data\\human\\rider-97.jpg: 512x352 17 objects, 1620.8ms\n",
      "Speed: 2.6ms preprocess, 1620.8ms inference, 12.3ms postprocess per image at shape (1, 3, 512, 352)\n"
     ]
    },
    {
     "name": "stderr",
     "output_type": "stream",
     "text": [
      " 99%|█████████▉| 200/202 [05:15<00:03,  1.95s/it]"
     ]
    },
    {
     "name": "stdout",
     "output_type": "stream",
     "text": [
      "\n",
      "image 1/1 C:\\Users\\admin\\.cache\\kagglehub\\datasets\\pavansanagapati\\images-dataset\\versions\\1\\data\\human\\rider-98.jpg: 512x288 14 objects, 1052.7ms\n",
      "Speed: 1.7ms preprocess, 1052.7ms inference, 12.1ms postprocess per image at shape (1, 3, 512, 288)\n"
     ]
    },
    {
     "name": "stderr",
     "output_type": "stream",
     "text": [
      "100%|█████████▉| 201/202 [05:16<00:01,  1.69s/it]"
     ]
    },
    {
     "name": "stdout",
     "output_type": "stream",
     "text": [
      "\n",
      "image 1/1 C:\\Users\\admin\\.cache\\kagglehub\\datasets\\pavansanagapati\\images-dataset\\versions\\1\\data\\human\\rider-99.jpg: 512x512 18 objects, 1923.8ms\n",
      "Speed: 3.2ms preprocess, 1923.8ms inference, 12.8ms postprocess per image at shape (1, 3, 512, 512)\n"
     ]
    },
    {
     "name": "stderr",
     "output_type": "stream",
     "text": [
      "100%|██████████| 202/202 [05:18<00:00,  1.58s/it]"
     ]
    },
    {
     "name": "stdout",
     "output_type": "stream",
     "text": [
      "\n",
      " Hoàn tất tạo nhãn segmentation tự động theo format Labelme!\n",
      " Tất cả file .json nằm trong: C:\\Users\\admin\\.cache\\kagglehub\\datasets\\pavansanagapati\\images-dataset\\versions\\1\\labels_auto\n"
     ]
    },
    {
     "name": "stderr",
     "output_type": "stream",
     "text": [
      "\n"
     ]
    }
   ],
   "source": [
    "# 5️. Duyệt qua tất cả thư mục con (class)\n",
    "for cls_name in os.listdir(root_dir):\n",
    "    cls_path = os.path.join(root_dir, cls_name)\n",
    "    if not os.path.isdir(cls_path):\n",
    "        continue\n",
    "    \n",
    "    output_cls = os.path.join(output_dir, cls_name)\n",
    "    os.makedirs(output_cls, exist_ok=True)\n",
    "    \n",
    "    print(f\"\\n Processing class: {cls_name}\")\n",
    "    \n",
    "    for img_name in tqdm(os.listdir(cls_path)):\n",
    "        if not img_name.lower().endswith(('.png', '.jpg', '.jpeg', '.bmp')):\n",
    "            continue\n",
    "        \n",
    "        img_path = os.path.join(cls_path, img_name)\n",
    "        image = Image.open(img_path)\n",
    "        \n",
    "        # 6️. Chạy segmentation tự động\n",
    "        results = model(img_path, retina_masks=True, imgsz=512, device='cpu')\n",
    "        masks = results[0].masks.data.cpu().numpy() if results[0].masks is not None else []\n",
    "        \n",
    "        # 7️. Chuyển mask thành polygon và lưu Labelme .json\n",
    "        shapes = []\n",
    "        for mask in masks:\n",
    "            polygon_points = mask_to_polygon(mask)\n",
    "            for pts in polygon_points:\n",
    "                shapes.append({\n",
    "                    \"label\": cls_name,\n",
    "                    \"points\": np.array(pts).reshape(-1, 2).tolist(),\n",
    "                    \"group_id\": None,\n",
    "                    \"shape_type\": \"polygon\",\n",
    "                    \"flags\": {}\n",
    "                })\n",
    "        \n",
    "        labelme_json = {\n",
    "            \"version\": \"5.3.1\",\n",
    "            \"flags\": {},\n",
    "            \"shapes\": shapes,\n",
    "            \"imagePath\": img_name,\n",
    "            \"imageData\": None,\n",
    "            \"imageHeight\": image.height,\n",
    "            \"imageWidth\": image.width\n",
    "        }\n",
    "        \n",
    "        json_path = os.path.join(output_cls, img_name.replace('.bmp', '.json').replace('.jpg', '.json'))\n",
    "        with open(json_path, 'w') as f:\n",
    "            json.dump(labelme_json, f, indent=2)\n",
    "        \n",
    "print(\"\\n Hoàn tất tạo nhãn segmentation tự động theo format Labelme!\")\n",
    "print(f\" Tất cả file .json nằm trong: {output_dir}\")"
   ]
  },
  {
   "cell_type": "markdown",
   "id": "c17394c0",
   "metadata": {},
   "source": [
    "**Chuyển dữ liệu sang định dạng để huấn luyện được với YOLO model**"
   ]
  },
  {
   "cell_type": "code",
   "execution_count": 8,
   "id": "92fb51bb",
   "metadata": {},
   "outputs": [
    {
     "name": "stdout",
     "output_type": "stream",
     "text": [
      "Classes: ['bike', 'cars', 'cats', 'data', 'dogs', 'flowers', 'horses', 'human']\n"
     ]
    }
   ],
   "source": [
    "import os\n",
    "import json\n",
    "import shutil\n",
    "import random\n",
    "from tqdm import tqdm\n",
    "from PIL import Image\n",
    "\n",
    "# === Cấu hình ===\n",
    "LABELME_DIR = \"C:/Users/admin/.cache/kagglehub/datasets/pavansanagapati/images-dataset/versions/1/labels_auto\"\n",
    "YOLO_DIR = \"C:/Users/admin/OneDrive - National Economics University/Desktop/Các Folder/Label/dataset_yolo\"\n",
    "SPLIT_RATIO = 0.8  # train 80%, val 20%\n",
    "CLASSES = sorted(os.listdir(LABELME_DIR))\n",
    "\n",
    "# === Tạo cấu trúc YOLO dataset ===\n",
    "os.makedirs(f\"{YOLO_DIR}/images/train\", exist_ok=True)\n",
    "os.makedirs(f\"{YOLO_DIR}/images/val\", exist_ok=True)\n",
    "os.makedirs(f\"{YOLO_DIR}/labels/train\", exist_ok=True)\n",
    "os.makedirs(f\"{YOLO_DIR}/labels/val\", exist_ok=True)\n",
    "\n",
    "print(\"Classes:\", CLASSES)"
   ]
  },
  {
   "cell_type": "code",
   "execution_count": 9,
   "id": "9804ecb6",
   "metadata": {},
   "outputs": [
    {
     "name": "stderr",
     "output_type": "stream",
     "text": [
      "Converting bike: 100%|██████████| 365/365 [00:09<00:00, 37.40it/s]\n",
      "Converting cars: 100%|██████████| 420/420 [00:11<00:00, 36.78it/s]\n",
      "Converting cats: 100%|██████████| 202/202 [00:03<00:00, 54.34it/s]\n",
      "Converting data: 0it [00:00, ?it/s]\n",
      "Converting dogs: 100%|██████████| 202/202 [00:03<00:00, 51.09it/s]\n",
      "Converting flowers: 0it [00:00, ?it/s]\n",
      "Converting horses: 100%|██████████| 202/202 [00:03<00:00, 61.38it/s]\n",
      "Converting human: 100%|██████████| 202/202 [00:03<00:00, 52.63it/s]"
     ]
    },
    {
     "name": "stdout",
     "output_type": "stream",
     "text": [
      "\n",
      " Đã convert toàn bộ Labelme JSON ➜ YOLOv12 segmentation format!\n"
     ]
    },
    {
     "name": "stderr",
     "output_type": "stream",
     "text": [
      "\n"
     ]
    }
   ],
   "source": [
    "# === Hàm chuyển polygon sang YOLO segmentation ===\n",
    "def polygon_to_yolo(points, width, height):\n",
    "    yolo_points = []\n",
    "    for (x, y) in points:\n",
    "        yolo_points.append(x / width)\n",
    "        yolo_points.append(y / height)\n",
    "    return yolo_points\n",
    "\n",
    "# === Duyệt qua từng class ===\n",
    "for class_id, cls_name in enumerate(CLASSES):\n",
    "    cls_path = os.path.join(LABELME_DIR, cls_name)\n",
    "    imgs = [f for f in os.listdir(cls_path) if f.endswith('.json')]\n",
    "    random.shuffle(imgs)\n",
    "    split_idx = int(len(imgs) * SPLIT_RATIO)\n",
    "\n",
    "    for i, json_file in enumerate(tqdm(imgs, desc=f\"Converting {cls_name}\")):\n",
    "        split = \"train\" if i < split_idx else \"val\"\n",
    "        json_path = os.path.join(cls_path, json_file)\n",
    "        with open(json_path, 'r') as f:\n",
    "            data = json.load(f)\n",
    "        \n",
    "        img_name = data[\"imagePath\"]\n",
    "        img_path = os.path.join(LABELME_DIR, cls_name, img_name)\n",
    "        \n",
    "        # Copy image sang thư mục YOLO\n",
    "        dst_img_path = os.path.join(YOLO_DIR, f\"images/{split}/{cls_name}_{img_name}\")\n",
    "        if os.path.exists(img_path):\n",
    "            shutil.copy(img_path, dst_img_path)\n",
    "        \n",
    "        # Ghi file label .txt\n",
    "        txt_path = os.path.join(YOLO_DIR, f\"labels/{split}/{cls_name}_{img_name.replace('.jpg','.txt').replace('.png','.txt').replace('.bmp','.txt')}\")\n",
    "        width, height = data[\"imageWidth\"], data[\"imageHeight\"]\n",
    "\n",
    "        with open(txt_path, 'w') as f_txt:\n",
    "            for shape in data[\"shapes\"]:\n",
    "                pts = shape[\"points\"]\n",
    "                yolo_pts = polygon_to_yolo(pts, width, height)\n",
    "                pts_str = \" \".join(map(str, yolo_pts))\n",
    "                f_txt.write(f\"{class_id} {pts_str}\\n\")\n",
    "\n",
    "print(\"\\n Đã convert toàn bộ Labelme JSON ➜ YOLOv12 segmentation format!\")"
   ]
  },
  {
   "cell_type": "code",
   "execution_count": null,
   "id": "824d420d",
   "metadata": {},
   "outputs": [],
   "source": [
    "# === Tạo file data.yaml ===\n",
    "yaml_content = f\"\"\"train: {YOLO_DIR}/images/train\n",
    "val: {YOLO_DIR}/images/val\n",
    "\n",
    "nc: {len(CLASSES)}\n",
    "names: {CLASSES}\n",
    "\"\"\"\n",
    "with open(os.path.join(YOLO_DIR, \"data.yaml\"), \"w\") as f:\n",
    "    f.write(yaml_content)\n",
    "\n",
    "print(\" Tạo file data.yaml thành công!\")\n",
    "print(f\" Dataset YOLO lưu tại: {YOLO_DIR}\")"
   ]
  }
 ],
 "metadata": {
  "kernelspec": {
   "display_name": "auto_label_env",
   "language": "python",
   "name": "python3"
  },
  "language_info": {
   "codemirror_mode": {
    "name": "ipython",
    "version": 3
   },
   "file_extension": ".py",
   "mimetype": "text/x-python",
   "name": "python",
   "nbconvert_exporter": "python",
   "pygments_lexer": "ipython3",
   "version": "3.9.13"
  }
 },
 "nbformat": 4,
 "nbformat_minor": 5
}
